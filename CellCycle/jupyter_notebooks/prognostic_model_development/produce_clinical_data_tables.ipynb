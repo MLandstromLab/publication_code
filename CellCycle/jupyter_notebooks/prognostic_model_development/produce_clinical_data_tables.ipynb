{
 "cells": [
  {
   "cell_type": "markdown",
   "id": "4d818b24-dccd-471f-901a-ea18536dda3a",
   "metadata": {},
   "source": [
    "# Produce clinical data tables"
   ]
  },
  {
   "cell_type": "code",
   "execution_count": 30,
   "id": "a6f09c70-3d34-403e-ac2b-827ce038ed3d",
   "metadata": {},
   "outputs": [],
   "source": [
    "library(WriteXLS)"
   ]
  },
  {
   "cell_type": "code",
   "execution_count": 31,
   "id": "cbc3a4f9-d25b-4e35-900a-46e67c5150b0",
   "metadata": {},
   "outputs": [],
   "source": [
    "# Results for analysis done with clinical end point having highest number of events \n",
    "results.root.dir = \"/lustre/projects/landstrom_core/results/prognostic_model_development_revised/models_by_cancer_type/\"\n",
    "# List the directories for each cancer type\n",
    "cancer.dirs = list.files(results.root.dir)"
   ]
  },
  {
   "cell_type": "code",
   "execution_count": 32,
   "id": "fa9eb5e0-8af1-4832-b4e7-eed03f7aee2d",
   "metadata": {},
   "outputs": [
    {
     "data": {
      "text/html": [
       "<style>\n",
       ".list-inline {list-style: none; margin:0; padding: 0}\n",
       ".list-inline>li {display: inline-block}\n",
       ".list-inline>li:not(:last-child)::after {content: \"\\00b7\"; padding: 0 .5ex}\n",
       "</style>\n",
       "<ol class=list-inline><li>'ACC'</li><li>'BLCA'</li><li>'BRCA'</li><li>'CESC'</li><li>'CHOL'</li><li>'COAD'</li><li>'DLBC'</li><li>'ESCA'</li><li>'GBM'</li><li>'HNSC'</li><li>'KICH'</li><li>'KIRC'</li><li>'KIRP'</li><li>'LAML'</li><li>'LGG'</li><li>'LIHC'</li><li>'LUAD'</li><li>'LUSC'</li><li>'MESO'</li><li>'OV'</li><li>'PAAD'</li><li>'PCPG'</li><li>'PRAD'</li><li>'READ'</li><li>'READ_and_COAD'</li><li>'SARC'</li><li>'SKCM'</li><li>'STAD'</li><li>'TGCT'</li><li>'THCA'</li><li>'THYM'</li><li>'UCEC'</li><li>'UVM'</li></ol>\n"
      ],
      "text/latex": [
       "\\begin{enumerate*}\n",
       "\\item 'ACC'\n",
       "\\item 'BLCA'\n",
       "\\item 'BRCA'\n",
       "\\item 'CESC'\n",
       "\\item 'CHOL'\n",
       "\\item 'COAD'\n",
       "\\item 'DLBC'\n",
       "\\item 'ESCA'\n",
       "\\item 'GBM'\n",
       "\\item 'HNSC'\n",
       "\\item 'KICH'\n",
       "\\item 'KIRC'\n",
       "\\item 'KIRP'\n",
       "\\item 'LAML'\n",
       "\\item 'LGG'\n",
       "\\item 'LIHC'\n",
       "\\item 'LUAD'\n",
       "\\item 'LUSC'\n",
       "\\item 'MESO'\n",
       "\\item 'OV'\n",
       "\\item 'PAAD'\n",
       "\\item 'PCPG'\n",
       "\\item 'PRAD'\n",
       "\\item 'READ'\n",
       "\\item 'READ\\_and\\_COAD'\n",
       "\\item 'SARC'\n",
       "\\item 'SKCM'\n",
       "\\item 'STAD'\n",
       "\\item 'TGCT'\n",
       "\\item 'THCA'\n",
       "\\item 'THYM'\n",
       "\\item 'UCEC'\n",
       "\\item 'UVM'\n",
       "\\end{enumerate*}\n"
      ],
      "text/markdown": [
       "1. 'ACC'\n",
       "2. 'BLCA'\n",
       "3. 'BRCA'\n",
       "4. 'CESC'\n",
       "5. 'CHOL'\n",
       "6. 'COAD'\n",
       "7. 'DLBC'\n",
       "8. 'ESCA'\n",
       "9. 'GBM'\n",
       "10. 'HNSC'\n",
       "11. 'KICH'\n",
       "12. 'KIRC'\n",
       "13. 'KIRP'\n",
       "14. 'LAML'\n",
       "15. 'LGG'\n",
       "16. 'LIHC'\n",
       "17. 'LUAD'\n",
       "18. 'LUSC'\n",
       "19. 'MESO'\n",
       "20. 'OV'\n",
       "21. 'PAAD'\n",
       "22. 'PCPG'\n",
       "23. 'PRAD'\n",
       "24. 'READ'\n",
       "25. 'READ_and_COAD'\n",
       "26. 'SARC'\n",
       "27. 'SKCM'\n",
       "28. 'STAD'\n",
       "29. 'TGCT'\n",
       "30. 'THCA'\n",
       "31. 'THYM'\n",
       "32. 'UCEC'\n",
       "33. 'UVM'\n",
       "\n",
       "\n"
      ],
      "text/plain": [
       " [1] \"ACC\"           \"BLCA\"          \"BRCA\"          \"CESC\"         \n",
       " [5] \"CHOL\"          \"COAD\"          \"DLBC\"          \"ESCA\"         \n",
       " [9] \"GBM\"           \"HNSC\"          \"KICH\"          \"KIRC\"         \n",
       "[13] \"KIRP\"          \"LAML\"          \"LGG\"           \"LIHC\"         \n",
       "[17] \"LUAD\"          \"LUSC\"          \"MESO\"          \"OV\"           \n",
       "[21] \"PAAD\"          \"PCPG\"          \"PRAD\"          \"READ\"         \n",
       "[25] \"READ_and_COAD\" \"SARC\"          \"SKCM\"          \"STAD\"         \n",
       "[29] \"TGCT\"          \"THCA\"          \"THYM\"          \"UCEC\"         \n",
       "[33] \"UVM\"          "
      ]
     },
     "metadata": {},
     "output_type": "display_data"
    }
   ],
   "source": [
    "cancer.dirs"
   ]
  },
  {
   "cell_type": "markdown",
   "id": "e3b211a5-fae6-4242-979d-0f45f4dfbf33",
   "metadata": {},
   "source": [
    "Iterate over the cancer directories"
   ]
  },
  {
   "cell_type": "code",
   "execution_count": 37,
   "id": "3f2ffc78-34eb-47b4-92d2-100ae8725a30",
   "metadata": {},
   "outputs": [],
   "source": [
    "clinical.data.res = list()"
   ]
  },
  {
   "cell_type": "code",
   "execution_count": 38,
   "id": "0b103006-2599-4ec0-9a3f-33da72f6674e",
   "metadata": {},
   "outputs": [],
   "source": [
    "for (ctype in cancer.dirs) {\n",
    "    \n",
    "    final.results = readRDS(file.path(results.root.dir,ctype, \"Final_results_collection.rds\"))\n",
    "    if ((\"Clin_Feature_summary_stats\") %in% names(final.results)){\n",
    "        clinical.data.res[[ctype]] = final.results$Clin_Feature_summary_stats\n",
    "    }\n",
    "}\n",
    "    "
   ]
  },
  {
   "cell_type": "code",
   "execution_count": 39,
   "id": "95e65997-ab3c-43da-b8a4-4ecd83b63368",
   "metadata": {},
   "outputs": [],
   "source": [
    "WriteXLS(x = clinical.data.res, ExcelFileName = \"/lustre/projects/landstrom_core/results/prognostic_model_development_revised/clinical_data_tables.xls\", SheetNames = names(clinical.data.res))"
   ]
  },
  {
   "cell_type": "code",
   "execution_count": 40,
   "id": "692f0f13-6839-4a80-8508-13fbd9e5e02c",
   "metadata": {},
   "outputs": [
    {
     "data": {
      "text/html": [
       "33"
      ],
      "text/latex": [
       "33"
      ],
      "text/markdown": [
       "33"
      ],
      "text/plain": [
       "[1] 33"
      ]
     },
     "metadata": {},
     "output_type": "display_data"
    }
   ],
   "source": [
    "length(clinical.data.res)"
   ]
  },
  {
   "cell_type": "code",
   "execution_count": null,
   "id": "030bd272-035c-4232-996f-6932e0726584",
   "metadata": {},
   "outputs": [],
   "source": []
  }
 ],
 "metadata": {
  "kernelspec": {
   "display_name": "r4.2.2",
   "language": "R",
   "name": "r4.2.2"
  },
  "language_info": {
   "codemirror_mode": "r",
   "file_extension": ".r",
   "mimetype": "text/x-r-source",
   "name": "R",
   "pygments_lexer": "r",
   "version": "4.2.2"
  }
 },
 "nbformat": 4,
 "nbformat_minor": 5
}
