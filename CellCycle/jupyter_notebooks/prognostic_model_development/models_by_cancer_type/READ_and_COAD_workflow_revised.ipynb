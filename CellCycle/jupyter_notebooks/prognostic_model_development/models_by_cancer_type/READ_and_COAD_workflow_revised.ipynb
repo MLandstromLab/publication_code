{
 "cells": [
  {
   "cell_type": "markdown",
   "id": "1aef3bd0-0f39-4393-a4f6-f4a76b961e68",
   "metadata": {},
   "source": [
    "# COAD AND READ : Cox-regression with elastic net regularization\n",
    "\n",
    "# Introduction\n",
    "\n",
    "The purpose of this workflow is to introduce the KM based feature selection followed by regularised cox regression analysis using ENET. We have now \n",
    "updated the workflow according the reviewer comments. VST transformation is now done separately for the trainging and test sets.\n",
    "\n",
    "# Preparing workspace"
   ]
  },
  {
   "cell_type": "code",
   "execution_count": 1,
   "id": "1b83de9e-fe8a-4eac-974d-3935a582bd04",
   "metadata": {
    "tags": []
   },
   "outputs": [
    {
     "name": "stderr",
     "output_type": "stream",
     "text": [
      "── \u001b[1mAttaching core tidyverse packages\u001b[22m ──────────────────────── tidyverse 2.0.0 ──\n",
      "\u001b[32m✔\u001b[39m \u001b[34mdplyr    \u001b[39m 1.1.3     \u001b[32m✔\u001b[39m \u001b[34mreadr    \u001b[39m 2.1.4\n",
      "\u001b[32m✔\u001b[39m \u001b[34mforcats  \u001b[39m 1.0.0     \u001b[32m✔\u001b[39m \u001b[34mstringr  \u001b[39m 1.5.0\n",
      "\u001b[32m✔\u001b[39m \u001b[34mggplot2  \u001b[39m 3.4.0     \u001b[32m✔\u001b[39m \u001b[34mtibble   \u001b[39m 3.2.1\n",
      "\u001b[32m✔\u001b[39m \u001b[34mlubridate\u001b[39m 1.9.2     \u001b[32m✔\u001b[39m \u001b[34mtidyr    \u001b[39m 1.2.1\n",
      "\u001b[32m✔\u001b[39m \u001b[34mpurrr    \u001b[39m 1.0.2     \n",
      "── \u001b[1mConflicts\u001b[22m ────────────────────────────────────────── tidyverse_conflicts() ──\n",
      "\u001b[31m✖\u001b[39m \u001b[34mdplyr\u001b[39m::\u001b[32mfilter()\u001b[39m masks \u001b[34mstats\u001b[39m::filter()\n",
      "\u001b[31m✖\u001b[39m \u001b[34mdplyr\u001b[39m::\u001b[32mlag()\u001b[39m    masks \u001b[34mstats\u001b[39m::lag()\n",
      "\u001b[36mℹ\u001b[39m Use the conflicted package (\u001b[3m\u001b[34m<http://conflicted.r-lib.org/>\u001b[39m\u001b[23m) to force all conflicts to become errors\n",
      "Loading required package: ggpubr\n",
      "\n",
      "\n",
      "Attaching package: ‘survminer’\n",
      "\n",
      "\n",
      "The following object is masked from ‘package:survival’:\n",
      "\n",
      "    myeloma\n",
      "\n",
      "\n",
      "Loading required package: Matrix\n",
      "\n",
      "\n",
      "Attaching package: ‘Matrix’\n",
      "\n",
      "\n",
      "The following objects are masked from ‘package:tidyr’:\n",
      "\n",
      "    expand, pack, unpack\n",
      "\n",
      "\n",
      "Loaded glmnet 4.1-8\n",
      "\n",
      "========================================\n",
      "circlize version 0.4.15\n",
      "CRAN page: https://cran.r-project.org/package=circlize\n",
      "Github page: https://github.com/jokergoo/circlize\n",
      "Documentation: https://jokergoo.github.io/circlize_book/book/\n",
      "\n",
      "If you use it in published research, please cite:\n",
      "Gu, Z. circlize implements and enhances circular visualization\n",
      "  in R. Bioinformatics 2014.\n",
      "\n",
      "This message can be suppressed by:\n",
      "  suppressPackageStartupMessages(library(circlize))\n",
      "========================================\n",
      "\n",
      "\n",
      "Loading required package: grid\n",
      "\n",
      "========================================\n",
      "ComplexHeatmap version 2.14.0\n",
      "Bioconductor page: http://bioconductor.org/packages/ComplexHeatmap/\n",
      "Github page: https://github.com/jokergoo/ComplexHeatmap\n",
      "Documentation: http://jokergoo.github.io/ComplexHeatmap-reference\n",
      "\n",
      "If you use it in published research, please cite either one:\n",
      "- Gu, Z. Complex Heatmap Visualization. iMeta 2022.\n",
      "- Gu, Z. Complex heatmaps reveal patterns and correlations in multidimensional \n",
      "    genomic data. Bioinformatics 2016.\n",
      "\n",
      "\n",
      "The new InteractiveComplexHeatmap package can directly export static \n",
      "complex heatmaps into an interactive Shiny app with zero effort. Have a try!\n",
      "\n",
      "This message can be suppressed by:\n",
      "  suppressPackageStartupMessages(library(ComplexHeatmap))\n",
      "========================================\n",
      "\n",
      "\n",
      "Loading required package: prodlim\n",
      "\n",
      "Loading required package: S4Vectors\n",
      "\n",
      "Loading required package: stats4\n",
      "\n",
      "Loading required package: BiocGenerics\n",
      "\n",
      "\n",
      "Attaching package: ‘BiocGenerics’\n",
      "\n",
      "\n",
      "The following objects are masked from ‘package:lubridate’:\n",
      "\n",
      "    intersect, setdiff, union\n",
      "\n",
      "\n",
      "The following objects are masked from ‘package:dplyr’:\n",
      "\n",
      "    combine, intersect, setdiff, union\n",
      "\n",
      "\n",
      "The following objects are masked from ‘package:stats’:\n",
      "\n",
      "    IQR, mad, sd, var, xtabs\n",
      "\n",
      "\n",
      "The following objects are masked from ‘package:base’:\n",
      "\n",
      "    anyDuplicated, aperm, append, as.data.frame, basename, cbind,\n",
      "    colnames, dirname, do.call, duplicated, eval, evalq, Filter, Find,\n",
      "    get, grep, grepl, intersect, is.unsorted, lapply, Map, mapply,\n",
      "    match, mget, order, paste, pmax, pmax.int, pmin, pmin.int,\n",
      "    Position, rank, rbind, Reduce, rownames, sapply, setdiff, sort,\n",
      "    table, tapply, union, unique, unsplit, which.max, which.min\n",
      "\n",
      "\n",
      "\n",
      "Attaching package: ‘S4Vectors’\n",
      "\n",
      "\n",
      "The following objects are masked from ‘package:Matrix’:\n",
      "\n",
      "    expand, unname\n",
      "\n",
      "\n",
      "The following objects are masked from ‘package:lubridate’:\n",
      "\n",
      "    second, second<-\n",
      "\n",
      "\n",
      "The following objects are masked from ‘package:dplyr’:\n",
      "\n",
      "    first, rename\n",
      "\n",
      "\n",
      "The following object is masked from ‘package:tidyr’:\n",
      "\n",
      "    expand\n",
      "\n",
      "\n",
      "The following objects are masked from ‘package:base’:\n",
      "\n",
      "    expand.grid, I, unname\n",
      "\n",
      "\n",
      "Loading required package: IRanges\n",
      "\n",
      "\n",
      "Attaching package: ‘IRanges’\n",
      "\n",
      "\n",
      "The following object is masked from ‘package:lubridate’:\n",
      "\n",
      "    %within%\n",
      "\n",
      "\n",
      "The following objects are masked from ‘package:dplyr’:\n",
      "\n",
      "    collapse, desc, slice\n",
      "\n",
      "\n",
      "The following object is masked from ‘package:purrr’:\n",
      "\n",
      "    reduce\n",
      "\n",
      "\n",
      "Loading required package: GenomicRanges\n",
      "\n",
      "Loading required package: GenomeInfoDb\n",
      "\n",
      "Loading required package: SummarizedExperiment\n",
      "\n",
      "Loading required package: MatrixGenerics\n",
      "\n",
      "Loading required package: matrixStats\n",
      "\n",
      "\n",
      "Attaching package: ‘matrixStats’\n",
      "\n",
      "\n",
      "The following object is masked from ‘package:dplyr’:\n",
      "\n",
      "    count\n",
      "\n",
      "\n",
      "\n",
      "Attaching package: ‘MatrixGenerics’\n",
      "\n",
      "\n",
      "The following objects are masked from ‘package:matrixStats’:\n",
      "\n",
      "    colAlls, colAnyNAs, colAnys, colAvgsPerRowSet, colCollapse,\n",
      "    colCounts, colCummaxs, colCummins, colCumprods, colCumsums,\n",
      "    colDiffs, colIQRDiffs, colIQRs, colLogSumExps, colMadDiffs,\n",
      "    colMads, colMaxs, colMeans2, colMedians, colMins, colOrderStats,\n",
      "    colProds, colQuantiles, colRanges, colRanks, colSdDiffs, colSds,\n",
      "    colSums2, colTabulates, colVarDiffs, colVars, colWeightedMads,\n",
      "    colWeightedMeans, colWeightedMedians, colWeightedSds,\n",
      "    colWeightedVars, rowAlls, rowAnyNAs, rowAnys, rowAvgsPerColSet,\n",
      "    rowCollapse, rowCounts, rowCummaxs, rowCummins, rowCumprods,\n",
      "    rowCumsums, rowDiffs, rowIQRDiffs, rowIQRs, rowLogSumExps,\n",
      "    rowMadDiffs, rowMads, rowMaxs, rowMeans2, rowMedians, rowMins,\n",
      "    rowOrderStats, rowProds, rowQuantiles, rowRanges, rowRanks,\n",
      "    rowSdDiffs, rowSds, rowSums2, rowTabulates, rowVarDiffs, rowVars,\n",
      "    rowWeightedMads, rowWeightedMeans, rowWeightedMedians,\n",
      "    rowWeightedSds, rowWeightedVars\n",
      "\n",
      "\n",
      "Loading required package: Biobase\n",
      "\n",
      "Welcome to Bioconductor\n",
      "\n",
      "    Vignettes contain introductory material; view with\n",
      "    'browseVignettes()'. To cite Bioconductor, see\n",
      "    'citation(\"Biobase\")', and for packages 'citation(\"pkgname\")'.\n",
      "\n",
      "\n",
      "\n",
      "Attaching package: ‘Biobase’\n",
      "\n",
      "\n",
      "The following object is masked from ‘package:MatrixGenerics’:\n",
      "\n",
      "    rowMedians\n",
      "\n",
      "\n",
      "The following objects are masked from ‘package:matrixStats’:\n",
      "\n",
      "    anyMissing, rowMedians\n",
      "\n",
      "\n"
     ]
    }
   ],
   "source": [
    "setwd(\"/home/data/project_code/landstrom_core/prognostic_model_development/r/notebooks\")\n",
    "\n",
    "library(tidyverse)\n",
    "library(survival)\n",
    "library(survminer)\n",
    "library(glmnet)\n",
    "library(WriteXLS)\n",
    "library(ggfortify)\n",
    "library(circlize)\n",
    "library(ComplexHeatmap)\n",
    "library(parallel)\n",
    "library(broom)\n",
    "library(survcomp)\n",
    "library(survivalROC)\n",
    "library(gtsummary)\n",
    "source(\"../getTCGAData.R\")\n",
    "source(\"../preprocessTCGAData.R\")\n",
    "source(\"../KM_analysis.R\")\n",
    "source(\"../Heatmaps.R\")\n",
    "source(\"../enet.R\")"
   ]
  },
  {
   "cell_type": "markdown",
   "id": "09b72de1-9458-4c4a-a908-8f63c4976281",
   "metadata": {},
   "source": [
    "# Setting up paths and clinical variables"
   ]
  },
  {
   "cell_type": "code",
   "execution_count": 22,
   "id": "33af07c4-5a5c-4097-ac44-0ae9615c1583",
   "metadata": {
    "tags": []
   },
   "outputs": [],
   "source": [
    "# Define the cancer type \n",
    "cancer.type = \"READ_and_COAD\""
   ]
  },
  {
   "cell_type": "code",
   "execution_count": 23,
   "id": "a94a4bf2-33a7-45a3-a340-346216489057",
   "metadata": {
    "tags": []
   },
   "outputs": [
    {
     "name": "stderr",
     "output_type": "stream",
     "text": [
      "Warning message in dir.create(out.dir.data, recursive = T):\n",
      "“'/lustre//projects/landstrom_core/data/rdata/manuscript_work//READ_and_COAD' already exists”\n"
     ]
    }
   ],
   "source": [
    "# Read in the table including the clinical features for each cancer type\n",
    "clin.feat.tb = read.table(\"/lustre//projects/landstrom_core/data/clin_features_final.csv\", sep = \"\\t\", header = T)\n",
    "\n",
    "# Get Clinical variables\n",
    "clin.var = unlist(strsplit(clin.feat.tb$Features[clin.feat.tb$Ctype == cancer.type], split = \",\"))\n",
    "\n",
    "# Ensembl id mapping file \n",
    "ens.id.mapping = \"/home/organisms/Human/hg38/Homo_sapiens.GRCh38_March2022/ENSEMBLE_to_SYMBOL.csv\"\n",
    "\n",
    "# Output dir \n",
    "out.dir.data = file.path(\"/lustre//projects/landstrom_core/data/rdata/manuscript_work/\", cancer.type)\n",
    "dir.create(out.dir.data, recursive = T)"
   ]
  },
  {
   "cell_type": "code",
   "execution_count": 24,
   "id": "4e0cd9d7-afa8-44e5-9d5e-fb9aa27524bd",
   "metadata": {},
   "outputs": [
    {
     "data": {
      "text/html": [
       "<style>\n",
       ".list-inline {list-style: none; margin:0; padding: 0}\n",
       ".list-inline>li {display: inline-block}\n",
       ".list-inline>li:not(:last-child)::after {content: \"\\00b7\"; padding: 0 .5ex}\n",
       "</style>\n",
       "<ol class=list-inline><li>'Age'</li><li>'Tumor.stage'</li><li>'Gender'</li></ol>\n"
      ],
      "text/latex": [
       "\\begin{enumerate*}\n",
       "\\item 'Age'\n",
       "\\item 'Tumor.stage'\n",
       "\\item 'Gender'\n",
       "\\end{enumerate*}\n"
      ],
      "text/markdown": [
       "1. 'Age'\n",
       "2. 'Tumor.stage'\n",
       "3. 'Gender'\n",
       "\n",
       "\n"
      ],
      "text/plain": [
       "[1] \"Age\"         \"Tumor.stage\" \"Gender\"     "
      ]
     },
     "metadata": {},
     "output_type": "display_data"
    }
   ],
   "source": [
    "clin.var"
   ]
  },
  {
   "cell_type": "markdown",
   "id": "d86f342d-b960-43fc-9650-52241cae7b86",
   "metadata": {},
   "source": [
    "# 1. Read in data \n",
    "\n",
    "Now we will read the already processed data and merge the datasets "
   ]
  },
  {
   "cell_type": "code",
   "execution_count": 25,
   "id": "999d178a-6db4-4a67-bdcb-43b6198cc874",
   "metadata": {},
   "outputs": [
    {
     "name": "stderr",
     "output_type": "stream",
     "text": [
      "Warning message in dir.create(out.dir.data, recursive = T):\n",
      "“'/lustre/projects/landstrom_core/data/rdata/manuscript_work/READ_and_COAD' already exists”\n"
     ]
    }
   ],
   "source": [
    "# Indir \n",
    "indir.coad = \"/lustre/projects/landstrom_core/data/rdata/manuscript_work/COAD\"\n",
    "indir.read = \"/lustre/projects/landstrom_core/data/rdata/manuscript_work/READ\" \n",
    "\n",
    "# Output dir \n",
    "out.dir.data = \"/lustre/projects/landstrom_core/data/rdata/manuscript_work/READ_and_COAD\"\n",
    "dir.create(out.dir.data, recursive = T)"
   ]
  },
  {
   "cell_type": "code",
   "execution_count": 26,
   "id": "e9690efa-810d-4160-8035-69318dc80329",
   "metadata": {},
   "outputs": [],
   "source": [
    "# Read in the data \n",
    "tcga.COAD.dataset = readRDS(file.path(indir.coad, \"tcga.dataset.rds\"))\n",
    "tcga.READ.dataset = readRDS(file.path(indir.read, \"tcga.dataset.rds\"))\n",
    "\n",
    "# Raw expression data \n",
    "tcga.COAD.raw.exp = readRDS(file.path(indir.coad, \"raw_expressions.rds\"))\n",
    "tcga.READ.raw.exp = readRDS(file.path(indir.read, \"raw_expressions.rds\"))\n",
    "\n",
    "# Merge the processed datasets \n",
    "tcga.merged.dataset = bind_rows(tcga.COAD.dataset, tcga.READ.dataset)\n",
    "\n",
    "# Merge the raw datasets \n",
    "tcga.merged.raw.exp = bind_cols(tcga.COAD.raw.exp, tcga.READ.raw.exp)\n",
    "\n",
    "# Save merged dataset \n",
    "saveRDS(tcga.merged.dataset, file = file.path(out.dir.data, \"tcga.merged.dataset.rds\"))\n",
    "saveRDS(tcga.merged.raw.exp, file = file.path(out.dir.data, \"raw_expressions.rds\"))"
   ]
  },
  {
   "cell_type": "markdown",
   "id": "730f04a5-07a9-4bcf-8f84-edaf43287e76",
   "metadata": {},
   "source": [
    "# 3. KM based univariate feature selection\n",
    "\n",
    "We will now perform the univariate feature selection which is the first phase of \n",
    "the actual analysis. The idea is to prefilter some features which have no predictive \n",
    "power regarding survival. We will select one clinical end point which seems to carry \n",
    "most events to maximise the statistical power. \n",
    "\n",
    "## 3.1 Loading data and selection of variables \n",
    "\n",
    "Load the dataset if needed"
   ]
  },
  {
   "cell_type": "code",
   "execution_count": 27,
   "id": "731c70a0-820d-4a47-8489-224a728cf208",
   "metadata": {
    "tags": []
   },
   "outputs": [],
   "source": [
    "# Read in the preprocessed dataset if continued \n",
    "#tcga.dataset = readRDS(file.path(out.dir.data, \"tcga.dataset.rds\"))\n",
    "\n",
    "# Raw expression data \n",
    "#tcga.expr.raw.datamat = readRDS(file.path(out.dir.data, \"raw_expressions.rds\"))"
   ]
  },
  {
   "cell_type": "markdown",
   "id": "520e3add-db1c-4011-b1b6-f17207295d84",
   "metadata": {},
   "source": [
    "Define and create output directories "
   ]
  },
  {
   "cell_type": "code",
   "execution_count": 28,
   "id": "5f1d1c67-8e30-41af-8eeb-a2c031dc7fd0",
   "metadata": {
    "tags": []
   },
   "outputs": [
    {
     "name": "stderr",
     "output_type": "stream",
     "text": [
      "Warning message in dir.create(dir.res.root, recursive = T):\n",
      "“'/lustre/projects/landstrom_core/results/fromWorkstation2_050224/prognostic_model_development/models_by_cancer_type//READ_and_COAD' already exists”\n",
      "Warning message in dir.create(dir.res.km):\n",
      "“'/lustre/projects/landstrom_core/results/fromWorkstation2_050224/prognostic_model_development/models_by_cancer_type//READ_and_COAD/Kaplan_Meier_plots' already exists”\n"
     ]
    }
   ],
   "source": [
    "# Define and create the root directory for results \n",
    "dir.res.root = file.path(\"/lustre/projects/landstrom_core/results/fromWorkstation2_050224/prognostic_model_development/models_by_cancer_type/\", cancer.type)\n",
    "dir.create(dir.res.root, recursive = T)\n",
    "\n",
    "# Define and create the results for the KM analysis \n",
    "dir.res.km = file.path(dir.res.root, \"Kaplan_Meier_plots\")\n",
    "dir.create(dir.res.km)"
   ]
  },
  {
   "cell_type": "markdown",
   "id": "34c37d0e-e639-4220-9dfe-54f30b073d27",
   "metadata": {},
   "source": [
    "Read in the gene list of interest including the customer genes"
   ]
  },
  {
   "cell_type": "code",
   "execution_count": 29,
   "id": "391f1793-4283-4de2-a8d4-c739586b70c1",
   "metadata": {
    "tags": []
   },
   "outputs": [],
   "source": [
    "# Gene list  \n",
    "gene.list.file = read.table(\"/lustre/projects/landstrom_core/data/Customer_genes.tsv\", \n",
    "                            sep = \"\\t\", header = F)\n",
    "gene.list = gene.list.file$V1"
   ]
  },
  {
   "cell_type": "markdown",
   "id": "c8af2ebb-8a5d-45f5-89d5-444b522346d6",
   "metadata": {},
   "source": [
    "Tabulate the number of events. Value 0 means sensored and value 1 an event."
   ]
  },
  {
   "cell_type": "code",
   "execution_count": 30,
   "id": "a8c9d088-7766-4ca3-a237-194e0dcf81f3",
   "metadata": {
    "tags": []
   },
   "outputs": [
    {
     "name": "stderr",
     "output_type": "stream",
     "text": [
      "\u001b[1m\u001b[22m`summarise()` has grouped output by 'name'. You can override using the\n",
      "`.groups` argument.\n"
     ]
    }
   ],
   "source": [
    "clinical.end.point.stats = tcga.merged.dataset$CLIN %>% \n",
    "                                   dplyr::select(c(\"OS.clin\",\"DSS.clin\",\"DFI.clin\",\"PFI.clin\")) %>%\n",
    "                                   pivot_longer(everything()) %>%\n",
    "                                   mutate(value = factor(value)) %>%\n",
    "                                   group_by(name, value) %>%\n",
    "                                   summarise(N = n()) %>% \n",
    "                                   pivot_wider(names_from =  value,\n",
    "                                               values_from = N)"
   ]
  },
  {
   "cell_type": "code",
   "execution_count": 31,
   "id": "d68f7f9a-34bf-4013-9890-05d7982a2ab7",
   "metadata": {},
   "outputs": [
    {
     "data": {
      "text/html": [
       "<table class=\"dataframe\">\n",
       "<caption>A grouped_df: 4 × 4</caption>\n",
       "<thead>\n",
       "\t<tr><th scope=col>name</th><th scope=col>0</th><th scope=col>1</th><th scope=col>NA</th></tr>\n",
       "\t<tr><th scope=col>&lt;chr&gt;</th><th scope=col>&lt;int&gt;</th><th scope=col>&lt;int&gt;</th><th scope=col>&lt;int&gt;</th></tr>\n",
       "</thead>\n",
       "<tbody>\n",
       "\t<tr><td>DFI.clin</td><td>207</td><td> 31</td><td>395</td></tr>\n",
       "\t<tr><td>DSS.clin</td><td>528</td><td> 79</td><td> 26</td></tr>\n",
       "\t<tr><td>OS.clin </td><td>501</td><td>128</td><td>  4</td></tr>\n",
       "\t<tr><td>PFI.clin</td><td>467</td><td>162</td><td>  4</td></tr>\n",
       "</tbody>\n",
       "</table>\n"
      ],
      "text/latex": [
       "A grouped\\_df: 4 × 4\n",
       "\\begin{tabular}{llll}\n",
       " name & 0 & 1 & NA\\\\\n",
       " <chr> & <int> & <int> & <int>\\\\\n",
       "\\hline\n",
       "\t DFI.clin & 207 &  31 & 395\\\\\n",
       "\t DSS.clin & 528 &  79 &  26\\\\\n",
       "\t OS.clin  & 501 & 128 &   4\\\\\n",
       "\t PFI.clin & 467 & 162 &   4\\\\\n",
       "\\end{tabular}\n"
      ],
      "text/markdown": [
       "\n",
       "A grouped_df: 4 × 4\n",
       "\n",
       "| name &lt;chr&gt; | 0 &lt;int&gt; | 1 &lt;int&gt; | NA &lt;int&gt; |\n",
       "|---|---|---|---|\n",
       "| DFI.clin | 207 |  31 | 395 |\n",
       "| DSS.clin | 528 |  79 |  26 |\n",
       "| OS.clin  | 501 | 128 |   4 |\n",
       "| PFI.clin | 467 | 162 |   4 |\n",
       "\n"
      ],
      "text/plain": [
       "  name     0   1   NA \n",
       "1 DFI.clin 207  31 395\n",
       "2 DSS.clin 528  79  26\n",
       "3 OS.clin  501 128   4\n",
       "4 PFI.clin 467 162   4"
      ]
     },
     "metadata": {},
     "output_type": "display_data"
    }
   ],
   "source": [
    "clinical.end.point.stats"
   ]
  },
  {
   "cell_type": "markdown",
   "id": "2cd30bf0-60b1-4081-8ab9-7fed4b5a1b4e",
   "metadata": {},
   "source": [
    "## 3.2 Splitting dataset into training and validation set\n",
    "\n",
    "Here we change the original workflow such that we run the analysis for all clinical end points."
   ]
  },
  {
   "cell_type": "code",
   "execution_count": 37,
   "id": "another-breast",
   "metadata": {
    "tags": []
   },
   "outputs": [],
   "source": [
    "# Here we store all the training and validation splits \n",
    "train_and_validation_ls = list()\n",
    "\n",
    "# Variables selected \n",
    "variables_selected_ls = list()\n",
    "\n",
    "# Number of samples in training and validation cohorts \n",
    "nsamples_step1_ls = list()"
   ]
  },
  {
   "cell_type": "code",
   "execution_count": 38,
   "id": "concrete-festival",
   "metadata": {
    "tags": []
   },
   "outputs": [],
   "source": [
    "selectVariables = function(clinical.endpoint,\n",
    "                           clinical.variables,\n",
    "                           gene.list, \n",
    "                           data.suffixes){\n",
    "\n",
    "    # Construct the clinical features   \n",
    "    clinical.features =  c(paste0(clinical.endpoint, \".clin\"),\n",
    "                           paste0(clinical.endpoint, \".time.clin\"),\n",
    "                           paste0(clinical.variables, \".clin\"))\n",
    "\n",
    "    # Constructed the sequencing data features \n",
    "    seq.features = unlist(map(data.suffixes, \n",
    "                           .f = function(x, gene.list){paste(gene.list, x, sep = \".\")}, \n",
    "                           gene.list = gene.list))\n",
    "\n",
    "    # Construct the list of variables \n",
    "    feature.ls = c(clinical.features, seq.features)\n",
    "\n",
    "    return(feature.ls)\n",
    "}\n"
   ]
  },
  {
   "cell_type": "code",
   "execution_count": 39,
   "id": "identical-netherlands",
   "metadata": {
    "tags": []
   },
   "outputs": [],
   "source": [
    "#\n",
    "# Function for splitting data randomly into \n",
    "# training and validation set \n",
    "#\n",
    "splitCases = function(obj, split, variables, seed) {\n",
    "    \n",
    "    \n",
    "  # keep track of statistics \n",
    "  ncases.initial = c()\n",
    "    \n",
    "  complete.ls = list()\n",
    "    \n",
    "  # We will only select the cases with complete data \n",
    "  for (i in 1:length(names(obj))){\n",
    "      \n",
    "      # Extract the data \n",
    "      data.type = names(obj)[i]\n",
    "      data = obj[[data.type]]\n",
    "      \n",
    "      # Find the variables of interest \n",
    "      variables.dat = variables[variables %in% colnames(data)]\n",
    "      \n",
    "      \n",
    "      # Check how many individuals there are with non missing data\n",
    "      # Boolean\n",
    "      complete = complete.cases(data[,variables.dat])\n",
    "      \n",
    "      complete.ls[[i]] = as.data.frame(complete)\n",
    "      \n",
    "      # Update the number of complete cases\n",
    "      ncases.initial = c(ncases.initial, sum(complete))\n",
    "      \n",
    "      \n",
    "  }\n",
    "    \n",
    "  # Select complete cases \n",
    "  complete.across.all = apply(bind_cols(complete.ls),1, all)\n",
    "    \n",
    "  print(paste0(\"Including \", sum(complete.across.all)  ,\" cases out of \", max(ncases.initial), \" cases\"))\n",
    "\n",
    "  \n",
    "  # Get the list of complete samples to be included \n",
    "  samples.included = obj$CLIN$Participant.ID[complete.across.all]\n",
    "  \n",
    "  if (split != 1.0) {\n",
    "    \n",
    "    set.seed(seed)\n",
    "    trainIdx <- sample(length(samples.included), split*length(samples.included), replace = FALSE)\n",
    "    \n",
    "    samples.train <- samples.included[trainIdx]\n",
    "    samples.valid <- samples.included[-trainIdx]\n",
    "       \n",
    "  } else {\n",
    "    \n",
    "    data.train <- samples.included\n",
    "    data.valid <- samples.included\n",
    "    \n",
    "  } \n",
    "  result.split = list(\"train\" = samples.train,\n",
    "                      \"validation\" = samples.valid)\n",
    "  return(result.split)\n",
    "}\n"
   ]
  },
  {
   "cell_type": "markdown",
   "id": "664d1d34-89a8-4385-b72f-5ce2f274c42d",
   "metadata": {},
   "source": [
    "Divide samples into training and evaluation sets "
   ]
  },
  {
   "cell_type": "code",
   "execution_count": 40,
   "id": "chronic-tracker",
   "metadata": {
    "tags": []
   },
   "outputs": [
    {
     "name": "stderr",
     "output_type": "stream",
     "text": [
      "\u001b[1m\u001b[22mNew names:\n",
      "\u001b[36m•\u001b[39m `complete` -> `complete...1`\n",
      "\u001b[36m•\u001b[39m `complete` -> `complete...2`\n",
      "\u001b[36m•\u001b[39m `complete` -> `complete...3`\n"
     ]
    },
    {
     "name": "stdout",
     "output_type": "stream",
     "text": [
      "[1] \"Including 587 cases out of 622 cases\"\n"
     ]
    },
    {
     "name": "stderr",
     "output_type": "stream",
     "text": [
      "\u001b[1m\u001b[22mNew names:\n",
      "\u001b[36m•\u001b[39m `complete` -> `complete...1`\n",
      "\u001b[36m•\u001b[39m `complete` -> `complete...2`\n",
      "\u001b[36m•\u001b[39m `complete` -> `complete...3`\n"
     ]
    },
    {
     "name": "stdout",
     "output_type": "stream",
     "text": [
      "[1] \"Including 566 cases out of 622 cases\"\n"
     ]
    },
    {
     "name": "stderr",
     "output_type": "stream",
     "text": [
      "\u001b[1m\u001b[22mNew names:\n",
      "\u001b[36m•\u001b[39m `complete` -> `complete...1`\n",
      "\u001b[36m•\u001b[39m `complete` -> `complete...2`\n",
      "\u001b[36m•\u001b[39m `complete` -> `complete...3`\n"
     ]
    },
    {
     "name": "stdout",
     "output_type": "stream",
     "text": [
      "[1] \"Including 214 cases out of 622 cases\"\n"
     ]
    },
    {
     "name": "stderr",
     "output_type": "stream",
     "text": [
      "\u001b[1m\u001b[22mNew names:\n",
      "\u001b[36m•\u001b[39m `complete` -> `complete...1`\n",
      "\u001b[36m•\u001b[39m `complete` -> `complete...2`\n",
      "\u001b[36m•\u001b[39m `complete` -> `complete...3`\n"
     ]
    },
    {
     "name": "stdout",
     "output_type": "stream",
     "text": [
      "[1] \"Including 587 cases out of 622 cases\"\n"
     ]
    }
   ],
   "source": [
    "for (end.point in c(\"OS\",\"DSS\",\"DFI\",\"PFI\")){\n",
    "\n",
    "    \n",
    "    #\n",
    "    # No need to change the first part \n",
    "    #\n",
    "    \n",
    "    # Selected variables \n",
    "    variables.selected = selectVariables(clinical.endpoint = end.point,\n",
    "                                          clinical.variables = clin.var,\n",
    "                                         gene.list = gene.list, \n",
    "                                         data.suffixes = c(\"cn\",\"exp\"))\n",
    "    \n",
    "    variables_selected_ls[[end.point]] = variables.selected\n",
    "    \n",
    "    \n",
    "    #\n",
    "    # Splitting function needs to be change to accommondate the \n",
    "    # altered data structure \n",
    "    #\n",
    "    \n",
    "    # Data set is split randomly into training and validation sets. Only complete cases \n",
    "    # are selected.\n",
    "    train_and_validation = splitCases(obj = tcga.merged.dataset, \n",
    "                                  split = 0.75, \n",
    "                                  variables = variables.selected, \n",
    "                                  seed = 42)\n",
    "    \n",
    "    # Update list\n",
    "    train_and_validation_ls[[end.point]] = train_and_validation \n",
    "    \n",
    "    \n",
    "    # Store number of  \n",
    "    nsamples.step1 = c(length(train_and_validation$train), length(train_and_validation$validation))\n",
    "    names(nsamples.step1) = c(\"ntrain.step1\", \"nvalid.step1\")\n",
    "    nsamples_step1_ls[[end.point]] = nsamples.step1\n",
    "}"
   ]
  },
  {
   "cell_type": "markdown",
   "id": "82bd28e5-c1bd-4fe0-a0ac-8a0efba970de",
   "metadata": {},
   "source": [
    "Split the data set into training and evaluation sets"
   ]
  },
  {
   "cell_type": "code",
   "execution_count": 41,
   "id": "wrong-activity",
   "metadata": {
    "tags": []
   },
   "outputs": [],
   "source": [
    "splitDataset = function(obj, train_and_validation_ls){\n",
    "\n",
    "    # \n",
    "    split.obs.by.endpoint = list()\n",
    "    \n",
    "    for (end.point in names(train_and_validation_ls)){\n",
    "        \n",
    "        train.samples = train_and_validation_ls[[end.point]]$train\n",
    "        validation.samples = train_and_validation_ls[[end.point]]$validation\n",
    "        \n",
    "        # New entry \n",
    "        split.obs.by.endpoint[[end.point]] = list()\n",
    "        \n",
    "        for (data.type in names(obj)){\n",
    "            \n",
    "            split.obs.by.endpoint[[end.point]][[\"CLIN\"]] = list()  \n",
    "            split.obs.by.endpoint[[end.point]][[\"CLIN\"]][[\"train\"]] = obj$CLIN %>% \n",
    "                          dplyr::filter(Participant.ID %in% train.samples)\n",
    "            split.obs.by.endpoint[[end.point]][[\"CLIN\"]][[\"validation\"]] = obj$CLIN %>% \n",
    "                          dplyr::filter(Participant.ID %in% validation.samples)\n",
    "                    \n",
    "            split.obs.by.endpoint[[end.point]][[\"EXP\"]] = list()    \n",
    "            split.obs.by.endpoint[[end.point]][[\"EXP\"]][[\"train\"]] = obj$EXP %>% \n",
    "                          dplyr::filter(Participant.ID %in% train.samples)\n",
    "            split.obs.by.endpoint[[end.point]][[\"EXP\"]][[\"validation\"]] = obj$EXP %>% \n",
    "                          dplyr::filter(Participant.ID %in% validation.samples)\n",
    "            \n",
    "            split.obs.by.endpoint[[end.point]][[\"CN\"]] = list()\n",
    "            split.obs.by.endpoint[[end.point]][[\"CN\"]][[\"train\"]] = obj$CN %>% \n",
    "                          dplyr::filter(Participant.ID %in% train.samples)           \n",
    "            split.obs.by.endpoint[[end.point]][[\"CN\"]][[\"validation\"]] = obj$CN %>% \n",
    "                          dplyr::filter(Participant.ID %in% validation.samples)\n",
    "        }\n",
    "    }\n",
    "    return(split.obs.by.endpoint)\n",
    "}"
   ]
  },
  {
   "cell_type": "code",
   "execution_count": 42,
   "id": "municipal-justice",
   "metadata": {
    "tags": []
   },
   "outputs": [],
   "source": [
    "tcga.dataset.splitted = splitDataset(tcga.merged.dataset, train_and_validation_ls)"
   ]
  },
  {
   "cell_type": "markdown",
   "id": "ea685895-f8ea-497e-8938-d76b7dde1cfb",
   "metadata": {},
   "source": [
    "## Calculate summary statistics for each clinical feature for each end point"
   ]
  },
  {
   "cell_type": "code",
   "execution_count": 43,
   "id": "30ebf8e8-ddb5-41e2-b0f8-c81c9b156c50",
   "metadata": {
    "tags": []
   },
   "outputs": [],
   "source": [
    "convertAge = function(x){\n",
    "    return(x/360)\n",
    "}"
   ]
  },
  {
   "cell_type": "code",
   "execution_count": 46,
   "id": "78f7115a-3f1a-40f6-a3f4-b77f58300988",
   "metadata": {
    "tags": []
   },
   "outputs": [],
   "source": [
    "prepareSummary = function(end.point, data){\n",
    "    # Convert age \n",
    "    data[[end.point]]$CLIN$train$Age.clin = convertAge(data[[end.point]]$CLIN$train$Age.clin)\n",
    "    data[[end.point]]$CLIN$validation$Age.clin = convertAge(data[[end.point]]$CLIN$validation$Age.clin)\n",
    "    \n",
    "    a = data[[end.point]]$CLIN$train %>%\n",
    "          tbl_summary(include = paste0(clin.var, \".clin\"),type = list(Age.clin ~ \"continuous\")) %>% as_tibble()\n",
    "    \n",
    "    \n",
    "    b = data[[end.point]]$CLIN$validation %>%\n",
    "          tbl_summary(include = paste0(clin.var, \".clin\"),type = list(Age.clin ~ \"continuous\")) %>% as_tibble()\n",
    "    \n",
    "    test = cbind(a,b)\n",
    "    \n",
    "    test = test[,-3]\n",
    "    test = t(test)\n",
    "    test = as.data.frame(test)\n",
    "    colnames(test) = test[1,]\n",
    "    test = test[-1, ,drop = F]\n",
    "    test$End.point = end.point\n",
    "    return(test)\n",
    "}"
   ]
  },
  {
   "cell_type": "code",
   "execution_count": 47,
   "id": "f0fe5d4f-bff1-48a5-9ff5-adb212c1fc41",
   "metadata": {
    "tags": []
   },
   "outputs": [],
   "source": [
    "clin.summary.table = bind_rows(map(c(\"OS\",\"DSS\",\"PFI\",\"DFI\"), \n",
    "                prepareSummary, \n",
    "                data = tcga.dataset.splitted))"
   ]
  },
  {
   "cell_type": "code",
   "execution_count": 48,
   "id": "9d04d975-0e01-4692-b2a9-9a45ac21d790",
   "metadata": {},
   "outputs": [
    {
     "data": {
      "text/html": [
       "<table class=\"dataframe\">\n",
       "<caption>A data.frame: 8 × 11</caption>\n",
       "<thead>\n",
       "\t<tr><th></th><th scope=col>Age.clin</th><th scope=col>Tumor.stage.clin</th><th scope=col>Stage 1</th><th scope=col>Stage 2</th><th scope=col>Stage 3</th><th scope=col>Stage 4</th><th scope=col>Gender.clin</th><th scope=col>female</th><th scope=col>male</th><th scope=col>not reported</th><th scope=col>End.point</th></tr>\n",
       "\t<tr><th></th><th scope=col>&lt;chr&gt;</th><th scope=col>&lt;chr&gt;</th><th scope=col>&lt;chr&gt;</th><th scope=col>&lt;chr&gt;</th><th scope=col>&lt;chr&gt;</th><th scope=col>&lt;chr&gt;</th><th scope=col>&lt;chr&gt;</th><th scope=col>&lt;chr&gt;</th><th scope=col>&lt;chr&gt;</th><th scope=col>&lt;chr&gt;</th><th scope=col>&lt;chr&gt;</th></tr>\n",
       "</thead>\n",
       "<tbody>\n",
       "\t<tr><th scope=row>**N = 440**...1</th><td>68 (59, 77)</td><td>NA</td><td>81 (18%)</td><td>166 (38%)</td><td>130 (30%)</td><td>63 (14%)</td><td>NA</td><td>203 (46%)</td><td>237 (54%)</td><td>0 (0%)</td><td>OS </td></tr>\n",
       "\t<tr><th scope=row>**N = 147**...2</th><td>72 (63, 79)</td><td>NA</td><td>23 (16%)</td><td>52 (35%) </td><td>48 (33%) </td><td>24 (16%)</td><td>NA</td><td>74 (50%) </td><td>73 (50%) </td><td>0 (0%)</td><td>OS </td></tr>\n",
       "\t<tr><th scope=row>**N = 424**</th><td>68 (59, 77)</td><td>NA</td><td>86 (20%)</td><td>156 (37%)</td><td>115 (27%)</td><td>67 (16%)</td><td>NA</td><td>195 (46%)</td><td>229 (54%)</td><td>0 (0%)</td><td>DSS</td></tr>\n",
       "\t<tr><th scope=row>**N = 142**</th><td>70 (61, 77)</td><td>NA</td><td>18 (13%)</td><td>53 (37%) </td><td>53 (37%) </td><td>18 (13%)</td><td>NA</td><td>72 (51%) </td><td>70 (49%) </td><td>0 (0%)</td><td>DSS</td></tr>\n",
       "\t<tr><th scope=row>**N = 440**...5</th><td>68 (59, 77)</td><td>NA</td><td>81 (18%)</td><td>166 (38%)</td><td>130 (30%)</td><td>63 (14%)</td><td>NA</td><td>203 (46%)</td><td>237 (54%)</td><td>0 (0%)</td><td>PFI</td></tr>\n",
       "\t<tr><th scope=row>**N = 147**...6</th><td>72 (63, 79)</td><td>NA</td><td>23 (16%)</td><td>52 (35%) </td><td>48 (33%) </td><td>24 (16%)</td><td>NA</td><td>74 (50%) </td><td>73 (50%) </td><td>0 (0%)</td><td>PFI</td></tr>\n",
       "\t<tr><th scope=row>**N = 160**</th><td>68 (58, 76)</td><td>NA</td><td>35 (22%)</td><td>72 (45%) </td><td>53 (33%) </td><td>0 (0%)  </td><td>NA</td><td>71 (44%) </td><td>89 (56%) </td><td>0 (0%)</td><td>DFI</td></tr>\n",
       "\t<tr><th scope=row>**N = 54**</th><td>64 (55, 72)</td><td>NA</td><td>15 (28%)</td><td>22 (41%) </td><td>17 (31%) </td><td>0 (0%)  </td><td>NA</td><td>31 (57%) </td><td>23 (43%) </td><td>0 (0%)</td><td>DFI</td></tr>\n",
       "</tbody>\n",
       "</table>\n"
      ],
      "text/latex": [
       "A data.frame: 8 × 11\n",
       "\\begin{tabular}{r|lllllllllll}\n",
       "  & Age.clin & Tumor.stage.clin & Stage 1 & Stage 2 & Stage 3 & Stage 4 & Gender.clin & female & male & not reported & End.point\\\\\n",
       "  & <chr> & <chr> & <chr> & <chr> & <chr> & <chr> & <chr> & <chr> & <chr> & <chr> & <chr>\\\\\n",
       "\\hline\n",
       "\t**N = 440**...1 & 68 (59, 77) & NA & 81 (18\\%) & 166 (38\\%) & 130 (30\\%) & 63 (14\\%) & NA & 203 (46\\%) & 237 (54\\%) & 0 (0\\%) & OS \\\\\n",
       "\t**N = 147**...2 & 72 (63, 79) & NA & 23 (16\\%) & 52 (35\\%)  & 48 (33\\%)  & 24 (16\\%) & NA & 74 (50\\%)  & 73 (50\\%)  & 0 (0\\%) & OS \\\\\n",
       "\t**N = 424** & 68 (59, 77) & NA & 86 (20\\%) & 156 (37\\%) & 115 (27\\%) & 67 (16\\%) & NA & 195 (46\\%) & 229 (54\\%) & 0 (0\\%) & DSS\\\\\n",
       "\t**N = 142** & 70 (61, 77) & NA & 18 (13\\%) & 53 (37\\%)  & 53 (37\\%)  & 18 (13\\%) & NA & 72 (51\\%)  & 70 (49\\%)  & 0 (0\\%) & DSS\\\\\n",
       "\t**N = 440**...5 & 68 (59, 77) & NA & 81 (18\\%) & 166 (38\\%) & 130 (30\\%) & 63 (14\\%) & NA & 203 (46\\%) & 237 (54\\%) & 0 (0\\%) & PFI\\\\\n",
       "\t**N = 147**...6 & 72 (63, 79) & NA & 23 (16\\%) & 52 (35\\%)  & 48 (33\\%)  & 24 (16\\%) & NA & 74 (50\\%)  & 73 (50\\%)  & 0 (0\\%) & PFI\\\\\n",
       "\t**N = 160** & 68 (58, 76) & NA & 35 (22\\%) & 72 (45\\%)  & 53 (33\\%)  & 0 (0\\%)   & NA & 71 (44\\%)  & 89 (56\\%)  & 0 (0\\%) & DFI\\\\\n",
       "\t**N = 54** & 64 (55, 72) & NA & 15 (28\\%) & 22 (41\\%)  & 17 (31\\%)  & 0 (0\\%)   & NA & 31 (57\\%)  & 23 (43\\%)  & 0 (0\\%) & DFI\\\\\n",
       "\\end{tabular}\n"
      ],
      "text/markdown": [
       "\n",
       "A data.frame: 8 × 11\n",
       "\n",
       "| <!--/--> | Age.clin &lt;chr&gt; | Tumor.stage.clin &lt;chr&gt; | Stage 1 &lt;chr&gt; | Stage 2 &lt;chr&gt; | Stage 3 &lt;chr&gt; | Stage 4 &lt;chr&gt; | Gender.clin &lt;chr&gt; | female &lt;chr&gt; | male &lt;chr&gt; | not reported &lt;chr&gt; | End.point &lt;chr&gt; |\n",
       "|---|---|---|---|---|---|---|---|---|---|---|---|\n",
       "| **N = 440**...1 | 68 (59, 77) | NA | 81 (18%) | 166 (38%) | 130 (30%) | 63 (14%) | NA | 203 (46%) | 237 (54%) | 0 (0%) | OS  |\n",
       "| **N = 147**...2 | 72 (63, 79) | NA | 23 (16%) | 52 (35%)  | 48 (33%)  | 24 (16%) | NA | 74 (50%)  | 73 (50%)  | 0 (0%) | OS  |\n",
       "| **N = 424** | 68 (59, 77) | NA | 86 (20%) | 156 (37%) | 115 (27%) | 67 (16%) | NA | 195 (46%) | 229 (54%) | 0 (0%) | DSS |\n",
       "| **N = 142** | 70 (61, 77) | NA | 18 (13%) | 53 (37%)  | 53 (37%)  | 18 (13%) | NA | 72 (51%)  | 70 (49%)  | 0 (0%) | DSS |\n",
       "| **N = 440**...5 | 68 (59, 77) | NA | 81 (18%) | 166 (38%) | 130 (30%) | 63 (14%) | NA | 203 (46%) | 237 (54%) | 0 (0%) | PFI |\n",
       "| **N = 147**...6 | 72 (63, 79) | NA | 23 (16%) | 52 (35%)  | 48 (33%)  | 24 (16%) | NA | 74 (50%)  | 73 (50%)  | 0 (0%) | PFI |\n",
       "| **N = 160** | 68 (58, 76) | NA | 35 (22%) | 72 (45%)  | 53 (33%)  | 0 (0%)   | NA | 71 (44%)  | 89 (56%)  | 0 (0%) | DFI |\n",
       "| **N = 54** | 64 (55, 72) | NA | 15 (28%) | 22 (41%)  | 17 (31%)  | 0 (0%)   | NA | 31 (57%)  | 23 (43%)  | 0 (0%) | DFI |\n",
       "\n"
      ],
      "text/plain": [
       "                Age.clin    Tumor.stage.clin Stage 1  Stage 2   Stage 3  \n",
       "**N = 440**...1 68 (59, 77) NA               81 (18%) 166 (38%) 130 (30%)\n",
       "**N = 147**...2 72 (63, 79) NA               23 (16%) 52 (35%)  48 (33%) \n",
       "**N = 424**     68 (59, 77) NA               86 (20%) 156 (37%) 115 (27%)\n",
       "**N = 142**     70 (61, 77) NA               18 (13%) 53 (37%)  53 (37%) \n",
       "**N = 440**...5 68 (59, 77) NA               81 (18%) 166 (38%) 130 (30%)\n",
       "**N = 147**...6 72 (63, 79) NA               23 (16%) 52 (35%)  48 (33%) \n",
       "**N = 160**     68 (58, 76) NA               35 (22%) 72 (45%)  53 (33%) \n",
       "**N = 54**      64 (55, 72) NA               15 (28%) 22 (41%)  17 (31%) \n",
       "                Stage 4  Gender.clin female    male      not reported End.point\n",
       "**N = 440**...1 63 (14%) NA          203 (46%) 237 (54%) 0 (0%)       OS       \n",
       "**N = 147**...2 24 (16%) NA          74 (50%)  73 (50%)  0 (0%)       OS       \n",
       "**N = 424**     67 (16%) NA          195 (46%) 229 (54%) 0 (0%)       DSS      \n",
       "**N = 142**     18 (13%) NA          72 (51%)  70 (49%)  0 (0%)       DSS      \n",
       "**N = 440**...5 63 (14%) NA          203 (46%) 237 (54%) 0 (0%)       PFI      \n",
       "**N = 147**...6 24 (16%) NA          74 (50%)  73 (50%)  0 (0%)       PFI      \n",
       "**N = 160**     0 (0%)   NA          71 (44%)  89 (56%)  0 (0%)       DFI      \n",
       "**N = 54**      0 (0%)   NA          31 (57%)  23 (43%)  0 (0%)       DFI      "
      ]
     },
     "metadata": {},
     "output_type": "display_data"
    }
   ],
   "source": [
    "clin.summary.table "
   ]
  },
  {
   "cell_type": "markdown",
   "id": "112a2a51-8fdf-4d10-a796-530518267469",
   "metadata": {},
   "source": [
    "## 3.3 Perform VST"
   ]
  },
  {
   "cell_type": "code",
   "execution_count": 49,
   "id": "recovered-syndicate",
   "metadata": {
    "tags": []
   },
   "outputs": [
    {
     "name": "stderr",
     "output_type": "stream",
     "text": [
      "converting counts to integer mode\n",
      "\n",
      "gene-wise dispersion estimates\n",
      "\n",
      "mean-dispersion relationship\n",
      "\n",
      "final dispersion estimates\n",
      "\n",
      "converting counts to integer mode\n",
      "\n",
      "variance of dispersion residuals not estimated (necessary only for differential expression calling)\n",
      "\n",
      "converting counts to integer mode\n",
      "\n",
      "gene-wise dispersion estimates\n",
      "\n",
      "mean-dispersion relationship\n",
      "\n",
      "final dispersion estimates\n",
      "\n",
      "converting counts to integer mode\n",
      "\n",
      "variance of dispersion residuals not estimated (necessary only for differential expression calling)\n",
      "\n",
      "converting counts to integer mode\n",
      "\n",
      "gene-wise dispersion estimates\n",
      "\n",
      "mean-dispersion relationship\n",
      "\n",
      "final dispersion estimates\n",
      "\n",
      "converting counts to integer mode\n",
      "\n",
      "variance of dispersion residuals not estimated (necessary only for differential expression calling)\n",
      "\n",
      "converting counts to integer mode\n",
      "\n",
      "gene-wise dispersion estimates\n",
      "\n",
      "mean-dispersion relationship\n",
      "\n",
      "final dispersion estimates\n",
      "\n",
      "converting counts to integer mode\n",
      "\n",
      "variance of dispersion residuals not estimated (necessary only for differential expression calling)\n",
      "\n"
     ]
    }
   ],
   "source": [
    "for (end.point in names(train_and_validation_ls)){\n",
    "    \n",
    "    # Counts and VST for training data\n",
    "    counts.training = expDataToMatrix(tcga.dataset.splitted[[end.point]]$EXP$train)\n",
    "    \n",
    "    vst.transf.training.obj = performVSTtraining(counts.training)\n",
    "    \n",
    "    # Counts for evaluation \n",
    "    counts.validation = expDataToMatrix(tcga.dataset.splitted[[end.point]]$EXP$validation)\n",
    "    vst.transf.validation.counts = performVSTtest(counts = counts.validation, \n",
    "                                                  disp.function.train = vst.transf.training.obj$disp.function)\n",
    "         \n",
    "    tcga.dataset.splitted[[end.point]]$EXP$train = MatrixToExpdata(vst.transf.training.obj$vst.counts)\n",
    "    tcga.dataset.splitted[[end.point]]$EXP$validation = MatrixToExpdata(vst.transf.validation.counts)\n",
    "    \n",
    "}"
   ]
  },
  {
   "cell_type": "code",
   "execution_count": 50,
   "id": "executed-insulin",
   "metadata": {
    "tags": []
   },
   "outputs": [],
   "source": [
    "saveRDS(tcga.dataset.splitted, file.path(out.dir.data, \"tcga.dataset_splitted.rds\"))"
   ]
  },
  {
   "cell_type": "markdown",
   "id": "6aa767ce-a3a3-448a-813c-241a83ea4060",
   "metadata": {},
   "source": [
    "Cleaning up"
   ]
  },
  {
   "cell_type": "code",
   "execution_count": 51,
   "id": "practical-soviet",
   "metadata": {
    "tags": []
   },
   "outputs": [
    {
     "name": "stderr",
     "output_type": "stream",
     "text": [
      "Warning message in rm(tcga.dataset):\n",
      "“object 'tcga.dataset' not found”\n"
     ]
    }
   ],
   "source": [
    "rm(tcga.dataset)"
   ]
  },
  {
   "cell_type": "markdown",
   "id": "a1c42214-53a2-4794-b757-2174b8bf3d74",
   "metadata": {},
   "source": [
    "## Merge data types \n",
    "\n",
    "We will merge the different datatypes and produce a final object to be used throughout the analysis"
   ]
  },
  {
   "cell_type": "code",
   "execution_count": 52,
   "id": "conceptual-nirvana",
   "metadata": {
    "tags": []
   },
   "outputs": [],
   "source": [
    "tcga.dataset.splitted = readRDS(file.path(out.dir.data, \"tcga.dataset_splitted.rds\"))"
   ]
  },
  {
   "cell_type": "code",
   "execution_count": 53,
   "id": "relevant-bones",
   "metadata": {
    "tags": []
   },
   "outputs": [],
   "source": [
    "tcga.dataset.merged =  mergeDataTypes(tcga.dataset.splitted )"
   ]
  },
  {
   "cell_type": "code",
   "execution_count": 54,
   "id": "executive-hamilton",
   "metadata": {
    "tags": []
   },
   "outputs": [],
   "source": [
    "saveRDS(tcga.dataset.merged, file.path(out.dir.data, \"tcga.dataset_merged.rds\"))"
   ]
  },
  {
   "cell_type": "markdown",
   "id": "ef3011c2-9b1c-4995-b9ac-e0af2600a250",
   "metadata": {},
   "source": [
    "Cleaning up"
   ]
  },
  {
   "cell_type": "code",
   "execution_count": 55,
   "id": "unauthorized-canada",
   "metadata": {
    "tags": []
   },
   "outputs": [],
   "source": [
    "rm(tcga.dataset.splitted)"
   ]
  },
  {
   "cell_type": "markdown",
   "id": "5189bf73-c6f7-4917-9869-a43728cb2c25",
   "metadata": {},
   "source": [
    "## 3.4 Filtering step \n",
    "\n",
    "### 3.4.1 Calculate relevant statistics for the training set. \n",
    "\n",
    "We will calculate the following statistics for expression features based on the raw expression data : \n",
    "1. The fraction of individuals expressing the feature  \n",
    "2. Median expression of the feature\n",
    "3. Variance of the feature\n",
    "\n",
    "We will calculate the following statistics for copy number features \n",
    "1. Fraction of individuals with amplification \n",
    "2. Fraction of individuals with deletion\n",
    "3. Fraction of individuals with missing CN status \n",
    "4. Max value out of the fraction of individuals with amplification and deletions "
   ]
  },
  {
   "cell_type": "code",
   "execution_count": 56,
   "id": "aggressive-microphone",
   "metadata": {
    "tags": []
   },
   "outputs": [],
   "source": [
    "tcga.dataset.merged = readRDS(file.path(out.dir.data, \"tcga.dataset_merged.rds\"))"
   ]
  },
  {
   "cell_type": "code",
   "execution_count": 58,
   "id": "ideal-liberty",
   "metadata": {
    "tags": []
   },
   "outputs": [],
   "source": [
    "# Store summary statistics \n",
    "summary.stats.ls = list()\n",
    "\n",
    "# Iterate over end points \n",
    "for (end.point in c(\"OS\",\"DSS\",\"DFI\",\"PFI\")){\n",
    "    \n",
    "    exp.summary.training = prepSummaryExp(x = tcga.dataset.merged[[end.point]]$train, \n",
    "                                          raw.data = tcga.merged.raw.exp,\n",
    "                                          variables = variables.selected, type = \"exp\")\n",
    "\n",
    "    cn.summary.training = prepSummaryCN(tcga.dataset.merged[[end.point]]$train, \n",
    "                                        variables = variables.selected, \n",
    "                                        type = \"cn\")\n",
    "    \n",
    "    summary.stats.ls[[end.point]] = list(\"exp.summary.training\" = exp.summary.training,\n",
    "                                         \"cn.summary.training\" = cn.summary.training)\n",
    "}"
   ]
  },
  {
   "cell_type": "markdown",
   "id": "6be6138c-6eac-423f-ab8b-ab709fc263b0",
   "metadata": {},
   "source": [
    "### 3.4.2 Filter based on the calculated statistics\n",
    "\n",
    "We will set the filtering thresholds as follows : \n",
    "\n",
    "Expression features : \n",
    "\n",
    "1. Median expression must be greater than 20\n",
    "2. Fraction of individuals expressing feature must be greater than > 0.25\n",
    "\n",
    "CN features \n",
    "\n",
    "1. Maximum Fraction of individuals carrying either deletion or amplification must be at least 0.15"
   ]
  },
  {
   "cell_type": "code",
   "execution_count": 59,
   "id": "removed-belize",
   "metadata": {
    "tags": []
   },
   "outputs": [],
   "source": [
    "# Store filtered variables \n",
    "variables.selected.filtered.ls = list()\n",
    "\n",
    "# Iterate over end points \n",
    "for (end.point in c(\"OS\",\"DSS\",\"DFI\",\"PFI\")){\n",
    "\n",
    "    exp.features.keep = summary.stats.ls[[end.point]]$exp.summary.training %>% \n",
    "                          filter(`Median expression` > 20, \n",
    "                                 `Fraction of zero expression` < 0.75)\n",
    "\n",
    "    cn.features.keep = summary.stats.ls[[end.point]]$cn.summary.training %>% \n",
    "                          filter(`Maximum fraction of aberrations` > 0.15) \n",
    "\n",
    "    # Update the summary tables \n",
    "    summary.stats.ls[[end.point]]$exp.summary.training$Selected = ifelse(summary.stats.ls[[end.point]]$exp.summary.training$name %in% exp.features.keep$name, \"Yes\", \"No\")\n",
    "    summary.stats.ls[[end.point]]$cn.summary.training$Selected = ifelse(summary.stats.ls[[end.point]]$cn.summary.training$name %in% cn.features.keep$name, \"Yes\", \"No\")\n",
    "\n",
    "    # Collect the variables into vector \n",
    "    variables.selected.filtered.ls[[end.point]] = filterFeatures(variables_selected_ls[[end.point]], exp.features.keep$name, type = \"exp\")\n",
    "    variables.selected.filtered.ls[[end.point]]= filterFeatures(variables_selected_ls[[end.point]], cn.features.keep$name, type = \"cn\")\n",
    "    \n",
    "}"
   ]
  },
  {
   "cell_type": "markdown",
   "id": "b1a42dc6-272f-4a76-8c94-34d3817264a0",
   "metadata": {},
   "source": [
    "## 3.4 Prepare univariate KM plots and logrank tests"
   ]
  },
  {
   "cell_type": "code",
   "execution_count": 60,
   "id": "dominican-magic",
   "metadata": {
    "tags": []
   },
   "outputs": [
    {
     "name": "stdout",
     "output_type": "stream",
     "text": [
      "[1] \"skip\"\n",
      "[1] \"skip\"\n",
      "[1] \"skip\"\n",
      "[1] \"skip\"\n"
     ]
    }
   ],
   "source": [
    "# Store the KM tables \n",
    "km.pvalue.table.ls = list()\n",
    "\n",
    "# Store the significant features \n",
    "significant.features.ls = list()\n",
    "\n",
    "# Iterate over end points \n",
    "for (end.point in c(\"OS\",\"DSS\",\"DFI\",\"PFI\")){\n",
    "\n",
    "    # Create dir for plots \n",
    "    dir.create(file.path(dir.res.km, end.point))\n",
    "    \n",
    "    if (nrow(tcga.dataset.merged[[end.point]]$train) > 0){\n",
    "    \n",
    "        # Run univariate KM\n",
    "        km.pvalue.table = runUnivariateKM(input.data = tcga.dataset.merged[[end.point]], \n",
    "                                          variables = variables.selected.filtered.ls[[end.point]],\n",
    "                                          clinical.endpoint = end.point,\n",
    "                                          out.dir = file.path(dir.res.km, end.point),\n",
    "                                          plots = T)\n",
    "    \n",
    "    \n",
    "        # Sort the results based on the training p-value and write the results to output\n",
    "        km.pvalue.table = km.pvalue.table %>% dplyr::arrange(pvalues.training)\n",
    "        km.pvalue.table$Selected = ifelse(km.pvalue.table$pvalues.training < 0.05, \"Yes\", \"No\") \n",
    "        write.csv(km.pvalue.table, file.path(dir.res.km, paste0(end.point, \"_LogRank_pvalues.csv\")))\n",
    "    \n",
    "        km.pvalue.table.ls[[end.point]] = km.pvalue.table\n",
    "    \n",
    "        # Extract the significant features \n",
    "        significant.features = getSignificantFeatures(km.pvalue.table, pvalue.thresh = 0.05)\n",
    "\n",
    "        # Store \n",
    "        significant.features.ls[[end.point]] = significant.features\n",
    "        \n",
    "    } else {\n",
    "        significant.features.ls[[end.point]] = NULL\n",
    "    }\n",
    "}"
   ]
  },
  {
   "cell_type": "code",
   "execution_count": 61,
   "id": "b76847d0-b09c-4ec4-a840-1122bcbe38c4",
   "metadata": {
    "tags": []
   },
   "outputs": [],
   "source": [
    "saveRDS(significant.features.ls,  \n",
    "        file.path(out.dir.data,\"significant.features.ls.rds\"))"
   ]
  },
  {
   "cell_type": "markdown",
   "id": "fefb0fcf-8099-4a21-83ad-2095e4917950",
   "metadata": {},
   "source": [
    "# 4 Penalised cox regression without clinical variables "
   ]
  },
  {
   "cell_type": "code",
   "execution_count": 62,
   "id": "6ae6294f-d93e-44c5-aa23-ca7df4d71ffe",
   "metadata": {
    "tags": []
   },
   "outputs": [],
   "source": [
    "tcga.dataset.merged = readRDS(file.path(out.dir.data, \"tcga.dataset_merged.rds\"))"
   ]
  },
  {
   "cell_type": "code",
   "execution_count": 63,
   "id": "6a4584f4-2eef-489b-8b25-77923b6a1df2",
   "metadata": {
    "tags": []
   },
   "outputs": [],
   "source": [
    "significant.features.ls = readRDS(file.path(out.dir.data,\"significant.features.ls.rds\"))"
   ]
  },
  {
   "cell_type": "code",
   "execution_count": 64,
   "id": "35d372e0-614a-4837-ba64-3480281d048c",
   "metadata": {
    "tags": []
   },
   "outputs": [
    {
     "data": {
      "text/html": [
       "<dl>\n",
       "\t<dt>$OS</dt>\n",
       "\t\t<dd>'AURKA.exp'</dd>\n",
       "\t<dt>$DSS</dt>\n",
       "\t\t<dd>'AURKA.exp'</dd>\n",
       "\t<dt>$PFI</dt>\n",
       "\t\t<dd>'AURKA.exp'</dd>\n",
       "</dl>\n"
      ],
      "text/latex": [
       "\\begin{description}\n",
       "\\item[\\$OS] 'AURKA.exp'\n",
       "\\item[\\$DSS] 'AURKA.exp'\n",
       "\\item[\\$PFI] 'AURKA.exp'\n",
       "\\end{description}\n"
      ],
      "text/markdown": [
       "$OS\n",
       ":   'AURKA.exp'\n",
       "$DSS\n",
       ":   'AURKA.exp'\n",
       "$PFI\n",
       ":   'AURKA.exp'\n",
       "\n",
       "\n"
      ],
      "text/plain": [
       "$OS\n",
       "[1] \"AURKA.exp\"\n",
       "\n",
       "$DSS\n",
       "[1] \"AURKA.exp\"\n",
       "\n",
       "$PFI\n",
       "[1] \"AURKA.exp\"\n"
      ]
     },
     "metadata": {},
     "output_type": "display_data"
    }
   ],
   "source": [
    "significant.features.ls"
   ]
  },
  {
   "cell_type": "code",
   "execution_count": null,
   "id": "7e04cedb-a141-431d-977b-e7e92428b2c8",
   "metadata": {},
   "outputs": [],
   "source": []
  },
  {
   "cell_type": "markdown",
   "id": "520ad0be-4798-410e-9fec-0f75cdce2a3e",
   "metadata": {},
   "source": [
    "Define path to output "
   ]
  },
  {
   "cell_type": "code",
   "execution_count": 65,
   "id": "manufactured-proxy",
   "metadata": {
    "tags": []
   },
   "outputs": [],
   "source": [
    "dir.res.pcox = file.path(dir.res.root, \"Penalized_Cox_risk_prediction/customer_features/Without_clinical_features\")\n",
    "dir.create(dir.res.pcox, recursive = T)"
   ]
  },
  {
   "cell_type": "code",
   "execution_count": 66,
   "id": "genetic-warren",
   "metadata": {
    "tags": []
   },
   "outputs": [],
   "source": [
    "# Helper function for fixing variable names \n",
    "fixVarNames = function(x){\n",
    "    if (str_detect(x, \"Gender\")) {\n",
    "        return(\"Gender\")\n",
    "    } else if (str_detect(x, \"Tumor.stage\")){\n",
    "        return(\"Tumor.stage\")\n",
    "    } else if (str_detect(x,\".cn\")){\n",
    "        return(str_extract(x, \"\\\\w+.cn\"))\n",
    "    } else if (str_detect(x, \"Gleason.group\")){ \n",
    "        return(\"Gleason.group\")\n",
    "    } else {\n",
    "        return(x)\n",
    "    }\n",
    "}"
   ]
  },
  {
   "cell_type": "markdown",
   "id": "cf1c0fd1-141b-49df-acab-cbfb4517831b",
   "metadata": {},
   "source": [
    "## 4.1 Counting number of samples "
   ]
  },
  {
   "cell_type": "code",
   "execution_count": 67,
   "id": "injured-desert",
   "metadata": {
    "tags": []
   },
   "outputs": [],
   "source": [
    "# Number of samples in training and validation cohorts \n",
    "nsamples_step2_ls_no_clin = list()"
   ]
  },
  {
   "cell_type": "code",
   "execution_count": 68,
   "id": "ordinary-aircraft",
   "metadata": {
    "tags": []
   },
   "outputs": [],
   "source": [
    "# Iterate over end points \n",
    "for (end.point in c(\"OS\",\"DSS\",\"DFI\",\"PFI\")){\n",
    "    \n",
    "    if (is.null(significant.features.ls[[end.point]]) == F) {\n",
    "    \n",
    "    \n",
    "        # Store the number of samples       \n",
    "        nsamples.step2 = c(nrow(tcga.dataset.merged[[end.point]]$train), \n",
    "                           nrow(tcga.dataset.merged[[end.point]]$validation))\n",
    "    }    \n",
    "    else {\n",
    "    \n",
    "        # If there are no significant features store NULL\n",
    "        \n",
    "        # Store \n",
    "        nsamples.step2 = c(NA, NA)\n",
    "    }\n",
    "        \n",
    "    names(nsamples.step2) = c(\"ntrain.step2\", \"nvalid.step2\")\n",
    "    nsamples_step2_ls_no_clin[[end.point]] = nsamples.step2\n",
    "}"
   ]
  },
  {
   "cell_type": "markdown",
   "id": "5395857a-b78e-49b6-83da-0e7de84c82fc",
   "metadata": {},
   "source": [
    "## 4.2 Find the optimal lambda \n",
    "\n",
    "Use 10-fold cross-validation (CV) for the Cox model for different values of lamda. C-index will be use to evaluate the models."
   ]
  },
  {
   "cell_type": "code",
   "execution_count": 69,
   "id": "eligible-startup",
   "metadata": {
    "tags": []
   },
   "outputs": [],
   "source": [
    "# Store significant features \n",
    "rcox.res.no.clin.ls = list()\n",
    "\n",
    "# Store model matrices\n",
    "model.matrices.ls = list()\n",
    "\n",
    "# Store the fitted models for prediction \n",
    "pcox.fit.ls = list()"
   ]
  },
  {
   "cell_type": "code",
   "execution_count": 70,
   "id": "adaptive-banks",
   "metadata": {
    "tags": []
   },
   "outputs": [],
   "source": [
    "# Iterate over end points \n",
    "for (end.point in c(\"OS\",\"DSS\",\"DFI\",\"PFI\")){\n",
    "    \n",
    "    \n",
    "    # Construct the clinical end points \n",
    "    end_point_event = paste0(end.point, \".clin\")\n",
    "    end_point_time = paste0(end.point, \".time.clin\")\n",
    "    \n",
    "    # Subset \n",
    "    selected.features = c(end_point_event, end_point_time, significant.features.ls[[end.point]])\n",
    "    \n",
    "    # Input training data \n",
    "    input.training = tcga.dataset.merged[[end.point]]$train %>% dplyr::select(all_of(selected.features))\n",
    "    input.validation = tcga.dataset.merged[[end.point]]$validation %>% dplyr::select(all_of(selected.features))\n",
    "    \n",
    "    # Check the number of features\n",
    "    # Regulariation cannot be run if there is only one feature\n",
    "    num.feat = ncol(input.training) - 2\n",
    "    \n",
    "    if (is.null(input.training) == F){\n",
    "        if (num.feat > 1) {\n",
    "    \n",
    "            # Genereate model matrix \n",
    "            model.matrices = generateModelMatrices(input.training, \n",
    "                                                   input.validation, \n",
    "                                                   clinical.endpoint = end.point)\n",
    "        \n",
    "            model.matrices.ls[[end.point]] = model.matrices\n",
    "    \n",
    "            # Create output dir \n",
    "            dir.create(file.path(dir.res.pcox, end.point))\n",
    "    \n",
    "            # Find optimal lambda (hyperparameter for elastic net)\n",
    "            pcox.fit = findOptimalLambda(x = model.matrices$x.train.mat, \n",
    "                             y = model.matrices$y.train,\n",
    "                             out.dir = file.path(dir.res.pcox, end.point))\n",
    "        \n",
    "            pcox.fit.ls[[end.point]] = pcox.fit\n",
    "    \n",
    "            # Write the final features included in the model to a file \n",
    "            WriteXLS(pcox.fit$active.k.vals, \n",
    "            file.path(dir.res.pcox, end.point ,\"Active_covariates_in_lambda.min_model.xlsx\"), \n",
    "            BoldHeaderRow = T,\n",
    "            row.names = T)\n",
    "    \n",
    "            # Final significant features \n",
    "            rcox.res.no.clin = pcox.fit$active.k.vals %>% tibble::rownames_to_column(\"Feature\")\n",
    "            rcox.res.no.clin.ls[[end.point]] = rcox.res.no.clin  \n",
    "        } else {\n",
    "            # If no significant features from earlier steps for the clin. end point then store null\n",
    "            model.matrices.ls[[end.point]] = NULL\n",
    "            pcox.fit.ls[[end.point]] = NULL\n",
    "            rcox.res.no.clin.ls[[end.point]] = NULL\n",
    "        }\n",
    "\n",
    "    } else {\n",
    "        # If no significant features from earlier steps for the clin. end point then store null\n",
    "        model.matrices.ls[[end.point]] = NULL\n",
    "        pcox.fit.ls[[end.point]] = NULL\n",
    "        rcox.res.no.clin.ls[[end.point]] = NULL\n",
    "    }\n",
    "}"
   ]
  },
  {
   "cell_type": "markdown",
   "id": "3e953e94-ee2e-4eb6-a1c2-2d72d5b53158",
   "metadata": {},
   "source": [
    "## 4.3 Make predictions using the cross-validated model and heatmaps for visualisation\n",
    "\n",
    "## 4.3.1 Training set "
   ]
  },
  {
   "cell_type": "code",
   "execution_count": 71,
   "id": "greek-democrat",
   "metadata": {
    "tags": []
   },
   "outputs": [],
   "source": [
    "# Store the result tables\n",
    "KM.train.by.risk.ls = list()"
   ]
  },
  {
   "cell_type": "code",
   "execution_count": 72,
   "id": "sustained-temperature",
   "metadata": {
    "tags": []
   },
   "outputs": [],
   "source": [
    "input.train.test = NULL\n",
    "y.data.test = NULL\n",
    "pred.train.test = NULL"
   ]
  },
  {
   "cell_type": "code",
   "execution_count": 73,
   "id": "eligible-garden",
   "metadata": {
    "tags": []
   },
   "outputs": [],
   "source": [
    "# Iterate over end points \n",
    "for (end.point in c(\"OS\",\"DSS\",\"DFI\",\"PFI\")){\n",
    "    \n",
    "    if (!is.null(pcox.fit.ls[[end.point]])) {\n",
    "    \n",
    "        # Predictions for the training set\n",
    "        pred.train <- predict(pcox.fit.ls[[end.point]]$model, \n",
    "                      newx = model.matrices.ls[[end.point]]$x.train.mat, \n",
    "                      s = \"lambda.min\", \n",
    "                      type = \"response\")\n",
    "\n",
    "        # Fitted relative risk\n",
    "        rel.risk <- pred.train[,1] \n",
    "\n",
    "        # Stratify validation data into two groups based on the fitted relative risk\n",
    "        y.data <- as.data.frame(as.matrix(model.matrices.ls[[end.point]]$y.train))\n",
    "        \n",
    "        \n",
    "        # Plot KM and extract the p-value  \n",
    "        KM.train.by.risk = plotKMbyRelativeRisk(data = y.data, \n",
    "                                        rel.risk = rel.risk)\n",
    "        \n",
    "        \n",
    "        if (!is.null(KM.train.by.risk)) {\n",
    "        \n",
    "            # Store\n",
    "            KM.train.by.risk.ls[[end.point]] =  KM.train.by.risk$table\n",
    "    \n",
    "            # Store the KM plot\n",
    "            pdf(file.path(dir.res.pcox, end.point ,\"glmnet_K-M_plot_with_training_data.pdf\"), \n",
    "                width = 15, height = 12, onefile = F)\n",
    "            print(KM.train.by.risk$Plot)\n",
    "            dev.off()\n",
    "    \n",
    "            # Heatmap preparation         \n",
    "    \n",
    "            # Variables to be selected \n",
    "            # Because Gender has been changed to a dummy variable its name has been changed\n",
    "            variables.selected = map_chr(rcox.res.no.clin.ls[[end.point]]$Feature, fixVarNames)\n",
    "            \n",
    "\n",
    "            # Get all input variables\n",
    "            heatmap.input.train = model.matrices.ls[[end.point]]$x.train %>% dplyr::select(all_of(variables.selected))\n",
    "                \n",
    "               \n",
    "            # Heatmap of training data predictions\n",
    "            hmap.train <- prepareHeatmap(heatmap.input.train, y.data, pred.train, file.path(dir.res.pcox, end.point), \"glmnet_training\", row.height = 8)          \n",
    "            \n",
    "        \n",
    "        } else {\n",
    "            KM.train.by.risk.ls[[end.point]] = NULL\n",
    "        }\n",
    "        \n",
    "    } else {\n",
    "        KM.train.by.risk.ls[[end.point]] = NULL\n",
    "    }\n",
    "}"
   ]
  },
  {
   "cell_type": "markdown",
   "id": "207414f1-e8a0-4a81-a3e9-4d4a45d4e127",
   "metadata": {},
   "source": [
    "## 4.3.2 Validation set"
   ]
  },
  {
   "cell_type": "code",
   "execution_count": 74,
   "id": "utility-deficit",
   "metadata": {
    "tags": []
   },
   "outputs": [],
   "source": [
    "# Store the result tables\n",
    "KM.valid.by.risk.ls = list()"
   ]
  },
  {
   "cell_type": "code",
   "execution_count": 75,
   "id": "possible-southwest",
   "metadata": {
    "tags": []
   },
   "outputs": [],
   "source": [
    "# Iterate over end points \n",
    "for (end.point in c(\"OS\",\"DSS\",\"DFI\",\"PFI\")){\n",
    "    \n",
    "    if (!is.null(pcox.fit.ls[[end.point]])) {\n",
    "    \n",
    "        # Predictions for the training set\n",
    "        pred.valid <- predict(pcox.fit.ls[[end.point]]$model, \n",
    "                      newx = model.matrices.ls[[end.point]]$x.valid.mat, \n",
    "                      s = \"lambda.min\", \n",
    "                      type = \"response\")\n",
    "\n",
    "        # Fitted relative risk\n",
    "        rel.risk <- pred.valid[,1] \n",
    "\n",
    "        # Stratify validation data into two groups based on the fitted relative risk\n",
    "        y.data <- as.data.frame(as.matrix(model.matrices.ls[[end.point]]$y.valid))\n",
    "\n",
    "        # Plot KM and extract the p-value  \n",
    "        KM.valid.by.risk = plotKMbyRelativeRisk(data = y.data, \n",
    "                                        rel.risk = rel.risk)\n",
    "        \n",
    "        if (!is.null(KM.train.by.risk)) {\n",
    "        \n",
    "            # Store\n",
    "            KM.valid.by.risk.ls[[end.point]] =  KM.valid.by.risk$table\n",
    "    \n",
    "            # Store the KM plot\n",
    "            pdf(file.path(dir.res.pcox, end.point ,\"glmnet_K-M_plot_with_validation_data.pdf\"), \n",
    "            width = 15, height = 12, onefile = F)\n",
    "            print(KM.valid.by.risk$Plot)\n",
    "            dev.off()\n",
    "    \n",
    "            # Heatmap preparation \n",
    "    \n",
    "            # Variables to be selected \n",
    "            variables.selected = map_chr(rcox.res.no.clin.ls[[end.point]]$Feature, fixVarNames) \n",
    "    \n",
    "            # Get all input variables\n",
    "            heatmap.input.valid = model.matrices.ls[[end.point]]$x.valid %>% dplyr::select(all_of(variables.selected))\n",
    "    \n",
    "            # Heatmap of training data predictions\n",
    "            hmap.valid <- prepareHeatmap(heatmap.input.valid, y.data, pred.valid, file.path(dir.res.pcox, end.point), \"glmnet_validation\", row.height = 8)  \n",
    "        \n",
    "        } else {\n",
    "            KM.valid.by.risk.ls[[end.point]] = NULL\n",
    "        }\n",
    "        \n",
    "    } else {\n",
    "        KM.valid.by.risk.ls[[end.point]] = NULL\n",
    "    }\n",
    "}"
   ]
  },
  {
   "cell_type": "markdown",
   "id": "a1c9f20f-3122-4e95-be4b-d833ee8f29e8",
   "metadata": {},
   "source": [
    "Merge the two result tables into one "
   ]
  },
  {
   "cell_type": "code",
   "execution_count": 76,
   "id": "boolean-minutes",
   "metadata": {
    "tags": []
   },
   "outputs": [],
   "source": [
    "KM.by.risk.no.clin.train = bind_rows(KM.train.by.risk.ls, .id = \"End point\")\n",
    "KM.by.risk.no.clin.valid = bind_rows(KM.valid.by.risk.ls, .id = \"End point\")"
   ]
  },
  {
   "cell_type": "code",
   "execution_count": 77,
   "id": "accurate-entry",
   "metadata": {
    "tags": []
   },
   "outputs": [],
   "source": [
    "# Store final resilts\n",
    "write.csv(KM.by.risk.no.clin.train, file.path(dir.res.pcox, \"Final_evaluation_results_training.csv\"), row.names = F)\n",
    "write.csv(KM.by.risk.no.clin.valid, file.path(dir.res.pcox, \"Final_evaluation_results_validation.csv\"),row.names = F)"
   ]
  },
  {
   "cell_type": "markdown",
   "id": "ec06fbeb-4bb8-438c-938c-ac9f8c3697f5",
   "metadata": {},
   "source": [
    "# 5 Penalised cox regression with clinical variables\n",
    "\n",
    "In the case of PRAD we will use Age and Gender.\n",
    "\n",
    "Define path to output "
   ]
  },
  {
   "cell_type": "code",
   "execution_count": 78,
   "id": "liked-headline",
   "metadata": {
    "tags": []
   },
   "outputs": [],
   "source": [
    "dir.res.pcox = file.path(dir.res.root, \"Penalized_Cox_risk_prediction/customer_features/With_clinical_features\")\n",
    "dir.create(dir.res.pcox, recursive = T)"
   ]
  },
  {
   "cell_type": "markdown",
   "id": "285b24fc-eedc-45cf-9100-26b76f367701",
   "metadata": {},
   "source": [
    "## 5.1 Counting number of samples "
   ]
  },
  {
   "cell_type": "code",
   "execution_count": 79,
   "id": "minus-stanford",
   "metadata": {
    "tags": []
   },
   "outputs": [],
   "source": [
    "# Number of samples in training and validation cohorts \n",
    "nsamples_step2_ls_with_clin = list()"
   ]
  },
  {
   "cell_type": "code",
   "execution_count": 80,
   "id": "grand-indonesian",
   "metadata": {
    "tags": []
   },
   "outputs": [],
   "source": [
    "# Iterate over end points \n",
    "for (end.point in c(\"OS\",\"DSS\",\"DFI\",\"PFI\")){\n",
    "    \n",
    "    if (is.null(significant.features.ls[[end.point]]) == F) {\n",
    "    \n",
    "    \n",
    "        # Store the number of samples       \n",
    "        nsamples.step2 = c(nrow(tcga.dataset.merged[[end.point]]$train), \n",
    "                           nrow(tcga.dataset.merged[[end.point]]$validation))\n",
    "    }    \n",
    "    else {\n",
    "    \n",
    "        # If there are no significant features store NULL\n",
    "        \n",
    "        # Store \n",
    "        nsamples.step2 = c(NA, NA)\n",
    "    }\n",
    "        \n",
    "    names(nsamples.step2) = c(\"ntrain.step2\", \"nvalid.step2\")\n",
    "    nsamples_step2_ls_with_clin[[end.point]] = nsamples.step2\n",
    "}"
   ]
  },
  {
   "cell_type": "markdown",
   "id": "420c76c5-06e5-4ea7-a2cb-ca56af46b355",
   "metadata": {},
   "source": [
    "## 5.3 Find the optimal lambda \n",
    "\n",
    "Use 10-fold cross-validation (CV) for the Cox model for different values of lamda. C-index will be use to evaluate the models."
   ]
  },
  {
   "cell_type": "code",
   "execution_count": 81,
   "id": "immediate-miniature",
   "metadata": {
    "tags": []
   },
   "outputs": [],
   "source": [
    "# Store significant features \n",
    "rcox.res.with.clin.ls = list()\n",
    "\n",
    "# Store model matrices\n",
    "model.matrices.ls = list()\n",
    "\n",
    "# Store the fitted models for prediction \n",
    "pcox.fit.ls = list()"
   ]
  },
  {
   "cell_type": "code",
   "execution_count": 82,
   "id": "integral-majority",
   "metadata": {
    "tags": []
   },
   "outputs": [],
   "source": [
    "# Iterate over end points \n",
    "for (end.point in c(\"OS\",\"DSS\",\"DFI\",\"PFI\")){\n",
    "    \n",
    "    # Construct the clinical end points \n",
    "    end_point_event = paste0(end.point, \".clin\")\n",
    "    end_point_time = paste0(end.point, \".time.clin\")\n",
    "    \n",
    "    # Clinical features\n",
    "    clinical.feat = paste0(clin.var, \".clin\")\n",
    "\n",
    "    \n",
    "    # Subset \n",
    "    selected.features = c(end_point_event, end_point_time, clinical.feat, significant.features.ls[[end.point]])\n",
    "    \n",
    "    # Input training data \n",
    "    input.training = tcga.dataset.merged[[end.point]]$train %>% dplyr::select(all_of(selected.features))\n",
    "    input.validation = tcga.dataset.merged[[end.point]]$validation %>% dplyr::select(all_of(selected.features))\n",
    "    \n",
    "    # Check the number of features\n",
    "    # Regulariation cannot be run if there is only one feature\n",
    "    num.feat = ncol(input.training) - 2\n",
    "    \n",
    "    if (is.null(tcga.dataset.merged[[end.point]]$train) == F){\n",
    "        if (num.feat > 1) {\n",
    "    \n",
    "            # Genereate model matrix \n",
    "            model.matrices = generateModelMatrices(input.training, \n",
    "                                                   input.validation, \n",
    "                                                   clinical.endpoint = end.point)          \n",
    "        \n",
    "            model.matrices.ls[[end.point]] = model.matrices\n",
    "    \n",
    "            # Create output dir \n",
    "            dir.create(file.path(dir.res.pcox, end.point))\n",
    "    \n",
    "            # Find optimal lambda (hyperparameter for elastic net)\n",
    "            pcox.fit = findOptimalLambda(x = model.matrices$x.train.mat, \n",
    "                             y = model.matrices$y.train,\n",
    "                             out.dir = file.path(dir.res.pcox, end.point))\n",
    "        \n",
    "            pcox.fit.ls[[end.point]] = pcox.fit\n",
    "            \n",
    "            if (is.null(pcox.fit) == F){\n",
    "                # Write the final features included in the model to a file \n",
    "                WriteXLS(pcox.fit$active.k.vals, \n",
    "                     file.path(dir.res.pcox, end.point ,\"Active_covariates_in_lambda.min_model.xlsx\"), \n",
    "                      BoldHeaderRow = T,\n",
    "                      row.names = T)           \n",
    "            \n",
    "                    \n",
    "                # Final significant features \n",
    "                rcox.res.with.clin = pcox.fit$active.k.vals %>% tibble::rownames_to_column(\"Feature\")\n",
    "                rcox.res.with.clin.ls[[end.point]] = rcox.res.with.clin  \n",
    "                \n",
    "            } else {\n",
    "                model.matrices.ls[[end.point]] = NULL\n",
    "                pcox.fit.ls[[end.point]] = NULL\n",
    "                rcox.res.with.clin.ls[[end.point]] = NULL\n",
    "            \n",
    "            }\n",
    "            \n",
    "        } else {\n",
    "            # If no significant features from earlier steps for the clin. end point then store null\n",
    "            model.matrices.ls[[end.point]] = NULL\n",
    "            pcox.fit.ls[[end.point]] = NULL\n",
    "            rcox.res.with.clin.ls[[end.point]] = NULL\n",
    "        }\n",
    "\n",
    "    } else {\n",
    "        # If no significant features from earlier steps for the clin. end point then store null\n",
    "        model.matrices.ls[[end.point]] = NULL\n",
    "        pcox.fit.ls[[end.point]] = NULL\n",
    "        rcox.res.with.clin.ls[[end.point]] = NULL\n",
    "    }\n",
    "}"
   ]
  },
  {
   "cell_type": "markdown",
   "id": "2e7e75ac-0d36-4484-a2e8-6aeec9410174",
   "metadata": {},
   "source": [
    "## 5.4 Make predictions using the cross-validated model\n",
    "\n",
    "## 5.4.1 Training set "
   ]
  },
  {
   "cell_type": "code",
   "execution_count": 83,
   "id": "large-vector",
   "metadata": {
    "tags": []
   },
   "outputs": [],
   "source": [
    "# Store the result tables\n",
    "KM.train.by.risk.ls = list()\n",
    "C.index.train.ls = list()\n",
    "AUC.train.ls = list()"
   ]
  },
  {
   "cell_type": "code",
   "execution_count": 84,
   "id": "basic-fishing",
   "metadata": {
    "tags": []
   },
   "outputs": [],
   "source": [
    "# Helper function for fixing variable names \n",
    "fixVarNames = function(x){\n",
    "    if (str_detect(x, \"Gender.clin\")) {\n",
    "        return(\"Gender.clin\")\n",
    "    } else if (str_detect(x, \"Tumor.stage.clin\")){\n",
    "        return(\"Tumor.stage.clin\")\n",
    "    } else if (str_detect(x,\".cn\")){\n",
    "        return(str_extract(x, \"\\\\w+.cn\"))\n",
    "    } else if (str_detect(x, \"Gleason.group.clin\")){ \n",
    "        return(\"Gleason.group.clin\")\n",
    "    } else {\n",
    "        return(x)\n",
    "    }\n",
    "}"
   ]
  },
  {
   "cell_type": "code",
   "execution_count": 85,
   "id": "direct-sarah",
   "metadata": {
    "tags": []
   },
   "outputs": [],
   "source": [
    "# Calculate AUC\n",
    "calcAUC = function(pred.time, time, status, risk.score){\n",
    "    \n",
    "    # Calculate ROC characteristics\n",
    "    res.ROC = survivalROC(Stime = time,\n",
    "                          status = status,\n",
    "                          marker = risk.score,\n",
    "                          predict.time = pred.time,\n",
    "                          method  = \"KM\")\n",
    "    return(min(res.ROC$AUC,1))\n",
    "}"
   ]
  },
  {
   "cell_type": "code",
   "execution_count": 86,
   "id": "confused-denmark",
   "metadata": {
    "tags": []
   },
   "outputs": [
    {
     "name": "stdout",
     "output_type": "stream",
     "text": [
      "[1] \"Age.clin\"         \"Tumor.stage.clin\"\n",
      "[1] \"Age.clin\"         \"Tumor.stage.clin\" \"Tumor.stage.clin\" \"Tumor.stage.clin\"\n",
      "[5] \"Gender.clin\"      \"AURKA.exp\"       \n",
      "[1] \"Tumor.stage.clin\" \"Tumor.stage.clin\" \"Gender.clin\"     \n",
      "[1] \"Age.clin\"         \"Tumor.stage.clin\" \"Tumor.stage.clin\" \"Tumor.stage.clin\"\n",
      "[5] \"Gender.clin\"      \"AURKA.exp\"       \n"
     ]
    }
   ],
   "source": [
    "# Set seed \n",
    "set.seed(42)\n",
    "\n",
    "# Iterate over end points \n",
    "for (end.point in c(\"OS\",\"DSS\",\"DFI\",\"PFI\")){\n",
    "    \n",
    "    if (!is.null(pcox.fit.ls[[end.point]])) {\n",
    "    \n",
    "        # Predictions for the training set\n",
    "        pred.train <- predict(pcox.fit.ls[[end.point]]$model, \n",
    "                      newx = model.matrices.ls[[end.point]]$x.train.mat, \n",
    "                      s = \"lambda.min\", \n",
    "                      type = \"response\")\n",
    "\n",
    "        # Fitted relative risk\n",
    "        rel.risk <- pred.train[,1] \n",
    "        \n",
    "        # Calculate the C-index (NEW ADDITION )\n",
    "        c.index.train = Cindex(pred = pred.train, y = model.matrices.ls[[end.point]]$y.train) \n",
    "        C.index.train.ls[[end.point]] = c.index.train \n",
    "\n",
    "        # Stratify validation data into two groups based on the fitted relative risk\n",
    "        y.data <- as.data.frame(as.matrix(model.matrices.ls[[end.point]]$y.train))\n",
    "        \n",
    "        \n",
    "        # TEST new function for calculating the C-index\n",
    "        cindex.train = concordance.index(rel.risk, \n",
    "                                         y.data$time, \n",
    "                                         y.data$status,\n",
    "                                         na.rm = TRUE)\n",
    "        \n",
    "        C.index.train.ls[[end.point]] = data.frame(\"C-index\" = round(cindex.train$c.index, 4),\n",
    "                                          \"C-index CI\" = paste0(\"(\", round(cindex.train$lower, 4), \" - \",  \n",
    "                                                                round(cindex.train$upper, 4), \")\"),\n",
    "                                        check.names = F)\n",
    "        \n",
    "\n",
    "        # Plot KM and extract the p-value  \n",
    "        KM.train.by.risk = plotKMbyRelativeRisk(data = y.data, \n",
    "                                        rel.risk = rel.risk)\n",
    "        \n",
    "        \n",
    "        # Calculate AUCs \n",
    "        auc.vect = round(map_dbl(c(365, 3 * 365, 5 * 365), .f = calcAUC, \n",
    "                   time = y.data$time, status = y.data$status , risk.score = rel.risk), 4)\n",
    "        names(auc.vect) = c(\"AUC (1y)\", \"AUC (3y)\", \"AUC (5y)\")\n",
    "        \n",
    "        AUC.train.ls[[end.point]] = as.data.frame(t(data.frame(auc.vect)))\n",
    "    \n",
    "        if (!is.null(KM.train.by.risk)) {\n",
    "        \n",
    "            # Store\n",
    "            KM.train.by.risk.ls[[end.point]] =  KM.train.by.risk$table\n",
    "    \n",
    "            # Store the KM plot\n",
    "            pdf(file.path(dir.res.pcox, end.point ,\"glmnet_K-M_plot_with_training_data.pdf\"), \n",
    "                width = 15, height = 12, onefile = F)\n",
    "            print(KM.train.by.risk$Plot)\n",
    "            dev.off()\n",
    "    \n",
    "            # Heatmap preparation \n",
    "    \n",
    "            # Variables to be selected \n",
    "            # Because Gender has been changed to a dummy variable its name has been changed\n",
    "            variables.selected = map_chr(rcox.res.with.clin.ls[[end.point]]$Feature, fixVarNames)\n",
    "            \n",
    "            print(variables.selected)\n",
    "            \n",
    "    \n",
    "            # Get all input variables\n",
    "            heatmap.input.train = model.matrices.ls[[end.point]]$x.train %>% dplyr::select(all_of(variables.selected))\n",
    "    \n",
    "            # Heatmap of training data predictions\n",
    "            hmap.train <- prepareHeatmap(heatmap.input.train, y.data, pred.train, file.path(dir.res.pcox, end.point), \"glmnet_training\", row.height = 8)\n",
    "            #print(hmap.train)\n",
    "            \n",
    "        } else {\n",
    "            KM.train.by.risk.ls[[end.point]] = NULL\n",
    "            C.index.train.ls[[end.point]] = NULL\n",
    "            AUC.train.ls[[end.point]] = NULL\n",
    "            \n",
    "        }\n",
    "    } else {\n",
    "        KM.train.by.risk.ls[[end.point]] = NULL\n",
    "        C.index.train.ls[[end.point]] = NULL\n",
    "        AUC.train.ls[[end.point]] = NULL\n",
    "    }\n",
    "}"
   ]
  },
  {
   "cell_type": "markdown",
   "id": "ede51d95-101f-4ce4-ab42-f49f283f7a9b",
   "metadata": {},
   "source": [
    "## 5.4.2 Validation set"
   ]
  },
  {
   "cell_type": "code",
   "execution_count": 87,
   "id": "adapted-updating",
   "metadata": {
    "tags": []
   },
   "outputs": [],
   "source": [
    "# Store the result tables\n",
    "KM.valid.by.risk.ls = list()\n",
    "C.index.valid.ls = list()\n",
    "AUC.valid.ls = list()"
   ]
  },
  {
   "cell_type": "code",
   "execution_count": 88,
   "id": "opening-pantyhose",
   "metadata": {
    "tags": []
   },
   "outputs": [],
   "source": [
    "# Set seed\n",
    "set.seed(42)\n",
    "\n",
    "# Iterate over end points \n",
    "for (end.point in c(\"OS\",\"DSS\",\"DFI\",\"PFI\")){\n",
    "    \n",
    "    if (!is.null(pcox.fit.ls[[end.point]])) {\n",
    "    \n",
    "        # Predictions for the validation set\n",
    "        pred.valid <- predict(pcox.fit.ls[[end.point]]$model, \n",
    "                      newx = model.matrices.ls[[end.point]]$x.valid.mat, \n",
    "                      s = \"lambda.min\", \n",
    "                      type = \"response\")\n",
    "\n",
    "        # Fitted relative risk\n",
    "        rel.risk <- pred.valid[,1] \n",
    "\n",
    "        # Stratify validation data into two groups based on the fitted relative risk\n",
    "        y.data <- as.data.frame(as.matrix(model.matrices.ls[[end.point]]$y.valid))\n",
    "        \n",
    "        \n",
    "        # TEST new function for calculating the C-index\n",
    "        cindex.valid = concordance.index(rel.risk, \n",
    "                                         y.data$time, \n",
    "                                         y.data$status,\n",
    "                                         na.rm = TRUE)\n",
    "        \n",
    "        C.index.valid.ls[[end.point]] = data.frame(\"C-index\" = round(cindex.valid$c.index, 4),\n",
    "                                          \"C-index CI\" = paste0(\"(\", round(cindex.valid$lower, 4), \" - \",  \n",
    "                                                                round(cindex.valid$upper, 4), \")\"),\n",
    "                                        check.names = F)\n",
    "        \n",
    "        # Plot KM and extract the p-value  \n",
    "        KM.valid.by.risk = plotKMbyRelativeRisk(data = y.data, \n",
    "                                        rel.risk = rel.risk)\n",
    "        \n",
    "        # Calculate AUCs \n",
    "        auc.vect = round(map_dbl(c(365, 3 * 365, 5 * 365), .f = calcAUC, \n",
    "                   time = y.data$time, status = y.data$status , risk.score = rel.risk),4)\n",
    "        \n",
    "        names(auc.vect) = c(\"AUC (1y)\", \"AUC (3y)\", \"AUC (5y)\")\n",
    "        \n",
    "        AUC.valid.ls[[end.point]] = as.data.frame(t(data.frame(auc.vect)))\n",
    "    \n",
    "        if (!is.null(KM.train.by.risk)) {\n",
    "            \n",
    "            # Store\n",
    "            KM.valid.by.risk.ls[[end.point]] =  KM.valid.by.risk$table\n",
    "    \n",
    "            # Store the KM plot\n",
    "            pdf(file.path(dir.res.pcox, end.point ,\"glmnet_K-M_plot_with_validation_data.pdf\"), \n",
    "                width = 15, height = 12, onefile = F)\n",
    "            print(KM.valid.by.risk$Plot)\n",
    "            dev.off()\n",
    "    \n",
    "            # Heatmap preparation \n",
    "    \n",
    "            # Variables to be selected \n",
    "            variables.selected = map_chr(rcox.res.with.clin.ls[[end.point]]$Feature, fixVarNames)\n",
    "    \n",
    "            # Get all input variables\n",
    "            heatmap.input.valid = model.matrices.ls[[end.point]]$x.valid %>% dplyr::select(all_of(variables.selected))\n",
    "    \n",
    "            # Heatmap of training data predictions\n",
    "            hmap.valid <- prepareHeatmap(heatmap.input.valid, y.data, pred.valid, file.path(dir.res.pcox, end.point), \"glmnet_validation\", row.height = 8)\n",
    "            \n",
    "        } else {\n",
    "            KM.valid.by.risk.ls[[end.point]] = NULL\n",
    "            C.index.valid.ls[[end.point]] = NULL\n",
    "            AUC.valid.ls[[end.point]] = NULL\n",
    "        }\n",
    "    } else {\n",
    "        KM.valid.by.risk.ls[[end.point]] = NULL\n",
    "        C.index.valid.ls[[end.point]] = NULL\n",
    "        AUC.valid.ls[[end.point]] = NULL\n",
    "    }\n",
    "}"
   ]
  },
  {
   "cell_type": "code",
   "execution_count": 89,
   "id": "governmental-album",
   "metadata": {
    "tags": []
   },
   "outputs": [],
   "source": [
    "# Collect the results into a single data frame\n",
    "\n",
    "# Log-rank test results \n",
    "KM.by.risk.with.clin.train = bind_rows(KM.train.by.risk.ls, .id = \"End point\")\n",
    "KM.by.risk.with.clin.valid = bind_rows(KM.valid.by.risk.ls, .id = \"End point\")\n",
    "\n",
    "# C-indices\n",
    "C.index.train.df = bind_rows(C.index.train.ls , .id = \"End point\")\n",
    "C.index.valid.df = bind_rows(C.index.valid.ls , .id = \"End point\")\n",
    "\n",
    "# AUCs \n",
    "auc.train.df = bind_rows(AUC.train.ls, .id  = \"End point\") \n",
    "auc.valid.df = bind_rows(AUC.valid.ls, .id  = \"End point\")"
   ]
  },
  {
   "cell_type": "code",
   "execution_count": 90,
   "id": "structured-serial",
   "metadata": {
    "tags": []
   },
   "outputs": [],
   "source": [
    "# Store final resilts\n",
    "write.csv(KM.by.risk.with.clin.train, file.path(dir.res.pcox, \"Final_evaluation_results_training.csv\"), row.names = F)\n",
    "write.csv(KM.by.risk.with.clin.valid, file.path(dir.res.pcox, \"Final_evaluation_results_validation.csv\"),row.names = F)\n",
    "\n",
    "write.csv(C.index.train.df, file.path(dir.res.pcox, \"Final_evaluation_C_index_training.csv\"), row.names = F)\n",
    "write.csv(C.index.valid.df, file.path(dir.res.pcox, \"Final_evaluation_C_index_validation.csv\"), row.names = F)\n",
    "\n",
    "write.csv(auc.train.df, file.path(dir.res.pcox, \"Final_evaluation_AUC_training.csv\"), row.names = F)\n",
    "write.csv(auc.valid.df, file.path(dir.res.pcox, \"Final_evaluation_AUC_validation.csv\"), row.names = F)"
   ]
  },
  {
   "cell_type": "markdown",
   "id": "6d207a3c-45d0-4114-81f6-263ca8f1035d",
   "metadata": {},
   "source": [
    "# 6. For each clinical end point produce a reference model including only clinical variables "
   ]
  },
  {
   "cell_type": "code",
   "execution_count": 91,
   "id": "automated-template",
   "metadata": {
    "tags": []
   },
   "outputs": [],
   "source": [
    "dir.res.pcox = file.path(dir.res.root, \"Penalized_Cox_risk_prediction/customer_features/Only_clinical_features\")\n",
    "dir.create(dir.res.pcox, recursive = T)"
   ]
  },
  {
   "cell_type": "markdown",
   "id": "0ff6b5f9-7066-47cb-821b-5a9e615e1ebc",
   "metadata": {},
   "source": [
    "## 6.1 Splitting dataset into training and validation set\n",
    "\n",
    "For simplicity and to ensure that we will have a reference model we will apply conventional cox regression\n",
    "\n",
    "## 6.2 Fit the model and check the proportionality assumptions"
   ]
  },
  {
   "cell_type": "code",
   "execution_count": 92,
   "id": "multiple-hardwood",
   "metadata": {
    "tags": []
   },
   "outputs": [],
   "source": [
    "# Store COX models\n",
    "pcox.ref.fit.ls = list()"
   ]
  },
  {
   "cell_type": "code",
   "execution_count": 93,
   "id": "painful-society",
   "metadata": {
    "tags": []
   },
   "outputs": [],
   "source": [
    "# \n",
    "# Function fits a cox regression model\n",
    "# \n",
    "fitCoxModel = function(data, end.point, features){\n",
    "    \n",
    "    # Expand to variable name\n",
    "    end_point_time = paste0(end.point, \".time.clin\")\n",
    "    end_point_event = paste0(end.point, \".clin\")\n",
    "\n",
    "    # Generate a survival formula object \n",
    "    survExpression = paste0(\"Surv(\", end_point_time, \", \" , end_point_event, \")\")\n",
    "    f <- as.formula(paste(survExpression, paste(features, collapse = \" + \"), sep = \" ~ \"))\n",
    "    \n",
    "    model.fit = coxph(f, data = data)\n",
    "    return(model.fit)\n",
    "}"
   ]
  },
  {
   "cell_type": "code",
   "execution_count": 94,
   "id": "cognitive-powell",
   "metadata": {
    "tags": []
   },
   "outputs": [],
   "source": [
    "# Fit the models\n",
    "for (end.point in c(\"OS\",\"DSS\",\"DFI\",\"PFI\")){\n",
    "    \n",
    "    # Construct the clinical end points \n",
    "    end_point_event = paste0(end.point, \".clin\")\n",
    "    end_point_time = paste0(end.point, \".time.clin\")\n",
    "    \n",
    "    clinical.feat = paste0(clin.var, \".clin\")\n",
    "    \n",
    "    # Subset \n",
    "    selected.features = c(end_point_event, end_point_time, clinical.feat)\n",
    "    \n",
    "    # Input training data \n",
    "    input.training = tcga.dataset.merged[[end.point]]$train %>% dplyr::select(all_of(selected.features))\n",
    "    \n",
    "    if (nrow(input.training) > 1) {\n",
    "        pcox.ref.fit.ls[[end.point]] = fitCoxModel(input.training, end.point, clinical.feat)\n",
    "    } else {\n",
    "        pcox.ref.fit.ls[[end.point]] = NULL\n",
    "    }\n",
    "}"
   ]
  },
  {
   "cell_type": "markdown",
   "id": "ddef07be-9f81-48ff-854b-cb7122973285",
   "metadata": {},
   "source": [
    "## 6.3 Make predictions with the full model\n",
    "\n",
    "### 6.3.1 Training set "
   ]
  },
  {
   "cell_type": "code",
   "execution_count": 95,
   "id": "labeled-factory",
   "metadata": {
    "tags": []
   },
   "outputs": [],
   "source": [
    "# Store the result tables\n",
    "KM.train.ref.by.risk.ls = list()\n",
    "C.index.ref.train.ls = list()\n",
    "AUC.train.ref.ls = list()"
   ]
  },
  {
   "cell_type": "code",
   "execution_count": 96,
   "id": "flush-oxygen",
   "metadata": {
    "tags": []
   },
   "outputs": [],
   "source": [
    "# Iterate over end points \n",
    "for (end.point in c(\"OS\",\"DSS\",\"DFI\",\"PFI\")){\n",
    "    \n",
    "    if (is.null(pcox.ref.fit.ls[[end.point]]) != T) {\n",
    "    \n",
    "        # Apply model to predict the risk scores \n",
    "        rel.risk = predict(object = pcox.ref.fit.ls[[end.point]], \n",
    "               newdata = tcga.dataset.merged[[end.point]]$train[,paste0(clin.var, \".clin\"), drop = F], \n",
    "               type = \"risk\")\n",
    "\n",
    "        # Stratify validation data into two groups based on the fitted relative risk\n",
    "        y.data <- tcga.dataset.merged[[end.point]]$train[paste0(end.point, c(\".clin\",\".time.clin\"))]\n",
    "        colnames(y.data) = c(\"status\",\"time\")\n",
    "    \n",
    "    \n",
    "        # TEST new function for calculating the C-index\n",
    "        cindex.ref.train = concordance.index(rel.risk, \n",
    "                                         y.data$time, \n",
    "                                         y.data$status,\n",
    "                                         na.rm = TRUE)\n",
    "        \n",
    "        C.index.ref.train.ls[[end.point]] = data.frame(\"C-index\" = round(cindex.ref.train$c.index, 4),\n",
    "                                   \"C-index CI\" = paste0(\"(\", round(cindex.ref.train$lower, 4), \" - \",  \n",
    "                                                         round(cindex.ref.train$upper, 4), \")\"), check.names = F)\n",
    "    \n",
    "        # Plot KM and extract the p-value  \n",
    "        KM.train.ref.by.risk = plotKMbyRelativeRisk(data = y.data, \n",
    "                                                                rel.risk = rel.risk)\n",
    "    \n",
    "        KM.train.ref.by.risk.ls[[end.point]] =  KM.train.ref.by.risk$table\n",
    "    \n",
    "        # Calculate AUCs \n",
    "        auc.vect = round(map_dbl(c(365, 3 * 365, 5 * 365), .f = calcAUC, \n",
    "                   time = y.data$time, status = y.data$status , risk.score = rel.risk),4)\n",
    "        \n",
    "        names(auc.vect) = c(\"AUC (1y)\", \"AUC (3y)\", \"AUC (5y)\")\n",
    "        \n",
    "        AUC.train.ref.ls[[end.point]] = as.data.frame(t(data.frame(auc.vect)))  \n",
    "    \n",
    "    } else {\n",
    "        \n",
    "        KM.train.ref.by.risk.ls[[end.point]] = NULL\n",
    "        C.index.ref.train.ls[[end.point]] = NULL\n",
    "        AUC.train.ref.ls[[end.point]] = NULL\n",
    "        \n",
    "    }    \n",
    "}"
   ]
  },
  {
   "cell_type": "markdown",
   "id": "6328d064-8390-4de4-869b-fbc333195761",
   "metadata": {},
   "source": [
    "### 6.3.2 Validation set"
   ]
  },
  {
   "cell_type": "code",
   "execution_count": 97,
   "id": "norwegian-commerce",
   "metadata": {
    "tags": []
   },
   "outputs": [],
   "source": [
    "# Store the result tables\n",
    "KM.valid.ref.by.risk.ls = list()\n",
    "C.index.ref.valid.ls = list()\n",
    "AUC.valid.ref.ls = list()"
   ]
  },
  {
   "cell_type": "code",
   "execution_count": 98,
   "id": "aggregate-leave",
   "metadata": {
    "tags": []
   },
   "outputs": [],
   "source": [
    "# Iterate over end points \n",
    "for (end.point in c(\"OS\",\"DSS\",\"DFI\",\"PFI\")){\n",
    "    \n",
    "    \n",
    "    if (is.null(pcox.ref.fit.ls[[end.point]]) != T) {\n",
    "    \n",
    "        # Apply model to predict the risk scores \n",
    "        rel.risk = predict(object = pcox.ref.fit.ls[[end.point]], \n",
    "               newdata = tcga.dataset.merged[[end.point]]$validation[,paste0(clin.var, \".clin\"), drop = F], \n",
    "               type = \"risk\")\n",
    "    \n",
    "        # Stratify validation data into two groups based on the fitted relative risk\n",
    "        y.data <- tcga.dataset.merged[[end.point]]$validation[paste0(end.point, c(\".clin\",\".time.clin\"))]\n",
    "        colnames(y.data) = c(\"status\",\"time\")\n",
    "    \n",
    "    \n",
    "        # TEST new function for calculating the C-index\n",
    "        cindex.ref.valid = concordance.index(rel.risk, \n",
    "                                         y.data$time, \n",
    "                                         y.data$status,\n",
    "                                         na.rm = TRUE)\n",
    "        \n",
    "        C.index.ref.valid.ls[[end.point]] = data.frame(\"C-index\" = round(cindex.ref.valid$c.index, 4),\n",
    "                                                   \"C-index CI\" = paste0(\"(\", round(cindex.ref.valid$lower, 4), \" - \",  \n",
    "                                                         round(cindex.ref.valid$upper, 4), \")\"), check.names = F)\n",
    "    \n",
    "        # Plot KM and extract the p-value  \n",
    "        KM.valid.ref.by.risk = plotKMbyRelativeRisk(data = y.data, \n",
    "                                                rel.risk = rel.risk)\n",
    "    \n",
    "        KM.valid.ref.by.risk.ls[[end.point]] =  KM.valid.ref.by.risk$table\n",
    "    \n",
    "    \n",
    "        # Calculate AUCs \n",
    "        auc.vect = round(map_dbl(c(365, 3 * 365, 5 * 365), .f = calcAUC, \n",
    "                   time = y.data$time, status = y.data$status , risk.score = rel.risk),4)\n",
    "        \n",
    "        names(auc.vect) = c(\"AUC (1y)\", \"AUC (3y)\", \"AUC (5y)\")\n",
    "        \n",
    "        AUC.valid.ref.ls[[end.point]] = as.data.frame(t(data.frame(auc.vect)))\n",
    "        \n",
    "    } else {\n",
    "        \n",
    "        KM.valid.ref.by.risk.ls[[end.point]] = NULL\n",
    "        C.index.ref.valid.ls[[end.point]] = NULL\n",
    "        AUC.valid.ref.ls[[end.point]] = NULL\n",
    "    \n",
    "    }\n",
    "}"
   ]
  },
  {
   "cell_type": "code",
   "execution_count": 99,
   "id": "hybrid-watson",
   "metadata": {
    "tags": []
   },
   "outputs": [],
   "source": [
    "# Collect the results into a single data frame\n",
    "\n",
    "# Log-rank test results \n",
    "KM.train.ref.by.risk.df = bind_rows(KM.train.ref.by.risk.ls, .id = \"End point\")\n",
    "KM.valid.ref.by.risk.df = bind_rows(KM.valid.ref.by.risk.ls, .id = \"End point\")\n",
    "\n",
    "# C-indices\n",
    "C.index.ref.train.df = bind_rows(C.index.ref.train.ls , .id = \"End point\")\n",
    "C.index.ref.valid.df = bind_rows(C.index.ref.valid.ls , .id = \"End point\")\n",
    "\n",
    "# AUCs \n",
    "auc.train.ref.df = bind_rows(AUC.train.ref.ls, .id  = \"End point\") \n",
    "auc.valid.ref.df = bind_rows(AUC.valid.ref.ls, .id  = \"End point\")"
   ]
  },
  {
   "cell_type": "code",
   "execution_count": 100,
   "id": "cooked-second",
   "metadata": {
    "tags": []
   },
   "outputs": [],
   "source": [
    "# Store final resilts\n",
    "write.csv(KM.train.ref.by.risk.df, file.path(dir.res.pcox, \"Final_evaluation_results_training.csv\"), row.names = F)\n",
    "write.csv(KM.valid.ref.by.risk.df, file.path(dir.res.pcox, \"Final_evaluation_results_validation.csv\"),row.names = F)\n",
    "\n",
    "write.csv(C.index.ref.train.df, file.path(dir.res.pcox, \"Final_evaluation_C_index_training.csv\"), row.names = F)\n",
    "write.csv(C.index.ref.valid.df, file.path(dir.res.pcox, \"Final_evaluation_C_index_validation.csv\"), row.names = F)\n",
    "\n",
    "write.csv(auc.train.ref.df, file.path(dir.res.pcox, \"Final_evaluation_AUC_training.csv\"), row.names = F)\n",
    "write.csv(auc.valid.ref.df, file.path(dir.res.pcox, \"Final_evaluation_AUC_validation.csv\"), row.names = F)"
   ]
  },
  {
   "cell_type": "code",
   "execution_count": 101,
   "id": "executive-laugh",
   "metadata": {
    "tags": []
   },
   "outputs": [],
   "source": [
    "# Collect into a list \n",
    "final.result.collection = list(\"FSS1_sample_summary\" = nsamples_step1_ls,\n",
    "                               \"Clinical_endpoint_stats\" = clinical.end.point.stats,\n",
    "                               \"Feature_summary_stats\" = summary.stats.ls,\n",
    "                               \"Clin_Feature_summary_stats\" = clin.summary.table,\n",
    "                               \"FSS1_results_summary\" = km.pvalue.table.ls,\n",
    "                               \"FSS2_sample_summary_no_clin\" = nsamples_step2_ls_no_clin,\n",
    "                               \"FSS2_regcox_res_no_clin\" = rcox.res.no.clin.ls,\n",
    "                               \"Final_res_KM_no_clin_train\" = KM.by.risk.no.clin.train,\n",
    "                               \"Final_res_KM_no_clin_valid\" = KM.by.risk.no.clin.valid,\n",
    "                               \"FSS2_sample_summary_with_clin\" = nsamples_step2_ls_with_clin,\n",
    "                               \"FSS2_regcox_res_with_clin\" = rcox.res.with.clin.ls,\n",
    "                               \"Final_res_KM_with_clin_train\" = KM.by.risk.with.clin.train,\n",
    "                               \"Final_res_KM_with_clin_valid\" = KM.by.risk.with.clin.valid,\n",
    "                               \"FSS2_sample_summary_only_clin\" = nsamples.step2,\n",
    "                               \"Final_res_KM_only_clin_train\" = KM.train.ref.by.risk.df,\n",
    "                               \"Final_res_KM_only_clin_valid\" = KM.valid.ref.by.risk.df)"
   ]
  },
  {
   "cell_type": "code",
   "execution_count": 102,
   "id": "identified-astronomy",
   "metadata": {
    "tags": []
   },
   "outputs": [],
   "source": [
    "saveRDS(final.result.collection, file.path(dir.res.root, \"Final_results_collection.rds\"))"
   ]
  },
  {
   "cell_type": "code",
   "execution_count": null,
   "id": "e8837438-dceb-4319-9656-4fc4884f6120",
   "metadata": {},
   "outputs": [],
   "source": []
  },
  {
   "cell_type": "code",
   "execution_count": null,
   "id": "496e7977-8114-4bb9-8385-b1c7a615014a",
   "metadata": {},
   "outputs": [],
   "source": []
  }
 ],
 "metadata": {
  "kernelspec": {
   "display_name": "r4.2.2",
   "language": "R",
   "name": "r4.2.2"
  },
  "language_info": {
   "codemirror_mode": "r",
   "file_extension": ".r",
   "mimetype": "text/x-r-source",
   "name": "R",
   "pygments_lexer": "r",
   "version": "4.2.2"
  }
 },
 "nbformat": 4,
 "nbformat_minor": 5
}
