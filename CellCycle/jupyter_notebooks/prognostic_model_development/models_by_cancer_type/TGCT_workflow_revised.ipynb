{
 "cells": [
  {
   "cell_type": "markdown",
   "id": "everyday-somewhere",
   "metadata": {},
   "source": [
    "# TGCT : Cox-regression with elastic net regularization\n",
    "\n",
    "# Introduction\n",
    "\n",
    "The purpose of this workflow is to introduce the KM based feature selection followed by regularised cox regression analysis using ENET. We have now \n",
    "updated the workflow according the reviewer comments. VST transformation is now done separately for the trainging and test sets.\n",
    "\n",
    "# Preparing workspace"
   ]
  },
  {
   "cell_type": "code",
   "execution_count": 1,
   "id": "noticed-revision",
   "metadata": {
    "execution": {
     "iopub.execute_input": "2024-02-02T17:16:54.450848Z",
     "iopub.status.busy": "2024-02-02T17:16:54.448915Z",
     "iopub.status.idle": "2024-02-02T17:17:07.963933Z",
     "shell.execute_reply": "2024-02-02T17:17:07.962318Z"
    }
   },
   "outputs": [
    {
     "name": "stderr",
     "output_type": "stream",
     "text": [
      "── \u001b[1mAttaching core tidyverse packages\u001b[22m ──────────────────────── tidyverse 2.0.0 ──\n",
      "\u001b[32m✔\u001b[39m \u001b[34mdplyr    \u001b[39m 1.1.3     \u001b[32m✔\u001b[39m \u001b[34mreadr    \u001b[39m 2.1.4\n",
      "\u001b[32m✔\u001b[39m \u001b[34mforcats  \u001b[39m 1.0.0     \u001b[32m✔\u001b[39m \u001b[34mstringr  \u001b[39m 1.5.0\n",
      "\u001b[32m✔\u001b[39m \u001b[34mggplot2  \u001b[39m 3.4.0     \u001b[32m✔\u001b[39m \u001b[34mtibble   \u001b[39m 3.2.1\n",
      "\u001b[32m✔\u001b[39m \u001b[34mlubridate\u001b[39m 1.9.2     \u001b[32m✔\u001b[39m \u001b[34mtidyr    \u001b[39m 1.2.1\n",
      "\u001b[32m✔\u001b[39m \u001b[34mpurrr    \u001b[39m 1.0.2     \n",
      "── \u001b[1mConflicts\u001b[22m ────────────────────────────────────────── tidyverse_conflicts() ──\n",
      "\u001b[31m✖\u001b[39m \u001b[34mdplyr\u001b[39m::\u001b[32mfilter()\u001b[39m masks \u001b[34mstats\u001b[39m::filter()\n",
      "\u001b[31m✖\u001b[39m \u001b[34mdplyr\u001b[39m::\u001b[32mlag()\u001b[39m    masks \u001b[34mstats\u001b[39m::lag()\n",
      "\u001b[36mℹ\u001b[39m Use the conflicted package (\u001b[3m\u001b[34m<http://conflicted.r-lib.org/>\u001b[39m\u001b[23m) to force all conflicts to become errors\n",
      "Loading required package: ggpubr\n",
      "\n",
      "\n",
      "Attaching package: ‘survminer’\n",
      "\n",
      "\n",
      "The following object is masked from ‘package:survival’:\n",
      "\n",
      "    myeloma\n",
      "\n",
      "\n",
      "Loading required package: Matrix\n",
      "\n",
      "\n",
      "Attaching package: ‘Matrix’\n",
      "\n",
      "\n",
      "The following objects are masked from ‘package:tidyr’:\n",
      "\n",
      "    expand, pack, unpack\n",
      "\n",
      "\n",
      "Loaded glmnet 4.1-8\n",
      "\n",
      "========================================\n",
      "circlize version 0.4.15\n",
      "CRAN page: https://cran.r-project.org/package=circlize\n",
      "Github page: https://github.com/jokergoo/circlize\n",
      "Documentation: https://jokergoo.github.io/circlize_book/book/\n",
      "\n",
      "If you use it in published research, please cite:\n",
      "Gu, Z. circlize implements and enhances circular visualization\n",
      "  in R. Bioinformatics 2014.\n",
      "\n",
      "This message can be suppressed by:\n",
      "  suppressPackageStartupMessages(library(circlize))\n",
      "========================================\n",
      "\n",
      "\n",
      "Loading required package: grid\n",
      "\n",
      "========================================\n",
      "ComplexHeatmap version 2.14.0\n",
      "Bioconductor page: http://bioconductor.org/packages/ComplexHeatmap/\n",
      "Github page: https://github.com/jokergoo/ComplexHeatmap\n",
      "Documentation: http://jokergoo.github.io/ComplexHeatmap-reference\n",
      "\n",
      "If you use it in published research, please cite either one:\n",
      "- Gu, Z. Complex Heatmap Visualization. iMeta 2022.\n",
      "- Gu, Z. Complex heatmaps reveal patterns and correlations in multidimensional \n",
      "    genomic data. Bioinformatics 2016.\n",
      "\n",
      "\n",
      "The new InteractiveComplexHeatmap package can directly export static \n",
      "complex heatmaps into an interactive Shiny app with zero effort. Have a try!\n",
      "\n",
      "This message can be suppressed by:\n",
      "  suppressPackageStartupMessages(library(ComplexHeatmap))\n",
      "========================================\n",
      "\n",
      "\n",
      "Loading required package: prodlim\n",
      "\n",
      "Loading required package: S4Vectors\n",
      "\n",
      "Loading required package: stats4\n",
      "\n",
      "Loading required package: BiocGenerics\n",
      "\n",
      "\n",
      "Attaching package: ‘BiocGenerics’\n",
      "\n",
      "\n",
      "The following objects are masked from ‘package:lubridate’:\n",
      "\n",
      "    intersect, setdiff, union\n",
      "\n",
      "\n",
      "The following objects are masked from ‘package:dplyr’:\n",
      "\n",
      "    combine, intersect, setdiff, union\n",
      "\n",
      "\n",
      "The following objects are masked from ‘package:stats’:\n",
      "\n",
      "    IQR, mad, sd, var, xtabs\n",
      "\n",
      "\n",
      "The following objects are masked from ‘package:base’:\n",
      "\n",
      "    anyDuplicated, aperm, append, as.data.frame, basename, cbind,\n",
      "    colnames, dirname, do.call, duplicated, eval, evalq, Filter, Find,\n",
      "    get, grep, grepl, intersect, is.unsorted, lapply, Map, mapply,\n",
      "    match, mget, order, paste, pmax, pmax.int, pmin, pmin.int,\n",
      "    Position, rank, rbind, Reduce, rownames, sapply, setdiff, sort,\n",
      "    table, tapply, union, unique, unsplit, which.max, which.min\n",
      "\n",
      "\n",
      "\n",
      "Attaching package: ‘S4Vectors’\n",
      "\n",
      "\n",
      "The following objects are masked from ‘package:Matrix’:\n",
      "\n",
      "    expand, unname\n",
      "\n",
      "\n",
      "The following objects are masked from ‘package:lubridate’:\n",
      "\n",
      "    second, second<-\n",
      "\n",
      "\n",
      "The following objects are masked from ‘package:dplyr’:\n",
      "\n",
      "    first, rename\n",
      "\n",
      "\n",
      "The following object is masked from ‘package:tidyr’:\n",
      "\n",
      "    expand\n",
      "\n",
      "\n",
      "The following objects are masked from ‘package:base’:\n",
      "\n",
      "    expand.grid, I, unname\n",
      "\n",
      "\n",
      "Loading required package: IRanges\n",
      "\n",
      "\n",
      "Attaching package: ‘IRanges’\n",
      "\n",
      "\n",
      "The following object is masked from ‘package:lubridate’:\n",
      "\n",
      "    %within%\n",
      "\n",
      "\n",
      "The following objects are masked from ‘package:dplyr’:\n",
      "\n",
      "    collapse, desc, slice\n",
      "\n",
      "\n",
      "The following object is masked from ‘package:purrr’:\n",
      "\n",
      "    reduce\n",
      "\n",
      "\n",
      "Loading required package: GenomicRanges\n",
      "\n",
      "Loading required package: GenomeInfoDb\n",
      "\n",
      "Loading required package: SummarizedExperiment\n",
      "\n",
      "Loading required package: MatrixGenerics\n",
      "\n",
      "Loading required package: matrixStats\n",
      "\n",
      "\n",
      "Attaching package: ‘matrixStats’\n",
      "\n",
      "\n",
      "The following object is masked from ‘package:dplyr’:\n",
      "\n",
      "    count\n",
      "\n",
      "\n",
      "\n",
      "Attaching package: ‘MatrixGenerics’\n",
      "\n",
      "\n",
      "The following objects are masked from ‘package:matrixStats’:\n",
      "\n",
      "    colAlls, colAnyNAs, colAnys, colAvgsPerRowSet, colCollapse,\n",
      "    colCounts, colCummaxs, colCummins, colCumprods, colCumsums,\n",
      "    colDiffs, colIQRDiffs, colIQRs, colLogSumExps, colMadDiffs,\n",
      "    colMads, colMaxs, colMeans2, colMedians, colMins, colOrderStats,\n",
      "    colProds, colQuantiles, colRanges, colRanks, colSdDiffs, colSds,\n",
      "    colSums2, colTabulates, colVarDiffs, colVars, colWeightedMads,\n",
      "    colWeightedMeans, colWeightedMedians, colWeightedSds,\n",
      "    colWeightedVars, rowAlls, rowAnyNAs, rowAnys, rowAvgsPerColSet,\n",
      "    rowCollapse, rowCounts, rowCummaxs, rowCummins, rowCumprods,\n",
      "    rowCumsums, rowDiffs, rowIQRDiffs, rowIQRs, rowLogSumExps,\n",
      "    rowMadDiffs, rowMads, rowMaxs, rowMeans2, rowMedians, rowMins,\n",
      "    rowOrderStats, rowProds, rowQuantiles, rowRanges, rowRanks,\n",
      "    rowSdDiffs, rowSds, rowSums2, rowTabulates, rowVarDiffs, rowVars,\n",
      "    rowWeightedMads, rowWeightedMeans, rowWeightedMedians,\n",
      "    rowWeightedSds, rowWeightedVars\n",
      "\n",
      "\n",
      "Loading required package: Biobase\n",
      "\n",
      "Welcome to Bioconductor\n",
      "\n",
      "    Vignettes contain introductory material; view with\n",
      "    'browseVignettes()'. To cite Bioconductor, see\n",
      "    'citation(\"Biobase\")', and for packages 'citation(\"pkgname\")'.\n",
      "\n",
      "\n",
      "\n",
      "Attaching package: ‘Biobase’\n",
      "\n",
      "\n",
      "The following object is masked from ‘package:MatrixGenerics’:\n",
      "\n",
      "    rowMedians\n",
      "\n",
      "\n",
      "The following objects are masked from ‘package:matrixStats’:\n",
      "\n",
      "    anyMissing, rowMedians\n",
      "\n",
      "\n"
     ]
    }
   ],
   "source": [
    "setwd(\"/home/data/project_code/landstrom_core/prognostic_model_development/r/notebooks\")\n",
    "\n",
    "library(tidyverse)\n",
    "library(survival)\n",
    "library(survminer)\n",
    "library(glmnet)\n",
    "library(WriteXLS)\n",
    "library(ggfortify)\n",
    "library(circlize)\n",
    "library(ComplexHeatmap)\n",
    "library(parallel)\n",
    "library(broom)\n",
    "library(survcomp)\n",
    "library(survivalROC)\n",
    "library(gtsummary)\n",
    "source(\"../getTCGAData.R\")\n",
    "source(\"../preprocessTCGAData.R\")\n",
    "source(\"../KM_analysis.R\")\n",
    "source(\"../Heatmaps.R\")\n",
    "source(\"../enet.R\")"
   ]
  },
  {
   "cell_type": "markdown",
   "id": "rational-myrtle",
   "metadata": {},
   "source": [
    "# Setting up paths and clinical variables"
   ]
  },
  {
   "cell_type": "code",
   "execution_count": 2,
   "id": "fleet-friday",
   "metadata": {
    "execution": {
     "iopub.execute_input": "2024-02-02T17:17:07.994677Z",
     "iopub.status.busy": "2024-02-02T17:17:07.967891Z",
     "iopub.status.idle": "2024-02-02T17:17:08.004665Z",
     "shell.execute_reply": "2024-02-02T17:17:08.003226Z"
    }
   },
   "outputs": [],
   "source": [
    "# Define the cancer type \n",
    "cancer.type = \"TGCT\""
   ]
  },
  {
   "cell_type": "code",
   "execution_count": 3,
   "id": "available-yield",
   "metadata": {
    "execution": {
     "iopub.execute_input": "2024-02-02T17:17:08.009115Z",
     "iopub.status.busy": "2024-02-02T17:17:08.007903Z",
     "iopub.status.idle": "2024-02-02T17:17:08.026739Z",
     "shell.execute_reply": "2024-02-02T17:17:08.025357Z"
    }
   },
   "outputs": [],
   "source": [
    "# Read in the table including the clinical features for each cancer type\n",
    "clin.feat.tb = read.table(\"/workstation/project_data/landstrom_core/clin_features_final.csv\", sep = \"\\t\", header = T)\n",
    "\n",
    "# Get Clinical variables\n",
    "clin.var = unlist(strsplit(clin.feat.tb$Features[clin.feat.tb$Ctype == cancer.type], split = \",\"))\n",
    "\n",
    "# Ensembl id mapping file \n",
    "ens.id.mapping = \"/home/organisms/Human/hg38/Homo_sapiens.GRCh38_March2022/ENSEMBLE_to_SYMBOL.csv\"\n",
    "\n",
    "# Output dir \n",
    "out.dir.data = file.path(\"/workstation/project_data/landstrom_core/rdata/manuscript_work/\", cancer.type)\n",
    "dir.create(out.dir.data, recursive = T)"
   ]
  },
  {
   "cell_type": "code",
   "execution_count": 4,
   "id": "loving-reader",
   "metadata": {
    "execution": {
     "iopub.execute_input": "2024-02-02T17:17:08.031128Z",
     "iopub.status.busy": "2024-02-02T17:17:08.029909Z",
     "iopub.status.idle": "2024-02-02T17:17:08.043814Z",
     "shell.execute_reply": "2024-02-02T17:17:08.042413Z"
    }
   },
   "outputs": [
    {
     "data": {
      "text/html": [
       "<style>\n",
       ".list-inline {list-style: none; margin:0; padding: 0}\n",
       ".list-inline>li {display: inline-block}\n",
       ".list-inline>li:not(:last-child)::after {content: \"\\00b7\"; padding: 0 .5ex}\n",
       "</style>\n",
       "<ol class=list-inline><li>'Age'</li><li>'Tumor.stage'</li></ol>\n"
      ],
      "text/latex": [
       "\\begin{enumerate*}\n",
       "\\item 'Age'\n",
       "\\item 'Tumor.stage'\n",
       "\\end{enumerate*}\n"
      ],
      "text/markdown": [
       "1. 'Age'\n",
       "2. 'Tumor.stage'\n",
       "\n",
       "\n"
      ],
      "text/plain": [
       "[1] \"Age\"         \"Tumor.stage\""
      ]
     },
     "metadata": {},
     "output_type": "display_data"
    }
   ],
   "source": [
    "clin.var"
   ]
  },
  {
   "cell_type": "markdown",
   "id": "prostate-simulation",
   "metadata": {},
   "source": [
    "# 1. Read in data \n",
    "\n",
    "Read in data using dedicated functions. Only parameter is the cancer code (Abbreviation) which can be \n",
    "found [here](https://gdc.cancer.gov/resources-tcga-users/tcga-code-tables/tcga-study-abbreviations)\n",
    "\n",
    "Read in copy-number data "
   ]
  },
  {
   "cell_type": "code",
   "execution_count": 5,
   "id": "stable-intelligence",
   "metadata": {
    "execution": {
     "iopub.execute_input": "2024-02-02T17:17:08.048244Z",
     "iopub.status.busy": "2024-02-02T17:17:08.047054Z",
     "iopub.status.idle": "2024-02-02T17:17:11.723324Z",
     "shell.execute_reply": "2024-02-02T17:17:11.721766Z"
    }
   },
   "outputs": [],
   "source": [
    "tcga.cn = getTCGACopyNumberData(cancer.type)"
   ]
  },
  {
   "cell_type": "markdown",
   "id": "emotional-israel",
   "metadata": {},
   "source": [
    "Read in gene expression data   "
   ]
  },
  {
   "cell_type": "code",
   "execution_count": 6,
   "id": "tight-hospital",
   "metadata": {
    "execution": {
     "iopub.execute_input": "2024-02-02T17:17:11.728440Z",
     "iopub.status.busy": "2024-02-02T17:17:11.727233Z",
     "iopub.status.idle": "2024-02-02T17:17:23.995450Z",
     "shell.execute_reply": "2024-02-02T17:17:23.993765Z"
    }
   },
   "outputs": [],
   "source": [
    "tcga.expr = getTCGAExpressionData(cancer.type, annotation.file = ens.id.mapping)"
   ]
  },
  {
   "cell_type": "markdown",
   "id": "authorized-booth",
   "metadata": {},
   "source": [
    "Read in clinical data "
   ]
  },
  {
   "cell_type": "code",
   "execution_count": 7,
   "id": "interracial-yacht",
   "metadata": {
    "execution": {
     "iopub.execute_input": "2024-02-02T17:17:24.000358Z",
     "iopub.status.busy": "2024-02-02T17:17:23.999143Z",
     "iopub.status.idle": "2024-02-02T17:17:24.233805Z",
     "shell.execute_reply": "2024-02-02T17:17:24.232265Z"
    }
   },
   "outputs": [],
   "source": [
    "# Get cancer specific clinical data \n",
    "tcga.clin = getClinData(cancer.type)\n",
    "\n",
    "# Get the end point related clinical data \n",
    "tcga.endpoints = getClinEndpointData(cancer.type) %>% dplyr::select(bcr_patient_barcode, OS, OS.time, DSS, DSS.time, DFI, DFI.time, PFI, PFI.time)\n",
    "\n",
    "# Merge end point data to clinical data \n",
    "tcga.clin = dplyr::left_join(tcga.clin, tcga.endpoints, by = \"bcr_patient_barcode\")\n",
    "\n",
    "write.csv(tcga.clin, file.path(out.dir.data, \"clinical_data.csv\"))"
   ]
  },
  {
   "cell_type": "markdown",
   "id": "suffering-composition",
   "metadata": {},
   "source": [
    "# 2. Preprocessing of the data\n",
    "\n",
    "## 2.1 Copy number data\n",
    "\n",
    "Keep only primary tumor samples "
   ]
  },
  {
   "cell_type": "code",
   "execution_count": 8,
   "id": "wired-colorado",
   "metadata": {
    "execution": {
     "iopub.execute_input": "2024-02-02T17:17:24.238564Z",
     "iopub.status.busy": "2024-02-02T17:17:24.237374Z",
     "iopub.status.idle": "2024-02-02T17:17:24.290131Z",
     "shell.execute_reply": "2024-02-02T17:17:24.288772Z"
    }
   },
   "outputs": [],
   "source": [
    "tcga.cn = selectPrimaryT(tcga.cn)"
   ]
  },
  {
   "cell_type": "markdown",
   "id": "convinced-ireland",
   "metadata": {},
   "source": [
    "Drop out duplicate samples "
   ]
  },
  {
   "cell_type": "code",
   "execution_count": 9,
   "id": "round-reduction",
   "metadata": {
    "execution": {
     "iopub.execute_input": "2024-02-02T17:17:24.294569Z",
     "iopub.status.busy": "2024-02-02T17:17:24.293408Z",
     "iopub.status.idle": "2024-02-02T17:17:24.372638Z",
     "shell.execute_reply": "2024-02-02T17:17:24.370610Z"
    }
   },
   "outputs": [],
   "source": [
    "tcga.cn = dropDuplicateSamples(tcga.cn)"
   ]
  },
  {
   "cell_type": "markdown",
   "id": "weird-harvard",
   "metadata": {},
   "source": [
    "Prepare data matrix: "
   ]
  },
  {
   "cell_type": "code",
   "execution_count": 10,
   "id": "conditional-turkish",
   "metadata": {
    "execution": {
     "iopub.execute_input": "2024-02-02T17:17:24.377451Z",
     "iopub.status.busy": "2024-02-02T17:17:24.376231Z",
     "iopub.status.idle": "2024-02-02T17:17:27.256192Z",
     "shell.execute_reply": "2024-02-02T17:17:27.254614Z"
    }
   },
   "outputs": [],
   "source": [
    "tcga.cn.datamat = prepareDataMatrix(tcga.cn)\n",
    "saveRDS(tcga.cn.datamat, file = file.path(out.dir.data, \"copy_number_status.rds\"))"
   ]
  },
  {
   "cell_type": "markdown",
   "id": "welcome-treasury",
   "metadata": {},
   "source": [
    "Keep only the primary tumors "
   ]
  },
  {
   "cell_type": "code",
   "execution_count": 11,
   "id": "massive-installation",
   "metadata": {
    "execution": {
     "iopub.execute_input": "2024-02-02T17:17:27.261124Z",
     "iopub.status.busy": "2024-02-02T17:17:27.259905Z",
     "iopub.status.idle": "2024-02-02T17:17:27.344104Z",
     "shell.execute_reply": "2024-02-02T17:17:27.342414Z"
    }
   },
   "outputs": [],
   "source": [
    "tcga.expr = selectPrimaryT(tcga.expr)"
   ]
  },
  {
   "cell_type": "markdown",
   "id": "close-duplicate",
   "metadata": {},
   "source": [
    "Drop duplicate samples "
   ]
  },
  {
   "cell_type": "code",
   "execution_count": 12,
   "id": "champion-endorsement",
   "metadata": {
    "execution": {
     "iopub.execute_input": "2024-02-02T17:17:27.348882Z",
     "iopub.status.busy": "2024-02-02T17:17:27.347665Z",
     "iopub.status.idle": "2024-02-02T17:17:28.327706Z",
     "shell.execute_reply": "2024-02-02T17:17:28.326024Z"
    }
   },
   "outputs": [],
   "source": [
    "tcga.expr = dropDuplicateSamples(tcga.expr)"
   ]
  },
  {
   "cell_type": "markdown",
   "id": "allied-constraint",
   "metadata": {},
   "source": [
    "Finally we prepare a data matrix"
   ]
  },
  {
   "cell_type": "code",
   "execution_count": 13,
   "id": "medical-alfred",
   "metadata": {
    "execution": {
     "iopub.execute_input": "2024-02-02T17:17:28.332492Z",
     "iopub.status.busy": "2024-02-02T17:17:28.331287Z",
     "iopub.status.idle": "2024-02-02T17:17:50.046800Z",
     "shell.execute_reply": "2024-02-02T17:17:50.043960Z"
    }
   },
   "outputs": [],
   "source": [
    "tcga.expr.datamat = prepareDataMatrix(tcga.expr)"
   ]
  },
  {
   "cell_type": "code",
   "execution_count": 14,
   "id": "interested-hawaii",
   "metadata": {
    "execution": {
     "iopub.execute_input": "2024-02-02T17:17:50.052989Z",
     "iopub.status.busy": "2024-02-02T17:17:50.051485Z",
     "iopub.status.idle": "2024-02-02T17:17:54.822290Z",
     "shell.execute_reply": "2024-02-02T17:17:54.820487Z"
    }
   },
   "outputs": [],
   "source": [
    "saveRDS(tcga.expr.datamat, \n",
    "        file = file.path(out.dir.data, \"raw_expressions.rds\"))"
   ]
  },
  {
   "cell_type": "code",
   "execution_count": 15,
   "id": "d6651ceb-a504-46ca-9d89-ad9f2c8ba050",
   "metadata": {
    "execution": {
     "iopub.execute_input": "2024-02-02T17:17:54.827933Z",
     "iopub.status.busy": "2024-02-02T17:17:54.826416Z",
     "iopub.status.idle": "2024-02-02T17:17:55.215038Z",
     "shell.execute_reply": "2024-02-02T17:17:55.213170Z"
    }
   },
   "outputs": [],
   "source": [
    "tcga.expr.datamat = readRDS(file.path(out.dir.data, \"raw_expressions.rds\"))"
   ]
  },
  {
   "cell_type": "markdown",
   "id": "democratic-neutral",
   "metadata": {},
   "source": [
    "## 2.3 Merging all data \n",
    "\n",
    "Merge all the different data types together. Takes the clinical data as \n",
    "a separate argument and the sequencing data as a list of data matrices.\n",
    "Suffixes are added based on user given vector which correspond to the \n",
    "order in which datamatrices are in the data list."
   ]
  },
  {
   "cell_type": "code",
   "execution_count": 16,
   "id": "welcome-message",
   "metadata": {
    "execution": {
     "iopub.execute_input": "2024-02-02T17:17:55.220783Z",
     "iopub.status.busy": "2024-02-02T17:17:55.219236Z",
     "iopub.status.idle": "2024-02-02T17:18:00.008054Z",
     "shell.execute_reply": "2024-02-02T17:18:00.006397Z"
    }
   },
   "outputs": [],
   "source": [
    "tcga.dataset = mergeTCGAdata(clin.data = tcga.clin,\n",
    "                                  data = list(\"CN\" = tcga.cn.datamat, \n",
    "                                              \"EXP\" = tcga.expr.datamat), \n",
    "                                  data.suffixes = c(\"cn\",\"exp\"))"
   ]
  },
  {
   "cell_type": "markdown",
   "id": "conservative-regulation",
   "metadata": {},
   "source": [
    "## 2.4 Process clinical data (Cancer type dependent)"
   ]
  },
  {
   "cell_type": "code",
   "execution_count": 17,
   "id": "seven-local",
   "metadata": {
    "execution": {
     "iopub.execute_input": "2024-02-02T17:18:00.013328Z",
     "iopub.status.busy": "2024-02-02T17:18:00.012101Z",
     "iopub.status.idle": "2024-02-02T17:18:00.023440Z",
     "shell.execute_reply": "2024-02-02T17:18:00.022064Z"
    }
   },
   "outputs": [],
   "source": [
    "# Define function for adding the clinical variables \n",
    "addClinVar = function(data, clin.var) {\n",
    "    if (\"Age\" %in% clin.var) {\n",
    "        data$CLIN$Age.clin <- data$CLIN$age_at_diagnosis.clin\n",
    "    } \n",
    "    if (\"Tumor.stage\" %in% clin.var){\n",
    "        data$CLIN$Tumor.stage.clin = factor(map_chr(data$CLIN$ajcc_pathologic_stage.clin, reformatTumorStage))\n",
    "    }\n",
    "    if (\"Gender\" %in% clin.var){\n",
    "        data$CLIN$Gender.clin <- factor(data$CLIN$gender.clin)    \n",
    "    } \n",
    "    if (\"Gleason.group\" %in% clin.var) {\n",
    "        \n",
    "        # Determine the Gleason group \n",
    "        data$CLIN$Gleason.group.clin = map2_chr(data$CLIN$primary_gleason_grade.clin, \n",
    "                                           data$CLIN$secondary_gleason_grade.clin, \n",
    "                                           determineGleasonGroup)\n",
    "\n",
    "        # Set up the factor levels \n",
    "        data$CLIN$Gleason.group.clin = factor(data$CLIN$Gleason.group.clin, \n",
    "                                    levels = c(\"Gleason_group_1\", \"Gleason_group_2\"))\n",
    "    }\n",
    "    return(data)\n",
    "}"
   ]
  },
  {
   "cell_type": "code",
   "execution_count": 18,
   "id": "valued-disposal",
   "metadata": {
    "execution": {
     "iopub.execute_input": "2024-02-02T17:18:00.028115Z",
     "iopub.status.busy": "2024-02-02T17:18:00.026925Z",
     "iopub.status.idle": "2024-02-02T17:18:00.082112Z",
     "shell.execute_reply": "2024-02-02T17:18:00.080754Z"
    }
   },
   "outputs": [],
   "source": [
    "# Add clinical variables to dataset\n",
    "tcga.dataset = addClinVar(tcga.dataset, clin.var)"
   ]
  },
  {
   "cell_type": "code",
   "execution_count": 19,
   "id": "formal-holder",
   "metadata": {
    "execution": {
     "iopub.execute_input": "2024-02-02T17:18:00.086388Z",
     "iopub.status.busy": "2024-02-02T17:18:00.085223Z",
     "iopub.status.idle": "2024-02-02T17:18:04.456328Z",
     "shell.execute_reply": "2024-02-02T17:18:04.454614Z"
    }
   },
   "outputs": [],
   "source": [
    "saveRDS(tcga.dataset, file = file.path(out.dir.data, \"tcga.dataset.rds\"))"
   ]
  },
  {
   "cell_type": "markdown",
   "id": "chicken-salem",
   "metadata": {},
   "source": [
    "Cleaning up"
   ]
  },
  {
   "cell_type": "code",
   "execution_count": 20,
   "id": "beautiful-rocket",
   "metadata": {
    "execution": {
     "iopub.execute_input": "2024-02-02T17:18:04.461341Z",
     "iopub.status.busy": "2024-02-02T17:18:04.459954Z",
     "iopub.status.idle": "2024-02-02T17:18:04.475580Z",
     "shell.execute_reply": "2024-02-02T17:18:04.473899Z"
    }
   },
   "outputs": [],
   "source": [
    "rm(\"tcga.expr\")\n",
    "rm(\"tcga.cn\")\n",
    "rm(\"tcga.clin\")"
   ]
  },
  {
   "cell_type": "markdown",
   "id": "political-transaction",
   "metadata": {},
   "source": [
    "# 3. KM based univariate feature selection\n",
    "\n",
    "We will now perform the univariate feature selection which is the first phase of \n",
    "the actual analysis. The idea is to prefilter some features which have no predictive \n",
    "power regarding survival. We will select one clinical end point which seems to carry \n",
    "most events to maximise the statistical power. \n",
    "\n",
    "## 3.1 Loading data and selection of variables \n",
    "\n",
    "Load the dataset if needed"
   ]
  },
  {
   "cell_type": "code",
   "execution_count": 21,
   "id": "environmental-joshua",
   "metadata": {
    "execution": {
     "iopub.execute_input": "2024-02-02T17:18:04.480861Z",
     "iopub.status.busy": "2024-02-02T17:18:04.479501Z",
     "iopub.status.idle": "2024-02-02T17:18:04.489323Z",
     "shell.execute_reply": "2024-02-02T17:18:04.487727Z"
    }
   },
   "outputs": [],
   "source": [
    "# Read in the preprocessed dataset if continued \n",
    "#tcga.dataset = readRDS(file.path(out.dir.data, \"tcga.dataset.rds\"))\n",
    "\n",
    "# Raw expression data \n",
    "#tcga.expr.raw.datamat = readRDS(file.path(out.dir.data, \"raw_expressions.rds\"))"
   ]
  },
  {
   "cell_type": "markdown",
   "id": "widespread-pencil",
   "metadata": {},
   "source": [
    "Define and create output directories "
   ]
  },
  {
   "cell_type": "code",
   "execution_count": 22,
   "id": "competitive-validity",
   "metadata": {
    "execution": {
     "iopub.execute_input": "2024-02-02T17:18:04.494462Z",
     "iopub.status.busy": "2024-02-02T17:18:04.492892Z",
     "iopub.status.idle": "2024-02-02T17:18:04.510562Z",
     "shell.execute_reply": "2024-02-02T17:18:04.508832Z"
    }
   },
   "outputs": [],
   "source": [
    "# Define and create the root directory for results \n",
    "dir.res.root = file.path(\"/workstation/project_results/landstrom_core/prognostic_model_development/models_by_cancer_type/\", cancer.type)\n",
    "dir.create(dir.res.root, recursive = T)\n",
    "\n",
    "# Define and create the results for the KM analysis \n",
    "dir.res.km = file.path(dir.res.root, \"Kaplan_Meier_plots\")\n",
    "dir.create(dir.res.km)"
   ]
  },
  {
   "cell_type": "markdown",
   "id": "naughty-reliance",
   "metadata": {},
   "source": [
    "Read in the gene list of interest including the customer genes"
   ]
  },
  {
   "cell_type": "code",
   "execution_count": 23,
   "id": "funky-scotland",
   "metadata": {
    "execution": {
     "iopub.execute_input": "2024-02-02T17:18:04.515086Z",
     "iopub.status.busy": "2024-02-02T17:18:04.513858Z",
     "iopub.status.idle": "2024-02-02T17:18:04.526202Z",
     "shell.execute_reply": "2024-02-02T17:18:04.524801Z"
    }
   },
   "outputs": [],
   "source": [
    "# Gene list  \n",
    "gene.list.file = read.table(\"/workstation/project_data/landstrom_core/Customer_genes.tsv\", \n",
    "                            sep = \"\\t\", header = F)\n",
    "gene.list = gene.list.file$V1"
   ]
  },
  {
   "cell_type": "markdown",
   "id": "enormous-reggae",
   "metadata": {},
   "source": [
    "Tabulate the number of events. Value 0 means sensored and value 1 an event."
   ]
  },
  {
   "cell_type": "code",
   "execution_count": 24,
   "id": "excellent-medicaid",
   "metadata": {
    "execution": {
     "iopub.execute_input": "2024-02-02T17:18:04.530737Z",
     "iopub.status.busy": "2024-02-02T17:18:04.529479Z",
     "iopub.status.idle": "2024-02-02T17:18:04.628151Z",
     "shell.execute_reply": "2024-02-02T17:18:04.626693Z"
    }
   },
   "outputs": [
    {
     "name": "stderr",
     "output_type": "stream",
     "text": [
      "\u001b[1m\u001b[22m`summarise()` has grouped output by 'name'. You can override using the\n",
      "`.groups` argument.\n"
     ]
    }
   ],
   "source": [
    "clinical.end.point.stats = tcga.dataset$CLIN %>% \n",
    "                                   dplyr::select(c(\"OS.clin\",\"DSS.clin\",\"DFI.clin\",\"PFI.clin\")) %>%\n",
    "                                   pivot_longer(everything()) %>%\n",
    "                                   mutate(value = factor(value)) %>%\n",
    "                                   group_by(name, value) %>%\n",
    "                                   summarise(N = n()) %>% \n",
    "                                   pivot_wider(names_from =  value,\n",
    "                                               values_from = N)"
   ]
  },
  {
   "cell_type": "markdown",
   "id": "criminal-accessory",
   "metadata": {},
   "source": [
    "## 3.2 Splitting dataset into training and validation set\n",
    "\n",
    "Here we change the original workflow such that we run the analysis for all clinical end points."
   ]
  },
  {
   "cell_type": "code",
   "execution_count": 25,
   "id": "another-breast",
   "metadata": {
    "execution": {
     "iopub.execute_input": "2024-02-02T17:18:04.632785Z",
     "iopub.status.busy": "2024-02-02T17:18:04.631528Z",
     "iopub.status.idle": "2024-02-02T17:18:04.645967Z",
     "shell.execute_reply": "2024-02-02T17:18:04.644607Z"
    }
   },
   "outputs": [],
   "source": [
    "# Here we store all the training and validation splits \n",
    "train_and_validation_ls = list()\n",
    "\n",
    "# Variables selected \n",
    "variables_selected_ls = list()\n",
    "\n",
    "# Number of samples in training and validation cohorts \n",
    "nsamples_step1_ls = list()"
   ]
  },
  {
   "cell_type": "code",
   "execution_count": 26,
   "id": "concrete-festival",
   "metadata": {
    "execution": {
     "iopub.execute_input": "2024-02-02T17:18:04.650403Z",
     "iopub.status.busy": "2024-02-02T17:18:04.649149Z",
     "iopub.status.idle": "2024-02-02T17:18:04.659840Z",
     "shell.execute_reply": "2024-02-02T17:18:04.658472Z"
    }
   },
   "outputs": [],
   "source": [
    "selectVariables = function(clinical.endpoint,\n",
    "                           clinical.variables,\n",
    "                           gene.list, \n",
    "                           data.suffixes){\n",
    "\n",
    "    # Construct the clinical features   \n",
    "    clinical.features =  c(paste0(clinical.endpoint, \".clin\"),\n",
    "                           paste0(clinical.endpoint, \".time.clin\"),\n",
    "                           paste0(clinical.variables, \".clin\"))\n",
    "\n",
    "    # Constructed the sequencing data features \n",
    "    seq.features = unlist(map(data.suffixes, \n",
    "                           .f = function(x, gene.list){paste(gene.list, x, sep = \".\")}, \n",
    "                           gene.list = gene.list))\n",
    "\n",
    "    # Construct the list of variables \n",
    "    feature.ls = c(clinical.features, seq.features)\n",
    "\n",
    "    return(feature.ls)\n",
    "}\n"
   ]
  },
  {
   "cell_type": "code",
   "execution_count": 27,
   "id": "identical-netherlands",
   "metadata": {
    "execution": {
     "iopub.execute_input": "2024-02-02T17:18:04.664323Z",
     "iopub.status.busy": "2024-02-02T17:18:04.663051Z",
     "iopub.status.idle": "2024-02-02T17:18:04.674461Z",
     "shell.execute_reply": "2024-02-02T17:18:04.673103Z"
    }
   },
   "outputs": [],
   "source": [
    "#\n",
    "# Function for splitting data randomly into \n",
    "# training and validation set \n",
    "#\n",
    "splitCases = function(obj, split, variables, seed) {\n",
    "    \n",
    "    \n",
    "  # keep track of statistics \n",
    "  ncases.initial = c()\n",
    "    \n",
    "  complete.ls = list()\n",
    "    \n",
    "  # We will only select the cases with complete data \n",
    "  for (i in 1:length(names(obj))){\n",
    "      \n",
    "      # Extract the data \n",
    "      data.type = names(obj)[i]\n",
    "      data = obj[[data.type]]\n",
    "      \n",
    "      # Find the variables of interest \n",
    "      variables.dat = variables[variables %in% colnames(data)]\n",
    "      \n",
    "      \n",
    "      # Check how many individuals there are with non missing data\n",
    "      # Boolean\n",
    "      complete = complete.cases(data[,variables.dat])\n",
    "      \n",
    "      complete.ls[[i]] = as.data.frame(complete)\n",
    "      \n",
    "      # Update the number of complete cases\n",
    "      ncases.initial = c(ncases.initial, sum(complete))\n",
    "      \n",
    "      \n",
    "  }\n",
    "    \n",
    "  # Select complete cases \n",
    "  complete.across.all = apply(bind_cols(complete.ls),1, all)\n",
    "    \n",
    "  print(paste0(\"Including \", sum(complete.across.all)  ,\" cases out of \", max(ncases.initial), \" cases\"))\n",
    "\n",
    "  \n",
    "  # Get the list of complete samples to be included \n",
    "  samples.included = obj$CLIN$Participant.ID[complete.across.all]\n",
    "  \n",
    "  if (split != 1.0) {\n",
    "    \n",
    "    set.seed(seed)\n",
    "    trainIdx <- sample(length(samples.included), split*length(samples.included), replace = FALSE)\n",
    "    \n",
    "    samples.train <- samples.included[trainIdx]\n",
    "    samples.valid <- samples.included[-trainIdx]\n",
    "       \n",
    "  } else {\n",
    "    \n",
    "    data.train <- samples.included\n",
    "    data.valid <- samples.included\n",
    "    \n",
    "  } \n",
    "  result.split = list(\"train\" = samples.train,\n",
    "                      \"validation\" = samples.valid)\n",
    "  return(result.split)\n",
    "}\n"
   ]
  },
  {
   "cell_type": "markdown",
   "id": "corporate-trail",
   "metadata": {},
   "source": [
    "Divide samples into training and evaluation sets "
   ]
  },
  {
   "cell_type": "code",
   "execution_count": 28,
   "id": "chronic-tracker",
   "metadata": {
    "execution": {
     "iopub.execute_input": "2024-02-02T17:18:04.679028Z",
     "iopub.status.busy": "2024-02-02T17:18:04.677765Z",
     "iopub.status.idle": "2024-02-02T17:18:05.029966Z",
     "shell.execute_reply": "2024-02-02T17:18:05.028569Z"
    }
   },
   "outputs": [
    {
     "name": "stderr",
     "output_type": "stream",
     "text": [
      "\u001b[1m\u001b[22mNew names:\n",
      "\u001b[36m•\u001b[39m `complete` -> `complete...1`\n",
      "\u001b[36m•\u001b[39m `complete` -> `complete...2`\n",
      "\u001b[36m•\u001b[39m `complete` -> `complete...3`\n"
     ]
    },
    {
     "name": "stdout",
     "output_type": "stream",
     "text": [
      "[1] \"Including 127 cases out of 150 cases\"\n"
     ]
    },
    {
     "name": "stderr",
     "output_type": "stream",
     "text": [
      "\u001b[1m\u001b[22mNew names:\n",
      "\u001b[36m•\u001b[39m `complete` -> `complete...1`\n",
      "\u001b[36m•\u001b[39m `complete` -> `complete...2`\n",
      "\u001b[36m•\u001b[39m `complete` -> `complete...3`\n"
     ]
    },
    {
     "name": "stdout",
     "output_type": "stream",
     "text": [
      "[1] \"Including 127 cases out of 150 cases\"\n"
     ]
    },
    {
     "name": "stderr",
     "output_type": "stream",
     "text": [
      "\u001b[1m\u001b[22mNew names:\n",
      "\u001b[36m•\u001b[39m `complete` -> `complete...1`\n",
      "\u001b[36m•\u001b[39m `complete` -> `complete...2`\n",
      "\u001b[36m•\u001b[39m `complete` -> `complete...3`\n"
     ]
    },
    {
     "name": "stdout",
     "output_type": "stream",
     "text": [
      "[1] \"Including 98 cases out of 150 cases\"\n"
     ]
    },
    {
     "name": "stderr",
     "output_type": "stream",
     "text": [
      "\u001b[1m\u001b[22mNew names:\n",
      "\u001b[36m•\u001b[39m `complete` -> `complete...1`\n",
      "\u001b[36m•\u001b[39m `complete` -> `complete...2`\n",
      "\u001b[36m•\u001b[39m `complete` -> `complete...3`\n"
     ]
    },
    {
     "name": "stdout",
     "output_type": "stream",
     "text": [
      "[1] \"Including 127 cases out of 150 cases\"\n"
     ]
    }
   ],
   "source": [
    "for (end.point in c(\"OS\",\"DSS\",\"DFI\",\"PFI\")){\n",
    "\n",
    "    \n",
    "    #\n",
    "    # No need to change the first part \n",
    "    #\n",
    "    \n",
    "    # Selected variables \n",
    "    variables.selected = selectVariables(clinical.endpoint = end.point,\n",
    "                                          clinical.variables = clin.var,\n",
    "                                         gene.list = gene.list, \n",
    "                                         data.suffixes = c(\"cn\",\"exp\"))\n",
    "    \n",
    "    variables_selected_ls[[end.point]] = variables.selected\n",
    "    \n",
    "    \n",
    "    #\n",
    "    # Splitting function needs to be change to accommondate the \n",
    "    # altered data structure \n",
    "    #\n",
    "    \n",
    "    # Data set is split randomly into training and validation sets. Only complete cases \n",
    "    # are selected.\n",
    "    train_and_validation = splitCases(obj = tcga.dataset, \n",
    "                                  split = 0.75, \n",
    "                                  variables = variables.selected, \n",
    "                                  seed = 42)\n",
    "    \n",
    "    # Update list\n",
    "    train_and_validation_ls[[end.point]] = train_and_validation \n",
    "    \n",
    "    \n",
    "    # Store number of  \n",
    "    nsamples.step1 = c(length(train_and_validation$train), length(train_and_validation$validation))\n",
    "    names(nsamples.step1) = c(\"ntrain.step1\", \"nvalid.step1\")\n",
    "    nsamples_step1_ls[[end.point]] = nsamples.step1\n",
    "}"
   ]
  },
  {
   "cell_type": "markdown",
   "id": "driven-roller",
   "metadata": {},
   "source": [
    "Split the data set into training and evaluation sets"
   ]
  },
  {
   "cell_type": "code",
   "execution_count": 29,
   "id": "wrong-activity",
   "metadata": {
    "execution": {
     "iopub.execute_input": "2024-02-02T17:18:05.034648Z",
     "iopub.status.busy": "2024-02-02T17:18:05.033450Z",
     "iopub.status.idle": "2024-02-02T17:18:05.044075Z",
     "shell.execute_reply": "2024-02-02T17:18:05.042716Z"
    }
   },
   "outputs": [],
   "source": [
    "splitDataset = function(obj, train_and_validation_ls){\n",
    "\n",
    "    # \n",
    "    split.obs.by.endpoint = list()\n",
    "    \n",
    "    for (end.point in names(train_and_validation_ls)){\n",
    "        \n",
    "        train.samples = train_and_validation_ls[[end.point]]$train\n",
    "        validation.samples = train_and_validation_ls[[end.point]]$validation\n",
    "        \n",
    "        # New entry \n",
    "        split.obs.by.endpoint[[end.point]] = list()\n",
    "        \n",
    "        for (data.type in names(obj)){\n",
    "            \n",
    "            split.obs.by.endpoint[[end.point]][[\"CLIN\"]] = list()  \n",
    "            split.obs.by.endpoint[[end.point]][[\"CLIN\"]][[\"train\"]] = obj$CLIN %>% \n",
    "                          dplyr::filter(Participant.ID %in% train.samples)\n",
    "            split.obs.by.endpoint[[end.point]][[\"CLIN\"]][[\"validation\"]] = obj$CLIN %>% \n",
    "                          dplyr::filter(Participant.ID %in% validation.samples)\n",
    "                    \n",
    "            split.obs.by.endpoint[[end.point]][[\"EXP\"]] = list()    \n",
    "            split.obs.by.endpoint[[end.point]][[\"EXP\"]][[\"train\"]] = obj$EXP %>% \n",
    "                          dplyr::filter(Participant.ID %in% train.samples)\n",
    "            split.obs.by.endpoint[[end.point]][[\"EXP\"]][[\"validation\"]] = obj$EXP %>% \n",
    "                          dplyr::filter(Participant.ID %in% validation.samples)\n",
    "            \n",
    "            split.obs.by.endpoint[[end.point]][[\"CN\"]] = list()\n",
    "            split.obs.by.endpoint[[end.point]][[\"CN\"]][[\"train\"]] = obj$CN %>% \n",
    "                          dplyr::filter(Participant.ID %in% train.samples)           \n",
    "            split.obs.by.endpoint[[end.point]][[\"CN\"]][[\"validation\"]] = obj$CN %>% \n",
    "                          dplyr::filter(Participant.ID %in% validation.samples)\n",
    "        }\n",
    "    }\n",
    "    return(split.obs.by.endpoint)\n",
    "}"
   ]
  },
  {
   "cell_type": "code",
   "execution_count": 30,
   "id": "municipal-justice",
   "metadata": {
    "execution": {
     "iopub.execute_input": "2024-02-02T17:18:05.048364Z",
     "iopub.status.busy": "2024-02-02T17:18:05.047207Z",
     "iopub.status.idle": "2024-02-02T17:18:35.652479Z",
     "shell.execute_reply": "2024-02-02T17:18:35.650059Z"
    }
   },
   "outputs": [],
   "source": [
    "tcga.dataset.splitted = splitDataset(tcga.dataset, train_and_validation_ls)"
   ]
  },
  {
   "cell_type": "markdown",
   "id": "59e96f75-019c-4ce0-8a22-a431626c0d79",
   "metadata": {},
   "source": [
    "## Calculate summary statistics for each clinical feature for each end point"
   ]
  },
  {
   "cell_type": "code",
   "execution_count": 31,
   "id": "9e8d4c58-7cda-484f-beeb-84d16bb8fa3c",
   "metadata": {
    "execution": {
     "iopub.execute_input": "2024-02-02T17:18:35.660238Z",
     "iopub.status.busy": "2024-02-02T17:18:35.658537Z",
     "iopub.status.idle": "2024-02-02T17:18:35.672430Z",
     "shell.execute_reply": "2024-02-02T17:18:35.670480Z"
    }
   },
   "outputs": [],
   "source": [
    "convertAge = function(x){\n",
    "    return(x/360)\n",
    "}"
   ]
  },
  {
   "cell_type": "code",
   "execution_count": 32,
   "id": "ed178292-717b-4643-a251-b3acaf808e27",
   "metadata": {
    "execution": {
     "iopub.execute_input": "2024-02-02T17:18:35.678422Z",
     "iopub.status.busy": "2024-02-02T17:18:35.676651Z",
     "iopub.status.idle": "2024-02-02T17:18:35.690073Z",
     "shell.execute_reply": "2024-02-02T17:18:35.688084Z"
    }
   },
   "outputs": [],
   "source": [
    "prepareSummary = function(end.point, data){\n",
    "    # Convert age \n",
    "    data[[end.point]]$CLIN$train$Age.clin = convertAge(data[[end.point]]$CLIN$train$Age.clin)\n",
    "    data[[end.point]]$CLIN$validation$Age.clin = convertAge(data[[end.point]]$CLIN$validation$Age.clin)\n",
    "    \n",
    "    a = data[[end.point]]$CLIN$train %>%\n",
    "          tbl_summary(include = paste0(clin.var, \".clin\")) %>% as_tibble()\n",
    "    \n",
    "    b = data[[end.point]]$CLIN$validation %>%\n",
    "          tbl_summary(include = paste0(clin.var, \".clin\")) %>% as_tibble()\n",
    "    \n",
    "    test = cbind(a,b)\n",
    "    test = test[,-3]\n",
    "    test = t(test)\n",
    "    test = as.data.frame(test)\n",
    "    colnames(test) = test[1,]\n",
    "    test = test[-1,]\n",
    "    test$End.point = end.point\n",
    "    return(test)\n",
    "}"
   ]
  },
  {
   "cell_type": "code",
   "execution_count": 33,
   "id": "e0229ccd-3d5c-4543-8064-c3db3c17324a",
   "metadata": {
    "execution": {
     "iopub.execute_input": "2024-02-02T17:18:35.695831Z",
     "iopub.status.busy": "2024-02-02T17:18:35.694101Z",
     "iopub.status.idle": "2024-02-02T17:18:41.381845Z",
     "shell.execute_reply": "2024-02-02T17:18:41.380236Z"
    }
   },
   "outputs": [],
   "source": [
    "clin.summary.table = bind_rows(map(c(\"OS\",\"DSS\",\"PFI\",\"DFI\"), \n",
    "                prepareSummary, \n",
    "                data = tcga.dataset.splitted))"
   ]
  },
  {
   "cell_type": "markdown",
   "id": "mighty-passing",
   "metadata": {},
   "source": [
    "## 3.3 Perform VST"
   ]
  },
  {
   "cell_type": "code",
   "execution_count": 34,
   "id": "recovered-syndicate",
   "metadata": {
    "execution": {
     "iopub.execute_input": "2024-02-02T17:18:41.386731Z",
     "iopub.status.busy": "2024-02-02T17:18:41.385489Z",
     "iopub.status.idle": "2024-02-02T17:23:26.662546Z",
     "shell.execute_reply": "2024-02-02T17:23:26.660813Z"
    }
   },
   "outputs": [
    {
     "name": "stderr",
     "output_type": "stream",
     "text": [
      "converting counts to integer mode\n",
      "\n",
      "gene-wise dispersion estimates\n",
      "\n",
      "mean-dispersion relationship\n",
      "\n",
      "final dispersion estimates\n",
      "\n",
      "converting counts to integer mode\n",
      "\n",
      "variance of dispersion residuals not estimated (necessary only for differential expression calling)\n",
      "\n",
      "converting counts to integer mode\n",
      "\n",
      "gene-wise dispersion estimates\n",
      "\n",
      "mean-dispersion relationship\n",
      "\n",
      "final dispersion estimates\n",
      "\n",
      "converting counts to integer mode\n",
      "\n",
      "variance of dispersion residuals not estimated (necessary only for differential expression calling)\n",
      "\n",
      "converting counts to integer mode\n",
      "\n",
      "gene-wise dispersion estimates\n",
      "\n",
      "mean-dispersion relationship\n",
      "\n",
      "final dispersion estimates\n",
      "\n",
      "converting counts to integer mode\n",
      "\n",
      "variance of dispersion residuals not estimated (necessary only for differential expression calling)\n",
      "\n",
      "converting counts to integer mode\n",
      "\n",
      "gene-wise dispersion estimates\n",
      "\n",
      "mean-dispersion relationship\n",
      "\n",
      "final dispersion estimates\n",
      "\n",
      "converting counts to integer mode\n",
      "\n",
      "variance of dispersion residuals not estimated (necessary only for differential expression calling)\n",
      "\n"
     ]
    }
   ],
   "source": [
    "for (end.point in names(train_and_validation_ls)){\n",
    "    \n",
    "    # Counts and VST for training data\n",
    "    counts.training = expDataToMatrix(tcga.dataset.splitted[[end.point]]$EXP$train)\n",
    "    \n",
    "    vst.transf.training.obj = performVSTtraining(counts.training)\n",
    "    \n",
    "    # Counts for evaluation \n",
    "    counts.validation = expDataToMatrix(tcga.dataset.splitted[[end.point]]$EXP$validation)\n",
    "    vst.transf.validation.counts = performVSTtest(counts = counts.validation, \n",
    "                                                  disp.function.train = vst.transf.training.obj$disp.function)\n",
    "         \n",
    "    tcga.dataset.splitted[[end.point]]$EXP$train = MatrixToExpdata(vst.transf.training.obj$vst.counts)\n",
    "    tcga.dataset.splitted[[end.point]]$EXP$validation = MatrixToExpdata(vst.transf.validation.counts)\n",
    "    \n",
    "}"
   ]
  },
  {
   "cell_type": "code",
   "execution_count": 35,
   "id": "executed-insulin",
   "metadata": {
    "execution": {
     "iopub.execute_input": "2024-02-02T17:23:26.686314Z",
     "iopub.status.busy": "2024-02-02T17:23:26.685057Z",
     "iopub.status.idle": "2024-02-02T17:23:35.894218Z",
     "shell.execute_reply": "2024-02-02T17:23:35.892517Z"
    }
   },
   "outputs": [],
   "source": [
    "saveRDS(tcga.dataset.splitted, file.path(out.dir.data, \"tcga.dataset_splitted.rds\"))"
   ]
  },
  {
   "cell_type": "markdown",
   "id": "electoral-devices",
   "metadata": {},
   "source": [
    "Cleaning up"
   ]
  },
  {
   "cell_type": "code",
   "execution_count": 36,
   "id": "practical-soviet",
   "metadata": {
    "execution": {
     "iopub.execute_input": "2024-02-02T17:23:35.899375Z",
     "iopub.status.busy": "2024-02-02T17:23:35.898155Z",
     "iopub.status.idle": "2024-02-02T17:23:35.909090Z",
     "shell.execute_reply": "2024-02-02T17:23:35.907392Z"
    }
   },
   "outputs": [],
   "source": [
    "rm(tcga.dataset)"
   ]
  },
  {
   "cell_type": "markdown",
   "id": "editorial-evanescence",
   "metadata": {},
   "source": [
    "## Merge data types \n",
    "\n",
    "We will merge the different datatypes and produce a final object to be used throughout the analysis"
   ]
  },
  {
   "cell_type": "code",
   "execution_count": 37,
   "id": "conceptual-nirvana",
   "metadata": {
    "execution": {
     "iopub.execute_input": "2024-02-02T17:23:35.913575Z",
     "iopub.status.busy": "2024-02-02T17:23:35.912400Z",
     "iopub.status.idle": "2024-02-02T17:23:38.362345Z",
     "shell.execute_reply": "2024-02-02T17:23:38.360620Z"
    }
   },
   "outputs": [],
   "source": [
    "tcga.dataset.splitted = readRDS(file.path(out.dir.data, \"tcga.dataset_splitted.rds\"))"
   ]
  },
  {
   "cell_type": "code",
   "execution_count": 38,
   "id": "relevant-bones",
   "metadata": {
    "execution": {
     "iopub.execute_input": "2024-02-02T17:23:38.367260Z",
     "iopub.status.busy": "2024-02-02T17:23:38.366038Z",
     "iopub.status.idle": "2024-02-02T17:23:48.056580Z",
     "shell.execute_reply": "2024-02-02T17:23:48.054822Z"
    }
   },
   "outputs": [],
   "source": [
    "tcga.dataset.merged =  mergeDataTypes(tcga.dataset.splitted )"
   ]
  },
  {
   "cell_type": "code",
   "execution_count": 39,
   "id": "executive-hamilton",
   "metadata": {
    "execution": {
     "iopub.execute_input": "2024-02-02T17:23:48.061379Z",
     "iopub.status.busy": "2024-02-02T17:23:48.060144Z",
     "iopub.status.idle": "2024-02-02T17:23:57.249723Z",
     "shell.execute_reply": "2024-02-02T17:23:57.247906Z"
    }
   },
   "outputs": [],
   "source": [
    "saveRDS(tcga.dataset.merged, file.path(out.dir.data, \"tcga.dataset_merged.rds\"))"
   ]
  },
  {
   "cell_type": "markdown",
   "id": "approximate-numbers",
   "metadata": {},
   "source": [
    "Cleaning up"
   ]
  },
  {
   "cell_type": "code",
   "execution_count": 40,
   "id": "unauthorized-canada",
   "metadata": {
    "execution": {
     "iopub.execute_input": "2024-02-02T17:23:57.254659Z",
     "iopub.status.busy": "2024-02-02T17:23:57.253402Z",
     "iopub.status.idle": "2024-02-02T17:23:57.264457Z",
     "shell.execute_reply": "2024-02-02T17:23:57.263067Z"
    }
   },
   "outputs": [],
   "source": [
    "rm(tcga.dataset.splitted)"
   ]
  },
  {
   "cell_type": "markdown",
   "id": "western-mailing",
   "metadata": {},
   "source": [
    "## 3.4 Filtering step \n",
    "\n",
    "### 3.4.1 Calculate relevant statistics for the training set. \n",
    "\n",
    "We will calculate the following statistics for expression features based on the raw expression data : \n",
    "1. The fraction of individuals expressing the feature  \n",
    "2. Median expression of the feature\n",
    "3. Variance of the feature\n",
    "\n",
    "We will calculate the following statistics for copy number features \n",
    "1. Fraction of individuals with amplification \n",
    "2. Fraction of individuals with deletion\n",
    "3. Fraction of individuals with missing CN status \n",
    "4. Max value out of the fraction of individuals with amplification and deletions "
   ]
  },
  {
   "cell_type": "code",
   "execution_count": 41,
   "id": "aggressive-microphone",
   "metadata": {
    "execution": {
     "iopub.execute_input": "2024-02-02T17:23:57.268992Z",
     "iopub.status.busy": "2024-02-02T17:23:57.267774Z",
     "iopub.status.idle": "2024-02-02T17:23:59.386499Z",
     "shell.execute_reply": "2024-02-02T17:23:59.384929Z"
    }
   },
   "outputs": [],
   "source": [
    "tcga.dataset.merged = readRDS(file.path(out.dir.data, \"tcga.dataset_merged.rds\"))"
   ]
  },
  {
   "cell_type": "code",
   "execution_count": 42,
   "id": "ideal-liberty",
   "metadata": {
    "execution": {
     "iopub.execute_input": "2024-02-02T17:23:59.391404Z",
     "iopub.status.busy": "2024-02-02T17:23:59.390166Z",
     "iopub.status.idle": "2024-02-02T17:24:00.667705Z",
     "shell.execute_reply": "2024-02-02T17:24:00.665986Z"
    }
   },
   "outputs": [],
   "source": [
    "# Store summary statistics \n",
    "summary.stats.ls = list()\n",
    "\n",
    "# Iterate over end points \n",
    "for (end.point in c(\"OS\",\"DSS\",\"DFI\",\"PFI\")){\n",
    "    \n",
    "    exp.summary.training = prepSummaryExp(x = tcga.dataset.merged[[end.point]]$train, \n",
    "                                          raw.data = tcga.expr.datamat,\n",
    "                                          variables = variables.selected, type = \"exp\")\n",
    "\n",
    "    cn.summary.training = prepSummaryCN(tcga.dataset.merged[[end.point]]$train, \n",
    "                                        variables = variables.selected, \n",
    "                                        type = \"cn\")\n",
    "    \n",
    "    summary.stats.ls[[end.point]] = list(\"exp.summary.training\" = exp.summary.training,\n",
    "                                         \"cn.summary.training\" = cn.summary.training)\n",
    "}"
   ]
  },
  {
   "cell_type": "markdown",
   "id": "communist-refrigerator",
   "metadata": {},
   "source": [
    "### 3.4.2 Filter based on the calculated statistics\n",
    "\n",
    "We will set the filtering thresholds as follows : \n",
    "\n",
    "Expression features : \n",
    "\n",
    "1. Median expression must be greater than 20\n",
    "2. Fraction of individuals expressing feature must be greater than > 0.25\n",
    "\n",
    "CN features \n",
    "\n",
    "1. Maximum Fraction of individuals carrying either deletion or amplification must be at least 0.15"
   ]
  },
  {
   "cell_type": "code",
   "execution_count": 43,
   "id": "removed-belize",
   "metadata": {
    "execution": {
     "iopub.execute_input": "2024-02-02T17:24:00.672974Z",
     "iopub.status.busy": "2024-02-02T17:24:00.671648Z",
     "iopub.status.idle": "2024-02-02T17:24:00.740345Z",
     "shell.execute_reply": "2024-02-02T17:24:00.738959Z"
    }
   },
   "outputs": [],
   "source": [
    "# Store filtered variables \n",
    "variables.selected.filtered.ls = list()\n",
    "\n",
    "# Iterate over end points \n",
    "for (end.point in c(\"OS\",\"DSS\",\"DFI\",\"PFI\")){\n",
    "\n",
    "    exp.features.keep = summary.stats.ls[[end.point]]$exp.summary.training %>% \n",
    "                          filter(`Median expression` > 20, \n",
    "                                 `Fraction of zero expression` < 0.75)\n",
    "\n",
    "    cn.features.keep = summary.stats.ls[[end.point]]$cn.summary.training %>% \n",
    "                          filter(`Maximum fraction of aberrations` > 0.15) \n",
    "\n",
    "    # Update the summary tables \n",
    "    summary.stats.ls[[end.point]]$exp.summary.training$Selected = ifelse(summary.stats.ls[[end.point]]$exp.summary.training$name %in% exp.features.keep$name, \"Yes\", \"No\")\n",
    "    summary.stats.ls[[end.point]]$cn.summary.training$Selected = ifelse(summary.stats.ls[[end.point]]$cn.summary.training$name %in% cn.features.keep$name, \"Yes\", \"No\")\n",
    "\n",
    "    # Collect the variables into vector \n",
    "    variables.selected.filtered.ls[[end.point]] = filterFeatures(variables_selected_ls[[end.point]], exp.features.keep$name, type = \"exp\")\n",
    "    variables.selected.filtered.ls[[end.point]]= filterFeatures(variables_selected_ls[[end.point]], cn.features.keep$name, type = \"cn\")\n",
    "    \n",
    "}"
   ]
  },
  {
   "cell_type": "markdown",
   "id": "hearing-techno",
   "metadata": {},
   "source": [
    "## 3.4 Prepare univariate KM plots and logrank tests"
   ]
  },
  {
   "cell_type": "code",
   "execution_count": 44,
   "id": "dominican-magic",
   "metadata": {
    "execution": {
     "iopub.execute_input": "2024-02-02T17:24:00.744946Z",
     "iopub.status.busy": "2024-02-02T17:24:00.743775Z",
     "iopub.status.idle": "2024-02-02T17:25:48.940696Z",
     "shell.execute_reply": "2024-02-02T17:25:48.939123Z"
    }
   },
   "outputs": [
    {
     "name": "stderr",
     "output_type": "stream",
     "text": [
      "Warning message in pchisq(chi, df, lower.tail = FALSE):\n",
      "“NaNs produced”\n",
      "Warning message in pchisq(chi, df, lower.tail = FALSE):\n",
      "“NaNs produced”\n",
      "Warning message in pchisq(chi, df, lower.tail = FALSE):\n",
      "“NaNs produced”\n",
      "Warning message in pchisq(chi, df, lower.tail = FALSE):\n",
      "“NaNs produced”\n",
      "Warning message in pchisq(chi, df, lower.tail = FALSE):\n",
      "“NaNs produced”\n",
      "Warning message in pchisq(chi, df, lower.tail = FALSE):\n",
      "“NaNs produced”\n",
      "Warning message in pchisq(chi, df, lower.tail = FALSE):\n",
      "“NaNs produced”\n",
      "Warning message in pchisq(chi, df, lower.tail = FALSE):\n",
      "“NaNs produced”\n",
      "Warning message in pchisq(chi, df, lower.tail = FALSE):\n",
      "“NaNs produced”\n",
      "Warning message in pchisq(chi, df, lower.tail = FALSE):\n",
      "“NaNs produced”\n",
      "Warning message in pchisq(chi, df, lower.tail = FALSE):\n",
      "“NaNs produced”\n",
      "Warning message in pchisq(chi, df, lower.tail = FALSE):\n",
      "“NaNs produced”\n",
      "Warning message in pchisq(chi, df, lower.tail = FALSE):\n",
      "“NaNs produced”\n",
      "Warning message in pchisq(chi, df, lower.tail = FALSE):\n",
      "“NaNs produced”\n",
      "Warning message in pchisq(chi, df, lower.tail = FALSE):\n",
      "“NaNs produced”\n",
      "Warning message in pchisq(chi, df, lower.tail = FALSE):\n",
      "“NaNs produced”\n",
      "Warning message in pchisq(chi, df, lower.tail = FALSE):\n",
      "“NaNs produced”\n",
      "Warning message in pchisq(chi, df, lower.tail = FALSE):\n",
      "“NaNs produced”\n",
      "Warning message in pchisq(chi, df, lower.tail = FALSE):\n",
      "“NaNs produced”\n",
      "Warning message in pchisq(chi, df, lower.tail = FALSE):\n",
      "“NaNs produced”\n",
      "Warning message in pchisq(chi, df, lower.tail = FALSE):\n",
      "“NaNs produced”\n",
      "Warning message in pchisq(chi, df, lower.tail = FALSE):\n",
      "“NaNs produced”\n",
      "Warning message in pchisq(chi, df, lower.tail = FALSE):\n",
      "“NaNs produced”\n",
      "Warning message in pchisq(chi, df, lower.tail = FALSE):\n",
      "“NaNs produced”\n",
      "Warning message in pchisq(chi, df, lower.tail = FALSE):\n",
      "“NaNs produced”\n",
      "Warning message in pchisq(chi, df, lower.tail = FALSE):\n",
      "“NaNs produced”\n"
     ]
    },
    {
     "name": "stdout",
     "output_type": "stream",
     "text": [
      "[1] \"skip\"\n"
     ]
    },
    {
     "name": "stderr",
     "output_type": "stream",
     "text": [
      "Warning message in pchisq(chi, df, lower.tail = FALSE):\n",
      "“NaNs produced”\n",
      "Warning message in pchisq(chi, df, lower.tail = FALSE):\n",
      "“NaNs produced”\n",
      "Warning message in pchisq(chi, df, lower.tail = FALSE):\n",
      "“NaNs produced”\n",
      "Warning message in pchisq(chi, df, lower.tail = FALSE):\n",
      "“NaNs produced”\n",
      "Warning message in pchisq(chi, df, lower.tail = FALSE):\n",
      "“NaNs produced”\n",
      "Warning message in pchisq(chi, df, lower.tail = FALSE):\n",
      "“NaNs produced”\n",
      "Warning message in pchisq(chi, df, lower.tail = FALSE):\n",
      "“NaNs produced”\n",
      "Warning message in pchisq(chi, df, lower.tail = FALSE):\n",
      "“NaNs produced”\n",
      "Warning message in pchisq(chi, df, lower.tail = FALSE):\n",
      "“NaNs produced”\n",
      "Warning message in pchisq(chi, df, lower.tail = FALSE):\n",
      "“NaNs produced”\n",
      "Warning message in pchisq(chi, df, lower.tail = FALSE):\n",
      "“NaNs produced”\n",
      "Warning message in pchisq(chi, df, lower.tail = FALSE):\n",
      "“NaNs produced”\n",
      "Warning message in pchisq(chi, df, lower.tail = FALSE):\n",
      "“NaNs produced”\n",
      "Warning message in pchisq(chi, df, lower.tail = FALSE):\n",
      "“NaNs produced”\n",
      "Warning message in pchisq(chi, df, lower.tail = FALSE):\n",
      "“NaNs produced”\n",
      "Warning message in pchisq(chi, df, lower.tail = FALSE):\n",
      "“NaNs produced”\n",
      "Warning message in pchisq(chi, df, lower.tail = FALSE):\n",
      "“NaNs produced”\n",
      "Warning message in pchisq(chi, df, lower.tail = FALSE):\n",
      "“NaNs produced”\n",
      "Warning message in pchisq(chi, df, lower.tail = FALSE):\n",
      "“NaNs produced”\n",
      "Warning message in pchisq(chi, df, lower.tail = FALSE):\n",
      "“NaNs produced”\n",
      "Warning message in pchisq(chi, df, lower.tail = FALSE):\n",
      "“NaNs produced”\n",
      "Warning message in pchisq(chi, df, lower.tail = FALSE):\n",
      "“NaNs produced”\n",
      "Warning message in pchisq(chi, df, lower.tail = FALSE):\n",
      "“NaNs produced”\n",
      "Warning message in pchisq(chi, df, lower.tail = FALSE):\n",
      "“NaNs produced”\n",
      "Warning message in pchisq(chi, df, lower.tail = FALSE):\n",
      "“NaNs produced”\n",
      "Warning message in pchisq(chi, df, lower.tail = FALSE):\n",
      "“NaNs produced”\n"
     ]
    },
    {
     "name": "stdout",
     "output_type": "stream",
     "text": [
      "[1] \"skip\"\n",
      "[1] \"skip\"\n",
      "[1] \"skip\"\n"
     ]
    }
   ],
   "source": [
    "# Store the KM tables \n",
    "km.pvalue.table.ls = list()\n",
    "\n",
    "# Store the significant features \n",
    "significant.features.ls = list()\n",
    "\n",
    "# Iterate over end points \n",
    "for (end.point in c(\"OS\",\"DSS\",\"DFI\",\"PFI\")){\n",
    "\n",
    "    # Create dir for plots \n",
    "    dir.create(file.path(dir.res.km, end.point))\n",
    "    \n",
    "    if (nrow(tcga.dataset.merged[[end.point]]$train) > 0){\n",
    "    \n",
    "        # Run univariate KM\n",
    "        km.pvalue.table = runUnivariateKM(input.data = tcga.dataset.merged[[end.point]], \n",
    "                                          variables = variables.selected.filtered.ls[[end.point]],\n",
    "                                          clinical.endpoint = end.point,\n",
    "                                          out.dir = file.path(dir.res.km, end.point),\n",
    "                                          plots = T)\n",
    "    \n",
    "    \n",
    "        # Sort the results based on the training p-value and write the results to output\n",
    "        km.pvalue.table = km.pvalue.table %>% dplyr::arrange(pvalues.training)\n",
    "        km.pvalue.table$Selected = ifelse(km.pvalue.table$pvalues.training < 0.05, \"Yes\", \"No\") \n",
    "        write.csv(km.pvalue.table, file.path(dir.res.km, paste0(end.point, \"_LogRank_pvalues.csv\")))\n",
    "    \n",
    "        km.pvalue.table.ls[[end.point]] = km.pvalue.table\n",
    "    \n",
    "        # Extract the significant features \n",
    "        significant.features = getSignificantFeatures(km.pvalue.table, pvalue.thresh = 0.05)\n",
    "\n",
    "        # Store \n",
    "        significant.features.ls[[end.point]] = significant.features\n",
    "        \n",
    "    } else {\n",
    "        significant.features.ls[[end.point]] = NULL\n",
    "    }\n",
    "}"
   ]
  },
  {
   "cell_type": "code",
   "execution_count": 45,
   "id": "b76847d0-b09c-4ec4-a840-1122bcbe38c4",
   "metadata": {
    "execution": {
     "iopub.execute_input": "2024-02-02T17:25:48.952147Z",
     "iopub.status.busy": "2024-02-02T17:25:48.950906Z",
     "iopub.status.idle": "2024-02-02T17:25:48.961989Z",
     "shell.execute_reply": "2024-02-02T17:25:48.960601Z"
    }
   },
   "outputs": [],
   "source": [
    "saveRDS(significant.features.ls,  \n",
    "        file.path(out.dir.data,\"significant.features.ls.rds\"))"
   ]
  },
  {
   "cell_type": "markdown",
   "id": "elegant-massachusetts",
   "metadata": {},
   "source": [
    "# 4 Penalised cox regression without clinical variables "
   ]
  },
  {
   "cell_type": "code",
   "execution_count": 46,
   "id": "6ae6294f-d93e-44c5-aa23-ca7df4d71ffe",
   "metadata": {
    "execution": {
     "iopub.execute_input": "2024-02-02T17:25:48.966689Z",
     "iopub.status.busy": "2024-02-02T17:25:48.965488Z",
     "iopub.status.idle": "2024-02-02T17:25:51.082618Z",
     "shell.execute_reply": "2024-02-02T17:25:51.081058Z"
    }
   },
   "outputs": [],
   "source": [
    "tcga.dataset.merged = readRDS(file.path(out.dir.data, \"tcga.dataset_merged.rds\"))"
   ]
  },
  {
   "cell_type": "code",
   "execution_count": 47,
   "id": "6a4584f4-2eef-489b-8b25-77923b6a1df2",
   "metadata": {
    "execution": {
     "iopub.execute_input": "2024-02-02T17:25:51.087293Z",
     "iopub.status.busy": "2024-02-02T17:25:51.086090Z",
     "iopub.status.idle": "2024-02-02T17:25:51.096568Z",
     "shell.execute_reply": "2024-02-02T17:25:51.095105Z"
    }
   },
   "outputs": [],
   "source": [
    "significant.features.ls = readRDS(file.path(out.dir.data,\"significant.features.ls.rds\"))"
   ]
  },
  {
   "cell_type": "code",
   "execution_count": 48,
   "id": "35d372e0-614a-4837-ba64-3480281d048c",
   "metadata": {
    "execution": {
     "iopub.execute_input": "2024-02-02T17:25:51.100935Z",
     "iopub.status.busy": "2024-02-02T17:25:51.099743Z",
     "iopub.status.idle": "2024-02-02T17:25:51.112781Z",
     "shell.execute_reply": "2024-02-02T17:25:51.111414Z"
    }
   },
   "outputs": [
    {
     "data": {
      "text/html": [
       "<strong>$DFI</strong> = <style>\n",
       ".list-inline {list-style: none; margin:0; padding: 0}\n",
       ".list-inline>li {display: inline-block}\n",
       ".list-inline>li:not(:last-child)::after {content: \"\\00b7\"; padding: 0 .5ex}\n",
       "</style>\n",
       "<ol class=list-inline><li>'AURKB.exp'</li><li>'AR.exp'</li><li>'PTEN.exp'</li><li>'AURKA.exp'</li></ol>\n"
      ],
      "text/latex": [
       "\\textbf{\\$DFI} = \\begin{enumerate*}\n",
       "\\item 'AURKB.exp'\n",
       "\\item 'AR.exp'\n",
       "\\item 'PTEN.exp'\n",
       "\\item 'AURKA.exp'\n",
       "\\end{enumerate*}\n"
      ],
      "text/markdown": [
       "**$DFI** = 1. 'AURKB.exp'\n",
       "2. 'AR.exp'\n",
       "3. 'PTEN.exp'\n",
       "4. 'AURKA.exp'\n",
       "\n",
       "\n"
      ],
      "text/plain": [
       "$DFI\n",
       "[1] \"AURKB.exp\" \"AR.exp\"    \"PTEN.exp\"  \"AURKA.exp\"\n"
      ]
     },
     "metadata": {},
     "output_type": "display_data"
    }
   ],
   "source": [
    "significant.features.ls"
   ]
  },
  {
   "cell_type": "code",
   "execution_count": null,
   "id": "7e04cedb-a141-431d-977b-e7e92428b2c8",
   "metadata": {},
   "outputs": [],
   "source": []
  },
  {
   "cell_type": "markdown",
   "id": "0106fccf-0ba5-4294-ab40-6798e8b56280",
   "metadata": {},
   "source": [
    "Define path to output "
   ]
  },
  {
   "cell_type": "code",
   "execution_count": 49,
   "id": "manufactured-proxy",
   "metadata": {
    "execution": {
     "iopub.execute_input": "2024-02-02T17:25:51.117325Z",
     "iopub.status.busy": "2024-02-02T17:25:51.116145Z",
     "iopub.status.idle": "2024-02-02T17:25:51.127528Z",
     "shell.execute_reply": "2024-02-02T17:25:51.126110Z"
    }
   },
   "outputs": [],
   "source": [
    "dir.res.pcox = file.path(dir.res.root, \"Penalized_Cox_risk_prediction/customer_features/Without_clinical_features\")\n",
    "dir.create(dir.res.pcox, recursive = T)"
   ]
  },
  {
   "cell_type": "code",
   "execution_count": 50,
   "id": "genetic-warren",
   "metadata": {
    "execution": {
     "iopub.execute_input": "2024-02-02T17:25:51.132067Z",
     "iopub.status.busy": "2024-02-02T17:25:51.130717Z",
     "iopub.status.idle": "2024-02-02T17:25:51.141232Z",
     "shell.execute_reply": "2024-02-02T17:25:51.139851Z"
    }
   },
   "outputs": [],
   "source": [
    "# Helper function for fixing variable names \n",
    "fixVarNames = function(x){\n",
    "    if (str_detect(x, \"Gender\")) {\n",
    "        return(\"Gender\")\n",
    "    } else if (str_detect(x, \"Tumor.stage\")){\n",
    "        return(\"Tumor.stage\")\n",
    "    } else if (str_detect(x,\".cn\")){\n",
    "        return(str_extract(x, \"\\\\w+.cn\"))\n",
    "    } else if (str_detect(x, \"Gleason.group\")){ \n",
    "        return(\"Gleason.group\")\n",
    "    } else {\n",
    "        return(x)\n",
    "    }\n",
    "}"
   ]
  },
  {
   "cell_type": "markdown",
   "id": "fifteen-citation",
   "metadata": {},
   "source": [
    "## 4.1 Counting number of samples "
   ]
  },
  {
   "cell_type": "code",
   "execution_count": 51,
   "id": "injured-desert",
   "metadata": {
    "execution": {
     "iopub.execute_input": "2024-02-02T17:25:51.145591Z",
     "iopub.status.busy": "2024-02-02T17:25:51.144407Z",
     "iopub.status.idle": "2024-02-02T17:25:51.154655Z",
     "shell.execute_reply": "2024-02-02T17:25:51.153278Z"
    }
   },
   "outputs": [],
   "source": [
    "# Number of samples in training and validation cohorts \n",
    "nsamples_step2_ls_no_clin = list()"
   ]
  },
  {
   "cell_type": "code",
   "execution_count": 52,
   "id": "ordinary-aircraft",
   "metadata": {
    "execution": {
     "iopub.execute_input": "2024-02-02T17:25:51.158982Z",
     "iopub.status.busy": "2024-02-02T17:25:51.157785Z",
     "iopub.status.idle": "2024-02-02T17:25:51.180712Z",
     "shell.execute_reply": "2024-02-02T17:25:51.179301Z"
    }
   },
   "outputs": [],
   "source": [
    "# Iterate over end points \n",
    "for (end.point in c(\"OS\",\"DSS\",\"DFI\",\"PFI\")){\n",
    "    \n",
    "    if (is.null(significant.features.ls[[end.point]]) == F) {\n",
    "    \n",
    "    \n",
    "        # Store the number of samples       \n",
    "        nsamples.step2 = c(nrow(tcga.dataset.merged[[end.point]]$train), \n",
    "                           nrow(tcga.dataset.merged[[end.point]]$validation))\n",
    "    }    \n",
    "    else {\n",
    "    \n",
    "        # If there are no significant features store NULL\n",
    "        \n",
    "        # Store \n",
    "        nsamples.step2 = c(NA, NA)\n",
    "    }\n",
    "        \n",
    "    names(nsamples.step2) = c(\"ntrain.step2\", \"nvalid.step2\")\n",
    "    nsamples_step2_ls_no_clin[[end.point]] = nsamples.step2\n",
    "}"
   ]
  },
  {
   "cell_type": "markdown",
   "id": "seventh-clothing",
   "metadata": {},
   "source": [
    "## 4.2 Find the optimal lambda \n",
    "\n",
    "Use 10-fold cross-validation (CV) for the Cox model for different values of lamda. C-index will be use to evaluate the models."
   ]
  },
  {
   "cell_type": "code",
   "execution_count": 53,
   "id": "eligible-startup",
   "metadata": {
    "execution": {
     "iopub.execute_input": "2024-02-02T17:25:51.185131Z",
     "iopub.status.busy": "2024-02-02T17:25:51.183934Z",
     "iopub.status.idle": "2024-02-02T17:25:51.197849Z",
     "shell.execute_reply": "2024-02-02T17:25:51.196450Z"
    }
   },
   "outputs": [],
   "source": [
    "# Store significant features \n",
    "rcox.res.no.clin.ls = list()\n",
    "\n",
    "# Store model matrices\n",
    "model.matrices.ls = list()\n",
    "\n",
    "# Store the fitted models for prediction \n",
    "pcox.fit.ls = list()"
   ]
  },
  {
   "cell_type": "code",
   "execution_count": 54,
   "id": "adaptive-banks",
   "metadata": {
    "execution": {
     "iopub.execute_input": "2024-02-02T17:25:51.202225Z",
     "iopub.status.busy": "2024-02-02T17:25:51.201035Z",
     "iopub.status.idle": "2024-02-02T17:25:53.968631Z",
     "shell.execute_reply": "2024-02-02T17:25:53.966857Z"
    }
   },
   "outputs": [],
   "source": [
    "# Iterate over end points \n",
    "for (end.point in c(\"OS\",\"DSS\",\"DFI\",\"PFI\")){\n",
    "    \n",
    "    \n",
    "    # Construct the clinical end points \n",
    "    end_point_event = paste0(end.point, \".clin\")\n",
    "    end_point_time = paste0(end.point, \".time.clin\")\n",
    "    \n",
    "    # Subset \n",
    "    selected.features = c(end_point_event, end_point_time, significant.features.ls[[end.point]])\n",
    "    \n",
    "    # Input training data \n",
    "    input.training = tcga.dataset.merged[[end.point]]$train %>% dplyr::select(all_of(selected.features))\n",
    "    input.validation = tcga.dataset.merged[[end.point]]$validation %>% dplyr::select(all_of(selected.features))\n",
    "    \n",
    "    # Check the number of features\n",
    "    # Regulariation cannot be run if there is only one feature\n",
    "    num.feat = ncol(input.training) - 2\n",
    "    \n",
    "    if (is.null(input.training) == F){\n",
    "        if (num.feat > 1) {\n",
    "    \n",
    "            # Genereate model matrix \n",
    "            model.matrices = generateModelMatrices(input.training, \n",
    "                                                   input.validation, \n",
    "                                                   clinical.endpoint = end.point)\n",
    "        \n",
    "            model.matrices.ls[[end.point]] = model.matrices\n",
    "    \n",
    "            # Create output dir \n",
    "            dir.create(file.path(dir.res.pcox, end.point))\n",
    "    \n",
    "            # Find optimal lambda (hyperparameter for elastic net)\n",
    "            pcox.fit = findOptimalLambda(x = model.matrices$x.train.mat, \n",
    "                             y = model.matrices$y.train,\n",
    "                             out.dir = file.path(dir.res.pcox, end.point))\n",
    "        \n",
    "            pcox.fit.ls[[end.point]] = pcox.fit\n",
    "    \n",
    "            # Write the final features included in the model to a file \n",
    "            WriteXLS(pcox.fit$active.k.vals, \n",
    "            file.path(dir.res.pcox, end.point ,\"Active_covariates_in_lambda.min_model.xlsx\"), \n",
    "            BoldHeaderRow = T,\n",
    "            row.names = T)\n",
    "    \n",
    "            # Final significant features \n",
    "            rcox.res.no.clin = pcox.fit$active.k.vals %>% tibble::rownames_to_column(\"Feature\")\n",
    "            rcox.res.no.clin.ls[[end.point]] = rcox.res.no.clin  \n",
    "        } else {\n",
    "            # If no significant features from earlier steps for the clin. end point then store null\n",
    "            model.matrices.ls[[end.point]] = NULL\n",
    "            pcox.fit.ls[[end.point]] = NULL\n",
    "            rcox.res.no.clin.ls[[end.point]] = NULL\n",
    "        }\n",
    "\n",
    "    } else {\n",
    "        # If no significant features from earlier steps for the clin. end point then store null\n",
    "        model.matrices.ls[[end.point]] = NULL\n",
    "        pcox.fit.ls[[end.point]] = NULL\n",
    "        rcox.res.no.clin.ls[[end.point]] = NULL\n",
    "    }\n",
    "}"
   ]
  },
  {
   "cell_type": "markdown",
   "id": "delayed-confirmation",
   "metadata": {},
   "source": [
    "## 4.3 Make predictions using the cross-validated model and heatmaps for visualisation\n",
    "\n",
    "## 4.3.1 Training set "
   ]
  },
  {
   "cell_type": "code",
   "execution_count": 55,
   "id": "greek-democrat",
   "metadata": {
    "execution": {
     "iopub.execute_input": "2024-02-02T17:25:53.973672Z",
     "iopub.status.busy": "2024-02-02T17:25:53.972392Z",
     "iopub.status.idle": "2024-02-02T17:25:53.983918Z",
     "shell.execute_reply": "2024-02-02T17:25:53.982481Z"
    }
   },
   "outputs": [],
   "source": [
    "# Store the result tables\n",
    "KM.train.by.risk.ls = list()"
   ]
  },
  {
   "cell_type": "code",
   "execution_count": 56,
   "id": "sustained-temperature",
   "metadata": {
    "execution": {
     "iopub.execute_input": "2024-02-02T17:25:53.988405Z",
     "iopub.status.busy": "2024-02-02T17:25:53.987185Z",
     "iopub.status.idle": "2024-02-02T17:25:54.000559Z",
     "shell.execute_reply": "2024-02-02T17:25:53.999115Z"
    }
   },
   "outputs": [],
   "source": [
    "input.train.test = NULL\n",
    "y.data.test = NULL\n",
    "pred.train.test = NULL"
   ]
  },
  {
   "cell_type": "code",
   "execution_count": 57,
   "id": "eligible-garden",
   "metadata": {
    "execution": {
     "iopub.execute_input": "2024-02-02T17:25:54.005064Z",
     "iopub.status.busy": "2024-02-02T17:25:54.003818Z",
     "iopub.status.idle": "2024-02-02T17:25:56.110821Z",
     "shell.execute_reply": "2024-02-02T17:25:56.109224Z"
    }
   },
   "outputs": [],
   "source": [
    "# Iterate over end points \n",
    "for (end.point in c(\"OS\",\"DSS\",\"DFI\",\"PFI\")){\n",
    "    \n",
    "    if (!is.null(pcox.fit.ls[[end.point]])) {\n",
    "    \n",
    "        # Predictions for the training set\n",
    "        pred.train <- predict(pcox.fit.ls[[end.point]]$model, \n",
    "                      newx = model.matrices.ls[[end.point]]$x.train.mat, \n",
    "                      s = \"lambda.min\", \n",
    "                      type = \"response\")\n",
    "\n",
    "        # Fitted relative risk\n",
    "        rel.risk <- pred.train[,1] \n",
    "\n",
    "        # Stratify validation data into two groups based on the fitted relative risk\n",
    "        y.data <- as.data.frame(as.matrix(model.matrices.ls[[end.point]]$y.train))\n",
    "        \n",
    "        \n",
    "        # Plot KM and extract the p-value  \n",
    "        KM.train.by.risk = plotKMbyRelativeRisk(data = y.data, \n",
    "                                        rel.risk = rel.risk)\n",
    "        \n",
    "        \n",
    "        if (!is.null(KM.train.by.risk)) {\n",
    "        \n",
    "            # Store\n",
    "            KM.train.by.risk.ls[[end.point]] =  KM.train.by.risk$table\n",
    "    \n",
    "            # Store the KM plot\n",
    "            pdf(file.path(dir.res.pcox, end.point ,\"glmnet_K-M_plot_with_training_data.pdf\"), \n",
    "                width = 15, height = 12, onefile = F)\n",
    "            print(KM.train.by.risk$Plot)\n",
    "            dev.off()\n",
    "    \n",
    "            # Heatmap preparation         \n",
    "    \n",
    "            # Variables to be selected \n",
    "            # Because Gender has been changed to a dummy variable its name has been changed\n",
    "            variables.selected = map_chr(rcox.res.no.clin.ls[[end.point]]$Feature, fixVarNames)\n",
    "            \n",
    "\n",
    "            # Get all input variables\n",
    "            heatmap.input.train = model.matrices.ls[[end.point]]$x.train %>% dplyr::select(all_of(variables.selected))\n",
    "                \n",
    "               \n",
    "            # Heatmap of training data predictions\n",
    "            hmap.train <- prepareHeatmap(heatmap.input.train, y.data, pred.train, file.path(dir.res.pcox, end.point), \"glmnet_training\", row.height = 8)          \n",
    "            \n",
    "        \n",
    "        } else {\n",
    "            KM.train.by.risk.ls[[end.point]] = NULL\n",
    "        }\n",
    "        \n",
    "    } else {\n",
    "        KM.train.by.risk.ls[[end.point]] = NULL\n",
    "    }\n",
    "}"
   ]
  },
  {
   "cell_type": "markdown",
   "id": "greenhouse-brain",
   "metadata": {},
   "source": [
    "## 4.3.2 Validation set"
   ]
  },
  {
   "cell_type": "code",
   "execution_count": 58,
   "id": "utility-deficit",
   "metadata": {
    "execution": {
     "iopub.execute_input": "2024-02-02T17:25:56.115858Z",
     "iopub.status.busy": "2024-02-02T17:25:56.114639Z",
     "iopub.status.idle": "2024-02-02T17:25:56.125410Z",
     "shell.execute_reply": "2024-02-02T17:25:56.123998Z"
    }
   },
   "outputs": [],
   "source": [
    "# Store the result tables\n",
    "KM.valid.by.risk.ls = list()"
   ]
  },
  {
   "cell_type": "code",
   "execution_count": 59,
   "id": "possible-southwest",
   "metadata": {
    "execution": {
     "iopub.execute_input": "2024-02-02T17:25:56.129791Z",
     "iopub.status.busy": "2024-02-02T17:25:56.128604Z",
     "iopub.status.idle": "2024-02-02T17:25:59.655510Z",
     "shell.execute_reply": "2024-02-02T17:25:59.653917Z"
    }
   },
   "outputs": [],
   "source": [
    "# Iterate over end points \n",
    "for (end.point in c(\"OS\",\"DSS\",\"DFI\",\"PFI\")){\n",
    "    \n",
    "    if (!is.null(pcox.fit.ls[[end.point]])) {\n",
    "    \n",
    "        # Predictions for the training set\n",
    "        pred.valid <- predict(pcox.fit.ls[[end.point]]$model, \n",
    "                      newx = model.matrices.ls[[end.point]]$x.valid.mat, \n",
    "                      s = \"lambda.min\", \n",
    "                      type = \"response\")\n",
    "\n",
    "        # Fitted relative risk\n",
    "        rel.risk <- pred.valid[,1] \n",
    "\n",
    "        # Stratify validation data into two groups based on the fitted relative risk\n",
    "        y.data <- as.data.frame(as.matrix(model.matrices.ls[[end.point]]$y.valid))\n",
    "\n",
    "        # Plot KM and extract the p-value  \n",
    "        KM.valid.by.risk = plotKMbyRelativeRisk(data = y.data, \n",
    "                                        rel.risk = rel.risk)\n",
    "        \n",
    "        if (!is.null(KM.train.by.risk)) {\n",
    "        \n",
    "            # Store\n",
    "            KM.valid.by.risk.ls[[end.point]] =  KM.valid.by.risk$table\n",
    "    \n",
    "            # Store the KM plot\n",
    "            pdf(file.path(dir.res.pcox, end.point ,\"glmnet_K-M_plot_with_validation_data.pdf\"), \n",
    "            width = 15, height = 12, onefile = F)\n",
    "            print(KM.valid.by.risk$Plot)\n",
    "            dev.off()\n",
    "    \n",
    "            # Heatmap preparation \n",
    "    \n",
    "            # Variables to be selected \n",
    "            variables.selected = map_chr(rcox.res.no.clin.ls[[end.point]]$Feature, fixVarNames) \n",
    "    \n",
    "            # Get all input variables\n",
    "            heatmap.input.valid = model.matrices.ls[[end.point]]$x.valid %>% dplyr::select(all_of(variables.selected))\n",
    "    \n",
    "            # Heatmap of training data predictions\n",
    "            hmap.valid <- prepareHeatmap(heatmap.input.valid, y.data, pred.valid, file.path(dir.res.pcox, end.point), \"glmnet_validation\", row.height = 8)  \n",
    "        \n",
    "        } else {\n",
    "            KM.valid.by.risk.ls[[end.point]] = NULL\n",
    "        }\n",
    "        \n",
    "    } else {\n",
    "        KM.valid.by.risk.ls[[end.point]] = NULL\n",
    "    }\n",
    "}"
   ]
  },
  {
   "cell_type": "markdown",
   "id": "surface-tomato",
   "metadata": {},
   "source": [
    "Merge the two result tables into one "
   ]
  },
  {
   "cell_type": "code",
   "execution_count": 60,
   "id": "boolean-minutes",
   "metadata": {
    "execution": {
     "iopub.execute_input": "2024-02-02T17:25:59.661132Z",
     "iopub.status.busy": "2024-02-02T17:25:59.659924Z",
     "iopub.status.idle": "2024-02-02T17:25:59.673299Z",
     "shell.execute_reply": "2024-02-02T17:25:59.671749Z"
    }
   },
   "outputs": [],
   "source": [
    "KM.by.risk.no.clin.train = bind_rows(KM.train.by.risk.ls, .id = \"End point\")\n",
    "KM.by.risk.no.clin.valid = bind_rows(KM.valid.by.risk.ls, .id = \"End point\")"
   ]
  },
  {
   "cell_type": "code",
   "execution_count": 61,
   "id": "accurate-entry",
   "metadata": {
    "execution": {
     "iopub.execute_input": "2024-02-02T17:25:59.677991Z",
     "iopub.status.busy": "2024-02-02T17:25:59.676671Z",
     "iopub.status.idle": "2024-02-02T17:25:59.689748Z",
     "shell.execute_reply": "2024-02-02T17:25:59.688381Z"
    }
   },
   "outputs": [],
   "source": [
    "# Store final resilts\n",
    "write.csv(KM.by.risk.no.clin.train, file.path(dir.res.pcox, \"Final_evaluation_results_training.csv\"), row.names = F)\n",
    "write.csv(KM.by.risk.no.clin.valid, file.path(dir.res.pcox, \"Final_evaluation_results_validation.csv\"),row.names = F)"
   ]
  },
  {
   "cell_type": "markdown",
   "id": "satellite-customs",
   "metadata": {},
   "source": [
    "# 5 Penalised cox regression with clinical variables\n",
    "\n",
    "In the case of PRAD we will use Age and Gender.\n",
    "\n",
    "Define path to output "
   ]
  },
  {
   "cell_type": "code",
   "execution_count": 62,
   "id": "liked-headline",
   "metadata": {
    "execution": {
     "iopub.execute_input": "2024-02-02T17:25:59.694159Z",
     "iopub.status.busy": "2024-02-02T17:25:59.692972Z",
     "iopub.status.idle": "2024-02-02T17:25:59.704292Z",
     "shell.execute_reply": "2024-02-02T17:25:59.702907Z"
    }
   },
   "outputs": [],
   "source": [
    "dir.res.pcox = file.path(dir.res.root, \"Penalized_Cox_risk_prediction/customer_features/With_clinical_features\")\n",
    "dir.create(dir.res.pcox, recursive = T)"
   ]
  },
  {
   "cell_type": "markdown",
   "id": "impressive-trigger",
   "metadata": {},
   "source": [
    "## 5.1 Counting number of samples "
   ]
  },
  {
   "cell_type": "code",
   "execution_count": 63,
   "id": "minus-stanford",
   "metadata": {
    "execution": {
     "iopub.execute_input": "2024-02-02T17:25:59.708637Z",
     "iopub.status.busy": "2024-02-02T17:25:59.707474Z",
     "iopub.status.idle": "2024-02-02T17:25:59.717503Z",
     "shell.execute_reply": "2024-02-02T17:25:59.716132Z"
    }
   },
   "outputs": [],
   "source": [
    "# Number of samples in training and validation cohorts \n",
    "nsamples_step2_ls_with_clin = list()"
   ]
  },
  {
   "cell_type": "code",
   "execution_count": 64,
   "id": "grand-indonesian",
   "metadata": {
    "execution": {
     "iopub.execute_input": "2024-02-02T17:25:59.721772Z",
     "iopub.status.busy": "2024-02-02T17:25:59.720592Z",
     "iopub.status.idle": "2024-02-02T17:25:59.742180Z",
     "shell.execute_reply": "2024-02-02T17:25:59.740737Z"
    }
   },
   "outputs": [],
   "source": [
    "# Iterate over end points \n",
    "for (end.point in c(\"OS\",\"DSS\",\"DFI\",\"PFI\")){\n",
    "    \n",
    "    if (is.null(significant.features.ls[[end.point]]) == F) {\n",
    "    \n",
    "    \n",
    "        # Store the number of samples       \n",
    "        nsamples.step2 = c(nrow(tcga.dataset.merged[[end.point]]$train), \n",
    "                           nrow(tcga.dataset.merged[[end.point]]$validation))\n",
    "    }    \n",
    "    else {\n",
    "    \n",
    "        # If there are no significant features store NULL\n",
    "        \n",
    "        # Store \n",
    "        nsamples.step2 = c(NA, NA)\n",
    "    }\n",
    "        \n",
    "    names(nsamples.step2) = c(\"ntrain.step2\", \"nvalid.step2\")\n",
    "    nsamples_step2_ls_with_clin[[end.point]] = nsamples.step2\n",
    "}"
   ]
  },
  {
   "cell_type": "markdown",
   "id": "adopted-frederick",
   "metadata": {},
   "source": [
    "## 5.3 Find the optimal lambda \n",
    "\n",
    "Use 10-fold cross-validation (CV) for the Cox model for different values of lamda. C-index will be use to evaluate the models."
   ]
  },
  {
   "cell_type": "code",
   "execution_count": 65,
   "id": "immediate-miniature",
   "metadata": {
    "execution": {
     "iopub.execute_input": "2024-02-02T17:25:59.746572Z",
     "iopub.status.busy": "2024-02-02T17:25:59.745392Z",
     "iopub.status.idle": "2024-02-02T17:25:59.759356Z",
     "shell.execute_reply": "2024-02-02T17:25:59.757915Z"
    }
   },
   "outputs": [],
   "source": [
    "# Store significant features \n",
    "rcox.res.with.clin.ls = list()\n",
    "\n",
    "# Store model matrices\n",
    "model.matrices.ls = list()\n",
    "\n",
    "# Store the fitted models for prediction \n",
    "pcox.fit.ls = list()"
   ]
  },
  {
   "cell_type": "code",
   "execution_count": 66,
   "id": "integral-majority",
   "metadata": {
    "execution": {
     "iopub.execute_input": "2024-02-02T17:25:59.763787Z",
     "iopub.status.busy": "2024-02-02T17:25:59.762586Z",
     "iopub.status.idle": "2024-02-02T17:26:05.088723Z",
     "shell.execute_reply": "2024-02-02T17:26:05.086986Z"
    }
   },
   "outputs": [],
   "source": [
    "# Iterate over end points \n",
    "for (end.point in c(\"OS\",\"DSS\",\"DFI\",\"PFI\")){\n",
    "    \n",
    "    # Construct the clinical end points \n",
    "    end_point_event = paste0(end.point, \".clin\")\n",
    "    end_point_time = paste0(end.point, \".time.clin\")\n",
    "    \n",
    "    # Clinical features\n",
    "    clinical.feat = paste0(clin.var, \".clin\")\n",
    "\n",
    "    \n",
    "    # Subset \n",
    "    selected.features = c(end_point_event, end_point_time, clinical.feat, significant.features.ls[[end.point]])\n",
    "    \n",
    "    # Input training data \n",
    "    input.training = tcga.dataset.merged[[end.point]]$train %>% dplyr::select(all_of(selected.features))\n",
    "    input.validation = tcga.dataset.merged[[end.point]]$validation %>% dplyr::select(all_of(selected.features))\n",
    "    \n",
    "    # Check the number of features\n",
    "    # Regulariation cannot be run if there is only one feature\n",
    "    num.feat = ncol(input.training) - 2\n",
    "    \n",
    "    if (is.null(tcga.dataset.merged[[end.point]]$train) == F){\n",
    "        if (num.feat > 1) {\n",
    "    \n",
    "            # Genereate model matrix \n",
    "            model.matrices = generateModelMatrices(input.training, \n",
    "                                                   input.validation, \n",
    "                                                   clinical.endpoint = end.point)          \n",
    "        \n",
    "            model.matrices.ls[[end.point]] = model.matrices\n",
    "    \n",
    "            # Create output dir \n",
    "            dir.create(file.path(dir.res.pcox, end.point))\n",
    "    \n",
    "            # Find optimal lambda (hyperparameter for elastic net)\n",
    "            pcox.fit = findOptimalLambda(x = model.matrices$x.train.mat, \n",
    "                             y = model.matrices$y.train,\n",
    "                             out.dir = file.path(dir.res.pcox, end.point))\n",
    "        \n",
    "            pcox.fit.ls[[end.point]] = pcox.fit\n",
    "            \n",
    "            if (is.null(pcox.fit) == F){\n",
    "                # Write the final features included in the model to a file \n",
    "                WriteXLS(pcox.fit$active.k.vals, \n",
    "                     file.path(dir.res.pcox, end.point ,\"Active_covariates_in_lambda.min_model.xlsx\"), \n",
    "                      BoldHeaderRow = T,\n",
    "                      row.names = T)           \n",
    "            \n",
    "                    \n",
    "                # Final significant features \n",
    "                rcox.res.with.clin = pcox.fit$active.k.vals %>% tibble::rownames_to_column(\"Feature\")\n",
    "                rcox.res.with.clin.ls[[end.point]] = rcox.res.with.clin  \n",
    "                \n",
    "            } else {\n",
    "                model.matrices.ls[[end.point]] = NULL\n",
    "                pcox.fit.ls[[end.point]] = NULL\n",
    "                rcox.res.with.clin.ls[[end.point]] = NULL\n",
    "            \n",
    "            }\n",
    "            \n",
    "        } else {\n",
    "            # If no significant features from earlier steps for the clin. end point then store null\n",
    "            model.matrices.ls[[end.point]] = NULL\n",
    "            pcox.fit.ls[[end.point]] = NULL\n",
    "            rcox.res.with.clin.ls[[end.point]] = NULL\n",
    "        }\n",
    "\n",
    "    } else {\n",
    "        # If no significant features from earlier steps for the clin. end point then store null\n",
    "        model.matrices.ls[[end.point]] = NULL\n",
    "        pcox.fit.ls[[end.point]] = NULL\n",
    "        rcox.res.with.clin.ls[[end.point]] = NULL\n",
    "    }\n",
    "}"
   ]
  },
  {
   "cell_type": "markdown",
   "id": "concerned-surge",
   "metadata": {},
   "source": [
    "## 5.4 Make predictions using the cross-validated model\n",
    "\n",
    "## 5.4.1 Training set "
   ]
  },
  {
   "cell_type": "code",
   "execution_count": 67,
   "id": "large-vector",
   "metadata": {
    "execution": {
     "iopub.execute_input": "2024-02-02T17:26:05.128807Z",
     "iopub.status.busy": "2024-02-02T17:26:05.092428Z",
     "iopub.status.idle": "2024-02-02T17:26:05.142839Z",
     "shell.execute_reply": "2024-02-02T17:26:05.141449Z"
    }
   },
   "outputs": [],
   "source": [
    "# Store the result tables\n",
    "KM.train.by.risk.ls = list()\n",
    "C.index.train.ls = list()\n",
    "AUC.train.ls = list()"
   ]
  },
  {
   "cell_type": "code",
   "execution_count": 68,
   "id": "basic-fishing",
   "metadata": {
    "execution": {
     "iopub.execute_input": "2024-02-02T17:26:05.147311Z",
     "iopub.status.busy": "2024-02-02T17:26:05.146120Z",
     "iopub.status.idle": "2024-02-02T17:26:05.156459Z",
     "shell.execute_reply": "2024-02-02T17:26:05.155084Z"
    }
   },
   "outputs": [],
   "source": [
    "# Helper function for fixing variable names \n",
    "fixVarNames = function(x){\n",
    "    if (str_detect(x, \"Gender.clin\")) {\n",
    "        return(\"Gender.clin\")\n",
    "    } else if (str_detect(x, \"Tumor.stage.clin\")){\n",
    "        return(\"Tumor.stage.clin\")\n",
    "    } else if (str_detect(x,\".cn\")){\n",
    "        return(str_extract(x, \"\\\\w+.cn\"))\n",
    "    } else if (str_detect(x, \"Gleason.group.clin\")){ \n",
    "        return(\"Gleason.group.clin\")\n",
    "    } else {\n",
    "        return(x)\n",
    "    }\n",
    "}"
   ]
  },
  {
   "cell_type": "code",
   "execution_count": 69,
   "id": "direct-sarah",
   "metadata": {
    "execution": {
     "iopub.execute_input": "2024-02-02T17:26:05.160831Z",
     "iopub.status.busy": "2024-02-02T17:26:05.159624Z",
     "iopub.status.idle": "2024-02-02T17:26:05.169903Z",
     "shell.execute_reply": "2024-02-02T17:26:05.168518Z"
    }
   },
   "outputs": [],
   "source": [
    "# Calculate AUC\n",
    "calcAUC = function(pred.time, time, status, risk.score){\n",
    "    \n",
    "    # Calculate ROC characteristics\n",
    "    res.ROC = survivalROC(Stime = time,\n",
    "                          status = status,\n",
    "                          marker = risk.score,\n",
    "                          predict.time = pred.time,\n",
    "                          method  = \"KM\")\n",
    "    return(min(res.ROC$AUC,1))\n",
    "}"
   ]
  },
  {
   "cell_type": "code",
   "execution_count": 70,
   "id": "confused-denmark",
   "metadata": {
    "execution": {
     "iopub.execute_input": "2024-02-02T17:26:05.174313Z",
     "iopub.status.busy": "2024-02-02T17:26:05.173138Z",
     "iopub.status.idle": "2024-02-02T17:26:08.420722Z",
     "shell.execute_reply": "2024-02-02T17:26:08.419161Z"
    }
   },
   "outputs": [
    {
     "name": "stdout",
     "output_type": "stream",
     "text": [
      "[1] \"Age.clin\"         \"Tumor.stage.clin\"\n",
      "[1] \"Tumor.stage.clin\" \"AURKB.exp\"        \"AR.exp\"           \"PTEN.exp\"        \n",
      "[1] \"Tumor.stage.clin\" \"Tumor.stage.clin\"\n"
     ]
    }
   ],
   "source": [
    "# Set seed \n",
    "set.seed(42)\n",
    "\n",
    "# Iterate over end points \n",
    "for (end.point in c(\"OS\",\"DSS\",\"DFI\",\"PFI\")){\n",
    "    \n",
    "    if (!is.null(pcox.fit.ls[[end.point]])) {\n",
    "    \n",
    "        # Predictions for the training set\n",
    "        pred.train <- predict(pcox.fit.ls[[end.point]]$model, \n",
    "                      newx = model.matrices.ls[[end.point]]$x.train.mat, \n",
    "                      s = \"lambda.min\", \n",
    "                      type = \"response\")\n",
    "\n",
    "        # Fitted relative risk\n",
    "        rel.risk <- pred.train[,1] \n",
    "        \n",
    "        # Calculate the C-index (NEW ADDITION )\n",
    "        c.index.train = Cindex(pred = pred.train, y = model.matrices.ls[[end.point]]$y.train) \n",
    "        C.index.train.ls[[end.point]] = c.index.train \n",
    "\n",
    "        # Stratify validation data into two groups based on the fitted relative risk\n",
    "        y.data <- as.data.frame(as.matrix(model.matrices.ls[[end.point]]$y.train))\n",
    "        \n",
    "        \n",
    "        # TEST new function for calculating the C-index\n",
    "        cindex.train = concordance.index(rel.risk, \n",
    "                                         y.data$time, \n",
    "                                         y.data$status,\n",
    "                                         na.rm = TRUE)\n",
    "        \n",
    "        C.index.train.ls[[end.point]] = data.frame(\"C-index\" = round(cindex.train$c.index, 4),\n",
    "                                          \"C-index CI\" = paste0(\"(\", round(cindex.train$lower, 4), \" - \",  \n",
    "                                                                round(cindex.train$upper, 4), \")\"),\n",
    "                                        check.names = F)\n",
    "        \n",
    "\n",
    "        # Plot KM and extract the p-value  \n",
    "        KM.train.by.risk = plotKMbyRelativeRisk(data = y.data, \n",
    "                                        rel.risk = rel.risk)\n",
    "        \n",
    "        \n",
    "        # Calculate AUCs \n",
    "        auc.vect = round(map_dbl(c(365, 3 * 365, 5 * 365), .f = calcAUC, \n",
    "                   time = y.data$time, status = y.data$status , risk.score = rel.risk), 4)\n",
    "        names(auc.vect) = c(\"AUC (1y)\", \"AUC (3y)\", \"AUC (5y)\")\n",
    "        \n",
    "        AUC.train.ls[[end.point]] = as.data.frame(t(data.frame(auc.vect)))\n",
    "    \n",
    "        if (!is.null(KM.train.by.risk)) {\n",
    "        \n",
    "            # Store\n",
    "            KM.train.by.risk.ls[[end.point]] =  KM.train.by.risk$table\n",
    "    \n",
    "            # Store the KM plot\n",
    "            pdf(file.path(dir.res.pcox, end.point ,\"glmnet_K-M_plot_with_training_data.pdf\"), \n",
    "                width = 15, height = 12, onefile = F)\n",
    "            print(KM.train.by.risk$Plot)\n",
    "            dev.off()\n",
    "    \n",
    "            # Heatmap preparation \n",
    "    \n",
    "            # Variables to be selected \n",
    "            # Because Gender has been changed to a dummy variable its name has been changed\n",
    "            variables.selected = map_chr(rcox.res.with.clin.ls[[end.point]]$Feature, fixVarNames)\n",
    "            \n",
    "            print(variables.selected)\n",
    "            \n",
    "    \n",
    "            # Get all input variables\n",
    "            heatmap.input.train = model.matrices.ls[[end.point]]$x.train %>% dplyr::select(all_of(variables.selected))\n",
    "    \n",
    "            # Heatmap of training data predictions\n",
    "            hmap.train <- prepareHeatmap(heatmap.input.train, y.data, pred.train, file.path(dir.res.pcox, end.point), \"glmnet_training\", row.height = 8)\n",
    "            #print(hmap.train)\n",
    "            \n",
    "        } else {\n",
    "            KM.train.by.risk.ls[[end.point]] = NULL\n",
    "            C.index.train.ls[[end.point]] = NULL\n",
    "            AUC.train.ls[[end.point]] = NULL\n",
    "            \n",
    "        }\n",
    "    } else {\n",
    "        KM.train.by.risk.ls[[end.point]] = NULL\n",
    "        C.index.train.ls[[end.point]] = NULL\n",
    "        AUC.train.ls[[end.point]] = NULL\n",
    "    }\n",
    "}"
   ]
  },
  {
   "cell_type": "markdown",
   "id": "registered-singapore",
   "metadata": {},
   "source": [
    "## 5.4.2 Validation set"
   ]
  },
  {
   "cell_type": "code",
   "execution_count": 71,
   "id": "adapted-updating",
   "metadata": {
    "execution": {
     "iopub.execute_input": "2024-02-02T17:26:08.425406Z",
     "iopub.status.busy": "2024-02-02T17:26:08.424186Z",
     "iopub.status.idle": "2024-02-02T17:26:08.437948Z",
     "shell.execute_reply": "2024-02-02T17:26:08.436556Z"
    }
   },
   "outputs": [],
   "source": [
    "# Store the result tables\n",
    "KM.valid.by.risk.ls = list()\n",
    "C.index.valid.ls = list()\n",
    "AUC.valid.ls = list()"
   ]
  },
  {
   "cell_type": "code",
   "execution_count": 72,
   "id": "opening-pantyhose",
   "metadata": {
    "execution": {
     "iopub.execute_input": "2024-02-02T17:26:08.442426Z",
     "iopub.status.busy": "2024-02-02T17:26:08.441231Z",
     "iopub.status.idle": "2024-02-02T17:26:11.288329Z",
     "shell.execute_reply": "2024-02-02T17:26:11.286648Z"
    }
   },
   "outputs": [
    {
     "name": "stderr",
     "output_type": "stream",
     "text": [
      "Warning message in concordance.index(rel.risk, y.data$time, y.data$status, na.rm = TRUE):\n",
      "“\n",
      "no events, the concordance index cannot be computed!”\n",
      "Warning message in pchisq(chi, df, lower.tail = FALSE):\n",
      "“NaNs produced”\n",
      "Warning message in pchisq(chi, df, lower.tail = FALSE):\n",
      "“NaNs produced”\n",
      "Warning message in concordance.index(rel.risk, y.data$time, y.data$status, na.rm = TRUE):\n",
      "“\n",
      "no events, the concordance index cannot be computed!”\n"
     ]
    },
    {
     "name": "stdout",
     "output_type": "stream",
     "text": [
      "NULL\n"
     ]
    }
   ],
   "source": [
    "# Set seed\n",
    "set.seed(42)\n",
    "\n",
    "# Iterate over end points \n",
    "for (end.point in c(\"OS\",\"DSS\",\"DFI\",\"PFI\")){\n",
    "    \n",
    "    if (!is.null(pcox.fit.ls[[end.point]])) {\n",
    "    \n",
    "        # Predictions for the validation set\n",
    "        pred.valid <- predict(pcox.fit.ls[[end.point]]$model, \n",
    "                      newx = model.matrices.ls[[end.point]]$x.valid.mat, \n",
    "                      s = \"lambda.min\", \n",
    "                      type = \"response\")\n",
    "\n",
    "        # Fitted relative risk\n",
    "        rel.risk <- pred.valid[,1] \n",
    "\n",
    "        # Stratify validation data into two groups based on the fitted relative risk\n",
    "        y.data <- as.data.frame(as.matrix(model.matrices.ls[[end.point]]$y.valid))\n",
    "        \n",
    "        \n",
    "        # TEST new function for calculating the C-index\n",
    "        cindex.valid = concordance.index(rel.risk, \n",
    "                                         y.data$time, \n",
    "                                         y.data$status,\n",
    "                                         na.rm = TRUE)\n",
    "        \n",
    "        C.index.valid.ls[[end.point]] = data.frame(\"C-index\" = round(cindex.valid$c.index, 4),\n",
    "                                          \"C-index CI\" = paste0(\"(\", round(cindex.valid$lower, 4), \" - \",  \n",
    "                                                                round(cindex.valid$upper, 4), \")\"),\n",
    "                                        check.names = F)\n",
    "        \n",
    "        # Plot KM and extract the p-value  \n",
    "        KM.valid.by.risk = plotKMbyRelativeRisk(data = y.data, \n",
    "                                        rel.risk = rel.risk)\n",
    "        \n",
    "        # Calculate AUCs \n",
    "        auc.vect = round(map_dbl(c(365, 3 * 365, 5 * 365), .f = calcAUC, \n",
    "                   time = y.data$time, status = y.data$status , risk.score = rel.risk),4)\n",
    "        \n",
    "        names(auc.vect) = c(\"AUC (1y)\", \"AUC (3y)\", \"AUC (5y)\")\n",
    "        \n",
    "        AUC.valid.ls[[end.point]] = as.data.frame(t(data.frame(auc.vect)))\n",
    "    \n",
    "        if (!is.null(KM.train.by.risk)) {\n",
    "            \n",
    "            # Store\n",
    "            KM.valid.by.risk.ls[[end.point]] =  KM.valid.by.risk$table\n",
    "    \n",
    "            # Store the KM plot\n",
    "            pdf(file.path(dir.res.pcox, end.point ,\"glmnet_K-M_plot_with_validation_data.pdf\"), \n",
    "                width = 15, height = 12, onefile = F)\n",
    "            print(KM.valid.by.risk$Plot)\n",
    "            dev.off()\n",
    "    \n",
    "            # Heatmap preparation \n",
    "    \n",
    "            # Variables to be selected \n",
    "            variables.selected = map_chr(rcox.res.with.clin.ls[[end.point]]$Feature, fixVarNames)\n",
    "    \n",
    "            # Get all input variables\n",
    "            heatmap.input.valid = model.matrices.ls[[end.point]]$x.valid %>% dplyr::select(all_of(variables.selected))\n",
    "    \n",
    "            # Heatmap of training data predictions\n",
    "            hmap.valid <- prepareHeatmap(heatmap.input.valid, y.data, pred.valid, file.path(dir.res.pcox, end.point), \"glmnet_validation\", row.height = 8)\n",
    "            \n",
    "        } else {\n",
    "            KM.valid.by.risk.ls[[end.point]] = NULL\n",
    "            C.index.valid.ls[[end.point]] = NULL\n",
    "            AUC.valid.ls[[end.point]] = NULL\n",
    "        }\n",
    "    } else {\n",
    "        KM.valid.by.risk.ls[[end.point]] = NULL\n",
    "        C.index.valid.ls[[end.point]] = NULL\n",
    "        AUC.valid.ls[[end.point]] = NULL\n",
    "    }\n",
    "}"
   ]
  },
  {
   "cell_type": "code",
   "execution_count": 73,
   "id": "governmental-album",
   "metadata": {
    "execution": {
     "iopub.execute_input": "2024-02-02T17:26:11.293509Z",
     "iopub.status.busy": "2024-02-02T17:26:11.292237Z",
     "iopub.status.idle": "2024-02-02T17:26:11.314208Z",
     "shell.execute_reply": "2024-02-02T17:26:11.312744Z"
    }
   },
   "outputs": [],
   "source": [
    "# Collect the results into a single data frame\n",
    "\n",
    "# Log-rank test results \n",
    "KM.by.risk.with.clin.train = bind_rows(KM.train.by.risk.ls, .id = \"End point\")\n",
    "KM.by.risk.with.clin.valid = bind_rows(KM.valid.by.risk.ls, .id = \"End point\")\n",
    "\n",
    "# C-indices\n",
    "C.index.train.df = bind_rows(C.index.train.ls , .id = \"End point\")\n",
    "C.index.valid.df = bind_rows(C.index.valid.ls , .id = \"End point\")\n",
    "\n",
    "# AUCs \n",
    "auc.train.df = bind_rows(AUC.train.ls, .id  = \"End point\") \n",
    "auc.valid.df = bind_rows(AUC.valid.ls, .id  = \"End point\")"
   ]
  },
  {
   "cell_type": "code",
   "execution_count": 74,
   "id": "structured-serial",
   "metadata": {
    "execution": {
     "iopub.execute_input": "2024-02-02T17:26:11.318719Z",
     "iopub.status.busy": "2024-02-02T17:26:11.317469Z",
     "iopub.status.idle": "2024-02-02T17:26:11.338928Z",
     "shell.execute_reply": "2024-02-02T17:26:11.337497Z"
    }
   },
   "outputs": [],
   "source": [
    "# Store final resilts\n",
    "write.csv(KM.by.risk.with.clin.train, file.path(dir.res.pcox, \"Final_evaluation_results_training.csv\"), row.names = F)\n",
    "write.csv(KM.by.risk.with.clin.valid, file.path(dir.res.pcox, \"Final_evaluation_results_validation.csv\"),row.names = F)\n",
    "\n",
    "write.csv(C.index.train.df, file.path(dir.res.pcox, \"Final_evaluation_C_index_training.csv\"), row.names = F)\n",
    "write.csv(C.index.valid.df, file.path(dir.res.pcox, \"Final_evaluation_C_index_validation.csv\"), row.names = F)\n",
    "\n",
    "write.csv(auc.train.df, file.path(dir.res.pcox, \"Final_evaluation_AUC_training.csv\"), row.names = F)\n",
    "write.csv(auc.valid.df, file.path(dir.res.pcox, \"Final_evaluation_AUC_validation.csv\"), row.names = F)"
   ]
  },
  {
   "cell_type": "markdown",
   "id": "boxed-handle",
   "metadata": {},
   "source": [
    "# 6. For each clinical end point produce a reference model including only clinical variables "
   ]
  },
  {
   "cell_type": "code",
   "execution_count": 75,
   "id": "automated-template",
   "metadata": {
    "execution": {
     "iopub.execute_input": "2024-02-02T17:26:11.343496Z",
     "iopub.status.busy": "2024-02-02T17:26:11.342265Z",
     "iopub.status.idle": "2024-02-02T17:26:11.353928Z",
     "shell.execute_reply": "2024-02-02T17:26:11.352496Z"
    }
   },
   "outputs": [],
   "source": [
    "dir.res.pcox = file.path(dir.res.root, \"Penalized_Cox_risk_prediction/customer_features/Only_clinical_features\")\n",
    "dir.create(dir.res.pcox, recursive = T)"
   ]
  },
  {
   "cell_type": "markdown",
   "id": "suspended-joseph",
   "metadata": {},
   "source": [
    "## 6.1 Splitting dataset into training and validation set\n",
    "\n",
    "For simplicity and to ensure that we will have a reference model we will apply conventional cox regression\n",
    "\n",
    "## 6.2 Fit the model and check the proportionality assumptions"
   ]
  },
  {
   "cell_type": "code",
   "execution_count": 76,
   "id": "multiple-hardwood",
   "metadata": {
    "execution": {
     "iopub.execute_input": "2024-02-02T17:26:11.358438Z",
     "iopub.status.busy": "2024-02-02T17:26:11.357207Z",
     "iopub.status.idle": "2024-02-02T17:26:11.367607Z",
     "shell.execute_reply": "2024-02-02T17:26:11.366184Z"
    }
   },
   "outputs": [],
   "source": [
    "# Store COX models\n",
    "pcox.ref.fit.ls = list()"
   ]
  },
  {
   "cell_type": "code",
   "execution_count": 77,
   "id": "painful-society",
   "metadata": {
    "execution": {
     "iopub.execute_input": "2024-02-02T17:26:11.371989Z",
     "iopub.status.busy": "2024-02-02T17:26:11.370773Z",
     "iopub.status.idle": "2024-02-02T17:26:11.381389Z",
     "shell.execute_reply": "2024-02-02T17:26:11.379909Z"
    }
   },
   "outputs": [],
   "source": [
    "# \n",
    "# Function fits a cox regression model\n",
    "# \n",
    "fitCoxModel = function(data, end.point, features){\n",
    "    \n",
    "    # Expand to variable name\n",
    "    end_point_time = paste0(end.point, \".time.clin\")\n",
    "    end_point_event = paste0(end.point, \".clin\")\n",
    "\n",
    "    # Generate a survival formula object \n",
    "    survExpression = paste0(\"Surv(\", end_point_time, \", \" , end_point_event, \")\")\n",
    "    f <- as.formula(paste(survExpression, paste(features, collapse = \" + \"), sep = \" ~ \"))\n",
    "    \n",
    "    model.fit = coxph(f, data = data)\n",
    "    return(model.fit)\n",
    "}"
   ]
  },
  {
   "cell_type": "code",
   "execution_count": 78,
   "id": "cognitive-powell",
   "metadata": {
    "execution": {
     "iopub.execute_input": "2024-02-02T17:26:11.385786Z",
     "iopub.status.busy": "2024-02-02T17:26:11.384568Z",
     "iopub.status.idle": "2024-02-02T17:26:12.187430Z",
     "shell.execute_reply": "2024-02-02T17:26:12.185731Z"
    }
   },
   "outputs": [
    {
     "name": "stderr",
     "output_type": "stream",
     "text": [
      "Warning message in coxph.fit(X, Y, istrat, offset, init, control, weights = weights, :\n",
      "“Loglik converged before variable  2 ; coefficient may be infinite. ”\n",
      "Warning message in coxph.fit(X, Y, istrat, offset, init, control, weights = weights, :\n",
      "“Loglik converged before variable  2,3 ; coefficient may be infinite. ”\n"
     ]
    }
   ],
   "source": [
    "# Fit the models\n",
    "for (end.point in c(\"OS\",\"DSS\",\"DFI\",\"PFI\")){\n",
    "    \n",
    "    # Construct the clinical end points \n",
    "    end_point_event = paste0(end.point, \".clin\")\n",
    "    end_point_time = paste0(end.point, \".time.clin\")\n",
    "    \n",
    "    clinical.feat = paste0(clin.var, \".clin\")\n",
    "    \n",
    "    # Subset \n",
    "    selected.features = c(end_point_event, end_point_time, clinical.feat)\n",
    "    \n",
    "    # Input training data \n",
    "    input.training = tcga.dataset.merged[[end.point]]$train %>% dplyr::select(all_of(selected.features))\n",
    "    \n",
    "    if (nrow(input.training) > 1) {\n",
    "        pcox.ref.fit.ls[[end.point]] = fitCoxModel(input.training, end.point, clinical.feat)\n",
    "    } else {\n",
    "        pcox.ref.fit.ls[[end.point]] = NULL\n",
    "    }\n",
    "}"
   ]
  },
  {
   "cell_type": "markdown",
   "id": "guilty-pocket",
   "metadata": {},
   "source": [
    "## 6.3 Make predictions with the full model\n",
    "\n",
    "### 6.3.1 Training set "
   ]
  },
  {
   "cell_type": "code",
   "execution_count": 79,
   "id": "labeled-factory",
   "metadata": {
    "execution": {
     "iopub.execute_input": "2024-02-02T17:26:12.192567Z",
     "iopub.status.busy": "2024-02-02T17:26:12.191308Z",
     "iopub.status.idle": "2024-02-02T17:26:12.206281Z",
     "shell.execute_reply": "2024-02-02T17:26:12.204864Z"
    }
   },
   "outputs": [],
   "source": [
    "# Store the result tables\n",
    "KM.train.ref.by.risk.ls = list()\n",
    "C.index.ref.train.ls = list()\n",
    "AUC.train.ref.ls = list()"
   ]
  },
  {
   "cell_type": "code",
   "execution_count": 80,
   "id": "flush-oxygen",
   "metadata": {
    "execution": {
     "iopub.execute_input": "2024-02-02T17:26:12.210762Z",
     "iopub.status.busy": "2024-02-02T17:26:12.209555Z",
     "iopub.status.idle": "2024-02-02T17:26:13.194271Z",
     "shell.execute_reply": "2024-02-02T17:26:13.192662Z"
    }
   },
   "outputs": [],
   "source": [
    "# Iterate over end points \n",
    "for (end.point in c(\"OS\",\"DSS\",\"DFI\",\"PFI\")){\n",
    "    \n",
    "    if (is.null(pcox.ref.fit.ls[[end.point]]) != T) {\n",
    "    \n",
    "        # Apply model to predict the risk scores \n",
    "        rel.risk = predict(object = pcox.ref.fit.ls[[end.point]], \n",
    "               newdata = tcga.dataset.merged[[end.point]]$train[,paste0(clin.var, \".clin\"), drop = F], \n",
    "               type = \"risk\")\n",
    "\n",
    "        # Stratify validation data into two groups based on the fitted relative risk\n",
    "        y.data <- tcga.dataset.merged[[end.point]]$train[paste0(end.point, c(\".clin\",\".time.clin\"))]\n",
    "        colnames(y.data) = c(\"status\",\"time\")\n",
    "    \n",
    "    \n",
    "        # TEST new function for calculating the C-index\n",
    "        cindex.ref.train = concordance.index(rel.risk, \n",
    "                                         y.data$time, \n",
    "                                         y.data$status,\n",
    "                                         na.rm = TRUE)\n",
    "        \n",
    "        C.index.ref.train.ls[[end.point]] = data.frame(\"C-index\" = round(cindex.ref.train$c.index, 4),\n",
    "                                   \"C-index CI\" = paste0(\"(\", round(cindex.ref.train$lower, 4), \" - \",  \n",
    "                                                         round(cindex.ref.train$upper, 4), \")\"), check.names = F)\n",
    "    \n",
    "        # Plot KM and extract the p-value  \n",
    "        KM.train.ref.by.risk = plotKMbyRelativeRisk(data = y.data, \n",
    "                                                                rel.risk = rel.risk)\n",
    "    \n",
    "        KM.train.ref.by.risk.ls[[end.point]] =  KM.train.ref.by.risk$table\n",
    "    \n",
    "        # Calculate AUCs \n",
    "        auc.vect = round(map_dbl(c(365, 3 * 365, 5 * 365), .f = calcAUC, \n",
    "                   time = y.data$time, status = y.data$status , risk.score = rel.risk),4)\n",
    "        \n",
    "        names(auc.vect) = c(\"AUC (1y)\", \"AUC (3y)\", \"AUC (5y)\")\n",
    "        \n",
    "        AUC.train.ref.ls[[end.point]] = as.data.frame(t(data.frame(auc.vect)))  \n",
    "    \n",
    "    } else {\n",
    "        \n",
    "        KM.train.ref.by.risk.ls[[end.point]] = NULL\n",
    "        C.index.ref.train.ls[[end.point]] = NULL\n",
    "        AUC.train.ref.ls[[end.point]] = NULL\n",
    "        \n",
    "    }    \n",
    "}"
   ]
  },
  {
   "cell_type": "markdown",
   "id": "gorgeous-costume",
   "metadata": {},
   "source": [
    "### 6.3.2 Validation set"
   ]
  },
  {
   "cell_type": "code",
   "execution_count": 81,
   "id": "norwegian-commerce",
   "metadata": {
    "execution": {
     "iopub.execute_input": "2024-02-02T17:26:13.199096Z",
     "iopub.status.busy": "2024-02-02T17:26:13.197841Z",
     "iopub.status.idle": "2024-02-02T17:26:13.211829Z",
     "shell.execute_reply": "2024-02-02T17:26:13.210386Z"
    }
   },
   "outputs": [],
   "source": [
    "# Store the result tables\n",
    "KM.valid.ref.by.risk.ls = list()\n",
    "C.index.ref.valid.ls = list()\n",
    "AUC.valid.ref.ls = list()"
   ]
  },
  {
   "cell_type": "code",
   "execution_count": 82,
   "id": "aggregate-leave",
   "metadata": {
    "execution": {
     "iopub.execute_input": "2024-02-02T17:26:13.216286Z",
     "iopub.status.busy": "2024-02-02T17:26:13.215073Z",
     "iopub.status.idle": "2024-02-02T17:26:14.063752Z",
     "shell.execute_reply": "2024-02-02T17:26:14.062140Z"
    }
   },
   "outputs": [
    {
     "name": "stderr",
     "output_type": "stream",
     "text": [
      "Warning message in concordance.index(rel.risk, y.data$time, y.data$status, na.rm = TRUE):\n",
      "“\n",
      "no events, the concordance index cannot be computed!”\n",
      "Warning message in pchisq(chi, df, lower.tail = FALSE):\n",
      "“NaNs produced”\n",
      "Warning message in pchisq(chi, df, lower.tail = FALSE):\n",
      "“NaNs produced”\n",
      "Warning message in concordance.index(rel.risk, y.data$time, y.data$status, na.rm = TRUE):\n",
      "“\n",
      "no events, the concordance index cannot be computed!”\n",
      "Warning message in pchisq(chi, df, lower.tail = FALSE):\n",
      "“NaNs produced”\n",
      "Warning message in pchisq(chi, df, lower.tail = FALSE):\n",
      "“NaNs produced”\n"
     ]
    }
   ],
   "source": [
    "# Iterate over end points \n",
    "for (end.point in c(\"OS\",\"DSS\",\"DFI\",\"PFI\")){\n",
    "    \n",
    "    \n",
    "    if (is.null(pcox.ref.fit.ls[[end.point]]) != T) {\n",
    "    \n",
    "        # Apply model to predict the risk scores \n",
    "        rel.risk = predict(object = pcox.ref.fit.ls[[end.point]], \n",
    "               newdata = tcga.dataset.merged[[end.point]]$validation[,paste0(clin.var, \".clin\"), drop = F], \n",
    "               type = \"risk\")\n",
    "    \n",
    "        # Stratify validation data into two groups based on the fitted relative risk\n",
    "        y.data <- tcga.dataset.merged[[end.point]]$validation[paste0(end.point, c(\".clin\",\".time.clin\"))]\n",
    "        colnames(y.data) = c(\"status\",\"time\")\n",
    "    \n",
    "    \n",
    "        # TEST new function for calculating the C-index\n",
    "        cindex.ref.valid = concordance.index(rel.risk, \n",
    "                                         y.data$time, \n",
    "                                         y.data$status,\n",
    "                                         na.rm = TRUE)\n",
    "        \n",
    "        C.index.ref.valid.ls[[end.point]] = data.frame(\"C-index\" = round(cindex.ref.valid$c.index, 4),\n",
    "                                                   \"C-index CI\" = paste0(\"(\", round(cindex.ref.valid$lower, 4), \" - \",  \n",
    "                                                         round(cindex.ref.valid$upper, 4), \")\"), check.names = F)\n",
    "    \n",
    "        # Plot KM and extract the p-value  \n",
    "        KM.valid.ref.by.risk = plotKMbyRelativeRisk(data = y.data, \n",
    "                                                rel.risk = rel.risk)\n",
    "    \n",
    "        KM.valid.ref.by.risk.ls[[end.point]] =  KM.valid.ref.by.risk$table\n",
    "    \n",
    "    \n",
    "        # Calculate AUCs \n",
    "        auc.vect = round(map_dbl(c(365, 3 * 365, 5 * 365), .f = calcAUC, \n",
    "                   time = y.data$time, status = y.data$status , risk.score = rel.risk),4)\n",
    "        \n",
    "        names(auc.vect) = c(\"AUC (1y)\", \"AUC (3y)\", \"AUC (5y)\")\n",
    "        \n",
    "        AUC.valid.ref.ls[[end.point]] = as.data.frame(t(data.frame(auc.vect)))\n",
    "        \n",
    "    } else {\n",
    "        \n",
    "        KM.valid.ref.by.risk.ls[[end.point]] = NULL\n",
    "        C.index.ref.valid.ls[[end.point]] = NULL\n",
    "        AUC.valid.ref.ls[[end.point]] = NULL\n",
    "    \n",
    "    }\n",
    "}"
   ]
  },
  {
   "cell_type": "code",
   "execution_count": 83,
   "id": "hybrid-watson",
   "metadata": {
    "execution": {
     "iopub.execute_input": "2024-02-02T17:26:14.068485Z",
     "iopub.status.busy": "2024-02-02T17:26:14.067246Z",
     "iopub.status.idle": "2024-02-02T17:26:14.088690Z",
     "shell.execute_reply": "2024-02-02T17:26:14.087226Z"
    }
   },
   "outputs": [],
   "source": [
    "# Collect the results into a single data frame\n",
    "\n",
    "# Log-rank test results \n",
    "KM.train.ref.by.risk.df = bind_rows(KM.train.ref.by.risk.ls, .id = \"End point\")\n",
    "KM.valid.ref.by.risk.df = bind_rows(KM.valid.ref.by.risk.ls, .id = \"End point\")\n",
    "\n",
    "# C-indices\n",
    "C.index.ref.train.df = bind_rows(C.index.ref.train.ls , .id = \"End point\")\n",
    "C.index.ref.valid.df = bind_rows(C.index.ref.valid.ls , .id = \"End point\")\n",
    "\n",
    "# AUCs \n",
    "auc.train.ref.df = bind_rows(AUC.train.ref.ls, .id  = \"End point\") \n",
    "auc.valid.ref.df = bind_rows(AUC.valid.ref.ls, .id  = \"End point\")"
   ]
  },
  {
   "cell_type": "code",
   "execution_count": 84,
   "id": "cooked-second",
   "metadata": {
    "execution": {
     "iopub.execute_input": "2024-02-02T17:26:14.093364Z",
     "iopub.status.busy": "2024-02-02T17:26:14.091927Z",
     "iopub.status.idle": "2024-02-02T17:26:14.100973Z",
     "shell.execute_reply": "2024-02-02T17:26:14.099574Z"
    }
   },
   "outputs": [],
   "source": [
    "# Store final resilts\n",
    "write.csv(KM.train.ref.by.risk.df, file.path(dir.res.pcox, \"Final_evaluation_results_training.csv\"), row.names = F)\n",
    "write.csv(KM.valid.ref.by.risk.df, file.path(dir.res.pcox, \"Final_evaluation_results_validation.csv\"),row.names = F)\n",
    "\n",
    "write.csv(C.index.ref.train.df, file.path(dir.res.pcox, \"Final_evaluation_C_index_training.csv\"), row.names = F)\n",
    "write.csv(C.index.ref.valid.df, file.path(dir.res.pcox, \"Final_evaluation_C_index_validation.csv\"), row.names = F)\n",
    "\n",
    "write.csv(auc.train.ref.df, file.path(dir.res.pcox, \"Final_evaluation_AUC_training.csv\"), row.names = F)\n",
    "write.csv(auc.valid.ref.df, file.path(dir.res.pcox, \"Final_evaluation_AUC_validation.csv\"), row.names = F)"
   ]
  },
  {
   "cell_type": "code",
   "execution_count": 85,
   "id": "executive-laugh",
   "metadata": {
    "execution": {
     "iopub.execute_input": "2024-02-02T17:26:14.105338Z",
     "iopub.status.busy": "2024-02-02T17:26:14.104143Z",
     "iopub.status.idle": "2024-02-02T17:26:14.114671Z",
     "shell.execute_reply": "2024-02-02T17:26:14.113269Z"
    }
   },
   "outputs": [],
   "source": [
    "# Collect into a list \n",
    "final.result.collection = list(\"FSS1_sample_summary\" = nsamples_step1_ls,\n",
    "                               \"Clinical_endpoint_stats\" = clinical.end.point.stats,\n",
    "                               \"Feature_summary_stats\" = summary.stats.ls,\n",
    "                               \"Clin_Feature_summary_stats\" = clin.summary.table,\n",
    "                               \"FSS1_results_summary\" = km.pvalue.table.ls,\n",
    "                               \"FSS2_sample_summary_no_clin\" = nsamples_step2_ls_no_clin,\n",
    "                               \"FSS2_regcox_res_no_clin\" = rcox.res.no.clin.ls,\n",
    "                               \"Final_res_KM_no_clin_train\" = KM.by.risk.no.clin.train,\n",
    "                               \"Final_res_KM_no_clin_valid\" = KM.by.risk.no.clin.valid,\n",
    "                               \"FSS2_sample_summary_with_clin\" = nsamples_step2_ls_with_clin,\n",
    "                               \"FSS2_regcox_res_with_clin\" = rcox.res.with.clin.ls,\n",
    "                               \"Final_res_KM_with_clin_train\" = KM.by.risk.with.clin.train,\n",
    "                               \"Final_res_KM_with_clin_valid\" = KM.by.risk.with.clin.valid,\n",
    "                               \"FSS2_sample_summary_only_clin\" = nsamples.step2,\n",
    "                               \"Final_res_KM_only_clin_train\" = KM.train.ref.by.risk.df,\n",
    "                               \"Final_res_KM_only_clin_valid\" = KM.valid.ref.by.risk.df)"
   ]
  },
  {
   "cell_type": "code",
   "execution_count": 86,
   "id": "identified-astronomy",
   "metadata": {
    "execution": {
     "iopub.execute_input": "2024-02-02T17:26:14.118962Z",
     "iopub.status.busy": "2024-02-02T17:26:14.117764Z",
     "iopub.status.idle": "2024-02-02T17:26:14.128825Z",
     "shell.execute_reply": "2024-02-02T17:26:14.127403Z"
    }
   },
   "outputs": [],
   "source": [
    "saveRDS(final.result.collection, file.path(dir.res.root, \"Final_results_collection.rds\"))"
   ]
  },
  {
   "cell_type": "code",
   "execution_count": null,
   "id": "e8837438-dceb-4319-9656-4fc4884f6120",
   "metadata": {},
   "outputs": [],
   "source": []
  }
 ],
 "metadata": {
  "kernelspec": {
   "display_name": "r4.2.2",
   "language": "R",
   "name": "r4.2.2"
  },
  "language_info": {
   "codemirror_mode": "r",
   "file_extension": ".r",
   "mimetype": "text/x-r-source",
   "name": "R",
   "pygments_lexer": "r",
   "version": "4.2.2"
  }
 },
 "nbformat": 4,
 "nbformat_minor": 5
}
