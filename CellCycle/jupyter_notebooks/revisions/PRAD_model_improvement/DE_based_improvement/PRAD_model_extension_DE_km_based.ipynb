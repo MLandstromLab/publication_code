{
 "cells": [
  {
   "cell_type": "markdown",
   "id": "79e818ff-1cf4-455e-bb45-65b45dae8587",
   "metadata": {},
   "source": [
    "# PRAD model extension testing"
   ]
  },
  {
   "cell_type": "markdown",
   "id": "4bdf4830-81de-4332-8b9d-c811282b7a39",
   "metadata": {},
   "source": [
    "Here we test what happens to the original models if we start adding features"
   ]
  },
  {
   "cell_type": "code",
   "execution_count": 29,
   "id": "d6bbffb0-084e-4643-b3f4-06da4d408ce7",
   "metadata": {},
   "outputs": [],
   "source": [
    "library(tidyverse)\n",
    "library(survival)\n",
    "library(survminer)\n",
    "library(glmnet)\n",
    "library(WriteXLS)\n",
    "library(ggfortify)\n",
    "library(circlize)\n",
    "library(ComplexHeatmap)\n",
    "library(parallel)\n",
    "library(broom)\n",
    "library(survcomp)\n",
    "library(survivalROC)\n",
    "library(gtsummary)\n",
    "source(\"../getTCGAData.R\")\n",
    "source(\"../preprocessTCGAData.R\")\n",
    "source(\"../KM_analysis.R\")\n",
    "source(\"../Heatmaps.R\")\n",
    "source(\"../enet.R\")"
   ]
  },
  {
   "cell_type": "markdown",
   "id": "b7b705ce-7a54-4d77-9a9c-182dbb8d0b80",
   "metadata": {},
   "source": [
    "## Functions "
   ]
  },
  {
   "cell_type": "code",
   "execution_count": 30,
   "id": "36876483-ae08-4b65-8e23-0a85901c2b02",
   "metadata": {},
   "outputs": [],
   "source": [
    "#\n",
    "#\n",
    "#\n",
    "# Helper function for fixing variable names \n",
    "fixVarNames = function(x){\n",
    "    print(x[1])\n",
    "    if (str_detect(x, \"Gender.clin\")) {\n",
    "        return(\"Gender\")\n",
    "    } else if (str_detect(x, \"Tumor.stage.clin\")){\n",
    "        return(\"Tumor.stage\")\n",
    "    } else if (str_detect(x,\".cn\")){\n",
    "        return(str_extract(x, \"\\\\w+.cn\"))\n",
    "    } else if (str_detect(x, \"Gleason.group.clin\")){ \n",
    "        return(\"Gleason.group.clin\")\n",
    "    } else {\n",
    "        return(x)\n",
    "    }\n",
    "}\n",
    "\n",
    "\n",
    "# \n",
    "# Function fits a cox regression model\n",
    "# \n",
    "fitCoxModel = function(data, end.point, features){\n",
    "    \n",
    "    # Expand to variable name\n",
    "    end_point_time = paste0(end.point, \".time.clin\")\n",
    "    end_point_event = paste0(end.point, \".clin\")\n",
    "\n",
    "    # Generate a survival formula object \n",
    "    survExpression = paste0(\"Surv(\", end_point_time, \", \" , end_point_event, \")\")\n",
    "    f <- as.formula(paste(survExpression, paste(features, collapse = \" + \"), sep = \" ~ \"))\n",
    "    \n",
    "    model.fit = coxph(f, data = data)\n",
    "    return(model.fit)\n",
    "}"
   ]
  },
  {
   "cell_type": "markdown",
   "id": "6e4f6d11-5a06-47e3-be84-1fa83025f865",
   "metadata": {},
   "source": [
    "## Load processed data"
   ]
  },
  {
   "cell_type": "code",
   "execution_count": 31,
   "id": "1a844ad2-df9d-431b-a8af-f89d6ab5b1cd",
   "metadata": {},
   "outputs": [],
   "source": [
    "tcga.dataset.merged = readRDS(\"/lustre/projects/landstrom_core/data/rdata_revised/manuscript_work//PRAD//tcga.dataset_merged.rds\")"
   ]
  },
  {
   "cell_type": "markdown",
   "id": "21b701e6-0aff-41a8-a670-806c4690e366",
   "metadata": {},
   "source": [
    "## Load original model and extracting features"
   ]
  },
  {
   "cell_type": "code",
   "execution_count": 105,
   "id": "b323185c-f73f-4541-89f9-b581ceceb5a7",
   "metadata": {},
   "outputs": [
    {
     "name": "stderr",
     "output_type": "stream",
     "text": [
      "\u001b[1m\u001b[22mNew names:\n",
      "\u001b[36m•\u001b[39m `` -> `...1`\n"
     ]
    }
   ],
   "source": [
    "# Loading original features \n",
    "original.model.features = read_excel(\"/lustre/projects/landstrom_core/results/prognostic_model_development_revised/models_by_cancer_type/PRAD/Penalized_Cox_risk_prediction/customer_features/With_clinical_features/PFI/Active_covariates_in_lambda.min_model.xlsx\")"
   ]
  },
  {
   "cell_type": "code",
   "execution_count": 106,
   "id": "e9d62a3e-1ae5-441f-80d1-3c7330b9f815",
   "metadata": {},
   "outputs": [
    {
     "name": "stdout",
     "output_type": "stream",
     "text": [
      "[1] \"Age.clin\"\n",
      "[1] \"Gleason.group.clinGleason_group_2\"\n",
      "[1] \"KIF23.exp\"\n",
      "[1] \"PTEN.exp\"\n",
      "[1] \"VPS4B.exp\"\n",
      "[1] \"AURKA.exp\"\n",
      "[1] \"AURKB.exp\"\n",
      "[1] \"TP53.cn-1\"\n"
     ]
    }
   ],
   "source": [
    "# Feature names to be selected \n",
    "selected.features = map_chr(unlist(original.model.features[,1]), fixVarNames) %>% as.vector()"
   ]
  },
  {
   "cell_type": "markdown",
   "id": "54855beb-2817-4b3f-b5b2-0f3877d40441",
   "metadata": {},
   "source": [
    "## Refitting the original model using standard cox-regression"
   ]
  },
  {
   "cell_type": "code",
   "execution_count": 107,
   "id": "98ce9c68-9535-445e-8faa-d16ada5dac13",
   "metadata": {},
   "outputs": [],
   "source": [
    "# Construct the clinical end points \n",
    "end_point_event = paste0(\"PFI\", \".clin\")\n",
    "end_point_time = paste0(\"PFI\", \".time.clin\")\n",
    "    \n",
    "selected.columns = c(end_point_event, end_point_time, selected.features)"
   ]
  },
  {
   "cell_type": "code",
   "execution_count": 108,
   "id": "3dcdbaf8-1a0f-4c7e-a35b-f66dc705ef76",
   "metadata": {},
   "outputs": [],
   "source": [
    "# Input data for cox-model \n",
    "input.training = tcga.dataset.merged[[\"PFI\"]]$train %>% dplyr::select(all_of(selected.columns))\n",
    "\n",
    "# Fit the cox-model \n",
    "pcox.ref.fit.pfi.original = fitCoxModel(input.training, \"PFI\", selected.features)\n",
    "\n",
    "# Predict the risk scores for validation data \n",
    "rel.risk = predict(object = pcox.ref.fit.pfi.original, \n",
    "                   newdata = tcga.dataset.merged$PFI$validation[,selected.features], \n",
    "                   type = \"risk\")\n",
    "\n",
    "#\n",
    "# Evaluate \n",
    "#\n",
    "\n",
    "# Stratify validation data into two groups based on the fitted relative risk\n",
    "y.data <- tcga.dataset.merged$PFI$validation[paste0(\"PFI\", c(\".clin\",\".time.clin\"))]\n",
    "colnames(y.data) = c(\"status\",\"time\")\n",
    "\n",
    "# TEST new function for calculating the C-index\n",
    "cindex.ref.valid = concordance.index(rel.risk, \n",
    "                                        y.data$time, \n",
    "                                        y.data$status,\n",
    "                                        na.rm = TRUE)\n",
    "\n",
    "# Plot KM and extract the p-value  \n",
    "KM.valid.ref.by.risk = plotKMbyRelativeRisk(data = y.data, \n",
    "                                                     rel.risk = rel.risk)"
   ]
  },
  {
   "cell_type": "code",
   "execution_count": 109,
   "id": "652f335e-ed07-4605-83e6-cd4ba7836576",
   "metadata": {},
   "outputs": [],
   "source": [
    "# Modify the labels \n",
    "\n",
    "colnames(tcga.dataset.merged[[\"PFI\"]]$train) = str_replace(colnames(tcga.dataset.merged[[\"PFI\"]]$train), \"-\", \"_\")\n",
    "colnames(tcga.dataset.merged[[\"PFI\"]]$validation) = str_replace(colnames(tcga.dataset.merged[[\"PFI\"]]$validation), \"-\", \"_\")"
   ]
  },
  {
   "cell_type": "markdown",
   "id": "f3b3f72c-88d4-471f-ad85-08716e727b89",
   "metadata": {},
   "source": [
    "## Load the KM results "
   ]
  },
  {
   "cell_type": "code",
   "execution_count": 37,
   "id": "4152eb92-6b79-40db-9c3f-972b37d21338",
   "metadata": {},
   "outputs": [],
   "source": [
    "km.results.de = read.csv(\"/lustre/projects/landstrom_core/results/prognostic_model_development_revised_cell_cycle/DE_based/top300/PRAD/Kaplan_Meier_plots/PFI_LogRank_pvalues.csv\")"
   ]
  },
  {
   "cell_type": "code",
   "execution_count": 38,
   "id": "df3c5bbb-7c18-4bfb-b957-bb6cf6c2c027",
   "metadata": {},
   "outputs": [],
   "source": [
    "# Convert \"-\" to &\n",
    "km.results.de$Feature = str_replace(km.results.de$Feature, \"-\", \"_\")"
   ]
  },
  {
   "cell_type": "code",
   "execution_count": null,
   "id": "d72bbd72-44fa-46f7-9d30-7d6e1541808e",
   "metadata": {},
   "outputs": [],
   "source": []
  },
  {
   "cell_type": "markdown",
   "id": "cd0ef8bd-42fd-4b93-9a63-6bf804934075",
   "metadata": {},
   "source": [
    "## TEST SINGLE GENE"
   ]
  },
  {
   "cell_type": "code",
   "execution_count": 39,
   "id": "3d83818d-4614-443f-9c94-a4e312c2e191",
   "metadata": {},
   "outputs": [
    {
     "name": "stdout",
     "output_type": "stream",
     "text": [
      "[1] 0.6749079\n",
      "$Plot\n",
      "\n",
      "$table\n",
      "    N Pvalue.variable Pvalue.pval Pvalue.method Pvalue.pval.txt\n",
      "1 121           group 0.004557709      Log-rank      p = 0.0046\n",
      "\n"
     ]
    },
    {
     "data": {
      "image/png": "[encoded data removed]",
      "text/plain": [
       "plot without title"
      ]
     },
     "metadata": {
      "image/png": {
       "height": 420,
       "width": 420
      }
     },
     "output_type": "display_data"
    }
   ],
   "source": [
    "new.feature = \"FAM72A.exp\"\n",
    "\n",
    "# Test adding one gene\n",
    "#selected.columns.test = c(selected.columns, new.feature)\n",
    "\n",
    "selected.columns.test = c(selected.columns, c(km.results.de$Feature[1], km.results.de$Feature[12],km.results.de$Feature[14], \n",
    "                                              km.results.de$Feature[15]))\n",
    "    \n",
    "# Input data for cox-model \n",
    "input.training = tcga.dataset.merged[[\"PFI\"]]$train %>% dplyr::select(all_of(selected.columns.test))\n",
    "\n",
    "# The features \n",
    "selected.features.test = selected.columns.test[-c(1,2)]\n",
    "    \n",
    "# Fit the cox-model \n",
    "pcox.ref.fit.pfi = fitCoxModel(input.training, \"PFI\", selected.features.test)\n",
    "\n",
    "# Predict the risk scores for validation data \n",
    "rel.risk = predict(object = pcox.ref.fit.pfi , \n",
    "                   newdata = tcga.dataset.merged$PFI$validation[,selected.features.test], \n",
    "                   type = \"risk\")\n",
    "\n",
    "#\n",
    "# Evaluate \n",
    "#\n",
    "\n",
    "# Stratify validation data into two groups based on the fitted relative risk\n",
    "y.data <- tcga.dataset.merged$PFI$validation[paste0(\"PFI\", c(\".clin\",\".time.clin\"))]\n",
    "colnames(y.data) = c(\"status\",\"time\")\n",
    "\n",
    "# TEST new function for calculating the C-index\n",
    "cindex.ref.valid = concordance.index(rel.risk, \n",
    "                                        y.data$time, \n",
    "                                        y.data$status,\n",
    "                                        na.rm = TRUE)\n",
    "\n",
    "# Plot KM and extract the p-value  \n",
    "KM.valid.ref.by.risk = plotKMbyRelativeRisk(data = y.data, \n",
    "                                                     rel.risk = rel.risk)\n",
    "    \n",
    "    \n",
    "print(cindex.ref.valid$c.index)\n",
    "#print(KM.valid.ref.by.risk$table)\n",
    "print(KM.valid.ref.by.risk)"
   ]
  },
  {
   "cell_type": "markdown",
   "id": "66a539bd-07a8-4f78-9001-0e0f6eefe150",
   "metadata": {},
   "source": [
    "## Step-wise addition of features"
   ]
  },
  {
   "cell_type": "code",
   "execution_count": 40,
   "id": "9dbe8e5f-c101-4067-9bf3-b83a40895759",
   "metadata": {},
   "outputs": [],
   "source": [
    "selected.columns.stepwise = selected.columns"
   ]
  },
  {
   "cell_type": "code",
   "execution_count": 41,
   "id": "9cd8925e-967a-4447-9d95-6400306dca2d",
   "metadata": {},
   "outputs": [],
   "source": [
    "km.results.de$Feature[1:300] = str_replace(km.results.de$Feature[1:300], \".del\", \"\")"
   ]
  },
  {
   "cell_type": "code",
   "execution_count": 42,
   "id": "389de021-afcb-4f4b-9410-4b51888d1b71",
   "metadata": {},
   "outputs": [],
   "source": [
    "km.results.de$Feature[1:300] = str_replace(km.results.de$Feature[1:300], \".amp\", \"\")"
   ]
  },
  {
   "cell_type": "code",
   "execution_count": 43,
   "id": "7f4ec763-e421-4286-9c58-a33d092b3d82",
   "metadata": {},
   "outputs": [],
   "source": [
    "new.genes.exp = km.results.de$Feature[1:300]"
   ]
  },
  {
   "cell_type": "code",
   "execution_count": 44,
   "id": "33a7fe12-2d11-4c20-a04a-85dada50b191",
   "metadata": {},
   "outputs": [],
   "source": [
    "# Store results \n",
    "step.wise.results = matrix(nrow = 0, ncol = 2) %>% as.data.frame() \n",
    "colnames(step.wise.results) = c(\"KM.pvalue\",\"C.index\")"
   ]
  },
  {
   "cell_type": "code",
   "execution_count": 45,
   "id": "bb99b000-b874-4832-aafa-71cb9582ec10",
   "metadata": {},
   "outputs": [],
   "source": [
    "step.wise.results = as.data.frame(lapply(step.wise.results, as.numeric))"
   ]
  },
  {
   "cell_type": "code",
   "execution_count": 46,
   "id": "2afd85aa-6568-4058-8a38-c28de02e6619",
   "metadata": {},
   "outputs": [
    {
     "name": "stderr",
     "output_type": "stream",
     "text": [
      "Warning message in coxph.fit(X, Y, istrat, offset, init, control, weights = weights, :\n",
      "“Ran out of iterations and did not converge”\n",
      "Warning message in coxph.fit(X, Y, istrat, offset, init, control, weights = weights, :\n",
      "“Ran out of iterations and did not converge”\n",
      "Warning message in coxph.fit(X, Y, istrat, offset, init, control, weights = weights, :\n",
      "“Ran out of iterations and did not converge”\n",
      "Warning message in coxph.fit(X, Y, istrat, offset, init, control, weights = weights, :\n",
      "“Ran out of iterations and did not converge”\n",
      "Warning message in coxph.fit(X, Y, istrat, offset, init, control, weights = weights, :\n",
      "“Ran out of iterations and did not converge”\n",
      "Warning message in coxph.fit(X, Y, istrat, offset, init, control, weights = weights, :\n",
      "“Ran out of iterations and did not converge”\n",
      "Warning message in coxph.fit(X, Y, istrat, offset, init, control, weights = weights, :\n",
      "“Ran out of iterations and did not converge”\n",
      "Warning message in coxph.fit(X, Y, istrat, offset, init, control, weights = weights, :\n",
      "“Ran out of iterations and did not converge”\n",
      "Warning message in coxph.fit(X, Y, istrat, offset, init, control, weights = weights, :\n",
      "“Ran out of iterations and did not converge”\n",
      "Warning message in coxph.fit(X, Y, istrat, offset, init, control, weights = weights, :\n",
      "“Ran out of iterations and did not converge”\n",
      "Warning message in coxph.fit(X, Y, istrat, offset, init, control, weights = weights, :\n",
      "“Ran out of iterations and did not converge”\n",
      "Warning message in coxph.fit(X, Y, istrat, offset, init, control, weights = weights, :\n",
      "“Ran out of iterations and did not converge”\n",
      "Warning message in coxph.fit(X, Y, istrat, offset, init, control, weights = weights, :\n",
      "“Ran out of iterations and did not converge”\n",
      "Warning message in coxph.fit(X, Y, istrat, offset, init, control, weights = weights, :\n",
      "“Ran out of iterations and did not converge”\n",
      "Warning message in coxph.fit(X, Y, istrat, offset, init, control, weights = weights, :\n",
      "“Ran out of iterations and did not converge”\n",
      "Warning message in coxph.fit(X, Y, istrat, offset, init, control, weights = weights, :\n",
      "“Ran out of iterations and did not converge”\n",
      "Warning message in coxph.fit(X, Y, istrat, offset, init, control, weights = weights, :\n",
      "“Ran out of iterations and did not converge”\n",
      "Warning message in coxph.fit(X, Y, istrat, offset, init, control, weights = weights, :\n",
      "“Ran out of iterations and did not converge”\n",
      "Warning message in coxph.fit(X, Y, istrat, offset, init, control, weights = weights, :\n",
      "“Ran out of iterations and did not converge”\n",
      "Warning message in coxph.fit(X, Y, istrat, offset, init, control, weights = weights, :\n",
      "“Ran out of iterations and did not converge”\n",
      "Warning message in coxph.fit(X, Y, istrat, offset, init, control, weights = weights, :\n",
      "“Ran out of iterations and did not converge”\n",
      "Warning message in coxph.fit(X, Y, istrat, offset, init, control, weights = weights, :\n",
      "“Ran out of iterations and did not converge”\n",
      "Warning message in coxph.fit(X, Y, istrat, offset, init, control, weights = weights, :\n",
      "“Ran out of iterations and did not converge”\n",
      "Warning message in coxph.fit(X, Y, istrat, offset, init, control, weights = weights, :\n",
      "“Ran out of iterations and did not converge”\n",
      "Warning message in coxph.fit(X, Y, istrat, offset, init, control, weights = weights, :\n",
      "“Ran out of iterations and did not converge”\n",
      "Warning message in coxph.fit(X, Y, istrat, offset, init, control, weights = weights, :\n",
      "“Ran out of iterations and did not converge”\n",
      "Warning message in coxph.fit(X, Y, istrat, offset, init, control, weights = weights, :\n",
      "“Ran out of iterations and did not converge”\n",
      "Warning message in coxph.fit(X, Y, istrat, offset, init, control, weights = weights, :\n",
      "“Ran out of iterations and did not converge”\n",
      "Warning message in coxph.fit(X, Y, istrat, offset, init, control, weights = weights, :\n",
      "“Ran out of iterations and did not converge”\n",
      "Warning message in coxph.fit(X, Y, istrat, offset, init, control, weights = weights, :\n",
      "“Ran out of iterations and did not converge”\n",
      "Warning message in coxph.fit(X, Y, istrat, offset, init, control, weights = weights, :\n",
      "“Ran out of iterations and did not converge”\n",
      "Warning message in coxph.fit(X, Y, istrat, offset, init, control, weights = weights, :\n",
      "“Ran out of iterations and did not converge”\n",
      "Warning message in coxph.fit(X, Y, istrat, offset, init, control, weights = weights, :\n",
      "“Ran out of iterations and did not converge”\n",
      "Warning message in coxph.fit(X, Y, istrat, offset, init, control, weights = weights, :\n",
      "“Ran out of iterations and did not converge”\n",
      "Warning message in coxph.fit(X, Y, istrat, offset, init, control, weights = weights, :\n",
      "“Ran out of iterations and did not converge”\n",
      "Warning message in coxph.fit(X, Y, istrat, offset, init, control, weights = weights, :\n",
      "“Ran out of iterations and did not converge”\n",
      "Warning message in coxph.fit(X, Y, istrat, offset, init, control, weights = weights, :\n",
      "“Ran out of iterations and did not converge”\n",
      "Warning message in coxph.fit(X, Y, istrat, offset, init, control, weights = weights, :\n",
      "“Ran out of iterations and did not converge”\n",
      "Warning message in coxph.fit(X, Y, istrat, offset, init, control, weights = weights, :\n",
      "“Ran out of iterations and did not converge”\n",
      "Warning message in coxph.fit(X, Y, istrat, offset, init, control, weights = weights, :\n",
      "“Ran out of iterations and did not converge”\n",
      "Warning message in coxph.fit(X, Y, istrat, offset, init, control, weights = weights, :\n",
      "“Ran out of iterations and did not converge”\n",
      "Warning message in coxph.fit(X, Y, istrat, offset, init, control, weights = weights, :\n",
      "“Ran out of iterations and did not converge”\n",
      "Warning message in coxph.fit(X, Y, istrat, offset, init, control, weights = weights, :\n",
      "“Ran out of iterations and did not converge”\n",
      "Warning message in coxph.fit(X, Y, istrat, offset, init, control, weights = weights, :\n",
      "“Ran out of iterations and did not converge”\n",
      "Warning message in coxph.fit(X, Y, istrat, offset, init, control, weights = weights, :\n",
      "“Ran out of iterations and did not converge”\n",
      "Warning message in coxph.fit(X, Y, istrat, offset, init, control, weights = weights, :\n",
      "“Ran out of iterations and did not converge”\n",
      "Warning message in coxph.fit(X, Y, istrat, offset, init, control, weights = weights, :\n",
      "“Ran out of iterations and did not converge”\n",
      "Warning message in coxph.fit(X, Y, istrat, offset, init, control, weights = weights, :\n",
      "“Ran out of iterations and did not converge”\n",
      "Warning message in coxph.fit(X, Y, istrat, offset, init, control, weights = weights, :\n",
      "“Ran out of iterations and did not converge”\n",
      "Warning message in coxph.fit(X, Y, istrat, offset, init, control, weights = weights, :\n",
      "“Ran out of iterations and did not converge”\n",
      "Warning message in coxph.fit(X, Y, istrat, offset, init, control, weights = weights, :\n",
      "“Ran out of iterations and did not converge”\n",
      "Warning message in coxph.fit(X, Y, istrat, offset, init, control, weights = weights, :\n",
      "“Ran out of iterations and did not converge”\n",
      "Warning message in coxph.fit(X, Y, istrat, offset, init, control, weights = weights, :\n",
      "“Ran out of iterations and did not converge”\n",
      "Warning message in coxph.fit(X, Y, istrat, offset, init, control, weights = weights, :\n",
      "“Ran out of iterations and did not converge”\n",
      "Warning message in coxph.fit(X, Y, istrat, offset, init, control, weights = weights, :\n",
      "“Ran out of iterations and did not converge”\n",
      "Warning message in coxph.fit(X, Y, istrat, offset, init, control, weights = weights, :\n",
      "“Ran out of iterations and did not converge”\n",
      "Warning message in coxph.fit(X, Y, istrat, offset, init, control, weights = weights, :\n",
      "“Ran out of iterations and did not converge”\n",
      "Warning message in coxph.fit(X, Y, istrat, offset, init, control, weights = weights, :\n",
      "“Ran out of iterations and did not converge”\n",
      "Warning message in coxph.fit(X, Y, istrat, offset, init, control, weights = weights, :\n",
      "“Ran out of iterations and did not converge”\n",
      "Warning message in coxph.fit(X, Y, istrat, offset, init, control, weights = weights, :\n",
      "“Ran out of iterations and did not converge”\n",
      "Warning message in coxph.fit(X, Y, istrat, offset, init, control, weights = weights, :\n",
      "“Ran out of iterations and did not converge”\n",
      "Warning message in coxph.fit(X, Y, istrat, offset, init, control, weights = weights, :\n",
      "“Ran out of iterations and did not converge”\n",
      "Warning message in coxph.fit(X, Y, istrat, offset, init, control, weights = weights, :\n",
      "“Ran out of iterations and did not converge”\n",
      "Warning message in coxph.fit(X, Y, istrat, offset, init, control, weights = weights, :\n",
      "“Ran out of iterations and did not converge”\n",
      "Warning message in coxph.fit(X, Y, istrat, offset, init, control, weights = weights, :\n",
      "“Ran out of iterations and did not converge”\n",
      "Warning message in coxph.fit(X, Y, istrat, offset, init, control, weights = weights, :\n",
      "“Ran out of iterations and did not converge”\n",
      "Warning message in coxph.fit(X, Y, istrat, offset, init, control, weights = weights, :\n",
      "“Ran out of iterations and did not converge”\n",
      "Warning message in coxph.fit(X, Y, istrat, offset, init, control, weights = weights, :\n",
      "“Ran out of iterations and did not converge”\n",
      "Warning message in coxph.fit(X, Y, istrat, offset, init, control, weights = weights, :\n",
      "“Ran out of iterations and did not converge”\n",
      "Warning message in coxph.fit(X, Y, istrat, offset, init, control, weights = weights, :\n",
      "“Ran out of iterations and did not converge”\n",
      "Warning message in coxph.fit(X, Y, istrat, offset, init, control, weights = weights, :\n",
      "“Ran out of iterations and did not converge”\n",
      "Warning message in coxph.fit(X, Y, istrat, offset, init, control, weights = weights, :\n",
      "“Ran out of iterations and did not converge”\n",
      "Warning message in coxph.fit(X, Y, istrat, offset, init, control, weights = weights, :\n",
      "“Ran out of iterations and did not converge”\n",
      "Warning message in coxph.fit(X, Y, istrat, offset, init, control, weights = weights, :\n",
      "“Ran out of iterations and did not converge”\n",
      "Warning message in coxph.fit(X, Y, istrat, offset, init, control, weights = weights, :\n",
      "“Ran out of iterations and did not converge”\n",
      "Warning message in coxph.fit(X, Y, istrat, offset, init, control, weights = weights, :\n",
      "“Ran out of iterations and did not converge”\n",
      "Warning message in coxph.fit(X, Y, istrat, offset, init, control, weights = weights, :\n",
      "“Ran out of iterations and did not converge”\n",
      "Warning message in coxph.fit(X, Y, istrat, offset, init, control, weights = weights, :\n",
      "“Ran out of iterations and did not converge”\n",
      "Warning message in coxph.fit(X, Y, istrat, offset, init, control, weights = weights, :\n",
      "“Ran out of iterations and did not converge”\n",
      "Warning message in coxph.fit(X, Y, istrat, offset, init, control, weights = weights, :\n",
      "“Ran out of iterations and did not converge”\n",
      "Warning message in coxph.fit(X, Y, istrat, offset, init, control, weights = weights, :\n",
      "“Ran out of iterations and did not converge”\n",
      "Warning message in coxph.fit(X, Y, istrat, offset, init, control, weights = weights, :\n",
      "“Ran out of iterations and did not converge”\n",
      "Warning message in coxph.fit(X, Y, istrat, offset, init, control, weights = weights, :\n",
      "“Ran out of iterations and did not converge”\n",
      "Warning message in coxph.fit(X, Y, istrat, offset, init, control, weights = weights, :\n",
      "“Ran out of iterations and did not converge”\n",
      "Warning message in coxph.fit(X, Y, istrat, offset, init, control, weights = weights, :\n",
      "“Ran out of iterations and did not converge”\n",
      "Warning message in coxph.fit(X, Y, istrat, offset, init, control, weights = weights, :\n",
      "“Ran out of iterations and did not converge”\n",
      "Warning message in coxph.fit(X, Y, istrat, offset, init, control, weights = weights, :\n",
      "“Ran out of iterations and did not converge”\n",
      "Warning message in coxph.fit(X, Y, istrat, offset, init, control, weights = weights, :\n",
      "“Ran out of iterations and did not converge”\n",
      "Warning message in coxph.fit(X, Y, istrat, offset, init, control, weights = weights, :\n",
      "“Ran out of iterations and did not converge”\n",
      "Warning message in coxph.fit(X, Y, istrat, offset, init, control, weights = weights, :\n",
      "“Ran out of iterations and did not converge”\n",
      "Warning message in coxph.fit(X, Y, istrat, offset, init, control, weights = weights, :\n",
      "“Ran out of iterations and did not converge”\n",
      "Warning message in coxph.fit(X, Y, istrat, offset, init, control, weights = weights, :\n",
      "“Ran out of iterations and did not converge”\n",
      "Warning message in coxph.fit(X, Y, istrat, offset, init, control, weights = weights, :\n",
      "“Ran out of iterations and did not converge”\n",
      "Warning message in coxph.fit(X, Y, istrat, offset, init, control, weights = weights, :\n",
      "“Ran out of iterations and did not converge”\n",
      "Warning message in coxph.fit(X, Y, istrat, offset, init, control, weights = weights, :\n",
      "“Ran out of iterations and did not converge”\n",
      "Warning message in coxph.fit(X, Y, istrat, offset, init, control, weights = weights, :\n",
      "“Ran out of iterations and did not converge”\n",
      "Warning message in coxph.fit(X, Y, istrat, offset, init, control, weights = weights, :\n",
      "“Ran out of iterations and did not converge”\n",
      "Warning message in coxph.fit(X, Y, istrat, offset, init, control, weights = weights, :\n",
      "“Ran out of iterations and did not converge”\n",
      "Warning message in coxph.fit(X, Y, istrat, offset, init, control, weights = weights, :\n",
      "“Ran out of iterations and did not converge”\n",
      "Warning message in coxph.fit(X, Y, istrat, offset, init, control, weights = weights, :\n",
      "“Ran out of iterations and did not converge”\n",
      "Warning message in coxph.fit(X, Y, istrat, offset, init, control, weights = weights, :\n",
      "“Ran out of iterations and did not converge”\n",
      "Warning message in coxph.fit(X, Y, istrat, offset, init, control, weights = weights, :\n",
      "“Ran out of iterations and did not converge”\n",
      "Warning message in coxph.fit(X, Y, istrat, offset, init, control, weights = weights, :\n",
      "“Ran out of iterations and did not converge”\n",
      "Warning message in coxph.fit(X, Y, istrat, offset, init, control, weights = weights, :\n",
      "“Ran out of iterations and did not converge”\n",
      "Warning message in coxph.fit(X, Y, istrat, offset, init, control, weights = weights, :\n",
      "“Ran out of iterations and did not converge”\n",
      "Warning message in coxph.fit(X, Y, istrat, offset, init, control, weights = weights, :\n",
      "“Ran out of iterations and did not converge”\n",
      "Warning message in coxph.fit(X, Y, istrat, offset, init, control, weights = weights, :\n",
      "“Ran out of iterations and did not converge”\n",
      "Warning message in coxph.fit(X, Y, istrat, offset, init, control, weights = weights, :\n",
      "“Ran out of iterations and did not converge”\n",
      "Warning message in coxph.fit(X, Y, istrat, offset, init, control, weights = weights, :\n",
      "“Ran out of iterations and did not converge”\n",
      "Warning message in coxph.fit(X, Y, istrat, offset, init, control, weights = weights, :\n",
      "“Ran out of iterations and did not converge”\n",
      "Warning message in coxph.fit(X, Y, istrat, offset, init, control, weights = weights, :\n",
      "“Ran out of iterations and did not converge”\n",
      "Warning message in coxph.fit(X, Y, istrat, offset, init, control, weights = weights, :\n",
      "“Ran out of iterations and did not converge”\n",
      "Warning message in coxph.fit(X, Y, istrat, offset, init, control, weights = weights, :\n",
      "“Ran out of iterations and did not converge”\n",
      "Warning message in coxph.fit(X, Y, istrat, offset, init, control, weights = weights, :\n",
      "“Ran out of iterations and did not converge”\n",
      "Warning message in coxph.fit(X, Y, istrat, offset, init, control, weights = weights, :\n",
      "“Ran out of iterations and did not converge”\n",
      "Warning message in coxph.fit(X, Y, istrat, offset, init, control, weights = weights, :\n",
      "“Ran out of iterations and did not converge”\n",
      "Warning message in coxph.fit(X, Y, istrat, offset, init, control, weights = weights, :\n",
      "“Ran out of iterations and did not converge”\n",
      "Warning message in coxph.fit(X, Y, istrat, offset, init, control, weights = weights, :\n",
      "“Ran out of iterations and did not converge”\n",
      "Warning message in coxph.fit(X, Y, istrat, offset, init, control, weights = weights, :\n",
      "“Ran out of iterations and did not converge”\n",
      "Warning message in coxph.fit(X, Y, istrat, offset, init, control, weights = weights, :\n",
      "“Ran out of iterations and did not converge”\n",
      "Warning message in coxph.fit(X, Y, istrat, offset, init, control, weights = weights, :\n",
      "“Ran out of iterations and did not converge”\n",
      "Warning message in coxph.fit(X, Y, istrat, offset, init, control, weights = weights, :\n",
      "“Ran out of iterations and did not converge”\n",
      "Warning message in coxph.fit(X, Y, istrat, offset, init, control, weights = weights, :\n",
      "“Ran out of iterations and did not converge”\n",
      "Warning message in coxph.fit(X, Y, istrat, offset, init, control, weights = weights, :\n",
      "“Ran out of iterations and did not converge”\n",
      "Warning message in coxph.fit(X, Y, istrat, offset, init, control, weights = weights, :\n",
      "“Ran out of iterations and did not converge”\n",
      "Warning message in coxph.fit(X, Y, istrat, offset, init, control, weights = weights, :\n",
      "“Ran out of iterations and did not converge”\n",
      "Warning message in coxph.fit(X, Y, istrat, offset, init, control, weights = weights, :\n",
      "“Ran out of iterations and did not converge”\n",
      "Warning message in coxph.fit(X, Y, istrat, offset, init, control, weights = weights, :\n",
      "“Ran out of iterations and did not converge”\n",
      "Warning message in coxph.fit(X, Y, istrat, offset, init, control, weights = weights, :\n",
      "“Ran out of iterations and did not converge”\n",
      "Warning message in coxph.fit(X, Y, istrat, offset, init, control, weights = weights, :\n",
      "“Ran out of iterations and did not converge”\n",
      "Warning message in coxph.fit(X, Y, istrat, offset, init, control, weights = weights, :\n",
      "“Ran out of iterations and did not converge”\n",
      "Warning message in coxph.fit(X, Y, istrat, offset, init, control, weights = weights, :\n",
      "“Ran out of iterations and did not converge”\n",
      "Warning message in coxph.fit(X, Y, istrat, offset, init, control, weights = weights, :\n",
      "“Ran out of iterations and did not converge”\n",
      "Warning message in coxph.fit(X, Y, istrat, offset, init, control, weights = weights, :\n",
      "“Ran out of iterations and did not converge”\n",
      "Warning message in coxph.fit(X, Y, istrat, offset, init, control, weights = weights, :\n",
      "“Ran out of iterations and did not converge”\n",
      "Warning message in coxph.fit(X, Y, istrat, offset, init, control, weights = weights, :\n",
      "“Ran out of iterations and did not converge”\n",
      "Warning message in coxph.fit(X, Y, istrat, offset, init, control, weights = weights, :\n",
      "“Ran out of iterations and did not converge”\n",
      "Warning message in coxph.fit(X, Y, istrat, offset, init, control, weights = weights, :\n",
      "“Ran out of iterations and did not converge”\n",
      "Warning message in coxph.fit(X, Y, istrat, offset, init, control, weights = weights, :\n",
      "“Ran out of iterations and did not converge”\n",
      "Warning message in coxph.fit(X, Y, istrat, offset, init, control, weights = weights, :\n",
      "“Ran out of iterations and did not converge”\n",
      "Warning message in coxph.fit(X, Y, istrat, offset, init, control, weights = weights, :\n",
      "“Ran out of iterations and did not converge”\n",
      "Warning message in coxph.fit(X, Y, istrat, offset, init, control, weights = weights, :\n",
      "“Ran out of iterations and did not converge”\n",
      "Warning message in coxph.fit(X, Y, istrat, offset, init, control, weights = weights, :\n",
      "“Ran out of iterations and did not converge”\n",
      "Warning message in coxph.fit(X, Y, istrat, offset, init, control, weights = weights, :\n",
      "“Ran out of iterations and did not converge”\n",
      "Warning message in coxph.fit(X, Y, istrat, offset, init, control, weights = weights, :\n",
      "“Ran out of iterations and did not converge”\n",
      "Warning message in coxph.fit(X, Y, istrat, offset, init, control, weights = weights, :\n",
      "“Ran out of iterations and did not converge”\n",
      "Warning message in coxph.fit(X, Y, istrat, offset, init, control, weights = weights, :\n",
      "“Ran out of iterations and did not converge”\n",
      "Warning message in coxph.fit(X, Y, istrat, offset, init, control, weights = weights, :\n",
      "“Ran out of iterations and did not converge”\n",
      "Warning message in coxph.fit(X, Y, istrat, offset, init, control, weights = weights, :\n",
      "“Ran out of iterations and did not converge”\n",
      "Warning message in coxph.fit(X, Y, istrat, offset, init, control, weights = weights, :\n",
      "“Ran out of iterations and did not converge”\n",
      "Warning message in coxph.fit(X, Y, istrat, offset, init, control, weights = weights, :\n",
      "“Ran out of iterations and did not converge”\n",
      "Warning message in coxph.fit(X, Y, istrat, offset, init, control, weights = weights, :\n",
      "“Ran out of iterations and did not converge”\n",
      "Warning message in coxph.fit(X, Y, istrat, offset, init, control, weights = weights, :\n",
      "“Ran out of iterations and did not converge”\n",
      "Warning message in coxph.fit(X, Y, istrat, offset, init, control, weights = weights, :\n",
      "“Ran out of iterations and did not converge”\n",
      "Warning message in coxph.fit(X, Y, istrat, offset, init, control, weights = weights, :\n",
      "“Ran out of iterations and did not converge”\n",
      "Warning message in coxph.fit(X, Y, istrat, offset, init, control, weights = weights, :\n",
      "“Ran out of iterations and did not converge”\n",
      "Warning message in coxph.fit(X, Y, istrat, offset, init, control, weights = weights, :\n",
      "“Ran out of iterations and did not converge”\n",
      "Warning message in coxph.fit(X, Y, istrat, offset, init, control, weights = weights, :\n",
      "“Ran out of iterations and did not converge”\n",
      "Warning message in coxph.fit(X, Y, istrat, offset, init, control, weights = weights, :\n",
      "“Ran out of iterations and did not converge”\n",
      "Warning message in coxph.fit(X, Y, istrat, offset, init, control, weights = weights, :\n",
      "“Ran out of iterations and did not converge”\n",
      "Warning message in coxph.fit(X, Y, istrat, offset, init, control, weights = weights, :\n",
      "“Ran out of iterations and did not converge”\n",
      "Warning message in coxph.fit(X, Y, istrat, offset, init, control, weights = weights, :\n",
      "“Ran out of iterations and did not converge”\n",
      "Warning message in coxph.fit(X, Y, istrat, offset, init, control, weights = weights, :\n",
      "“Ran out of iterations and did not converge”\n",
      "Warning message in coxph.fit(X, Y, istrat, offset, init, control, weights = weights, :\n",
      "“Ran out of iterations and did not converge”\n",
      "Warning message in coxph.fit(X, Y, istrat, offset, init, control, weights = weights, :\n",
      "“Ran out of iterations and did not converge”\n",
      "Warning message in coxph.fit(X, Y, istrat, offset, init, control, weights = weights, :\n",
      "“Ran out of iterations and did not converge”\n",
      "Warning message in coxph.fit(X, Y, istrat, offset, init, control, weights = weights, :\n",
      "“Ran out of iterations and did not converge”\n",
      "Warning message in coxph.fit(X, Y, istrat, offset, init, control, weights = weights, :\n",
      "“Ran out of iterations and did not converge”\n",
      "Warning message in coxph.fit(X, Y, istrat, offset, init, control, weights = weights, :\n",
      "“Ran out of iterations and did not converge”\n",
      "Warning message in coxph.fit(X, Y, istrat, offset, init, control, weights = weights, :\n",
      "“Ran out of iterations and did not converge”\n",
      "Warning message in coxph.fit(X, Y, istrat, offset, init, control, weights = weights, :\n",
      "“Ran out of iterations and did not converge”\n",
      "Warning message in coxph.fit(X, Y, istrat, offset, init, control, weights = weights, :\n",
      "“Ran out of iterations and did not converge”\n",
      "Warning message in coxph.fit(X, Y, istrat, offset, init, control, weights = weights, :\n",
      "“Ran out of iterations and did not converge”\n",
      "Warning message in coxph.fit(X, Y, istrat, offset, init, control, weights = weights, :\n",
      "“Ran out of iterations and did not converge”\n",
      "Warning message in coxph.fit(X, Y, istrat, offset, init, control, weights = weights, :\n",
      "“Ran out of iterations and did not converge”\n",
      "Warning message in coxph.fit(X, Y, istrat, offset, init, control, weights = weights, :\n",
      "“Ran out of iterations and did not converge”\n",
      "Warning message in coxph.fit(X, Y, istrat, offset, init, control, weights = weights, :\n",
      "“Ran out of iterations and did not converge”\n",
      "Warning message in coxph.fit(X, Y, istrat, offset, init, control, weights = weights, :\n",
      "“Ran out of iterations and did not converge”\n",
      "Warning message in coxph.fit(X, Y, istrat, offset, init, control, weights = weights, :\n",
      "“Ran out of iterations and did not converge”\n",
      "Warning message in coxph.fit(X, Y, istrat, offset, init, control, weights = weights, :\n",
      "“Ran out of iterations and did not converge”\n",
      "Warning message in coxph.fit(X, Y, istrat, offset, init, control, weights = weights, :\n",
      "“Ran out of iterations and did not converge”\n",
      "Warning message in coxph.fit(X, Y, istrat, offset, init, control, weights = weights, :\n",
      "“Ran out of iterations and did not converge”\n",
      "Warning message in coxph.fit(X, Y, istrat, offset, init, control, weights = weights, :\n",
      "“Ran out of iterations and did not converge”\n",
      "Warning message in coxph.fit(X, Y, istrat, offset, init, control, weights = weights, :\n",
      "“Ran out of iterations and did not converge”\n",
      "Warning message in coxph.fit(X, Y, istrat, offset, init, control, weights = weights, :\n",
      "“Ran out of iterations and did not converge”\n"
     ]
    }
   ],
   "source": [
    "for (i in 1:length(new.genes.exp)){\n",
    "    new.feature = new.genes.exp[i]\n",
    "    \n",
    "    # Test adding one gene\n",
    "    selected.columns.stepwise = c(selected.columns.stepwise, new.feature)\n",
    "    \n",
    "    # Input data for cox-model \n",
    "    input.training = tcga.dataset.merged[[\"PFI\"]]$train[,colnames(tcga.dataset.merged[[\"PFI\"]]$train) %in% selected.columns.stepwise]\n",
    "\n",
    "    # The features \n",
    "    selected.features.stepwise = selected.columns.stepwise[-c(1,2)]\n",
    "    \n",
    "    # Fit the cox-model \n",
    "    pcox.ref.fit.pfi = fitCoxModel(input.training, \"PFI\", selected.features.stepwise)\n",
    "\n",
    "    # Predict the risk scores for validation data \n",
    "    rel.risk = predict(object = pcox.ref.fit.pfi , \n",
    "                   newdata = tcga.dataset.merged$PFI$validation[,selected.features.stepwise], \n",
    "                   type = \"risk\")\n",
    "\n",
    "    #\n",
    "    # Evaluate \n",
    "    #\n",
    "\n",
    "    # Stratify validation data into two groups based on the fitted relative risk\n",
    "    y.data <- tcga.dataset.merged$PFI$validation[paste0(\"PFI\", c(\".clin\",\".time.clin\"))]\n",
    "    colnames(y.data) = c(\"status\",\"time\")\n",
    "\n",
    "    # TEST new function for calculating the C-index\n",
    "    cindex.ref.valid = concordance.index(rel.risk, \n",
    "                                        y.data$time, \n",
    "                                        y.data$status,\n",
    "                                        na.rm = TRUE)\n",
    "\n",
    "    # Plot KM and extract the p-value  \n",
    "    KM.valid.ref.by.risk = plotKMbyRelativeRisk(data = y.data, \n",
    "                                                     rel.risk = rel.risk)\n",
    "    \n",
    "    \n",
    "    res = data.frame(KM.pvalue = KM.valid.ref.by.risk$table$Pvalue.pval,\n",
    "                     C.index = cindex.ref.valid$c.index,\n",
    "                     \"C-index CI\" = paste0(\"(\", round(cindex.ref.valid$lower, 4), \" - \",  \n",
    "                                                round(cindex.ref.valid$upper, 4), \")\")\n",
    "                     )\n",
    "    step.wise.results = rbind(step.wise.results, res)\n",
    "    \n",
    "    #print(cindex.ref.valid$c.index)\n",
    "    #print(KM.valid.ref.by.risk$table)\n",
    "    \n",
    "}\n"
   ]
  },
  {
   "cell_type": "code",
   "execution_count": 47,
   "id": "6862fc3f-cc60-46e3-9dcd-d5d2016505cf",
   "metadata": {},
   "outputs": [],
   "source": [
    "step.wise.results$Iter = seq(1,300)"
   ]
  },
  {
   "cell_type": "code",
   "execution_count": 48,
   "id": "09ca9c5a-3b26-4962-b596-e449dd241240",
   "metadata": {},
   "outputs": [],
   "source": [
    "gg = step.wise.results %>% ggplot(aes(x = Iter, y = -1 * log(KM.pvalue))) + geom_point()"
   ]
  },
  {
   "cell_type": "code",
   "execution_count": 49,
   "id": "68011ed0-ca56-4f06-9441-276e889849f3",
   "metadata": {},
   "outputs": [
    {
     "data": {
      "image/png": "[encoded data removed]",
      "text/plain": [
       "plot without title"
      ]
     },
     "metadata": {
      "image/png": {
       "height": 420,
       "width": 420
      }
     },
     "output_type": "display_data"
    }
   ],
   "source": [
    "gg"
   ]
  },
  {
   "cell_type": "markdown",
   "id": "46b5af28-547c-4ec5-b7f6-20e8ee12c3d2",
   "metadata": {},
   "source": [
    "Find the minimal p-value and the corresponding C-index"
   ]
  },
  {
   "cell_type": "code",
   "execution_count": 50,
   "id": "564e54dd-5cef-4363-9e92-0f1bb9a1b56f",
   "metadata": {},
   "outputs": [
    {
     "data": {
      "text/html": [
       "12"
      ],
      "text/latex": [
       "12"
      ],
      "text/markdown": [
       "12"
      ],
      "text/plain": [
       "[1] 12"
      ]
     },
     "metadata": {},
     "output_type": "display_data"
    }
   ],
   "source": [
    "which(step.wise.results$KM.pvalue == min(step.wise.results$KM.pvalue))"
   ]
  },
  {
   "cell_type": "code",
   "execution_count": 51,
   "id": "41238da3-9817-422b-a304-e6385786da91",
   "metadata": {},
   "outputs": [
    {
     "data": {
      "text/html": [
       "<table class=\"dataframe\">\n",
       "<caption>A data.frame: 1 × 4</caption>\n",
       "<thead>\n",
       "\t<tr><th></th><th scope=col>KM.pvalue</th><th scope=col>C.index</th><th scope=col>C.index.CI</th><th scope=col>Iter</th></tr>\n",
       "\t<tr><th></th><th scope=col>&lt;dbl&gt;</th><th scope=col>&lt;dbl&gt;</th><th scope=col>&lt;chr&gt;</th><th scope=col>&lt;int&gt;</th></tr>\n",
       "</thead>\n",
       "<tbody>\n",
       "\t<tr><th scope=row>12</th><td>0.006148744</td><td>0.6801683</td><td>(0.436 - 0.854)</td><td>12</td></tr>\n",
       "</tbody>\n",
       "</table>\n"
      ],
      "text/latex": [
       "A data.frame: 1 × 4\n",
       "\\begin{tabular}{r|llll}\n",
       "  & KM.pvalue & C.index & C.index.CI & Iter\\\\\n",
       "  & <dbl> & <dbl> & <chr> & <int>\\\\\n",
       "\\hline\n",
       "\t12 & 0.006148744 & 0.6801683 & (0.436 - 0.854) & 12\\\\\n",
       "\\end{tabular}\n"
      ],
      "text/markdown": [
       "\n",
       "A data.frame: 1 × 4\n",
       "\n",
       "| <!--/--> | KM.pvalue &lt;dbl&gt; | C.index &lt;dbl&gt; | C.index.CI &lt;chr&gt; | Iter &lt;int&gt; |\n",
       "|---|---|---|---|---|\n",
       "| 12 | 0.006148744 | 0.6801683 | (0.436 - 0.854) | 12 |\n",
       "\n"
      ],
      "text/plain": [
       "   KM.pvalue   C.index   C.index.CI      Iter\n",
       "12 0.006148744 0.6801683 (0.436 - 0.854) 12  "
      ]
     },
     "metadata": {},
     "output_type": "display_data"
    }
   ],
   "source": [
    "step.wise.results[12,]"
   ]
  },
  {
   "cell_type": "code",
   "execution_count": 115,
   "id": "43c35454-1be7-4638-bb3b-32c647626bec",
   "metadata": {},
   "outputs": [
    {
     "data": {
      "text/html": [
       "<style>\n",
       ".list-inline {list-style: none; margin:0; padding: 0}\n",
       ".list-inline>li {display: inline-block}\n",
       ".list-inline>li:not(:last-child)::after {content: \"\\00b7\"; padding: 0 .5ex}\n",
       "</style>\n",
       "<ol class=list-inline><li>'CNIH2.exp'</li><li>'MXD3.exp'</li><li>'ESPL1.exp'</li><li>'FEZF1_AS1.exp'</li><li>'EME1.exp'</li><li>'ARHGEF39.exp'</li><li>'AMH.exp'</li><li>'ENSG00000262528.exp'</li><li>'UBE2T.exp'</li><li>'FMOD.exp'</li><li>'TK1.exp'</li><li>'MAB21L1.exp'</li></ol>\n"
      ],
      "text/latex": [
       "\\begin{enumerate*}\n",
       "\\item 'CNIH2.exp'\n",
       "\\item 'MXD3.exp'\n",
       "\\item 'ESPL1.exp'\n",
       "\\item 'FEZF1\\_AS1.exp'\n",
       "\\item 'EME1.exp'\n",
       "\\item 'ARHGEF39.exp'\n",
       "\\item 'AMH.exp'\n",
       "\\item 'ENSG00000262528.exp'\n",
       "\\item 'UBE2T.exp'\n",
       "\\item 'FMOD.exp'\n",
       "\\item 'TK1.exp'\n",
       "\\item 'MAB21L1.exp'\n",
       "\\end{enumerate*}\n"
      ],
      "text/markdown": [
       "1. 'CNIH2.exp'\n",
       "2. 'MXD3.exp'\n",
       "3. 'ESPL1.exp'\n",
       "4. 'FEZF1_AS1.exp'\n",
       "5. 'EME1.exp'\n",
       "6. 'ARHGEF39.exp'\n",
       "7. 'AMH.exp'\n",
       "8. 'ENSG00000262528.exp'\n",
       "9. 'UBE2T.exp'\n",
       "10. 'FMOD.exp'\n",
       "11. 'TK1.exp'\n",
       "12. 'MAB21L1.exp'\n",
       "\n",
       "\n"
      ],
      "text/plain": [
       " [1] \"CNIH2.exp\"           \"MXD3.exp\"            \"ESPL1.exp\"          \n",
       " [4] \"FEZF1_AS1.exp\"       \"EME1.exp\"            \"ARHGEF39.exp\"       \n",
       " [7] \"AMH.exp\"             \"ENSG00000262528.exp\" \"UBE2T.exp\"          \n",
       "[10] \"FMOD.exp\"            \"TK1.exp\"             \"MAB21L1.exp\"        "
      ]
     },
     "metadata": {},
     "output_type": "display_data"
    }
   ],
   "source": [
    "new.genes.exp[1:12]"
   ]
  },
  {
   "cell_type": "code",
   "execution_count": 133,
   "id": "2e585dbb-3ca2-47e0-8d9e-5d663418ddf5",
   "metadata": {},
   "outputs": [],
   "source": [
    "selected.genes.step2 = new.genes.exp[1:12]"
   ]
  },
  {
   "cell_type": "markdown",
   "id": "5aeaf8cb-a5e7-4669-ab63-ad907e7122ae",
   "metadata": {},
   "source": [
    "elected.columnsRemove step-wise features "
   ]
  },
  {
   "cell_type": "code",
   "execution_count": 117,
   "id": "82daaa54-9f39-4302-bdd9-7dcf7d062c45",
   "metadata": {},
   "outputs": [],
   "source": [
    "selected.columns.stepwise = selected.columns"
   ]
  },
  {
   "cell_type": "code",
   "execution_count": 118,
   "id": "9c02a211-1987-46a0-bfb0-a72e9805a687",
   "metadata": {},
   "outputs": [],
   "source": [
    "# Store results \n",
    "step.wise.results = matrix(nrow = 0, ncol = 2) %>% as.data.frame() \n",
    "colnames(step.wise.results) = c(\"KM.pvalue\",\"C.index\")"
   ]
  },
  {
   "cell_type": "code",
   "execution_count": 119,
   "id": "5ace7f61-3567-4081-b1a3-ce33b6be90d5",
   "metadata": {},
   "outputs": [],
   "source": [
    "step.wise.results = as.data.frame(lapply(step.wise.results, as.numeric))"
   ]
  },
  {
   "cell_type": "code",
   "execution_count": 120,
   "id": "abd1e9e9-3898-4384-84b5-5d50f6224838",
   "metadata": {},
   "outputs": [
    {
     "data": {
      "text/html": [
       "<style>\n",
       ".list-inline {list-style: none; margin:0; padding: 0}\n",
       ".list-inline>li {display: inline-block}\n",
       ".list-inline>li:not(:last-child)::after {content: \"\\00b7\"; padding: 0 .5ex}\n",
       "</style>\n",
       "<ol class=list-inline><li>'PFI.clin'</li><li>'PFI.time.clin'</li><li>'Age.clin'</li><li>'Gleason.group.clin'</li><li>'KIF23.exp'</li><li>'PTEN.exp'</li><li>'VPS4B.exp'</li><li>'AURKA.exp'</li><li>'AURKB.exp'</li><li>'TP53.cn'</li></ol>\n"
      ],
      "text/latex": [
       "\\begin{enumerate*}\n",
       "\\item 'PFI.clin'\n",
       "\\item 'PFI.time.clin'\n",
       "\\item 'Age.clin'\n",
       "\\item 'Gleason.group.clin'\n",
       "\\item 'KIF23.exp'\n",
       "\\item 'PTEN.exp'\n",
       "\\item 'VPS4B.exp'\n",
       "\\item 'AURKA.exp'\n",
       "\\item 'AURKB.exp'\n",
       "\\item 'TP53.cn'\n",
       "\\end{enumerate*}\n"
      ],
      "text/markdown": [
       "1. 'PFI.clin'\n",
       "2. 'PFI.time.clin'\n",
       "3. 'Age.clin'\n",
       "4. 'Gleason.group.clin'\n",
       "5. 'KIF23.exp'\n",
       "6. 'PTEN.exp'\n",
       "7. 'VPS4B.exp'\n",
       "8. 'AURKA.exp'\n",
       "9. 'AURKB.exp'\n",
       "10. 'TP53.cn'\n",
       "\n",
       "\n"
      ],
      "text/plain": [
       " [1] \"PFI.clin\"           \"PFI.time.clin\"      \"Age.clin\"          \n",
       " [4] \"Gleason.group.clin\" \"KIF23.exp\"          \"PTEN.exp\"          \n",
       " [7] \"VPS4B.exp\"          \"AURKA.exp\"          \"AURKB.exp\"         \n",
       "[10] \"TP53.cn\"           "
      ]
     },
     "metadata": {},
     "output_type": "display_data"
    }
   ],
   "source": [
    "selected.columns"
   ]
  },
  {
   "cell_type": "code",
   "execution_count": 121,
   "id": "281e2a2d-4ec7-4d58-bfb5-ab1e82a320ac",
   "metadata": {},
   "outputs": [
    {
     "data": {
      "text/html": [
       "<style>\n",
       ".list-inline {list-style: none; margin:0; padding: 0}\n",
       ".list-inline>li {display: inline-block}\n",
       ".list-inline>li:not(:last-child)::after {content: \"\\00b7\"; padding: 0 .5ex}\n",
       "</style>\n",
       "<ol class=list-inline><li>'CNIH2.exp'</li><li>'ESPL1.exp'</li><li>'FEZF1_AS1.exp'</li><li>'EME1.exp'</li><li>'ARHGEF39.exp'</li><li>'AMH.exp'</li><li>'ENSG00000262528.exp'</li><li>'UBE2T.exp'</li><li>'FMOD.exp'</li><li>'TK1.exp'</li><li>'MAB21L1.exp'</li></ol>\n"
      ],
      "text/latex": [
       "\\begin{enumerate*}\n",
       "\\item 'CNIH2.exp'\n",
       "\\item 'ESPL1.exp'\n",
       "\\item 'FEZF1\\_AS1.exp'\n",
       "\\item 'EME1.exp'\n",
       "\\item 'ARHGEF39.exp'\n",
       "\\item 'AMH.exp'\n",
       "\\item 'ENSG00000262528.exp'\n",
       "\\item 'UBE2T.exp'\n",
       "\\item 'FMOD.exp'\n",
       "\\item 'TK1.exp'\n",
       "\\item 'MAB21L1.exp'\n",
       "\\end{enumerate*}\n"
      ],
      "text/markdown": [
       "1. 'CNIH2.exp'\n",
       "2. 'ESPL1.exp'\n",
       "3. 'FEZF1_AS1.exp'\n",
       "4. 'EME1.exp'\n",
       "5. 'ARHGEF39.exp'\n",
       "6. 'AMH.exp'\n",
       "7. 'ENSG00000262528.exp'\n",
       "8. 'UBE2T.exp'\n",
       "9. 'FMOD.exp'\n",
       "10. 'TK1.exp'\n",
       "11. 'MAB21L1.exp'\n",
       "\n",
       "\n"
      ],
      "text/plain": [
       " [1] \"CNIH2.exp\"           \"ESPL1.exp\"           \"FEZF1_AS1.exp\"      \n",
       " [4] \"EME1.exp\"            \"ARHGEF39.exp\"        \"AMH.exp\"            \n",
       " [7] \"ENSG00000262528.exp\" \"UBE2T.exp\"           \"FMOD.exp\"           \n",
       "[10] \"TK1.exp\"             \"MAB21L1.exp\"        "
      ]
     },
     "metadata": {},
     "output_type": "display_data"
    }
   ],
   "source": [
    "selected.genes.step2[-2]"
   ]
  },
  {
   "cell_type": "code",
   "execution_count": 122,
   "id": "60413492-6dd5-4467-9382-21bde37a1278",
   "metadata": {},
   "outputs": [
    {
     "data": {
      "text/html": [
       "<style>\n",
       ".list-inline {list-style: none; margin:0; padding: 0}\n",
       ".list-inline>li {display: inline-block}\n",
       ".list-inline>li:not(:last-child)::after {content: \"\\00b7\"; padding: 0 .5ex}\n",
       "</style>\n",
       "<ol class=list-inline><li>'PFI.clin'</li><li>'PFI.time.clin'</li><li>'Age.clin'</li><li>'Gleason.group.clin'</li><li>'KIF23.exp'</li><li>'PTEN.exp'</li><li>'VPS4B.exp'</li><li>'AURKA.exp'</li><li>'AURKB.exp'</li><li>'TP53.cn'</li></ol>\n"
      ],
      "text/latex": [
       "\\begin{enumerate*}\n",
       "\\item 'PFI.clin'\n",
       "\\item 'PFI.time.clin'\n",
       "\\item 'Age.clin'\n",
       "\\item 'Gleason.group.clin'\n",
       "\\item 'KIF23.exp'\n",
       "\\item 'PTEN.exp'\n",
       "\\item 'VPS4B.exp'\n",
       "\\item 'AURKA.exp'\n",
       "\\item 'AURKB.exp'\n",
       "\\item 'TP53.cn'\n",
       "\\end{enumerate*}\n"
      ],
      "text/markdown": [
       "1. 'PFI.clin'\n",
       "2. 'PFI.time.clin'\n",
       "3. 'Age.clin'\n",
       "4. 'Gleason.group.clin'\n",
       "5. 'KIF23.exp'\n",
       "6. 'PTEN.exp'\n",
       "7. 'VPS4B.exp'\n",
       "8. 'AURKA.exp'\n",
       "9. 'AURKB.exp'\n",
       "10. 'TP53.cn'\n",
       "\n",
       "\n"
      ],
      "text/plain": [
       " [1] \"PFI.clin\"           \"PFI.time.clin\"      \"Age.clin\"          \n",
       " [4] \"Gleason.group.clin\" \"KIF23.exp\"          \"PTEN.exp\"          \n",
       " [7] \"VPS4B.exp\"          \"AURKA.exp\"          \"AURKB.exp\"         \n",
       "[10] \"TP53.cn\"           "
      ]
     },
     "metadata": {},
     "output_type": "display_data"
    }
   ],
   "source": [
    "selected.columns.stepwise"
   ]
  },
  {
   "cell_type": "code",
   "execution_count": 123,
   "id": "76d65f17-8b40-4f58-835d-ac042ceee6bc",
   "metadata": {},
   "outputs": [
    {
     "name": "stdout",
     "output_type": "stream",
     "text": [
      " [1] \"Age.clin\"            \"Gleason.group.clin\"  \"KIF23.exp\"          \n",
      " [4] \"PTEN.exp\"            \"VPS4B.exp\"           \"AURKA.exp\"          \n",
      " [7] \"AURKB.exp\"           \"TP53.cn\"             \"MXD3.exp\"           \n",
      "[10] \"ESPL1.exp\"           \"FEZF1_AS1.exp\"       \"EME1.exp\"           \n",
      "[13] \"ARHGEF39.exp\"        \"AMH.exp\"             \"ENSG00000262528.exp\"\n",
      "[16] \"UBE2T.exp\"           \"FMOD.exp\"            \"TK1.exp\"            \n",
      "[19] \"MAB21L1.exp\"        \n",
      " [1] \"Age.clin\"            \"Gleason.group.clin\"  \"KIF23.exp\"          \n",
      " [4] \"PTEN.exp\"            \"VPS4B.exp\"           \"AURKA.exp\"          \n",
      " [7] \"AURKB.exp\"           \"TP53.cn\"             \"CNIH2.exp\"          \n",
      "[10] \"ESPL1.exp\"           \"FEZF1_AS1.exp\"       \"EME1.exp\"           \n",
      "[13] \"ARHGEF39.exp\"        \"AMH.exp\"             \"ENSG00000262528.exp\"\n",
      "[16] \"UBE2T.exp\"           \"FMOD.exp\"            \"TK1.exp\"            \n",
      "[19] \"MAB21L1.exp\"        \n",
      " [1] \"Age.clin\"            \"Gleason.group.clin\"  \"KIF23.exp\"          \n",
      " [4] \"PTEN.exp\"            \"VPS4B.exp\"           \"AURKA.exp\"          \n",
      " [7] \"AURKB.exp\"           \"TP53.cn\"             \"CNIH2.exp\"          \n",
      "[10] \"MXD3.exp\"            \"FEZF1_AS1.exp\"       \"EME1.exp\"           \n",
      "[13] \"ARHGEF39.exp\"        \"AMH.exp\"             \"ENSG00000262528.exp\"\n",
      "[16] \"UBE2T.exp\"           \"FMOD.exp\"            \"TK1.exp\"            \n",
      "[19] \"MAB21L1.exp\"        \n",
      " [1] \"Age.clin\"            \"Gleason.group.clin\"  \"KIF23.exp\"          \n",
      " [4] \"PTEN.exp\"            \"VPS4B.exp\"           \"AURKA.exp\"          \n",
      " [7] \"AURKB.exp\"           \"TP53.cn\"             \"CNIH2.exp\"          \n",
      "[10] \"MXD3.exp\"            \"ESPL1.exp\"           \"EME1.exp\"           \n",
      "[13] \"ARHGEF39.exp\"        \"AMH.exp\"             \"ENSG00000262528.exp\"\n",
      "[16] \"UBE2T.exp\"           \"FMOD.exp\"            \"TK1.exp\"            \n",
      "[19] \"MAB21L1.exp\"        \n",
      " [1] \"Age.clin\"            \"Gleason.group.clin\"  \"KIF23.exp\"          \n",
      " [4] \"PTEN.exp\"            \"VPS4B.exp\"           \"AURKA.exp\"          \n",
      " [7] \"AURKB.exp\"           \"TP53.cn\"             \"CNIH2.exp\"          \n",
      "[10] \"MXD3.exp\"            \"ESPL1.exp\"           \"FEZF1_AS1.exp\"      \n",
      "[13] \"ARHGEF39.exp\"        \"AMH.exp\"             \"ENSG00000262528.exp\"\n",
      "[16] \"UBE2T.exp\"           \"FMOD.exp\"            \"TK1.exp\"            \n",
      "[19] \"MAB21L1.exp\"        \n",
      " [1] \"Age.clin\"            \"Gleason.group.clin\"  \"KIF23.exp\"          \n",
      " [4] \"PTEN.exp\"            \"VPS4B.exp\"           \"AURKA.exp\"          \n",
      " [7] \"AURKB.exp\"           \"TP53.cn\"             \"CNIH2.exp\"          \n",
      "[10] \"MXD3.exp\"            \"ESPL1.exp\"           \"FEZF1_AS1.exp\"      \n",
      "[13] \"EME1.exp\"            \"AMH.exp\"             \"ENSG00000262528.exp\"\n",
      "[16] \"UBE2T.exp\"           \"FMOD.exp\"            \"TK1.exp\"            \n",
      "[19] \"MAB21L1.exp\"        \n",
      " [1] \"Age.clin\"            \"Gleason.group.clin\"  \"KIF23.exp\"          \n",
      " [4] \"PTEN.exp\"            \"VPS4B.exp\"           \"AURKA.exp\"          \n",
      " [7] \"AURKB.exp\"           \"TP53.cn\"             \"CNIH2.exp\"          \n",
      "[10] \"MXD3.exp\"            \"ESPL1.exp\"           \"FEZF1_AS1.exp\"      \n",
      "[13] \"EME1.exp\"            \"ARHGEF39.exp\"        \"ENSG00000262528.exp\"\n",
      "[16] \"UBE2T.exp\"           \"FMOD.exp\"            \"TK1.exp\"            \n",
      "[19] \"MAB21L1.exp\"        \n",
      " [1] \"Age.clin\"           \"Gleason.group.clin\" \"KIF23.exp\"         \n",
      " [4] \"PTEN.exp\"           \"VPS4B.exp\"          \"AURKA.exp\"         \n",
      " [7] \"AURKB.exp\"          \"TP53.cn\"            \"CNIH2.exp\"         \n",
      "[10] \"MXD3.exp\"           \"ESPL1.exp\"          \"FEZF1_AS1.exp\"     \n",
      "[13] \"EME1.exp\"           \"ARHGEF39.exp\"       \"AMH.exp\"           \n",
      "[16] \"UBE2T.exp\"          \"FMOD.exp\"           \"TK1.exp\"           \n",
      "[19] \"MAB21L1.exp\"       \n",
      " [1] \"Age.clin\"            \"Gleason.group.clin\"  \"KIF23.exp\"          \n",
      " [4] \"PTEN.exp\"            \"VPS4B.exp\"           \"AURKA.exp\"          \n",
      " [7] \"AURKB.exp\"           \"TP53.cn\"             \"CNIH2.exp\"          \n",
      "[10] \"MXD3.exp\"            \"ESPL1.exp\"           \"FEZF1_AS1.exp\"      \n",
      "[13] \"EME1.exp\"            \"ARHGEF39.exp\"        \"AMH.exp\"            \n",
      "[16] \"ENSG00000262528.exp\" \"FMOD.exp\"            \"TK1.exp\"            \n",
      "[19] \"MAB21L1.exp\"        \n",
      " [1] \"Age.clin\"            \"Gleason.group.clin\"  \"KIF23.exp\"          \n",
      " [4] \"PTEN.exp\"            \"VPS4B.exp\"           \"AURKA.exp\"          \n",
      " [7] \"AURKB.exp\"           \"TP53.cn\"             \"CNIH2.exp\"          \n",
      "[10] \"MXD3.exp\"            \"ESPL1.exp\"           \"FEZF1_AS1.exp\"      \n",
      "[13] \"EME1.exp\"            \"ARHGEF39.exp\"        \"AMH.exp\"            \n",
      "[16] \"ENSG00000262528.exp\" \"UBE2T.exp\"           \"TK1.exp\"            \n",
      "[19] \"MAB21L1.exp\"        \n",
      " [1] \"Age.clin\"            \"Gleason.group.clin\"  \"KIF23.exp\"          \n",
      " [4] \"PTEN.exp\"            \"VPS4B.exp\"           \"AURKA.exp\"          \n",
      " [7] \"AURKB.exp\"           \"TP53.cn\"             \"CNIH2.exp\"          \n",
      "[10] \"MXD3.exp\"            \"ESPL1.exp\"           \"FEZF1_AS1.exp\"      \n",
      "[13] \"EME1.exp\"            \"ARHGEF39.exp\"        \"AMH.exp\"            \n",
      "[16] \"ENSG00000262528.exp\" \"UBE2T.exp\"           \"FMOD.exp\"           \n",
      "[19] \"MAB21L1.exp\"        \n",
      " [1] \"Age.clin\"            \"Gleason.group.clin\"  \"KIF23.exp\"          \n",
      " [4] \"PTEN.exp\"            \"VPS4B.exp\"           \"AURKA.exp\"          \n",
      " [7] \"AURKB.exp\"           \"TP53.cn\"             \"CNIH2.exp\"          \n",
      "[10] \"MXD3.exp\"            \"ESPL1.exp\"           \"FEZF1_AS1.exp\"      \n",
      "[13] \"EME1.exp\"            \"ARHGEF39.exp\"        \"AMH.exp\"            \n",
      "[16] \"ENSG00000262528.exp\" \"UBE2T.exp\"           \"FMOD.exp\"           \n",
      "[19] \"TK1.exp\"            \n"
     ]
    }
   ],
   "source": [
    "for (i in 1:length(selected.genes.step2)){\n",
    "    #new.feature = new.genes.exp[i]\n",
    "    \n",
    "    # Test adding genes except one \n",
    "    selected.columns.2 = c(selected.columns.stepwise, selected.genes.step2[-1 * i])\n",
    "\n",
    "    \n",
    "    # Input data for cox-model \n",
    "    input.training = tcga.dataset.merged[[\"PFI\"]]$train[,colnames(tcga.dataset.merged[[\"PFI\"]]$train) %in%  selected.columns.2]\n",
    "\n",
    "    # The features \n",
    "    selected.features = selected.columns.2[-c(1,2)]\n",
    "    print(selected.features)\n",
    "    \n",
    "    # Fit the cox-model \n",
    "    pcox.ref.fit.pfi = fitCoxModel(input.training, \"PFI\",  selected.features)\n",
    "\n",
    "    # Predict the risk scores for validation data \n",
    "    rel.risk = predict(object = pcox.ref.fit.pfi , \n",
    "                   newdata = tcga.dataset.merged$PFI$validation[,selected.features], \n",
    "                   type = \"risk\")\n",
    "\n",
    "    #\n",
    "    # Evaluate \n",
    "    #\n",
    "\n",
    "    # Stratify validation data into two groups based on the fitted relative risk\n",
    "    y.data <- tcga.dataset.merged$PFI$validation[paste0(\"PFI\", c(\".clin\",\".time.clin\"))]\n",
    "    colnames(y.data) = c(\"status\",\"time\")\n",
    "\n",
    "    # TEST new function for calculating the C-index\n",
    "    cindex.ref.valid = concordance.index(rel.risk, \n",
    "                                        y.data$time, \n",
    "                                        y.data$status,\n",
    "                                        na.rm = TRUE)\n",
    "\n",
    "    # Plot KM and extract the p-value  \n",
    "    KM.valid.ref.by.risk = plotKMbyRelativeRisk(data = y.data, \n",
    "                                                     rel.risk = rel.risk)\n",
    "    \n",
    "    \n",
    "    res = data.frame(KM.pvalue = KM.valid.ref.by.risk$table$Pvalue.pval,\n",
    "                     C.index = cindex.ref.valid$c.index,\n",
    "                     \"C-index CI\" = paste0(\"(\", round(cindex.ref.valid$lower, 4), \" - \",  \n",
    "                                                round(cindex.ref.valid$upper, 4), \")\")\n",
    "                     )\n",
    "    step.wise.results = rbind(step.wise.results, res)\n",
    "    \n",
    "    #print(cindex.ref.valid$c.index)\n",
    "    #print(KM.valid.ref.by.risk$table)\n",
    "    \n",
    "}"
   ]
  },
  {
   "cell_type": "code",
   "execution_count": 124,
   "id": "a9f191b5-ae3e-43c9-bd74-59b05b432d7f",
   "metadata": {},
   "outputs": [
    {
     "data": {
      "text/html": [
       "<table class=\"dataframe\">\n",
       "<caption>A data.frame: 12 × 3</caption>\n",
       "<thead>\n",
       "\t<tr><th scope=col>KM.pvalue</th><th scope=col>C.index</th><th scope=col>C.index.CI</th></tr>\n",
       "\t<tr><th scope=col>&lt;dbl&gt;</th><th scope=col>&lt;dbl&gt;</th><th scope=col>&lt;chr&gt;</th></tr>\n",
       "</thead>\n",
       "<tbody>\n",
       "\t<tr><td>0.002590051</td><td>0.6554445</td><td>(0.413 - 0.8372) </td></tr>\n",
       "\t<tr><td>0.008340319</td><td>0.6785902</td><td>(0.4345 - 0.853) </td></tr>\n",
       "\t<tr><td>0.006968790</td><td>0.6838506</td><td>(0.4394 - 0.8565)</td></tr>\n",
       "\t<tr><td>0.024051977</td><td>0.6696476</td><td>(0.4261 - 0.8469)</td></tr>\n",
       "\t<tr><td>0.006148744</td><td>0.6801683</td><td>(0.436 - 0.854)  </td></tr>\n",
       "\t<tr><td>0.007339755</td><td>0.6775381</td><td>(0.4335 - 0.8523)</td></tr>\n",
       "\t<tr><td>0.018520860</td><td>0.6717517</td><td>(0.4281 - 0.8484)</td></tr>\n",
       "\t<tr><td>0.004118272</td><td>0.6875329</td><td>(0.4429 - 0.8589)</td></tr>\n",
       "\t<tr><td>0.006498322</td><td>0.6812204</td><td>(0.437 - 0.8547) </td></tr>\n",
       "\t<tr><td>0.003376905</td><td>0.6791163</td><td>(0.435 - 0.8533) </td></tr>\n",
       "\t<tr><td>0.007673779</td><td>0.6849027</td><td>(0.4404 - 0.8572)</td></tr>\n",
       "\t<tr><td>0.031143222</td><td>0.6696476</td><td>(0.4261 - 0.8469)</td></tr>\n",
       "</tbody>\n",
       "</table>\n"
      ],
      "text/latex": [
       "A data.frame: 12 × 3\n",
       "\\begin{tabular}{lll}\n",
       " KM.pvalue & C.index & C.index.CI\\\\\n",
       " <dbl> & <dbl> & <chr>\\\\\n",
       "\\hline\n",
       "\t 0.002590051 & 0.6554445 & (0.413 - 0.8372) \\\\\n",
       "\t 0.008340319 & 0.6785902 & (0.4345 - 0.853) \\\\\n",
       "\t 0.006968790 & 0.6838506 & (0.4394 - 0.8565)\\\\\n",
       "\t 0.024051977 & 0.6696476 & (0.4261 - 0.8469)\\\\\n",
       "\t 0.006148744 & 0.6801683 & (0.436 - 0.854)  \\\\\n",
       "\t 0.007339755 & 0.6775381 & (0.4335 - 0.8523)\\\\\n",
       "\t 0.018520860 & 0.6717517 & (0.4281 - 0.8484)\\\\\n",
       "\t 0.004118272 & 0.6875329 & (0.4429 - 0.8589)\\\\\n",
       "\t 0.006498322 & 0.6812204 & (0.437 - 0.8547) \\\\\n",
       "\t 0.003376905 & 0.6791163 & (0.435 - 0.8533) \\\\\n",
       "\t 0.007673779 & 0.6849027 & (0.4404 - 0.8572)\\\\\n",
       "\t 0.031143222 & 0.6696476 & (0.4261 - 0.8469)\\\\\n",
       "\\end{tabular}\n"
      ],
      "text/markdown": [
       "\n",
       "A data.frame: 12 × 3\n",
       "\n",
       "| KM.pvalue &lt;dbl&gt; | C.index &lt;dbl&gt; | C.index.CI &lt;chr&gt; |\n",
       "|---|---|---|\n",
       "| 0.002590051 | 0.6554445 | (0.413 - 0.8372)  |\n",
       "| 0.008340319 | 0.6785902 | (0.4345 - 0.853)  |\n",
       "| 0.006968790 | 0.6838506 | (0.4394 - 0.8565) |\n",
       "| 0.024051977 | 0.6696476 | (0.4261 - 0.8469) |\n",
       "| 0.006148744 | 0.6801683 | (0.436 - 0.854)   |\n",
       "| 0.007339755 | 0.6775381 | (0.4335 - 0.8523) |\n",
       "| 0.018520860 | 0.6717517 | (0.4281 - 0.8484) |\n",
       "| 0.004118272 | 0.6875329 | (0.4429 - 0.8589) |\n",
       "| 0.006498322 | 0.6812204 | (0.437 - 0.8547)  |\n",
       "| 0.003376905 | 0.6791163 | (0.435 - 0.8533)  |\n",
       "| 0.007673779 | 0.6849027 | (0.4404 - 0.8572) |\n",
       "| 0.031143222 | 0.6696476 | (0.4261 - 0.8469) |\n",
       "\n"
      ],
      "text/plain": [
       "   KM.pvalue   C.index   C.index.CI       \n",
       "1  0.002590051 0.6554445 (0.413 - 0.8372) \n",
       "2  0.008340319 0.6785902 (0.4345 - 0.853) \n",
       "3  0.006968790 0.6838506 (0.4394 - 0.8565)\n",
       "4  0.024051977 0.6696476 (0.4261 - 0.8469)\n",
       "5  0.006148744 0.6801683 (0.436 - 0.854)  \n",
       "6  0.007339755 0.6775381 (0.4335 - 0.8523)\n",
       "7  0.018520860 0.6717517 (0.4281 - 0.8484)\n",
       "8  0.004118272 0.6875329 (0.4429 - 0.8589)\n",
       "9  0.006498322 0.6812204 (0.437 - 0.8547) \n",
       "10 0.003376905 0.6791163 (0.435 - 0.8533) \n",
       "11 0.007673779 0.6849027 (0.4404 - 0.8572)\n",
       "12 0.031143222 0.6696476 (0.4261 - 0.8469)"
      ]
     },
     "metadata": {},
     "output_type": "display_data"
    }
   ],
   "source": [
    "step.wise.results"
   ]
  },
  {
   "cell_type": "code",
   "execution_count": 127,
   "id": "b097e886-bfdf-47b8-814c-9d3552018586",
   "metadata": {},
   "outputs": [],
   "source": [
    "rem.idx = which(step.wise.results$KM.pvalue == min(step.wise.results$KM.pvalue))"
   ]
  },
  {
   "cell_type": "code",
   "execution_count": 134,
   "id": "820234e0-adc9-4b03-b04b-cacd4607eec3",
   "metadata": {},
   "outputs": [],
   "source": [
    "selected.genes.step2 = selected.genes.step2[-1 * rem.idx]"
   ]
  },
  {
   "cell_type": "code",
   "execution_count": 139,
   "id": "c558727c-9988-4fee-b3e8-b51ea011099d",
   "metadata": {},
   "outputs": [],
   "source": [
    "# Store results \n",
    "step.wise.results = matrix(nrow = 0, ncol = 2) %>% as.data.frame() \n",
    "colnames(step.wise.results) = c(\"KM.pvalue\",\"C.index\")"
   ]
  },
  {
   "cell_type": "code",
   "execution_count": 140,
   "id": "80e05515-78f7-49f3-afce-3d9635b05b2e",
   "metadata": {},
   "outputs": [],
   "source": [
    "step.wise.results = as.data.frame(lapply(step.wise.results, as.numeric))"
   ]
  },
  {
   "cell_type": "code",
   "execution_count": 141,
   "id": "f958e07b-c94e-4394-b213-b55b1ad1c042",
   "metadata": {},
   "outputs": [],
   "source": [
    "for (i in 1:length(selected.genes.step2)){\n",
    "    #new.feature = new.genes.exp[i]\n",
    "    \n",
    "    # Test adding genes except one \n",
    "    selected.columns.2 = c(selected.columns.stepwise, selected.genes.step2[-1 * i])\n",
    "\n",
    "    \n",
    "    # Input data for cox-model \n",
    "    input.training = tcga.dataset.merged[[\"PFI\"]]$train[,colnames(tcga.dataset.merged[[\"PFI\"]]$train) %in%  selected.columns.2]\n",
    "\n",
    "    # The features \n",
    "    selected.features = selected.columns.2[-c(1,2)]\n",
    "    \n",
    "    # Fit the cox-model \n",
    "    pcox.ref.fit.pfi = fitCoxModel(input.training, \"PFI\",  selected.features)\n",
    "\n",
    "    # Predict the risk scores for validation data \n",
    "    rel.risk = predict(object = pcox.ref.fit.pfi , \n",
    "                   newdata = tcga.dataset.merged$PFI$validation[,selected.features], \n",
    "                   type = \"risk\")\n",
    "\n",
    "    #\n",
    "    # Evaluate \n",
    "    #\n",
    "\n",
    "    # Stratify validation data into two groups based on the fitted relative risk\n",
    "    y.data <- tcga.dataset.merged$PFI$validation[paste0(\"PFI\", c(\".clin\",\".time.clin\"))]\n",
    "    colnames(y.data) = c(\"status\",\"time\")\n",
    "\n",
    "    # TEST new function for calculating the C-index\n",
    "    cindex.ref.valid = concordance.index(rel.risk, \n",
    "                                        y.data$time, \n",
    "                                        y.data$status,\n",
    "                                        na.rm = TRUE)\n",
    "\n",
    "    # Plot KM and extract the p-value  \n",
    "    KM.valid.ref.by.risk = plotKMbyRelativeRisk(data = y.data, \n",
    "                                                     rel.risk = rel.risk)\n",
    "    \n",
    "    \n",
    "    res = data.frame(KM.pvalue = KM.valid.ref.by.risk$table$Pvalue.pval,\n",
    "                     C.index = cindex.ref.valid$c.index,\n",
    "                     \"C-index CI\" = paste0(\"(\", round(cindex.ref.valid$lower, 4), \" - \",  \n",
    "                                                round(cindex.ref.valid$upper, 4), \")\")\n",
    "                     )\n",
    "    step.wise.results = rbind(step.wise.results, res)\n",
    "    \n",
    "    #print(cindex.ref.valid$c.index)\n",
    "    #print(KM.valid.ref.by.risk$table)\n",
    "    \n",
    "}"
   ]
  },
  {
   "cell_type": "code",
   "execution_count": 142,
   "id": "f2d5d0e8-7835-461d-bfec-2a97881abc58",
   "metadata": {},
   "outputs": [
    {
     "data": {
      "text/html": [
       "<table class=\"dataframe\">\n",
       "<caption>A data.frame: 11 × 3</caption>\n",
       "<thead>\n",
       "\t<tr><th scope=col>KM.pvalue</th><th scope=col>C.index</th><th scope=col>C.index.CI</th></tr>\n",
       "\t<tr><th scope=col>&lt;dbl&gt;</th><th scope=col>&lt;dbl&gt;</th><th scope=col>&lt;chr&gt;</th></tr>\n",
       "</thead>\n",
       "<tbody>\n",
       "\t<tr><td>0.0014433370</td><td>0.6317728</td><td>(0.3914 - 0.8207)</td></tr>\n",
       "\t<tr><td>0.0023557029</td><td>0.6622830</td><td>(0.4193 - 0.8419)</td></tr>\n",
       "\t<tr><td>0.0027896815</td><td>0.6459758</td><td>(0.4043 - 0.8307)</td></tr>\n",
       "\t<tr><td>0.0025900508</td><td>0.6596528</td><td>(0.4169 - 0.8401)</td></tr>\n",
       "\t<tr><td>0.0006275848</td><td>0.6496581</td><td>(0.4077 - 0.8332)</td></tr>\n",
       "\t<tr><td>0.0200747385</td><td>0.6486060</td><td>(0.4067 - 0.8325)</td></tr>\n",
       "\t<tr><td>0.0041182722</td><td>0.6638611</td><td>(0.4208 - 0.843) </td></tr>\n",
       "\t<tr><td>0.0025900508</td><td>0.6543924</td><td>(0.412 - 0.8365) </td></tr>\n",
       "\t<tr><td>0.0041942756</td><td>0.6580747</td><td>(0.4154 - 0.839) </td></tr>\n",
       "\t<tr><td>0.0010902917</td><td>0.6722777</td><td>(0.4286 - 0.8487)</td></tr>\n",
       "\t<tr><td>0.0120806440</td><td>0.6396633</td><td>(0.3986 - 0.8262)</td></tr>\n",
       "</tbody>\n",
       "</table>\n"
      ],
      "text/latex": [
       "A data.frame: 11 × 3\n",
       "\\begin{tabular}{lll}\n",
       " KM.pvalue & C.index & C.index.CI\\\\\n",
       " <dbl> & <dbl> & <chr>\\\\\n",
       "\\hline\n",
       "\t 0.0014433370 & 0.6317728 & (0.3914 - 0.8207)\\\\\n",
       "\t 0.0023557029 & 0.6622830 & (0.4193 - 0.8419)\\\\\n",
       "\t 0.0027896815 & 0.6459758 & (0.4043 - 0.8307)\\\\\n",
       "\t 0.0025900508 & 0.6596528 & (0.4169 - 0.8401)\\\\\n",
       "\t 0.0006275848 & 0.6496581 & (0.4077 - 0.8332)\\\\\n",
       "\t 0.0200747385 & 0.6486060 & (0.4067 - 0.8325)\\\\\n",
       "\t 0.0041182722 & 0.6638611 & (0.4208 - 0.843) \\\\\n",
       "\t 0.0025900508 & 0.6543924 & (0.412 - 0.8365) \\\\\n",
       "\t 0.0041942756 & 0.6580747 & (0.4154 - 0.839) \\\\\n",
       "\t 0.0010902917 & 0.6722777 & (0.4286 - 0.8487)\\\\\n",
       "\t 0.0120806440 & 0.6396633 & (0.3986 - 0.8262)\\\\\n",
       "\\end{tabular}\n"
      ],
      "text/markdown": [
       "\n",
       "A data.frame: 11 × 3\n",
       "\n",
       "| KM.pvalue &lt;dbl&gt; | C.index &lt;dbl&gt; | C.index.CI &lt;chr&gt; |\n",
       "|---|---|---|\n",
       "| 0.0014433370 | 0.6317728 | (0.3914 - 0.8207) |\n",
       "| 0.0023557029 | 0.6622830 | (0.4193 - 0.8419) |\n",
       "| 0.0027896815 | 0.6459758 | (0.4043 - 0.8307) |\n",
       "| 0.0025900508 | 0.6596528 | (0.4169 - 0.8401) |\n",
       "| 0.0006275848 | 0.6496581 | (0.4077 - 0.8332) |\n",
       "| 0.0200747385 | 0.6486060 | (0.4067 - 0.8325) |\n",
       "| 0.0041182722 | 0.6638611 | (0.4208 - 0.843)  |\n",
       "| 0.0025900508 | 0.6543924 | (0.412 - 0.8365)  |\n",
       "| 0.0041942756 | 0.6580747 | (0.4154 - 0.839)  |\n",
       "| 0.0010902917 | 0.6722777 | (0.4286 - 0.8487) |\n",
       "| 0.0120806440 | 0.6396633 | (0.3986 - 0.8262) |\n",
       "\n"
      ],
      "text/plain": [
       "   KM.pvalue    C.index   C.index.CI       \n",
       "1  0.0014433370 0.6317728 (0.3914 - 0.8207)\n",
       "2  0.0023557029 0.6622830 (0.4193 - 0.8419)\n",
       "3  0.0027896815 0.6459758 (0.4043 - 0.8307)\n",
       "4  0.0025900508 0.6596528 (0.4169 - 0.8401)\n",
       "5  0.0006275848 0.6496581 (0.4077 - 0.8332)\n",
       "6  0.0200747385 0.6486060 (0.4067 - 0.8325)\n",
       "7  0.0041182722 0.6638611 (0.4208 - 0.843) \n",
       "8  0.0025900508 0.6543924 (0.412 - 0.8365) \n",
       "9  0.0041942756 0.6580747 (0.4154 - 0.839) \n",
       "10 0.0010902917 0.6722777 (0.4286 - 0.8487)\n",
       "11 0.0120806440 0.6396633 (0.3986 - 0.8262)"
      ]
     },
     "metadata": {},
     "output_type": "display_data"
    }
   ],
   "source": [
    "step.wise.results"
   ]
  },
  {
   "cell_type": "code",
   "execution_count": 143,
   "id": "9acd20e5-e0fc-4697-8400-d270a051037d",
   "metadata": {},
   "outputs": [],
   "source": [
    "rem.idx = which(step.wise.results$KM.pvalue == min(step.wise.results$KM.pvalue))"
   ]
  },
  {
   "cell_type": "code",
   "execution_count": 144,
   "id": "ffff912e-c81a-41a9-8919-2ab8a121edaf",
   "metadata": {},
   "outputs": [
    {
     "data": {
      "text/html": [
       "5"
      ],
      "text/latex": [
       "5"
      ],
      "text/markdown": [
       "5"
      ],
      "text/plain": [
       "[1] 5"
      ]
     },
     "metadata": {},
     "output_type": "display_data"
    }
   ],
   "source": [
    "rem.idx"
   ]
  },
  {
   "cell_type": "code",
   "execution_count": 145,
   "id": "bfce0e40-33c4-4aca-a369-bfdb22902be0",
   "metadata": {},
   "outputs": [],
   "source": [
    "selected.genes.step2 = selected.genes.step2[-1 * rem.idx]"
   ]
  },
  {
   "cell_type": "code",
   "execution_count": 146,
   "id": "9beeb132-ca01-4916-a361-090254795ec7",
   "metadata": {},
   "outputs": [
    {
     "data": {
      "text/html": [
       "<style>\n",
       ".list-inline {list-style: none; margin:0; padding: 0}\n",
       ".list-inline>li {display: inline-block}\n",
       ".list-inline>li:not(:last-child)::after {content: \"\\00b7\"; padding: 0 .5ex}\n",
       "</style>\n",
       "<ol class=list-inline><li>'MXD3.exp'</li><li>'ESPL1.exp'</li><li>'FEZF1_AS1.exp'</li><li>'EME1.exp'</li><li>'AMH.exp'</li><li>'ENSG00000262528.exp'</li><li>'UBE2T.exp'</li><li>'FMOD.exp'</li><li>'TK1.exp'</li><li>'MAB21L1.exp'</li></ol>\n"
      ],
      "text/latex": [
       "\\begin{enumerate*}\n",
       "\\item 'MXD3.exp'\n",
       "\\item 'ESPL1.exp'\n",
       "\\item 'FEZF1\\_AS1.exp'\n",
       "\\item 'EME1.exp'\n",
       "\\item 'AMH.exp'\n",
       "\\item 'ENSG00000262528.exp'\n",
       "\\item 'UBE2T.exp'\n",
       "\\item 'FMOD.exp'\n",
       "\\item 'TK1.exp'\n",
       "\\item 'MAB21L1.exp'\n",
       "\\end{enumerate*}\n"
      ],
      "text/markdown": [
       "1. 'MXD3.exp'\n",
       "2. 'ESPL1.exp'\n",
       "3. 'FEZF1_AS1.exp'\n",
       "4. 'EME1.exp'\n",
       "5. 'AMH.exp'\n",
       "6. 'ENSG00000262528.exp'\n",
       "7. 'UBE2T.exp'\n",
       "8. 'FMOD.exp'\n",
       "9. 'TK1.exp'\n",
       "10. 'MAB21L1.exp'\n",
       "\n",
       "\n"
      ],
      "text/plain": [
       " [1] \"MXD3.exp\"            \"ESPL1.exp\"           \"FEZF1_AS1.exp\"      \n",
       " [4] \"EME1.exp\"            \"AMH.exp\"             \"ENSG00000262528.exp\"\n",
       " [7] \"UBE2T.exp\"           \"FMOD.exp\"            \"TK1.exp\"            \n",
       "[10] \"MAB21L1.exp\"        "
      ]
     },
     "metadata": {},
     "output_type": "display_data"
    }
   ],
   "source": [
    "selected.genes.step2 "
   ]
  },
  {
   "cell_type": "code",
   "execution_count": null,
   "id": "8eab23e1-32eb-4e46-a87e-66fe5ce3c338",
   "metadata": {},
   "outputs": [],
   "source": []
  },
  {
   "cell_type": "code",
   "execution_count": 147,
   "id": "4d3060bb-0518-4f05-abb0-40cdb4403782",
   "metadata": {},
   "outputs": [],
   "source": [
    "# Store results \n",
    "step.wise.results = matrix(nrow = 0, ncol = 2) %>% as.data.frame() \n",
    "colnames(step.wise.results) = c(\"KM.pvalue\",\"C.index\")"
   ]
  },
  {
   "cell_type": "code",
   "execution_count": 148,
   "id": "2fecb314-cf41-450d-a6b1-c89655c57711",
   "metadata": {},
   "outputs": [],
   "source": [
    "step.wise.results = as.data.frame(lapply(step.wise.results, as.numeric))"
   ]
  },
  {
   "cell_type": "code",
   "execution_count": 149,
   "id": "bda4bf77-219d-4297-90c0-3a27c86b4cdb",
   "metadata": {},
   "outputs": [],
   "source": [
    "for (i in 1:length(selected.genes.step2)){\n",
    "    #new.feature = new.genes.exp[i]\n",
    "    \n",
    "    # Test adding genes except one \n",
    "    selected.columns.2 = c(selected.columns.stepwise, selected.genes.step2[-1 * i])\n",
    "\n",
    "    \n",
    "    # Input data for cox-model \n",
    "    input.training = tcga.dataset.merged[[\"PFI\"]]$train[,colnames(tcga.dataset.merged[[\"PFI\"]]$train) %in%  selected.columns.2]\n",
    "\n",
    "    # The features \n",
    "    selected.features = selected.columns.2[-c(1,2)]\n",
    "    \n",
    "    # Fit the cox-model \n",
    "    pcox.ref.fit.pfi = fitCoxModel(input.training, \"PFI\",  selected.features)\n",
    "\n",
    "    # Predict the risk scores for validation data \n",
    "    rel.risk = predict(object = pcox.ref.fit.pfi , \n",
    "                   newdata = tcga.dataset.merged$PFI$validation[,selected.features], \n",
    "                   type = \"risk\")\n",
    "\n",
    "    #\n",
    "    # Evaluate \n",
    "    #\n",
    "\n",
    "    # Stratify validation data into two groups based on the fitted relative risk\n",
    "    y.data <- tcga.dataset.merged$PFI$validation[paste0(\"PFI\", c(\".clin\",\".time.clin\"))]\n",
    "    colnames(y.data) = c(\"status\",\"time\")\n",
    "\n",
    "    # TEST new function for calculating the C-index\n",
    "    cindex.ref.valid = concordance.index(rel.risk, \n",
    "                                        y.data$time, \n",
    "                                        y.data$status,\n",
    "                                        na.rm = TRUE)\n",
    "\n",
    "    # Plot KM and extract the p-value  \n",
    "    KM.valid.ref.by.risk = plotKMbyRelativeRisk(data = y.data, \n",
    "                                                     rel.risk = rel.risk)\n",
    "    \n",
    "    \n",
    "    res = data.frame(KM.pvalue = KM.valid.ref.by.risk$table$Pvalue.pval,\n",
    "                     C.index = cindex.ref.valid$c.index,\n",
    "                     \"C-index CI\" = paste0(\"(\", round(cindex.ref.valid$lower, 4), \" - \",  \n",
    "                                                round(cindex.ref.valid$upper, 4), \")\")\n",
    "                     )\n",
    "    step.wise.results = rbind(step.wise.results, res)\n",
    "    \n",
    "    #print(cindex.ref.valid$c.index)\n",
    "    #print(KM.valid.ref.by.risk$table)\n",
    "    \n",
    "}"
   ]
  },
  {
   "cell_type": "code",
   "execution_count": 150,
   "id": "a29ac1c3-c313-4273-83bf-068aa862a7d6",
   "metadata": {},
   "outputs": [
    {
     "data": {
      "text/html": [
       "<table class=\"dataframe\">\n",
       "<caption>A data.frame: 10 × 3</caption>\n",
       "<thead>\n",
       "\t<tr><th scope=col>KM.pvalue</th><th scope=col>C.index</th><th scope=col>C.index.CI</th></tr>\n",
       "\t<tr><th scope=col>&lt;dbl&gt;</th><th scope=col>&lt;dbl&gt;</th><th scope=col>&lt;chr&gt;</th></tr>\n",
       "</thead>\n",
       "<tbody>\n",
       "\t<tr><td>0.0002835902</td><td>0.6396633</td><td>(0.3986 - 0.8262)</td></tr>\n",
       "\t<tr><td>0.0095146099</td><td>0.6512362</td><td>(0.4091 - 0.8343)</td></tr>\n",
       "\t<tr><td>0.0027896815</td><td>0.6443977</td><td>(0.4029 - 0.8296)</td></tr>\n",
       "\t<tr><td>0.0024956594</td><td>0.6522883</td><td>(0.4101 - 0.835) </td></tr>\n",
       "\t<tr><td>0.0217135325</td><td>0.6428196</td><td>(0.4014 - 0.8285)</td></tr>\n",
       "\t<tr><td>0.0009627570</td><td>0.6591268</td><td>(0.4164 - 0.8398)</td></tr>\n",
       "\t<tr><td>0.0006275848</td><td>0.6491320</td><td>(0.4072 - 0.8329)</td></tr>\n",
       "\t<tr><td>0.0013358893</td><td>0.6543924</td><td>(0.412 - 0.8365) </td></tr>\n",
       "\t<tr><td>0.0095391773</td><td>0.6638611</td><td>(0.4208 - 0.843) </td></tr>\n",
       "\t<tr><td>0.0079330358</td><td>0.6359811</td><td>(0.3952 - 0.8237)</td></tr>\n",
       "</tbody>\n",
       "</table>\n"
      ],
      "text/latex": [
       "A data.frame: 10 × 3\n",
       "\\begin{tabular}{lll}\n",
       " KM.pvalue & C.index & C.index.CI\\\\\n",
       " <dbl> & <dbl> & <chr>\\\\\n",
       "\\hline\n",
       "\t 0.0002835902 & 0.6396633 & (0.3986 - 0.8262)\\\\\n",
       "\t 0.0095146099 & 0.6512362 & (0.4091 - 0.8343)\\\\\n",
       "\t 0.0027896815 & 0.6443977 & (0.4029 - 0.8296)\\\\\n",
       "\t 0.0024956594 & 0.6522883 & (0.4101 - 0.835) \\\\\n",
       "\t 0.0217135325 & 0.6428196 & (0.4014 - 0.8285)\\\\\n",
       "\t 0.0009627570 & 0.6591268 & (0.4164 - 0.8398)\\\\\n",
       "\t 0.0006275848 & 0.6491320 & (0.4072 - 0.8329)\\\\\n",
       "\t 0.0013358893 & 0.6543924 & (0.412 - 0.8365) \\\\\n",
       "\t 0.0095391773 & 0.6638611 & (0.4208 - 0.843) \\\\\n",
       "\t 0.0079330358 & 0.6359811 & (0.3952 - 0.8237)\\\\\n",
       "\\end{tabular}\n"
      ],
      "text/markdown": [
       "\n",
       "A data.frame: 10 × 3\n",
       "\n",
       "| KM.pvalue &lt;dbl&gt; | C.index &lt;dbl&gt; | C.index.CI &lt;chr&gt; |\n",
       "|---|---|---|\n",
       "| 0.0002835902 | 0.6396633 | (0.3986 - 0.8262) |\n",
       "| 0.0095146099 | 0.6512362 | (0.4091 - 0.8343) |\n",
       "| 0.0027896815 | 0.6443977 | (0.4029 - 0.8296) |\n",
       "| 0.0024956594 | 0.6522883 | (0.4101 - 0.835)  |\n",
       "| 0.0217135325 | 0.6428196 | (0.4014 - 0.8285) |\n",
       "| 0.0009627570 | 0.6591268 | (0.4164 - 0.8398) |\n",
       "| 0.0006275848 | 0.6491320 | (0.4072 - 0.8329) |\n",
       "| 0.0013358893 | 0.6543924 | (0.412 - 0.8365)  |\n",
       "| 0.0095391773 | 0.6638611 | (0.4208 - 0.843)  |\n",
       "| 0.0079330358 | 0.6359811 | (0.3952 - 0.8237) |\n",
       "\n"
      ],
      "text/plain": [
       "   KM.pvalue    C.index   C.index.CI       \n",
       "1  0.0002835902 0.6396633 (0.3986 - 0.8262)\n",
       "2  0.0095146099 0.6512362 (0.4091 - 0.8343)\n",
       "3  0.0027896815 0.6443977 (0.4029 - 0.8296)\n",
       "4  0.0024956594 0.6522883 (0.4101 - 0.835) \n",
       "5  0.0217135325 0.6428196 (0.4014 - 0.8285)\n",
       "6  0.0009627570 0.6591268 (0.4164 - 0.8398)\n",
       "7  0.0006275848 0.6491320 (0.4072 - 0.8329)\n",
       "8  0.0013358893 0.6543924 (0.412 - 0.8365) \n",
       "9  0.0095391773 0.6638611 (0.4208 - 0.843) \n",
       "10 0.0079330358 0.6359811 (0.3952 - 0.8237)"
      ]
     },
     "metadata": {},
     "output_type": "display_data"
    }
   ],
   "source": [
    "step.wise.results"
   ]
  },
  {
   "cell_type": "code",
   "execution_count": null,
   "id": "16977001-fefd-4f77-8454-b2515f3c2521",
   "metadata": {},
   "outputs": [],
   "source": [
    "rem.idx = which(step.wise.results$KM.pvalue == min(step.wise.results$KM.pvalue))"
   ]
  },
  {
   "cell_type": "code",
   "execution_count": 151,
   "id": "3dcf1f53-2266-4bef-9e5b-338259565d01",
   "metadata": {},
   "outputs": [],
   "source": [
    "selected.genes.step2 = selected.genes.step2[-1 * rem.idx]"
   ]
  },
  {
   "cell_type": "code",
   "execution_count": 152,
   "id": "03068ee4-24a1-4e94-a30d-720b078e974e",
   "metadata": {},
   "outputs": [
    {
     "data": {
      "text/html": [
       "<style>\n",
       ".list-inline {list-style: none; margin:0; padding: 0}\n",
       ".list-inline>li {display: inline-block}\n",
       ".list-inline>li:not(:last-child)::after {content: \"\\00b7\"; padding: 0 .5ex}\n",
       "</style>\n",
       "<ol class=list-inline><li>'MXD3.exp'</li><li>'ESPL1.exp'</li><li>'FEZF1_AS1.exp'</li><li>'EME1.exp'</li><li>'ENSG00000262528.exp'</li><li>'UBE2T.exp'</li><li>'FMOD.exp'</li><li>'TK1.exp'</li><li>'MAB21L1.exp'</li></ol>\n"
      ],
      "text/latex": [
       "\\begin{enumerate*}\n",
       "\\item 'MXD3.exp'\n",
       "\\item 'ESPL1.exp'\n",
       "\\item 'FEZF1\\_AS1.exp'\n",
       "\\item 'EME1.exp'\n",
       "\\item 'ENSG00000262528.exp'\n",
       "\\item 'UBE2T.exp'\n",
       "\\item 'FMOD.exp'\n",
       "\\item 'TK1.exp'\n",
       "\\item 'MAB21L1.exp'\n",
       "\\end{enumerate*}\n"
      ],
      "text/markdown": [
       "1. 'MXD3.exp'\n",
       "2. 'ESPL1.exp'\n",
       "3. 'FEZF1_AS1.exp'\n",
       "4. 'EME1.exp'\n",
       "5. 'ENSG00000262528.exp'\n",
       "6. 'UBE2T.exp'\n",
       "7. 'FMOD.exp'\n",
       "8. 'TK1.exp'\n",
       "9. 'MAB21L1.exp'\n",
       "\n",
       "\n"
      ],
      "text/plain": [
       "[1] \"MXD3.exp\"            \"ESPL1.exp\"           \"FEZF1_AS1.exp\"      \n",
       "[4] \"EME1.exp\"            \"ENSG00000262528.exp\" \"UBE2T.exp\"          \n",
       "[7] \"FMOD.exp\"            \"TK1.exp\"             \"MAB21L1.exp\"        "
      ]
     },
     "metadata": {},
     "output_type": "display_data"
    }
   ],
   "source": [
    "selected.genes.step2 "
   ]
  },
  {
   "cell_type": "code",
   "execution_count": null,
   "id": "1c503014-0de1-4369-b01a-6ae64cda4d39",
   "metadata": {},
   "outputs": [],
   "source": []
  },
  {
   "cell_type": "code",
   "execution_count": 153,
   "id": "d78a60d5-e0d1-4f14-945b-3c99e6c64cfe",
   "metadata": {},
   "outputs": [],
   "source": [
    "# Store results \n",
    "step.wise.results = matrix(nrow = 0, ncol = 2) %>% as.data.frame() \n",
    "colnames(step.wise.results) = c(\"KM.pvalue\",\"C.index\")"
   ]
  },
  {
   "cell_type": "code",
   "execution_count": 154,
   "id": "78c922fd-e53c-47b5-84d9-c0b8dc9046e4",
   "metadata": {},
   "outputs": [],
   "source": [
    "step.wise.results = as.data.frame(lapply(step.wise.results, as.numeric))"
   ]
  },
  {
   "cell_type": "code",
   "execution_count": 155,
   "id": "e7e14bed-5dcc-487c-8fca-d3982008596b",
   "metadata": {},
   "outputs": [],
   "source": [
    "for (i in 1:length(selected.genes.step2)){\n",
    "    #new.feature = new.genes.exp[i]\n",
    "    \n",
    "    # Test adding genes except one \n",
    "    selected.columns.2 = c(selected.columns.stepwise, selected.genes.step2[-1 * i])\n",
    "\n",
    "    \n",
    "    # Input data for cox-model \n",
    "    input.training = tcga.dataset.merged[[\"PFI\"]]$train[,colnames(tcga.dataset.merged[[\"PFI\"]]$train) %in%  selected.columns.2]\n",
    "\n",
    "    # The features \n",
    "    selected.features = selected.columns.2[-c(1,2)]\n",
    "    \n",
    "    # Fit the cox-model \n",
    "    pcox.ref.fit.pfi = fitCoxModel(input.training, \"PFI\",  selected.features)\n",
    "\n",
    "    # Predict the risk scores for validation data \n",
    "    rel.risk = predict(object = pcox.ref.fit.pfi , \n",
    "                   newdata = tcga.dataset.merged$PFI$validation[,selected.features], \n",
    "                   type = \"risk\")\n",
    "\n",
    "    #\n",
    "    # Evaluate \n",
    "    #\n",
    "\n",
    "    # Stratify validation data into two groups based on the fitted relative risk\n",
    "    y.data <- tcga.dataset.merged$PFI$validation[paste0(\"PFI\", c(\".clin\",\".time.clin\"))]\n",
    "    colnames(y.data) = c(\"status\",\"time\")\n",
    "\n",
    "    # TEST new function for calculating the C-index\n",
    "    cindex.ref.valid = concordance.index(rel.risk, \n",
    "                                        y.data$time, \n",
    "                                        y.data$status,\n",
    "                                        na.rm = TRUE)\n",
    "\n",
    "    # Plot KM and extract the p-value  \n",
    "    KM.valid.ref.by.risk = plotKMbyRelativeRisk(data = y.data, \n",
    "                                                     rel.risk = rel.risk)\n",
    "    \n",
    "    \n",
    "    res = data.frame(KM.pvalue = KM.valid.ref.by.risk$table$Pvalue.pval,\n",
    "                     C.index = cindex.ref.valid$c.index,\n",
    "                     \"C-index CI\" = paste0(\"(\", round(cindex.ref.valid$lower, 4), \" - \",  \n",
    "                                                round(cindex.ref.valid$upper, 4), \")\")\n",
    "                     )\n",
    "    step.wise.results = rbind(step.wise.results, res)\n",
    "    \n",
    "    #print(cindex.ref.valid$c.index)\n",
    "    #print(KM.valid.ref.by.risk$table)\n",
    "    \n",
    "}"
   ]
  },
  {
   "cell_type": "code",
   "execution_count": 156,
   "id": "b8902137-07ca-4d1f-a810-07d09dff0d67",
   "metadata": {},
   "outputs": [
    {
     "data": {
      "text/html": [
       "<table class=\"dataframe\">\n",
       "<caption>A data.frame: 9 × 3</caption>\n",
       "<thead>\n",
       "\t<tr><th scope=col>KM.pvalue</th><th scope=col>C.index</th><th scope=col>C.index.CI</th></tr>\n",
       "\t<tr><th scope=col>&lt;dbl&gt;</th><th scope=col>&lt;dbl&gt;</th><th scope=col>&lt;chr&gt;</th></tr>\n",
       "</thead>\n",
       "<tbody>\n",
       "\t<tr><td>0.001335781</td><td>0.6465018</td><td>(0.4048 - 0.831) </td></tr>\n",
       "\t<tr><td>0.009609365</td><td>0.6396633</td><td>(0.3986 - 0.8262)</td></tr>\n",
       "\t<tr><td>0.084737953</td><td>0.6396633</td><td>(0.3986 - 0.8262)</td></tr>\n",
       "\t<tr><td>0.084737953</td><td>0.6401894</td><td>(0.399 - 0.8266) </td></tr>\n",
       "\t<tr><td>0.012571206</td><td>0.6517622</td><td>(0.4096 - 0.8347)</td></tr>\n",
       "\t<tr><td>0.021713532</td><td>0.6417675</td><td>(0.4005 - 0.8277)</td></tr>\n",
       "\t<tr><td>0.017135324</td><td>0.6449237</td><td>(0.4034 - 0.8299)</td></tr>\n",
       "\t<tr><td>0.028230923</td><td>0.6575487</td><td>(0.4149 - 0.8387)</td></tr>\n",
       "\t<tr><td>0.080757751</td><td>0.6328248</td><td>(0.3924 - 0.8214)</td></tr>\n",
       "</tbody>\n",
       "</table>\n"
      ],
      "text/latex": [
       "A data.frame: 9 × 3\n",
       "\\begin{tabular}{lll}\n",
       " KM.pvalue & C.index & C.index.CI\\\\\n",
       " <dbl> & <dbl> & <chr>\\\\\n",
       "\\hline\n",
       "\t 0.001335781 & 0.6465018 & (0.4048 - 0.831) \\\\\n",
       "\t 0.009609365 & 0.6396633 & (0.3986 - 0.8262)\\\\\n",
       "\t 0.084737953 & 0.6396633 & (0.3986 - 0.8262)\\\\\n",
       "\t 0.084737953 & 0.6401894 & (0.399 - 0.8266) \\\\\n",
       "\t 0.012571206 & 0.6517622 & (0.4096 - 0.8347)\\\\\n",
       "\t 0.021713532 & 0.6417675 & (0.4005 - 0.8277)\\\\\n",
       "\t 0.017135324 & 0.6449237 & (0.4034 - 0.8299)\\\\\n",
       "\t 0.028230923 & 0.6575487 & (0.4149 - 0.8387)\\\\\n",
       "\t 0.080757751 & 0.6328248 & (0.3924 - 0.8214)\\\\\n",
       "\\end{tabular}\n"
      ],
      "text/markdown": [
       "\n",
       "A data.frame: 9 × 3\n",
       "\n",
       "| KM.pvalue &lt;dbl&gt; | C.index &lt;dbl&gt; | C.index.CI &lt;chr&gt; |\n",
       "|---|---|---|\n",
       "| 0.001335781 | 0.6465018 | (0.4048 - 0.831)  |\n",
       "| 0.009609365 | 0.6396633 | (0.3986 - 0.8262) |\n",
       "| 0.084737953 | 0.6396633 | (0.3986 - 0.8262) |\n",
       "| 0.084737953 | 0.6401894 | (0.399 - 0.8266)  |\n",
       "| 0.012571206 | 0.6517622 | (0.4096 - 0.8347) |\n",
       "| 0.021713532 | 0.6417675 | (0.4005 - 0.8277) |\n",
       "| 0.017135324 | 0.6449237 | (0.4034 - 0.8299) |\n",
       "| 0.028230923 | 0.6575487 | (0.4149 - 0.8387) |\n",
       "| 0.080757751 | 0.6328248 | (0.3924 - 0.8214) |\n",
       "\n"
      ],
      "text/plain": [
       "  KM.pvalue   C.index   C.index.CI       \n",
       "1 0.001335781 0.6465018 (0.4048 - 0.831) \n",
       "2 0.009609365 0.6396633 (0.3986 - 0.8262)\n",
       "3 0.084737953 0.6396633 (0.3986 - 0.8262)\n",
       "4 0.084737953 0.6401894 (0.399 - 0.8266) \n",
       "5 0.012571206 0.6517622 (0.4096 - 0.8347)\n",
       "6 0.021713532 0.6417675 (0.4005 - 0.8277)\n",
       "7 0.017135324 0.6449237 (0.4034 - 0.8299)\n",
       "8 0.028230923 0.6575487 (0.4149 - 0.8387)\n",
       "9 0.080757751 0.6328248 (0.3924 - 0.8214)"
      ]
     },
     "metadata": {},
     "output_type": "display_data"
    }
   ],
   "source": [
    "step.wise.results"
   ]
  },
  {
   "cell_type": "code",
   "execution_count": null,
   "id": "bf6221a8-9950-48c0-b321-083377ed7a20",
   "metadata": {},
   "outputs": [],
   "source": []
  },
  {
   "cell_type": "code",
   "execution_count": 157,
   "id": "c9dbb638-c5eb-4dc0-85ad-609e2e912409",
   "metadata": {},
   "outputs": [],
   "source": [
    "rem.idx = which(step.wise.results$KM.pvalue == min(step.wise.results$KM.pvalue))"
   ]
  },
  {
   "cell_type": "code",
   "execution_count": 158,
   "id": "8b879889-1d39-437b-a911-44fa9d39f843",
   "metadata": {},
   "outputs": [],
   "source": [
    "selected.genes.step2 = selected.genes.step2[-1 * rem.idx]"
   ]
  },
  {
   "cell_type": "code",
   "execution_count": 159,
   "id": "52b978fa-fe60-4dc5-b2f5-9403f2a632a5",
   "metadata": {},
   "outputs": [
    {
     "data": {
      "text/html": [
       "<style>\n",
       ".list-inline {list-style: none; margin:0; padding: 0}\n",
       ".list-inline>li {display: inline-block}\n",
       ".list-inline>li:not(:last-child)::after {content: \"\\00b7\"; padding: 0 .5ex}\n",
       "</style>\n",
       "<ol class=list-inline><li>'ESPL1.exp'</li><li>'FEZF1_AS1.exp'</li><li>'EME1.exp'</li><li>'ENSG00000262528.exp'</li><li>'UBE2T.exp'</li><li>'FMOD.exp'</li><li>'TK1.exp'</li><li>'MAB21L1.exp'</li></ol>\n"
      ],
      "text/latex": [
       "\\begin{enumerate*}\n",
       "\\item 'ESPL1.exp'\n",
       "\\item 'FEZF1\\_AS1.exp'\n",
       "\\item 'EME1.exp'\n",
       "\\item 'ENSG00000262528.exp'\n",
       "\\item 'UBE2T.exp'\n",
       "\\item 'FMOD.exp'\n",
       "\\item 'TK1.exp'\n",
       "\\item 'MAB21L1.exp'\n",
       "\\end{enumerate*}\n"
      ],
      "text/markdown": [
       "1. 'ESPL1.exp'\n",
       "2. 'FEZF1_AS1.exp'\n",
       "3. 'EME1.exp'\n",
       "4. 'ENSG00000262528.exp'\n",
       "5. 'UBE2T.exp'\n",
       "6. 'FMOD.exp'\n",
       "7. 'TK1.exp'\n",
       "8. 'MAB21L1.exp'\n",
       "\n",
       "\n"
      ],
      "text/plain": [
       "[1] \"ESPL1.exp\"           \"FEZF1_AS1.exp\"       \"EME1.exp\"           \n",
       "[4] \"ENSG00000262528.exp\" \"UBE2T.exp\"           \"FMOD.exp\"           \n",
       "[7] \"TK1.exp\"             \"MAB21L1.exp\"        "
      ]
     },
     "metadata": {},
     "output_type": "display_data"
    }
   ],
   "source": [
    "selected.genes.step2 "
   ]
  },
  {
   "cell_type": "code",
   "execution_count": null,
   "id": "296fc917-e692-4265-8c00-86d23b5afd92",
   "metadata": {},
   "outputs": [],
   "source": []
  }
 ],
 "metadata": {
  "kernelspec": {
   "display_name": "R",
   "language": "R",
   "name": "ir"
  },
  "language_info": {
   "codemirror_mode": "r",
   "file_extension": ".r",
   "mimetype": "text/x-r-source",
   "name": "R",
   "pygments_lexer": "r",
   "version": "4.2.2"
  }
 },
 "nbformat": 4,
 "nbformat_minor": 5
}
