{
 "cells": [
  {
   "cell_type": "markdown",
   "id": "34a782b8-09c9-48f1-9c45-61e3b965e567",
   "metadata": {},
   "source": [
    "# Explore results "
   ]
  },
  {
   "cell_type": "code",
   "execution_count": 5,
   "id": "0c9275f2-aed7-4dc8-b138-2dff855eacf0",
   "metadata": {},
   "outputs": [
    {
     "name": "stderr",
     "output_type": "stream",
     "text": [
      "── \u001b[1mAttaching core tidyverse packages\u001b[22m ──────────────────────── tidyverse 2.0.0 ──\n",
      "\u001b[32m✔\u001b[39m \u001b[34mdplyr    \u001b[39m 1.1.3     \u001b[32m✔\u001b[39m \u001b[34mreadr    \u001b[39m 2.1.4\n",
      "\u001b[32m✔\u001b[39m \u001b[34mforcats  \u001b[39m 1.0.0     \u001b[32m✔\u001b[39m \u001b[34mstringr  \u001b[39m 1.5.0\n",
      "\u001b[32m✔\u001b[39m \u001b[34mggplot2  \u001b[39m 3.5.1     \u001b[32m✔\u001b[39m \u001b[34mtibble   \u001b[39m 3.2.1\n",
      "\u001b[32m✔\u001b[39m \u001b[34mlubridate\u001b[39m 1.9.2     \u001b[32m✔\u001b[39m \u001b[34mtidyr    \u001b[39m 1.2.1\n",
      "\u001b[32m✔\u001b[39m \u001b[34mpurrr    \u001b[39m 1.0.2     \n",
      "── \u001b[1mConflicts\u001b[22m ────────────────────────────────────────── tidyverse_conflicts() ──\n",
      "\u001b[31m✖\u001b[39m \u001b[34mdplyr\u001b[39m::\u001b[32mfilter()\u001b[39m masks \u001b[34mstats\u001b[39m::filter()\n",
      "\u001b[31m✖\u001b[39m \u001b[34mdplyr\u001b[39m::\u001b[32mlag()\u001b[39m    masks \u001b[34mstats\u001b[39m::lag()\n",
      "\u001b[36mℹ\u001b[39m Use the conflicted package (\u001b[3m\u001b[34m<http://conflicted.r-lib.org/>\u001b[39m\u001b[23m) to force all conflicts to become errors\n"
     ]
    }
   ],
   "source": [
    "library(\"tidyverse\")"
   ]
  },
  {
   "cell_type": "markdown",
   "id": "23601c27-6c21-4d08-a360-b38a0d741a32",
   "metadata": {},
   "source": [
    "## DE genes"
   ]
  },
  {
   "cell_type": "code",
   "execution_count": 16,
   "id": "be60e1c4-deab-4ec7-b2bc-68f41c4427fa",
   "metadata": {},
   "outputs": [],
   "source": [
    "de.elim.results = readRDS(\"/lustre/projects/landstrom_core/data/rdata/manuscript_work/revisions/PRAD/Feature_elimination_res_PFI_DE.rds\")"
   ]
  },
  {
   "cell_type": "code",
   "execution_count": 19,
   "id": "a7079b37-bb5c-4e3a-b17d-90c1caa9d421",
   "metadata": {},
   "outputs": [
    {
     "data": {
      "text/html": [
       "<table class=\"dataframe\">\n",
       "<caption>A data.frame: 6 × 2</caption>\n",
       "<thead>\n",
       "\t<tr><th></th><th scope=col>Variable</th><th scope=col>Importance</th></tr>\n",
       "\t<tr><th></th><th scope=col>&lt;chr&gt;</th><th scope=col>&lt;dbl&gt;</th></tr>\n",
       "</thead>\n",
       "<tbody>\n",
       "\t<tr><th scope=row>1</th><td>FMOD.exp           </td><td>0.02190663</td></tr>\n",
       "\t<tr><th scope=row>2</th><td>CDC45.exp          </td><td>0.02141404</td></tr>\n",
       "\t<tr><th scope=row>3</th><td>KRTAP5-1.exp       </td><td>0.02119171</td></tr>\n",
       "\t<tr><th scope=row>4</th><td>DMBX1.exp          </td><td>0.02043763</td></tr>\n",
       "\t<tr><th scope=row>5</th><td>ENSG00000254548.exp</td><td>0.01983531</td></tr>\n",
       "\t<tr><th scope=row>6</th><td>AMH.exp            </td><td>0.01976039</td></tr>\n",
       "</tbody>\n",
       "</table>\n"
      ],
      "text/latex": [
       "A data.frame: 6 × 2\n",
       "\\begin{tabular}{r|ll}\n",
       "  & Variable & Importance\\\\\n",
       "  & <chr> & <dbl>\\\\\n",
       "\\hline\n",
       "\t1 & FMOD.exp            & 0.02190663\\\\\n",
       "\t2 & CDC45.exp           & 0.02141404\\\\\n",
       "\t3 & KRTAP5-1.exp        & 0.02119171\\\\\n",
       "\t4 & DMBX1.exp           & 0.02043763\\\\\n",
       "\t5 & ENSG00000254548.exp & 0.01983531\\\\\n",
       "\t6 & AMH.exp             & 0.01976039\\\\\n",
       "\\end{tabular}\n"
      ],
      "text/markdown": [
       "\n",
       "A data.frame: 6 × 2\n",
       "\n",
       "| <!--/--> | Variable &lt;chr&gt; | Importance &lt;dbl&gt; |\n",
       "|---|---|---|\n",
       "| 1 | FMOD.exp            | 0.02190663 |\n",
       "| 2 | CDC45.exp           | 0.02141404 |\n",
       "| 3 | KRTAP5-1.exp        | 0.02119171 |\n",
       "| 4 | DMBX1.exp           | 0.02043763 |\n",
       "| 5 | ENSG00000254548.exp | 0.01983531 |\n",
       "| 6 | AMH.exp             | 0.01976039 |\n",
       "\n"
      ],
      "text/plain": [
       "  Variable            Importance\n",
       "1 FMOD.exp            0.02190663\n",
       "2 CDC45.exp           0.02141404\n",
       "3 KRTAP5-1.exp        0.02119171\n",
       "4 DMBX1.exp           0.02043763\n",
       "5 ENSG00000254548.exp 0.01983531\n",
       "6 AMH.exp             0.01976039"
      ]
     },
     "metadata": {},
     "output_type": "display_data"
    }
   ],
   "source": [
    "head(de.elim.results$Optimal.var)"
   ]
  },
  {
   "cell_type": "markdown",
   "id": "c9f2282e-579b-4acd-852c-3d6f236919cf",
   "metadata": {},
   "source": [
    "## Oncogenes"
   ]
  },
  {
   "cell_type": "code",
   "execution_count": 20,
   "id": "9537b77c-4bda-416e-b58c-fbaf9dae077e",
   "metadata": {},
   "outputs": [],
   "source": [
    "oncogenes.elim.results = readRDS(\"/lustre/projects/landstrom_core/data/rdata/manuscript_work/revisions/oncogenes/PRAD//Feature_elimination_res_PFI_oncogenes.rds\")"
   ]
  },
  {
   "cell_type": "code",
   "execution_count": 23,
   "id": "9df75dbc-b77d-4a26-b6a8-1e282c1df775",
   "metadata": {},
   "outputs": [
    {
     "data": {
      "text/html": [
       "<table class=\"dataframe\">\n",
       "<caption>A data.frame: 6 × 2</caption>\n",
       "<thead>\n",
       "\t<tr><th></th><th scope=col>Variable</th><th scope=col>Importance</th></tr>\n",
       "\t<tr><th></th><th scope=col>&lt;chr&gt;</th><th scope=col>&lt;dbl&gt;</th></tr>\n",
       "</thead>\n",
       "<tbody>\n",
       "\t<tr><th scope=row>1</th><td>ALOX12B.exp</td><td>0.02128862</td></tr>\n",
       "\t<tr><th scope=row>2</th><td>PRKN.exp   </td><td>0.01898065</td></tr>\n",
       "\t<tr><th scope=row>3</th><td>FLCN.exp   </td><td>0.01846306</td></tr>\n",
       "\t<tr><th scope=row>4</th><td>MYB.exp    </td><td>0.01760334</td></tr>\n",
       "\t<tr><th scope=row>5</th><td>MAPK1.exp  </td><td>0.01726460</td></tr>\n",
       "\t<tr><th scope=row>6</th><td>ATP6V1B2.cn</td><td>0.01708940</td></tr>\n",
       "</tbody>\n",
       "</table>\n"
      ],
      "text/latex": [
       "A data.frame: 6 × 2\n",
       "\\begin{tabular}{r|ll}\n",
       "  & Variable & Importance\\\\\n",
       "  & <chr> & <dbl>\\\\\n",
       "\\hline\n",
       "\t1 & ALOX12B.exp & 0.02128862\\\\\n",
       "\t2 & PRKN.exp    & 0.01898065\\\\\n",
       "\t3 & FLCN.exp    & 0.01846306\\\\\n",
       "\t4 & MYB.exp     & 0.01760334\\\\\n",
       "\t5 & MAPK1.exp   & 0.01726460\\\\\n",
       "\t6 & ATP6V1B2.cn & 0.01708940\\\\\n",
       "\\end{tabular}\n"
      ],
      "text/markdown": [
       "\n",
       "A data.frame: 6 × 2\n",
       "\n",
       "| <!--/--> | Variable &lt;chr&gt; | Importance &lt;dbl&gt; |\n",
       "|---|---|---|\n",
       "| 1 | ALOX12B.exp | 0.02128862 |\n",
       "| 2 | PRKN.exp    | 0.01898065 |\n",
       "| 3 | FLCN.exp    | 0.01846306 |\n",
       "| 4 | MYB.exp     | 0.01760334 |\n",
       "| 5 | MAPK1.exp   | 0.01726460 |\n",
       "| 6 | ATP6V1B2.cn | 0.01708940 |\n",
       "\n"
      ],
      "text/plain": [
       "  Variable    Importance\n",
       "1 ALOX12B.exp 0.02128862\n",
       "2 PRKN.exp    0.01898065\n",
       "3 FLCN.exp    0.01846306\n",
       "4 MYB.exp     0.01760334\n",
       "5 MAPK1.exp   0.01726460\n",
       "6 ATP6V1B2.cn 0.01708940"
      ]
     },
     "metadata": {},
     "output_type": "display_data"
    }
   ],
   "source": [
    "head(oncogenes.elim.results$Optimal.var)"
   ]
  },
  {
   "cell_type": "markdown",
   "id": "07eb836a-e081-4622-80ed-a2157c4419e9",
   "metadata": {},
   "source": [
    "## TGFbeta"
   ]
  },
  {
   "cell_type": "code",
   "execution_count": 24,
   "id": "dee73bb2-2901-45fc-944a-88a3dfd84186",
   "metadata": {},
   "outputs": [],
   "source": [
    "tgfbeta.elim.results = readRDS(\"/lustre/projects/landstrom_core/data/rdata/manuscript_work/revisions/tgfbeta/PRAD//Feature_elimination_res_PFI.rds\")"
   ]
  },
  {
   "cell_type": "code",
   "execution_count": 26,
   "id": "f89fbaad-e16b-4643-a536-1bc5665e955d",
   "metadata": {},
   "outputs": [
    {
     "data": {
      "text/html": [
       "<table class=\"dataframe\">\n",
       "<caption>A data.frame: 17 × 2</caption>\n",
       "<thead>\n",
       "\t<tr><th scope=col>Variable</th><th scope=col>Importance</th></tr>\n",
       "\t<tr><th scope=col>&lt;chr&gt;</th><th scope=col>&lt;dbl&gt;</th></tr>\n",
       "</thead>\n",
       "<tbody>\n",
       "\t<tr><td>KIF2C.exp  </td><td> 0.0522887796</td></tr>\n",
       "\t<tr><td>FLCN.exp   </td><td> 0.0398617795</td></tr>\n",
       "\t<tr><td>PTEN.exp   </td><td> 0.0315808193</td></tr>\n",
       "\t<tr><td>ENG.exp    </td><td> 0.0313942057</td></tr>\n",
       "\t<tr><td>GDF9.exp   </td><td> 0.0309803598</td></tr>\n",
       "\t<tr><td>TGFB1.exp  </td><td> 0.0235684475</td></tr>\n",
       "\t<tr><td>SMAD9.exp  </td><td> 0.0233721015</td></tr>\n",
       "\t<tr><td>PSEN1.exp  </td><td> 0.0226689974</td></tr>\n",
       "\t<tr><td>WFIKKN1.exp</td><td> 0.0203134480</td></tr>\n",
       "\t<tr><td>CDCA8.exp  </td><td> 0.0182926493</td></tr>\n",
       "\t<tr><td>AURKB.exp  </td><td> 0.0166860983</td></tr>\n",
       "\t<tr><td>BMPR1A.exp </td><td> 0.0133612447</td></tr>\n",
       "\t<tr><td>BIRC5.exp  </td><td> 0.0116136525</td></tr>\n",
       "\t<tr><td>KIF23.exp  </td><td> 0.0097231981</td></tr>\n",
       "\t<tr><td>USP15.exp  </td><td> 0.0074119165</td></tr>\n",
       "\t<tr><td>ITGB8.exp  </td><td> 0.0009402809</td></tr>\n",
       "\t<tr><td>ID1.exp    </td><td>-0.0066405445</td></tr>\n",
       "</tbody>\n",
       "</table>\n"
      ],
      "text/latex": [
       "A data.frame: 17 × 2\n",
       "\\begin{tabular}{ll}\n",
       " Variable & Importance\\\\\n",
       " <chr> & <dbl>\\\\\n",
       "\\hline\n",
       "\t KIF2C.exp   &  0.0522887796\\\\\n",
       "\t FLCN.exp    &  0.0398617795\\\\\n",
       "\t PTEN.exp    &  0.0315808193\\\\\n",
       "\t ENG.exp     &  0.0313942057\\\\\n",
       "\t GDF9.exp    &  0.0309803598\\\\\n",
       "\t TGFB1.exp   &  0.0235684475\\\\\n",
       "\t SMAD9.exp   &  0.0233721015\\\\\n",
       "\t PSEN1.exp   &  0.0226689974\\\\\n",
       "\t WFIKKN1.exp &  0.0203134480\\\\\n",
       "\t CDCA8.exp   &  0.0182926493\\\\\n",
       "\t AURKB.exp   &  0.0166860983\\\\\n",
       "\t BMPR1A.exp  &  0.0133612447\\\\\n",
       "\t BIRC5.exp   &  0.0116136525\\\\\n",
       "\t KIF23.exp   &  0.0097231981\\\\\n",
       "\t USP15.exp   &  0.0074119165\\\\\n",
       "\t ITGB8.exp   &  0.0009402809\\\\\n",
       "\t ID1.exp     & -0.0066405445\\\\\n",
       "\\end{tabular}\n"
      ],
      "text/markdown": [
       "\n",
       "A data.frame: 17 × 2\n",
       "\n",
       "| Variable &lt;chr&gt; | Importance &lt;dbl&gt; |\n",
       "|---|---|\n",
       "| KIF2C.exp   |  0.0522887796 |\n",
       "| FLCN.exp    |  0.0398617795 |\n",
       "| PTEN.exp    |  0.0315808193 |\n",
       "| ENG.exp     |  0.0313942057 |\n",
       "| GDF9.exp    |  0.0309803598 |\n",
       "| TGFB1.exp   |  0.0235684475 |\n",
       "| SMAD9.exp   |  0.0233721015 |\n",
       "| PSEN1.exp   |  0.0226689974 |\n",
       "| WFIKKN1.exp |  0.0203134480 |\n",
       "| CDCA8.exp   |  0.0182926493 |\n",
       "| AURKB.exp   |  0.0166860983 |\n",
       "| BMPR1A.exp  |  0.0133612447 |\n",
       "| BIRC5.exp   |  0.0116136525 |\n",
       "| KIF23.exp   |  0.0097231981 |\n",
       "| USP15.exp   |  0.0074119165 |\n",
       "| ITGB8.exp   |  0.0009402809 |\n",
       "| ID1.exp     | -0.0066405445 |\n",
       "\n"
      ],
      "text/plain": [
       "   Variable    Importance   \n",
       "1  KIF2C.exp    0.0522887796\n",
       "2  FLCN.exp     0.0398617795\n",
       "3  PTEN.exp     0.0315808193\n",
       "4  ENG.exp      0.0313942057\n",
       "5  GDF9.exp     0.0309803598\n",
       "6  TGFB1.exp    0.0235684475\n",
       "7  SMAD9.exp    0.0233721015\n",
       "8  PSEN1.exp    0.0226689974\n",
       "9  WFIKKN1.exp  0.0203134480\n",
       "10 CDCA8.exp    0.0182926493\n",
       "11 AURKB.exp    0.0166860983\n",
       "12 BMPR1A.exp   0.0133612447\n",
       "13 BIRC5.exp    0.0116136525\n",
       "14 KIF23.exp    0.0097231981\n",
       "15 USP15.exp    0.0074119165\n",
       "16 ITGB8.exp    0.0009402809\n",
       "17 ID1.exp     -0.0066405445"
      ]
     },
     "metadata": {},
     "output_type": "display_data"
    }
   ],
   "source": [
    "tgfbeta.elim.results$Optimal.var"
   ]
  },
  {
   "cell_type": "markdown",
   "id": "a49c2b85-56eb-46d5-8c1f-3c6260946521",
   "metadata": {},
   "source": [
    "## Cell cycle "
   ]
  },
  {
   "cell_type": "code",
   "execution_count": 27,
   "id": "c5ac1841-cabe-42b1-ac8e-e1e39610105c",
   "metadata": {},
   "outputs": [],
   "source": [
    "cellcycle.elim.results = readRDS(\"/lustre/projects/landstrom_core/data/rdata/manuscript_work/revisions/cellcycle/PRAD//Feature_elimination_res_PFI_cellcycle.rds\")"
   ]
  },
  {
   "cell_type": "code",
   "execution_count": 30,
   "id": "d01c28ea-3245-41ab-8ee8-ad514c74b783",
   "metadata": {},
   "outputs": [
    {
     "data": {
      "text/html": [
       "<table class=\"dataframe\">\n",
       "<caption>A data.frame: 7 × 5</caption>\n",
       "<thead>\n",
       "\t<tr><th scope=col>ntree</th><th scope=col>mtry</th><th scope=col>nodesize</th><th scope=col>num_variable</th><th scope=col>error</th></tr>\n",
       "\t<tr><th scope=col>&lt;dbl&gt;</th><th scope=col>&lt;dbl&gt;</th><th scope=col>&lt;dbl&gt;</th><th scope=col>&lt;int&gt;</th><th scope=col>&lt;dbl&gt;</th></tr>\n",
       "</thead>\n",
       "<tbody>\n",
       "\t<tr><td> 50</td><td>3</td><td>6</td><td>281</td><td>0.2991547</td></tr>\n",
       "\t<tr><td>200</td><td>5</td><td>2</td><td>224</td><td>0.3035649</td></tr>\n",
       "\t<tr><td>200</td><td>5</td><td>1</td><td>179</td><td>0.3112826</td></tr>\n",
       "\t<tr><td>200</td><td>3</td><td>4</td><td>143</td><td>0.2697538</td></tr>\n",
       "\t<tr><td>500</td><td>7</td><td>2</td><td>114</td><td>0.2833517</td></tr>\n",
       "\t<tr><td>500</td><td>7</td><td>5</td><td> 91</td><td>0.2576994</td></tr>\n",
       "\t<tr><td> 50</td><td>4</td><td>3</td><td> 72</td><td>0.2768467</td></tr>\n",
       "</tbody>\n",
       "</table>\n"
      ],
      "text/latex": [
       "A data.frame: 7 × 5\n",
       "\\begin{tabular}{lllll}\n",
       " ntree & mtry & nodesize & num\\_variable & error\\\\\n",
       " <dbl> & <dbl> & <dbl> & <int> & <dbl>\\\\\n",
       "\\hline\n",
       "\t  50 & 3 & 6 & 281 & 0.2991547\\\\\n",
       "\t 200 & 5 & 2 & 224 & 0.3035649\\\\\n",
       "\t 200 & 5 & 1 & 179 & 0.3112826\\\\\n",
       "\t 200 & 3 & 4 & 143 & 0.2697538\\\\\n",
       "\t 500 & 7 & 2 & 114 & 0.2833517\\\\\n",
       "\t 500 & 7 & 5 &  91 & 0.2576994\\\\\n",
       "\t  50 & 4 & 3 &  72 & 0.2768467\\\\\n",
       "\\end{tabular}\n"
      ],
      "text/markdown": [
       "\n",
       "A data.frame: 7 × 5\n",
       "\n",
       "| ntree &lt;dbl&gt; | mtry &lt;dbl&gt; | nodesize &lt;dbl&gt; | num_variable &lt;int&gt; | error &lt;dbl&gt; |\n",
       "|---|---|---|---|---|\n",
       "|  50 | 3 | 6 | 281 | 0.2991547 |\n",
       "| 200 | 5 | 2 | 224 | 0.3035649 |\n",
       "| 200 | 5 | 1 | 179 | 0.3112826 |\n",
       "| 200 | 3 | 4 | 143 | 0.2697538 |\n",
       "| 500 | 7 | 2 | 114 | 0.2833517 |\n",
       "| 500 | 7 | 5 |  91 | 0.2576994 |\n",
       "|  50 | 4 | 3 |  72 | 0.2768467 |\n",
       "\n"
      ],
      "text/plain": [
       "  ntree mtry nodesize num_variable error    \n",
       "1  50   3    6        281          0.2991547\n",
       "2 200   5    2        224          0.3035649\n",
       "3 200   5    1        179          0.3112826\n",
       "4 200   3    4        143          0.2697538\n",
       "5 500   7    2        114          0.2833517\n",
       "6 500   7    5         91          0.2576994\n",
       "7  50   4    3         72          0.2768467"
      ]
     },
     "metadata": {},
     "output_type": "display_data"
    }
   ],
   "source": [
    "cellcycle.elim.results$Errors"
   ]
  },
  {
   "cell_type": "code",
   "execution_count": null,
   "id": "01528ab4-9e52-4147-b473-bae95eaea84c",
   "metadata": {},
   "outputs": [],
   "source": []
  }
 ],
 "metadata": {
  "kernelspec": {
   "display_name": "R",
   "language": "R",
   "name": "ir"
  },
  "language_info": {
   "codemirror_mode": "r",
   "file_extension": ".r",
   "mimetype": "text/x-r-source",
   "name": "R",
   "pygments_lexer": "r",
   "version": "4.2.2"
  }
 },
 "nbformat": 4,
 "nbformat_minor": 5
}
