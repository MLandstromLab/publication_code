{
 "cells": [
  {
   "cell_type": "markdown",
   "id": "39d78719-da56-4628-970a-f8fc258de279",
   "metadata": {},
   "source": [
    "# PRAD model extension combined list of oncogenes, TGFBeta genes and cell cycle genes"
   ]
  },
  {
   "cell_type": "markdown",
   "id": "da1f6ad7-045a-4370-89f8-c6cb8354b877",
   "metadata": {},
   "source": [
    "Here we will experiment with adding new features based on DE genes. The DE-genes have been filtered and ranked based on feature elimination utilising RSFs."
   ]
  },
  {
   "cell_type": "code",
   "execution_count": 1,
   "id": "b786cd6d-a03d-49bb-97a9-333281f7aa48",
   "metadata": {},
   "outputs": [
    {
     "name": "stderr",
     "output_type": "stream",
     "text": [
      "── \u001b[1mAttaching core tidyverse packages\u001b[22m ──────────────────────── tidyverse 2.0.0 ──\n",
      "\u001b[32m✔\u001b[39m \u001b[34mdplyr    \u001b[39m 1.1.3     \u001b[32m✔\u001b[39m \u001b[34mreadr    \u001b[39m 2.1.4\n",
      "\u001b[32m✔\u001b[39m \u001b[34mforcats  \u001b[39m 1.0.0     \u001b[32m✔\u001b[39m \u001b[34mstringr  \u001b[39m 1.5.0\n",
      "\u001b[32m✔\u001b[39m \u001b[34mggplot2  \u001b[39m 3.5.1     \u001b[32m✔\u001b[39m \u001b[34mtibble   \u001b[39m 3.2.1\n",
      "\u001b[32m✔\u001b[39m \u001b[34mlubridate\u001b[39m 1.9.2     \u001b[32m✔\u001b[39m \u001b[34mtidyr    \u001b[39m 1.2.1\n",
      "\u001b[32m✔\u001b[39m \u001b[34mpurrr    \u001b[39m 1.0.2     \n",
      "── \u001b[1mConflicts\u001b[22m ────────────────────────────────────────── tidyverse_conflicts() ──\n",
      "\u001b[31m✖\u001b[39m \u001b[34mdplyr\u001b[39m::\u001b[32mfilter()\u001b[39m masks \u001b[34mstats\u001b[39m::filter()\n",
      "\u001b[31m✖\u001b[39m \u001b[34mdplyr\u001b[39m::\u001b[32mlag()\u001b[39m    masks \u001b[34mstats\u001b[39m::lag()\n",
      "\u001b[36mℹ\u001b[39m Use the conflicted package (\u001b[3m\u001b[34m<http://conflicted.r-lib.org/>\u001b[39m\u001b[23m) to force all conflicts to become errors\n",
      "Loading required package: ggpubr\n",
      "\n",
      "\n",
      "Attaching package: ‘survminer’\n",
      "\n",
      "\n",
      "The following object is masked from ‘package:survival’:\n",
      "\n",
      "    myeloma\n",
      "\n",
      "\n",
      "Loading required package: Matrix\n",
      "\n",
      "\n",
      "Attaching package: ‘Matrix’\n",
      "\n",
      "\n",
      "The following objects are masked from ‘package:tidyr’:\n",
      "\n",
      "    expand, pack, unpack\n",
      "\n",
      "\n",
      "Loaded glmnet 4.1-8\n",
      "\n",
      "========================================\n",
      "circlize version 0.4.15\n",
      "CRAN page: https://cran.r-project.org/package=circlize\n",
      "Github page: https://github.com/jokergoo/circlize\n",
      "Documentation: https://jokergoo.github.io/circlize_book/book/\n",
      "\n",
      "If you use it in published research, please cite:\n",
      "Gu, Z. circlize implements and enhances circular visualization\n",
      "  in R. Bioinformatics 2014.\n",
      "\n",
      "This message can be suppressed by:\n",
      "  suppressPackageStartupMessages(library(circlize))\n",
      "========================================\n",
      "\n",
      "\n",
      "Loading required package: grid\n",
      "\n",
      "========================================\n",
      "ComplexHeatmap version 2.14.0\n",
      "Bioconductor page: http://bioconductor.org/packages/ComplexHeatmap/\n",
      "Github page: https://github.com/jokergoo/ComplexHeatmap\n",
      "Documentation: http://jokergoo.github.io/ComplexHeatmap-reference\n",
      "\n",
      "If you use it in published research, please cite either one:\n",
      "- Gu, Z. Complex Heatmap Visualization. iMeta 2022.\n",
      "- Gu, Z. Complex heatmaps reveal patterns and correlations in multidimensional \n",
      "    genomic data. Bioinformatics 2016.\n",
      "\n",
      "\n",
      "The new InteractiveComplexHeatmap package can directly export static \n",
      "complex heatmaps into an interactive Shiny app with zero effort. Have a try!\n",
      "\n",
      "This message can be suppressed by:\n",
      "  suppressPackageStartupMessages(library(ComplexHeatmap))\n",
      "========================================\n",
      "\n",
      "\n",
      "Loading required package: prodlim\n",
      "\n",
      "Loading required package: S4Vectors\n",
      "\n",
      "Loading required package: stats4\n",
      "\n",
      "Loading required package: BiocGenerics\n",
      "\n",
      "\n",
      "Attaching package: ‘BiocGenerics’\n",
      "\n",
      "\n",
      "The following objects are masked from ‘package:lubridate’:\n",
      "\n",
      "    intersect, setdiff, union\n",
      "\n",
      "\n",
      "The following objects are masked from ‘package:dplyr’:\n",
      "\n",
      "    combine, intersect, setdiff, union\n",
      "\n",
      "\n",
      "The following objects are masked from ‘package:stats’:\n",
      "\n",
      "    IQR, mad, sd, var, xtabs\n",
      "\n",
      "\n",
      "The following objects are masked from ‘package:base’:\n",
      "\n",
      "    anyDuplicated, aperm, append, as.data.frame, basename, cbind,\n",
      "    colnames, dirname, do.call, duplicated, eval, evalq, Filter, Find,\n",
      "    get, grep, grepl, intersect, is.unsorted, lapply, Map, mapply,\n",
      "    match, mget, order, paste, pmax, pmax.int, pmin, pmin.int,\n",
      "    Position, rank, rbind, Reduce, rownames, sapply, setdiff, sort,\n",
      "    table, tapply, union, unique, unsplit, which.max, which.min\n",
      "\n",
      "\n",
      "\n",
      "Attaching package: ‘S4Vectors’\n",
      "\n",
      "\n",
      "The following objects are masked from ‘package:Matrix’:\n",
      "\n",
      "    expand, unname\n",
      "\n",
      "\n",
      "The following objects are masked from ‘package:lubridate’:\n",
      "\n",
      "    second, second<-\n",
      "\n",
      "\n",
      "The following objects are masked from ‘package:dplyr’:\n",
      "\n",
      "    first, rename\n",
      "\n",
      "\n",
      "The following object is masked from ‘package:tidyr’:\n",
      "\n",
      "    expand\n",
      "\n",
      "\n",
      "The following objects are masked from ‘package:base’:\n",
      "\n",
      "    expand.grid, I, unname\n",
      "\n",
      "\n",
      "Loading required package: IRanges\n",
      "\n",
      "\n",
      "Attaching package: ‘IRanges’\n",
      "\n",
      "\n",
      "The following object is masked from ‘package:lubridate’:\n",
      "\n",
      "    %within%\n",
      "\n",
      "\n",
      "The following objects are masked from ‘package:dplyr’:\n",
      "\n",
      "    collapse, desc, slice\n",
      "\n",
      "\n",
      "The following object is masked from ‘package:purrr’:\n",
      "\n",
      "    reduce\n",
      "\n",
      "\n",
      "Loading required package: GenomicRanges\n",
      "\n",
      "Loading required package: GenomeInfoDb\n",
      "\n",
      "Loading required package: SummarizedExperiment\n",
      "\n",
      "Loading required package: MatrixGenerics\n",
      "\n",
      "Loading required package: matrixStats\n",
      "\n",
      "\n",
      "Attaching package: ‘matrixStats’\n",
      "\n",
      "\n",
      "The following object is masked from ‘package:dplyr’:\n",
      "\n",
      "    count\n",
      "\n",
      "\n",
      "\n",
      "Attaching package: ‘MatrixGenerics’\n",
      "\n",
      "\n",
      "The following objects are masked from ‘package:matrixStats’:\n",
      "\n",
      "    colAlls, colAnyNAs, colAnys, colAvgsPerRowSet, colCollapse,\n",
      "    colCounts, colCummaxs, colCummins, colCumprods, colCumsums,\n",
      "    colDiffs, colIQRDiffs, colIQRs, colLogSumExps, colMadDiffs,\n",
      "    colMads, colMaxs, colMeans2, colMedians, colMins, colOrderStats,\n",
      "    colProds, colQuantiles, colRanges, colRanks, colSdDiffs, colSds,\n",
      "    colSums2, colTabulates, colVarDiffs, colVars, colWeightedMads,\n",
      "    colWeightedMeans, colWeightedMedians, colWeightedSds,\n",
      "    colWeightedVars, rowAlls, rowAnyNAs, rowAnys, rowAvgsPerColSet,\n",
      "    rowCollapse, rowCounts, rowCummaxs, rowCummins, rowCumprods,\n",
      "    rowCumsums, rowDiffs, rowIQRDiffs, rowIQRs, rowLogSumExps,\n",
      "    rowMadDiffs, rowMads, rowMaxs, rowMeans2, rowMedians, rowMins,\n",
      "    rowOrderStats, rowProds, rowQuantiles, rowRanges, rowRanks,\n",
      "    rowSdDiffs, rowSds, rowSums2, rowTabulates, rowVarDiffs, rowVars,\n",
      "    rowWeightedMads, rowWeightedMeans, rowWeightedMedians,\n",
      "    rowWeightedSds, rowWeightedVars\n",
      "\n",
      "\n",
      "Loading required package: Biobase\n",
      "\n",
      "Welcome to Bioconductor\n",
      "\n",
      "    Vignettes contain introductory material; view with\n",
      "    'browseVignettes()'. To cite Bioconductor, see\n",
      "    'citation(\"Biobase\")', and for packages 'citation(\"pkgname\")'.\n",
      "\n",
      "\n",
      "\n",
      "Attaching package: ‘Biobase’\n",
      "\n",
      "\n",
      "The following object is masked from ‘package:MatrixGenerics’:\n",
      "\n",
      "    rowMedians\n",
      "\n",
      "\n",
      "The following objects are masked from ‘package:matrixStats’:\n",
      "\n",
      "    anyMissing, rowMedians\n",
      "\n",
      "\n"
     ]
    }
   ],
   "source": [
    "library(tidyverse)\n",
    "library(survival)\n",
    "library(survminer)\n",
    "library(glmnet)\n",
    "library(WriteXLS)\n",
    "library(ggfortify)\n",
    "library(circlize)\n",
    "library(ComplexHeatmap)\n",
    "library(parallel)\n",
    "library(broom)\n",
    "library(survcomp)\n",
    "library(survivalROC)\n",
    "library(gtsummary)\n",
    "source(\"../getTCGAData.R\")\n",
    "source(\"../preprocessTCGAData.R\")\n",
    "source(\"../KM_analysis.R\")\n",
    "source(\"../Heatmaps.R\")\n",
    "source(\"../enet.R\")\n",
    "library(\"readxl\")"
   ]
  },
  {
   "cell_type": "markdown",
   "id": "4a4fe6ef-c984-4838-8723-743af4131a6e",
   "metadata": {},
   "source": [
    "## Functions "
   ]
  },
  {
   "cell_type": "code",
   "execution_count": 2,
   "id": "76e1c813-5b39-4b26-ad48-f312ad6b0745",
   "metadata": {},
   "outputs": [],
   "source": [
    "#\n",
    "#\n",
    "#\n",
    "# Helper function for fixing variable names \n",
    "fixVarNames = function(x){\n",
    "    print(x[1])\n",
    "    if (str_detect(x, \"Gender.clin\")) {\n",
    "        return(\"Gender\")\n",
    "    } else if (str_detect(x, \"Tumor.stage.clin\")){\n",
    "        return(\"Tumor.stage\")\n",
    "    } else if (str_detect(x,\".cn\")){\n",
    "        return(str_extract(x, \"\\\\w+.cn\"))\n",
    "    } else if (str_detect(x, \"Gleason.group.clin\")){ \n",
    "        return(\"Gleason.group.clin\")\n",
    "    } else {\n",
    "        return(x)\n",
    "    }\n",
    "}\n",
    "\n",
    "\n",
    "# \n",
    "# Function fits a cox regression model\n",
    "# \n",
    "fitCoxModel = function(data, end.point, features){\n",
    "    \n",
    "    # Expand to variable name\n",
    "    end_point_time = paste0(end.point, \".time.clin\")\n",
    "    end_point_event = paste0(end.point, \".clin\")\n",
    "\n",
    "    # Generate a survival formula object \n",
    "    survExpression = paste0(\"Surv(\", end_point_time, \", \" , end_point_event, \")\")\n",
    "    f <- as.formula(paste(survExpression, paste(features, collapse = \" + \"), sep = \" ~ \"))\n",
    "    \n",
    "    model.fit = coxph(f, data = data)\n",
    "    return(model.fit)\n",
    "}"
   ]
  },
  {
   "cell_type": "markdown",
   "id": "53f4200f-cc88-4278-a121-8107e50e9f6a",
   "metadata": {},
   "source": [
    "## Load processed data"
   ]
  },
  {
   "cell_type": "code",
   "execution_count": 3,
   "id": "62b44416-9fe8-4f2a-b7e4-dbdf48d62677",
   "metadata": {},
   "outputs": [],
   "source": [
    "tcga.dataset.merged = readRDS(\"/lustre/projects/landstrom_core/data/rdata_revised/manuscript_work//PRAD//tcga.dataset_merged.rds\")"
   ]
  },
  {
   "cell_type": "markdown",
   "id": "39c8dbb3-ada5-4444-9a8b-14bab03cceb4",
   "metadata": {},
   "source": [
    "Convert - to _"
   ]
  },
  {
   "cell_type": "code",
   "execution_count": 4,
   "id": "c1cc00ab-51cb-4346-9b6f-3a706b51bdf5",
   "metadata": {},
   "outputs": [],
   "source": [
    "colnames(tcga.dataset.merged$PFI$train) = str_replace(colnames(tcga.dataset.merged$PFI$train), \"-\", \"_\")\n",
    "colnames(tcga.dataset.merged$PFI$validation) =  str_replace(colnames(tcga.dataset.merged$PFI$validation), \"-\", \"_\")"
   ]
  },
  {
   "cell_type": "markdown",
   "id": "a4c82c84-e3b9-4551-8e5e-c6eefb0f8220",
   "metadata": {},
   "source": [
    "## Load original model and extracting features"
   ]
  },
  {
   "cell_type": "code",
   "execution_count": 5,
   "id": "d03a854d-d9cb-4450-b7f9-5b39ddeff4f4",
   "metadata": {},
   "outputs": [
    {
     "name": "stderr",
     "output_type": "stream",
     "text": [
      "\u001b[1m\u001b[22mNew names:\n",
      "\u001b[36m•\u001b[39m `` -> `...1`\n"
     ]
    }
   ],
   "source": [
    "# Loading original features \n",
    "original.model.features = read_excel(\"/lustre/projects/landstrom_core/results/prognostic_model_development_revised/models_by_cancer_type/PRAD/Penalized_Cox_risk_prediction/customer_features/With_clinical_features/PFI/Active_covariates_in_lambda.min_model.xlsx\")"
   ]
  },
  {
   "cell_type": "code",
   "execution_count": 6,
   "id": "85db25ab-6bbf-4a56-832c-2863ef72f13d",
   "metadata": {},
   "outputs": [
    {
     "data": {
      "text/html": [
       "<table class=\"dataframe\">\n",
       "<caption>A tibble: 8 × 3</caption>\n",
       "<thead>\n",
       "\t<tr><th scope=col>...1</th><th scope=col>coef</th><th scope=col>HR</th></tr>\n",
       "\t<tr><th scope=col>&lt;chr&gt;</th><th scope=col>&lt;dbl&gt;</th><th scope=col>&lt;dbl&gt;</th></tr>\n",
       "</thead>\n",
       "<tbody>\n",
       "\t<tr><td>Age.clin                         </td><td> 2.777648e-06</td><td>1.0000028</td></tr>\n",
       "\t<tr><td>Gleason.group.clinGleason_group_2</td><td> 9.138624e-01</td><td>2.4939365</td></tr>\n",
       "\t<tr><td>KIF23.exp                        </td><td> 3.846910e-01</td><td>1.4691603</td></tr>\n",
       "\t<tr><td>PTEN.exp                         </td><td>-4.741249e-01</td><td>0.6224295</td></tr>\n",
       "\t<tr><td>VPS4B.exp                        </td><td>-2.241524e-01</td><td>0.7991933</td></tr>\n",
       "\t<tr><td>AURKA.exp                        </td><td>-4.645377e-01</td><td>0.6284256</td></tr>\n",
       "\t<tr><td>AURKB.exp                        </td><td> 4.394660e-01</td><td>1.5518783</td></tr>\n",
       "\t<tr><td>TP53.cn-1                        </td><td> 7.668698e-02</td><td>1.0797041</td></tr>\n",
       "</tbody>\n",
       "</table>\n"
      ],
      "text/latex": [
       "A tibble: 8 × 3\n",
       "\\begin{tabular}{lll}\n",
       " ...1 & coef & HR\\\\\n",
       " <chr> & <dbl> & <dbl>\\\\\n",
       "\\hline\n",
       "\t Age.clin                          &  2.777648e-06 & 1.0000028\\\\\n",
       "\t Gleason.group.clinGleason\\_group\\_2 &  9.138624e-01 & 2.4939365\\\\\n",
       "\t KIF23.exp                         &  3.846910e-01 & 1.4691603\\\\\n",
       "\t PTEN.exp                          & -4.741249e-01 & 0.6224295\\\\\n",
       "\t VPS4B.exp                         & -2.241524e-01 & 0.7991933\\\\\n",
       "\t AURKA.exp                         & -4.645377e-01 & 0.6284256\\\\\n",
       "\t AURKB.exp                         &  4.394660e-01 & 1.5518783\\\\\n",
       "\t TP53.cn-1                         &  7.668698e-02 & 1.0797041\\\\\n",
       "\\end{tabular}\n"
      ],
      "text/markdown": [
       "\n",
       "A tibble: 8 × 3\n",
       "\n",
       "| ...1 &lt;chr&gt; | coef &lt;dbl&gt; | HR &lt;dbl&gt; |\n",
       "|---|---|---|\n",
       "| Age.clin                          |  2.777648e-06 | 1.0000028 |\n",
       "| Gleason.group.clinGleason_group_2 |  9.138624e-01 | 2.4939365 |\n",
       "| KIF23.exp                         |  3.846910e-01 | 1.4691603 |\n",
       "| PTEN.exp                          | -4.741249e-01 | 0.6224295 |\n",
       "| VPS4B.exp                         | -2.241524e-01 | 0.7991933 |\n",
       "| AURKA.exp                         | -4.645377e-01 | 0.6284256 |\n",
       "| AURKB.exp                         |  4.394660e-01 | 1.5518783 |\n",
       "| TP53.cn-1                         |  7.668698e-02 | 1.0797041 |\n",
       "\n"
      ],
      "text/plain": [
       "  ...1                              coef          HR       \n",
       "1 Age.clin                           2.777648e-06 1.0000028\n",
       "2 Gleason.group.clinGleason_group_2  9.138624e-01 2.4939365\n",
       "3 KIF23.exp                          3.846910e-01 1.4691603\n",
       "4 PTEN.exp                          -4.741249e-01 0.6224295\n",
       "5 VPS4B.exp                         -2.241524e-01 0.7991933\n",
       "6 AURKA.exp                         -4.645377e-01 0.6284256\n",
       "7 AURKB.exp                          4.394660e-01 1.5518783\n",
       "8 TP53.cn-1                          7.668698e-02 1.0797041"
      ]
     },
     "metadata": {},
     "output_type": "display_data"
    }
   ],
   "source": [
    "original.model.features"
   ]
  },
  {
   "cell_type": "code",
   "execution_count": 7,
   "id": "2d9a1e6f-05cf-4e99-b459-c59d1036863e",
   "metadata": {},
   "outputs": [
    {
     "name": "stdout",
     "output_type": "stream",
     "text": [
      "[1] \"Age.clin\"\n",
      "[1] \"Gleason.group.clinGleason_group_2\"\n",
      "[1] \"KIF23.exp\"\n",
      "[1] \"PTEN.exp\"\n",
      "[1] \"VPS4B.exp\"\n",
      "[1] \"AURKA.exp\"\n",
      "[1] \"AURKB.exp\"\n",
      "[1] \"TP53.cn-1\"\n"
     ]
    }
   ],
   "source": [
    "# Feature names to be selected \n",
    "selected.features = map_chr(unlist(original.model.features[,1]), fixVarNames) %>% as.vector()"
   ]
  },
  {
   "cell_type": "markdown",
   "id": "1f94f68d-876f-4180-8db9-bd572dffb718",
   "metadata": {},
   "source": [
    "## Refitting the original model using standard cox-regression"
   ]
  },
  {
   "cell_type": "code",
   "execution_count": 8,
   "id": "922b81d1-76a5-4d40-978c-db41f1173090",
   "metadata": {},
   "outputs": [],
   "source": [
    "# Construct the clinical end points \n",
    "end_point_event = paste0(\"PFI\", \".clin\")\n",
    "end_point_time = paste0(\"PFI\", \".time.clin\")\n",
    "    \n",
    "selected.columns = c(end_point_event, end_point_time, selected.features)"
   ]
  },
  {
   "cell_type": "code",
   "execution_count": 9,
   "id": "33050c3d-b6c0-4069-bfb0-83f05298367d",
   "metadata": {},
   "outputs": [],
   "source": [
    "# Input data for cox-model \n",
    "input.training = tcga.dataset.merged[[\"PFI\"]]$train %>% dplyr::select(all_of(selected.columns))\n",
    "\n",
    "# Fit the cox-model \n",
    "pcox.ref.fit.pfi.original = fitCoxModel(input.training, \"PFI\", selected.features)\n",
    "\n",
    "# Predict the risk scores for validation data \n",
    "rel.risk = predict(object = pcox.ref.fit.pfi.original, \n",
    "                   newdata = tcga.dataset.merged$PFI$validation[,selected.features], \n",
    "                   type = \"risk\")\n",
    "\n",
    "#\n",
    "# Evaluate \n",
    "#\n",
    "\n",
    "# Stratify validation data into two groups based on the fitted relative risk\n",
    "y.data <- tcga.dataset.merged$PFI$validation[paste0(\"PFI\", c(\".clin\",\".time.clin\"))]\n",
    "colnames(y.data) = c(\"status\",\"time\")\n",
    "\n",
    "# TEST new function for calculating the C-index\n",
    "cindex.ref.valid = concordance.index(rel.risk, \n",
    "                                        y.data$time, \n",
    "                                        y.data$status,\n",
    "                                        na.rm = TRUE)\n",
    "\n",
    "# Plot KM and extract the p-value  \n",
    "KM.valid.ref.by.risk = plotKMbyRelativeRisk(data = y.data, \n",
    "                                                     rel.risk = rel.risk)"
   ]
  },
  {
   "cell_type": "code",
   "execution_count": 10,
   "id": "36160c28-e4e5-467c-ac59-516a34d447fd",
   "metadata": {},
   "outputs": [],
   "source": [
    "# Modify the labels \n",
    "\n",
    "colnames(tcga.dataset.merged[[\"PFI\"]]$train) = str_replace(colnames(tcga.dataset.merged[[\"PFI\"]]$train), \"-\", \"_\")\n",
    "colnames(tcga.dataset.merged[[\"PFI\"]]$validation) = str_replace(colnames(tcga.dataset.merged[[\"PFI\"]]$validation), \"-\", \"_\")"
   ]
  },
  {
   "cell_type": "markdown",
   "id": "2985ef20-35f8-48f6-9bd2-604e8ae6c7f5",
   "metadata": {},
   "source": [
    "## Load the feature elimination results"
   ]
  },
  {
   "cell_type": "code",
   "execution_count": 11,
   "id": "8a3eadf8-18aa-46d1-8ede-f37e039101a5",
   "metadata": {},
   "outputs": [],
   "source": [
    "feature.elim.res = readRDS(\"/lustre/projects/landstrom_core/data/rdata/manuscript_work/revisions/combined_list/PRAD/Feature_elimination_res_PFI_oncogenes.rds\")"
   ]
  },
  {
   "cell_type": "code",
   "execution_count": 22,
   "id": "8cfa2ae9-56ad-461b-95fe-64a048ee2d58",
   "metadata": {},
   "outputs": [
    {
     "data": {
      "text/html": [
       "<table class=\"dataframe\">\n",
       "<caption>A data.frame: 17 × 5</caption>\n",
       "<thead>\n",
       "\t<tr><th scope=col>ntree</th><th scope=col>mtry</th><th scope=col>nodesize</th><th scope=col>num_variable</th><th scope=col>error</th></tr>\n",
       "\t<tr><th scope=col>&lt;dbl&gt;</th><th scope=col>&lt;dbl&gt;</th><th scope=col>&lt;dbl&gt;</th><th scope=col>&lt;int&gt;</th><th scope=col>&lt;dbl&gt;</th></tr>\n",
       "</thead>\n",
       "<tbody>\n",
       "\t<tr><td> 500</td><td>2</td><td>9</td><td>538</td><td>0.2746049</td></tr>\n",
       "\t<tr><td>  50</td><td>2</td><td>8</td><td>430</td><td>0.2726204</td></tr>\n",
       "\t<tr><td> 100</td><td>1</td><td>3</td><td>344</td><td>0.2932745</td></tr>\n",
       "\t<tr><td> 200</td><td>1</td><td>9</td><td>275</td><td>0.2712238</td></tr>\n",
       "\t<tr><td> 200</td><td>1</td><td>3</td><td>220</td><td>0.2543183</td></tr>\n",
       "\t<tr><td>1000</td><td>1</td><td>5</td><td>176</td><td>0.2588019</td></tr>\n",
       "\t<tr><td> 100</td><td>2</td><td>2</td><td>140</td><td>0.2345829</td></tr>\n",
       "\t<tr><td>1000</td><td>1</td><td>6</td><td>112</td><td>0.2338846</td></tr>\n",
       "\t<tr><td> 500</td><td>1</td><td>6</td><td> 89</td><td>0.2321940</td></tr>\n",
       "\t<tr><td> 200</td><td>4</td><td>3</td><td> 71</td><td>0.2518927</td></tr>\n",
       "\t<tr><td> 500</td><td>2</td><td>4</td><td> 56</td><td>0.2258728</td></tr>\n",
       "\t<tr><td>1000</td><td>3</td><td>2</td><td> 44</td><td>0.2291069</td></tr>\n",
       "\t<tr><td> 100</td><td>4</td><td>9</td><td> 35</td><td>0.2221977</td></tr>\n",
       "\t<tr><td> 500</td><td>3</td><td>1</td><td> 28</td><td>0.2210217</td></tr>\n",
       "\t<tr><td>1000</td><td>2</td><td>3</td><td> 22</td><td>0.2105843</td></tr>\n",
       "\t<tr><td>  50</td><td>3</td><td>1</td><td> 17</td><td>0.2392870</td></tr>\n",
       "\t<tr><td>  50</td><td>1</td><td>7</td><td> 13</td><td>0.2075707</td></tr>\n",
       "</tbody>\n",
       "</table>\n"
      ],
      "text/latex": [
       "A data.frame: 17 × 5\n",
       "\\begin{tabular}{lllll}\n",
       " ntree & mtry & nodesize & num\\_variable & error\\\\\n",
       " <dbl> & <dbl> & <dbl> & <int> & <dbl>\\\\\n",
       "\\hline\n",
       "\t  500 & 2 & 9 & 538 & 0.2746049\\\\\n",
       "\t   50 & 2 & 8 & 430 & 0.2726204\\\\\n",
       "\t  100 & 1 & 3 & 344 & 0.2932745\\\\\n",
       "\t  200 & 1 & 9 & 275 & 0.2712238\\\\\n",
       "\t  200 & 1 & 3 & 220 & 0.2543183\\\\\n",
       "\t 1000 & 1 & 5 & 176 & 0.2588019\\\\\n",
       "\t  100 & 2 & 2 & 140 & 0.2345829\\\\\n",
       "\t 1000 & 1 & 6 & 112 & 0.2338846\\\\\n",
       "\t  500 & 1 & 6 &  89 & 0.2321940\\\\\n",
       "\t  200 & 4 & 3 &  71 & 0.2518927\\\\\n",
       "\t  500 & 2 & 4 &  56 & 0.2258728\\\\\n",
       "\t 1000 & 3 & 2 &  44 & 0.2291069\\\\\n",
       "\t  100 & 4 & 9 &  35 & 0.2221977\\\\\n",
       "\t  500 & 3 & 1 &  28 & 0.2210217\\\\\n",
       "\t 1000 & 2 & 3 &  22 & 0.2105843\\\\\n",
       "\t   50 & 3 & 1 &  17 & 0.2392870\\\\\n",
       "\t   50 & 1 & 7 &  13 & 0.2075707\\\\\n",
       "\\end{tabular}\n"
      ],
      "text/markdown": [
       "\n",
       "A data.frame: 17 × 5\n",
       "\n",
       "| ntree &lt;dbl&gt; | mtry &lt;dbl&gt; | nodesize &lt;dbl&gt; | num_variable &lt;int&gt; | error &lt;dbl&gt; |\n",
       "|---|---|---|---|---|\n",
       "|  500 | 2 | 9 | 538 | 0.2746049 |\n",
       "|   50 | 2 | 8 | 430 | 0.2726204 |\n",
       "|  100 | 1 | 3 | 344 | 0.2932745 |\n",
       "|  200 | 1 | 9 | 275 | 0.2712238 |\n",
       "|  200 | 1 | 3 | 220 | 0.2543183 |\n",
       "| 1000 | 1 | 5 | 176 | 0.2588019 |\n",
       "|  100 | 2 | 2 | 140 | 0.2345829 |\n",
       "| 1000 | 1 | 6 | 112 | 0.2338846 |\n",
       "|  500 | 1 | 6 |  89 | 0.2321940 |\n",
       "|  200 | 4 | 3 |  71 | 0.2518927 |\n",
       "|  500 | 2 | 4 |  56 | 0.2258728 |\n",
       "| 1000 | 3 | 2 |  44 | 0.2291069 |\n",
       "|  100 | 4 | 9 |  35 | 0.2221977 |\n",
       "|  500 | 3 | 1 |  28 | 0.2210217 |\n",
       "| 1000 | 2 | 3 |  22 | 0.2105843 |\n",
       "|   50 | 3 | 1 |  17 | 0.2392870 |\n",
       "|   50 | 1 | 7 |  13 | 0.2075707 |\n",
       "\n"
      ],
      "text/plain": [
       "   ntree mtry nodesize num_variable error    \n",
       "1   500  2    9        538          0.2746049\n",
       "2    50  2    8        430          0.2726204\n",
       "3   100  1    3        344          0.2932745\n",
       "4   200  1    9        275          0.2712238\n",
       "5   200  1    3        220          0.2543183\n",
       "6  1000  1    5        176          0.2588019\n",
       "7   100  2    2        140          0.2345829\n",
       "8  1000  1    6        112          0.2338846\n",
       "9   500  1    6         89          0.2321940\n",
       "10  200  4    3         71          0.2518927\n",
       "11  500  2    4         56          0.2258728\n",
       "12 1000  3    2         44          0.2291069\n",
       "13  100  4    9         35          0.2221977\n",
       "14  500  3    1         28          0.2210217\n",
       "15 1000  2    3         22          0.2105843\n",
       "16   50  3    1         17          0.2392870\n",
       "17   50  1    7         13          0.2075707"
      ]
     },
     "metadata": {},
     "output_type": "display_data"
    }
   ],
   "source": [
    "feature.elim.res$Errors"
   ]
  },
  {
   "cell_type": "code",
   "execution_count": 12,
   "id": "b9c3c87c-2f5e-48bd-930d-31c16004ebf9",
   "metadata": {},
   "outputs": [
    {
     "data": {
      "text/html": [
       "17"
      ],
      "text/latex": [
       "17"
      ],
      "text/markdown": [
       "17"
      ],
      "text/plain": [
       "[1] 17"
      ]
     },
     "metadata": {},
     "output_type": "display_data"
    }
   ],
   "source": [
    "length(feature.elim.res$Features)"
   ]
  },
  {
   "cell_type": "code",
   "execution_count": 14,
   "id": "3faafcc9-60fa-4306-893b-d3576e0c0007",
   "metadata": {},
   "outputs": [],
   "source": [
    "genes.to.add = feature.elim.res$Optimal.var$Variable\n",
    "genes.to.add = str_replace(genes.to.add, \"-\", \"_\")"
   ]
  },
  {
   "cell_type": "code",
   "execution_count": 15,
   "id": "9501d855-1124-4d5f-aeb0-b5b2ae53f4f0",
   "metadata": {},
   "outputs": [],
   "source": [
    "# Store results \n",
    "step.wise.results = matrix(nrow = 0, ncol = 2) %>% as.data.frame() \n",
    "colnames(step.wise.results) = c(\"KM.pvalue\",\"C.index\")"
   ]
  },
  {
   "cell_type": "code",
   "execution_count": 16,
   "id": "ce95671a-a3f6-49b8-908b-d345f6c9a86b",
   "metadata": {},
   "outputs": [],
   "source": [
    "step.wise.results = as.data.frame(lapply(step.wise.results, as.numeric))"
   ]
  },
  {
   "cell_type": "code",
   "execution_count": 17,
   "id": "c4dc199f-19c3-4ae1-bf36-1da3200571ca",
   "metadata": {},
   "outputs": [],
   "source": [
    "selected.columns.stepwise = selected.columns"
   ]
  },
  {
   "cell_type": "code",
   "execution_count": 19,
   "id": "51d1a853-0163-415f-82ec-aa57ed0a674f",
   "metadata": {},
   "outputs": [],
   "source": [
    "for (i in 1:length(genes.to.add)){\n",
    "    new.feature = genes.to.add[i]\n",
    "    \n",
    "    # Test adding one gene\n",
    "    selected.columns.stepwise = c(selected.columns.stepwise, new.feature)\n",
    "    \n",
    "    # Input data for cox-model \n",
    "    input.training = tcga.dataset.merged[[\"PFI\"]]$train[,colnames(tcga.dataset.merged[[\"PFI\"]]$train) %in% selected.columns.stepwise]\n",
    "\n",
    "    # The features \n",
    "    selected.features.stepwise = selected.columns.stepwise[-c(1,2)]\n",
    "    \n",
    "    # Fit the cox-model \n",
    "    pcox.ref.fit.pfi = fitCoxModel(input.training, \"PFI\", selected.features.stepwise)\n",
    "\n",
    "    # Predict the risk scores for validation data \n",
    "    rel.risk = predict(object = pcox.ref.fit.pfi , \n",
    "                   newdata = tcga.dataset.merged$PFI$validation[,selected.features.stepwise], \n",
    "                   type = \"risk\")\n",
    "\n",
    "    #\n",
    "    # Evaluate \n",
    "    #\n",
    "\n",
    "    # Stratify validation data into two groups based on the fitted relative risk\n",
    "    y.data <- tcga.dataset.merged$PFI$validation[paste0(\"PFI\", c(\".clin\",\".time.clin\"))]\n",
    "    colnames(y.data) = c(\"status\",\"time\")\n",
    "\n",
    "    # TEST new function for calculating the C-index\n",
    "    cindex.ref.valid = concordance.index(rel.risk, \n",
    "                                        y.data$time, \n",
    "                                        y.data$status,\n",
    "                                        na.rm = TRUE)\n",
    "\n",
    "    # Plot KM and extract the p-value  \n",
    "    KM.valid.ref.by.risk = plotKMbyRelativeRisk(data = y.data, \n",
    "                                                     rel.risk = rel.risk)\n",
    "    \n",
    "    \n",
    "    res = data.frame(KM.pvalue = KM.valid.ref.by.risk$table$Pvalue.pval,\n",
    "                     C.index = cindex.ref.valid$c.index,\n",
    "                     \"C-index CI\" = paste0(\"(\", round(cindex.ref.valid$lower, 4), \" - \",  \n",
    "                                                round(cindex.ref.valid$upper, 4), \")\")\n",
    "                     )\n",
    "    \n",
    "    step.wise.results = rbind(step.wise.results, res)\n",
    "    \n",
    "    #print(cindex.ref.valid$c.index)\n",
    "    #print(KM.valid.ref.by.risk$table)\n",
    "    \n",
    "}"
   ]
  },
  {
   "cell_type": "markdown",
   "id": "87d23065-61a0-4787-a90f-629606ce544d",
   "metadata": {},
   "source": [
    "Find the minimal p-value and the corresponding C-index"
   ]
  },
  {
   "cell_type": "code",
   "execution_count": 21,
   "id": "737c281b-ab19-4487-a8b7-095e5c78e09f",
   "metadata": {},
   "outputs": [
    {
     "data": {
      "text/html": [
       "<table class=\"dataframe\">\n",
       "<caption>A data.frame: 13 × 3</caption>\n",
       "<thead>\n",
       "\t<tr><th scope=col>KM.pvalue</th><th scope=col>C.index</th><th scope=col>C.index.CI</th></tr>\n",
       "\t<tr><th scope=col>&lt;dbl&gt;</th><th scope=col>&lt;dbl&gt;</th><th scope=col>&lt;chr&gt;</th></tr>\n",
       "</thead>\n",
       "<tbody>\n",
       "\t<tr><td>0.03276572</td><td>0.6086270</td><td>(0.3708 - 0.8041)</td></tr>\n",
       "\t<tr><td>0.04265400</td><td>0.6170437</td><td>(0.3782 - 0.8102)</td></tr>\n",
       "\t<tr><td>0.29508967</td><td>0.5833772</td><td>(0.3487 - 0.7855)</td></tr>\n",
       "\t<tr><td>0.15443495</td><td>0.5854813</td><td>(0.3505 - 0.7871)</td></tr>\n",
       "\t<tr><td>0.29732351</td><td>0.5854813</td><td>(0.3505 - 0.7871)</td></tr>\n",
       "\t<tr><td>0.27267591</td><td>0.5833772</td><td>(0.3487 - 0.7855)</td></tr>\n",
       "\t<tr><td>0.16334542</td><td>0.5839032</td><td>(0.3492 - 0.7859)</td></tr>\n",
       "\t<tr><td>0.25271704</td><td>0.5917938</td><td>(0.356 - 0.7917) </td></tr>\n",
       "\t<tr><td>0.63538282</td><td>0.5796949</td><td>(0.3455 - 0.7828)</td></tr>\n",
       "\t<tr><td>0.51216877</td><td>0.5986323</td><td>(0.362 - 0.7968) </td></tr>\n",
       "\t<tr><td>0.48752700</td><td>0.6002104</td><td>(0.3634 - 0.7979)</td></tr>\n",
       "\t<tr><td>0.49879169</td><td>0.6017885</td><td>(0.3648 - 0.7991)</td></tr>\n",
       "\t<tr><td>0.49879169</td><td>0.6017885</td><td>(0.3648 - 0.7991)</td></tr>\n",
       "</tbody>\n",
       "</table>\n"
      ],
      "text/latex": [
       "A data.frame: 13 × 3\n",
       "\\begin{tabular}{lll}\n",
       " KM.pvalue & C.index & C.index.CI\\\\\n",
       " <dbl> & <dbl> & <chr>\\\\\n",
       "\\hline\n",
       "\t 0.03276572 & 0.6086270 & (0.3708 - 0.8041)\\\\\n",
       "\t 0.04265400 & 0.6170437 & (0.3782 - 0.8102)\\\\\n",
       "\t 0.29508967 & 0.5833772 & (0.3487 - 0.7855)\\\\\n",
       "\t 0.15443495 & 0.5854813 & (0.3505 - 0.7871)\\\\\n",
       "\t 0.29732351 & 0.5854813 & (0.3505 - 0.7871)\\\\\n",
       "\t 0.27267591 & 0.5833772 & (0.3487 - 0.7855)\\\\\n",
       "\t 0.16334542 & 0.5839032 & (0.3492 - 0.7859)\\\\\n",
       "\t 0.25271704 & 0.5917938 & (0.356 - 0.7917) \\\\\n",
       "\t 0.63538282 & 0.5796949 & (0.3455 - 0.7828)\\\\\n",
       "\t 0.51216877 & 0.5986323 & (0.362 - 0.7968) \\\\\n",
       "\t 0.48752700 & 0.6002104 & (0.3634 - 0.7979)\\\\\n",
       "\t 0.49879169 & 0.6017885 & (0.3648 - 0.7991)\\\\\n",
       "\t 0.49879169 & 0.6017885 & (0.3648 - 0.7991)\\\\\n",
       "\\end{tabular}\n"
      ],
      "text/markdown": [
       "\n",
       "A data.frame: 13 × 3\n",
       "\n",
       "| KM.pvalue &lt;dbl&gt; | C.index &lt;dbl&gt; | C.index.CI &lt;chr&gt; |\n",
       "|---|---|---|\n",
       "| 0.03276572 | 0.6086270 | (0.3708 - 0.8041) |\n",
       "| 0.04265400 | 0.6170437 | (0.3782 - 0.8102) |\n",
       "| 0.29508967 | 0.5833772 | (0.3487 - 0.7855) |\n",
       "| 0.15443495 | 0.5854813 | (0.3505 - 0.7871) |\n",
       "| 0.29732351 | 0.5854813 | (0.3505 - 0.7871) |\n",
       "| 0.27267591 | 0.5833772 | (0.3487 - 0.7855) |\n",
       "| 0.16334542 | 0.5839032 | (0.3492 - 0.7859) |\n",
       "| 0.25271704 | 0.5917938 | (0.356 - 0.7917)  |\n",
       "| 0.63538282 | 0.5796949 | (0.3455 - 0.7828) |\n",
       "| 0.51216877 | 0.5986323 | (0.362 - 0.7968)  |\n",
       "| 0.48752700 | 0.6002104 | (0.3634 - 0.7979) |\n",
       "| 0.49879169 | 0.6017885 | (0.3648 - 0.7991) |\n",
       "| 0.49879169 | 0.6017885 | (0.3648 - 0.7991) |\n",
       "\n"
      ],
      "text/plain": [
       "   KM.pvalue  C.index   C.index.CI       \n",
       "1  0.03276572 0.6086270 (0.3708 - 0.8041)\n",
       "2  0.04265400 0.6170437 (0.3782 - 0.8102)\n",
       "3  0.29508967 0.5833772 (0.3487 - 0.7855)\n",
       "4  0.15443495 0.5854813 (0.3505 - 0.7871)\n",
       "5  0.29732351 0.5854813 (0.3505 - 0.7871)\n",
       "6  0.27267591 0.5833772 (0.3487 - 0.7855)\n",
       "7  0.16334542 0.5839032 (0.3492 - 0.7859)\n",
       "8  0.25271704 0.5917938 (0.356 - 0.7917) \n",
       "9  0.63538282 0.5796949 (0.3455 - 0.7828)\n",
       "10 0.51216877 0.5986323 (0.362 - 0.7968) \n",
       "11 0.48752700 0.6002104 (0.3634 - 0.7979)\n",
       "12 0.49879169 0.6017885 (0.3648 - 0.7991)\n",
       "13 0.49879169 0.6017885 (0.3648 - 0.7991)"
      ]
     },
     "metadata": {},
     "output_type": "display_data"
    }
   ],
   "source": [
    "step.wise.results"
   ]
  },
  {
   "cell_type": "code",
   "execution_count": 20,
   "id": "7fd34268-a009-4c0c-ae9d-ef273cd2e5ff",
   "metadata": {},
   "outputs": [
    {
     "data": {
      "text/html": [
       "1"
      ],
      "text/latex": [
       "1"
      ],
      "text/markdown": [
       "1"
      ],
      "text/plain": [
       "[1] 1"
      ]
     },
     "metadata": {},
     "output_type": "display_data"
    }
   ],
   "source": [
    "which(step.wise.results$KM.pvalue == min(step.wise.results$KM.pvalue))"
   ]
  },
  {
   "cell_type": "code",
   "execution_count": 25,
   "id": "43c768bd-fd80-485e-8e84-219544519d8b",
   "metadata": {},
   "outputs": [
    {
     "data": {
      "text/html": [
       "<table class=\"dataframe\">\n",
       "<caption>A data.frame: 1 × 3</caption>\n",
       "<thead>\n",
       "\t<tr><th></th><th scope=col>KM.pvalue</th><th scope=col>C.index</th><th scope=col>C.index.CI</th></tr>\n",
       "\t<tr><th></th><th scope=col>&lt;dbl&gt;</th><th scope=col>&lt;dbl&gt;</th><th scope=col>&lt;chr&gt;</th></tr>\n",
       "</thead>\n",
       "<tbody>\n",
       "\t<tr><th scope=row>1</th><td>0.03276572</td><td>0.608627</td><td>(0.3708 - 0.8041)</td></tr>\n",
       "</tbody>\n",
       "</table>\n"
      ],
      "text/latex": [
       "A data.frame: 1 × 3\n",
       "\\begin{tabular}{r|lll}\n",
       "  & KM.pvalue & C.index & C.index.CI\\\\\n",
       "  & <dbl> & <dbl> & <chr>\\\\\n",
       "\\hline\n",
       "\t1 & 0.03276572 & 0.608627 & (0.3708 - 0.8041)\\\\\n",
       "\\end{tabular}\n"
      ],
      "text/markdown": [
       "\n",
       "A data.frame: 1 × 3\n",
       "\n",
       "| <!--/--> | KM.pvalue &lt;dbl&gt; | C.index &lt;dbl&gt; | C.index.CI &lt;chr&gt; |\n",
       "|---|---|---|---|\n",
       "| 1 | 0.03276572 | 0.608627 | (0.3708 - 0.8041) |\n",
       "\n"
      ],
      "text/plain": [
       "  KM.pvalue  C.index  C.index.CI       \n",
       "1 0.03276572 0.608627 (0.3708 - 0.8041)"
      ]
     },
     "metadata": {},
     "output_type": "display_data"
    }
   ],
   "source": [
    "step.wise.results[1,]"
   ]
  },
  {
   "cell_type": "code",
   "execution_count": 26,
   "id": "6bbcebb9-850e-47ac-9c3b-a3444d9eb24f",
   "metadata": {},
   "outputs": [
    {
     "data": {
      "text/html": [
       "'ALOX12B.exp'"
      ],
      "text/latex": [
       "'ALOX12B.exp'"
      ],
      "text/markdown": [
       "'ALOX12B.exp'"
      ],
      "text/plain": [
       "[1] \"ALOX12B.exp\""
      ]
     },
     "metadata": {},
     "output_type": "display_data"
    }
   ],
   "source": [
    "genes.to.add[1]"
   ]
  },
  {
   "cell_type": "code",
   "execution_count": 35,
   "id": "985950d5-a1b5-483c-8c99-c3bcf9d2d355",
   "metadata": {},
   "outputs": [],
   "source": [
    "write.csv(feature.elim.res$Optimal.var, \"Feature_elimination_combined_temp.csv\")"
   ]
  }
 ],
 "metadata": {
  "kernelspec": {
   "display_name": "R",
   "language": "R",
   "name": "ir"
  },
  "language_info": {
   "codemirror_mode": "r",
   "file_extension": ".r",
   "mimetype": "text/x-r-source",
   "name": "R",
   "pygments_lexer": "r",
   "version": "4.2.2"
  }
 },
 "nbformat": 4,
 "nbformat_minor": 5
}
