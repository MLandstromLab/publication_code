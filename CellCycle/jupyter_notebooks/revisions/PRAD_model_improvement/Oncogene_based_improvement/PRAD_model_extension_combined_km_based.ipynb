{
 "cells": [
  {
   "cell_type": "markdown",
   "id": "03178ade-3e09-4294-8f0e-fce923e626a8",
   "metadata": {},
   "source": [
    "# PRAD model extension testing"
   ]
  },
  {
   "cell_type": "markdown",
   "id": "e8732ef0-bb70-45f9-a87f-04f2c0e08625",
   "metadata": {},
   "source": [
    "Here we test what happens to the original models if we start adding features"
   ]
  },
  {
   "cell_type": "code",
   "execution_count": 1,
   "id": "ebe6dd56-5cf5-4c09-a527-59beac5bc892",
   "metadata": {},
   "outputs": [
    {
     "name": "stderr",
     "output_type": "stream",
     "text": [
      "── \u001b[1mAttaching core tidyverse packages\u001b[22m ──────────────────────── tidyverse 2.0.0 ──\n",
      "\u001b[32m✔\u001b[39m \u001b[34mdplyr    \u001b[39m 1.1.3     \u001b[32m✔\u001b[39m \u001b[34mreadr    \u001b[39m 2.1.4\n",
      "\u001b[32m✔\u001b[39m \u001b[34mforcats  \u001b[39m 1.0.0     \u001b[32m✔\u001b[39m \u001b[34mstringr  \u001b[39m 1.5.0\n",
      "\u001b[32m✔\u001b[39m \u001b[34mggplot2  \u001b[39m 3.5.1     \u001b[32m✔\u001b[39m \u001b[34mtibble   \u001b[39m 3.2.1\n",
      "\u001b[32m✔\u001b[39m \u001b[34mlubridate\u001b[39m 1.9.2     \u001b[32m✔\u001b[39m \u001b[34mtidyr    \u001b[39m 1.2.1\n",
      "\u001b[32m✔\u001b[39m \u001b[34mpurrr    \u001b[39m 1.0.2     \n",
      "── \u001b[1mConflicts\u001b[22m ────────────────────────────────────────── tidyverse_conflicts() ──\n",
      "\u001b[31m✖\u001b[39m \u001b[34mdplyr\u001b[39m::\u001b[32mfilter()\u001b[39m masks \u001b[34mstats\u001b[39m::filter()\n",
      "\u001b[31m✖\u001b[39m \u001b[34mdplyr\u001b[39m::\u001b[32mlag()\u001b[39m    masks \u001b[34mstats\u001b[39m::lag()\n",
      "\u001b[36mℹ\u001b[39m Use the conflicted package (\u001b[3m\u001b[34m<http://conflicted.r-lib.org/>\u001b[39m\u001b[23m) to force all conflicts to become errors\n",
      "Loading required package: ggpubr\n",
      "\n",
      "\n",
      "Attaching package: ‘survminer’\n",
      "\n",
      "\n",
      "The following object is masked from ‘package:survival’:\n",
      "\n",
      "    myeloma\n",
      "\n",
      "\n",
      "Loading required package: Matrix\n",
      "\n",
      "\n",
      "Attaching package: ‘Matrix’\n",
      "\n",
      "\n",
      "The following objects are masked from ‘package:tidyr’:\n",
      "\n",
      "    expand, pack, unpack\n",
      "\n",
      "\n",
      "Loaded glmnet 4.1-8\n",
      "\n",
      "========================================\n",
      "circlize version 0.4.15\n",
      "CRAN page: https://cran.r-project.org/package=circlize\n",
      "Github page: https://github.com/jokergoo/circlize\n",
      "Documentation: https://jokergoo.github.io/circlize_book/book/\n",
      "\n",
      "If you use it in published research, please cite:\n",
      "Gu, Z. circlize implements and enhances circular visualization\n",
      "  in R. Bioinformatics 2014.\n",
      "\n",
      "This message can be suppressed by:\n",
      "  suppressPackageStartupMessages(library(circlize))\n",
      "========================================\n",
      "\n",
      "\n",
      "Loading required package: grid\n",
      "\n",
      "========================================\n",
      "ComplexHeatmap version 2.14.0\n",
      "Bioconductor page: http://bioconductor.org/packages/ComplexHeatmap/\n",
      "Github page: https://github.com/jokergoo/ComplexHeatmap\n",
      "Documentation: http://jokergoo.github.io/ComplexHeatmap-reference\n",
      "\n",
      "If you use it in published research, please cite either one:\n",
      "- Gu, Z. Complex Heatmap Visualization. iMeta 2022.\n",
      "- Gu, Z. Complex heatmaps reveal patterns and correlations in multidimensional \n",
      "    genomic data. Bioinformatics 2016.\n",
      "\n",
      "\n",
      "The new InteractiveComplexHeatmap package can directly export static \n",
      "complex heatmaps into an interactive Shiny app with zero effort. Have a try!\n",
      "\n",
      "This message can be suppressed by:\n",
      "  suppressPackageStartupMessages(library(ComplexHeatmap))\n",
      "========================================\n",
      "\n",
      "\n",
      "Loading required package: prodlim\n",
      "\n",
      "Loading required package: S4Vectors\n",
      "\n",
      "Loading required package: stats4\n",
      "\n",
      "Loading required package: BiocGenerics\n",
      "\n",
      "\n",
      "Attaching package: ‘BiocGenerics’\n",
      "\n",
      "\n",
      "The following objects are masked from ‘package:lubridate’:\n",
      "\n",
      "    intersect, setdiff, union\n",
      "\n",
      "\n",
      "The following objects are masked from ‘package:dplyr’:\n",
      "\n",
      "    combine, intersect, setdiff, union\n",
      "\n",
      "\n",
      "The following objects are masked from ‘package:stats’:\n",
      "\n",
      "    IQR, mad, sd, var, xtabs\n",
      "\n",
      "\n",
      "The following objects are masked from ‘package:base’:\n",
      "\n",
      "    anyDuplicated, aperm, append, as.data.frame, basename, cbind,\n",
      "    colnames, dirname, do.call, duplicated, eval, evalq, Filter, Find,\n",
      "    get, grep, grepl, intersect, is.unsorted, lapply, Map, mapply,\n",
      "    match, mget, order, paste, pmax, pmax.int, pmin, pmin.int,\n",
      "    Position, rank, rbind, Reduce, rownames, sapply, setdiff, sort,\n",
      "    table, tapply, union, unique, unsplit, which.max, which.min\n",
      "\n",
      "\n",
      "\n",
      "Attaching package: ‘S4Vectors’\n",
      "\n",
      "\n",
      "The following objects are masked from ‘package:Matrix’:\n",
      "\n",
      "    expand, unname\n",
      "\n",
      "\n",
      "The following objects are masked from ‘package:lubridate’:\n",
      "\n",
      "    second, second<-\n",
      "\n",
      "\n",
      "The following objects are masked from ‘package:dplyr’:\n",
      "\n",
      "    first, rename\n",
      "\n",
      "\n",
      "The following object is masked from ‘package:tidyr’:\n",
      "\n",
      "    expand\n",
      "\n",
      "\n",
      "The following objects are masked from ‘package:base’:\n",
      "\n",
      "    expand.grid, I, unname\n",
      "\n",
      "\n",
      "Loading required package: IRanges\n",
      "\n",
      "\n",
      "Attaching package: ‘IRanges’\n",
      "\n",
      "\n",
      "The following object is masked from ‘package:lubridate’:\n",
      "\n",
      "    %within%\n",
      "\n",
      "\n",
      "The following objects are masked from ‘package:dplyr’:\n",
      "\n",
      "    collapse, desc, slice\n",
      "\n",
      "\n",
      "The following object is masked from ‘package:purrr’:\n",
      "\n",
      "    reduce\n",
      "\n",
      "\n",
      "Loading required package: GenomicRanges\n",
      "\n",
      "Loading required package: GenomeInfoDb\n",
      "\n",
      "Loading required package: SummarizedExperiment\n",
      "\n",
      "Loading required package: MatrixGenerics\n",
      "\n",
      "Loading required package: matrixStats\n",
      "\n",
      "\n",
      "Attaching package: ‘matrixStats’\n",
      "\n",
      "\n",
      "The following object is masked from ‘package:dplyr’:\n",
      "\n",
      "    count\n",
      "\n",
      "\n",
      "\n",
      "Attaching package: ‘MatrixGenerics’\n",
      "\n",
      "\n",
      "The following objects are masked from ‘package:matrixStats’:\n",
      "\n",
      "    colAlls, colAnyNAs, colAnys, colAvgsPerRowSet, colCollapse,\n",
      "    colCounts, colCummaxs, colCummins, colCumprods, colCumsums,\n",
      "    colDiffs, colIQRDiffs, colIQRs, colLogSumExps, colMadDiffs,\n",
      "    colMads, colMaxs, colMeans2, colMedians, colMins, colOrderStats,\n",
      "    colProds, colQuantiles, colRanges, colRanks, colSdDiffs, colSds,\n",
      "    colSums2, colTabulates, colVarDiffs, colVars, colWeightedMads,\n",
      "    colWeightedMeans, colWeightedMedians, colWeightedSds,\n",
      "    colWeightedVars, rowAlls, rowAnyNAs, rowAnys, rowAvgsPerColSet,\n",
      "    rowCollapse, rowCounts, rowCummaxs, rowCummins, rowCumprods,\n",
      "    rowCumsums, rowDiffs, rowIQRDiffs, rowIQRs, rowLogSumExps,\n",
      "    rowMadDiffs, rowMads, rowMaxs, rowMeans2, rowMedians, rowMins,\n",
      "    rowOrderStats, rowProds, rowQuantiles, rowRanges, rowRanks,\n",
      "    rowSdDiffs, rowSds, rowSums2, rowTabulates, rowVarDiffs, rowVars,\n",
      "    rowWeightedMads, rowWeightedMeans, rowWeightedMedians,\n",
      "    rowWeightedSds, rowWeightedVars\n",
      "\n",
      "\n",
      "Loading required package: Biobase\n",
      "\n",
      "Welcome to Bioconductor\n",
      "\n",
      "    Vignettes contain introductory material; view with\n",
      "    'browseVignettes()'. To cite Bioconductor, see\n",
      "    'citation(\"Biobase\")', and for packages 'citation(\"pkgname\")'.\n",
      "\n",
      "\n",
      "\n",
      "Attaching package: ‘Biobase’\n",
      "\n",
      "\n",
      "The following object is masked from ‘package:MatrixGenerics’:\n",
      "\n",
      "    rowMedians\n",
      "\n",
      "\n",
      "The following objects are masked from ‘package:matrixStats’:\n",
      "\n",
      "    anyMissing, rowMedians\n",
      "\n",
      "\n"
     ]
    }
   ],
   "source": [
    "library(tidyverse)\n",
    "library(survival)\n",
    "library(survminer)\n",
    "library(glmnet)\n",
    "library(WriteXLS)\n",
    "library(ggfortify)\n",
    "library(circlize)\n",
    "library(ComplexHeatmap)\n",
    "library(parallel)\n",
    "library(broom)\n",
    "library(survcomp)\n",
    "library(survivalROC)\n",
    "library(gtsummary)\n",
    "source(\"../getTCGAData.R\")\n",
    "source(\"../preprocessTCGAData.R\")\n",
    "source(\"../KM_analysis.R\")\n",
    "source(\"../Heatmaps.R\")\n",
    "source(\"../enet.R\")\n",
    "library(\"readxl\")"
   ]
  },
  {
   "cell_type": "markdown",
   "id": "ec1d858a-21aa-4dc9-9f36-e271ccd724b7",
   "metadata": {},
   "source": [
    "## Functions "
   ]
  },
  {
   "cell_type": "code",
   "execution_count": 2,
   "id": "7304bea8-3995-47b0-ba47-4321618a3c79",
   "metadata": {},
   "outputs": [],
   "source": [
    "#\n",
    "#\n",
    "#\n",
    "# Helper function for fixing variable names \n",
    "fixVarNames = function(x){\n",
    "    print(x[1])\n",
    "    if (str_detect(x, \"Gender.clin\")) {\n",
    "        return(\"Gender\")\n",
    "    } else if (str_detect(x, \"Tumor.stage.clin\")){\n",
    "        return(\"Tumor.stage\")\n",
    "    } else if (str_detect(x,\".cn\")){\n",
    "        return(str_extract(x, \"\\\\w+.cn\"))\n",
    "    } else if (str_detect(x, \"Gleason.group.clin\")){ \n",
    "        return(\"Gleason.group.clin\")\n",
    "    } else {\n",
    "        return(x)\n",
    "    }\n",
    "}\n",
    "\n",
    "\n",
    "# \n",
    "# Function fits a cox regression model\n",
    "# \n",
    "fitCoxModel = function(data, end.point, features){\n",
    "    \n",
    "    # Expand to variable name\n",
    "    end_point_time = paste0(end.point, \".time.clin\")\n",
    "    end_point_event = paste0(end.point, \".clin\")\n",
    "\n",
    "    # Generate a survival formula object \n",
    "    survExpression = paste0(\"Surv(\", end_point_time, \", \" , end_point_event, \")\")\n",
    "    f <- as.formula(paste(survExpression, paste(features, collapse = \" + \"), sep = \" ~ \"))\n",
    "    \n",
    "    model.fit = coxph(f, data = data)\n",
    "    return(model.fit)\n",
    "}"
   ]
  },
  {
   "cell_type": "markdown",
   "id": "41734e2e-3599-4e57-b3f4-dffb5b03151d",
   "metadata": {},
   "source": [
    "## Load processed data"
   ]
  },
  {
   "cell_type": "code",
   "execution_count": 3,
   "id": "2094ddf3-de71-48ae-899d-94cfa3e5fb14",
   "metadata": {},
   "outputs": [],
   "source": [
    "tcga.dataset.merged = readRDS(\"/lustre/projects/landstrom_core/data/rdata_revised/manuscript_work//PRAD//tcga.dataset_merged.rds\")"
   ]
  },
  {
   "cell_type": "markdown",
   "id": "4409aed6-eb41-4286-b0d4-9ca8bca02125",
   "metadata": {},
   "source": [
    "## Load original model and extracting features"
   ]
  },
  {
   "cell_type": "code",
   "execution_count": 4,
   "id": "ceed6a5a-6585-49e9-913a-21de9e9cfe79",
   "metadata": {},
   "outputs": [
    {
     "name": "stderr",
     "output_type": "stream",
     "text": [
      "\u001b[1m\u001b[22mNew names:\n",
      "\u001b[36m•\u001b[39m `` -> `...1`\n"
     ]
    }
   ],
   "source": [
    "# Loading original features \n",
    "original.model.features = read_excel(\"/lustre/projects/landstrom_core/results/prognostic_model_development_revised/models_by_cancer_type/PRAD/Penalized_Cox_risk_prediction/customer_features/With_clinical_features/PFI/Active_covariates_in_lambda.min_model.xlsx\")"
   ]
  },
  {
   "cell_type": "code",
   "execution_count": 5,
   "id": "17e04283-1605-4e24-b692-e701b68b20ef",
   "metadata": {},
   "outputs": [
    {
     "name": "stdout",
     "output_type": "stream",
     "text": [
      "[1] \"Age.clin\"\n",
      "[1] \"Gleason.group.clinGleason_group_2\"\n",
      "[1] \"KIF23.exp\"\n",
      "[1] \"PTEN.exp\"\n",
      "[1] \"VPS4B.exp\"\n",
      "[1] \"AURKA.exp\"\n",
      "[1] \"AURKB.exp\"\n",
      "[1] \"TP53.cn-1\"\n"
     ]
    }
   ],
   "source": [
    "# Feature names to be selected \n",
    "selected.features = map_chr(unlist(original.model.features[,1]), fixVarNames) %>% as.vector()"
   ]
  },
  {
   "cell_type": "markdown",
   "id": "43a7647a-7b93-49b4-b280-e4a84bcdd05a",
   "metadata": {},
   "source": [
    "## Refitting the original model using standard cox-regression"
   ]
  },
  {
   "cell_type": "code",
   "execution_count": 6,
   "id": "631a08e8-fbb5-485f-88ad-e67be933d0ec",
   "metadata": {},
   "outputs": [],
   "source": [
    "# Construct the clinical end points \n",
    "end_point_event = paste0(\"PFI\", \".clin\")\n",
    "end_point_time = paste0(\"PFI\", \".time.clin\")\n",
    "    \n",
    "selected.columns = c(end_point_event, end_point_time, selected.features)"
   ]
  },
  {
   "cell_type": "code",
   "execution_count": 7,
   "id": "1d0e76f8-5811-48fc-8d6f-b0f7a1837fae",
   "metadata": {},
   "outputs": [],
   "source": [
    "# Input data for cox-model \n",
    "input.training = tcga.dataset.merged[[\"PFI\"]]$train %>% dplyr::select(all_of(selected.columns))\n",
    "\n",
    "# Fit the cox-model \n",
    "pcox.ref.fit.pfi.original = fitCoxModel(input.training, \"PFI\", selected.features)\n",
    "\n",
    "# Predict the risk scores for validation data \n",
    "rel.risk = predict(object = pcox.ref.fit.pfi.original, \n",
    "                   newdata = tcga.dataset.merged$PFI$validation[,selected.features], \n",
    "                   type = \"risk\")\n",
    "\n",
    "#\n",
    "# Evaluate \n",
    "#\n",
    "\n",
    "# Stratify validation data into two groups based on the fitted relative risk\n",
    "y.data <- tcga.dataset.merged$PFI$validation[paste0(\"PFI\", c(\".clin\",\".time.clin\"))]\n",
    "colnames(y.data) = c(\"status\",\"time\")\n",
    "\n",
    "# TEST new function for calculating the C-index\n",
    "cindex.ref.valid = concordance.index(rel.risk, \n",
    "                                        y.data$time, \n",
    "                                        y.data$status,\n",
    "                                        na.rm = TRUE)\n",
    "\n",
    "# Plot KM and extract the p-value  \n",
    "KM.valid.ref.by.risk = plotKMbyRelativeRisk(data = y.data, \n",
    "                                                     rel.risk = rel.risk)"
   ]
  },
  {
   "cell_type": "code",
   "execution_count": 8,
   "id": "630aac60-896e-48ef-83be-117240b42bbb",
   "metadata": {},
   "outputs": [],
   "source": [
    "# Modify the labels \n",
    "\n",
    "colnames(tcga.dataset.merged[[\"PFI\"]]$train) = str_replace(colnames(tcga.dataset.merged[[\"PFI\"]]$train), \"-\", \"_\")\n",
    "colnames(tcga.dataset.merged[[\"PFI\"]]$validation) = str_replace(colnames(tcga.dataset.merged[[\"PFI\"]]$validation), \"-\", \"_\")"
   ]
  },
  {
   "cell_type": "markdown",
   "id": "b2decc55-2b9a-4dd9-959c-35cd96fab20d",
   "metadata": {},
   "source": [
    "## Load the KM results "
   ]
  },
  {
   "cell_type": "code",
   "execution_count": 9,
   "id": "4457a8c6-42b4-43e7-8813-96f5ec3be336",
   "metadata": {},
   "outputs": [],
   "source": [
    "km.results.de = read.csv(\"/lustre/projects/landstrom_core/results/prognostic_model_development_revised_cell_cycle/combined/PRAD/Kaplan_Meier_plots/PFI_LogRank_pvalues.csv\")"
   ]
  },
  {
   "cell_type": "code",
   "execution_count": 10,
   "id": "32eeddc6-9663-4f66-84a8-dec4929d4be3",
   "metadata": {},
   "outputs": [
    {
     "data": {
      "text/html": [
       "TRUE"
      ],
      "text/latex": [
       "TRUE"
      ],
      "text/markdown": [
       "TRUE"
      ],
      "text/plain": [
       "[1] TRUE"
      ]
     },
     "metadata": {},
     "output_type": "display_data"
    }
   ],
   "source": [
    "\"NKX3_1.exp\" %in% colnames(tcga.dataset.merged$PFI$validation)"
   ]
  },
  {
   "cell_type": "code",
   "execution_count": 11,
   "id": "fdefe3ac-1df4-4188-b87a-89e7b0a1d144",
   "metadata": {},
   "outputs": [],
   "source": [
    "km.results.de$Feature[km.results.de$Feature == \"NKX301.exp\"] = \"NKX3_1.exp\""
   ]
  },
  {
   "cell_type": "code",
   "execution_count": 12,
   "id": "2fbb0f5c-4ffc-4cff-8f14-839c31526aaa",
   "metadata": {},
   "outputs": [],
   "source": [
    "# Convert \"-\" to &\n",
    "km.results.de$Feature = str_replace(km.results.de$Feature, \"-\", \"_\")"
   ]
  },
  {
   "cell_type": "markdown",
   "id": "44544f08-5b51-4c13-9ea7-0bcae52436b3",
   "metadata": {},
   "source": [
    "## Step-wise addition of features"
   ]
  },
  {
   "cell_type": "code",
   "execution_count": 13,
   "id": "06addee7-9ff4-4180-a8d0-4e366e10362e",
   "metadata": {},
   "outputs": [],
   "source": [
    "selected.columns.stepwise = selected.columns"
   ]
  },
  {
   "cell_type": "markdown",
   "id": "f73be7e0-4449-4528-8450-15997ccd6166",
   "metadata": {},
   "source": [
    "Pick top 200"
   ]
  },
  {
   "cell_type": "code",
   "execution_count": 14,
   "id": "0cc21f32-e2c5-4b75-ae96-daa7af7eca33",
   "metadata": {},
   "outputs": [],
   "source": [
    "new.genes.exp = km.results.de$Feature[1:200]"
   ]
  },
  {
   "cell_type": "code",
   "execution_count": 15,
   "id": "3eed2f0f-b46d-471d-aaec-cb1f8caf8ddd",
   "metadata": {},
   "outputs": [],
   "source": [
    "new.genes.exp = str_replace(new.genes.exp, \".amp\", \"\")\n",
    "new.genes.exp = str_replace(new.genes.exp, \".del\", \"\")"
   ]
  },
  {
   "cell_type": "code",
   "execution_count": 16,
   "id": "e0dc3392-4f55-42d4-b430-7c8a728f0db2",
   "metadata": {},
   "outputs": [],
   "source": [
    "# Store results \n",
    "step.wise.results = matrix(nrow = 0, ncol = 2) %>% as.data.frame() \n",
    "colnames(step.wise.results) = c(\"KM.pvalue\",\"C.index\")"
   ]
  },
  {
   "cell_type": "code",
   "execution_count": 17,
   "id": "f4d741c3-c59b-4632-bc78-d7e9bd381b0e",
   "metadata": {},
   "outputs": [],
   "source": [
    "step.wise.results = as.data.frame(lapply(step.wise.results, as.numeric))"
   ]
  },
  {
   "cell_type": "code",
   "execution_count": null,
   "id": "83e900e9-baaf-4d37-a469-28db495386bb",
   "metadata": {},
   "outputs": [],
   "source": [
    "for (i in 1:length(new.genes.exp)){\n",
    "    new.feature = new.genes.exp[i]\n",
    "    \n",
    "    # Test adding one gene\n",
    "    selected.columns.stepwise = c(selected.columns.stepwise, new.feature)\n",
    "    \n",
    "    # Input data for cox-model \n",
    "    input.training = tcga.dataset.merged[[\"PFI\"]]$train[,colnames(tcga.dataset.merged[[\"PFI\"]]$train) %in% selected.columns.stepwise]\n",
    "\n",
    "    # The features \n",
    "    selected.features.stepwise = selected.columns.stepwise[-c(1,2)]\n",
    "    \n",
    "    # Fit the cox-model \n",
    "    pcox.ref.fit.pfi = fitCoxModel(input.training, \"PFI\", selected.features.stepwise)\n",
    "\n",
    "    # Predict the risk scores for validation data \n",
    "    rel.risk = predict(object = pcox.ref.fit.pfi , \n",
    "                   newdata = tcga.dataset.merged$PFI$validation[,selected.features.stepwise], \n",
    "                   type = \"risk\")\n",
    "\n",
    "    #\n",
    "    # Evaluate \n",
    "    #\n",
    "\n",
    "    # Stratify validation data into two groups based on the fitted relative risk\n",
    "    y.data <- tcga.dataset.merged$PFI$validation[paste0(\"PFI\", c(\".clin\",\".time.clin\"))]\n",
    "    colnames(y.data) = c(\"status\",\"time\")\n",
    "\n",
    "    # TEST new function for calculating the C-index\n",
    "    cindex.ref.valid = concordance.index(rel.risk, \n",
    "                                        y.data$time, \n",
    "                                        y.data$status,\n",
    "                                        na.rm = TRUE)\n",
    "\n",
    "    # Plot KM and extract the p-value  \n",
    "    KM.valid.ref.by.risk = plotKMbyRelativeRisk(data = y.data, \n",
    "                                                     rel.risk = rel.risk)\n",
    "    \n",
    "    \n",
    "    res = data.frame(KM.pvalue = KM.valid.ref.by.risk$table$Pvalue.pval,\n",
    "                     C.index = cindex.ref.valid$c.index,\n",
    "                     \"C-index CI\" = paste0(\"(\", round(cindex.ref.valid$lower, 4), \" - \",  \n",
    "                                                round(cindex.ref.valid$upper, 4), \")\")\n",
    "                     )\n",
    "    step.wise.results = rbind(step.wise.results, res)\n",
    "    #print(step.wise.results)\n",
    "    \n",
    "    #print(cindex.ref.valid$c.index)\n",
    "    #print(KM.valid.ref.by.risk$table)\n",
    "    \n",
    "}\n"
   ]
  },
  {
   "cell_type": "markdown",
   "id": "518bb318-1c05-464e-8d0f-49000c33ec7c",
   "metadata": {},
   "source": [
    "Find the minimal p-value"
   ]
  },
  {
   "cell_type": "code",
   "execution_count": 20,
   "id": "1e302608-3d34-4900-8756-1e2c10c73f27",
   "metadata": {},
   "outputs": [
    {
     "data": {
      "text/html": [
       "5"
      ],
      "text/latex": [
       "5"
      ],
      "text/markdown": [
       "5"
      ],
      "text/plain": [
       "[1] 5"
      ]
     },
     "metadata": {},
     "output_type": "display_data"
    }
   ],
   "source": [
    "which(step.wise.results$KM.pvalue == min(step.wise.results$KM.pvalue))"
   ]
  },
  {
   "cell_type": "code",
   "execution_count": 21,
   "id": "faf99b87-c58c-4bcb-ac49-590842c37855",
   "metadata": {},
   "outputs": [
    {
     "data": {
      "text/html": [
       "<table class=\"dataframe\">\n",
       "<caption>A data.frame: 1 × 3</caption>\n",
       "<thead>\n",
       "\t<tr><th></th><th scope=col>KM.pvalue</th><th scope=col>C.index</th><th scope=col>C.index.CI</th></tr>\n",
       "\t<tr><th></th><th scope=col>&lt;dbl&gt;</th><th scope=col>&lt;dbl&gt;</th><th scope=col>&lt;chr&gt;</th></tr>\n",
       "</thead>\n",
       "<tbody>\n",
       "\t<tr><th scope=row>5</th><td>0.001586542</td><td>0.6207259</td><td>(0.3815 - 0.8128)</td></tr>\n",
       "</tbody>\n",
       "</table>\n"
      ],
      "text/latex": [
       "A data.frame: 1 × 3\n",
       "\\begin{tabular}{r|lll}\n",
       "  & KM.pvalue & C.index & C.index.CI\\\\\n",
       "  & <dbl> & <dbl> & <chr>\\\\\n",
       "\\hline\n",
       "\t5 & 0.001586542 & 0.6207259 & (0.3815 - 0.8128)\\\\\n",
       "\\end{tabular}\n"
      ],
      "text/markdown": [
       "\n",
       "A data.frame: 1 × 3\n",
       "\n",
       "| <!--/--> | KM.pvalue &lt;dbl&gt; | C.index &lt;dbl&gt; | C.index.CI &lt;chr&gt; |\n",
       "|---|---|---|---|\n",
       "| 5 | 0.001586542 | 0.6207259 | (0.3815 - 0.8128) |\n",
       "\n"
      ],
      "text/plain": [
       "  KM.pvalue   C.index   C.index.CI       \n",
       "5 0.001586542 0.6207259 (0.3815 - 0.8128)"
      ]
     },
     "metadata": {},
     "output_type": "display_data"
    }
   ],
   "source": [
    "step.wise.results[5,]"
   ]
  },
  {
   "cell_type": "code",
   "execution_count": 22,
   "id": "218d18fa-ee71-48c5-abdc-112ec03894d4",
   "metadata": {},
   "outputs": [
    {
     "data": {
      "text/html": [
       "<style>\n",
       ".list-inline {list-style: none; margin:0; padding: 0}\n",
       ".list-inline>li {display: inline-block}\n",
       ".list-inline>li:not(:last-child)::after {content: \"\\00b7\"; padding: 0 .5ex}\n",
       "</style>\n",
       "<ol class=list-inline><li>'WDR90.exp'</li><li>'CENATAC.exp'</li><li>'MUS81.exp'</li><li>'FUS.exp'</li><li>'HAUS8.exp'</li></ol>\n"
      ],
      "text/latex": [
       "\\begin{enumerate*}\n",
       "\\item 'WDR90.exp'\n",
       "\\item 'CENATAC.exp'\n",
       "\\item 'MUS81.exp'\n",
       "\\item 'FUS.exp'\n",
       "\\item 'HAUS8.exp'\n",
       "\\end{enumerate*}\n"
      ],
      "text/markdown": [
       "1. 'WDR90.exp'\n",
       "2. 'CENATAC.exp'\n",
       "3. 'MUS81.exp'\n",
       "4. 'FUS.exp'\n",
       "5. 'HAUS8.exp'\n",
       "\n",
       "\n"
      ],
      "text/plain": [
       "[1] \"WDR90.exp\"   \"CENATAC.exp\" \"MUS81.exp\"   \"FUS.exp\"     \"HAUS8.exp\"  "
      ]
     },
     "metadata": {},
     "output_type": "display_data"
    }
   ],
   "source": [
    "new.genes.exp[1:5]"
   ]
  },
  {
   "cell_type": "code",
   "execution_count": null,
   "id": "e63be251-734c-48c7-8897-91e0e1cf9858",
   "metadata": {},
   "outputs": [],
   "source": []
  }
 ],
 "metadata": {
  "kernelspec": {
   "display_name": "R",
   "language": "R",
   "name": "ir"
  },
  "language_info": {
   "codemirror_mode": "r",
   "file_extension": ".r",
   "mimetype": "text/x-r-source",
   "name": "R",
   "pygments_lexer": "r",
   "version": "4.2.2"
  }
 },
 "nbformat": 4,
 "nbformat_minor": 5
}
