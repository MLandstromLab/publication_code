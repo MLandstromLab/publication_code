{
 "cells": [
  {
   "cell_type": "markdown",
   "id": "908b49cb-b410-4fb4-8686-b6e765506bf2",
   "metadata": {},
   "source": [
    "# Investigating correlation between features and tumor stage (linear model)"
   ]
  },
  {
   "cell_type": "code",
   "execution_count": 11,
   "id": "aff15f51-167b-4d5c-92c4-4243aa3ea110",
   "metadata": {},
   "outputs": [],
   "source": [
    "setwd(\"/home/data/project_code/landstrom_core/prognostic_model_development/r/notebooks\")\n",
    "library(ggplot2)\n",
    "library(tidyverse)\n",
    "source(\"../getTCGAData.R\")\n",
    "source(\"../preprocessTCGAData.R\")\n",
    "source(\"../KM_analysis.R\")\n",
    "source(\"../Heatmaps.R\")\n",
    "source(\"../enet.R\")\n",
    "library(ggpubr)\n",
    "library(rstatix)"
   ]
  }
 ],
 "metadata": {
  "kernelspec": {
   "display_name": "R 4.1.3",
   "language": "R",
   "name": "r4.1.3"
  },
  "language_info": {
   "codemirror_mode": "r",
   "file_extension": ".r",
   "mimetype": "text/x-r-source",
   "name": "R",
   "pygments_lexer": "r",
   "version": "4.1.3"
  }
 },
 "nbformat": 4,
 "nbformat_minor": 5
}
