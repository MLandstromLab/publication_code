{
 "cells": [
  {
   "cell_type": "markdown",
   "id": "16e7dbaa-7262-46f9-a809-0225e6833684",
   "metadata": {},
   "source": [
    "# Investigating correlation between features and tumor stage (linear model)"
   ]
  },
  {
   "cell_type": "code",
   "execution_count": 22,
   "id": "d09c26cd-11ba-48fe-993a-1d5b382d060c",
   "metadata": {},
   "outputs": [
    {
     "name": "stderr",
     "output_type": "stream",
     "text": [
      "── \u001b[1mAttaching core tidyverse packages\u001b[22m ──────────────────────── tidyverse 2.0.0 ──\n",
      "\u001b[32m✔\u001b[39m \u001b[34mforcats  \u001b[39m 1.0.0     \u001b[32m✔\u001b[39m \u001b[34mstringr  \u001b[39m 1.5.0\n",
      "\u001b[32m✔\u001b[39m \u001b[34mlubridate\u001b[39m 1.9.2     \u001b[32m✔\u001b[39m \u001b[34mtibble   \u001b[39m 3.2.1\n",
      "\u001b[32m✔\u001b[39m \u001b[34mpurrr    \u001b[39m 1.0.2     \u001b[32m✔\u001b[39m \u001b[34mtidyr    \u001b[39m 1.2.1\n",
      "\u001b[32m✔\u001b[39m \u001b[34mreadr    \u001b[39m 2.1.4     \n",
      "── \u001b[1mConflicts\u001b[22m ────────────────────────────────────────── tidyverse_conflicts() ──\n",
      "\u001b[31m✖\u001b[39m \u001b[34mdplyr\u001b[39m::\u001b[32mfilter()\u001b[39m masks \u001b[34mstats\u001b[39m::filter()\n",
      "\u001b[31m✖\u001b[39m \u001b[34mdplyr\u001b[39m::\u001b[32mlag()\u001b[39m    masks \u001b[34mstats\u001b[39m::lag()\n",
      "\u001b[36mℹ\u001b[39m Use the conflicted package (\u001b[3m\u001b[34m<http://conflicted.r-lib.org/>\u001b[39m\u001b[23m) to force all conflicts to become errors\n",
      "Loading required package: S4Vectors\n",
      "\n",
      "Loading required package: stats4\n",
      "\n",
      "Loading required package: BiocGenerics\n",
      "\n",
      "\n",
      "Attaching package: ‘BiocGenerics’\n",
      "\n",
      "\n",
      "The following objects are masked from ‘package:lubridate’:\n",
      "\n",
      "    intersect, setdiff, union\n",
      "\n",
      "\n",
      "The following objects are masked from ‘package:dplyr’:\n",
      "\n",
      "    combine, intersect, setdiff, union\n",
      "\n",
      "\n",
      "The following objects are masked from ‘package:stats’:\n",
      "\n",
      "    IQR, mad, sd, var, xtabs\n",
      "\n",
      "\n",
      "The following objects are masked from ‘package:base’:\n",
      "\n",
      "    anyDuplicated, aperm, append, as.data.frame, basename, cbind,\n",
      "    colnames, dirname, do.call, duplicated, eval, evalq, Filter, Find,\n",
      "    get, grep, grepl, intersect, is.unsorted, lapply, Map, mapply,\n",
      "    match, mget, order, paste, pmax, pmax.int, pmin, pmin.int,\n",
      "    Position, rank, rbind, Reduce, rownames, sapply, setdiff, sort,\n",
      "    table, tapply, union, unique, unsplit, which.max, which.min\n",
      "\n",
      "\n",
      "\n",
      "Attaching package: ‘S4Vectors’\n",
      "\n",
      "\n",
      "The following objects are masked from ‘package:lubridate’:\n",
      "\n",
      "    second, second<-\n",
      "\n",
      "\n",
      "The following object is masked from ‘package:tidyr’:\n",
      "\n",
      "    expand\n",
      "\n",
      "\n",
      "The following objects are masked from ‘package:dplyr’:\n",
      "\n",
      "    first, rename\n",
      "\n",
      "\n",
      "The following objects are masked from ‘package:base’:\n",
      "\n",
      "    expand.grid, I, unname\n",
      "\n",
      "\n",
      "Loading required package: IRanges\n",
      "\n",
      "\n",
      "Attaching package: ‘IRanges’\n",
      "\n",
      "\n",
      "The following object is masked from ‘package:lubridate’:\n",
      "\n",
      "    %within%\n",
      "\n",
      "\n",
      "The following object is masked from ‘package:purrr’:\n",
      "\n",
      "    reduce\n",
      "\n",
      "\n",
      "The following objects are masked from ‘package:dplyr’:\n",
      "\n",
      "    collapse, desc, slice\n",
      "\n",
      "\n",
      "Loading required package: GenomicRanges\n",
      "\n",
      "Loading required package: GenomeInfoDb\n",
      "\n",
      "Loading required package: SummarizedExperiment\n",
      "\n",
      "Loading required package: MatrixGenerics\n",
      "\n",
      "Loading required package: matrixStats\n",
      "\n",
      "\n",
      "Attaching package: ‘matrixStats’\n",
      "\n",
      "\n",
      "The following object is masked from ‘package:dplyr’:\n",
      "\n",
      "    count\n",
      "\n",
      "\n",
      "\n",
      "Attaching package: ‘MatrixGenerics’\n",
      "\n",
      "\n",
      "The following objects are masked from ‘package:matrixStats’:\n",
      "\n",
      "    colAlls, colAnyNAs, colAnys, colAvgsPerRowSet, colCollapse,\n",
      "    colCounts, colCummaxs, colCummins, colCumprods, colCumsums,\n",
      "    colDiffs, colIQRDiffs, colIQRs, colLogSumExps, colMadDiffs,\n",
      "    colMads, colMaxs, colMeans2, colMedians, colMins, colOrderStats,\n",
      "    colProds, colQuantiles, colRanges, colRanks, colSdDiffs, colSds,\n",
      "    colSums2, colTabulates, colVarDiffs, colVars, colWeightedMads,\n",
      "    colWeightedMeans, colWeightedMedians, colWeightedSds,\n",
      "    colWeightedVars, rowAlls, rowAnyNAs, rowAnys, rowAvgsPerColSet,\n",
      "    rowCollapse, rowCounts, rowCummaxs, rowCummins, rowCumprods,\n",
      "    rowCumsums, rowDiffs, rowIQRDiffs, rowIQRs, rowLogSumExps,\n",
      "    rowMadDiffs, rowMads, rowMaxs, rowMeans2, rowMedians, rowMins,\n",
      "    rowOrderStats, rowProds, rowQuantiles, rowRanges, rowRanks,\n",
      "    rowSdDiffs, rowSds, rowSums2, rowTabulates, rowVarDiffs, rowVars,\n",
      "    rowWeightedMads, rowWeightedMeans, rowWeightedMedians,\n",
      "    rowWeightedSds, rowWeightedVars\n",
      "\n",
      "\n",
      "Loading required package: Biobase\n",
      "\n",
      "Welcome to Bioconductor\n",
      "\n",
      "    Vignettes contain introductory material; view with\n",
      "    'browseVignettes()'. To cite Bioconductor, see\n",
      "    'citation(\"Biobase\")', and for packages 'citation(\"pkgname\")'.\n",
      "\n",
      "\n",
      "\n",
      "Attaching package: ‘Biobase’\n",
      "\n",
      "\n",
      "The following object is masked from ‘package:MatrixGenerics’:\n",
      "\n",
      "    rowMedians\n",
      "\n",
      "\n",
      "The following objects are masked from ‘package:matrixStats’:\n",
      "\n",
      "    anyMissing, rowMedians\n",
      "\n",
      "\n",
      "\n",
      "Attaching package: ‘rstatix’\n",
      "\n",
      "\n",
      "The following object is masked from ‘package:IRanges’:\n",
      "\n",
      "    desc\n",
      "\n",
      "\n",
      "The following object is masked from ‘package:biomaRt’:\n",
      "\n",
      "    select\n",
      "\n",
      "\n",
      "The following object is masked from ‘package:stats’:\n",
      "\n",
      "    filter\n",
      "\n",
      "\n"
     ]
    }
   ],
   "source": [
    "setwd(\"/home/data/project_code/landstrom_core/prognostic_model_development/r/notebooks\")\n",
    "library(ggplot2)\n",
    "library(tidyverse)\n",
    "source(\"../getTCGAData.R\")\n",
    "source(\"../preprocessTCGAData.R\")\n",
    "source(\"../KM_analysis.R\")\n",
    "source(\"../Heatmaps.R\")\n",
    "source(\"../enet.R\")\n",
    "library(ggpubr)\n",
    "library(rstatix)"
   ]
  },
  {
   "cell_type": "markdown",
   "id": "ba8d7528-6174-4760-a214-0408a5c0578e",
   "metadata": {},
   "source": [
    "# Function"
   ]
  },
  {
   "cell_type": "code",
   "execution_count": 1,
   "id": "b4c7d716-4199-4304-9bd6-0831aaba01c1",
   "metadata": {},
   "outputs": [],
   "source": [
    "#\n",
    "# Define function for adding the clinical variables \n",
    "#\n",
    "addClinVar = function(data, clin.var) {\n",
    "    if (\"Age.oth\" %in% clin.var) {\n",
    "        data$Age.oth <- data$age_at_diagnosis.clin\n",
    "    } \n",
    "    if (\"Tumor.stage.oth\" %in% clin.var){\n",
    "        data$Tumor.stage.oth = factor(map_chr(data$ajcc_pathologic_stage.clin, reformatTumorStage))\n",
    "    }\n",
    "    if (\"Gender.oth\" %in% clin.var){\n",
    "        data$Gender.oth <- factor(data$gender.clin)    \n",
    "    } \n",
    "    if (\"Gleason.group.oth\" %in% clin.var) {\n",
    "        \n",
    "        # Determine the Gleason group \n",
    "        data$Gleason.group.oth = map2_chr(data$primary_gleason_grade.clin, \n",
    "                                           data$secondary_gleason_grade.clin, \n",
    "                                           determineGleasonGroup)\n",
    "\n",
    "        # Set up the factor levels \n",
    "        data$Gleason.group.oth = factor(data$Gleason.group, \n",
    "                                    levels = c(\"Gleason group 1\", \"Gleason group 2\"))\n",
    "    }\n",
    "    return(data)\n",
    "}\n",
    "\n",
    "# Recode Tumor stage to numeric\n",
    "recodeTumorStageToNumeric = function(x){\n",
    "    x.recoded = recode_factor(x, `Stage 1` = 1, `Stage 2` = 2, `Stage 3` = 3, `Stage 4` = 4)\n",
    "    x.recoded = as.numeric(as.character(x.recoded))\n",
    "    return(x.recoded)\n",
    "}"
   ]
  },
  {
   "cell_type": "code",
   "execution_count": 3,
   "id": "2a38d640-0cd9-4e40-963c-76cea099a92e",
   "metadata": {},
   "outputs": [],
   "source": [
    "# Read in the table including the clinical features for each cancer type\n",
    "clin.feat.tb = read.table(\"/lustre/projects/landstrom_core/data/clin_features_final.csv\", sep = \"\\t\", header = T)\n",
    "\n",
    "# Ensembl id mapping file \n",
    "ens.id.mapping = \"/home/organisms/Human/hg38/Homo_sapiens.GRCh38_March2022/ENSEMBLE_to_SYMBOL.csv\"\n",
    "\n",
    "# Input dir data \n",
    "input.dir.data.path = file.path(\"/lustre/projects/landstrom_core/data/rdata_revised/manuscript_work\")\n",
    "\n",
    "# Output directory\n",
    "dir.res.root = file.path(\"/lustre/projects/landstrom_core/results/Features_vs_tumor_stage_revised/\")\n",
    "dir.create(dir.res.root)\n",
    "\n",
    "# Gene list  \n",
    "gene.list.file = read.table(\"/lustre/projects/landstrom_core/data/Customer_genes.tsv\", \n",
    "                            sep = \"\\t\", header = F)\n",
    "gene.list = gene.list.file$V1"
   ]
  },
  {
   "cell_type": "markdown",
   "id": "e980fb83-4617-4039-b97a-02862bcb4ee6",
   "metadata": {},
   "source": [
    "# Prepare boxplots and test for significance"
   ]
  },
  {
   "cell_type": "markdown",
   "id": "2a01f8a2-4982-4929-be3a-395c03cda8d3",
   "metadata": {},
   "source": [
    "Output dir :"
   ]
  },
  {
   "cell_type": "code",
   "execution_count": 5,
   "id": "5928edf9-d68d-4a69-8a9a-2e0a26641e11",
   "metadata": {},
   "outputs": [],
   "source": [
    "# Output dir :\n",
    "boxplt.results.dir = file.path(dir.res.root, \"Features_and_tumor_stage_boxplots/lm\")\n",
    "dir.create(boxplt.results.dir, recursive = T)"
   ]
  },
  {
   "cell_type": "code",
   "execution_count": 5,
   "id": "cef07c06-d181-46e4-955b-99eea5b281ef",
   "metadata": {},
   "outputs": [],
   "source": [
    "# Store all statistical test results to a table \n",
    "stat.results.ls = list()"
   ]
  },
  {
   "cell_type": "code",
   "execution_count": 6,
   "id": "9f932fe4-df4f-4f18-a0f5-0facea98c1d5",
   "metadata": {},
   "outputs": [],
   "source": [
    "calcCorr = function(x, y){\n",
    "    res = cor.test(x, y)\n",
    "    return(data.frame(\"Corr\" = res$estimate, \"P.value\" = res$p.value))\n",
    "}"
   ]
  },
  {
   "cell_type": "code",
   "execution_count": null,
   "id": "4da786da-e2ac-49c9-a4c3-b255249f863f",
   "metadata": {},
   "outputs": [],
   "source": []
  },
  {
   "cell_type": "code",
   "execution_count": 6,
   "id": "ab62faf0-ff68-4fdd-b94e-e8540c019662",
   "metadata": {},
   "outputs": [],
   "source": [
    "tcga.dataset.test = readRDS(file.path(input.dir.data.path, \"BRCA\", \"tcga.dataset_merged.rds\"))"
   ]
  },
  {
   "cell_type": "code",
   "execution_count": 8,
   "id": "6ee5e505-c76b-42d0-aa73-764be0aa5f77",
   "metadata": {},
   "outputs": [],
   "source": [
    "tcga.dataset.test2 = readRDS(file.path(input.dir.data.path, \"CESC\", \"tcga.dataset_merged.rds\"))"
   ]
  },
  {
   "cell_type": "code",
   "execution_count": 9,
   "id": "8f50da97-e2f0-4d4e-b611-7d0df9779bd7",
   "metadata": {},
   "outputs": [],
   "source": [
    "tcga.dataset.test3 = readRDS(file.path(input.dir.data.path, \"PRAD\", \"tcga.dataset_merged.rds\"))"
   ]
  },
  {
   "cell_type": "code",
   "execution_count": 10,
   "id": "124b4a9d-f6c0-47bd-bf80-c6e8c6aa91e7",
   "metadata": {},
   "outputs": [
    {
     "data": {
      "text/html": [
       "<table class=\"dataframe\">\n",
       "<caption>A data.frame: 5 × 5</caption>\n",
       "<thead>\n",
       "\t<tr><th></th><th scope=col>Participant.ID</th><th scope=col>submitter_id.clin</th><th scope=col>created_datetime.clin</th><th scope=col>prior_malignancy.clin</th><th scope=col>diagnosis_id.clin</th></tr>\n",
       "\t<tr><th></th><th scope=col>&lt;chr&gt;</th><th scope=col>&lt;chr&gt;</th><th scope=col>&lt;lgl&gt;</th><th scope=col>&lt;chr&gt;</th><th scope=col>&lt;chr&gt;</th></tr>\n",
       "</thead>\n",
       "<tbody>\n",
       "\t<tr><th scope=row>1</th><td>TCGA-EW-A1PC</td><td>TCGA-EW-A1PC</td><td>NA</td><td>no</td><td>102cd71e-5a56-53f9-acf7-143c23589b1b</td></tr>\n",
       "\t<tr><th scope=row>2</th><td>TCGA-E2-A15T</td><td>TCGA-E2-A15T</td><td>NA</td><td>no</td><td>2c4bdf9f-2f94-5839-ba9b-9cd5c3ade9c1</td></tr>\n",
       "\t<tr><th scope=row>3</th><td>TCGA-A8-A06Q</td><td>TCGA-A8-A06Q</td><td>NA</td><td>no</td><td>24899a2b-aec3-592a-88d5-73c70d616750</td></tr>\n",
       "\t<tr><th scope=row>4</th><td>TCGA-AO-A0JI</td><td>TCGA-AO-A0JI</td><td>NA</td><td>no</td><td>55f24ee5-2989-5fbc-8c50-80f9b5d82e2b</td></tr>\n",
       "\t<tr><th scope=row>5</th><td>TCGA-E2-A15I</td><td>TCGA-E2-A15I</td><td>NA</td><td>no</td><td>2c1064d8-64d7-5fc7-aa57-a6a58e08f896</td></tr>\n",
       "</tbody>\n",
       "</table>\n"
      ],
      "text/latex": [
       "A data.frame: 5 × 5\n",
       "\\begin{tabular}{r|lllll}\n",
       "  & Participant.ID & submitter\\_id.clin & created\\_datetime.clin & prior\\_malignancy.clin & diagnosis\\_id.clin\\\\\n",
       "  & <chr> & <chr> & <lgl> & <chr> & <chr>\\\\\n",
       "\\hline\n",
       "\t1 & TCGA-EW-A1PC & TCGA-EW-A1PC & NA & no & 102cd71e-5a56-53f9-acf7-143c23589b1b\\\\\n",
       "\t2 & TCGA-E2-A15T & TCGA-E2-A15T & NA & no & 2c4bdf9f-2f94-5839-ba9b-9cd5c3ade9c1\\\\\n",
       "\t3 & TCGA-A8-A06Q & TCGA-A8-A06Q & NA & no & 24899a2b-aec3-592a-88d5-73c70d616750\\\\\n",
       "\t4 & TCGA-AO-A0JI & TCGA-AO-A0JI & NA & no & 55f24ee5-2989-5fbc-8c50-80f9b5d82e2b\\\\\n",
       "\t5 & TCGA-E2-A15I & TCGA-E2-A15I & NA & no & 2c1064d8-64d7-5fc7-aa57-a6a58e08f896\\\\\n",
       "\\end{tabular}\n"
      ],
      "text/markdown": [
       "\n",
       "A data.frame: 5 × 5\n",
       "\n",
       "| <!--/--> | Participant.ID &lt;chr&gt; | submitter_id.clin &lt;chr&gt; | created_datetime.clin &lt;lgl&gt; | prior_malignancy.clin &lt;chr&gt; | diagnosis_id.clin &lt;chr&gt; |\n",
       "|---|---|---|---|---|---|\n",
       "| 1 | TCGA-EW-A1PC | TCGA-EW-A1PC | NA | no | 102cd71e-5a56-53f9-acf7-143c23589b1b |\n",
       "| 2 | TCGA-E2-A15T | TCGA-E2-A15T | NA | no | 2c4bdf9f-2f94-5839-ba9b-9cd5c3ade9c1 |\n",
       "| 3 | TCGA-A8-A06Q | TCGA-A8-A06Q | NA | no | 24899a2b-aec3-592a-88d5-73c70d616750 |\n",
       "| 4 | TCGA-AO-A0JI | TCGA-AO-A0JI | NA | no | 55f24ee5-2989-5fbc-8c50-80f9b5d82e2b |\n",
       "| 5 | TCGA-E2-A15I | TCGA-E2-A15I | NA | no | 2c1064d8-64d7-5fc7-aa57-a6a58e08f896 |\n",
       "\n"
      ],
      "text/plain": [
       "  Participant.ID submitter_id.clin created_datetime.clin prior_malignancy.clin\n",
       "1 TCGA-EW-A1PC   TCGA-EW-A1PC      NA                    no                   \n",
       "2 TCGA-E2-A15T   TCGA-E2-A15T      NA                    no                   \n",
       "3 TCGA-A8-A06Q   TCGA-A8-A06Q      NA                    no                   \n",
       "4 TCGA-AO-A0JI   TCGA-AO-A0JI      NA                    no                   \n",
       "5 TCGA-E2-A15I   TCGA-E2-A15I      NA                    no                   \n",
       "  diagnosis_id.clin                   \n",
       "1 102cd71e-5a56-53f9-acf7-143c23589b1b\n",
       "2 2c4bdf9f-2f94-5839-ba9b-9cd5c3ade9c1\n",
       "3 24899a2b-aec3-592a-88d5-73c70d616750\n",
       "4 55f24ee5-2989-5fbc-8c50-80f9b5d82e2b\n",
       "5 2c1064d8-64d7-5fc7-aa57-a6a58e08f896"
      ]
     },
     "metadata": {},
     "output_type": "display_data"
    }
   ],
   "source": [
    "tcga.dataset.test$PFI$train[1:5,1:5]"
   ]
  },
  {
   "cell_type": "code",
   "execution_count": 11,
   "id": "9e1ad6fe-525f-44cb-a158-9acaffbd821a",
   "metadata": {},
   "outputs": [
    {
     "data": {
      "text/html": [
       "<table class=\"dataframe\">\n",
       "<caption>A data.frame: 5 × 5</caption>\n",
       "<thead>\n",
       "\t<tr><th></th><th scope=col>Participant.ID</th><th scope=col>submitter_id.clin</th><th scope=col>created_datetime.clin</th><th scope=col>prior_malignancy.clin</th><th scope=col>diagnosis_id.clin</th></tr>\n",
       "\t<tr><th></th><th scope=col>&lt;chr&gt;</th><th scope=col>&lt;chr&gt;</th><th scope=col>&lt;lgl&gt;</th><th scope=col>&lt;chr&gt;</th><th scope=col>&lt;chr&gt;</th></tr>\n",
       "</thead>\n",
       "<tbody>\n",
       "\t<tr><th scope=row>1</th><td>TCGA-EW-A1PC</td><td>TCGA-EW-A1PC</td><td>NA</td><td>no</td><td>102cd71e-5a56-53f9-acf7-143c23589b1b</td></tr>\n",
       "\t<tr><th scope=row>2</th><td>TCGA-E2-A15T</td><td>TCGA-E2-A15T</td><td>NA</td><td>no</td><td>2c4bdf9f-2f94-5839-ba9b-9cd5c3ade9c1</td></tr>\n",
       "\t<tr><th scope=row>3</th><td>TCGA-A8-A06Q</td><td>TCGA-A8-A06Q</td><td>NA</td><td>no</td><td>24899a2b-aec3-592a-88d5-73c70d616750</td></tr>\n",
       "\t<tr><th scope=row>4</th><td>TCGA-AO-A0JI</td><td>TCGA-AO-A0JI</td><td>NA</td><td>no</td><td>55f24ee5-2989-5fbc-8c50-80f9b5d82e2b</td></tr>\n",
       "\t<tr><th scope=row>5</th><td>TCGA-E2-A15I</td><td>TCGA-E2-A15I</td><td>NA</td><td>no</td><td>2c1064d8-64d7-5fc7-aa57-a6a58e08f896</td></tr>\n",
       "</tbody>\n",
       "</table>\n"
      ],
      "text/latex": [
       "A data.frame: 5 × 5\n",
       "\\begin{tabular}{r|lllll}\n",
       "  & Participant.ID & submitter\\_id.clin & created\\_datetime.clin & prior\\_malignancy.clin & diagnosis\\_id.clin\\\\\n",
       "  & <chr> & <chr> & <lgl> & <chr> & <chr>\\\\\n",
       "\\hline\n",
       "\t1 & TCGA-EW-A1PC & TCGA-EW-A1PC & NA & no & 102cd71e-5a56-53f9-acf7-143c23589b1b\\\\\n",
       "\t2 & TCGA-E2-A15T & TCGA-E2-A15T & NA & no & 2c4bdf9f-2f94-5839-ba9b-9cd5c3ade9c1\\\\\n",
       "\t3 & TCGA-A8-A06Q & TCGA-A8-A06Q & NA & no & 24899a2b-aec3-592a-88d5-73c70d616750\\\\\n",
       "\t4 & TCGA-AO-A0JI & TCGA-AO-A0JI & NA & no & 55f24ee5-2989-5fbc-8c50-80f9b5d82e2b\\\\\n",
       "\t5 & TCGA-E2-A15I & TCGA-E2-A15I & NA & no & 2c1064d8-64d7-5fc7-aa57-a6a58e08f896\\\\\n",
       "\\end{tabular}\n"
      ],
      "text/markdown": [
       "\n",
       "A data.frame: 5 × 5\n",
       "\n",
       "| <!--/--> | Participant.ID &lt;chr&gt; | submitter_id.clin &lt;chr&gt; | created_datetime.clin &lt;lgl&gt; | prior_malignancy.clin &lt;chr&gt; | diagnosis_id.clin &lt;chr&gt; |\n",
       "|---|---|---|---|---|---|\n",
       "| 1 | TCGA-EW-A1PC | TCGA-EW-A1PC | NA | no | 102cd71e-5a56-53f9-acf7-143c23589b1b |\n",
       "| 2 | TCGA-E2-A15T | TCGA-E2-A15T | NA | no | 2c4bdf9f-2f94-5839-ba9b-9cd5c3ade9c1 |\n",
       "| 3 | TCGA-A8-A06Q | TCGA-A8-A06Q | NA | no | 24899a2b-aec3-592a-88d5-73c70d616750 |\n",
       "| 4 | TCGA-AO-A0JI | TCGA-AO-A0JI | NA | no | 55f24ee5-2989-5fbc-8c50-80f9b5d82e2b |\n",
       "| 5 | TCGA-E2-A15I | TCGA-E2-A15I | NA | no | 2c1064d8-64d7-5fc7-aa57-a6a58e08f896 |\n",
       "\n"
      ],
      "text/plain": [
       "  Participant.ID submitter_id.clin created_datetime.clin prior_malignancy.clin\n",
       "1 TCGA-EW-A1PC   TCGA-EW-A1PC      NA                    no                   \n",
       "2 TCGA-E2-A15T   TCGA-E2-A15T      NA                    no                   \n",
       "3 TCGA-A8-A06Q   TCGA-A8-A06Q      NA                    no                   \n",
       "4 TCGA-AO-A0JI   TCGA-AO-A0JI      NA                    no                   \n",
       "5 TCGA-E2-A15I   TCGA-E2-A15I      NA                    no                   \n",
       "  diagnosis_id.clin                   \n",
       "1 102cd71e-5a56-53f9-acf7-143c23589b1b\n",
       "2 2c4bdf9f-2f94-5839-ba9b-9cd5c3ade9c1\n",
       "3 24899a2b-aec3-592a-88d5-73c70d616750\n",
       "4 55f24ee5-2989-5fbc-8c50-80f9b5d82e2b\n",
       "5 2c1064d8-64d7-5fc7-aa57-a6a58e08f896"
      ]
     },
     "metadata": {},
     "output_type": "display_data"
    }
   ],
   "source": [
    "tcga.dataset.test$DFI$train[1:5,1:5]"
   ]
  },
  {
   "cell_type": "code",
   "execution_count": null,
   "id": "861e4cd1-d310-4ccc-9ae5-6f15b37ef6e7",
   "metadata": {},
   "outputs": [],
   "source": []
  },
  {
   "cell_type": "code",
   "execution_count": 7,
   "id": "a024daf6-c7aa-43b1-813e-9d02627b8e0b",
   "metadata": {},
   "outputs": [
    {
     "name": "stderr",
     "output_type": "stream",
     "text": [
      "Warning message:\n",
      "“Unknown columns: `Tumor.stage.oth`”\n",
      "Warning message:\n",
      "“Unknown columns: `Tumor.stage.oth`”\n",
      "Warning message:\n",
      "“Unknown columns: `Tumor.stage.oth`”\n",
      "Warning message:\n",
      "“Unknown columns: `Tumor.stage.oth`”\n",
      "Warning message:\n",
      "“Unknown columns: `Tumor.stage.oth`”\n",
      "Warning message:\n",
      "“Unknown columns: `Tumor.stage.oth`”\n",
      "Warning message:\n",
      "“Unknown columns: `Tumor.stage.oth`”\n",
      "Warning message:\n",
      "“Unknown columns: `Tumor.stage.oth`”\n",
      "Warning message:\n",
      "“Unknown columns: `Tumor.stage.oth`”\n",
      "Warning message:\n",
      "“Unknown columns: `Tumor.stage.oth`”\n",
      "Warning message:\n",
      "“Unknown columns: `Tumor.stage.oth`”\n",
      "Warning message:\n",
      "“Unknown columns: `Tumor.stage.oth`”\n",
      "Warning message:\n",
      "“Unknown columns: `Tumor.stage.oth`”\n"
     ]
    }
   ],
   "source": [
    "final.results = list()\n",
    "i = 1\n",
    "for (cancer.type in clin.feat.tb$Ctype){\n",
    "    \n",
    "    # Get Clinical variables\n",
    "    clin.var = unlist(strsplit(clin.feat.tb$Features[clin.feat.tb$Ctype == cancer.type], split = \",\"))\n",
    "    \n",
    "    # Add oth-suffix \n",
    "    clin.var = paste0(clin.var, \".oth\")\n",
    "    \n",
    "    #\n",
    "    #\n",
    "    #\n",
    "    \n",
    "    # Read in the preprocessed dataset if continued \n",
    "    tcga.dataset = readRDS(file.path(input.dir.data.path, cancer.type, \"tcga.dataset_merged.rds\"))\n",
    "    \n",
    "    # Add clinical variables to dataset\n",
    "    tcga.dataset = addClinVar(tcga.dataset, clin.var)\n",
    "    \n",
    "    # Selected variables \n",
    "    variables.selected = c(paste0(gene.list, \".exp\"), \"Tumor.stage.oth\")\n",
    "    \n",
    "    # Selected variables         \n",
    "    data.selected.exp = tcga.dataset %>% \n",
    "                        dplyr::select(one_of(variables.selected))\n",
    "    \n",
    "    if (\"Tumor.stage.oth\" %in% colnames(data.selected.exp)){\n",
    "        \n",
    "        # Recode the tumor stage \n",
    "        data.selected.exp$Tumor.stage.oth = recodeTumorStageToNumeric(data.selected.exp$Tumor.stage.oth)\n",
    "        \n",
    "        # Calculate correlation and p-value \n",
    "        res.ls = list()\n",
    "        for (j in 1:ncol(data.selected.exp)){\n",
    "            if (colnames(data.selected.exp[j]) != \"Tumor.stage.oth\"){\n",
    "                var1 = data.selected.exp[,j]\n",
    "                var2 = data.selected.exp$Tumor.stage.oth\n",
    "                res.ls[[colnames(data.selected.exp[j])]] = calcCorr(var1, var2)\n",
    "            }\n",
    "        \n",
    "        }\n",
    "        corr.results = bind_rows(res.ls, .id = \"Gene\")\n",
    "        final.results[[cancer.type]] = corr.results\n",
    "    }\n",
    "}"
   ]
  },
  {
   "cell_type": "code",
   "execution_count": null,
   "id": "f7b9615a-17fb-4a70-84be-933248ca22bb",
   "metadata": {},
   "outputs": [],
   "source": []
  },
  {
   "cell_type": "markdown",
   "id": "5030efad-6e80-4b51-acb6-560bc0b3ce48",
   "metadata": {},
   "source": [
    "TEST WITH KIRP"
   ]
  },
  {
   "cell_type": "code",
   "execution_count": 21,
   "id": "9ce6d3fa-7c23-40b7-889a-cc6790bd5585",
   "metadata": {},
   "outputs": [
    {
     "name": "stderr",
     "output_type": "stream",
     "text": [
      "\n",
      "Attaching package: ‘dplyr’\n",
      "\n",
      "\n",
      "The following objects are masked from ‘package:stats’:\n",
      "\n",
      "    filter, lag\n",
      "\n",
      "\n",
      "The following objects are masked from ‘package:base’:\n",
      "\n",
      "    intersect, setdiff, setequal, union\n",
      "\n",
      "\n"
     ]
    }
   ],
   "source": [
    "library(dplyr)"
   ]
  },
  {
   "cell_type": "code",
   "execution_count": 31,
   "id": "c52b62f9-0569-42be-bc06-a19e0a3afe5c",
   "metadata": {},
   "outputs": [],
   "source": [
    "clin.var = unlist(strsplit(clin.feat.tb$Features[clin.feat.tb$Ctype == \"KICH\"], split = \",\"))"
   ]
  },
  {
   "cell_type": "code",
   "execution_count": 51,
   "id": "ab48c902-1101-417e-a961-ddab79f1f5fd",
   "metadata": {},
   "outputs": [],
   "source": [
    "tcga.dataset = readRDS(file.path(input.dir.data.path, \"KIRP\", \"tcga.dataset.rds\"))"
   ]
  },
  {
   "cell_type": "code",
   "execution_count": 52,
   "id": "cfad26ee-1788-4f62-a6a7-d65c2222888e",
   "metadata": {},
   "outputs": [
    {
     "data": {
      "text/html": [
       "<table class=\"dataframe\">\n",
       "<caption>A data.frame: 5 × 5</caption>\n",
       "<thead>\n",
       "\t<tr><th></th><th scope=col>Participant.ID</th><th scope=col>TSPAN6.exp</th><th scope=col>TNMD.exp</th><th scope=col>DPM1.exp</th><th scope=col>SCYL3.exp</th></tr>\n",
       "\t<tr><th></th><th scope=col>&lt;chr&gt;</th><th scope=col>&lt;dbl&gt;</th><th scope=col>&lt;dbl&gt;</th><th scope=col>&lt;dbl&gt;</th><th scope=col>&lt;dbl&gt;</th></tr>\n",
       "</thead>\n",
       "<tbody>\n",
       "\t<tr><th scope=row>1</th><td>TCGA-DZ-6131</td><td>  NA</td><td>NA</td><td>  NA</td><td>  NA</td></tr>\n",
       "\t<tr><th scope=row>2</th><td>TCGA-B9-7268</td><td>4284</td><td> 1</td><td>2333</td><td>1013</td></tr>\n",
       "\t<tr><th scope=row>3</th><td>TCGA-B1-A655</td><td>4062</td><td> 0</td><td>1681</td><td> 613</td></tr>\n",
       "\t<tr><th scope=row>4</th><td>TCGA-BQ-7045</td><td>1220</td><td> 0</td><td> 400</td><td> 186</td></tr>\n",
       "\t<tr><th scope=row>5</th><td>TCGA-2Z-A9J3</td><td>2597</td><td> 1</td><td>1374</td><td> 546</td></tr>\n",
       "</tbody>\n",
       "</table>\n"
      ],
      "text/latex": [
       "A data.frame: 5 × 5\n",
       "\\begin{tabular}{r|lllll}\n",
       "  & Participant.ID & TSPAN6.exp & TNMD.exp & DPM1.exp & SCYL3.exp\\\\\n",
       "  & <chr> & <dbl> & <dbl> & <dbl> & <dbl>\\\\\n",
       "\\hline\n",
       "\t1 & TCGA-DZ-6131 &   NA & NA &   NA &   NA\\\\\n",
       "\t2 & TCGA-B9-7268 & 4284 &  1 & 2333 & 1013\\\\\n",
       "\t3 & TCGA-B1-A655 & 4062 &  0 & 1681 &  613\\\\\n",
       "\t4 & TCGA-BQ-7045 & 1220 &  0 &  400 &  186\\\\\n",
       "\t5 & TCGA-2Z-A9J3 & 2597 &  1 & 1374 &  546\\\\\n",
       "\\end{tabular}\n"
      ],
      "text/markdown": [
       "\n",
       "A data.frame: 5 × 5\n",
       "\n",
       "| <!--/--> | Participant.ID &lt;chr&gt; | TSPAN6.exp &lt;dbl&gt; | TNMD.exp &lt;dbl&gt; | DPM1.exp &lt;dbl&gt; | SCYL3.exp &lt;dbl&gt; |\n",
       "|---|---|---|---|---|---|\n",
       "| 1 | TCGA-DZ-6131 |   NA | NA |   NA |   NA |\n",
       "| 2 | TCGA-B9-7268 | 4284 |  1 | 2333 | 1013 |\n",
       "| 3 | TCGA-B1-A655 | 4062 |  0 | 1681 |  613 |\n",
       "| 4 | TCGA-BQ-7045 | 1220 |  0 |  400 |  186 |\n",
       "| 5 | TCGA-2Z-A9J3 | 2597 |  1 | 1374 |  546 |\n",
       "\n"
      ],
      "text/plain": [
       "  Participant.ID TSPAN6.exp TNMD.exp DPM1.exp SCYL3.exp\n",
       "1 TCGA-DZ-6131     NA       NA         NA       NA     \n",
       "2 TCGA-B9-7268   4284        1       2333     1013     \n",
       "3 TCGA-B1-A655   4062        0       1681      613     \n",
       "4 TCGA-BQ-7045   1220        0        400      186     \n",
       "5 TCGA-2Z-A9J3   2597        1       1374      546     "
      ]
     },
     "metadata": {},
     "output_type": "display_data"
    }
   ],
   "source": [
    "tcga.dataset$EXP[1:5,1:5]"
   ]
  },
  {
   "cell_type": "code",
   "execution_count": null,
   "id": "2269dacb-1ae3-4a90-9553-4e3ff65a09b2",
   "metadata": {},
   "outputs": [],
   "source": []
  },
  {
   "cell_type": "code",
   "execution_count": null,
   "id": "e779eb97-aec5-4bac-8715-3ed0c962a4c6",
   "metadata": {},
   "outputs": [],
   "source": []
  },
  {
   "cell_type": "code",
   "execution_count": 53,
   "id": "fdc182cd-b926-49f0-977e-b23d793cd2cf",
   "metadata": {},
   "outputs": [],
   "source": [
    "# Prepare expression matrix \n",
    "expression.matrix = tcga.dataset$EXP %>% tibble::column_to_rownames(\"Participant.ID\") %>% as.matrix()"
   ]
  },
  {
   "cell_type": "code",
   "execution_count": 58,
   "id": "e31bf2f6-6a5f-44d2-b68e-fb66e540e123",
   "metadata": {},
   "outputs": [],
   "source": [
    "# Select only complete cases \n",
    "expression.matrix.complete = expression.matrix[complete.cases(expression.matrix),]"
   ]
  },
  {
   "cell_type": "code",
   "execution_count": 60,
   "id": "74bf5b75-7015-4a39-a14c-d021d3024bf5",
   "metadata": {},
   "outputs": [
    {
     "data": {
      "text/html": [
       "<style>\n",
       ".list-inline {list-style: none; margin:0; padding: 0}\n",
       ".list-inline>li {display: inline-block}\n",
       ".list-inline>li:not(:last-child)::after {content: \"\\00b7\"; padding: 0 .5ex}\n",
       "</style>\n",
       "<ol class=list-inline><li>288</li><li>56493</li></ol>\n"
      ],
      "text/latex": [
       "\\begin{enumerate*}\n",
       "\\item 288\n",
       "\\item 56493\n",
       "\\end{enumerate*}\n"
      ],
      "text/markdown": [
       "1. 288\n",
       "2. 56493\n",
       "\n",
       "\n"
      ],
      "text/plain": [
       "[1]   288 56493"
      ]
     },
     "metadata": {},
     "output_type": "display_data"
    }
   ],
   "source": [
    "dim(expression.matrix.complete)"
   ]
  },
  {
   "cell_type": "code",
   "execution_count": 61,
   "id": "f419c256-1c65-4879-b412-ef68a8cd5467",
   "metadata": {},
   "outputs": [],
   "source": [
    "expression.matrix.complete = t(expression.matrix.complete)"
   ]
  },
  {
   "cell_type": "code",
   "execution_count": 62,
   "id": "f9dc7964-aaa0-484b-a374-b451eeb6bbbe",
   "metadata": {},
   "outputs": [
    {
     "name": "stderr",
     "output_type": "stream",
     "text": [
      "converting counts to integer mode\n",
      "\n",
      "gene-wise dispersion estimates\n",
      "\n",
      "mean-dispersion relationship\n",
      "\n",
      "final dispersion estimates\n",
      "\n"
     ]
    }
   ],
   "source": [
    "# Prepare minimal colData with only one condition\n",
    "coldata = data.frame(\"Condition\" = rep(\"Condition\", ncol(expression.matrix.complete)))\n",
    "rownames(coldata) = colnames(expression.matrix.complete)\n",
    "\n",
    "# Generate \n",
    "dds = DESeqDataSetFromMatrix(countData = expression.matrix.complete,\n",
    "                                colData = coldata,\n",
    "                                design = ~1)\n",
    "\n",
    "dds = estimateSizeFactors(dds)\n",
    "dds = estimateDispersions(dds)\n",
    "\n",
    "# Variance stabilisation function \n",
    "vds  = vst(dds, blind = T)\n",
    "\n",
    "# Get the transformed counts\n",
    "vst.counts = assay(vds)"
   ]
  },
  {
   "cell_type": "code",
   "execution_count": 70,
   "id": "0aa7266d-20a7-491e-b488-8299ae47e574",
   "metadata": {},
   "outputs": [],
   "source": [
    "vst.counts.longer = vst.counts %>% as.data.frame() %>% tibble::rownames_to_column(\"Gene\") %>% pivot_longer(-Gene, names_to = \"Participant.ID\", values_to = \"Expression\")"
   ]
  },
  {
   "cell_type": "code",
   "execution_count": 71,
   "id": "f9d14c02-c481-484c-b4d3-1394dd0f6730",
   "metadata": {},
   "outputs": [
    {
     "data": {
      "text/html": [
       "<table class=\"dataframe\">\n",
       "<caption>A tibble: 6 × 3</caption>\n",
       "<thead>\n",
       "\t<tr><th scope=col>Gene</th><th scope=col>Participant.ID</th><th scope=col>Expression</th></tr>\n",
       "\t<tr><th scope=col>&lt;chr&gt;</th><th scope=col>&lt;chr&gt;</th><th scope=col>&lt;dbl&gt;</th></tr>\n",
       "</thead>\n",
       "<tbody>\n",
       "\t<tr><td>TSPAN6.exp</td><td>TCGA-B9-7268</td><td>11.63911</td></tr>\n",
       "\t<tr><td>TSPAN6.exp</td><td>TCGA-B1-A655</td><td>11.67784</td></tr>\n",
       "\t<tr><td>TSPAN6.exp</td><td>TCGA-BQ-7045</td><td>11.66209</td></tr>\n",
       "\t<tr><td>TSPAN6.exp</td><td>TCGA-2Z-A9J3</td><td>11.00360</td></tr>\n",
       "\t<tr><td>TSPAN6.exp</td><td>TCGA-UZ-A9PP</td><td>11.71862</td></tr>\n",
       "\t<tr><td>TSPAN6.exp</td><td>TCGA-UZ-A9PS</td><td>12.02103</td></tr>\n",
       "</tbody>\n",
       "</table>\n"
      ],
      "text/latex": [
       "A tibble: 6 × 3\n",
       "\\begin{tabular}{lll}\n",
       " Gene & Participant.ID & Expression\\\\\n",
       " <chr> & <chr> & <dbl>\\\\\n",
       "\\hline\n",
       "\t TSPAN6.exp & TCGA-B9-7268 & 11.63911\\\\\n",
       "\t TSPAN6.exp & TCGA-B1-A655 & 11.67784\\\\\n",
       "\t TSPAN6.exp & TCGA-BQ-7045 & 11.66209\\\\\n",
       "\t TSPAN6.exp & TCGA-2Z-A9J3 & 11.00360\\\\\n",
       "\t TSPAN6.exp & TCGA-UZ-A9PP & 11.71862\\\\\n",
       "\t TSPAN6.exp & TCGA-UZ-A9PS & 12.02103\\\\\n",
       "\\end{tabular}\n"
      ],
      "text/markdown": [
       "\n",
       "A tibble: 6 × 3\n",
       "\n",
       "| Gene &lt;chr&gt; | Participant.ID &lt;chr&gt; | Expression &lt;dbl&gt; |\n",
       "|---|---|---|\n",
       "| TSPAN6.exp | TCGA-B9-7268 | 11.63911 |\n",
       "| TSPAN6.exp | TCGA-B1-A655 | 11.67784 |\n",
       "| TSPAN6.exp | TCGA-BQ-7045 | 11.66209 |\n",
       "| TSPAN6.exp | TCGA-2Z-A9J3 | 11.00360 |\n",
       "| TSPAN6.exp | TCGA-UZ-A9PP | 11.71862 |\n",
       "| TSPAN6.exp | TCGA-UZ-A9PS | 12.02103 |\n",
       "\n"
      ],
      "text/plain": [
       "  Gene       Participant.ID Expression\n",
       "1 TSPAN6.exp TCGA-B9-7268   11.63911  \n",
       "2 TSPAN6.exp TCGA-B1-A655   11.67784  \n",
       "3 TSPAN6.exp TCGA-BQ-7045   11.66209  \n",
       "4 TSPAN6.exp TCGA-2Z-A9J3   11.00360  \n",
       "5 TSPAN6.exp TCGA-UZ-A9PP   11.71862  \n",
       "6 TSPAN6.exp TCGA-UZ-A9PS   12.02103  "
      ]
     },
     "metadata": {},
     "output_type": "display_data"
    }
   ],
   "source": [
    "head(vst.counts.longer)"
   ]
  },
  {
   "cell_type": "code",
   "execution_count": 72,
   "id": "ce5632da-404e-4d7a-8fdf-2518b37e71db",
   "metadata": {},
   "outputs": [],
   "source": [
    "genes = c(\"AURKA.exp\", \"AURKB.exp\", \"KIF23.exp\")"
   ]
  },
  {
   "cell_type": "code",
   "execution_count": 73,
   "id": "7351d69b-4413-4e28-839c-3bb3301f1269",
   "metadata": {},
   "outputs": [],
   "source": [
    "vst.counts.longer.selected = vst.counts.longer %>% dplyr::filter(Gene %in% genes)"
   ]
  },
  {
   "cell_type": "code",
   "execution_count": 74,
   "id": "ff55000c-b380-4b26-854a-273d35b749a6",
   "metadata": {},
   "outputs": [
    {
     "name": "stderr",
     "output_type": "stream",
     "text": [
      "\u001b[1m\u001b[22mJoining with `by = join_by(Participant.ID)`\n"
     ]
    }
   ],
   "source": [
    "vst.counts.longer.selected.with.clin = left_join(vst.counts.longer.selected, tcga.dataset$CLIN)"
   ]
  },
  {
   "cell_type": "code",
   "execution_count": 75,
   "id": "cfca74eb-62cd-4496-adde-0c08d3ab6532",
   "metadata": {},
   "outputs": [
    {
     "data": {
      "text/html": [
       "<table class=\"dataframe\">\n",
       "<caption>A tibble: 5 × 5</caption>\n",
       "<thead>\n",
       "\t<tr><th scope=col>Gene</th><th scope=col>Participant.ID</th><th scope=col>Expression</th><th scope=col>submitter_id.clin</th><th scope=col>year_of_diagnosis.clin</th></tr>\n",
       "\t<tr><th scope=col>&lt;chr&gt;</th><th scope=col>&lt;chr&gt;</th><th scope=col>&lt;dbl&gt;</th><th scope=col>&lt;chr&gt;</th><th scope=col>&lt;int&gt;</th></tr>\n",
       "</thead>\n",
       "<tbody>\n",
       "\t<tr><td>AURKA.exp</td><td>TCGA-B9-7268</td><td>8.848548</td><td>TCGA-B9-7268</td><td>2011</td></tr>\n",
       "\t<tr><td>AURKA.exp</td><td>TCGA-B1-A655</td><td>9.020904</td><td>TCGA-B1-A655</td><td>2012</td></tr>\n",
       "\t<tr><td>AURKA.exp</td><td>TCGA-BQ-7045</td><td>7.432916</td><td>TCGA-BQ-7045</td><td>2001</td></tr>\n",
       "\t<tr><td>AURKA.exp</td><td>TCGA-2Z-A9J3</td><td>8.132299</td><td>TCGA-2Z-A9J3</td><td>2008</td></tr>\n",
       "\t<tr><td>AURKA.exp</td><td>TCGA-UZ-A9PP</td><td>8.111813</td><td>TCGA-UZ-A9PP</td><td>  NA</td></tr>\n",
       "</tbody>\n",
       "</table>\n"
      ],
      "text/latex": [
       "A tibble: 5 × 5\n",
       "\\begin{tabular}{lllll}\n",
       " Gene & Participant.ID & Expression & submitter\\_id.clin & year\\_of\\_diagnosis.clin\\\\\n",
       " <chr> & <chr> & <dbl> & <chr> & <int>\\\\\n",
       "\\hline\n",
       "\t AURKA.exp & TCGA-B9-7268 & 8.848548 & TCGA-B9-7268 & 2011\\\\\n",
       "\t AURKA.exp & TCGA-B1-A655 & 9.020904 & TCGA-B1-A655 & 2012\\\\\n",
       "\t AURKA.exp & TCGA-BQ-7045 & 7.432916 & TCGA-BQ-7045 & 2001\\\\\n",
       "\t AURKA.exp & TCGA-2Z-A9J3 & 8.132299 & TCGA-2Z-A9J3 & 2008\\\\\n",
       "\t AURKA.exp & TCGA-UZ-A9PP & 8.111813 & TCGA-UZ-A9PP &   NA\\\\\n",
       "\\end{tabular}\n"
      ],
      "text/markdown": [
       "\n",
       "A tibble: 5 × 5\n",
       "\n",
       "| Gene &lt;chr&gt; | Participant.ID &lt;chr&gt; | Expression &lt;dbl&gt; | submitter_id.clin &lt;chr&gt; | year_of_diagnosis.clin &lt;int&gt; |\n",
       "|---|---|---|---|---|\n",
       "| AURKA.exp | TCGA-B9-7268 | 8.848548 | TCGA-B9-7268 | 2011 |\n",
       "| AURKA.exp | TCGA-B1-A655 | 9.020904 | TCGA-B1-A655 | 2012 |\n",
       "| AURKA.exp | TCGA-BQ-7045 | 7.432916 | TCGA-BQ-7045 | 2001 |\n",
       "| AURKA.exp | TCGA-2Z-A9J3 | 8.132299 | TCGA-2Z-A9J3 | 2008 |\n",
       "| AURKA.exp | TCGA-UZ-A9PP | 8.111813 | TCGA-UZ-A9PP |   NA |\n",
       "\n"
      ],
      "text/plain": [
       "  Gene      Participant.ID Expression submitter_id.clin year_of_diagnosis.clin\n",
       "1 AURKA.exp TCGA-B9-7268   8.848548   TCGA-B9-7268      2011                  \n",
       "2 AURKA.exp TCGA-B1-A655   9.020904   TCGA-B1-A655      2012                  \n",
       "3 AURKA.exp TCGA-BQ-7045   7.432916   TCGA-BQ-7045      2001                  \n",
       "4 AURKA.exp TCGA-2Z-A9J3   8.132299   TCGA-2Z-A9J3      2008                  \n",
       "5 AURKA.exp TCGA-UZ-A9PP   8.111813   TCGA-UZ-A9PP        NA                  "
      ]
     },
     "metadata": {},
     "output_type": "display_data"
    }
   ],
   "source": [
    "vst.counts.longer.selected.with.clin[1:5,1:5]"
   ]
  },
  {
   "cell_type": "code",
   "execution_count": 78,
   "id": "6e410195-524e-4542-9f75-8a128720d2ad",
   "metadata": {},
   "outputs": [
    {
     "data": {
      "image/png": "[encoded data removed]",
      "text/plain": [
       "plot without title"
      ]
     },
     "metadata": {
      "image/png": {
       "height": 420,
       "width": 420
      }
     },
     "output_type": "display_data"
    }
   ],
   "source": [
    "vst.counts.longer.selected.with.clin %>% ggplot(aes(x = Gene, y = Expression, fill = Tumor.stage.clin)) + geom_boxplot()"
   ]
  },
  {
   "cell_type": "code",
   "execution_count": null,
   "id": "9435af89-7351-4a73-890f-0b336b0ebdcf",
   "metadata": {},
   "outputs": [],
   "source": []
  }
 ],
 "metadata": {
  "kernelspec": {
   "display_name": "r4.2.2",
   "language": "R",
   "name": "r4.2.2"
  },
  "language_info": {
   "codemirror_mode": "r",
   "file_extension": ".r",
   "mimetype": "text/x-r-source",
   "name": "R",
   "pygments_lexer": "r",
   "version": "4.2.2"
  }
 },
 "nbformat": 4,
 "nbformat_minor": 5
}
