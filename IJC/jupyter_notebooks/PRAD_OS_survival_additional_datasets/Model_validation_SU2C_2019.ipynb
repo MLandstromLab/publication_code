{
 "cells": [
  {
   "cell_type": "markdown",
   "id": "657f51a1-c113-4384-b137-8aba5f4807ac",
   "metadata": {},
   "source": [
    "# Model validation SU2C 2019"
   ]
  },
  {
   "cell_type": "code",
   "execution_count": 1,
   "id": "7bad371a-d8f1-4c07-992e-521c295c1bf2",
   "metadata": {},
   "outputs": [
    {
     "name": "stderr",
     "output_type": "stream",
     "text": [
      "── \u001b[1mAttaching packages\u001b[22m ─────────────────────────────────────────────────────────────────────────────────────────────────────────────────────────────────────────────────────────────────────────────────────────────────── tidyverse 1.3.1 ──\n",
      "\n",
      "\u001b[32m✔\u001b[39m \u001b[34mggplot2\u001b[39m 3.3.5     \u001b[32m✔\u001b[39m \u001b[34mpurrr  \u001b[39m 0.3.4\n",
      "\u001b[32m✔\u001b[39m \u001b[34mtibble \u001b[39m 3.1.7     \u001b[32m✔\u001b[39m \u001b[34mdplyr  \u001b[39m 1.0.9\n",
      "\u001b[32m✔\u001b[39m \u001b[34mtidyr  \u001b[39m 1.2.0     \u001b[32m✔\u001b[39m \u001b[34mstringr\u001b[39m 1.4.0\n",
      "\u001b[32m✔\u001b[39m \u001b[34mreadr  \u001b[39m 2.1.2     \u001b[32m✔\u001b[39m \u001b[34mforcats\u001b[39m 0.5.1\n",
      "\n",
      "── \u001b[1mConflicts\u001b[22m ────────────────────────────────────────────────────────────────────────────────────────────────────────────────────────────────────────────────────────────────────────────────────────────────────── tidyverse_conflicts() ──\n",
      "\u001b[31m✖\u001b[39m \u001b[34mdplyr\u001b[39m::\u001b[32mfilter()\u001b[39m masks \u001b[34mstats\u001b[39m::filter()\n",
      "\u001b[31m✖\u001b[39m \u001b[34mdplyr\u001b[39m::\u001b[32mlag()\u001b[39m    masks \u001b[34mstats\u001b[39m::lag()\n",
      "\n"
     ]
    }
   ],
   "source": [
    "library(tidyverse)"
   ]
  },
  {
   "cell_type": "markdown",
   "id": "67e519bb-cbb3-4e98-900e-0357a1779843",
   "metadata": {},
   "source": [
    "## Functions"
   ]
  },
  {
   "cell_type": "code",
   "execution_count": 15,
   "id": "f99daa93-1cc5-499b-9bcf-cb378fde31fc",
   "metadata": {},
   "outputs": [],
   "source": [
    "# Modify the OS status to match the common convention\n",
    "modifyOSStatus = function(x){\n",
    "    status = unlist(strsplit(x, split = \":\"))[1]\n",
    "    return(status)\n",
    "}\n",
    "\n",
    "# Add patient id from sample clin data\n",
    "addPatientId = function(exp.data, sample.clin.data){\n",
    "    sample.clin.data.minimal = sample.clin.data %>% dplyr::select(PATIENT_ID, SAMPLE_ID)\n",
    "    sample.clin.data.minimal$Sample = sample.clin.data.minimal$SAMPLE_ID\n",
    "    sample.clin.data.minimal = sample.clin.data.minimal %>% dplyr::select(-SAMPLE_ID)\n",
    "    exp.data =  dplyr::left_join(exp.data, \n",
    "                                 sample.clin.data.minimal, by = \"Sample\")\n",
    "    return(exp.data)\n",
    "}\n",
    "\n",
    "# Add survival data from patient clin data \n",
    "addSurvivalData = function(exp.data, patient.clin.data){\n",
    "    patient.clin.data.minimal = patient.clin.data %>% dplyr::select(PATIENT_ID, OS, OS.time)\n",
    "    exp.data =  dplyr::left_join(exp.data, \n",
    "                                 patient.clin.data.minimal, by = \"PATIENT_ID\")\n",
    "\n",
    "}\n",
    "\n",
    "# \n",
    "# Function fits a cox regression model\n",
    "# \n",
    "fitCoxModel = function(data, end.point, features){\n",
    "    \n",
    "    end_point_event = end.point\n",
    "    end_point_time = paste0(end.point, \".time\")\n",
    "    \n",
    "    # Generate a survival formula object \n",
    "    survExpression = paste0(\"Surv(\", end_point_time, \", \" , end_point_event, \")\")\n",
    "    f <- as.formula(paste(survExpression, paste(features, collapse = \" + \"), sep = \" ~ \"))\n",
    "    \n",
    "    model.fit = coxph(f, data = data)\n",
    "    return(model.fit)\n",
    "}\n",
    "\n",
    "#\n",
    "# Plot Kaplan-Meier curve by relative risk\n",
    "#\n",
    "plotKMbyRelativeRisk = function(data, rel.risk) {\n",
    "\n",
    "    # Assign relative risk \n",
    "    data$pred <- rel.risk\n",
    "    data$group <- ifelse(data$pred  < median(data$pred), \"Low\", \"High\")\n",
    "\n",
    "    if (length(table(data$group)) == 2) {\n",
    "\n",
    "        # Fit the survival function \n",
    "        s.fit.train <- survfit(Surv(time, status) ~group, data = data)\n",
    "\n",
    "        # Generate the formula for the model \n",
    "        survExpression = paste0(\"Surv(\", \"time\", \", \" , \"status\", \")\")\n",
    "        f <- as.formula(paste(survExpression, \"group\", sep = \" ~ \"))\n",
    "        sFit <- surv_fit(f, data =  data)\n",
    "\n",
    "        # Initialise results object \n",
    "        sFit.res = list()\n",
    "\n",
    "        # Prepare plot  \n",
    "        sFit.res$Plot <- ggsurvplot(s.fit.train, \n",
    "                           data = data, legend = \"bottom\",\n",
    "                           title = paste0(\"Risk groups\", \" (n = \", nrow(data) ,\")\"),\n",
    "                           legend.title = \"Risk group\", pval = TRUE, xlab = \"Time (days)\", \n",
    "                          font.family = \"Helvetica\", font.x = 15, font.y = 15, font.tickslab = 15, font.legend = 15,\n",
    "                           conf.int = T,\n",
    "                           break.time.by = 10,\n",
    "                           surv.plot.height = 0.65, risk.table = TRUE, cumevents = F,\n",
    "                           ggtheme = theme_classic(), \n",
    "                           fontsize = 5, pval.size = 7, tables.font.tickslab = 5, tables.y.text.col = T, tables.y.text = FALSE, \n",
    "                           tables.theme = theme_survminer())\n",
    "   \n",
    "\n",
    "        # Store relevant information as table \n",
    "        sFit.res$table = data.frame(N = nrow(data), \n",
    "                                Pvalue = surv_pvalue(sFit))\n",
    "\n",
    "    } else {\n",
    "        # Based on the predicted risk it was impossible to group into two groups\n",
    "        # we cannot get a p-value \n",
    "        sFit.res = NULL\n",
    "    } \n",
    "    return(sFit.res)\n",
    "}"
   ]
  },
  {
   "cell_type": "markdown",
   "id": "354106c0-42b4-4ac0-88e2-b38bbd8b1d1a",
   "metadata": {},
   "source": [
    "## Load and preprocess data"
   ]
  },
  {
   "cell_type": "code",
   "execution_count": 16,
   "id": "69b0d2eb-8620-4a3f-8109-fa50188193cd",
   "metadata": {},
   "outputs": [],
   "source": [
    "data.dir = \"/workstation//project_data/landstrom_project_3/PRAD_SU2C_2019/\""
   ]
  },
  {
   "cell_type": "markdown",
   "id": "462e4ca4-f55f-4348-b2f2-fcc5c12f5080",
   "metadata": {},
   "source": [
    "### Clinical patient data"
   ]
  },
  {
   "cell_type": "code",
   "execution_count": 17,
   "id": "2008770f-213a-4b2c-820b-76ab9017d567",
   "metadata": {},
   "outputs": [],
   "source": [
    "# Clinical data for patients \n",
    "clinical.patients = read.csv(file.path(data.dir, \"data_clinical_patient.csv\"), sep = \"\\t\")\n",
    "\n",
    "# Remove all patients without OS_STATUS\n",
    "clinical.patients = clinical.patients[clinical.patients$OS_STATUS != \"\",]\n",
    "\n",
    "# Modify the OS_Status\n",
    "clinical.patients$OS = as.numeric(unlist(map(clinical.patients$OS_STATUS, modifyOSStatus)))\n",
    "clinical.patients$OS.time =  clinical.patients$OS_MONTHS"
   ]
  },
  {
   "cell_type": "markdown",
   "id": "b92d5a2d-481d-48f2-9eeb-b6abc18df24e",
   "metadata": {},
   "source": [
    "### Clinical sample data"
   ]
  },
  {
   "cell_type": "code",
   "execution_count": 18,
   "id": "96f9249e-871b-4df5-8282-bcc8e66a898d",
   "metadata": {},
   "outputs": [],
   "source": [
    "# Clinical data for patients \n",
    "clinical.samples = read.csv(file.path(data.dir, \"data_clinical_sample.csv\"), sep = \"\\t\")\n",
    "\n",
    "# Select only samples from patients with OS status\n",
    "clinical.samples = dplyr::filter(clinical.samples, PATIENT_ID %in% clinical.patients$PATIENT_ID)"
   ]
  },
  {
   "cell_type": "code",
   "execution_count": 19,
   "id": "dd8227df-b317-4e05-97ca-20260dfd42df",
   "metadata": {},
   "outputs": [],
   "source": [
    "sample.counts.per.patient = as.data.frame(table(clinical.samples$PATIENT_ID))"
   ]
  },
  {
   "cell_type": "code",
   "execution_count": 20,
   "id": "64949f96-35ad-4ac7-99f7-fd30b190ced2",
   "metadata": {},
   "outputs": [],
   "source": [
    "colnames(sample.counts.per.patient) = c(\"PATIENT_ID\", \"FREQ\")\n",
    "sample.counts.per.patient = arrange(sample.counts.per.patient, desc(FREQ))"
   ]
  },
  {
   "cell_type": "markdown",
   "id": "08d9c6ee-aa71-4d59-8582-3b9a54a85650",
   "metadata": {},
   "source": [
    "Keep track of the patients with multiple samples. We need to deal with this somehow later."
   ]
  },
  {
   "cell_type": "code",
   "execution_count": 21,
   "id": "ce8788cc-33ed-4cdd-a125-d005f2e88f0a",
   "metadata": {},
   "outputs": [],
   "source": [
    "patients.with.multi = sample.counts.per.patient$PATIENT_ID[sample.counts.per.patient$FREQ > 1]"
   ]
  },
  {
   "cell_type": "markdown",
   "id": "1a80987e-5cd4-455c-b951-5d9e0666949f",
   "metadata": {},
   "source": [
    "### Expression data"
   ]
  },
  {
   "cell_type": "markdown",
   "id": "c4d85516-e62a-4398-ab8c-c5c9145e6c6d",
   "metadata": {},
   "source": [
    "We will load the scaled FPKM values"
   ]
  },
  {
   "cell_type": "code",
   "execution_count": 22,
   "id": "24fd10c2-a7dd-4f03-ac09-06e59bba42d6",
   "metadata": {},
   "outputs": [],
   "source": [
    "# Capture data \n",
    "expression.data.capture.fpkm = read.csv(file.path(data.dir, \"data_mrna_seq_fpkm_capture_zscores_ref_all_samples.csv\"), \n",
    "                                   sep = \"\\t\", check.names = F)\n",
    "\n",
    "# Poly-A data \n",
    "expression.data.polya.fpkm = read.csv(file.path(data.dir, \"data_mrna_seq_fpkm_polya_zscores_ref_all_samples.csv\"), \n",
    "                                   sep = \"\\t\", check.names = F)"
   ]
  },
  {
   "cell_type": "code",
   "execution_count": 23,
   "id": "e844d939-0da7-4235-8ea8-ed2f0976b415",
   "metadata": {},
   "outputs": [],
   "source": [
    "# Select samples included in the clinical.samples \n",
    "expression.data.capture = expression.data.capture.fpkm[,colnames(expression.data.capture.fpkm) %in% c(\"Hugo_Symbol\", clinical.samples$SAMPLE_ID)]\n",
    "\n",
    "expression.data.polya = expression.data.polya.fpkm[,colnames(expression.data.polya.fpkm) %in% c(\"Hugo_Symbol\", clinical.samples$SAMPLE_ID)]"
   ]
  },
  {
   "cell_type": "markdown",
   "id": "861574cd-5957-428a-b5d7-a94963f990e6",
   "metadata": {},
   "source": [
    "## Merge the expression data and clinical data "
   ]
  },
  {
   "cell_type": "markdown",
   "id": "29dcb656-b28d-42f1-a244-102c1d8780a1",
   "metadata": {},
   "source": [
    "First transpose the expression tables"
   ]
  },
  {
   "cell_type": "code",
   "execution_count": 24,
   "id": "a1bf880b-6057-4ca8-9b69-d29040cfcb4e",
   "metadata": {},
   "outputs": [],
   "source": [
    "expression.data.capture.long = expression.data.capture %>% pivot_longer(-Hugo_Symbol, \n",
    "                                 values_to = \"Expression\", \n",
    "                                 names_to = \"Sample\")\n",
    "\n",
    "expression.data.capture.wider = expression.data.capture.long %>% \n",
    "                               pivot_wider(names_from = Hugo_Symbol,\n",
    "                                           values_from =  Expression,\n",
    "                                           values_fn = ~mean(.x, na.rm = TRUE))  \n",
    "\n",
    "colnames(expression.data.capture.wider)[2:ncol(expression.data.capture.wider)] = paste0(colnames(expression.data.capture.wider)[2:ncol(expression.data.capture.wider)], \".exp\")\n",
    "\n",
    "expression.data.polya.long = expression.data.polya %>% pivot_longer(-Hugo_Symbol, \n",
    "                                 values_to = \"Expression\", \n",
    "                                 names_to = \"Sample\")\n",
    "\n",
    "expression.data.polya.wider = expression.data.polya.long %>% \n",
    "                               pivot_wider(names_from = Hugo_Symbol,\n",
    "                                           values_from =  Expression,\n",
    "                                           values_fn = ~mean(.x, na.rm = TRUE))  \n",
    "\n",
    "colnames(expression.data.polya.wider)[2:ncol(expression.data.polya.wider)] = paste0(colnames(expression.data.polya.wider)[2:ncol(expression.data.polya.wider)], \".exp\")\n"
   ]
  },
  {
   "cell_type": "markdown",
   "id": "e7fa91a5-0b0e-40e1-9180-13522c4c9bc7",
   "metadata": {},
   "source": [
    "Add survival data"
   ]
  },
  {
   "cell_type": "code",
   "execution_count": 25,
   "id": "3bd7734f-adbd-482f-a212-44782a4f1b63",
   "metadata": {},
   "outputs": [],
   "source": [
    "# Add patient ids for samples \n",
    "expression.data.capture.with.patid = addPatientId(expression.data.capture.wider, clinical.samples)\n",
    "expression.data.polya.with.patid = addPatientId(expression.data.polya.wider, clinical.samples)"
   ]
  },
  {
   "cell_type": "code",
   "execution_count": 26,
   "id": "33e30478-abed-44ba-b6be-6465c1faa79f",
   "metadata": {},
   "outputs": [],
   "source": [
    "# Add survival data from patient clin data\n",
    "expression.data.capture.final = addSurvivalData(expression.data.capture.with.patid, clinical.patients)\n",
    "expression.data.polya.final = addSurvivalData(expression.data.polya.with.patid, clinical.patients)"
   ]
  },
  {
   "cell_type": "markdown",
   "id": "05a65bbf-0b4e-402d-8f5c-026bf552c1b3",
   "metadata": {},
   "source": [
    "## Fit the Cox-model including the model genes"
   ]
  },
  {
   "cell_type": "markdown",
   "id": "da17f2cf-6050-4351-ae36-e3e5913be492",
   "metadata": {},
   "source": [
    "Output directory :"
   ]
  },
  {
   "cell_type": "code",
   "execution_count": 27,
   "id": "0a276e08-803e-40e8-a3ee-91cc1ef3d39e",
   "metadata": {},
   "outputs": [],
   "source": [
    "out.dir = \"/workstation/project_results/landstrom_project_3/manuscript_work/PRAD_validation_OS/SU2C\""
   ]
  },
  {
   "cell_type": "code",
   "execution_count": 28,
   "id": "bd5f5a07-d6dc-4afc-9dff-80afde485d2e",
   "metadata": {},
   "outputs": [],
   "source": [
    "library(survival)\n",
    "library(survminer)\n",
    "library(ggplot2)\n",
    "library(survcomp)"
   ]
  },
  {
   "cell_type": "markdown",
   "id": "27baab5b-9822-41f1-bd1a-138d6e9768b8",
   "metadata": {},
   "source": [
    "Genes included in the final PFI model were AURKA, AURKB, KIF23 and PTEN"
   ]
  },
  {
   "cell_type": "code",
   "execution_count": 29,
   "id": "8ff25a64-5dc7-4352-937f-d195252bb377",
   "metadata": {},
   "outputs": [],
   "source": [
    "# Final variable selection\n",
    "expression.data.capture.final = expression.data.capture.final %>% \n",
    "       dplyr::select(OS, OS.time, AURKA.exp, AURKB.exp, KIF23.exp, PTEN.exp)\n",
    "\n",
    "expression.data.polya.final = expression.data.polya.final %>% \n",
    "       dplyr::select(OS, OS.time, AURKA.exp, AURKB.exp, KIF23.exp, PTEN.exp)"
   ]
  },
  {
   "cell_type": "markdown",
   "id": "db58b976-d7d2-414f-8b82-2a34dfddeb64",
   "metadata": {},
   "source": [
    "Fitting the model"
   ]
  },
  {
   "cell_type": "code",
   "execution_count": 30,
   "id": "3bb4ff49-17be-44e0-99b8-47899d248879",
   "metadata": {},
   "outputs": [],
   "source": [
    "cox.model.capture = fitCoxModel(expression.data.capture.final, \n",
    "            end.point = \"OS\", \n",
    "            features = c(\"AURKA.exp\", \"AURKB.exp\", \"KIF23.exp\", \"PTEN.exp\"))"
   ]
  },
  {
   "cell_type": "code",
   "execution_count": 31,
   "id": "0205770c-81ee-4b05-ab4d-246d43baba4a",
   "metadata": {},
   "outputs": [
    {
     "data": {
      "text/plain": [
       "Call:\n",
       "coxph(formula = f, data = data)\n",
       "\n",
       "             coef exp(coef) se(coef)      z     p\n",
       "AURKA.exp  0.5036    1.6547   0.3977  1.266 0.205\n",
       "AURKB.exp -0.6349    0.5300   0.3909 -1.624 0.104\n",
       "KIF23.exp  0.4673    1.5957   0.3952  1.183 0.237\n",
       "PTEN.exp   0.3860    1.4711   0.2441  1.581 0.114\n",
       "\n",
       "Likelihood ratio test=9.6  on 4 df, p=0.04766\n",
       "n= 71, number of events= 45 "
      ]
     },
     "metadata": {},
     "output_type": "display_data"
    }
   ],
   "source": [
    "cox.model.capture"
   ]
  },
  {
   "cell_type": "code",
   "execution_count": 32,
   "id": "dc59ba06-46f3-4076-ba70-0cd069e8f310",
   "metadata": {},
   "outputs": [],
   "source": [
    "cox.model.polya = fitCoxModel(expression.data.polya.final, \n",
    "            end.point = \"OS\", \n",
    "            features = c(\"AURKA.exp\", \"AURKB.exp\", \"KIF23.exp\", \"PTEN.exp\"))"
   ]
  },
  {
   "cell_type": "markdown",
   "id": "a99a5130-62c1-4428-8a4d-96764a0a2ac5",
   "metadata": {},
   "source": [
    "Calculate C-index "
   ]
  },
  {
   "cell_type": "code",
   "execution_count": 33,
   "id": "f91e6ff4-a3bc-49ed-8e0a-35fea791b5d7",
   "metadata": {},
   "outputs": [],
   "source": [
    "rel.risk.polya = predict(object = cox.model.polya)\n",
    "rel.risk.capture = predict(object = cox.model.capture)"
   ]
  },
  {
   "cell_type": "code",
   "execution_count": 34,
   "id": "af350014-34cd-42d6-8aa4-680dce48de22",
   "metadata": {},
   "outputs": [],
   "source": [
    "# Prepare data\n",
    "y.data.capture = expression.data.capture.final %>% dplyr::select(OS, OS.time)\n",
    "colnames(y.data.capture) = c(\"status\",\"time\")\n",
    "\n",
    "\n",
    "# Prepare data\n",
    "y.data.polya = expression.data.polya.final %>% dplyr::select(OS, OS.time)\n",
    "colnames(y.data.polya) = c(\"status\",\"time\")"
   ]
  },
  {
   "cell_type": "code",
   "execution_count": 35,
   "id": "99aa5c5f-010a-4c0c-ba15-b232bffe17cc",
   "metadata": {},
   "outputs": [],
   "source": [
    "cindex.polya = concordance.index(rel.risk.polya, \n",
    "                                     y.data.polya$time, \n",
    "                                     y.data.polya$status,\n",
    "                                     na.rm = TRUE)\n",
    "\n",
    "cindex.capture = concordance.index(rel.risk.capture, \n",
    "                                     y.data.capture$time, \n",
    "                                     y.data.capture$status,\n",
    "                                     na.rm = TRUE)"
   ]
  },
  {
   "cell_type": "code",
   "execution_count": 36,
   "id": "f1b3da9b-2eba-45ea-9c1f-b34c49bc4201",
   "metadata": {},
   "outputs": [],
   "source": [
    "# Collect the results \n",
    "c.index.results = data.frame(\"dataset\" = c(\"poly-A\",\"Capture\"), \n",
    "           \"C.index\" = c(cindex.polya$c.index, cindex.capture$c.index),\n",
    "           \"CI\" = c(paste0(round(cindex.polya$lower,3),\"-\",round(cindex.polya$upper),3), \n",
    "                    paste0(round(cindex.capture$lower,3),\"-\",round(cindex.capture$upper),3)))"
   ]
  },
  {
   "cell_type": "code",
   "execution_count": 37,
   "id": "d9096133-142a-4e1c-a9c5-0c83f2a3c0e4",
   "metadata": {},
   "outputs": [
    {
     "data": {
      "text/html": [
       "<table class=\"dataframe\">\n",
       "<caption>A data.frame: 2 × 3</caption>\n",
       "<thead>\n",
       "\t<tr><th scope=col>dataset</th><th scope=col>C.index</th><th scope=col>CI</th></tr>\n",
       "\t<tr><th scope=col>&lt;chr&gt;</th><th scope=col>&lt;dbl&gt;</th><th scope=col>&lt;chr&gt;</th></tr>\n",
       "</thead>\n",
       "<tbody>\n",
       "\t<tr><td>poly-A </td><td>0.6869184</td><td>0.482-13</td></tr>\n",
       "\t<tr><td>Capture</td><td>0.6565056</td><td>0.435-13</td></tr>\n",
       "</tbody>\n",
       "</table>\n"
      ],
      "text/latex": [
       "A data.frame: 2 × 3\n",
       "\\begin{tabular}{lll}\n",
       " dataset & C.index & CI\\\\\n",
       " <chr> & <dbl> & <chr>\\\\\n",
       "\\hline\n",
       "\t poly-A  & 0.6869184 & 0.482-13\\\\\n",
       "\t Capture & 0.6565056 & 0.435-13\\\\\n",
       "\\end{tabular}\n"
      ],
      "text/markdown": [
       "\n",
       "A data.frame: 2 × 3\n",
       "\n",
       "| dataset &lt;chr&gt; | C.index &lt;dbl&gt; | CI &lt;chr&gt; |\n",
       "|---|---|---|\n",
       "| poly-A  | 0.6869184 | 0.482-13 |\n",
       "| Capture | 0.6565056 | 0.435-13 |\n",
       "\n"
      ],
      "text/plain": [
       "  dataset C.index   CI      \n",
       "1 poly-A  0.6869184 0.482-13\n",
       "2 Capture 0.6565056 0.435-13"
      ]
     },
     "metadata": {},
     "output_type": "display_data"
    }
   ],
   "source": [
    "c.index.results "
   ]
  },
  {
   "cell_type": "markdown",
   "id": "0306b3e3-5649-4e27-94fe-301b1e9451af",
   "metadata": {},
   "source": [
    "Prepare KM-plot"
   ]
  },
  {
   "cell_type": "code",
   "execution_count": 38,
   "id": "1aef7dad-b0e9-44b9-b703-40467af57fda",
   "metadata": {},
   "outputs": [],
   "source": [
    "# Plot KM\n",
    "km.res.capture = plotKMbyRelativeRisk(data = y.data.capture, \n",
    "                                     rel.risk = rel.risk.capture)\n",
    "\n",
    "# Plot KM\n",
    "km.res.polya = plotKMbyRelativeRisk(data = y.data.polya, \n",
    "                                     rel.risk = rel.risk.polya)"
   ]
  },
  {
   "cell_type": "code",
   "execution_count": 42,
   "id": "8c3a6949-9704-4950-ab02-fe3b6e7b367f",
   "metadata": {},
   "outputs": [
    {
     "name": "stderr",
     "output_type": "stream",
     "text": [
      "Saving 6.67 x 6.67 in image\n",
      "\n",
      "Saving 6.67 x 6.67 in image\n",
      "\n"
     ]
    }
   ],
   "source": [
    "ggsave(km.res.capture$Plot$plot, filename = file.path(out.dir, \"KM_OS_capture_samples.pdf\"))\n",
    "ggsave(km.res.polya$Plot$plot, filename = file.path(out.dir, \"KM_OS_polyA_samples.pdf\"))"
   ]
  }
 ],
 "metadata": {
  "kernelspec": {
   "display_name": "R 4.1.3",
   "language": "R",
   "name": "r4.1.3"
  },
  "language_info": {
   "codemirror_mode": "r",
   "file_extension": ".r",
   "mimetype": "text/x-r-source",
   "name": "R",
   "pygments_lexer": "r",
   "version": "4.1.3"
  }
 },
 "nbformat": 4,
 "nbformat_minor": 5
}
