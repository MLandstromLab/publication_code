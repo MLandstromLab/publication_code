{
 "cells": [
  {
   "cell_type": "markdown",
   "id": "0f1c25af-dba4-4f72-9866-e7bb44e3a9d6",
   "metadata": {},
   "source": [
    "# PRAD OS survival Mich"
   ]
  },
  {
   "cell_type": "markdown",
   "id": "feb866ec-2d24-49b1-a013-f32e34edf580",
   "metadata": {},
   "source": [
    "Link to publication : "
   ]
  },
  {
   "cell_type": "code",
   "execution_count": 1,
   "id": "41c9a877-2741-4723-97d9-edfdfbeb1204",
   "metadata": {},
   "outputs": [
    {
     "name": "stderr",
     "output_type": "stream",
     "text": [
      "── \u001b[1mAttaching packages\u001b[22m ─────────────────────────────────────────────────────────────────────────── tidyverse 1.3.1 ──\n",
      "\n",
      "\u001b[32m✔\u001b[39m \u001b[34mggplot2\u001b[39m 3.3.5     \u001b[32m✔\u001b[39m \u001b[34mpurrr  \u001b[39m 0.3.4\n",
      "\u001b[32m✔\u001b[39m \u001b[34mtibble \u001b[39m 3.1.7     \u001b[32m✔\u001b[39m \u001b[34mdplyr  \u001b[39m 1.0.9\n",
      "\u001b[32m✔\u001b[39m \u001b[34mtidyr  \u001b[39m 1.2.0     \u001b[32m✔\u001b[39m \u001b[34mstringr\u001b[39m 1.4.0\n",
      "\u001b[32m✔\u001b[39m \u001b[34mreadr  \u001b[39m 2.1.2     \u001b[32m✔\u001b[39m \u001b[34mforcats\u001b[39m 0.5.1\n",
      "\n",
      "── \u001b[1mConflicts\u001b[22m ────────────────────────────────────────────────────────────────────────────── tidyverse_conflicts() ──\n",
      "\u001b[31m✖\u001b[39m \u001b[34mdplyr\u001b[39m::\u001b[32mfilter()\u001b[39m masks \u001b[34mstats\u001b[39m::filter()\n",
      "\u001b[31m✖\u001b[39m \u001b[34mdplyr\u001b[39m::\u001b[32mlag()\u001b[39m    masks \u001b[34mstats\u001b[39m::lag()\n",
      "\n"
     ]
    }
   ],
   "source": [
    "library(tidyverse)"
   ]
  },
  {
   "cell_type": "code",
   "execution_count": 2,
   "id": "5a6bb6a1-49c3-4fc4-871e-f814d977062f",
   "metadata": {},
   "outputs": [
    {
     "name": "stderr",
     "output_type": "stream",
     "text": [
      "Loading required package: ggpubr\n",
      "\n",
      "\n",
      "Attaching package: ‘survminer’\n",
      "\n",
      "\n",
      "The following object is masked from ‘package:survival’:\n",
      "\n",
      "    myeloma\n",
      "\n",
      "\n",
      "Loading required package: prodlim\n",
      "\n"
     ]
    }
   ],
   "source": [
    "library(survival)\n",
    "library(survminer)\n",
    "library(ggplot2)\n",
    "library(survcomp)"
   ]
  },
  {
   "cell_type": "markdown",
   "id": "94984ef9-e16e-488a-a49e-1c51355b116d",
   "metadata": {},
   "source": [
    "## Functions"
   ]
  },
  {
   "cell_type": "code",
   "execution_count": 3,
   "id": "ae060633-7714-48ff-ba15-d50fca980b31",
   "metadata": {},
   "outputs": [],
   "source": [
    "# Modify the OS status to match the common convention\n",
    "modifyOSStatus = function(x){\n",
    "    status = unlist(strsplit(x, split = \":\"))[1]\n",
    "    return(status)\n",
    "}\n",
    "\n",
    "# Add patient id from sample clin data\n",
    "addPatientId = function(exp.data, sample.clin.data){\n",
    "    sample.clin.data.minimal = sample.clin.data %>% dplyr::select(PATIENT_ID, SAMPLE_ID)\n",
    "    sample.clin.data.minimal$Sample = sample.clin.data.minimal$SAMPLE_ID\n",
    "    sample.clin.data.minimal = sample.clin.data.minimal %>% dplyr::select(-SAMPLE_ID)\n",
    "    exp.data =  dplyr::left_join(exp.data, \n",
    "                                 sample.clin.data.minimal, by = \"Sample\")\n",
    "    return(exp.data)\n",
    "}\n",
    "\n",
    "# Add survival data from patient clin data \n",
    "addSurvivalData = function(exp.data, patient.clin.data){\n",
    "    patient.clin.data.minimal = patient.clin.data %>% dplyr::select(PATIENT_ID, OS, OS.time)\n",
    "    exp.data =  dplyr::left_join(exp.data, \n",
    "                                 patient.clin.data.minimal, by = \"PATIENT_ID\")\n",
    "\n",
    "}\n",
    "\n",
    "# \n",
    "# Function fits a cox regression model\n",
    "# \n",
    "fitCoxModel = function(data, end.point, features){\n",
    "    \n",
    "    end_point_event = end.point\n",
    "    end_point_time = paste0(end.point, \".time\")\n",
    "    \n",
    "    # Generate a survival formula object \n",
    "    survExpression = paste0(\"Surv(\", end_point_time, \", \" , end_point_event, \")\")\n",
    "    f <- as.formula(paste(survExpression, paste(features, collapse = \" + \"), sep = \" ~ \"))\n",
    "    \n",
    "    model.fit = coxph(f, data = data)\n",
    "    return(model.fit)\n",
    "}\n",
    "\n",
    "#\n",
    "# Plot Kaplan-Meier curve by relative risk\n",
    "#\n",
    "plotKMbyRelativeRisk = function(data, rel.risk) {\n",
    "\n",
    "    # Assign relative risk \n",
    "    data$pred <- rel.risk\n",
    "    data$group <- ifelse(data$pred  < median(data$pred), \"Low\", \"High\")\n",
    "\n",
    "    if (length(table(data$group)) == 2) {\n",
    "\n",
    "        # Fit the survival function \n",
    "        s.fit.train <- survfit(Surv(time, status) ~group, data = data)\n",
    "\n",
    "        # Generate the formula for the model \n",
    "        survExpression = paste0(\"Surv(\", \"time\", \", \" , \"status\", \")\")\n",
    "        f <- as.formula(paste(survExpression, \"group\", sep = \" ~ \"))\n",
    "        sFit <- surv_fit(f, data =  data)\n",
    "\n",
    "        # Initialise results object \n",
    "        sFit.res = list()\n",
    "\n",
    "        # Prepare plot  \n",
    "        sFit.res$Plot <- ggsurvplot(s.fit.train, \n",
    "                           data = data, legend = \"bottom\",\n",
    "                           title = paste0(\"Risk groups\", \" (n = \", nrow(data) ,\")\"),\n",
    "                           legend.title = \"Risk group\", pval = TRUE, xlab = \"Time (days)\", \n",
    "                          font.family = \"Helvetica\", font.x = 15, font.y = 15, font.tickslab = 15, font.legend = 15,\n",
    "                           conf.int = T,\n",
    "                           break.time.by = 10,\n",
    "                           surv.plot.height = 0.65, risk.table = TRUE, cumevents = F,\n",
    "                           ggtheme = theme_classic(), \n",
    "                           fontsize = 5, pval.size = 7, tables.font.tickslab = 5, tables.y.text.col = T, tables.y.text = FALSE, \n",
    "                           tables.theme = theme_survminer())\n",
    "   \n",
    "\n",
    "        # Store relevant information as table \n",
    "        sFit.res$table = data.frame(N = nrow(data), \n",
    "                                Pvalue = surv_pvalue(sFit))\n",
    "\n",
    "    } else {\n",
    "        # Based on the predicted risk it was impossible to group into two groups\n",
    "        # we cannot get a p-value \n",
    "        sFit.res = NULL\n",
    "    } \n",
    "    return(sFit.res)\n",
    "}"
   ]
  },
  {
   "cell_type": "markdown",
   "id": "631009f1-88ad-4130-9210-2efa5a05acc8",
   "metadata": {},
   "source": [
    "## Load and preprocess data"
   ]
  },
  {
   "cell_type": "code",
   "execution_count": 4,
   "id": "860ccd44-2c8a-4976-b1b2-27e4ed8cfd82",
   "metadata": {},
   "outputs": [],
   "source": [
    "data.dir = \"/workstation//project_data/landstrom_project_3/prad_mich/\""
   ]
  },
  {
   "cell_type": "markdown",
   "id": "2020eed0-4195-4bfe-9266-44de6e355ac1",
   "metadata": {},
   "source": [
    "### Clinical patient data"
   ]
  },
  {
   "cell_type": "code",
   "execution_count": 5,
   "id": "9c2ebd7c-46c6-4434-b471-de6650f2632a",
   "metadata": {},
   "outputs": [],
   "source": [
    "# Clinical data for patients \n",
    "clinical.patients = read.csv(file.path(data.dir, \"data_clinical_patient.csv\"), sep = \"\\t\")\n",
    "\n",
    "# Remove all patients without OS_STATUS\n",
    "clinical.patients = clinical.patients[clinical.patients$OS_STATUS != \"\",]\n",
    "\n",
    "# Modify the OS_Status\n",
    "clinical.patients$OS = as.numeric(unlist(map(clinical.patients$OS_STATUS, modifyOSStatus)))\n",
    "clinical.patients$OS.time =  clinical.patients$OS_MONTHS\n",
    "\n",
    "# Remove patients without overal survival time\n",
    "clinical.patients = clinical.patients[!is.na(clinical.patients$OS.time),]"
   ]
  },
  {
   "cell_type": "markdown",
   "id": "188b882c-66f7-4faa-a734-f95b7d3b5d8b",
   "metadata": {},
   "source": [
    "### Clinical sample data"
   ]
  },
  {
   "cell_type": "code",
   "execution_count": 6,
   "id": "eb3478fb-f58a-4a32-b0e4-e15992489bf4",
   "metadata": {},
   "outputs": [],
   "source": [
    "# Clinical data for patients \n",
    "clinical.samples = read.csv(file.path(data.dir, \"data_clinical_sample.csv\"), sep = \"\\t\")\n",
    "\n",
    "# Select only samples from patients with OS status\n",
    "clinical.samples = dplyr::filter(clinical.samples, PATIENT_ID %in% clinical.patients$PATIENT_ID)"
   ]
  },
  {
   "cell_type": "code",
   "execution_count": 7,
   "id": "41f8f866-5a96-4dbb-aa9b-23be03197f98",
   "metadata": {},
   "outputs": [],
   "source": [
    "sample.counts.per.patient = as.data.frame(table(clinical.samples$PATIENT_ID))"
   ]
  },
  {
   "cell_type": "code",
   "execution_count": 8,
   "id": "57bed142-25ec-4811-a400-ec3e1f79344e",
   "metadata": {},
   "outputs": [],
   "source": [
    "colnames(sample.counts.per.patient) = c(\"PATIENT_ID\", \"FREQ\")\n",
    "sample.counts.per.patient = arrange(sample.counts.per.patient, desc(FREQ))"
   ]
  },
  {
   "cell_type": "markdown",
   "id": "05605618-afbc-4687-90c8-cb8d3ce700f0",
   "metadata": {},
   "source": [
    "Keep track of the patients with multiple samples. We need to deal with this somehow later."
   ]
  },
  {
   "cell_type": "code",
   "execution_count": 9,
   "id": "f24a64ff-74cb-43da-95e7-b815a1c59874",
   "metadata": {},
   "outputs": [],
   "source": [
    "patients.with.multi = sample.counts.per.patient$PATIENT_ID[sample.counts.per.patient$FREQ > 1]"
   ]
  },
  {
   "cell_type": "code",
   "execution_count": 10,
   "id": "90c27eb6-287a-47b3-8a36-ed60ae9bba02",
   "metadata": {},
   "outputs": [
    {
     "data": {
      "text/html": [
       "WA43\n",
       "<details>\n",
       "\t<summary style=display:list-item;cursor:pointer>\n",
       "\t\t<strong>Levels</strong>:\n",
       "\t</summary>\n",
       "\t<style>\n",
       "\t.list-inline {list-style: none; margin:0; padding: 0}\n",
       "\t.list-inline>li {display: inline-block}\n",
       "\t.list-inline>li:not(:last-child)::after {content: \"\\00b7\"; padding: 0 .5ex}\n",
       "\t</style>\n",
       "\t<ol class=list-inline><li>'WA10'</li><li>'WA11'</li><li>'WA12'</li><li>'WA13'</li><li>'WA14'</li><li>'WA15'</li><li>'WA16'</li><li>'WA17'</li><li>'WA18'</li><li>'WA19'</li><li>'WA20'</li><li>'WA22'</li><li>'WA23'</li><li>'WA24'</li><li>'WA25'</li><li>'WA26'</li><li>'WA27'</li><li>'WA28'</li><li>'WA29'</li><li>'WA3'</li><li>'WA30'</li><li>'WA31'</li><li>'WA32'</li><li>'WA33'</li><li>'WA35'</li><li>'WA37'</li><li>'WA38'</li><li>'WA39'</li><li>'WA40'</li><li>'WA41'</li><li>'WA42'</li><li>'WA43'</li><li>'WA46'</li><li>'WA47'</li><li>'WA48'</li><li>'WA49'</li><li>'WA50'</li><li>'WA51'</li><li>'WA52'</li><li>'WA53'</li><li>'WA54'</li><li>'WA55'</li><li>'WA56'</li><li>'WA57'</li><li>'WA58'</li><li>'WA59'</li><li>'WA60'</li><li>'WA7'</li></ol>\n",
       "</details>"
      ],
      "text/latex": [
       "WA43\n",
       "\\emph{Levels}: \\begin{enumerate*}\n",
       "\\item 'WA10'\n",
       "\\item 'WA11'\n",
       "\\item 'WA12'\n",
       "\\item 'WA13'\n",
       "\\item 'WA14'\n",
       "\\item 'WA15'\n",
       "\\item 'WA16'\n",
       "\\item 'WA17'\n",
       "\\item 'WA18'\n",
       "\\item 'WA19'\n",
       "\\item 'WA20'\n",
       "\\item 'WA22'\n",
       "\\item 'WA23'\n",
       "\\item 'WA24'\n",
       "\\item 'WA25'\n",
       "\\item 'WA26'\n",
       "\\item 'WA27'\n",
       "\\item 'WA28'\n",
       "\\item 'WA29'\n",
       "\\item 'WA3'\n",
       "\\item 'WA30'\n",
       "\\item 'WA31'\n",
       "\\item 'WA32'\n",
       "\\item 'WA33'\n",
       "\\item 'WA35'\n",
       "\\item 'WA37'\n",
       "\\item 'WA38'\n",
       "\\item 'WA39'\n",
       "\\item 'WA40'\n",
       "\\item 'WA41'\n",
       "\\item 'WA42'\n",
       "\\item 'WA43'\n",
       "\\item 'WA46'\n",
       "\\item 'WA47'\n",
       "\\item 'WA48'\n",
       "\\item 'WA49'\n",
       "\\item 'WA50'\n",
       "\\item 'WA51'\n",
       "\\item 'WA52'\n",
       "\\item 'WA53'\n",
       "\\item 'WA54'\n",
       "\\item 'WA55'\n",
       "\\item 'WA56'\n",
       "\\item 'WA57'\n",
       "\\item 'WA58'\n",
       "\\item 'WA59'\n",
       "\\item 'WA60'\n",
       "\\item 'WA7'\n",
       "\\end{enumerate*}\n"
      ],
      "text/markdown": [
       "WA43\n",
       "**Levels**: 1. 'WA10'\n",
       "2. 'WA11'\n",
       "3. 'WA12'\n",
       "4. 'WA13'\n",
       "5. 'WA14'\n",
       "6. 'WA15'\n",
       "7. 'WA16'\n",
       "8. 'WA17'\n",
       "9. 'WA18'\n",
       "10. 'WA19'\n",
       "11. 'WA20'\n",
       "12. 'WA22'\n",
       "13. 'WA23'\n",
       "14. 'WA24'\n",
       "15. 'WA25'\n",
       "16. 'WA26'\n",
       "17. 'WA27'\n",
       "18. 'WA28'\n",
       "19. 'WA29'\n",
       "20. 'WA3'\n",
       "21. 'WA30'\n",
       "22. 'WA31'\n",
       "23. 'WA32'\n",
       "24. 'WA33'\n",
       "25. 'WA35'\n",
       "26. 'WA37'\n",
       "27. 'WA38'\n",
       "28. 'WA39'\n",
       "29. 'WA40'\n",
       "30. 'WA41'\n",
       "31. 'WA42'\n",
       "32. 'WA43'\n",
       "33. 'WA46'\n",
       "34. 'WA47'\n",
       "35. 'WA48'\n",
       "36. 'WA49'\n",
       "37. 'WA50'\n",
       "38. 'WA51'\n",
       "39. 'WA52'\n",
       "40. 'WA53'\n",
       "41. 'WA54'\n",
       "42. 'WA55'\n",
       "43. 'WA56'\n",
       "44. 'WA57'\n",
       "45. 'WA58'\n",
       "46. 'WA59'\n",
       "47. 'WA60'\n",
       "48. 'WA7'\n",
       "\n",
       "\n"
      ],
      "text/plain": [
       "[1] WA43\n",
       "48 Levels: WA10 WA11 WA12 WA13 WA14 WA15 WA16 WA17 WA18 WA19 WA20 WA22 ... WA7"
      ]
     },
     "metadata": {},
     "output_type": "display_data"
    }
   ],
   "source": [
    "patients.with.multi"
   ]
  },
  {
   "cell_type": "markdown",
   "id": "01d1600b-c6f1-46b6-a584-12dde83ffc5c",
   "metadata": {},
   "source": [
    "### Expression data"
   ]
  },
  {
   "cell_type": "code",
   "execution_count": 11,
   "id": "975a358f-7763-464b-ab15-3cef00f1b95a",
   "metadata": {},
   "outputs": [],
   "source": [
    "# Capture data \n",
    "expression.data.rpkm = read.csv(file.path(data.dir, \"data_mrna_seq_rpkm_zscores_ref_diploid_samples.csv\"), \n",
    "                                   sep = \"\\t\", check.names = F)"
   ]
  },
  {
   "cell_type": "code",
   "execution_count": 12,
   "id": "fa250445-05a5-408e-96be-759b710422c9",
   "metadata": {},
   "outputs": [],
   "source": [
    "# Select samples included in the clinical.samples \n",
    "expression.data.rpkm = expression.data.rpkm[,colnames(expression.data.rpkm) %in% c(\"Hugo_Symbol\", clinical.samples$SAMPLE_ID)]"
   ]
  },
  {
   "cell_type": "code",
   "execution_count": 13,
   "id": "61d318ee-bd03-41c9-acc8-4f22c7665c89",
   "metadata": {},
   "outputs": [
    {
     "data": {
      "text/html": [
       "<style>\n",
       ".list-inline {list-style: none; margin:0; padding: 0}\n",
       ".list-inline>li {display: inline-block}\n",
       ".list-inline>li:not(:last-child)::after {content: \"\\00b7\"; padding: 0 .5ex}\n",
       "</style>\n",
       "<ol class=list-inline><li>20709</li><li>32</li></ol>\n"
      ],
      "text/latex": [
       "\\begin{enumerate*}\n",
       "\\item 20709\n",
       "\\item 32\n",
       "\\end{enumerate*}\n"
      ],
      "text/markdown": [
       "1. 20709\n",
       "2. 32\n",
       "\n",
       "\n"
      ],
      "text/plain": [
       "[1] 20709    32"
      ]
     },
     "metadata": {},
     "output_type": "display_data"
    }
   ],
   "source": [
    "dim(expression.data.rpkm)"
   ]
  },
  {
   "cell_type": "markdown",
   "id": "5df833a6-bd21-48c3-a81d-f5a21066e161",
   "metadata": {},
   "source": [
    "## Merge the expression data and clinical data "
   ]
  },
  {
   "cell_type": "markdown",
   "id": "9fbb6ef6-74ab-408a-ab08-3dd4d3fe4cf1",
   "metadata": {},
   "source": [
    "First transpose the expression tables"
   ]
  },
  {
   "cell_type": "code",
   "execution_count": 14,
   "id": "28a5f6ae-0bc8-4870-a4ab-96039b49f104",
   "metadata": {},
   "outputs": [],
   "source": [
    "expression.data.rpkm.long = expression.data.rpkm %>% pivot_longer(-Hugo_Symbol, \n",
    "                                 values_to = \"Expression\", \n",
    "                                 names_to = \"Sample\")\n",
    "\n",
    "expression.data.rpkm.wider = expression.data.rpkm.long %>% \n",
    "                               pivot_wider(names_from = Hugo_Symbol,\n",
    "                                           values_from =  Expression,\n",
    "                                           values_fn = ~mean(.x, na.rm = TRUE))  \n",
    "\n",
    "colnames(expression.data.rpkm.wider)[2:ncol(expression.data.rpkm.wider)] = paste0(colnames(expression.data.rpkm.wider)[2:ncol(expression.data.rpkm.wider)], \".exp\")\n"
   ]
  },
  {
   "cell_type": "code",
   "execution_count": 15,
   "id": "a52b3ac0-e44c-4034-b276-0d7a57b71acc",
   "metadata": {},
   "outputs": [],
   "source": [
    "# Add patient ids for samples \n",
    "expression.data.rpkm.with.patid = addPatientId(expression.data.rpkm.wider, clinical.samples)"
   ]
  },
  {
   "cell_type": "code",
   "execution_count": 16,
   "id": "76ef0de0-14d4-437b-9a28-96fdf7d3443a",
   "metadata": {},
   "outputs": [],
   "source": [
    "# Add survival data from patient clin data\n",
    "expression.data.rpkm.final = addSurvivalData(expression.data.rpkm.with.patid, clinical.patients)"
   ]
  },
  {
   "cell_type": "markdown",
   "id": "d34a001f-d4f2-4860-bf76-cf5466f762fa",
   "metadata": {},
   "source": [
    "## Run univariate feature analysis for pre-filtering features "
   ]
  },
  {
   "cell_type": "code",
   "execution_count": 18,
   "id": "523c5078-da13-4865-99e0-9ad9b1335c05",
   "metadata": {},
   "outputs": [],
   "source": [
    "# Gene list  \n",
    "gene.list.file = read.table(\"/workstation/project_data/landstrom_project_3/Customer_genes.tsv\", \n",
    "                            sep = \"\\t\", header = F)\n",
    "gene.list = gene.list.file$V1"
   ]
  },
  {
   "cell_type": "code",
   "execution_count": 19,
   "id": "60352f59-f1ea-4fc7-b61e-7cd5b51829ec",
   "metadata": {},
   "outputs": [],
   "source": [
    "expression.data.rpkm.final.goi = expression.data.rpkm.final %>% select(one_of(paste0(gene.list, \".exp\")), OS, OS.time)"
   ]
  },
  {
   "cell_type": "code",
   "execution_count": 21,
   "id": "995c39c1-05f8-4969-a6e2-676d5b0d18e0",
   "metadata": {},
   "outputs": [],
   "source": [
    "#\n",
    "# Main function\n",
    "#\n",
    "plotKMexp = function(variable,\n",
    "                     training_data,\n",
    "                     end_point_event,\n",
    "                     end_point_time,\n",
    "                     plot_title,\n",
    "                     life.table = T){\n",
    "  \n",
    "  # Subset training data by variables \n",
    "  trainingDataFinal =  training_data %>% \n",
    "    dplyr::select(all_of(c(variable, end_point_event,  end_point_time)))\n",
    "\n",
    "  \n",
    "  # Calculate median expression \n",
    "  medianExpression = median(trainingDataFinal[[variable]])\n",
    "  \n",
    "  # Divide into two groups \n",
    "  group = ifelse(trainingDataFinal[[variable]] > medianExpression, \"High\", \"Low\")\n",
    "  \n",
    "  # Add as variable \n",
    "  trainingDataFinal$group = group\n",
    "  \n",
    "  # Generate the formula for the model \n",
    "  survExpression = paste0(\"Surv(\", end_point_time, \", \" , end_point_event, \")\")\n",
    "  f <- as.formula(paste(survExpression, \"group\", sep = \" ~ \"))\n",
    "  sFit <- surv_fit(f, data =  trainingDataFinal)\n",
    " \n",
    "  # Store plot and p-value \n",
    "  sFit.res = list()\n",
    "\n",
    "  # Prepare KM\n",
    "  if (life.table == T) {\n",
    "    sFit.res$Plot <- ggsurvplot(sFit, \n",
    "                           data = trainingDataFinal, legend = \"bottom\",\n",
    "                           title = paste0(plot_title, \" (n = \", nrow(trainingDataFinal) ,\")\"),\n",
    "                           legend.title = \"Expression group\", pval = TRUE, xlab = \"Time (days)\", \n",
    "                           font.family = \"Helvetica\", font.x = 15, font.y = 15, font.tickslab = 15, font.legend = 15,\n",
    "                           conf.int = T,\n",
    "                           break.time.by = 10,\n",
    "                           surv.plot.height = 0.65, risk.table = TRUE, cumevents = F,\n",
    "                           ggtheme = theme_classic(), \n",
    "                           fontsize = 5, pval.size = 7, tables.font.tickslab = 5, tables.y.text.col = T, tables.y.text = FALSE, \n",
    "                           tables.theme = theme_survminer())\n",
    "  } else {\n",
    "    sFit.res$Plot <- ggsurvplot(sFit, \n",
    "                           data = trainingDataFinal, legend = \"none\",\n",
    "                           title = paste0(plot_title, \" (n = \", nrow(trainingDataFinal) ,\")\"),\n",
    "                           legend.title = \"Expression group\", pval = TRUE, xlab = \"Time (days)\", \n",
    "                           font.family = \"Helvetica\", font.x = 10, font.y = 10, font.tickslab = 10, font.legend = 8,\n",
    "                           conf.int = T,\n",
    "                           break.time.by = 10,\n",
    "                           surv.plot.height = 0.65, risk.table = FALSE, cumevents = F,\n",
    "                           ggtheme = theme_classic(), \n",
    "                           fontsize = 5, pval.size = 5)\n",
    "  }\n",
    "\n",
    "  # Get p-value \n",
    "  sFit.res$Pval = surv_pvalue(sFit)\n",
    "  \n",
    "  return(sFit.res)\n",
    "  \n",
    "}"
   ]
  },
  {
   "cell_type": "code",
   "execution_count": 22,
   "id": "580d22ae-28ce-42bc-8ff4-ce7fdb84016e",
   "metadata": {},
   "outputs": [],
   "source": [
    "runUnivariateKM = function(input.data, \n",
    "                           variables,\n",
    "                           clinical.endpoint,\n",
    "                           plots){\n",
    "\n",
    "    # Storing results \n",
    "    results.plots = list()\n",
    "    results.tables = list()\n",
    "\n",
    "    # Iterate over variables\n",
    "    for (var in variables) {\n",
    "        \n",
    "        \n",
    "        results = plotKMexp(variable = var, \n",
    "                            training_data = input.data,\n",
    "                            end_point_event = clinical.endpoint,\n",
    "                            end_point_time = paste0(clinical.endpoint, \".time\"),\n",
    "                            plot_title = \"Full cohort\")\n",
    "\n",
    "        results.plots[[var]] = results$Plot\n",
    "        results.tables[[var]] = results$Pval\n",
    "    }\n",
    "    return(list(results.plots, results.tables))\n",
    "}"
   ]
  },
  {
   "cell_type": "code",
   "execution_count": 23,
   "id": "a7ee5027-662a-42ab-af60-44034e09c7b8",
   "metadata": {},
   "outputs": [],
   "source": [
    "# Run univariate KM\n",
    "km.results = runUnivariateKM(input.data = expression.data.rpkm.final.goi, \n",
    "                                  variables = paste0(gene.list, \".exp\") ,\n",
    "                                  clinical.endpoint = \"OS\",\n",
    "                                  plots = T)"
   ]
  },
  {
   "cell_type": "code",
   "execution_count": 28,
   "id": "a4488a89-f0fa-4775-864c-24e110c3965e",
   "metadata": {},
   "outputs": [],
   "source": [
    "km.results.table = bind_rows(km.results[[2]], .id = \"Feature\")"
   ]
  },
  {
   "cell_type": "code",
   "execution_count": 29,
   "id": "96a2d431-7998-45f8-9cf2-338669ee483f",
   "metadata": {},
   "outputs": [
    {
     "data": {
      "text/html": [
       "<table class=\"dataframe\">\n",
       "<caption>A data.frame: 13 × 5</caption>\n",
       "<thead>\n",
       "\t<tr><th scope=col>Feature</th><th scope=col>variable</th><th scope=col>pval</th><th scope=col>method</th><th scope=col>pval.txt</th></tr>\n",
       "\t<tr><th scope=col>&lt;chr&gt;</th><th scope=col>&lt;chr&gt;</th><th scope=col>&lt;dbl&gt;</th><th scope=col>&lt;chr&gt;</th><th scope=col>&lt;chr&gt;</th></tr>\n",
       "</thead>\n",
       "<tbody>\n",
       "\t<tr><td>PTEN.exp  </td><td>group</td><td>0.07602816</td><td>Log-rank</td><td>p = 0.076</td></tr>\n",
       "\t<tr><td>VPS4B.exp </td><td>group</td><td>0.13742083</td><td>Log-rank</td><td>p = 0.14 </td></tr>\n",
       "\t<tr><td>MYC.exp   </td><td>group</td><td>0.24092131</td><td>Log-rank</td><td>p = 0.24 </td></tr>\n",
       "\t<tr><td>APPL1.exp </td><td>group</td><td>0.27741803</td><td>Log-rank</td><td>p = 0.28 </td></tr>\n",
       "\t<tr><td>VPS4A.exp </td><td>group</td><td>0.31841902</td><td>Log-rank</td><td>p = 0.32 </td></tr>\n",
       "\t<tr><td>TGFBR1.exp</td><td>group</td><td>0.49682305</td><td>Log-rank</td><td>p = 0.5  </td></tr>\n",
       "\t<tr><td>AURKB.exp </td><td>group</td><td>0.50361136</td><td>Log-rank</td><td>p = 0.5  </td></tr>\n",
       "\t<tr><td>KIF23.exp </td><td>group</td><td>0.60287181</td><td>Log-rank</td><td>p = 0.6  </td></tr>\n",
       "\t<tr><td>AURKA.exp </td><td>group</td><td>0.61005608</td><td>Log-rank</td><td>p = 0.61 </td></tr>\n",
       "\t<tr><td>APPL2.exp </td><td>group</td><td>0.61812284</td><td>Log-rank</td><td>p = 0.62 </td></tr>\n",
       "\t<tr><td>AR.exp    </td><td>group</td><td>0.66470327</td><td>Log-rank</td><td>p = 0.66 </td></tr>\n",
       "\t<tr><td>TP53.exp  </td><td>group</td><td>0.68675065</td><td>Log-rank</td><td>p = 0.69 </td></tr>\n",
       "\t<tr><td>TRAF6.exp </td><td>group</td><td>0.95489137</td><td>Log-rank</td><td>p = 0.95 </td></tr>\n",
       "</tbody>\n",
       "</table>\n"
      ],
      "text/latex": [
       "A data.frame: 13 × 5\n",
       "\\begin{tabular}{lllll}\n",
       " Feature & variable & pval & method & pval.txt\\\\\n",
       " <chr> & <chr> & <dbl> & <chr> & <chr>\\\\\n",
       "\\hline\n",
       "\t PTEN.exp   & group & 0.07602816 & Log-rank & p = 0.076\\\\\n",
       "\t VPS4B.exp  & group & 0.13742083 & Log-rank & p = 0.14 \\\\\n",
       "\t MYC.exp    & group & 0.24092131 & Log-rank & p = 0.24 \\\\\n",
       "\t APPL1.exp  & group & 0.27741803 & Log-rank & p = 0.28 \\\\\n",
       "\t VPS4A.exp  & group & 0.31841902 & Log-rank & p = 0.32 \\\\\n",
       "\t TGFBR1.exp & group & 0.49682305 & Log-rank & p = 0.5  \\\\\n",
       "\t AURKB.exp  & group & 0.50361136 & Log-rank & p = 0.5  \\\\\n",
       "\t KIF23.exp  & group & 0.60287181 & Log-rank & p = 0.6  \\\\\n",
       "\t AURKA.exp  & group & 0.61005608 & Log-rank & p = 0.61 \\\\\n",
       "\t APPL2.exp  & group & 0.61812284 & Log-rank & p = 0.62 \\\\\n",
       "\t AR.exp     & group & 0.66470327 & Log-rank & p = 0.66 \\\\\n",
       "\t TP53.exp   & group & 0.68675065 & Log-rank & p = 0.69 \\\\\n",
       "\t TRAF6.exp  & group & 0.95489137 & Log-rank & p = 0.95 \\\\\n",
       "\\end{tabular}\n"
      ],
      "text/markdown": [
       "\n",
       "A data.frame: 13 × 5\n",
       "\n",
       "| Feature &lt;chr&gt; | variable &lt;chr&gt; | pval &lt;dbl&gt; | method &lt;chr&gt; | pval.txt &lt;chr&gt; |\n",
       "|---|---|---|---|---|\n",
       "| PTEN.exp   | group | 0.07602816 | Log-rank | p = 0.076 |\n",
       "| VPS4B.exp  | group | 0.13742083 | Log-rank | p = 0.14  |\n",
       "| MYC.exp    | group | 0.24092131 | Log-rank | p = 0.24  |\n",
       "| APPL1.exp  | group | 0.27741803 | Log-rank | p = 0.28  |\n",
       "| VPS4A.exp  | group | 0.31841902 | Log-rank | p = 0.32  |\n",
       "| TGFBR1.exp | group | 0.49682305 | Log-rank | p = 0.5   |\n",
       "| AURKB.exp  | group | 0.50361136 | Log-rank | p = 0.5   |\n",
       "| KIF23.exp  | group | 0.60287181 | Log-rank | p = 0.6   |\n",
       "| AURKA.exp  | group | 0.61005608 | Log-rank | p = 0.61  |\n",
       "| APPL2.exp  | group | 0.61812284 | Log-rank | p = 0.62  |\n",
       "| AR.exp     | group | 0.66470327 | Log-rank | p = 0.66  |\n",
       "| TP53.exp   | group | 0.68675065 | Log-rank | p = 0.69  |\n",
       "| TRAF6.exp  | group | 0.95489137 | Log-rank | p = 0.95  |\n",
       "\n"
      ],
      "text/plain": [
       "   Feature    variable pval       method   pval.txt \n",
       "1  PTEN.exp   group    0.07602816 Log-rank p = 0.076\n",
       "2  VPS4B.exp  group    0.13742083 Log-rank p = 0.14 \n",
       "3  MYC.exp    group    0.24092131 Log-rank p = 0.24 \n",
       "4  APPL1.exp  group    0.27741803 Log-rank p = 0.28 \n",
       "5  VPS4A.exp  group    0.31841902 Log-rank p = 0.32 \n",
       "6  TGFBR1.exp group    0.49682305 Log-rank p = 0.5  \n",
       "7  AURKB.exp  group    0.50361136 Log-rank p = 0.5  \n",
       "8  KIF23.exp  group    0.60287181 Log-rank p = 0.6  \n",
       "9  AURKA.exp  group    0.61005608 Log-rank p = 0.61 \n",
       "10 APPL2.exp  group    0.61812284 Log-rank p = 0.62 \n",
       "11 AR.exp     group    0.66470327 Log-rank p = 0.66 \n",
       "12 TP53.exp   group    0.68675065 Log-rank p = 0.69 \n",
       "13 TRAF6.exp  group    0.95489137 Log-rank p = 0.95 "
      ]
     },
     "metadata": {},
     "output_type": "display_data"
    }
   ],
   "source": [
    "km.results.table  %>% arrange(pval)"
   ]
  },
  {
   "cell_type": "markdown",
   "id": "5436ea36-f97f-4ff6-8e56-d507f810a8da",
   "metadata": {},
   "source": [
    "## Fit the Cox-model including the model genes"
   ]
  },
  {
   "cell_type": "markdown",
   "id": "6af3ceba-2432-4c6c-bbfb-18f8c6788b15",
   "metadata": {},
   "source": [
    "#### P-value threshold 0.1"
   ]
  },
  {
   "cell_type": "code",
   "execution_count": 32,
   "id": "dc59ba06-46f3-4076-ba70-0cd069e8f310",
   "metadata": {},
   "outputs": [],
   "source": [
    "cox.model.005 = fitCoxModel(expression.data.rpkm.final.goi, \n",
    "            end.point = \"OS\", \n",
    "            features = km.results.table$Feature[km.results.table$pval < 0.1])"
   ]
  },
  {
   "cell_type": "code",
   "execution_count": 33,
   "id": "a387dd3b-6ffc-41fb-ba2c-5c90baa89372",
   "metadata": {},
   "outputs": [
    {
     "data": {
      "text/plain": [
       "Call:\n",
       "coxph(formula = f, data = data)\n",
       "\n",
       "           coef exp(coef) se(coef)     z    p\n",
       "PTEN.exp 0.1845    1.2027   0.1672 1.103 0.27\n",
       "\n",
       "Likelihood ratio test=1.24  on 1 df, p=0.2653\n",
       "n= 31, number of events= 31 "
      ]
     },
     "metadata": {},
     "output_type": "display_data"
    }
   ],
   "source": [
    "cox.model.005"
   ]
  },
  {
   "cell_type": "code",
   "execution_count": 34,
   "id": "d5bdd804-39e0-446a-98df-135a439f439c",
   "metadata": {},
   "outputs": [],
   "source": [
    "# Predict based on model\n",
    "rel.risk.005 = predict(object = cox.model.005)"
   ]
  },
  {
   "cell_type": "code",
   "execution_count": 35,
   "id": "d94855ca-6657-45c5-acfa-7c8d03d08fb8",
   "metadata": {},
   "outputs": [],
   "source": [
    "# Prepare data\n",
    "y.data.005 = expression.data.rpkm.final.goi %>% dplyr::select(OS, OS.time)\n",
    "colnames(y.data.005) = c(\"status\",\"time\")"
   ]
  },
  {
   "cell_type": "code",
   "execution_count": 39,
   "id": "b3d86d71-c5c6-4201-b736-49ecc32482f5",
   "metadata": {},
   "outputs": [],
   "source": [
    "# Calculate C-index\n",
    "cindex.005 = concordance.index(rel.risk.005, \n",
    "                                     y.data.005$time, \n",
    "                                     y.data.005$status,\n",
    "                                     na.rm = TRUE)"
   ]
  },
  {
   "cell_type": "code",
   "execution_count": 40,
   "id": "2a960397-5391-400c-80e9-65079c5cd4a0",
   "metadata": {},
   "outputs": [
    {
     "data": {
      "text/html": [
       "0.557734204793028"
      ],
      "text/latex": [
       "0.557734204793028"
      ],
      "text/markdown": [
       "0.557734204793028"
      ],
      "text/plain": [
       "[1] 0.5577342"
      ]
     },
     "metadata": {},
     "output_type": "display_data"
    }
   ],
   "source": [
    "cindex.005$c.index"
   ]
  },
  {
   "cell_type": "code",
   "execution_count": 41,
   "id": "073833ce-a0fa-4109-af16-69885165add0",
   "metadata": {},
   "outputs": [],
   "source": [
    "# Plot KM\n",
    "km.res.005 = plotKMbyRelativeRisk(data = y.data.005, \n",
    "                                     rel.risk = rel.risk.005)"
   ]
  },
  {
   "cell_type": "code",
   "execution_count": 42,
   "id": "b25f74bd-58bb-42cc-ae90-cbd4f0e560b0",
   "metadata": {},
   "outputs": [
    {
     "data": {
      "text/plain": [
       "$Plot\n",
       "\n",
       "$table\n",
       "   N Pvalue.variable Pvalue.pval Pvalue.method Pvalue.pval.txt\n",
       "1 31           group  0.04317635      Log-rank       p = 0.043\n"
      ]
     },
     "metadata": {},
     "output_type": "display_data"
    },
    {
     "data": {
      "image/png": "[encoded data removed]",
      "text/plain": [
       "plot without title"
      ]
     },
     "metadata": {
      "image/png": {
       "height": 420,
       "width": 420
      }
     },
     "output_type": "display_data"
    }
   ],
   "source": [
    "km.res.005"
   ]
  },
  {
   "cell_type": "markdown",
   "id": "1d853805-ec07-49e1-ad23-8f2623558467",
   "metadata": {},
   "source": [
    "#### P-value threshold 0.2"
   ]
  },
  {
   "cell_type": "code",
   "execution_count": 43,
   "id": "45813860-b5c7-4580-a5af-5d5a6a16691c",
   "metadata": {},
   "outputs": [],
   "source": [
    "cox.model.02 = fitCoxModel(expression.data.rpkm.final.goi, \n",
    "            end.point = \"OS\", \n",
    "            features = km.results.table$Feature[km.results.table$pval < 0.2])"
   ]
  },
  {
   "cell_type": "code",
   "execution_count": 44,
   "id": "f5b0baac-e8da-4f57-8897-a108fe2863f1",
   "metadata": {},
   "outputs": [
    {
     "data": {
      "text/plain": [
       "Call:\n",
       "coxph(formula = f, data = data)\n",
       "\n",
       "            coef exp(coef) se(coef)     z     p\n",
       "VPS4B.exp 0.1974    1.2183   0.4821 0.409 0.682\n",
       "PTEN.exp  0.1627    1.1766   0.1760 0.924 0.355\n",
       "\n",
       "Likelihood ratio test=1.41  on 2 df, p=0.4941\n",
       "n= 31, number of events= 31 "
      ]
     },
     "metadata": {},
     "output_type": "display_data"
    }
   ],
   "source": [
    "cox.model.02"
   ]
  },
  {
   "cell_type": "code",
   "execution_count": 45,
   "id": "1bdcc3bc-3035-4c75-90da-02596ba8886e",
   "metadata": {},
   "outputs": [],
   "source": [
    "# Predict based on model\n",
    "rel.risk.02 = predict(object = cox.model.02)"
   ]
  },
  {
   "cell_type": "code",
   "execution_count": 46,
   "id": "47196693-4d46-4a19-b857-49c488da4e2e",
   "metadata": {},
   "outputs": [],
   "source": [
    "# Prepare data\n",
    "y.data.02 = expression.data.rpkm.final.goi %>% dplyr::select(OS, OS.time)\n",
    "colnames(y.data.02) = c(\"status\",\"time\")"
   ]
  },
  {
   "cell_type": "code",
   "execution_count": 47,
   "id": "4378c1c5-0cf2-45b5-b59e-e449697fa5d6",
   "metadata": {},
   "outputs": [],
   "source": [
    "# Calculate C-index\n",
    "cindex.02 = concordance.index(rel.risk.02, \n",
    "                                     y.data.005$time, \n",
    "                                     y.data.005$status,\n",
    "                                     na.rm = TRUE)"
   ]
  },
  {
   "cell_type": "code",
   "execution_count": 48,
   "id": "7b2f6196-cd2e-4b22-9370-3327543587b4",
   "metadata": {},
   "outputs": [
    {
     "data": {
      "text/html": [
       "0.55119825708061"
      ],
      "text/latex": [
       "0.55119825708061"
      ],
      "text/markdown": [
       "0.55119825708061"
      ],
      "text/plain": [
       "[1] 0.5511983"
      ]
     },
     "metadata": {},
     "output_type": "display_data"
    }
   ],
   "source": [
    "cindex.02$c.index"
   ]
  },
  {
   "cell_type": "code",
   "execution_count": 49,
   "id": "947b47d3-35c1-4d10-89b3-0e5bb9db3c7a",
   "metadata": {},
   "outputs": [],
   "source": [
    "# Plot KM\n",
    "km.res.02 = plotKMbyRelativeRisk(data = y.data.02, \n",
    "                                     rel.risk = rel.risk.02)"
   ]
  },
  {
   "cell_type": "code",
   "execution_count": 50,
   "id": "c9fbcee1-b431-4f84-8520-5ed47ee572f7",
   "metadata": {},
   "outputs": [
    {
     "data": {
      "text/plain": [
       "$Plot\n",
       "\n",
       "$table\n",
       "   N Pvalue.variable Pvalue.pval Pvalue.method Pvalue.pval.txt\n",
       "1 31           group  0.07664294      Log-rank       p = 0.077\n"
      ]
     },
     "metadata": {},
     "output_type": "display_data"
    },
    {
     "data": {
      "image/png": "[encoded data removed]",
      "text/plain": [
       "plot without title"
      ]
     },
     "metadata": {
      "image/png": {
       "height": 420,
       "width": 420
      }
     },
     "output_type": "display_data"
    }
   ],
   "source": [
    "km.res.02"
   ]
  }
 ],
 "metadata": {
  "kernelspec": {
   "display_name": "R 4.1.3",
   "language": "R",
   "name": "r4.1.3"
  },
  "language_info": {
   "codemirror_mode": "r",
   "file_extension": ".r",
   "mimetype": "text/x-r-source",
   "name": "R",
   "pygments_lexer": "r",
   "version": "4.1.3"
  }
 },
 "nbformat": 4,
 "nbformat_minor": 5
}
