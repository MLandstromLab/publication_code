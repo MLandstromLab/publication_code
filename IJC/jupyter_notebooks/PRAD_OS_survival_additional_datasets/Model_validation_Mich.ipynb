{
 "cells": [
  {
   "cell_type": "markdown",
   "id": "cd0f62f1-f43e-4170-a2b7-9c7f7b9cb43e",
   "metadata": {},
   "source": [
    "# Model validation Mich"
   ]
  },
  {
   "cell_type": "code",
   "execution_count": 1,
   "id": "ba1865c2-f78e-4545-91eb-8159b47471c9",
   "metadata": {},
   "outputs": [
    {
     "name": "stderr",
     "output_type": "stream",
     "text": [
      "── \u001b[1mAttaching packages\u001b[22m ─────────────────────────────────────────────────────────────────────────────────────────────────────────────────────────────────────────────────────────────────────────────────────────────────── tidyverse 1.3.1 ──\n",
      "\n",
      "\u001b[32m✔\u001b[39m \u001b[34mggplot2\u001b[39m 3.3.5     \u001b[32m✔\u001b[39m \u001b[34mpurrr  \u001b[39m 0.3.4\n",
      "\u001b[32m✔\u001b[39m \u001b[34mtibble \u001b[39m 3.1.7     \u001b[32m✔\u001b[39m \u001b[34mdplyr  \u001b[39m 1.0.9\n",
      "\u001b[32m✔\u001b[39m \u001b[34mtidyr  \u001b[39m 1.2.0     \u001b[32m✔\u001b[39m \u001b[34mstringr\u001b[39m 1.4.0\n",
      "\u001b[32m✔\u001b[39m \u001b[34mreadr  \u001b[39m 2.1.2     \u001b[32m✔\u001b[39m \u001b[34mforcats\u001b[39m 0.5.1\n",
      "\n",
      "── \u001b[1mConflicts\u001b[22m ────────────────────────────────────────────────────────────────────────────────────────────────────────────────────────────────────────────────────────────────────────────────────────────────────── tidyverse_conflicts() ──\n",
      "\u001b[31m✖\u001b[39m \u001b[34mdplyr\u001b[39m::\u001b[32mfilter()\u001b[39m masks \u001b[34mstats\u001b[39m::filter()\n",
      "\u001b[31m✖\u001b[39m \u001b[34mdplyr\u001b[39m::\u001b[32mlag()\u001b[39m    masks \u001b[34mstats\u001b[39m::lag()\n",
      "\n"
     ]
    }
   ],
   "source": [
    "library(tidyverse)"
   ]
  },
  {
   "cell_type": "markdown",
   "id": "117c9ba2-1516-4f28-b79b-abf22701f2b2",
   "metadata": {},
   "source": [
    "## Functions"
   ]
  },
  {
   "cell_type": "code",
   "execution_count": 2,
   "id": "4f665e38-2e7f-48ab-a923-77b52783c985",
   "metadata": {},
   "outputs": [],
   "source": [
    "# Modify the OS status to match the common convention\n",
    "modifyOSStatus = function(x){\n",
    "    status = unlist(strsplit(x, split = \":\"))[1]\n",
    "    return(status)\n",
    "}\n",
    "\n",
    "# Add patient id from sample clin data\n",
    "addPatientId = function(exp.data, sample.clin.data){\n",
    "    sample.clin.data.minimal = sample.clin.data %>% dplyr::select(PATIENT_ID, SAMPLE_ID)\n",
    "    sample.clin.data.minimal$Sample = sample.clin.data.minimal$SAMPLE_ID\n",
    "    sample.clin.data.minimal = sample.clin.data.minimal %>% dplyr::select(-SAMPLE_ID)\n",
    "    exp.data =  dplyr::left_join(exp.data, \n",
    "                                 sample.clin.data.minimal, by = \"Sample\")\n",
    "    return(exp.data)\n",
    "}\n",
    "\n",
    "# Add survival data from patient clin data \n",
    "addSurvivalData = function(exp.data, patient.clin.data){\n",
    "    patient.clin.data.minimal = patient.clin.data %>% dplyr::select(PATIENT_ID, OS, OS.time)\n",
    "    exp.data =  dplyr::left_join(exp.data, \n",
    "                                 patient.clin.data.minimal, by = \"PATIENT_ID\")\n",
    "\n",
    "}\n",
    "\n",
    "# \n",
    "# Function fits a cox regression model\n",
    "# \n",
    "fitCoxModel = function(data, end.point, features){\n",
    "    \n",
    "    end_point_event = end.point\n",
    "    end_point_time = paste0(end.point, \".time\")\n",
    "    \n",
    "    # Generate a survival formula object \n",
    "    survExpression = paste0(\"Surv(\", end_point_time, \", \" , end_point_event, \")\")\n",
    "    f <- as.formula(paste(survExpression, paste(features, collapse = \" + \"), sep = \" ~ \"))\n",
    "    \n",
    "    model.fit = coxph(f, data = data)\n",
    "    return(model.fit)\n",
    "}\n",
    "\n",
    "#\n",
    "# Plot Kaplan-Meier curve by relative risk\n",
    "#\n",
    "plotKMbyRelativeRisk = function(data, rel.risk) {\n",
    "\n",
    "    # Assign relative risk \n",
    "    data$pred <- rel.risk\n",
    "    data$group <- ifelse(data$pred  < median(data$pred), \"Low\", \"High\")\n",
    "\n",
    "    if (length(table(data$group)) == 2) {\n",
    "\n",
    "        # Fit the survival function \n",
    "        s.fit.train <- survfit(Surv(time, status) ~group, data = data)\n",
    "\n",
    "        # Generate the formula for the model \n",
    "        survExpression = paste0(\"Surv(\", \"time\", \", \" , \"status\", \")\")\n",
    "        f <- as.formula(paste(survExpression, \"group\", sep = \" ~ \"))\n",
    "        sFit <- surv_fit(f, data =  data)\n",
    "\n",
    "        # Initialise results object \n",
    "        sFit.res = list()\n",
    "\n",
    "        # Prepare plot  \n",
    "        sFit.res$Plot <- ggsurvplot(s.fit.train, \n",
    "                           data = data, legend = \"bottom\",\n",
    "                           title = paste0(\"Risk groups\", \" (n = \", nrow(data) ,\")\"),\n",
    "                           legend.title = \"Risk group\", pval = TRUE, xlab = \"Time (days)\", \n",
    "                          font.family = \"Helvetica\", font.x = 15, font.y = 15, font.tickslab = 15, font.legend = 15,\n",
    "                           conf.int = T,\n",
    "                           break.time.by = 10,\n",
    "                           surv.plot.height = 0.65, risk.table = TRUE, cumevents = F,\n",
    "                           ggtheme = theme_classic(), \n",
    "                           fontsize = 5, pval.size = 7, tables.font.tickslab = 5, tables.y.text.col = T, tables.y.text = FALSE, \n",
    "                           tables.theme = theme_survminer())\n",
    "   \n",
    "\n",
    "        # Store relevant information as table \n",
    "        sFit.res$table = data.frame(N = nrow(data), \n",
    "                                Pvalue = surv_pvalue(sFit))\n",
    "\n",
    "    } else {\n",
    "        # Based on the predicted risk it was impossible to group into two groups\n",
    "        # we cannot get a p-value \n",
    "        sFit.res = NULL\n",
    "    } \n",
    "    return(sFit.res)\n",
    "}"
   ]
  },
  {
   "cell_type": "markdown",
   "id": "9e90088a-7305-41ce-a1a4-288f87cf8c53",
   "metadata": {},
   "source": [
    "## Load and preprocess data"
   ]
  },
  {
   "cell_type": "code",
   "execution_count": 3,
   "id": "69b0d2eb-8620-4a3f-8109-fa50188193cd",
   "metadata": {},
   "outputs": [],
   "source": [
    "data.dir = \"/workstation//project_data/landstrom_project_3/prad_mich/\""
   ]
  },
  {
   "cell_type": "markdown",
   "id": "2f109b05-3f8d-4636-b966-b6d31753d318",
   "metadata": {},
   "source": [
    "### Clinical patient data"
   ]
  },
  {
   "cell_type": "code",
   "execution_count": 4,
   "id": "2008770f-213a-4b2c-820b-76ab9017d567",
   "metadata": {},
   "outputs": [],
   "source": [
    "# Clinical data for patients \n",
    "clinical.patients = read.csv(file.path(data.dir, \"data_clinical_patient.csv\"), sep = \"\\t\")\n",
    "\n",
    "# Remove all patients without OS_STATUS\n",
    "clinical.patients = clinical.patients[clinical.patients$OS_STATUS != \"\",]\n",
    "\n",
    "# Modify the OS_Status\n",
    "clinical.patients$OS = as.numeric(unlist(map(clinical.patients$OS_STATUS, modifyOSStatus)))\n",
    "clinical.patients$OS.time =  clinical.patients$OS_MONTHS\n",
    "\n",
    "# Remove patients without overal survival time\n",
    "clinical.patients = clinical.patients[!is.na(clinical.patients$OS.time),]"
   ]
  },
  {
   "cell_type": "markdown",
   "id": "a77e8567-9060-47e0-bace-ee34884e4cca",
   "metadata": {},
   "source": [
    "### Clinical sample data"
   ]
  },
  {
   "cell_type": "code",
   "execution_count": 5,
   "id": "96f9249e-871b-4df5-8282-bcc8e66a898d",
   "metadata": {},
   "outputs": [],
   "source": [
    "# Clinical data for patients \n",
    "clinical.samples = read.csv(file.path(data.dir, \"data_clinical_sample.csv\"), sep = \"\\t\")\n",
    "\n",
    "# Select only samples from patients with OS status\n",
    "clinical.samples = dplyr::filter(clinical.samples, PATIENT_ID %in% clinical.patients$PATIENT_ID)"
   ]
  },
  {
   "cell_type": "code",
   "execution_count": 6,
   "id": "dd8227df-b317-4e05-97ca-20260dfd42df",
   "metadata": {},
   "outputs": [],
   "source": [
    "sample.counts.per.patient = as.data.frame(table(clinical.samples$PATIENT_ID))"
   ]
  },
  {
   "cell_type": "code",
   "execution_count": 7,
   "id": "64949f96-35ad-4ac7-99f7-fd30b190ced2",
   "metadata": {},
   "outputs": [],
   "source": [
    "colnames(sample.counts.per.patient) = c(\"PATIENT_ID\", \"FREQ\")\n",
    "sample.counts.per.patient = arrange(sample.counts.per.patient, desc(FREQ))"
   ]
  },
  {
   "cell_type": "markdown",
   "id": "c09a4fc4-2646-41cd-85d0-48aded641c11",
   "metadata": {},
   "source": [
    "Keep track of the patients with multiple samples. We need to deal with this somehow later."
   ]
  },
  {
   "cell_type": "code",
   "execution_count": 8,
   "id": "ce8788cc-33ed-4cdd-a125-d005f2e88f0a",
   "metadata": {},
   "outputs": [],
   "source": [
    "patients.with.multi = sample.counts.per.patient$PATIENT_ID[sample.counts.per.patient$FREQ > 1]"
   ]
  },
  {
   "cell_type": "code",
   "execution_count": 9,
   "id": "e67b1e99-d872-44ec-a247-58a8fefa8baf",
   "metadata": {},
   "outputs": [
    {
     "data": {
      "text/html": [
       "WA43\n",
       "<details>\n",
       "\t<summary style=display:list-item;cursor:pointer>\n",
       "\t\t<strong>Levels</strong>:\n",
       "\t</summary>\n",
       "\t<style>\n",
       "\t.list-inline {list-style: none; margin:0; padding: 0}\n",
       "\t.list-inline>li {display: inline-block}\n",
       "\t.list-inline>li:not(:last-child)::after {content: \"\\00b7\"; padding: 0 .5ex}\n",
       "\t</style>\n",
       "\t<ol class=list-inline><li>'WA10'</li><li>'WA11'</li><li>'WA12'</li><li>'WA13'</li><li>'WA14'</li><li>'WA15'</li><li>'WA16'</li><li>'WA17'</li><li>'WA18'</li><li>'WA19'</li><li>'WA20'</li><li>'WA22'</li><li>'WA23'</li><li>'WA24'</li><li>'WA25'</li><li>'WA26'</li><li>'WA27'</li><li>'WA28'</li><li>'WA29'</li><li>'WA3'</li><li>'WA30'</li><li>'WA31'</li><li>'WA32'</li><li>'WA33'</li><li>'WA35'</li><li>'WA37'</li><li>'WA38'</li><li>'WA39'</li><li>'WA40'</li><li>'WA41'</li><li>'WA42'</li><li>'WA43'</li><li>'WA46'</li><li>'WA47'</li><li>'WA48'</li><li>'WA49'</li><li>'WA50'</li><li>'WA51'</li><li>'WA52'</li><li>'WA53'</li><li>'WA54'</li><li>'WA55'</li><li>'WA56'</li><li>'WA57'</li><li>'WA58'</li><li>'WA59'</li><li>'WA60'</li><li>'WA7'</li></ol>\n",
       "</details>"
      ],
      "text/latex": [
       "WA43\n",
       "\\emph{Levels}: \\begin{enumerate*}\n",
       "\\item 'WA10'\n",
       "\\item 'WA11'\n",
       "\\item 'WA12'\n",
       "\\item 'WA13'\n",
       "\\item 'WA14'\n",
       "\\item 'WA15'\n",
       "\\item 'WA16'\n",
       "\\item 'WA17'\n",
       "\\item 'WA18'\n",
       "\\item 'WA19'\n",
       "\\item 'WA20'\n",
       "\\item 'WA22'\n",
       "\\item 'WA23'\n",
       "\\item 'WA24'\n",
       "\\item 'WA25'\n",
       "\\item 'WA26'\n",
       "\\item 'WA27'\n",
       "\\item 'WA28'\n",
       "\\item 'WA29'\n",
       "\\item 'WA3'\n",
       "\\item 'WA30'\n",
       "\\item 'WA31'\n",
       "\\item 'WA32'\n",
       "\\item 'WA33'\n",
       "\\item 'WA35'\n",
       "\\item 'WA37'\n",
       "\\item 'WA38'\n",
       "\\item 'WA39'\n",
       "\\item 'WA40'\n",
       "\\item 'WA41'\n",
       "\\item 'WA42'\n",
       "\\item 'WA43'\n",
       "\\item 'WA46'\n",
       "\\item 'WA47'\n",
       "\\item 'WA48'\n",
       "\\item 'WA49'\n",
       "\\item 'WA50'\n",
       "\\item 'WA51'\n",
       "\\item 'WA52'\n",
       "\\item 'WA53'\n",
       "\\item 'WA54'\n",
       "\\item 'WA55'\n",
       "\\item 'WA56'\n",
       "\\item 'WA57'\n",
       "\\item 'WA58'\n",
       "\\item 'WA59'\n",
       "\\item 'WA60'\n",
       "\\item 'WA7'\n",
       "\\end{enumerate*}\n"
      ],
      "text/markdown": [
       "WA43\n",
       "**Levels**: 1. 'WA10'\n",
       "2. 'WA11'\n",
       "3. 'WA12'\n",
       "4. 'WA13'\n",
       "5. 'WA14'\n",
       "6. 'WA15'\n",
       "7. 'WA16'\n",
       "8. 'WA17'\n",
       "9. 'WA18'\n",
       "10. 'WA19'\n",
       "11. 'WA20'\n",
       "12. 'WA22'\n",
       "13. 'WA23'\n",
       "14. 'WA24'\n",
       "15. 'WA25'\n",
       "16. 'WA26'\n",
       "17. 'WA27'\n",
       "18. 'WA28'\n",
       "19. 'WA29'\n",
       "20. 'WA3'\n",
       "21. 'WA30'\n",
       "22. 'WA31'\n",
       "23. 'WA32'\n",
       "24. 'WA33'\n",
       "25. 'WA35'\n",
       "26. 'WA37'\n",
       "27. 'WA38'\n",
       "28. 'WA39'\n",
       "29. 'WA40'\n",
       "30. 'WA41'\n",
       "31. 'WA42'\n",
       "32. 'WA43'\n",
       "33. 'WA46'\n",
       "34. 'WA47'\n",
       "35. 'WA48'\n",
       "36. 'WA49'\n",
       "37. 'WA50'\n",
       "38. 'WA51'\n",
       "39. 'WA52'\n",
       "40. 'WA53'\n",
       "41. 'WA54'\n",
       "42. 'WA55'\n",
       "43. 'WA56'\n",
       "44. 'WA57'\n",
       "45. 'WA58'\n",
       "46. 'WA59'\n",
       "47. 'WA60'\n",
       "48. 'WA7'\n",
       "\n",
       "\n"
      ],
      "text/plain": [
       "[1] WA43\n",
       "48 Levels: WA10 WA11 WA12 WA13 WA14 WA15 WA16 WA17 WA18 WA19 WA20 WA22 ... WA7"
      ]
     },
     "metadata": {},
     "output_type": "display_data"
    }
   ],
   "source": [
    "patients.with.multi"
   ]
  },
  {
   "cell_type": "markdown",
   "id": "8fd67486-518c-43eb-9293-c708291ef1fe",
   "metadata": {},
   "source": [
    "### Expression data"
   ]
  },
  {
   "cell_type": "code",
   "execution_count": 10,
   "id": "bd524c31-976c-4d84-823b-ebfd34aff34f",
   "metadata": {},
   "outputs": [],
   "source": [
    "# Capture data \n",
    "expression.data.rpkm = read.csv(file.path(data.dir, \"data_mrna_seq_rpkm_zscores_ref_diploid_samples.csv\"), \n",
    "                                   sep = \"\\t\", check.names = F)"
   ]
  },
  {
   "cell_type": "code",
   "execution_count": 11,
   "id": "12b6dc12-8393-4c53-a80f-531ca462e015",
   "metadata": {},
   "outputs": [],
   "source": [
    "# Select samples included in the clinical.samples \n",
    "expression.data.rpkm = expression.data.rpkm[,colnames(expression.data.rpkm) %in% c(\"Hugo_Symbol\", clinical.samples$SAMPLE_ID)]"
   ]
  },
  {
   "cell_type": "code",
   "execution_count": 12,
   "id": "12ce4631-3311-4511-a884-41c7c0d2bd40",
   "metadata": {},
   "outputs": [
    {
     "data": {
      "text/html": [
       "<style>\n",
       ".list-inline {list-style: none; margin:0; padding: 0}\n",
       ".list-inline>li {display: inline-block}\n",
       ".list-inline>li:not(:last-child)::after {content: \"\\00b7\"; padding: 0 .5ex}\n",
       "</style>\n",
       "<ol class=list-inline><li>20709</li><li>32</li></ol>\n"
      ],
      "text/latex": [
       "\\begin{enumerate*}\n",
       "\\item 20709\n",
       "\\item 32\n",
       "\\end{enumerate*}\n"
      ],
      "text/markdown": [
       "1. 20709\n",
       "2. 32\n",
       "\n",
       "\n"
      ],
      "text/plain": [
       "[1] 20709    32"
      ]
     },
     "metadata": {},
     "output_type": "display_data"
    }
   ],
   "source": [
    "dim(expression.data.rpkm)"
   ]
  },
  {
   "cell_type": "markdown",
   "id": "5f4d2fe7-d043-46e0-843a-0ee320c72554",
   "metadata": {},
   "source": [
    "## Merge the expression data and clinical data "
   ]
  },
  {
   "cell_type": "markdown",
   "id": "1ed00130-b2c9-4719-8d23-027cfbc50851",
   "metadata": {},
   "source": [
    "First transpose the expression tables"
   ]
  },
  {
   "cell_type": "code",
   "execution_count": 13,
   "id": "a1bf880b-6057-4ca8-9b69-d29040cfcb4e",
   "metadata": {},
   "outputs": [],
   "source": [
    "expression.data.rpkm.long = expression.data.rpkm %>% pivot_longer(-Hugo_Symbol, \n",
    "                                 values_to = \"Expression\", \n",
    "                                 names_to = \"Sample\")\n",
    "\n",
    "expression.data.rpkm.wider = expression.data.rpkm.long %>% \n",
    "                               pivot_wider(names_from = Hugo_Symbol,\n",
    "                                           values_from =  Expression,\n",
    "                                           values_fn = ~mean(.x, na.rm = TRUE))  \n",
    "\n",
    "colnames(expression.data.rpkm.wider)[2:ncol(expression.data.rpkm.wider)] = paste0(colnames(expression.data.rpkm.wider)[2:ncol(expression.data.rpkm.wider)], \".exp\")\n"
   ]
  },
  {
   "cell_type": "code",
   "execution_count": 14,
   "id": "3bd7734f-adbd-482f-a212-44782a4f1b63",
   "metadata": {},
   "outputs": [],
   "source": [
    "# Add patient ids for samples \n",
    "expression.data.rpkm.with.patid = addPatientId(expression.data.rpkm.wider, clinical.samples)"
   ]
  },
  {
   "cell_type": "code",
   "execution_count": 15,
   "id": "33e30478-abed-44ba-b6be-6465c1faa79f",
   "metadata": {},
   "outputs": [],
   "source": [
    "# Add survival data from patient clin data\n",
    "expression.data.rpkm.final = addSurvivalData(expression.data.rpkm.with.patid, clinical.patients)"
   ]
  },
  {
   "cell_type": "code",
   "execution_count": 16,
   "id": "329885a6-0e81-47c0-9438-726976ae3cd8",
   "metadata": {},
   "outputs": [
    {
     "data": {
      "text/plain": [
       "\n",
       "WA10 WA11 WA13 WA14 WA16 WA18 WA19 WA20 WA22 WA23 WA24 WA25 WA26 WA28 WA29  WA3 \n",
       "   1    1    1    1    1    1    1    1    1    1    1    1    1    1    1    1 \n",
       "WA30 WA31 WA32 WA33 WA35 WA37 WA39 WA40 WA42 WA46 WA47 WA53 WA54 WA55  WA7 \n",
       "   1    1    1    1    1    1    1    1    1    1    1    1    1    1    1 "
      ]
     },
     "metadata": {},
     "output_type": "display_data"
    }
   ],
   "source": [
    "table(expression.data.rpkm.final$PATIENT_ID)"
   ]
  },
  {
   "cell_type": "markdown",
   "id": "3c7c0afb-4022-4a6e-84f7-270c68809981",
   "metadata": {},
   "source": [
    "No duplicate ids"
   ]
  },
  {
   "cell_type": "markdown",
   "id": "ff2aa737-fee4-4e3a-b402-e9494677aa2a",
   "metadata": {},
   "source": [
    "## Fit the Cox-model including the model genes"
   ]
  },
  {
   "cell_type": "code",
   "execution_count": 17,
   "id": "bd5f5a07-d6dc-4afc-9dff-80afde485d2e",
   "metadata": {},
   "outputs": [
    {
     "name": "stderr",
     "output_type": "stream",
     "text": [
      "Loading required package: ggpubr\n",
      "\n",
      "\n",
      "Attaching package: ‘survminer’\n",
      "\n",
      "\n",
      "The following object is masked from ‘package:survival’:\n",
      "\n",
      "    myeloma\n",
      "\n",
      "\n",
      "Loading required package: prodlim\n",
      "\n"
     ]
    }
   ],
   "source": [
    "library(survival)\n",
    "library(survminer)\n",
    "library(ggplot2)\n",
    "library(survcomp)"
   ]
  },
  {
   "cell_type": "markdown",
   "id": "b6d9f7ee-a04e-4280-a8af-a9fca2dea93b",
   "metadata": {},
   "source": [
    "Output directory :"
   ]
  },
  {
   "cell_type": "code",
   "execution_count": 18,
   "id": "dd5febda-1703-4dbe-9255-d6ccc389b47f",
   "metadata": {},
   "outputs": [],
   "source": [
    "out.dir = \"/workstation/project_results/landstrom_project_3/manuscript_work/PRAD_validation_OS/MICH/\""
   ]
  },
  {
   "cell_type": "markdown",
   "id": "99635e06-3a34-4935-9031-e26d1b301519",
   "metadata": {},
   "source": [
    "Genes included in the final PFI model were AURKA, AURKB, KIF23 and PTEN"
   ]
  },
  {
   "cell_type": "code",
   "execution_count": 19,
   "id": "8ff25a64-5dc7-4352-937f-d195252bb377",
   "metadata": {},
   "outputs": [],
   "source": [
    "# Final variable selection\n",
    "expression.data.rpkm.final = expression.data.rpkm.final %>% \n",
    "       dplyr::select(OS, OS.time, AURKA.exp, AURKB.exp, KIF23.exp, PTEN.exp)"
   ]
  },
  {
   "cell_type": "markdown",
   "id": "88f51704-3e63-4d60-91fb-26857592598b",
   "metadata": {},
   "source": [
    "Fitting the model"
   ]
  },
  {
   "cell_type": "code",
   "execution_count": 20,
   "id": "3bb4ff49-17be-44e0-99b8-47899d248879",
   "metadata": {},
   "outputs": [],
   "source": [
    "cox.model = fitCoxModel(expression.data.rpkm.final, \n",
    "            end.point = \"OS\", \n",
    "            features = c(\"AURKA.exp\", \"AURKB.exp\", \"KIF23.exp\", \"PTEN.exp\"))"
   ]
  },
  {
   "cell_type": "code",
   "execution_count": 21,
   "id": "0205770c-81ee-4b05-ab4d-246d43baba4a",
   "metadata": {},
   "outputs": [
    {
     "data": {
      "text/plain": [
       "Call:\n",
       "coxph(formula = f, data = data)\n",
       "\n",
       "              coef exp(coef) se(coef)      z     p\n",
       "AURKA.exp  0.29810   1.34729  0.45026  0.662 0.508\n",
       "AURKB.exp  0.07499   1.07788  0.62378  0.120 0.904\n",
       "KIF23.exp -0.35049   0.70435  0.40676 -0.862 0.389\n",
       "PTEN.exp   0.16833   1.18332  0.19262  0.874 0.382\n",
       "\n",
       "Likelihood ratio test=2.11  on 4 df, p=0.7156\n",
       "n= 31, number of events= 31 "
      ]
     },
     "metadata": {},
     "output_type": "display_data"
    }
   ],
   "source": [
    "cox.model"
   ]
  },
  {
   "cell_type": "markdown",
   "id": "62e583d1-a943-48fb-aba1-55bde1f069b3",
   "metadata": {},
   "source": [
    "Calculate C-index "
   ]
  },
  {
   "cell_type": "code",
   "execution_count": 22,
   "id": "f91e6ff4-a3bc-49ed-8e0a-35fea791b5d7",
   "metadata": {},
   "outputs": [],
   "source": [
    "rel.risk = predict(object = cox.model)"
   ]
  },
  {
   "cell_type": "code",
   "execution_count": 23,
   "id": "af350014-34cd-42d6-8aa4-680dce48de22",
   "metadata": {},
   "outputs": [],
   "source": [
    "# Prepare data\n",
    "y.data = expression.data.rpkm.final %>% dplyr::select(OS, OS.time)\n",
    "colnames(y.data) = c(\"status\",\"time\")"
   ]
  },
  {
   "cell_type": "code",
   "execution_count": 24,
   "id": "99aa5c5f-010a-4c0c-ba15-b232bffe17cc",
   "metadata": {},
   "outputs": [],
   "source": [
    "cindex = concordance.index(rel.risk, \n",
    "                                     y.data$time, \n",
    "                                     y.data$status,\n",
    "                                     na.rm = TRUE)"
   ]
  },
  {
   "cell_type": "code",
   "execution_count": 25,
   "id": "f1b3da9b-2eba-45ea-9c1f-b34c49bc4201",
   "metadata": {},
   "outputs": [],
   "source": [
    "# Collect the results \n",
    "c.index.results = data.frame(\"dataset\" = c(\"mich\"), \n",
    "           \"C.index\" = cindex$c.index,\n",
    "           \"CI\" = paste0(round(cindex$lower,3),\"-\",round(cindex$upper),3))"
   ]
  },
  {
   "cell_type": "code",
   "execution_count": 26,
   "id": "d9096133-142a-4e1c-a9c5-0c83f2a3c0e4",
   "metadata": {},
   "outputs": [
    {
     "data": {
      "text/html": [
       "<table class=\"dataframe\">\n",
       "<caption>A data.frame: 1 × 3</caption>\n",
       "<thead>\n",
       "\t<tr><th scope=col>dataset</th><th scope=col>C.index</th><th scope=col>CI</th></tr>\n",
       "\t<tr><th scope=col>&lt;chr&gt;</th><th scope=col>&lt;dbl&gt;</th><th scope=col>&lt;chr&gt;</th></tr>\n",
       "</thead>\n",
       "<tbody>\n",
       "\t<tr><td>mich</td><td>0.5686275</td><td>0.333-13</td></tr>\n",
       "</tbody>\n",
       "</table>\n"
      ],
      "text/latex": [
       "A data.frame: 1 × 3\n",
       "\\begin{tabular}{lll}\n",
       " dataset & C.index & CI\\\\\n",
       " <chr> & <dbl> & <chr>\\\\\n",
       "\\hline\n",
       "\t mich & 0.5686275 & 0.333-13\\\\\n",
       "\\end{tabular}\n"
      ],
      "text/markdown": [
       "\n",
       "A data.frame: 1 × 3\n",
       "\n",
       "| dataset &lt;chr&gt; | C.index &lt;dbl&gt; | CI &lt;chr&gt; |\n",
       "|---|---|---|\n",
       "| mich | 0.5686275 | 0.333-13 |\n",
       "\n"
      ],
      "text/plain": [
       "  dataset C.index   CI      \n",
       "1 mich    0.5686275 0.333-13"
      ]
     },
     "metadata": {},
     "output_type": "display_data"
    }
   ],
   "source": [
    "c.index.results "
   ]
  },
  {
   "cell_type": "markdown",
   "id": "c5cc12e9-8b1d-4df9-b08d-04462fedfa39",
   "metadata": {},
   "source": [
    "Prepare KM-plot"
   ]
  },
  {
   "cell_type": "code",
   "execution_count": 27,
   "id": "1aef7dad-b0e9-44b9-b703-40467af57fda",
   "metadata": {},
   "outputs": [],
   "source": [
    "# Plot KM\n",
    "km.res = plotKMbyRelativeRisk(data = y.data, \n",
    "                                     rel.risk = rel.risk)"
   ]
  },
  {
   "cell_type": "code",
   "execution_count": 28,
   "id": "8c3a6949-9704-4950-ab02-fe3b6e7b367f",
   "metadata": {},
   "outputs": [
    {
     "data": {
      "image/png": "[encoded data removed]",
      "text/plain": [
       "plot without title"
      ]
     },
     "metadata": {
      "image/png": {
       "height": 420,
       "width": 420
      }
     },
     "output_type": "display_data"
    }
   ],
   "source": [
    "km.res$Plot"
   ]
  },
  {
   "cell_type": "code",
   "execution_count": 30,
   "id": "b35fe9a9-bd9a-4fb1-b583-4bd952aaf6d5",
   "metadata": {},
   "outputs": [
    {
     "name": "stderr",
     "output_type": "stream",
     "text": [
      "Saving 6.67 x 6.67 in image\n",
      "\n"
     ]
    }
   ],
   "source": [
    "ggsave(km.res$Plot$plot, filename = file.path(out.dir, \"KM_OS_MICH_samples.pdf\"))"
   ]
  }
 ],
 "metadata": {
  "kernelspec": {
   "display_name": "R 4.1.3",
   "language": "R",
   "name": "r4.1.3"
  },
  "language_info": {
   "codemirror_mode": "r",
   "file_extension": ".r",
   "mimetype": "text/x-r-source",
   "name": "R",
   "pygments_lexer": "r",
   "version": "4.1.3"
  }
 },
 "nbformat": 4,
 "nbformat_minor": 5
}
