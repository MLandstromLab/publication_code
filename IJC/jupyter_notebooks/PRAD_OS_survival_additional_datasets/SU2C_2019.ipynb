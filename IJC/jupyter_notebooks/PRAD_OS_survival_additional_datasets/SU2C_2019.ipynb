{
 "cells": [
  {
   "cell_type": "markdown",
   "id": "52827068-f511-4b3f-90a9-22919c2c273b",
   "metadata": {
    "tags": []
   },
   "source": [
    "# PRAD OS survival Abida et al., 2019"
   ]
  },
  {
   "cell_type": "markdown",
   "id": "f61ad17d-7157-491e-894a-f3937fd819b8",
   "metadata": {},
   "source": [
    "Link to publication : https://www.ncbi.nlm.nih.gov/pmc/articles/PMC6561293/"
   ]
  },
  {
   "cell_type": "code",
   "execution_count": 1,
   "id": "044c1e85-4305-4c32-994f-fb2c7a21d51d",
   "metadata": {},
   "outputs": [
    {
     "name": "stderr",
     "output_type": "stream",
     "text": [
      "── \u001b[1mAttaching packages\u001b[22m ──────────────────────────────────────────────── tidyverse 1.3.1 ──\n",
      "\n",
      "\u001b[32m✔\u001b[39m \u001b[34mggplot2\u001b[39m 3.3.5     \u001b[32m✔\u001b[39m \u001b[34mpurrr  \u001b[39m 0.3.4\n",
      "\u001b[32m✔\u001b[39m \u001b[34mtibble \u001b[39m 3.1.7     \u001b[32m✔\u001b[39m \u001b[34mdplyr  \u001b[39m 1.0.9\n",
      "\u001b[32m✔\u001b[39m \u001b[34mtidyr  \u001b[39m 1.2.0     \u001b[32m✔\u001b[39m \u001b[34mstringr\u001b[39m 1.4.0\n",
      "\u001b[32m✔\u001b[39m \u001b[34mreadr  \u001b[39m 2.1.2     \u001b[32m✔\u001b[39m \u001b[34mforcats\u001b[39m 0.5.1\n",
      "\n",
      "── \u001b[1mConflicts\u001b[22m ─────────────────────────────────────────────────── tidyverse_conflicts() ──\n",
      "\u001b[31m✖\u001b[39m \u001b[34mdplyr\u001b[39m::\u001b[32mfilter()\u001b[39m masks \u001b[34mstats\u001b[39m::filter()\n",
      "\u001b[31m✖\u001b[39m \u001b[34mdplyr\u001b[39m::\u001b[32mlag()\u001b[39m    masks \u001b[34mstats\u001b[39m::lag()\n",
      "\n"
     ]
    }
   ],
   "source": [
    "library(tidyverse)"
   ]
  },
  {
   "cell_type": "code",
   "execution_count": 2,
   "id": "d044b2cf-97f0-4a3c-8458-1d00af0a226e",
   "metadata": {},
   "outputs": [
    {
     "name": "stderr",
     "output_type": "stream",
     "text": [
      "Loading required package: ggpubr\n",
      "\n",
      "\n",
      "Attaching package: ‘survminer’\n",
      "\n",
      "\n",
      "The following object is masked from ‘package:survival’:\n",
      "\n",
      "    myeloma\n",
      "\n",
      "\n",
      "Loading required package: prodlim\n",
      "\n"
     ]
    }
   ],
   "source": [
    "library(survival)\n",
    "library(survminer)\n",
    "library(ggplot2)\n",
    "library(survcomp)"
   ]
  },
  {
   "cell_type": "code",
   "execution_count": 3,
   "id": "4dbc0bc5-abfa-4a14-b658-d7cb1e543d2d",
   "metadata": {},
   "outputs": [],
   "source": [
    "library(broom)"
   ]
  },
  {
   "cell_type": "markdown",
   "id": "006e627f-30b5-4c6b-9e88-0f84f762dd53",
   "metadata": {},
   "source": [
    "## Functions"
   ]
  },
  {
   "cell_type": "code",
   "execution_count": 4,
   "id": "05846117-45ce-499b-a398-6388a73a2bf4",
   "metadata": {},
   "outputs": [],
   "source": [
    "# Modify the OS status to match the common convention\n",
    "modifyOSStatus = function(x){\n",
    "    status = unlist(strsplit(x, split = \":\"))[1]\n",
    "    return(status)\n",
    "}\n",
    "\n",
    "# Add patient id from sample clin data\n",
    "addPatientId = function(exp.data, sample.clin.data){\n",
    "    sample.clin.data.minimal = sample.clin.data %>% dplyr::select(PATIENT_ID, SAMPLE_ID)\n",
    "    sample.clin.data.minimal$Sample = sample.clin.data.minimal$SAMPLE_ID\n",
    "    sample.clin.data.minimal = sample.clin.data.minimal %>% dplyr::select(-SAMPLE_ID)\n",
    "    exp.data =  dplyr::left_join(exp.data, \n",
    "                                 sample.clin.data.minimal, by = \"Sample\")\n",
    "    return(exp.data)\n",
    "}\n",
    "\n",
    "# Add survival data from patient clin data \n",
    "addSurvivalData = function(exp.data, patient.clin.data){\n",
    "    patient.clin.data.minimal = patient.clin.data %>% dplyr::select(PATIENT_ID, OS, OS.time)\n",
    "    exp.data =  dplyr::left_join(exp.data, \n",
    "                                 patient.clin.data.minimal, by = \"PATIENT_ID\")\n",
    "\n",
    "}\n",
    "\n",
    "# \n",
    "# Function fits a cox regression model\n",
    "# \n",
    "fitCoxModel = function(data, end.point, features){\n",
    "    \n",
    "    end_point_event = end.point\n",
    "    end_point_time = paste0(end.point, \".time\")\n",
    "    \n",
    "    # Generate a survival formula object \n",
    "    survExpression = paste0(\"Surv(\", end_point_time, \", \" , end_point_event, \")\")\n",
    "    f <- as.formula(paste(survExpression, paste(features, collapse = \" + \"), sep = \" ~ \"))\n",
    "    \n",
    "    model.fit = coxph(f, data = data)\n",
    "    return(model.fit)\n",
    "}\n",
    "\n",
    "#\n",
    "# Plot Kaplan-Meier curve by relative risk\n",
    "#\n",
    "plotKMbyRelativeRisk = function(data, rel.risk) {\n",
    "\n",
    "    # Assign relative risk \n",
    "    data$pred <- rel.risk\n",
    "    data$group <- ifelse(data$pred  < median(data$pred), \"Low\", \"High\")\n",
    "\n",
    "    if (length(table(data$group)) == 2) {\n",
    "\n",
    "        # Fit the survival function \n",
    "        s.fit.train <- survfit(Surv(time, status) ~group, data = data)\n",
    "\n",
    "        # Generate the formula for the model \n",
    "        survExpression = paste0(\"Surv(\", \"time\", \", \" , \"status\", \")\")\n",
    "        f <- as.formula(paste(survExpression, \"group\", sep = \" ~ \"))\n",
    "        sFit <- surv_fit(f, data =  data)\n",
    "\n",
    "        # Initialise results object \n",
    "        sFit.res = list()\n",
    "\n",
    "        # Prepare plot  \n",
    "        sFit.res$Plot <- ggsurvplot(s.fit.train, \n",
    "                           data = data, legend = \"bottom\",\n",
    "                           title = paste0(\"Risk groups\", \" (n = \", nrow(data) ,\")\"),\n",
    "                           legend.title = \"Risk group\", pval = TRUE, xlab = \"Time (days)\", \n",
    "                          font.family = \"Helvetica\", font.x = 15, font.y = 15, font.tickslab = 15, font.legend = 15,\n",
    "                           conf.int = T,\n",
    "                           break.time.by = 10,\n",
    "                           surv.plot.height = 0.65, risk.table = TRUE, cumevents = F,\n",
    "                           ggtheme = theme_classic(), \n",
    "                           fontsize = 5, pval.size = 7, tables.font.tickslab = 5, tables.y.text.col = T, tables.y.text = FALSE, \n",
    "                           tables.theme = theme_survminer())\n",
    "   \n",
    "\n",
    "        # Store relevant information as table \n",
    "        sFit.res$table = data.frame(N = nrow(data), \n",
    "                                Pvalue = surv_pvalue(sFit))\n",
    "\n",
    "    } else {\n",
    "        # Based on the predicted risk it was impossible to group into two groups\n",
    "        # we cannot get a p-value \n",
    "        sFit.res = NULL\n",
    "    } \n",
    "    return(sFit.res)\n",
    "}"
   ]
  },
  {
   "cell_type": "markdown",
   "id": "2f18d68e-db96-4b35-8148-e0128313f69c",
   "metadata": {},
   "source": [
    "Here we make use of metastatic samples for investigating if the genes of interest could be used for predicting overall survival "
   ]
  },
  {
   "cell_type": "markdown",
   "id": "711acc0d-a830-4976-bac0-8f91017e79cc",
   "metadata": {},
   "source": [
    "## Read in data and preprocess "
   ]
  },
  {
   "cell_type": "code",
   "execution_count": 5,
   "id": "26012b06-949a-4930-9f8f-e214c4e397e4",
   "metadata": {},
   "outputs": [],
   "source": [
    "data.dir = \"/workstation//project_data/landstrom_project_3/PRAD_SU2C_2019/\""
   ]
  },
  {
   "cell_type": "markdown",
   "id": "0e047315-3270-4785-8f85-17ca471d0467",
   "metadata": {},
   "source": [
    "### Clinical patient data"
   ]
  },
  {
   "cell_type": "code",
   "execution_count": 6,
   "id": "4c48c1d1-dc99-439a-8a08-a8467232b8b2",
   "metadata": {},
   "outputs": [],
   "source": [
    "# Clinical data for patients \n",
    "clinical.patients = read.csv(file.path(data.dir, \"data_clinical_patient.csv\"), sep = \"\\t\")\n",
    "\n",
    "# Remove all patients without OS_STATUS\n",
    "clinical.patients = clinical.patients[clinical.patients$OS_STATUS != \"\",]\n",
    "\n",
    "# Modify the OS_Status\n",
    "clinical.patients$OS = as.numeric(unlist(map(clinical.patients$OS_STATUS, modifyOSStatus)))\n",
    "clinical.patients$OS.time =  clinical.patients$OS_MONTHS"
   ]
  },
  {
   "cell_type": "markdown",
   "id": "3c57cda2-c80d-4631-9bb3-14c81678cfc2",
   "metadata": {},
   "source": [
    "### Clinical sample data"
   ]
  },
  {
   "cell_type": "code",
   "execution_count": 7,
   "id": "76f69106-fd7a-481a-a10c-56362cc38ffc",
   "metadata": {},
   "outputs": [],
   "source": [
    "# Clinical data for patients \n",
    "clinical.samples = read.csv(file.path(data.dir, \"data_clinical_sample.csv\"), sep = \"\\t\")\n",
    "\n",
    "# Select only samples from patients with OS status\n",
    "clinical.samples = dplyr::filter(clinical.samples, PATIENT_ID %in% clinical.patients$PATIENT_ID)"
   ]
  },
  {
   "cell_type": "code",
   "execution_count": 8,
   "id": "8b3ef3e8-5ff6-46d6-a739-701e623d8c6d",
   "metadata": {},
   "outputs": [],
   "source": [
    "sample.counts.per.patient = as.data.frame(table(clinical.samples$PATIENT_ID))"
   ]
  },
  {
   "cell_type": "code",
   "execution_count": 9,
   "id": "84a7408e-c006-4cf7-b1f0-8938138277fe",
   "metadata": {},
   "outputs": [],
   "source": [
    "colnames(sample.counts.per.patient) = c(\"PATIENT_ID\", \"FREQ\")\n",
    "sample.counts.per.patient = arrange(sample.counts.per.patient, desc(FREQ))"
   ]
  },
  {
   "cell_type": "markdown",
   "id": "bcf2ae21-7f8b-4e72-b66f-4998ab4ffabd",
   "metadata": {},
   "source": [
    "Keep track of the patients with multiple samples. We need to deal with this somehow later."
   ]
  },
  {
   "cell_type": "code",
   "execution_count": 10,
   "id": "90859139-b22f-459c-8bda-7a4a497ef3b5",
   "metadata": {},
   "outputs": [],
   "source": [
    "patients.with.multi = sample.counts.per.patient$PATIENT_ID[sample.counts.per.patient$FREQ > 1]"
   ]
  },
  {
   "cell_type": "markdown",
   "id": "56b24691-067f-4bf4-86f2-6372ecb05db9",
   "metadata": {},
   "source": [
    "### Expression data"
   ]
  },
  {
   "cell_type": "markdown",
   "id": "af71e116-c3c4-4ca9-b0b1-496750261f2f",
   "metadata": {},
   "source": [
    "We will load the scaled FPKM values"
   ]
  },
  {
   "cell_type": "code",
   "execution_count": 11,
   "id": "a08a456f-4c75-4d81-86c9-34c9e05845db",
   "metadata": {},
   "outputs": [],
   "source": [
    "# Capture data \n",
    "expression.data.capture.fpkm = read.csv(file.path(data.dir, \"data_mrna_seq_fpkm_capture_zscores_ref_all_samples.csv\"), \n",
    "                                   sep = \"\\t\", check.names = F)\n",
    "\n",
    "# Poly-A data \n",
    "expression.data.polya.fpkm = read.csv(file.path(data.dir, \"data_mrna_seq_fpkm_polya_zscores_ref_all_samples.csv\"), \n",
    "                                   sep = \"\\t\", check.names = F)"
   ]
  },
  {
   "cell_type": "code",
   "execution_count": 12,
   "id": "ba199c06-46ab-485d-be02-f07817d40f90",
   "metadata": {},
   "outputs": [],
   "source": [
    "# Select samples included in the clinical.samples \n",
    "expression.data.capture = expression.data.capture.fpkm[,colnames(expression.data.capture.fpkm) %in% c(\"Hugo_Symbol\", clinical.samples$SAMPLE_ID)]\n",
    "\n",
    "expression.data.polya = expression.data.polya.fpkm[,colnames(expression.data.polya.fpkm) %in% c(\"Hugo_Symbol\", clinical.samples$SAMPLE_ID)]"
   ]
  },
  {
   "cell_type": "markdown",
   "id": "1bcd4816-be1e-40fb-bcd7-61975ff0151e",
   "metadata": {},
   "source": [
    "## Merge the expression data and clinical data "
   ]
  },
  {
   "cell_type": "markdown",
   "id": "df619b44-1bb6-43fc-8939-100bd020610f",
   "metadata": {},
   "source": [
    "First transpose the expression tables"
   ]
  },
  {
   "cell_type": "code",
   "execution_count": 13,
   "id": "bc46d4ac-13b5-4a98-bcf1-81a20f6b16e2",
   "metadata": {},
   "outputs": [],
   "source": [
    "expression.data.capture.long = expression.data.capture %>% pivot_longer(-Hugo_Symbol, \n",
    "                                 values_to = \"Expression\", \n",
    "                                 names_to = \"Sample\")\n",
    "\n",
    "expression.data.capture.wider = expression.data.capture.long %>% \n",
    "                               pivot_wider(names_from = Hugo_Symbol,\n",
    "                                           values_from =  Expression,\n",
    "                                           values_fn = ~mean(.x, na.rm = TRUE))  \n",
    "\n",
    "colnames(expression.data.capture.wider)[2:ncol(expression.data.capture.wider)] = paste0(colnames(expression.data.capture.wider)[2:ncol(expression.data.capture.wider)], \".exp\")\n",
    "\n",
    "expression.data.polya.long = expression.data.polya %>% pivot_longer(-Hugo_Symbol, \n",
    "                                 values_to = \"Expression\", \n",
    "                                 names_to = \"Sample\")\n",
    "\n",
    "expression.data.polya.wider = expression.data.polya.long %>% \n",
    "                               pivot_wider(names_from = Hugo_Symbol,\n",
    "                                           values_from =  Expression,\n",
    "                                           values_fn = ~mean(.x, na.rm = TRUE))  \n",
    "\n",
    "colnames(expression.data.polya.wider)[2:ncol(expression.data.polya.wider)] = paste0(colnames(expression.data.polya.wider)[2:ncol(expression.data.polya.wider)], \".exp\")\n"
   ]
  },
  {
   "cell_type": "markdown",
   "id": "3ded2383-825a-4963-b7cf-d0130c67a353",
   "metadata": {},
   "source": [
    "Add survival data"
   ]
  },
  {
   "cell_type": "code",
   "execution_count": 14,
   "id": "3bd7734f-adbd-482f-a212-44782a4f1b63",
   "metadata": {},
   "outputs": [],
   "source": [
    "# Add patient ids for samples \n",
    "expression.data.capture.with.patid = addPatientId(expression.data.capture.wider, clinical.samples)\n",
    "expression.data.polya.with.patid = addPatientId(expression.data.polya.wider, clinical.samples)"
   ]
  },
  {
   "cell_type": "code",
   "execution_count": 15,
   "id": "33e30478-abed-44ba-b6be-6465c1faa79f",
   "metadata": {},
   "outputs": [],
   "source": [
    "# Add survival data from patient clin data\n",
    "expression.data.capture.final = addSurvivalData(expression.data.capture.with.patid, clinical.patients)\n",
    "expression.data.polya.final = addSurvivalData(expression.data.polya.with.patid, clinical.patients)"
   ]
  },
  {
   "cell_type": "markdown",
   "id": "7996442e-abb4-46b3-baa3-ca4aea0e1bfc",
   "metadata": {},
   "source": [
    "## Run univariate feature analysis for pre-filtering features "
   ]
  },
  {
   "cell_type": "markdown",
   "id": "31b0e1be-3b84-4fa0-aca1-deba49d3108a",
   "metadata": {},
   "source": [
    "Out dir :"
   ]
  },
  {
   "cell_type": "code",
   "execution_count": 16,
   "id": "60e68ec5-ff12-47e1-b447-371de4847c7c",
   "metadata": {},
   "outputs": [
    {
     "name": "stderr",
     "output_type": "stream",
     "text": [
      "Warning message in dir.create(out.dir, recursive = T):\n",
      "“'/workstation/project_results/landstrom_core/PRAD_OS_survival_additional_datasets/SU2C' already exists”\n"
     ]
    }
   ],
   "source": [
    "out.dir = \"/workstation/project_results/landstrom_core/PRAD_OS_survival_additional_datasets/SU2C\"\n",
    "dir.create(out.dir, recursive = T)"
   ]
  },
  {
   "cell_type": "code",
   "execution_count": 17,
   "id": "523c5078-da13-4865-99e0-9ad9b1335c05",
   "metadata": {},
   "outputs": [],
   "source": [
    "# Gene list  \n",
    "gene.list.file = read.table(\"/workstation/project_data/landstrom_project_3/Customer_genes.tsv\", \n",
    "                            sep = \"\\t\", header = F)\n",
    "gene.list = gene.list.file$V1"
   ]
  },
  {
   "cell_type": "code",
   "execution_count": 18,
   "id": "60352f59-f1ea-4fc7-b61e-7cd5b51829ec",
   "metadata": {},
   "outputs": [],
   "source": [
    "expression.data.polya.final.goi = expression.data.polya.final %>% select(one_of(paste0(gene.list, \".exp\")), OS, OS.time)"
   ]
  },
  {
   "cell_type": "code",
   "execution_count": 19,
   "id": "dc9d2598-b7b3-44be-92c3-fa680cd634eb",
   "metadata": {},
   "outputs": [],
   "source": [
    "expression.data.capture.final.goi = expression.data.capture.final %>% select(one_of(paste0(gene.list, \".exp\")),OS, OS.time)"
   ]
  },
  {
   "cell_type": "code",
   "execution_count": 20,
   "id": "995c39c1-05f8-4969-a6e2-676d5b0d18e0",
   "metadata": {},
   "outputs": [],
   "source": [
    "#\n",
    "# Main function\n",
    "#\n",
    "plotKMexp = function(variable,\n",
    "                     training_data,\n",
    "                     end_point_event,\n",
    "                     end_point_time,\n",
    "                     plot_title,\n",
    "                     life.table = T){\n",
    "  \n",
    "  # Subset training data by variables \n",
    "  trainingDataFinal =  training_data %>% \n",
    "    dplyr::select(all_of(c(variable, end_point_event,  end_point_time)))\n",
    "\n",
    "  \n",
    "  # Calculate median expression \n",
    "  medianExpression = median(trainingDataFinal[[variable]])\n",
    "  \n",
    "  # Divide into two groups \n",
    "  group = ifelse(trainingDataFinal[[variable]] > medianExpression, \"High\", \"Low\")\n",
    "  \n",
    "  # Add as variable \n",
    "  trainingDataFinal$group = group\n",
    "  \n",
    "  # Generate the formula for the model \n",
    "  survExpression = paste0(\"Surv(\", end_point_time, \", \" , end_point_event, \")\")\n",
    "  f <- as.formula(paste(survExpression, \"group\", sep = \" ~ \"))\n",
    "  sFit <- surv_fit(f, data =  trainingDataFinal)\n",
    " \n",
    "  # Store plot and p-value \n",
    "  sFit.res = list()\n",
    "\n",
    "  # Prepare KM\n",
    "  if (life.table == T) {\n",
    "    sFit.res$Plot <- ggsurvplot(sFit, \n",
    "                           data = trainingDataFinal, legend = \"bottom\",\n",
    "                           title = paste0(plot_title, \" (n = \", nrow(trainingDataFinal) ,\")\"),\n",
    "                           legend.title = \"Expression group\", pval = TRUE, xlab = \"Time (days)\", \n",
    "                           font.family = \"Helvetica\", font.x = 15, font.y = 15, font.tickslab = 15, font.legend = 15,\n",
    "                           conf.int = T,\n",
    "                           break.time.by = 10,\n",
    "                           surv.plot.height = 0.65, risk.table = TRUE, cumevents = F,\n",
    "                           ggtheme = theme_classic(), \n",
    "                           fontsize = 5, pval.size = 7, tables.font.tickslab = 5, tables.y.text.col = T, tables.y.text = FALSE, \n",
    "                           tables.theme = theme_survminer())\n",
    "  } else {\n",
    "    sFit.res$Plot <- ggsurvplot(sFit, \n",
    "                           data = trainingDataFinal, legend = \"none\",\n",
    "                           title = paste0(plot_title, \" (n = \", nrow(trainingDataFinal) ,\")\"),\n",
    "                           legend.title = \"Expression group\", pval = TRUE, xlab = \"Time (days)\", \n",
    "                           font.family = \"Helvetica\", font.x = 10, font.y = 10, font.tickslab = 10, font.legend = 8,\n",
    "                           conf.int = T,\n",
    "                           break.time.by = 10,\n",
    "                           surv.plot.height = 0.65, risk.table = FALSE, cumevents = F,\n",
    "                           ggtheme = theme_classic(), \n",
    "                           fontsize = 5, pval.size = 5)\n",
    "  }\n",
    "\n",
    "  # Get p-value \n",
    "  sFit.res$Pval = surv_pvalue(sFit)\n",
    "  \n",
    "  return(sFit.res)\n",
    "  \n",
    "}"
   ]
  },
  {
   "cell_type": "code",
   "execution_count": 21,
   "id": "580d22ae-28ce-42bc-8ff4-ce7fdb84016e",
   "metadata": {},
   "outputs": [],
   "source": [
    "runUnivariateKM = function(input.data, \n",
    "                           variables,\n",
    "                           clinical.endpoint,\n",
    "                           plots){\n",
    "\n",
    "    # Storing results \n",
    "    results.plots = list()\n",
    "    results.tables = list()\n",
    "\n",
    "    # Iterate over variables\n",
    "    for (var in variables) {\n",
    "        \n",
    "        \n",
    "        results = plotKMexp(variable = var, \n",
    "                            training_data = input.data,\n",
    "                            end_point_event = clinical.endpoint,\n",
    "                            end_point_time = paste0(clinical.endpoint, \".time\"),\n",
    "                            plot_title = \"Full cohort\")\n",
    "\n",
    "        results.plots[[var]] = results$Plot\n",
    "        results.tables[[var]] = results$Pval\n",
    "    }\n",
    "    return(list(results.plots, results.tables))\n",
    "}"
   ]
  },
  {
   "cell_type": "code",
   "execution_count": 22,
   "id": "a7ee5027-662a-42ab-af60-44034e09c7b8",
   "metadata": {},
   "outputs": [],
   "source": [
    "# Run univariate KM\n",
    "km.results.polya = runUnivariateKM(input.data = expression.data.polya.final.goi, \n",
    "                                  variables = paste0(gene.list, \".exp\") ,\n",
    "                                  clinical.endpoint = \"OS\",\n",
    "                                  plots = T)\n",
    "\n",
    "# Run univariate KM\n",
    "km.results.agilent = runUnivariateKM(input.data = expression.data.capture.final.goi, \n",
    "                                  variables = paste0(gene.list, \".exp\") ,\n",
    "                                  clinical.endpoint = \"OS\",\n",
    "                                  plots = T)"
   ]
  },
  {
   "cell_type": "code",
   "execution_count": 31,
   "id": "66c98ca4-7c89-44ed-b9ef-2d76d5bc6744",
   "metadata": {},
   "outputs": [
    {
     "data": {
      "text/html": [
       "<style>\n",
       ".list-inline {list-style: none; margin:0; padding: 0}\n",
       ".list-inline>li {display: inline-block}\n",
       ".list-inline>li:not(:last-child)::after {content: \"\\00b7\"; padding: 0 .5ex}\n",
       "</style>\n",
       "<ol class=list-inline><li>'APPL2.exp'</li><li>'APPL1.exp'</li><li>'AURKB.exp'</li><li>'AURKA.exp'</li><li>'VPS4A.exp'</li><li>'VPS4B.exp'</li><li>'KIF23.exp'</li><li>'TRAF6.exp'</li><li>'PTEN.exp'</li><li>'AR.exp'</li><li>'TP53.exp'</li><li>'MYC.exp'</li><li>'TGFBR1.exp'</li></ol>\n"
      ],
      "text/latex": [
       "\\begin{enumerate*}\n",
       "\\item 'APPL2.exp'\n",
       "\\item 'APPL1.exp'\n",
       "\\item 'AURKB.exp'\n",
       "\\item 'AURKA.exp'\n",
       "\\item 'VPS4A.exp'\n",
       "\\item 'VPS4B.exp'\n",
       "\\item 'KIF23.exp'\n",
       "\\item 'TRAF6.exp'\n",
       "\\item 'PTEN.exp'\n",
       "\\item 'AR.exp'\n",
       "\\item 'TP53.exp'\n",
       "\\item 'MYC.exp'\n",
       "\\item 'TGFBR1.exp'\n",
       "\\end{enumerate*}\n"
      ],
      "text/markdown": [
       "1. 'APPL2.exp'\n",
       "2. 'APPL1.exp'\n",
       "3. 'AURKB.exp'\n",
       "4. 'AURKA.exp'\n",
       "5. 'VPS4A.exp'\n",
       "6. 'VPS4B.exp'\n",
       "7. 'KIF23.exp'\n",
       "8. 'TRAF6.exp'\n",
       "9. 'PTEN.exp'\n",
       "10. 'AR.exp'\n",
       "11. 'TP53.exp'\n",
       "12. 'MYC.exp'\n",
       "13. 'TGFBR1.exp'\n",
       "\n",
       "\n"
      ],
      "text/plain": [
       " [1] \"APPL2.exp\"  \"APPL1.exp\"  \"AURKB.exp\"  \"AURKA.exp\"  \"VPS4A.exp\" \n",
       " [6] \"VPS4B.exp\"  \"KIF23.exp\"  \"TRAF6.exp\"  \"PTEN.exp\"   \"AR.exp\"    \n",
       "[11] \"TP53.exp\"   \"MYC.exp\"    \"TGFBR1.exp\""
      ]
     },
     "metadata": {},
     "output_type": "display_data"
    }
   ],
   "source": [
    "names(km.results.polya[[1]])"
   ]
  },
  {
   "cell_type": "code",
   "execution_count": 38,
   "id": "689c119a-25ff-4b40-9fe9-fe6f733fa6a9",
   "metadata": {},
   "outputs": [
    {
     "data": {
      "text/html": [
       "<style>\n",
       ".list-inline {list-style: none; margin:0; padding: 0}\n",
       ".list-inline>li {display: inline-block}\n",
       ".list-inline>li:not(:last-child)::after {content: \"\\00b7\"; padding: 0 .5ex}\n",
       "</style>\n",
       "<ol class=list-inline><li>'APPL2.exp'</li><li>'APPL1.exp'</li><li>'AURKB.exp'</li><li>'AURKA.exp'</li><li>'VPS4A.exp'</li><li>'VPS4B.exp'</li><li>'KIF23.exp'</li><li>'TRAF6.exp'</li><li>'PTEN.exp'</li><li>'AR.exp'</li><li>'TP53.exp'</li><li>'MYC.exp'</li><li>'TGFBR1.exp'</li></ol>\n"
      ],
      "text/latex": [
       "\\begin{enumerate*}\n",
       "\\item 'APPL2.exp'\n",
       "\\item 'APPL1.exp'\n",
       "\\item 'AURKB.exp'\n",
       "\\item 'AURKA.exp'\n",
       "\\item 'VPS4A.exp'\n",
       "\\item 'VPS4B.exp'\n",
       "\\item 'KIF23.exp'\n",
       "\\item 'TRAF6.exp'\n",
       "\\item 'PTEN.exp'\n",
       "\\item 'AR.exp'\n",
       "\\item 'TP53.exp'\n",
       "\\item 'MYC.exp'\n",
       "\\item 'TGFBR1.exp'\n",
       "\\end{enumerate*}\n"
      ],
      "text/markdown": [
       "1. 'APPL2.exp'\n",
       "2. 'APPL1.exp'\n",
       "3. 'AURKB.exp'\n",
       "4. 'AURKA.exp'\n",
       "5. 'VPS4A.exp'\n",
       "6. 'VPS4B.exp'\n",
       "7. 'KIF23.exp'\n",
       "8. 'TRAF6.exp'\n",
       "9. 'PTEN.exp'\n",
       "10. 'AR.exp'\n",
       "11. 'TP53.exp'\n",
       "12. 'MYC.exp'\n",
       "13. 'TGFBR1.exp'\n",
       "\n",
       "\n"
      ],
      "text/plain": [
       " [1] \"APPL2.exp\"  \"APPL1.exp\"  \"AURKB.exp\"  \"AURKA.exp\"  \"VPS4A.exp\" \n",
       " [6] \"VPS4B.exp\"  \"KIF23.exp\"  \"TRAF6.exp\"  \"PTEN.exp\"   \"AR.exp\"    \n",
       "[11] \"TP53.exp\"   \"MYC.exp\"    \"TGFBR1.exp\""
      ]
     },
     "metadata": {},
     "output_type": "display_data"
    },
    {
     "name": "stderr",
     "output_type": "stream",
     "text": [
      "Saving 6.67 x 6.67 in image\n",
      "\n",
      "Saving 6.67 x 6.67 in image\n",
      "\n",
      "Saving 6.67 x 6.67 in image\n",
      "\n",
      "Saving 6.67 x 6.67 in image\n",
      "\n",
      "Saving 6.67 x 6.67 in image\n",
      "\n",
      "Saving 6.67 x 6.67 in image\n",
      "\n",
      "Saving 6.67 x 6.67 in image\n",
      "\n",
      "Saving 6.67 x 6.67 in image\n",
      "\n",
      "Saving 6.67 x 6.67 in image\n",
      "\n",
      "Saving 6.67 x 6.67 in image\n",
      "\n",
      "Saving 6.67 x 6.67 in image\n",
      "\n",
      "Saving 6.67 x 6.67 in image\n",
      "\n",
      "Saving 6.67 x 6.67 in image\n",
      "\n"
     ]
    }
   ],
   "source": [
    "# Save the Kaplan-Meier plots\n",
    "names(km.results.polya[[1]])\n",
    "for (feat in names(km.results.polya[[1]])) {\n",
    "    feature = str_remove(feat, \".exp\")\n",
    "    ggsave(plot = km.results.polya[[1]][[feat]]$plot, filename = file.path(out.dir, paste0(\"PolyA_\", feature, \"_km.pdf\")))\n",
    "}"
   ]
  },
  {
   "cell_type": "code",
   "execution_count": 39,
   "id": "a4488a89-f0fa-4775-864c-24e110c3965e",
   "metadata": {},
   "outputs": [],
   "source": [
    "km.results.polya.table = bind_rows(km.results.polya [[2]], .id = \"Feature\")"
   ]
  },
  {
   "cell_type": "code",
   "execution_count": 40,
   "id": "96a2d431-7998-45f8-9cf2-338669ee483f",
   "metadata": {},
   "outputs": [],
   "source": [
    "km.results.polya.table = km.results.polya.table  %>% arrange(pval)"
   ]
  },
  {
   "cell_type": "code",
   "execution_count": 41,
   "id": "6829c9cc-048a-4e8c-99a2-6ccb7b402654",
   "metadata": {},
   "outputs": [
    {
     "data": {
      "text/html": [
       "<table class=\"dataframe\">\n",
       "<caption>A data.frame: 13 × 5</caption>\n",
       "<thead>\n",
       "\t<tr><th scope=col>Feature</th><th scope=col>variable</th><th scope=col>pval</th><th scope=col>method</th><th scope=col>pval.txt</th></tr>\n",
       "\t<tr><th scope=col>&lt;chr&gt;</th><th scope=col>&lt;chr&gt;</th><th scope=col>&lt;dbl&gt;</th><th scope=col>&lt;chr&gt;</th><th scope=col>&lt;chr&gt;</th></tr>\n",
       "</thead>\n",
       "<tbody>\n",
       "\t<tr><td>AURKB.exp </td><td>group</td><td>0.0007476546</td><td>Log-rank</td><td>p = 0.00075</td></tr>\n",
       "\t<tr><td>KIF23.exp </td><td>group</td><td>0.0008302219</td><td>Log-rank</td><td>p = 0.00083</td></tr>\n",
       "\t<tr><td>AURKA.exp </td><td>group</td><td>0.0097257860</td><td>Log-rank</td><td>p = 0.0097 </td></tr>\n",
       "\t<tr><td>TRAF6.exp </td><td>group</td><td>0.0208814991</td><td>Log-rank</td><td>p = 0.021  </td></tr>\n",
       "\t<tr><td>MYC.exp   </td><td>group</td><td>0.1686612719</td><td>Log-rank</td><td>p = 0.17   </td></tr>\n",
       "\t<tr><td>VPS4A.exp </td><td>group</td><td>0.2720917670</td><td>Log-rank</td><td>p = 0.27   </td></tr>\n",
       "\t<tr><td>TP53.exp  </td><td>group</td><td>0.5493590003</td><td>Log-rank</td><td>p = 0.55   </td></tr>\n",
       "\t<tr><td>TGFBR1.exp</td><td>group</td><td>0.6496197106</td><td>Log-rank</td><td>p = 0.65   </td></tr>\n",
       "\t<tr><td>VPS4B.exp </td><td>group</td><td>0.6895923585</td><td>Log-rank</td><td>p = 0.69   </td></tr>\n",
       "\t<tr><td>APPL2.exp </td><td>group</td><td>0.6900282770</td><td>Log-rank</td><td>p = 0.69   </td></tr>\n",
       "\t<tr><td>PTEN.exp  </td><td>group</td><td>0.7609746677</td><td>Log-rank</td><td>p = 0.76   </td></tr>\n",
       "\t<tr><td>APPL1.exp </td><td>group</td><td>0.8188720317</td><td>Log-rank</td><td>p = 0.82   </td></tr>\n",
       "\t<tr><td>AR.exp    </td><td>group</td><td>0.9893280701</td><td>Log-rank</td><td>p = 0.99   </td></tr>\n",
       "</tbody>\n",
       "</table>\n"
      ],
      "text/latex": [
       "A data.frame: 13 × 5\n",
       "\\begin{tabular}{lllll}\n",
       " Feature & variable & pval & method & pval.txt\\\\\n",
       " <chr> & <chr> & <dbl> & <chr> & <chr>\\\\\n",
       "\\hline\n",
       "\t AURKB.exp  & group & 0.0007476546 & Log-rank & p = 0.00075\\\\\n",
       "\t KIF23.exp  & group & 0.0008302219 & Log-rank & p = 0.00083\\\\\n",
       "\t AURKA.exp  & group & 0.0097257860 & Log-rank & p = 0.0097 \\\\\n",
       "\t TRAF6.exp  & group & 0.0208814991 & Log-rank & p = 0.021  \\\\\n",
       "\t MYC.exp    & group & 0.1686612719 & Log-rank & p = 0.17   \\\\\n",
       "\t VPS4A.exp  & group & 0.2720917670 & Log-rank & p = 0.27   \\\\\n",
       "\t TP53.exp   & group & 0.5493590003 & Log-rank & p = 0.55   \\\\\n",
       "\t TGFBR1.exp & group & 0.6496197106 & Log-rank & p = 0.65   \\\\\n",
       "\t VPS4B.exp  & group & 0.6895923585 & Log-rank & p = 0.69   \\\\\n",
       "\t APPL2.exp  & group & 0.6900282770 & Log-rank & p = 0.69   \\\\\n",
       "\t PTEN.exp   & group & 0.7609746677 & Log-rank & p = 0.76   \\\\\n",
       "\t APPL1.exp  & group & 0.8188720317 & Log-rank & p = 0.82   \\\\\n",
       "\t AR.exp     & group & 0.9893280701 & Log-rank & p = 0.99   \\\\\n",
       "\\end{tabular}\n"
      ],
      "text/markdown": [
       "\n",
       "A data.frame: 13 × 5\n",
       "\n",
       "| Feature &lt;chr&gt; | variable &lt;chr&gt; | pval &lt;dbl&gt; | method &lt;chr&gt; | pval.txt &lt;chr&gt; |\n",
       "|---|---|---|---|---|\n",
       "| AURKB.exp  | group | 0.0007476546 | Log-rank | p = 0.00075 |\n",
       "| KIF23.exp  | group | 0.0008302219 | Log-rank | p = 0.00083 |\n",
       "| AURKA.exp  | group | 0.0097257860 | Log-rank | p = 0.0097  |\n",
       "| TRAF6.exp  | group | 0.0208814991 | Log-rank | p = 0.021   |\n",
       "| MYC.exp    | group | 0.1686612719 | Log-rank | p = 0.17    |\n",
       "| VPS4A.exp  | group | 0.2720917670 | Log-rank | p = 0.27    |\n",
       "| TP53.exp   | group | 0.5493590003 | Log-rank | p = 0.55    |\n",
       "| TGFBR1.exp | group | 0.6496197106 | Log-rank | p = 0.65    |\n",
       "| VPS4B.exp  | group | 0.6895923585 | Log-rank | p = 0.69    |\n",
       "| APPL2.exp  | group | 0.6900282770 | Log-rank | p = 0.69    |\n",
       "| PTEN.exp   | group | 0.7609746677 | Log-rank | p = 0.76    |\n",
       "| APPL1.exp  | group | 0.8188720317 | Log-rank | p = 0.82    |\n",
       "| AR.exp     | group | 0.9893280701 | Log-rank | p = 0.99    |\n",
       "\n"
      ],
      "text/plain": [
       "   Feature    variable pval         method   pval.txt   \n",
       "1  AURKB.exp  group    0.0007476546 Log-rank p = 0.00075\n",
       "2  KIF23.exp  group    0.0008302219 Log-rank p = 0.00083\n",
       "3  AURKA.exp  group    0.0097257860 Log-rank p = 0.0097 \n",
       "4  TRAF6.exp  group    0.0208814991 Log-rank p = 0.021  \n",
       "5  MYC.exp    group    0.1686612719 Log-rank p = 0.17   \n",
       "6  VPS4A.exp  group    0.2720917670 Log-rank p = 0.27   \n",
       "7  TP53.exp   group    0.5493590003 Log-rank p = 0.55   \n",
       "8  TGFBR1.exp group    0.6496197106 Log-rank p = 0.65   \n",
       "9  VPS4B.exp  group    0.6895923585 Log-rank p = 0.69   \n",
       "10 APPL2.exp  group    0.6900282770 Log-rank p = 0.69   \n",
       "11 PTEN.exp   group    0.7609746677 Log-rank p = 0.76   \n",
       "12 APPL1.exp  group    0.8188720317 Log-rank p = 0.82   \n",
       "13 AR.exp     group    0.9893280701 Log-rank p = 0.99   "
      ]
     },
     "metadata": {},
     "output_type": "display_data"
    }
   ],
   "source": [
    "km.results.polya.table"
   ]
  },
  {
   "cell_type": "code",
   "execution_count": 42,
   "id": "7c337860-9b08-4c55-aac0-afec0a0f8196",
   "metadata": {},
   "outputs": [],
   "source": [
    "write.csv(km.results.polya.table, file.path(out.dir, \"PolyA_capture_univariate_analysis.csv\"))"
   ]
  },
  {
   "cell_type": "code",
   "execution_count": 43,
   "id": "198df187-ed2c-4d65-9184-e08dbeac8908",
   "metadata": {},
   "outputs": [],
   "source": [
    "#km.results.agilent.table = bind_rows(km.results.agilent[[2]], .id = \"Feature\")"
   ]
  },
  {
   "cell_type": "code",
   "execution_count": 44,
   "id": "6cf81f6a-55b5-4378-9908-993cf911d7cc",
   "metadata": {},
   "outputs": [],
   "source": [
    "#km.results.agilent.table  %>% arrange(pval)"
   ]
  },
  {
   "cell_type": "markdown",
   "id": "6e730277-4707-4860-84e3-85565c641171",
   "metadata": {},
   "source": [
    "## Fit the Cox-model including the model genes"
   ]
  },
  {
   "cell_type": "markdown",
   "id": "969fcd8e-e22c-431d-9a43-b7eae87d91fa",
   "metadata": {},
   "source": [
    "### Poly-A capture"
   ]
  },
  {
   "cell_type": "markdown",
   "id": "07419f48-207d-4e6f-92cc-1ff322a2cf72",
   "metadata": {},
   "source": [
    "#### P-value threshold 0.05"
   ]
  },
  {
   "cell_type": "code",
   "execution_count": 45,
   "id": "dc59ba06-46f3-4076-ba70-0cd069e8f310",
   "metadata": {},
   "outputs": [],
   "source": [
    "cox.model.polya.005 = fitCoxModel(expression.data.polya.final, \n",
    "            end.point = \"OS\", \n",
    "            features = km.results.polya.table$Feature[km.results.polya.table$pval < 0.05])"
   ]
  },
  {
   "cell_type": "code",
   "execution_count": 46,
   "id": "a387dd3b-6ffc-41fb-ba2c-5c90baa89372",
   "metadata": {},
   "outputs": [
    {
     "data": {
      "text/plain": [
       "Call:\n",
       "coxph(formula = f, data = data)\n",
       "\n",
       "             coef exp(coef) se(coef)      z      p\n",
       "AURKB.exp -0.2915    0.7472   0.2770 -1.052 0.2926\n",
       "KIF23.exp  0.6982    2.0102   0.3415  2.045 0.0409\n",
       "AURKA.exp  0.2646    1.3030   0.3797  0.697 0.4858\n",
       "TRAF6.exp -0.5690    0.5661   0.1823 -3.122 0.0018\n",
       "\n",
       "Likelihood ratio test=23.48  on 4 df, p=0.0001014\n",
       "n= 81, number of events= 47 "
      ]
     },
     "metadata": {},
     "output_type": "display_data"
    }
   ],
   "source": [
    "cox.model.polya.005"
   ]
  },
  {
   "cell_type": "code",
   "execution_count": 107,
   "id": "d5bdd804-39e0-446a-98df-135a439f439c",
   "metadata": {},
   "outputs": [],
   "source": [
    "# Predict based on model\n",
    "rel.risk.polya.005 = predict(object = cox.model.polya.005)"
   ]
  },
  {
   "cell_type": "code",
   "execution_count": 108,
   "id": "d94855ca-6657-45c5-acfa-7c8d03d08fb8",
   "metadata": {},
   "outputs": [],
   "source": [
    "# Prepare data\n",
    "y.data.polya.005 = expression.data.polya.final %>% dplyr::select(OS, OS.time)\n",
    "colnames(y.data.polya.005) = c(\"status\",\"time\")"
   ]
  },
  {
   "cell_type": "code",
   "execution_count": 109,
   "id": "b3d86d71-c5c6-4201-b736-49ecc32482f5",
   "metadata": {},
   "outputs": [],
   "source": [
    "# Calculate C-index\n",
    "cindex.polya.005 = concordance.index(rel.risk.polya.005, \n",
    "                                     y.data.polya.005$time, \n",
    "                                     y.data.polya.005$status,\n",
    "                                     na.rm = TRUE)"
   ]
  },
  {
   "cell_type": "code",
   "execution_count": 110,
   "id": "2a960397-5391-400c-80e9-65079c5cd4a0",
   "metadata": {},
   "outputs": [
    {
     "data": {
      "text/html": [
       "0.736726874657909"
      ],
      "text/latex": [
       "0.736726874657909"
      ],
      "text/markdown": [
       "0.736726874657909"
      ],
      "text/plain": [
       "[1] 0.7367269"
      ]
     },
     "metadata": {},
     "output_type": "display_data"
    }
   ],
   "source": [
    "cindex.polya.005$c.index"
   ]
  },
  {
   "cell_type": "code",
   "execution_count": 111,
   "id": "073833ce-a0fa-4109-af16-69885165add0",
   "metadata": {},
   "outputs": [],
   "source": [
    "# Plot KM\n",
    "km.res.polya.005 = plotKMbyRelativeRisk(data = y.data.polya.005, \n",
    "                                     rel.risk = rel.risk.polya.005)"
   ]
  },
  {
   "cell_type": "code",
   "execution_count": 112,
   "id": "b25f74bd-58bb-42cc-ae90-cbd4f0e560b0",
   "metadata": {},
   "outputs": [
    {
     "data": {
      "text/plain": [
       "$Plot\n",
       "\n",
       "$table\n",
       "   N Pvalue.variable  Pvalue.pval Pvalue.method Pvalue.pval.txt\n",
       "1 81           group 3.243612e-05      Log-rank      p < 0.0001\n"
      ]
     },
     "metadata": {},
     "output_type": "display_data"
    },
    {
     "data": {
      "image/png": "[encoded data removed]",
      "text/plain": [
       "plot without title"
      ]
     },
     "metadata": {
      "image/png": {
       "height": 420,
       "width": 420
      }
     },
     "output_type": "display_data"
    }
   ],
   "source": [
    "km.res.polya.005"
   ]
  },
  {
   "cell_type": "code",
   "execution_count": 113,
   "id": "3530a976-7f4f-4575-a830-de6a6f565ca5",
   "metadata": {},
   "outputs": [
    {
     "name": "stderr",
     "output_type": "stream",
     "text": [
      "Saving 6.67 x 6.67 in image\n",
      "\n"
     ]
    }
   ],
   "source": [
    "# Write the results \n",
    "cox.res.table.polya.01 = tidy(cox.model.polya.005)\n",
    "write.csv(cox.res.table.polya.01, file.path(out.dir, \"PolyA_capture_cox_pvalueT_005.csv\"))\n",
    "\n",
    "# C-index\n",
    "cindex.005 = cindex.polya.005$c.index\n",
    "cindex.CI.005 = paste0(round(cindex.polya.005$lower,2), \"-\", round(cindex.polya.005$upper, 2))\n",
    "C.index.df.polya.005 = data.frame(C.index = cindex.005,\n",
    "                                  CI = cindex.CI.005)\n",
    "write.csv(C.index.df.polya.005, file.path(out.dir, \"PolyA_capture_Cindex_005.csv\"))\n",
    "\n",
    "# KM\n",
    "ggsave(plot = km.res.polya.005$Plot$plot, \n",
    "       file.path(out.dir, \"PolyA_capture_KM_005.pdf\"))"
   ]
  },
  {
   "cell_type": "markdown",
   "id": "b7c78b2b-3169-48df-a686-43eb6af5472c",
   "metadata": {},
   "source": [
    "#### P-value threshold 0.2"
   ]
  },
  {
   "cell_type": "code",
   "execution_count": 114,
   "id": "625b3cca-16c8-454f-bd84-065c216b9786",
   "metadata": {},
   "outputs": [],
   "source": [
    "cox.model.polya.02 = fitCoxModel(expression.data.polya.final, \n",
    "            end.point = \"OS\", \n",
    "            features = km.results.polya.table$Feature[km.results.polya.table$pval < 0.2])"
   ]
  },
  {
   "cell_type": "code",
   "execution_count": 115,
   "id": "7b3a7e75-991b-4d22-8e2b-aea357b4ee4d",
   "metadata": {},
   "outputs": [
    {
     "data": {
      "text/plain": [
       "Call:\n",
       "coxph(formula = f, data = data)\n",
       "\n",
       "             coef exp(coef) se(coef)      z       p\n",
       "AURKB.exp -0.4012    0.6695   0.2992 -1.341 0.18002\n",
       "KIF23.exp  0.8404    2.3172   0.3729  2.253 0.02424\n",
       "AURKA.exp  0.2416    1.2733   0.3796  0.637 0.52444\n",
       "TRAF6.exp -0.5897    0.5545   0.1818 -3.244 0.00118\n",
       "MYC.exp    0.2089    1.2323   0.2092  0.999 0.31791\n",
       "\n",
       "Likelihood ratio test=24.5  on 5 df, p=0.0001742\n",
       "n= 81, number of events= 47 "
      ]
     },
     "metadata": {},
     "output_type": "display_data"
    }
   ],
   "source": [
    "cox.model.polya.02"
   ]
  },
  {
   "cell_type": "code",
   "execution_count": 116,
   "id": "7ac1f069-6158-422e-9298-fd1dcd83a5b0",
   "metadata": {},
   "outputs": [],
   "source": [
    "# Predict based on model\n",
    "rel.risk.polya.02 = predict(object = cox.model.polya.02)"
   ]
  },
  {
   "cell_type": "code",
   "execution_count": 117,
   "id": "745d79c7-5932-4591-a7da-cab34321f600",
   "metadata": {},
   "outputs": [],
   "source": [
    "# Prepare data\n",
    "y.data.polya.02 = expression.data.polya.final %>% dplyr::select(OS, OS.time)\n",
    "colnames(y.data.polya.02) = c(\"status\",\"time\")"
   ]
  },
  {
   "cell_type": "code",
   "execution_count": 118,
   "id": "622905b4-7517-44c6-9364-3d4246c15878",
   "metadata": {},
   "outputs": [],
   "source": [
    "# Calculate C-index\n",
    "cindex.polya.02 = concordance.index(rel.risk.polya.02, \n",
    "                                     y.data.polya.02$time, \n",
    "                                     y.data.polya.02$status,\n",
    "                                     na.rm = TRUE)"
   ]
  },
  {
   "cell_type": "code",
   "execution_count": 119,
   "id": "0b5e9fd1-787e-4105-a223-abe947fc4451",
   "metadata": {},
   "outputs": [
    {
     "data": {
      "text/html": [
       "0.74055829228243"
      ],
      "text/latex": [
       "0.74055829228243"
      ],
      "text/markdown": [
       "0.74055829228243"
      ],
      "text/plain": [
       "[1] 0.7405583"
      ]
     },
     "metadata": {},
     "output_type": "display_data"
    }
   ],
   "source": [
    "cindex.polya.02$c.index"
   ]
  },
  {
   "cell_type": "code",
   "execution_count": 120,
   "id": "5c54441c-8960-4c68-a0cc-fd23041dc767",
   "metadata": {},
   "outputs": [],
   "source": [
    "# Plot KM\n",
    "km.res.polya.02 = plotKMbyRelativeRisk(data = y.data.polya.02, \n",
    "                                     rel.risk = rel.risk.polya.02)"
   ]
  },
  {
   "cell_type": "code",
   "execution_count": 121,
   "id": "a93e196f-8311-4189-bdbb-efd0bdf70e48",
   "metadata": {},
   "outputs": [
    {
     "data": {
      "text/plain": [
       "$Plot\n",
       "\n",
       "$table\n",
       "   N Pvalue.variable  Pvalue.pval Pvalue.method Pvalue.pval.txt\n",
       "1 81           group 8.870009e-05      Log-rank      p < 0.0001\n"
      ]
     },
     "metadata": {},
     "output_type": "display_data"
    },
    {
     "data": {
      "image/png": "[encoded data removed]",
      "text/plain": [
       "plot without title"
      ]
     },
     "metadata": {
      "image/png": {
       "height": 420,
       "width": 420
      }
     },
     "output_type": "display_data"
    }
   ],
   "source": [
    "km.res.polya.02"
   ]
  },
  {
   "cell_type": "code",
   "execution_count": 122,
   "id": "b908b128-58ce-415b-a91d-8f205e52e15a",
   "metadata": {},
   "outputs": [
    {
     "name": "stderr",
     "output_type": "stream",
     "text": [
      "Saving 6.67 x 6.67 in image\n",
      "\n"
     ]
    }
   ],
   "source": [
    "# Write the results \n",
    "cox.res.table.polya.02 = tidy(cox.model.polya.02)\n",
    "write.csv(cox.res.table.polya.02, file.path(out.dir, \"PolyA_capture_cox_pvalueT_02.csv\"))\n",
    "\n",
    "# C-index\n",
    "cindex.02 = cindex.polya.02$c.index\n",
    "cindex.CI.02 = paste0(round(cindex.polya.02$lower,2), \"-\", round(cindex.polya.02$upper, 2))\n",
    "C.index.df.polya.02 = data.frame(C.index = cindex.02,\n",
    "                                  CI = cindex.CI.02)\n",
    "write.csv(C.index.df.polya.02, file.path(out.dir, \"PolyA_capture_Cindex_02.csv\"))\n",
    "\n",
    "# KM\n",
    "ggsave(plot = km.res.polya.02$Plot$plot, \n",
    "       file.path(out.dir, \"PolyA_capture_KM_02.pdf\"))"
   ]
  },
  {
   "cell_type": "markdown",
   "id": "97767386-1095-4f02-ac0d-b4e69eb4a5f4",
   "metadata": {},
   "source": [
    "#### P-value threshold 0.3"
   ]
  },
  {
   "cell_type": "code",
   "execution_count": 123,
   "id": "2c954e75-6fee-4d86-8bc1-0a84605773db",
   "metadata": {},
   "outputs": [],
   "source": [
    "cox.model.polya.03 = fitCoxModel(expression.data.polya.final, \n",
    "            end.point = \"OS\", \n",
    "            features = km.results.polya.table$Feature[km.results.polya.table$pval < 0.3])"
   ]
  },
  {
   "cell_type": "code",
   "execution_count": 124,
   "id": "e26b801f-0b99-4002-be06-41c9fe6249ec",
   "metadata": {},
   "outputs": [
    {
     "data": {
      "text/plain": [
       "Call:\n",
       "coxph(formula = f, data = data)\n",
       "\n",
       "             coef exp(coef) se(coef)      z        p\n",
       "AURKB.exp -0.4134    0.6614   0.2963 -1.395 0.162899\n",
       "KIF23.exp  0.9302    2.5350   0.3765  2.471 0.013491\n",
       "AURKA.exp  0.2188    1.2446   0.3807  0.575 0.565404\n",
       "TRAF6.exp -0.6345    0.5302   0.1876 -3.382 0.000721\n",
       "MYC.exp    0.1758    1.1922   0.2176  0.808 0.418997\n",
       "VPS4A.exp  0.3229    1.3812   0.1734  1.863 0.062479\n",
       "\n",
       "Likelihood ratio test=28.14  on 6 df, p=8.833e-05\n",
       "n= 81, number of events= 47 "
      ]
     },
     "metadata": {},
     "output_type": "display_data"
    }
   ],
   "source": [
    "cox.model.polya.03"
   ]
  },
  {
   "cell_type": "markdown",
   "id": "68cd7fe6-dc45-4e57-9c99-4b76a6f3e0d2",
   "metadata": {},
   "source": [
    "Calculate C-index "
   ]
  },
  {
   "cell_type": "code",
   "execution_count": 125,
   "id": "f91e6ff4-a3bc-49ed-8e0a-35fea791b5d7",
   "metadata": {},
   "outputs": [],
   "source": [
    "rel.risk.polya.03 = predict(object = cox.model.polya.03)"
   ]
  },
  {
   "cell_type": "code",
   "execution_count": 126,
   "id": "af350014-34cd-42d6-8aa4-680dce48de22",
   "metadata": {},
   "outputs": [],
   "source": [
    "# Prepare data\n",
    "y.data.polya.03 = expression.data.polya.final %>% dplyr::select(OS, OS.time)\n",
    "colnames(y.data.polya.03) = c(\"status\",\"time\")"
   ]
  },
  {
   "cell_type": "code",
   "execution_count": 127,
   "id": "99aa5c5f-010a-4c0c-ba15-b232bffe17cc",
   "metadata": {},
   "outputs": [],
   "source": [
    "cindex.polya.03 = concordance.index(rel.risk.polya.03, \n",
    "                                     y.data.polya.03$time, \n",
    "                                     y.data.polya.03$status,\n",
    "                                     na.rm = TRUE)"
   ]
  },
  {
   "cell_type": "code",
   "execution_count": 128,
   "id": "d6aacc05-912f-4f2c-8d84-3a991f51b4ed",
   "metadata": {},
   "outputs": [
    {
     "data": {
      "text/html": [
       "0.745484400656814"
      ],
      "text/latex": [
       "0.745484400656814"
      ],
      "text/markdown": [
       "0.745484400656814"
      ],
      "text/plain": [
       "[1] 0.7454844"
      ]
     },
     "metadata": {},
     "output_type": "display_data"
    }
   ],
   "source": [
    "cindex.polya.03$c.index"
   ]
  },
  {
   "cell_type": "code",
   "execution_count": 129,
   "id": "e3f8858d-f968-4d7c-8125-fdf90f11c948",
   "metadata": {},
   "outputs": [],
   "source": [
    "# Plot KM\n",
    "km.res.polya.03 = plotKMbyRelativeRisk(data = y.data.polya.03, \n",
    "                                     rel.risk = rel.risk.polya.03)"
   ]
  },
  {
   "cell_type": "code",
   "execution_count": 130,
   "id": "3b031852-3892-4b18-b37c-0e35d6ac3900",
   "metadata": {},
   "outputs": [
    {
     "data": {
      "text/plain": [
       "$Plot\n",
       "\n",
       "$table\n",
       "   N Pvalue.variable  Pvalue.pval Pvalue.method Pvalue.pval.txt\n",
       "1 81           group 5.215971e-05      Log-rank      p < 0.0001\n"
      ]
     },
     "metadata": {},
     "output_type": "display_data"
    },
    {
     "data": {
      "image/png": "[encoded data removed]",
      "text/plain": [
       "plot without title"
      ]
     },
     "metadata": {
      "image/png": {
       "height": 420,
       "width": 420
      }
     },
     "output_type": "display_data"
    }
   ],
   "source": [
    "km.res.polya.03"
   ]
  },
  {
   "cell_type": "code",
   "execution_count": 131,
   "id": "f502b69a-2378-442c-ba96-5c9c96c71ebb",
   "metadata": {},
   "outputs": [
    {
     "name": "stderr",
     "output_type": "stream",
     "text": [
      "Saving 6.67 x 6.67 in image\n",
      "\n"
     ]
    }
   ],
   "source": [
    "# Write the results \n",
    "cox.res.table.polya.03 = tidy(cox.model.polya.03)\n",
    "write.csv(cox.res.table.polya.03, file.path(out.dir, \"PolyA_capture_cox_pvalueT_03.csv\"))\n",
    "\n",
    "# C-index\n",
    "cindex.03 = cindex.polya.03$c.index\n",
    "cindex.CI.03 = paste0(round(cindex.polya.03$lower,2), \"-\", round(cindex.polya.03$upper, 2))\n",
    "C.index.df.polya.03 = data.frame(C.index = cindex.03,\n",
    "                                  CI = cindex.CI.03)\n",
    "write.csv(C.index.df.polya.03, file.path(out.dir, \"PolyA_capture_Cindex_03.csv\"))\n",
    "\n",
    "# KM\n",
    "ggsave(plot = km.res.polya.03$Plot$plot, \n",
    "       file.path(out.dir, \"PolyA_capture_KM_03.pdf\"))"
   ]
  },
  {
   "cell_type": "code",
   "execution_count": null,
   "id": "26297ffb-74c9-45a7-8cc5-a3f705f2609c",
   "metadata": {},
   "outputs": [],
   "source": []
  }
 ],
 "metadata": {
  "kernelspec": {
   "display_name": "R 4.1.3",
   "language": "R",
   "name": "r4.1.3"
  },
  "language_info": {
   "codemirror_mode": "r",
   "file_extension": ".r",
   "mimetype": "text/x-r-source",
   "name": "R",
   "pygments_lexer": "r",
   "version": "4.1.3"
  }
 },
 "nbformat": 4,
 "nbformat_minor": 5
}
