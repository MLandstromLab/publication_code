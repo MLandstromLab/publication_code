{
 "cells": [
  {
   "cell_type": "markdown",
   "id": "familiar-sensitivity",
   "metadata": {},
   "source": [
    "# PRAD : Cox-regression with elastic net regularization\n",
    "\n",
    "# Introduction\n",
    "\n",
    "The purpose of this workflow is to introduce the KM based feature selection followed by regularised cox regression analysis using ENET. \n",
    "\n",
    "# Preparing workspace"
   ]
  },
  {
   "cell_type": "code",
   "execution_count": 1,
   "id": "forbidden-marks",
   "metadata": {
    "execution": {
     "iopub.execute_input": "2023-01-26T11:12:41.901956Z",
     "iopub.status.busy": "2023-01-26T11:12:41.900140Z",
     "iopub.status.idle": "2023-01-26T11:12:51.664682Z",
     "shell.execute_reply": "2023-01-26T11:12:51.663061Z"
    }
   },
   "outputs": [
    {
     "name": "stderr",
     "output_type": "stream",
     "text": [
      "── \u001b[1mAttaching packages\u001b[22m ─────────────────────────────────────────────────────────────────────────────────────────────────────────────────────────────────────────────────────────────────────────────────────────────────── tidyverse 1.3.1 ──\n",
      "\n",
      "\u001b[32m✔\u001b[39m \u001b[34mtibble \u001b[39m 3.1.7     \u001b[32m✔\u001b[39m \u001b[34mdplyr  \u001b[39m 1.0.9\n",
      "\u001b[32m✔\u001b[39m \u001b[34mtidyr  \u001b[39m 1.2.0     \u001b[32m✔\u001b[39m \u001b[34mstringr\u001b[39m 1.4.0\n",
      "\u001b[32m✔\u001b[39m \u001b[34mreadr  \u001b[39m 2.1.2     \u001b[32m✔\u001b[39m \u001b[34mforcats\u001b[39m 0.5.1\n",
      "\u001b[32m✔\u001b[39m \u001b[34mpurrr  \u001b[39m 0.3.4     \n",
      "\n",
      "── \u001b[1mConflicts\u001b[22m ────────────────────────────────────────────────────────────────────────────────────────────────────────────────────────────────────────────────────────────────────────────────────────────────────── tidyverse_conflicts() ──\n",
      "\u001b[31m✖\u001b[39m \u001b[34mdplyr\u001b[39m::\u001b[32mfilter()\u001b[39m masks \u001b[34mstats\u001b[39m::filter()\n",
      "\u001b[31m✖\u001b[39m \u001b[34mdplyr\u001b[39m::\u001b[32mlag()\u001b[39m    masks \u001b[34mstats\u001b[39m::lag()\n",
      "\n",
      "Loading required package: ggpubr\n",
      "\n",
      "\n",
      "Attaching package: ‘survminer’\n",
      "\n",
      "\n",
      "The following object is masked from ‘package:survival’:\n",
      "\n",
      "    myeloma\n",
      "\n",
      "\n",
      "Loading required package: Matrix\n",
      "\n",
      "\n",
      "Attaching package: ‘Matrix’\n",
      "\n",
      "\n",
      "The following objects are masked from ‘package:tidyr’:\n",
      "\n",
      "    expand, pack, unpack\n",
      "\n",
      "\n",
      "Loaded glmnet 4.1-4\n",
      "\n",
      "========================================\n",
      "circlize version 0.4.14\n",
      "CRAN page: https://cran.r-project.org/package=circlize\n",
      "Github page: https://github.com/jokergoo/circlize\n",
      "Documentation: https://jokergoo.github.io/circlize_book/book/\n",
      "\n",
      "If you use it in published research, please cite:\n",
      "Gu, Z. circlize implements and enhances circular visualization\n",
      "  in R. Bioinformatics 2014.\n",
      "\n",
      "This message can be suppressed by:\n",
      "  suppressPackageStartupMessages(library(circlize))\n",
      "========================================\n",
      "\n",
      "\n",
      "Loading required package: grid\n",
      "\n",
      "========================================\n",
      "ComplexHeatmap version 2.10.0\n",
      "Bioconductor page: http://bioconductor.org/packages/ComplexHeatmap/\n",
      "Github page: https://github.com/jokergoo/ComplexHeatmap\n",
      "Documentation: http://jokergoo.github.io/ComplexHeatmap-reference\n",
      "\n",
      "If you use it in published research, please cite:\n",
      "Gu, Z. Complex heatmaps reveal patterns and correlations in multidimensional \n",
      "  genomic data. Bioinformatics 2016.\n",
      "\n",
      "The new InteractiveComplexHeatmap package can directly export static \n",
      "complex heatmaps into an interactive Shiny app with zero effort. Have a try!\n",
      "\n",
      "This message can be suppressed by:\n",
      "  suppressPackageStartupMessages(library(ComplexHeatmap))\n",
      "========================================\n",
      "\n",
      "\n",
      "Loading required package: prodlim\n",
      "\n",
      "Loading required package: S4Vectors\n",
      "\n",
      "Loading required package: stats4\n",
      "\n",
      "Loading required package: BiocGenerics\n",
      "\n",
      "\n",
      "Attaching package: ‘BiocGenerics’\n",
      "\n",
      "\n",
      "The following objects are masked from ‘package:dplyr’:\n",
      "\n",
      "    combine, intersect, setdiff, union\n",
      "\n",
      "\n",
      "The following objects are masked from ‘package:stats’:\n",
      "\n",
      "    IQR, mad, sd, var, xtabs\n",
      "\n",
      "\n",
      "The following objects are masked from ‘package:base’:\n",
      "\n",
      "    anyDuplicated, append, as.data.frame, basename, cbind, colnames,\n",
      "    dirname, do.call, duplicated, eval, evalq, Filter, Find, get, grep,\n",
      "    grepl, intersect, is.unsorted, lapply, Map, mapply, match, mget,\n",
      "    order, paste, pmax, pmax.int, pmin, pmin.int, Position, rank,\n",
      "    rbind, Reduce, rownames, sapply, setdiff, sort, table, tapply,\n",
      "    union, unique, unsplit, which.max, which.min\n",
      "\n",
      "\n",
      "\n",
      "Attaching package: ‘S4Vectors’\n",
      "\n",
      "\n",
      "The following objects are masked from ‘package:Matrix’:\n",
      "\n",
      "    expand, unname\n",
      "\n",
      "\n",
      "The following objects are masked from ‘package:dplyr’:\n",
      "\n",
      "    first, rename\n",
      "\n",
      "\n",
      "The following object is masked from ‘package:tidyr’:\n",
      "\n",
      "    expand\n",
      "\n",
      "\n",
      "The following objects are masked from ‘package:base’:\n",
      "\n",
      "    expand.grid, I, unname\n",
      "\n",
      "\n",
      "Loading required package: IRanges\n",
      "\n",
      "\n",
      "Attaching package: ‘IRanges’\n",
      "\n",
      "\n",
      "The following objects are masked from ‘package:dplyr’:\n",
      "\n",
      "    collapse, desc, slice\n",
      "\n",
      "\n",
      "The following object is masked from ‘package:purrr’:\n",
      "\n",
      "    reduce\n",
      "\n",
      "\n",
      "Loading required package: GenomicRanges\n",
      "\n",
      "Loading required package: GenomeInfoDb\n",
      "\n",
      "Loading required package: SummarizedExperiment\n",
      "\n",
      "Loading required package: MatrixGenerics\n",
      "\n",
      "Loading required package: matrixStats\n",
      "\n",
      "\n",
      "Attaching package: ‘matrixStats’\n",
      "\n",
      "\n",
      "The following object is masked from ‘package:dplyr’:\n",
      "\n",
      "    count\n",
      "\n",
      "\n",
      "\n",
      "Attaching package: ‘MatrixGenerics’\n",
      "\n",
      "\n",
      "The following objects are masked from ‘package:matrixStats’:\n",
      "\n",
      "    colAlls, colAnyNAs, colAnys, colAvgsPerRowSet, colCollapse,\n",
      "    colCounts, colCummaxs, colCummins, colCumprods, colCumsums,\n",
      "    colDiffs, colIQRDiffs, colIQRs, colLogSumExps, colMadDiffs,\n",
      "    colMads, colMaxs, colMeans2, colMedians, colMins, colOrderStats,\n",
      "    colProds, colQuantiles, colRanges, colRanks, colSdDiffs, colSds,\n",
      "    colSums2, colTabulates, colVarDiffs, colVars, colWeightedMads,\n",
      "    colWeightedMeans, colWeightedMedians, colWeightedSds,\n",
      "    colWeightedVars, rowAlls, rowAnyNAs, rowAnys, rowAvgsPerColSet,\n",
      "    rowCollapse, rowCounts, rowCummaxs, rowCummins, rowCumprods,\n",
      "    rowCumsums, rowDiffs, rowIQRDiffs, rowIQRs, rowLogSumExps,\n",
      "    rowMadDiffs, rowMads, rowMaxs, rowMeans2, rowMedians, rowMins,\n",
      "    rowOrderStats, rowProds, rowQuantiles, rowRanges, rowRanks,\n",
      "    rowSdDiffs, rowSds, rowSums2, rowTabulates, rowVarDiffs, rowVars,\n",
      "    rowWeightedMads, rowWeightedMeans, rowWeightedMedians,\n",
      "    rowWeightedSds, rowWeightedVars\n",
      "\n",
      "\n",
      "Loading required package: Biobase\n",
      "\n",
      "Welcome to Bioconductor\n",
      "\n",
      "    Vignettes contain introductory material; view with\n",
      "    'browseVignettes()'. To cite Bioconductor, see\n",
      "    'citation(\"Biobase\")', and for packages 'citation(\"pkgname\")'.\n",
      "\n",
      "\n",
      "\n",
      "Attaching package: ‘Biobase’\n",
      "\n",
      "\n",
      "The following object is masked from ‘package:MatrixGenerics’:\n",
      "\n",
      "    rowMedians\n",
      "\n",
      "\n",
      "The following objects are masked from ‘package:matrixStats’:\n",
      "\n",
      "    anyMissing, rowMedians\n",
      "\n",
      "\n"
     ]
    }
   ],
   "source": [
    "setwd(\"/home/data/project_code/landstrom_core/prognostic_model_development/r/notebooks\")\n",
    "\n",
    "library(ggplot2)\n",
    "library(tidyverse)\n",
    "library(survival)\n",
    "library(survminer)\n",
    "library(glmnet)\n",
    "library(WriteXLS)\n",
    "library(ggfortify)\n",
    "library(circlize)\n",
    "library(ComplexHeatmap)\n",
    "library(parallel)\n",
    "library(broom)\n",
    "library(survcomp)\n",
    "library(survivalROC)\n",
    "source(\"../getTCGAData.R\")\n",
    "source(\"../preprocessTCGAData.R\")\n",
    "source(\"../KM_analysis.R\")\n",
    "source(\"../Heatmaps.R\")\n",
    "source(\"../enet.R\")"
   ]
  },
  {
   "cell_type": "markdown",
   "id": "informed-scope",
   "metadata": {},
   "source": [
    "# Setting up paths and clinical variables"
   ]
  },
  {
   "cell_type": "code",
   "execution_count": 2,
   "id": "quarterly-thesaurus",
   "metadata": {
    "execution": {
     "iopub.execute_input": "2023-01-26T11:12:51.694429Z",
     "iopub.status.busy": "2023-01-26T11:12:51.667952Z",
     "iopub.status.idle": "2023-01-26T11:12:51.703961Z",
     "shell.execute_reply": "2023-01-26T11:12:51.702629Z"
    }
   },
   "outputs": [],
   "source": [
    "# Define the cancer type \n",
    "cancer.type = \"PRAD\""
   ]
  },
  {
   "cell_type": "code",
   "execution_count": 3,
   "id": "established-living",
   "metadata": {
    "execution": {
     "iopub.execute_input": "2023-01-26T11:12:51.707977Z",
     "iopub.status.busy": "2023-01-26T11:12:51.706813Z",
     "iopub.status.idle": "2023-01-26T11:12:51.726618Z",
     "shell.execute_reply": "2023-01-26T11:12:51.725291Z"
    }
   },
   "outputs": [
    {
     "name": "stderr",
     "output_type": "stream",
     "text": [
      "Warning message in dir.create(out.dir.data, recursive = T):\n",
      "“'/workstation/project_data/landstrom_core/rdata/manuscript_work//PRAD' already exists”\n"
     ]
    }
   ],
   "source": [
    "# Read in the table including the clinical features for each cancer type\n",
    "clin.feat.tb = read.table(\"/workstation/project_data/landstrom_core/clin_features_final.csv\", sep = \"\\t\", header = T)\n",
    "\n",
    "# Get Clinical variables\n",
    "clin.var = unlist(strsplit(clin.feat.tb$Features[clin.feat.tb$Ctype == cancer.type], split = \",\"))\n",
    "\n",
    "# Ensembl id mapping file \n",
    "ens.id.mapping = \"/home/organisms/Human/hg38/Homo_sapiens.GRCh38_March2022/ENSEMBLE_to_SYMBOL.csv\"\n",
    "\n",
    "# Output dir \n",
    "out.dir.data = file.path(\"/workstation/project_data/landstrom_core/rdata/manuscript_work/\", cancer.type)\n",
    "dir.create(out.dir.data, recursive = T)"
   ]
  },
  {
   "cell_type": "code",
   "execution_count": 4,
   "id": "disturbed-diana",
   "metadata": {
    "execution": {
     "iopub.execute_input": "2023-01-26T11:12:51.730530Z",
     "iopub.status.busy": "2023-01-26T11:12:51.729374Z",
     "iopub.status.idle": "2023-01-26T11:12:51.742959Z",
     "shell.execute_reply": "2023-01-26T11:12:51.741645Z"
    }
   },
   "outputs": [
    {
     "data": {
      "text/html": [
       "<style>\n",
       ".list-inline {list-style: none; margin:0; padding: 0}\n",
       ".list-inline>li {display: inline-block}\n",
       ".list-inline>li:not(:last-child)::after {content: \"\\00b7\"; padding: 0 .5ex}\n",
       "</style>\n",
       "<ol class=list-inline><li>'Age'</li><li>'Gleason.group'</li></ol>\n"
      ],
      "text/latex": [
       "\\begin{enumerate*}\n",
       "\\item 'Age'\n",
       "\\item 'Gleason.group'\n",
       "\\end{enumerate*}\n"
      ],
      "text/markdown": [
       "1. 'Age'\n",
       "2. 'Gleason.group'\n",
       "\n",
       "\n"
      ],
      "text/plain": [
       "[1] \"Age\"           \"Gleason.group\""
      ]
     },
     "metadata": {},
     "output_type": "display_data"
    }
   ],
   "source": [
    "clin.var"
   ]
  },
  {
   "cell_type": "markdown",
   "id": "consecutive-genre",
   "metadata": {},
   "source": [
    "# 1. Read in data \n",
    "\n",
    "Read in data using dedicated functions. Only parameter is the cancer code (Abbreviation) which can be \n",
    "found [here](https://gdc.cancer.gov/resources-tcga-users/tcga-code-tables/tcga-study-abbreviations)"
   ]
  },
  {
   "cell_type": "markdown",
   "id": "lyric-google",
   "metadata": {},
   "source": [
    "Read in copy-number data "
   ]
  },
  {
   "cell_type": "code",
   "execution_count": 5,
   "id": "conventional-custody",
   "metadata": {
    "execution": {
     "iopub.execute_input": "2023-01-26T11:12:51.747031Z",
     "iopub.status.busy": "2023-01-26T11:12:51.745885Z",
     "iopub.status.idle": "2023-01-26T11:12:56.314792Z",
     "shell.execute_reply": "2023-01-26T11:12:56.313261Z"
    }
   },
   "outputs": [],
   "source": [
    "tcga.cn = getTCGACopyNumberData(cancer.type)"
   ]
  },
  {
   "cell_type": "markdown",
   "id": "smaller-sunrise",
   "metadata": {},
   "source": [
    "Read in gene expression data   "
   ]
  },
  {
   "cell_type": "code",
   "execution_count": 6,
   "id": "chubby-joshua",
   "metadata": {
    "execution": {
     "iopub.execute_input": "2023-01-26T11:12:56.319296Z",
     "iopub.status.busy": "2023-01-26T11:12:56.318120Z",
     "iopub.status.idle": "2023-01-26T11:13:09.204797Z",
     "shell.execute_reply": "2023-01-26T11:13:09.203128Z"
    }
   },
   "outputs": [],
   "source": [
    "tcga.expr = getTCGAExpressionData(cancer.type, annotation.file = ens.id.mapping)"
   ]
  },
  {
   "cell_type": "markdown",
   "id": "equivalent-moderator",
   "metadata": {},
   "source": [
    "Read in clinical data "
   ]
  },
  {
   "cell_type": "code",
   "execution_count": 7,
   "id": "brave-racing",
   "metadata": {
    "execution": {
     "iopub.execute_input": "2023-01-26T11:13:09.209359Z",
     "iopub.status.busy": "2023-01-26T11:13:09.208145Z",
     "iopub.status.idle": "2023-01-26T11:13:09.465404Z",
     "shell.execute_reply": "2023-01-26T11:13:09.463882Z"
    }
   },
   "outputs": [],
   "source": [
    "# Get cancer specific clinical data \n",
    "tcga.clin = getClinData(cancer.type)\n",
    "\n",
    "# Get the end point related clinical data \n",
    "tcga.endpoints = getClinEndpointData(cancer.type) %>% dplyr::select(bcr_patient_barcode, OS, OS.time, DSS, DSS.time, DFI, DFI.time, PFI, PFI.time)\n",
    "\n",
    "# Merge end point data to clinical data \n",
    "tcga.clin = dplyr::left_join(tcga.clin, tcga.endpoints, by = \"bcr_patient_barcode\")\n",
    "\n",
    "write.csv(tcga.clin, file.path(out.dir.data, \"clinical_data.csv\"))"
   ]
  },
  {
   "cell_type": "markdown",
   "id": "deluxe-balance",
   "metadata": {},
   "source": [
    "# 2. Preprocessing of the data\n",
    "\n",
    "## 2.1 Copy number data\n",
    "\n",
    "Keep only primary tumor samples "
   ]
  },
  {
   "cell_type": "code",
   "execution_count": 8,
   "id": "miniature-newspaper",
   "metadata": {
    "execution": {
     "iopub.execute_input": "2023-01-26T11:13:09.469757Z",
     "iopub.status.busy": "2023-01-26T11:13:09.468579Z",
     "iopub.status.idle": "2023-01-26T11:13:09.548607Z",
     "shell.execute_reply": "2023-01-26T11:13:09.547282Z"
    }
   },
   "outputs": [],
   "source": [
    "tcga.cn = selectPrimaryT(tcga.cn)"
   ]
  },
  {
   "cell_type": "markdown",
   "id": "straight-mixture",
   "metadata": {},
   "source": [
    "Drop out duplicate samples "
   ]
  },
  {
   "cell_type": "code",
   "execution_count": 9,
   "id": "fuzzy-saturn",
   "metadata": {
    "execution": {
     "iopub.execute_input": "2023-01-26T11:13:09.552682Z",
     "iopub.status.busy": "2023-01-26T11:13:09.551537Z",
     "iopub.status.idle": "2023-01-26T11:13:09.669550Z",
     "shell.execute_reply": "2023-01-26T11:13:09.668205Z"
    }
   },
   "outputs": [],
   "source": [
    "tcga.cn = dropDuplicateSamples(tcga.cn)"
   ]
  },
  {
   "cell_type": "markdown",
   "id": "blocked-biotechnology",
   "metadata": {},
   "source": [
    "Prepare data matrix: "
   ]
  },
  {
   "cell_type": "code",
   "execution_count": 10,
   "id": "occupied-shadow",
   "metadata": {
    "execution": {
     "iopub.execute_input": "2023-01-26T11:13:09.673691Z",
     "iopub.status.busy": "2023-01-26T11:13:09.672522Z",
     "iopub.status.idle": "2023-01-26T11:13:13.328797Z",
     "shell.execute_reply": "2023-01-26T11:13:13.327061Z"
    }
   },
   "outputs": [],
   "source": [
    "tcga.cn.datamat = prepareDataMatrix(tcga.cn)\n",
    "saveRDS(tcga.cn.datamat, file = file.path(out.dir.data, \"copy_number_status.rds\"))"
   ]
  },
  {
   "cell_type": "markdown",
   "id": "australian-model",
   "metadata": {},
   "source": [
    "## 2.2 Gene expression data \n",
    "\n",
    "Variance stabilizing transformation of the data was performed as suggested by the DESeq2 developers. "
   ]
  },
  {
   "cell_type": "code",
   "execution_count": 11,
   "id": "advised-hacker",
   "metadata": {
    "execution": {
     "iopub.execute_input": "2023-01-26T11:13:13.333450Z",
     "iopub.status.busy": "2023-01-26T11:13:13.332182Z",
     "iopub.status.idle": "2023-01-26T11:13:40.288495Z",
     "shell.execute_reply": "2023-01-26T11:13:40.286953Z"
    }
   },
   "outputs": [
    {
     "name": "stderr",
     "output_type": "stream",
     "text": [
      "converting counts to integer mode\n",
      "\n"
     ]
    }
   ],
   "source": [
    "# Store the raw data for future purposes \n",
    "tcga.expr$Raw = tcga.expr$Data\n",
    "\n",
    "# Perform variance stabilising transformation (VST)\n",
    "tcga.expr$Data = performVST(tcga.expr$Data)"
   ]
  },
  {
   "cell_type": "markdown",
   "id": "gorgeous-series",
   "metadata": {},
   "source": [
    "Keep only the primary tumors "
   ]
  },
  {
   "cell_type": "code",
   "execution_count": 12,
   "id": "familiar-strain",
   "metadata": {
    "execution": {
     "iopub.execute_input": "2023-01-26T11:13:40.293547Z",
     "iopub.status.busy": "2023-01-26T11:13:40.292356Z",
     "iopub.status.idle": "2023-01-26T11:13:40.753890Z",
     "shell.execute_reply": "2023-01-26T11:13:40.752235Z"
    }
   },
   "outputs": [],
   "source": [
    "tcga.expr = selectPrimaryT(tcga.expr)"
   ]
  },
  {
   "cell_type": "markdown",
   "id": "regular-mention",
   "metadata": {},
   "source": [
    "Drop duplicate samples "
   ]
  },
  {
   "cell_type": "code",
   "execution_count": 13,
   "id": "complex-viking",
   "metadata": {
    "execution": {
     "iopub.execute_input": "2023-01-26T11:13:40.758236Z",
     "iopub.status.busy": "2023-01-26T11:13:40.757061Z",
     "iopub.status.idle": "2023-01-26T11:13:41.919699Z",
     "shell.execute_reply": "2023-01-26T11:13:41.918055Z"
    }
   },
   "outputs": [],
   "source": [
    "tcga.expr = dropDuplicateSamples(tcga.expr)"
   ]
  },
  {
   "cell_type": "markdown",
   "id": "threatened-chicago",
   "metadata": {},
   "source": [
    "Finally we prepare a data matrix"
   ]
  },
  {
   "cell_type": "code",
   "execution_count": 14,
   "id": "cathedral-movie",
   "metadata": {
    "execution": {
     "iopub.execute_input": "2023-01-26T11:13:41.924130Z",
     "iopub.status.busy": "2023-01-26T11:13:41.922934Z",
     "iopub.status.idle": "2023-01-26T11:14:27.897663Z",
     "shell.execute_reply": "2023-01-26T11:14:27.895061Z"
    }
   },
   "outputs": [],
   "source": [
    "tcga.expr.raw.datamat = prepareDataMatrixRaw(tcga.expr)\n",
    "tcga.expr.datamat = prepareDataMatrix(tcga.expr)"
   ]
  },
  {
   "cell_type": "code",
   "execution_count": 15,
   "id": "hybrid-compound",
   "metadata": {
    "execution": {
     "iopub.execute_input": "2023-01-26T11:14:27.907823Z",
     "iopub.status.busy": "2023-01-26T11:14:27.905815Z",
     "iopub.status.idle": "2023-01-26T11:14:43.221622Z",
     "shell.execute_reply": "2023-01-26T11:14:43.218578Z"
    },
    "lines_to_next_cell": 2
   },
   "outputs": [],
   "source": [
    "saveRDS(tcga.expr.raw.datamat, \n",
    "        file = file.path(out.dir.data, \"raw_expressions.rds\"))"
   ]
  },
  {
   "cell_type": "markdown",
   "id": "representative-observation",
   "metadata": {},
   "source": [
    "## 2.3 Merging all data \n",
    "\n",
    "Merge all the different data types together. Takes the clinical data as \n",
    "a separate argument and the sequencing data as a list of data matrices.\n",
    "Suffixes are added based on user given vector which correspond to the \n",
    "order in which datamatrices are in the data list."
   ]
  },
  {
   "cell_type": "code",
   "execution_count": 16,
   "id": "subtle-characterization",
   "metadata": {
    "execution": {
     "iopub.execute_input": "2023-01-26T11:14:43.227617Z",
     "iopub.status.busy": "2023-01-26T11:14:43.226132Z",
     "iopub.status.idle": "2023-01-26T11:15:36.821515Z",
     "shell.execute_reply": "2023-01-26T11:15:36.819818Z"
    },
    "lines_to_next_cell": 2
   },
   "outputs": [],
   "source": [
    "tcga.dataset = mergeTCGAdata(clin.data = tcga.clin,\n",
    "                                  data = list(tcga.cn.datamat, \n",
    "                                              tcga.expr.datamat), \n",
    "                                  data.suffixes = c(\"cn\",\"exp\"))"
   ]
  },
  {
   "cell_type": "code",
   "execution_count": 17,
   "id": "magnetic-vegetarian",
   "metadata": {
    "execution": {
     "iopub.execute_input": "2023-01-26T11:15:36.828471Z",
     "iopub.status.busy": "2023-01-26T11:15:36.827258Z",
     "iopub.status.idle": "2023-01-26T11:15:45.939903Z",
     "shell.execute_reply": "2023-01-26T11:15:45.938256Z"
    }
   },
   "outputs": [],
   "source": [
    "saveRDS(tcga.dataset, file = file.path(out.dir.data, \"tcga.dataset.rds\"))"
   ]
  },
  {
   "cell_type": "markdown",
   "id": "broadband-pharmacology",
   "metadata": {},
   "source": [
    "# 3. KM based univariate feature selection\n",
    "\n",
    "We will now perform the univariate feature selection which is the first phase of \n",
    "the actual analysis. The idea is to prefilter some features which have no predictive \n",
    "power regarding survival. We will select one clinical end point which seems to carry \n",
    "most events to maximise the statistical power. "
   ]
  },
  {
   "cell_type": "markdown",
   "id": "settled-ceremony",
   "metadata": {},
   "source": [
    "## 3.1 Loading data and selection of variables \n",
    "\n",
    "Load the dataset if needed"
   ]
  },
  {
   "cell_type": "code",
   "execution_count": 18,
   "id": "amber-headline",
   "metadata": {
    "execution": {
     "iopub.execute_input": "2023-01-26T11:15:45.944495Z",
     "iopub.status.busy": "2023-01-26T11:15:45.943298Z",
     "iopub.status.idle": "2023-01-26T11:15:48.736411Z",
     "shell.execute_reply": "2023-01-26T11:15:48.734926Z"
    }
   },
   "outputs": [],
   "source": [
    "# Read in the preprocessed dataset if continued \n",
    "tcga.dataset = readRDS(file.path(out.dir.data, \"tcga.dataset.rds\"))\n",
    "\n",
    "# Raw expression data \n",
    "tcga.expr.raw.datamat = readRDS(file.path(out.dir.data, \"raw_expressions.rds\"))"
   ]
  },
  {
   "cell_type": "markdown",
   "id": "wanted-printing",
   "metadata": {},
   "source": [
    "Define and create output directories "
   ]
  },
  {
   "cell_type": "code",
   "execution_count": 19,
   "id": "atlantic-aquarium",
   "metadata": {
    "execution": {
     "iopub.execute_input": "2023-01-26T11:15:48.740817Z",
     "iopub.status.busy": "2023-01-26T11:15:48.739631Z",
     "iopub.status.idle": "2023-01-26T11:15:48.755015Z",
     "shell.execute_reply": "2023-01-26T11:15:48.753689Z"
    },
    "lines_to_next_cell": 2
   },
   "outputs": [],
   "source": [
    "# Define and create the root directory for results \n",
    "dir.res.root = file.path(\"/workstation/project_results/landstrom_core/prognostic_model_development/models_by_cancer_type/\", cancer.type)\n",
    "dir.create(dir.res.root, recursive = T)\n",
    "\n",
    "# Define and create the results for the KM analysis \n",
    "dir.res.km = file.path(dir.res.root, \"Kaplan_Meier_plots\")\n",
    "dir.create(dir.res.km)"
   ]
  },
  {
   "cell_type": "markdown",
   "id": "auburn-queue",
   "metadata": {},
   "source": [
    "Read in the gene list of interest including the customer genes"
   ]
  },
  {
   "cell_type": "code",
   "execution_count": 20,
   "id": "mounted-consumption",
   "metadata": {
    "execution": {
     "iopub.execute_input": "2023-01-26T11:15:48.759069Z",
     "iopub.status.busy": "2023-01-26T11:15:48.757928Z",
     "iopub.status.idle": "2023-01-26T11:15:48.769837Z",
     "shell.execute_reply": "2023-01-26T11:15:48.768505Z"
    }
   },
   "outputs": [],
   "source": [
    "# Gene list  \n",
    "gene.list.file = read.table(\"/workstation/project_data/landstrom_core/Customer_genes.tsv\", \n",
    "                            sep = \"\\t\", header = F)\n",
    "gene.list = gene.list.file$V1"
   ]
  },
  {
   "cell_type": "markdown",
   "id": "lonely-carry",
   "metadata": {},
   "source": [
    "Tabulate the number of events. Value 0 means sensored and value 1 an event."
   ]
  },
  {
   "cell_type": "code",
   "execution_count": 21,
   "id": "liquid-trust",
   "metadata": {
    "execution": {
     "iopub.execute_input": "2023-01-26T11:15:48.773854Z",
     "iopub.status.busy": "2023-01-26T11:15:48.772699Z",
     "iopub.status.idle": "2023-01-26T11:15:49.047517Z",
     "shell.execute_reply": "2023-01-26T11:15:49.046030Z"
    }
   },
   "outputs": [
    {
     "name": "stderr",
     "output_type": "stream",
     "text": [
      "\u001b[1m\u001b[22m`summarise()` has grouped output by 'name'. You can override using the `.groups` argument.\n"
     ]
    }
   ],
   "source": [
    "clinical.end.point.stats = tcga.dataset %>% \n",
    "                                   dplyr::select(c(\"OS.clin\",\"DSS.clin\",\"DFI.clin\",\"PFI.clin\")) %>%\n",
    "                                   pivot_longer(everything()) %>%\n",
    "                                   mutate(value = factor(value)) %>%\n",
    "                                   group_by(name, value) %>%\n",
    "                                   summarise(N = n()) %>% \n",
    "                                   pivot_wider(names_from =  value,\n",
    "                                               values_from = N)"
   ]
  },
  {
   "cell_type": "code",
   "execution_count": 22,
   "id": "weekly-tobago",
   "metadata": {
    "execution": {
     "iopub.execute_input": "2023-01-26T11:15:49.051764Z",
     "iopub.status.busy": "2023-01-26T11:15:49.050558Z",
     "iopub.status.idle": "2023-01-26T11:15:49.070875Z",
     "shell.execute_reply": "2023-01-26T11:15:49.069481Z"
    }
   },
   "outputs": [
    {
     "data": {
      "text/html": [
       "<table class=\"dataframe\">\n",
       "<caption>A grouped_df: 4 × 4</caption>\n",
       "<thead>\n",
       "\t<tr><th scope=col>name</th><th scope=col>0</th><th scope=col>1</th><th scope=col>NA</th></tr>\n",
       "\t<tr><th scope=col>&lt;chr&gt;</th><th scope=col>&lt;int&gt;</th><th scope=col>&lt;int&gt;</th><th scope=col>&lt;int&gt;</th></tr>\n",
       "</thead>\n",
       "<tbody>\n",
       "\t<tr><td>DFI.clin</td><td>310</td><td>30</td><td>160</td></tr>\n",
       "\t<tr><td>DSS.clin</td><td>493</td><td> 5</td><td>  2</td></tr>\n",
       "\t<tr><td>OS.clin </td><td>490</td><td>10</td><td> NA</td></tr>\n",
       "\t<tr><td>PFI.clin</td><td>407</td><td>93</td><td> NA</td></tr>\n",
       "</tbody>\n",
       "</table>\n"
      ],
      "text/latex": [
       "A grouped\\_df: 4 × 4\n",
       "\\begin{tabular}{llll}\n",
       " name & 0 & 1 & NA\\\\\n",
       " <chr> & <int> & <int> & <int>\\\\\n",
       "\\hline\n",
       "\t DFI.clin & 310 & 30 & 160\\\\\n",
       "\t DSS.clin & 493 &  5 &   2\\\\\n",
       "\t OS.clin  & 490 & 10 &  NA\\\\\n",
       "\t PFI.clin & 407 & 93 &  NA\\\\\n",
       "\\end{tabular}\n"
      ],
      "text/markdown": [
       "\n",
       "A grouped_df: 4 × 4\n",
       "\n",
       "| name &lt;chr&gt; | 0 &lt;int&gt; | 1 &lt;int&gt; | NA &lt;int&gt; |\n",
       "|---|---|---|---|\n",
       "| DFI.clin | 310 | 30 | 160 |\n",
       "| DSS.clin | 493 |  5 |   2 |\n",
       "| OS.clin  | 490 | 10 |  NA |\n",
       "| PFI.clin | 407 | 93 |  NA |\n",
       "\n"
      ],
      "text/plain": [
       "  name     0   1  NA \n",
       "1 DFI.clin 310 30 160\n",
       "2 DSS.clin 493  5   2\n",
       "3 OS.clin  490 10  NA\n",
       "4 PFI.clin 407 93  NA"
      ]
     },
     "metadata": {},
     "output_type": "display_data"
    }
   ],
   "source": [
    "clinical.end.point.stats"
   ]
  },
  {
   "cell_type": "markdown",
   "id": "universal-bracket",
   "metadata": {},
   "source": [
    "## 3.2 Splitting dataset into training and validation set"
   ]
  },
  {
   "cell_type": "markdown",
   "id": "casual-mustang",
   "metadata": {},
   "source": [
    "Here we change the original workflow such that we run the analysis for all clinical end points."
   ]
  },
  {
   "cell_type": "code",
   "execution_count": 23,
   "id": "attempted-factory",
   "metadata": {
    "execution": {
     "iopub.execute_input": "2023-01-26T11:15:49.075201Z",
     "iopub.status.busy": "2023-01-26T11:15:49.074001Z",
     "iopub.status.idle": "2023-01-26T11:15:49.088154Z",
     "shell.execute_reply": "2023-01-26T11:15:49.086774Z"
    }
   },
   "outputs": [],
   "source": [
    "# Here we store all the training and validation splits \n",
    "train_and_validation_ls = list()\n",
    "\n",
    "# Variables selected \n",
    "variables_selected_ls = list()\n",
    "\n",
    "# Number of samples in training and validation cohorts \n",
    "nsamples_step1_ls = list()"
   ]
  },
  {
   "cell_type": "code",
   "execution_count": 24,
   "id": "collaborative-concrete",
   "metadata": {
    "execution": {
     "iopub.execute_input": "2023-01-26T11:15:49.092170Z",
     "iopub.status.busy": "2023-01-26T11:15:49.090970Z",
     "iopub.status.idle": "2023-01-26T11:15:49.259807Z",
     "shell.execute_reply": "2023-01-26T11:15:49.258272Z"
    },
    "lines_to_next_cell": 0
   },
   "outputs": [
    {
     "name": "stdout",
     "output_type": "stream",
     "text": [
      "[1] \"Taking only complete cases\"\n",
      "[1] \"Including 492 cases out of 500 cases\"\n",
      "[1] \"Taking only complete cases\"\n",
      "[1] \"Including 491 cases out of 500 cases\"\n",
      "[1] \"Taking only complete cases\"\n",
      "[1] \"Including 336 cases out of 500 cases\"\n",
      "[1] \"Taking only complete cases\"\n",
      "[1] \"Including 492 cases out of 500 cases\"\n"
     ]
    }
   ],
   "source": [
    "for (end.point in c(\"OS\",\"DSS\",\"DFI\",\"PFI\")){\n",
    "\n",
    "    # Selected variables \n",
    "    variables.selected = selectVariables(clinical.endpoint = end.point, \n",
    "                                     gene.list = gene.list, \n",
    "                                     data.suffixes = c(\"cn\",\"exp\"))\n",
    "    variables_selected_ls[[end.point]] = variables.selected\n",
    "    \n",
    "    #Data set is split randomly into training and validation sets. Only complete cases \n",
    "    # are selected.\n",
    "    train_and_validation = splitCases(data = tcga.dataset, \n",
    "                                  split = 0.75, \n",
    "                                  only.complete = T,\n",
    "                                  variables = variables.selected, \n",
    "                                  seed = 42)\n",
    "    \n",
    "    # Update list\n",
    "    train_and_validation_ls[[end.point]] = train_and_validation \n",
    "    \n",
    "    \n",
    "    # Store number of  \n",
    "    nsamples.step1 = c(nrow(train_and_validation$train), nrow(train_and_validation$validation))\n",
    "    names(nsamples.step1) = c(\"ntrain.step1\", \"nvalid.step1\")\n",
    "    nsamples_step1_ls[[end.point]] = nsamples.step1\n",
    "}"
   ]
  },
  {
   "cell_type": "markdown",
   "id": "annual-naples",
   "metadata": {},
   "source": [
    "## 3.3 Filtering step "
   ]
  },
  {
   "cell_type": "markdown",
   "id": "worldwide-transcript",
   "metadata": {},
   "source": [
    "### 3.3.1 Calculate relevant statistics for the training set. \n",
    "\n",
    "We will calculate the following statistics for expression features based on the raw expression data : \n",
    "1. The fraction of individuals expressing the feature  \n",
    "2. Median expression of the feature\n",
    "3. Variance of the feature\n",
    "\n",
    "We will calculate the following statistics for copy number features \n",
    "1. Fraction of individuals with amplification \n",
    "2. Fraction of individuals with deletion\n",
    "3. Fraction of individuals with missing CN status \n",
    "4. Max value out of the fraction of individuals with amplification and deletions "
   ]
  },
  {
   "cell_type": "code",
   "execution_count": 25,
   "id": "descending-patch",
   "metadata": {
    "execution": {
     "iopub.execute_input": "2023-01-26T11:15:49.264451Z",
     "iopub.status.busy": "2023-01-26T11:15:49.263183Z",
     "iopub.status.idle": "2023-01-26T11:15:49.893072Z",
     "shell.execute_reply": "2023-01-26T11:15:49.891457Z"
    }
   },
   "outputs": [],
   "source": [
    "# Store summary statistics \n",
    "summary.stats.ls = list()\n",
    "\n",
    "# Iterate over end points \n",
    "for (end.point in c(\"OS\",\"DSS\",\"DFI\",\"PFI\")){\n",
    "    \n",
    "    exp.summary.training = prepSummaryExp(x = train_and_validation$train, \n",
    "                                      raw.data = tcga.expr.raw.datamat,\n",
    "                                      variables = variables.selected, type = \"exp\")\n",
    "\n",
    "    cn.summary.training = prepSummaryCN(train_and_validation$train, variables = variables.selected, type = \"cn\")\n",
    "    \n",
    "    summary.stats.ls[[end.point]] = list(\"exp.summary.training\" = exp.summary.training,\n",
    "                                         \"cn.summary.training\" = cn.summary.training)\n",
    "}\n"
   ]
  },
  {
   "cell_type": "markdown",
   "id": "heavy-equilibrium",
   "metadata": {},
   "source": [
    "### 3.3.2 Filter based on the calculated statistics\n",
    "\n",
    "We will set the filtering thresholds as follows : \n",
    "\n",
    "Expression features : \n",
    "\n",
    "1. Median expression must be greater than 20\n",
    "2. Fraction of individuals expressing feature must be greater than > 0.25\n",
    "\n",
    "CN features \n",
    "\n",
    "1. Maximum Fraction of individuals carrying either deletion or amplification must be at least 0.15\n"
   ]
  },
  {
   "cell_type": "code",
   "execution_count": 26,
   "id": "familiar-secretary",
   "metadata": {
    "execution": {
     "iopub.execute_input": "2023-01-26T11:15:49.897616Z",
     "iopub.status.busy": "2023-01-26T11:15:49.896373Z",
     "iopub.status.idle": "2023-01-26T11:15:50.005890Z",
     "shell.execute_reply": "2023-01-26T11:15:50.004433Z"
    }
   },
   "outputs": [],
   "source": [
    "# Store filtered variables \n",
    "variables.selected.filtered.ls = list()\n",
    "\n",
    "# Iterate over end points \n",
    "for (end.point in c(\"OS\",\"DSS\",\"DFI\",\"PFI\")){\n",
    "\n",
    "    exp.features.keep = summary.stats.ls[[end.point]]$exp.summary.training %>% \n",
    "                          filter(`Median expression` > 20, \n",
    "                                 `Fraction of zero expression` < 0.75)\n",
    "\n",
    "    cn.features.keep = summary.stats.ls[[end.point]]$cn.summary.training %>% \n",
    "                          filter(`Maximum fraction of aberrations` > 0.15) \n",
    "\n",
    "    # Update the summary tables \n",
    "    summary.stats.ls[[end.point]]$exp.summary.training$Selected = ifelse(summary.stats.ls[[end.point]]$exp.summary.training$name %in% exp.features.keep$name, \"Yes\", \"No\")\n",
    "    summary.stats.ls[[end.point]]$cn.summary.training$Selected = ifelse(summary.stats.ls[[end.point]]$cn.summary.training$name %in% cn.features.keep$name, \"Yes\", \"No\")\n",
    "\n",
    "    # Collect the variables into vector \n",
    "    variables.selected.filtered.ls[[end.point]] = filterFeatures(variables_selected_ls[[end.point]], exp.features.keep$name, type = \"exp\")\n",
    "    variables.selected.filtered.ls[[end.point]]= filterFeatures(variables_selected_ls[[end.point]], cn.features.keep$name, type = \"cn\")\n",
    "    \n",
    "}"
   ]
  },
  {
   "cell_type": "markdown",
   "id": "incorporate-isolation",
   "metadata": {},
   "source": [
    "Final list of features"
   ]
  },
  {
   "cell_type": "markdown",
   "id": "juvenile-stanford",
   "metadata": {},
   "source": [
    "## 3.4 Prepare univariate KM plots and logrank tests"
   ]
  },
  {
   "cell_type": "code",
   "execution_count": 27,
   "id": "native-wealth",
   "metadata": {
    "execution": {
     "iopub.execute_input": "2023-01-26T11:15:50.010489Z",
     "iopub.status.busy": "2023-01-26T11:15:50.009237Z",
     "iopub.status.idle": "2023-01-26T11:17:19.112458Z",
     "shell.execute_reply": "2023-01-26T11:17:19.110532Z"
    }
   },
   "outputs": [
    {
     "name": "stdout",
     "output_type": "stream",
     "text": [
      "NULL\n",
      "NULL\n",
      "NULL\n",
      "NULL\n",
      "NULL\n",
      "NULL\n",
      "NULL\n",
      "NULL\n",
      "NULL\n",
      "NULL\n",
      "NULL\n",
      "NULL\n"
     ]
    }
   ],
   "source": [
    "# Store the KM tables \n",
    "km.pvalue.table.ls = list()\n",
    "\n",
    "# Store the significant features \n",
    "significant.features.ls = list()\n",
    "\n",
    "# Iterate over end points \n",
    "for (end.point in c(\"OS\",\"DSS\",\"DFI\",\"PFI\")){\n",
    "\n",
    "    # Create dir for plots \n",
    "    dir.create(file.path(dir.res.km, end.point))\n",
    "    \n",
    "    if (nrow(train_and_validation_ls[[end.point]]$train) > 0){\n",
    "    \n",
    "        # Run univariate KM\n",
    "        km.pvalue.table = runUnivariateKM(input.data = train_and_validation_ls[[end.point]], \n",
    "                                  variables = variables.selected.filtered.ls[[end.point]],\n",
    "                                  clinical.endpoint = end.point,\n",
    "                                  out.dir = file.path(dir.res.km, end.point),\n",
    "                                  plots = T)\n",
    "    \n",
    "    \n",
    "        # Sort the results based on the training p-value and write the results to output\n",
    "        km.pvalue.table = km.pvalue.table %>% dplyr::arrange(pvalues.training)\n",
    "        km.pvalue.table$Selected = ifelse(km.pvalue.table$pvalues.training < 0.05, \"Yes\", \"No\") \n",
    "        write.csv(km.pvalue.table, file.path(dir.res.km, paste0(end.point, \"_LogRank_pvalues.csv\")))\n",
    "    \n",
    "        km.pvalue.table.ls[[end.point]] = km.pvalue.table\n",
    "    \n",
    "        # Extract the significant features \n",
    "        significant.features = getSignificantFeatures(km.pvalue.table, pvalue.thresh = 0.05)\n",
    "\n",
    "        # Store \n",
    "        significant.features.ls[[end.point]] = significant.features\n",
    "        \n",
    "    } else {\n",
    "        significant.features.ls[[end.point]] = NULL\n",
    "    }\n",
    "}"
   ]
  },
  {
   "cell_type": "markdown",
   "id": "sized-raise",
   "metadata": {},
   "source": [
    "# 4 Penalised cox regression without clinical variables \n",
    "\n",
    "Define path to output "
   ]
  },
  {
   "cell_type": "code",
   "execution_count": 28,
   "id": "integrated-defendant",
   "metadata": {
    "execution": {
     "iopub.execute_input": "2023-01-26T11:17:19.122849Z",
     "iopub.status.busy": "2023-01-26T11:17:19.121457Z",
     "iopub.status.idle": "2023-01-26T11:17:19.135414Z",
     "shell.execute_reply": "2023-01-26T11:17:19.133940Z"
    }
   },
   "outputs": [],
   "source": [
    "dir.res.pcox = file.path(dir.res.root, \"Penalized_Cox_risk_prediction/customer_features/Without_clinical_features\")\n",
    "dir.create(dir.res.pcox, recursive = T)"
   ]
  },
  {
   "cell_type": "code",
   "execution_count": 29,
   "id": "exempt-hollow",
   "metadata": {
    "execution": {
     "iopub.execute_input": "2023-01-26T11:17:19.139865Z",
     "iopub.status.busy": "2023-01-26T11:17:19.138481Z",
     "iopub.status.idle": "2023-01-26T11:17:19.149924Z",
     "shell.execute_reply": "2023-01-26T11:17:19.148468Z"
    }
   },
   "outputs": [],
   "source": [
    "# Helper function for fixing variable names \n",
    "fixVarNames = function(x){\n",
    "    if (str_detect(x, \"Gender\")) {\n",
    "        return(\"Gender\")\n",
    "    } else if (str_detect(x, \"Tumor.stage\")){\n",
    "        return(\"Tumor.stage\")\n",
    "    } else if (str_detect(x,\".cn\")){\n",
    "        return(str_extract(x, \"\\\\w+.cn\"))\n",
    "    } else if (str_detect(x, \"Gleason.group\")){ \n",
    "        return(\"Gleason.group\")\n",
    "    } else {\n",
    "        return(x)\n",
    "    }\n",
    "}"
   ]
  },
  {
   "cell_type": "markdown",
   "id": "involved-infrared",
   "metadata": {},
   "source": [
    "## 4.1 Splitting dataset into training and validation set"
   ]
  },
  {
   "cell_type": "code",
   "execution_count": 30,
   "id": "aging-adventure",
   "metadata": {
    "execution": {
     "iopub.execute_input": "2023-01-26T11:17:19.154455Z",
     "iopub.status.busy": "2023-01-26T11:17:19.153028Z",
     "iopub.status.idle": "2023-01-26T11:17:19.166203Z",
     "shell.execute_reply": "2023-01-26T11:17:19.164767Z"
    }
   },
   "outputs": [],
   "source": [
    "# Here we store all the training and validation splits \n",
    "train_and_validation_ls = list()\n",
    "\n",
    "# Number of samples in training and validation cohorts \n",
    "nsamples_step2_ls_no_clin = list()"
   ]
  },
  {
   "cell_type": "code",
   "execution_count": 31,
   "id": "judicial-separate",
   "metadata": {
    "execution": {
     "iopub.execute_input": "2023-01-26T11:17:19.170470Z",
     "iopub.status.busy": "2023-01-26T11:17:19.169176Z",
     "iopub.status.idle": "2023-01-26T11:17:19.279477Z",
     "shell.execute_reply": "2023-01-26T11:17:19.277891Z"
    }
   },
   "outputs": [
    {
     "name": "stdout",
     "output_type": "stream",
     "text": [
      "[1] \"Taking only complete cases\"\n",
      "[1] \"Including 493 cases out of 500 cases\"\n",
      "[1] \"Taking only complete cases\"\n",
      "[1] \"Including 337 cases out of 500 cases\"\n",
      "[1] \"Taking only complete cases\"\n",
      "[1] \"Including 492 cases out of 500 cases\"\n"
     ]
    }
   ],
   "source": [
    "# Iterate over end points \n",
    "for (end.point in c(\"OS\",\"DSS\",\"DFI\",\"PFI\")){\n",
    "    \n",
    "    # We will first combine the significant.features with the outcome variables\n",
    "    # Final list of features \n",
    "    feature.ls = c(paste0(end.point, c(\".clin\",\".time.clin\")), significant.features.ls[[end.point]])\n",
    "    \n",
    "    if (is.null(significant.features.ls[[end.point]]) == F) {\n",
    "    \n",
    "        # Now we split the dataset into training and validation cohorts exactly as before.\n",
    "        train_and_validation = splitCases(data = tcga.dataset, \n",
    "                                  split = 0.75, \n",
    "                                  only.complete = T,\n",
    "                                  variables = feature.ls,\n",
    "                                  seed = 42)\n",
    "    \n",
    "        # Store \n",
    "        train_and_validation_ls[[end.point]] = train_and_validation\n",
    "    \n",
    "        # Store the number of samples       \n",
    "        nsamples.step2 = c(nrow(train_and_validation$train), nrow(train_and_validation$validation))\n",
    "    }    \n",
    "    else {\n",
    "    \n",
    "        # If there are now significant features store NULL\n",
    "        \n",
    "        # Store \n",
    "        train_and_validation_ls[[end.point]] = NULL\n",
    "        nsamples.step2 = c(NA, NA)\n",
    "    }\n",
    "        \n",
    "    names(nsamples.step2) = c(\"ntrain.step2\", \"nvalid.step2\")\n",
    "    nsamples_step2_ls_no_clin[[end.point]] = nsamples.step2\n",
    "}"
   ]
  },
  {
   "cell_type": "markdown",
   "id": "institutional-uruguay",
   "metadata": {},
   "source": [
    "## 4.2 Find the optimal lambda \n",
    "\n",
    "Use 10-fold cross-validation (CV) for the Cox model for different values of lamda. C-index will be use to evaluate the models."
   ]
  },
  {
   "cell_type": "code",
   "execution_count": 32,
   "id": "recreational-highlight",
   "metadata": {
    "execution": {
     "iopub.execute_input": "2023-01-26T11:17:19.284088Z",
     "iopub.status.busy": "2023-01-26T11:17:19.282738Z",
     "iopub.status.idle": "2023-01-26T11:17:19.299052Z",
     "shell.execute_reply": "2023-01-26T11:17:19.297444Z"
    }
   },
   "outputs": [],
   "source": [
    "# Store significant features \n",
    "rcox.res.no.clin.ls = list()\n",
    "\n",
    "# Store model matrices\n",
    "model.matrices.ls = list()\n",
    "\n",
    "# Store the fitted models for prediction \n",
    "pcox.fit.ls = list()"
   ]
  },
  {
   "cell_type": "code",
   "execution_count": 33,
   "id": "resistant-credit",
   "metadata": {
    "execution": {
     "iopub.execute_input": "2023-01-26T11:17:19.303691Z",
     "iopub.status.busy": "2023-01-26T11:17:19.302269Z",
     "iopub.status.idle": "2023-01-26T11:17:24.362991Z",
     "shell.execute_reply": "2023-01-26T11:17:24.360641Z"
    }
   },
   "outputs": [],
   "source": [
    "# Iterate over end points \n",
    "for (end.point in c(\"OS\",\"DSS\",\"DFI\",\"PFI\")){\n",
    "    \n",
    "    # Check the number of features\n",
    "    # Regulariation cannot be run if there is only one feature\n",
    "    num.feat = ncol(train_and_validation_ls[[end.point]]$train) - 2\n",
    "    \n",
    "    if (is.null(train_and_validation_ls[[end.point]]$train) == F){\n",
    "        if (num.feat > 1) {\n",
    "    \n",
    "            # Genereate model matrix \n",
    "            model.matrices = generateModelMatrices(train_and_validation_ls[[end.point]]$train, \n",
    "                             train_and_validation_ls[[end.point]]$validation, \n",
    "                             clinical.endpoint = end.point)\n",
    "        \n",
    "            model.matrices.ls[[end.point]] = model.matrices\n",
    "    \n",
    "            # Create output dir \n",
    "            dir.create(file.path(dir.res.pcox, end.point))\n",
    "    \n",
    "            # Find optimal lambda (hyperparameter for elastic net)\n",
    "            pcox.fit = findOptimalLambda(x = model.matrices$x.train.mat, \n",
    "                             y = model.matrices$y.train,\n",
    "                             out.dir = file.path(dir.res.pcox, end.point))\n",
    "        \n",
    "            pcox.fit.ls[[end.point]] = pcox.fit\n",
    "    \n",
    "            # Write the final features included in the model to a file \n",
    "            WriteXLS(pcox.fit$active.k.vals, \n",
    "             file.path(dir.res.pcox, end.point ,\"Active_covariates_in_lambda.min_model.xlsx\"), \n",
    "             BoldHeaderRow = T,\n",
    "             row.names = T)\n",
    "    \n",
    "            # Final significant features \n",
    "            rcox.res.no.clin = pcox.fit$active.k.vals %>% tibble::rownames_to_column(\"Feature\")\n",
    "            rcox.res.no.clin.ls[[end.point]] = rcox.res.no.clin  \n",
    "        } else {\n",
    "            # If no significant features from earlier steps for the clin. end point then store null\n",
    "            model.matrices.ls[[end.point]] = NULL\n",
    "            pcox.fit.ls[[end.point]] = NULL\n",
    "            rcox.res.no.clin.ls[[end.point]] = NULL\n",
    "        }\n",
    "\n",
    "    } else {\n",
    "        # If no significant features from earlier steps for the clin. end point then store null\n",
    "        model.matrices.ls[[end.point]] = NULL\n",
    "        pcox.fit.ls[[end.point]] = NULL\n",
    "        rcox.res.no.clin.ls[[end.point]] = NULL\n",
    "    }\n",
    "}"
   ]
  },
  {
   "cell_type": "markdown",
   "id": "specialized-reynolds",
   "metadata": {},
   "source": [
    "## 4.3 Make predictions using the cross-validated model and heatmaps for visualisation\n",
    "\n",
    "## 4.3.1 Training set "
   ]
  },
  {
   "cell_type": "code",
   "execution_count": 34,
   "id": "prospective-marriage",
   "metadata": {
    "execution": {
     "iopub.execute_input": "2023-01-26T11:17:24.368771Z",
     "iopub.status.busy": "2023-01-26T11:17:24.366982Z",
     "iopub.status.idle": "2023-01-26T11:17:24.382010Z",
     "shell.execute_reply": "2023-01-26T11:17:24.380317Z"
    }
   },
   "outputs": [],
   "source": [
    "# Store the result tables\n",
    "KM.train.by.risk.ls = list()"
   ]
  },
  {
   "cell_type": "code",
   "execution_count": 35,
   "id": "responsible-dayton",
   "metadata": {
    "execution": {
     "iopub.execute_input": "2023-01-26T11:17:24.386957Z",
     "iopub.status.busy": "2023-01-26T11:17:24.385437Z",
     "iopub.status.idle": "2023-01-26T11:17:31.287959Z",
     "shell.execute_reply": "2023-01-26T11:17:31.286143Z"
    }
   },
   "outputs": [],
   "source": [
    "# Iterate over end points \n",
    "for (end.point in c(\"OS\",\"DSS\",\"DFI\",\"PFI\")){\n",
    "    \n",
    "    if (!is.null(pcox.fit.ls[[end.point]])) {\n",
    "    \n",
    "        # Predictions for the training set\n",
    "        pred.train <- predict(pcox.fit.ls[[end.point]]$model, \n",
    "                      newx = model.matrices.ls[[end.point]]$x.train.mat, \n",
    "                      s = \"lambda.min\", \n",
    "                      type = \"response\")\n",
    "\n",
    "        # Fitted relative risk\n",
    "        rel.risk <- pred.train[,1] \n",
    "\n",
    "        # Stratify validation data into two groups based on the fitted relative risk\n",
    "        y.data <- as.data.frame(as.matrix(model.matrices.ls[[end.point]]$y.train))\n",
    "        \n",
    "        \n",
    "        # Plot KM and extract the p-value  \n",
    "        KM.train.by.risk = plotKMbyRelativeRisk(data = y.data, \n",
    "                                        rel.risk = rel.risk)\n",
    "        \n",
    "        if (!is.null(KM.train.by.risk)) {\n",
    "        \n",
    "            # Store\n",
    "            KM.train.by.risk.ls[[end.point]] =  KM.train.by.risk$table\n",
    "    \n",
    "            # Store the KM plot\n",
    "            pdf(file.path(dir.res.pcox, end.point ,\"glmnet_K-M_plot_with_training_data.pdf\"), \n",
    "                width = 15, height = 12, onefile = F)\n",
    "            print(KM.train.by.risk$Plot)\n",
    "            dev.off()\n",
    "    \n",
    "            # Heatmap preparation         \n",
    "    \n",
    "            # Variables to be selected \n",
    "            # Because Gender has been changed to a dummy variable its name has been changed\n",
    "            variables.selected = map_chr(rcox.res.no.clin.ls[[end.point]]$Feature, fixVarNames)\n",
    "    \n",
    "            # Get all input variables\n",
    "            heatmap.input.train = model.matrices.ls[[end.point]]$x.train %>% dplyr::select(all_of(variables.selected))\n",
    "    \n",
    "            # Heatmap of training data predictions\n",
    "            hmap.train <- prepareHeatmap(heatmap.input.train, y.data, pred.train, file.path(dir.res.pcox, end.point), \"glmnet_training\", row.height = 8) \n",
    "        \n",
    "        } else {\n",
    "            KM.train.by.risk.ls[[end.point]] = NULL\n",
    "        }\n",
    "        \n",
    "    } else {\n",
    "        KM.train.by.risk.ls[[end.point]] = NULL\n",
    "    }\n",
    "}"
   ]
  },
  {
   "cell_type": "markdown",
   "id": "unlimited-deviation",
   "metadata": {},
   "source": [
    "## 4.3.2 Validation set"
   ]
  },
  {
   "cell_type": "code",
   "execution_count": 36,
   "id": "productive-cheese",
   "metadata": {
    "execution": {
     "iopub.execute_input": "2023-01-26T11:17:31.292718Z",
     "iopub.status.busy": "2023-01-26T11:17:31.291430Z",
     "iopub.status.idle": "2023-01-26T11:17:31.303098Z",
     "shell.execute_reply": "2023-01-26T11:17:31.301593Z"
    }
   },
   "outputs": [],
   "source": [
    "# Store the result tables\n",
    "KM.valid.by.risk.ls = list()"
   ]
  },
  {
   "cell_type": "code",
   "execution_count": 37,
   "id": "incident-remove",
   "metadata": {
    "execution": {
     "iopub.execute_input": "2023-01-26T11:17:31.307546Z",
     "iopub.status.busy": "2023-01-26T11:17:31.306206Z",
     "iopub.status.idle": "2023-01-26T11:17:34.254597Z",
     "shell.execute_reply": "2023-01-26T11:17:34.252953Z"
    }
   },
   "outputs": [],
   "source": [
    "# Iterate over end points \n",
    "for (end.point in c(\"OS\",\"DSS\",\"DFI\",\"PFI\")){\n",
    "    \n",
    "    if (!is.null(pcox.fit.ls[[end.point]])) {\n",
    "    \n",
    "        # Predictions for the training set\n",
    "        pred.valid <- predict(pcox.fit.ls[[end.point]]$model, \n",
    "                      newx = model.matrices.ls[[end.point]]$x.valid.mat, \n",
    "                      s = \"lambda.min\", \n",
    "                      type = \"response\")\n",
    "\n",
    "        # Fitted relative risk\n",
    "        rel.risk <- pred.valid[,1] \n",
    "\n",
    "        # Stratify validation data into two groups based on the fitted relative risk\n",
    "        y.data <- as.data.frame(as.matrix(model.matrices.ls[[end.point]]$y.valid))\n",
    "\n",
    "        # Plot KM and extract the p-value  \n",
    "        KM.valid.by.risk = plotKMbyRelativeRisk(data = y.data, \n",
    "                                        rel.risk = rel.risk)\n",
    "        \n",
    "        if (!is.null(KM.train.by.risk)) {\n",
    "        \n",
    "            # Store\n",
    "            KM.valid.by.risk.ls[[end.point]] =  KM.valid.by.risk$table\n",
    "    \n",
    "            # Store the KM plot\n",
    "            pdf(file.path(dir.res.pcox, end.point ,\"glmnet_K-M_plot_with_validation_data.pdf\"), \n",
    "            width = 15, height = 12, onefile = F)\n",
    "            print(KM.valid.by.risk$Plot)\n",
    "            dev.off()\n",
    "    \n",
    "            # Heatmap preparation \n",
    "    \n",
    "            # Variables to be selected \n",
    "            variables.selected = map_chr(rcox.res.no.clin.ls[[end.point]]$Feature, fixVarNames) \n",
    "    \n",
    "            # Get all input variables\n",
    "            heatmap.input.valid = model.matrices.ls[[end.point]]$x.valid %>% dplyr::select(all_of(variables.selected))\n",
    "    \n",
    "            # Heatmap of training data predictions\n",
    "            hmap.valid <- prepareHeatmap(heatmap.input.valid, y.data, pred.valid, file.path(dir.res.pcox, end.point), \"glmnet_validation\", row.height = 8)  \n",
    "        \n",
    "        } else {\n",
    "            KM.valid.by.risk.ls[[end.point]] = NULL\n",
    "        }\n",
    "        \n",
    "    } else {\n",
    "        KM.valid.by.risk.ls[[end.point]] = NULL\n",
    "    }\n",
    "}"
   ]
  },
  {
   "cell_type": "markdown",
   "id": "personal-evans",
   "metadata": {},
   "source": [
    "Merge the two result tables into one "
   ]
  },
  {
   "cell_type": "code",
   "execution_count": 38,
   "id": "fifty-blackjack",
   "metadata": {
    "execution": {
     "iopub.execute_input": "2023-01-26T11:17:34.259279Z",
     "iopub.status.busy": "2023-01-26T11:17:34.258034Z",
     "iopub.status.idle": "2023-01-26T11:17:34.271016Z",
     "shell.execute_reply": "2023-01-26T11:17:34.269601Z"
    }
   },
   "outputs": [],
   "source": [
    "KM.by.risk.no.clin.train = bind_rows(KM.train.by.risk.ls, .id = \"End point\")\n",
    "KM.by.risk.no.clin.valid = bind_rows(KM.valid.by.risk.ls, .id = \"End point\")"
   ]
  },
  {
   "cell_type": "code",
   "execution_count": 39,
   "id": "ranking-exhibition",
   "metadata": {
    "execution": {
     "iopub.execute_input": "2023-01-26T11:17:34.275108Z",
     "iopub.status.busy": "2023-01-26T11:17:34.273889Z",
     "iopub.status.idle": "2023-01-26T11:17:34.287534Z",
     "shell.execute_reply": "2023-01-26T11:17:34.286035Z"
    }
   },
   "outputs": [],
   "source": [
    "# Store final resilts\n",
    "write.csv(KM.by.risk.no.clin.train, file.path(dir.res.pcox, \"Final_evaluation_results_training.csv\"), row.names = F)\n",
    "write.csv(KM.by.risk.no.clin.valid, file.path(dir.res.pcox, \"Final_evaluation_results_validation.csv\"),row.names = F)"
   ]
  },
  {
   "cell_type": "markdown",
   "id": "executive-buying",
   "metadata": {},
   "source": [
    "# 5 Penalised cox regression with clinical variables\n",
    "\n",
    "In the case of PRAD we will use Age and Gender.\n",
    "\n",
    "Define path to output "
   ]
  },
  {
   "cell_type": "code",
   "execution_count": 40,
   "id": "experimental-supplement",
   "metadata": {
    "execution": {
     "iopub.execute_input": "2023-01-26T11:17:34.291897Z",
     "iopub.status.busy": "2023-01-26T11:17:34.290608Z",
     "iopub.status.idle": "2023-01-26T11:17:34.302552Z",
     "shell.execute_reply": "2023-01-26T11:17:34.301146Z"
    }
   },
   "outputs": [],
   "source": [
    "dir.res.pcox = file.path(dir.res.root, \"Penalized_Cox_risk_prediction/customer_features/With_clinical_features\")\n",
    "dir.create(dir.res.pcox, recursive = T)"
   ]
  },
  {
   "cell_type": "markdown",
   "id": "handy-investor",
   "metadata": {},
   "source": [
    "## 5.1 Preprocess clinical variables"
   ]
  },
  {
   "cell_type": "code",
   "execution_count": 41,
   "id": "concerned-valentine",
   "metadata": {
    "execution": {
     "iopub.execute_input": "2023-01-26T11:17:34.306781Z",
     "iopub.status.busy": "2023-01-26T11:17:34.305552Z",
     "iopub.status.idle": "2023-01-26T11:17:34.316545Z",
     "shell.execute_reply": "2023-01-26T11:17:34.315145Z"
    }
   },
   "outputs": [],
   "source": [
    "# Define function for adding the clinical variables \n",
    "addClinVar = function(data, clin.var) {\n",
    "    if (\"Age\" %in% clin.var) {\n",
    "        data$Age <- data$age_at_diagnosis.clin\n",
    "    } \n",
    "    if (\"Tumor.stage\" %in% clin.var){\n",
    "        data$Tumor.stage = factor(map_chr(data$ajcc_pathologic_stage.clin, reformatTumorStage))\n",
    "    }\n",
    "    if (\"Gender\" %in% clin.var){\n",
    "        data$Gender <- factor(data$gender.clin)    \n",
    "    } \n",
    "    if (\"Gleason.group\" %in% clin.var) {\n",
    "        \n",
    "        # Determine the Gleason group \n",
    "        data$Gleason.group = map2_chr(data$primary_gleason_grade.clin, \n",
    "                                           data$secondary_gleason_grade.clin, \n",
    "                                           determineGleasonGroup)\n",
    "\n",
    "        # Set up the factor levels \n",
    "        data$Gleason.group = factor(data$Gleason.group, \n",
    "                                    levels = c(\"Gleason group 1\", \"Gleason group 2\"))\n",
    "    }\n",
    "    return(data)\n",
    "}"
   ]
  },
  {
   "cell_type": "code",
   "execution_count": 42,
   "id": "hindu-audit",
   "metadata": {
    "execution": {
     "iopub.execute_input": "2023-01-26T11:17:34.320667Z",
     "iopub.status.busy": "2023-01-26T11:17:34.319374Z",
     "iopub.status.idle": "2023-01-26T11:17:34.572469Z",
     "shell.execute_reply": "2023-01-26T11:17:34.570852Z"
    }
   },
   "outputs": [],
   "source": [
    "# Add clinical variables to dataset\n",
    "tcga.dataset = addClinVar(tcga.dataset, clin.var)"
   ]
  },
  {
   "cell_type": "markdown",
   "id": "moral-standing",
   "metadata": {},
   "source": [
    "## 5.2 Splitting dataset into training and validation set"
   ]
  },
  {
   "cell_type": "markdown",
   "id": "exciting-commodity",
   "metadata": {},
   "source": [
    "Generate the final feature ls "
   ]
  },
  {
   "cell_type": "code",
   "execution_count": 43,
   "id": "dominant-eating",
   "metadata": {
    "execution": {
     "iopub.execute_input": "2023-01-26T11:17:34.576989Z",
     "iopub.status.busy": "2023-01-26T11:17:34.575762Z",
     "iopub.status.idle": "2023-01-26T11:17:34.588621Z",
     "shell.execute_reply": "2023-01-26T11:17:34.587231Z"
    }
   },
   "outputs": [],
   "source": [
    "# Here we store all the training and validation splits \n",
    "train_and_validation_ls = list()\n",
    "\n",
    "# Number of samples in training and validation cohorts \n",
    "nsamples_step2_ls_with_clin = list()"
   ]
  },
  {
   "cell_type": "code",
   "execution_count": 44,
   "id": "passing-rover",
   "metadata": {
    "execution": {
     "iopub.execute_input": "2023-01-26T11:17:34.592772Z",
     "iopub.status.busy": "2023-01-26T11:17:34.591559Z",
     "iopub.status.idle": "2023-01-26T11:17:34.698680Z",
     "shell.execute_reply": "2023-01-26T11:17:34.697191Z"
    }
   },
   "outputs": [
    {
     "name": "stdout",
     "output_type": "stream",
     "text": [
      "[1] \"Taking only complete cases\"\n",
      "[1] \"Including 482 cases out of 500 cases\"\n",
      "[1] \"Taking only complete cases\"\n",
      "[1] \"Including 331 cases out of 500 cases\"\n",
      "[1] \"Taking only complete cases\"\n",
      "[1] \"Including 481 cases out of 500 cases\"\n"
     ]
    }
   ],
   "source": [
    "for (end.point in c(\"OS\",\"DSS\",\"DFI\",\"PFI\")){\n",
    "    \n",
    "    # We will first combine the significant.features with the outcome variables\n",
    "    # Final list of features \n",
    "    feature.ls = c(paste0(end.point, c(\".clin\",\".time.clin\")), clin.var, significant.features.ls[[end.point]])\n",
    "   \n",
    "    if (is.null(significant.features.ls[[end.point]]) == F) {\n",
    "    \n",
    "        # Now we split the dataset into training and validation cohorts exactly as before.\n",
    "        train_and_validation = splitCases(data = tcga.dataset, \n",
    "                                  split = 0.75, \n",
    "                                  only.complete = T,\n",
    "                                  variables = feature.ls,\n",
    "                                  seed = 42)\n",
    "    \n",
    "        # Store \n",
    "        train_and_validation_ls[[end.point]] = train_and_validation   \n",
    "        nsamples.step2 = c(nrow(train_and_validation$train), \n",
    "                           nrow(train_and_validation$validation))\n",
    "    }    \n",
    "    else {\n",
    "    \n",
    "        # If there are now significant features store NULL\n",
    "        \n",
    "        # Store \n",
    "        train_and_validation_ls[[end.point]] = NULL\n",
    "        nsamples.step2 = c(NA, NA)\n",
    "    }\n",
    "        \n",
    "    names(nsamples.step2) = c(\"ntrain.step2\", \"nvalid.step2\")\n",
    "    nsamples_step2_ls_with_clin[[end.point]] = nsamples.step2\n",
    "}"
   ]
  },
  {
   "cell_type": "markdown",
   "id": "metric-sheriff",
   "metadata": {},
   "source": [
    "## 5.3 Find the optimal lambda \n",
    "\n",
    "Use 10-fold cross-validation (CV) for the Cox model for different values of lamda. C-index will be use to evaluate the models."
   ]
  },
  {
   "cell_type": "code",
   "execution_count": 45,
   "id": "stuffed-destination",
   "metadata": {
    "execution": {
     "iopub.execute_input": "2023-01-26T11:17:34.703151Z",
     "iopub.status.busy": "2023-01-26T11:17:34.701868Z",
     "iopub.status.idle": "2023-01-26T11:17:34.716798Z",
     "shell.execute_reply": "2023-01-26T11:17:34.715276Z"
    }
   },
   "outputs": [],
   "source": [
    "# Store significant features \n",
    "rcox.res.with.clin.ls = list()\n",
    "\n",
    "# Store model matrices\n",
    "model.matrices.ls = list()\n",
    "\n",
    "# Store the fitted models for prediction \n",
    "pcox.fit.ls = list()"
   ]
  },
  {
   "cell_type": "code",
   "execution_count": 46,
   "id": "noted-father",
   "metadata": {
    "execution": {
     "iopub.execute_input": "2023-01-26T11:17:34.721192Z",
     "iopub.status.busy": "2023-01-26T11:17:34.719866Z",
     "iopub.status.idle": "2023-01-26T11:17:40.376774Z",
     "shell.execute_reply": "2023-01-26T11:17:40.373380Z"
    }
   },
   "outputs": [],
   "source": [
    "# Iterate over end points \n",
    "for (end.point in c(\"OS\",\"DSS\",\"DFI\",\"PFI\")){\n",
    "    \n",
    "    # Check the number of features\n",
    "    # Regulariation cannot be run if there is only one feature\n",
    "    num.feat = ncol(train_and_validation_ls[[end.point]]$train) - 2\n",
    "    \n",
    "    if (is.null(train_and_validation_ls[[end.point]]$train) == F){\n",
    "        if (num.feat > 1) {\n",
    "    \n",
    "            # Genereate model matrix \n",
    "            model.matrices = generateModelMatrices(train_and_validation_ls[[end.point]]$train, \n",
    "                             train_and_validation_ls[[end.point]]$validation, \n",
    "                             clinical.endpoint = end.point)\n",
    "        \n",
    "            model.matrices.ls[[end.point]] = model.matrices\n",
    "    \n",
    "            # Create output dir \n",
    "            dir.create(file.path(dir.res.pcox, end.point))\n",
    "    \n",
    "            # Find optimal lambda (hyperparameter for elastic net)\n",
    "            pcox.fit = findOptimalLambda(x = model.matrices$x.train.mat, \n",
    "                             y = model.matrices$y.train,\n",
    "                             out.dir = file.path(dir.res.pcox, end.point))\n",
    "        \n",
    "            pcox.fit.ls[[end.point]] = pcox.fit\n",
    "    \n",
    "            # Write the final features included in the model to a file \n",
    "            WriteXLS(pcox.fit$active.k.vals, \n",
    "             file.path(dir.res.pcox, end.point ,\"Active_covariates_in_lambda.min_model.xlsx\"), \n",
    "             BoldHeaderRow = T,\n",
    "             row.names = T)\n",
    "    \n",
    "            # Final significant features \n",
    "            rcox.res.with.clin = pcox.fit$active.k.vals %>% tibble::rownames_to_column(\"Feature\")\n",
    "            rcox.res.with.clin.ls[[end.point]] = rcox.res.with.clin  \n",
    "            \n",
    "        } else {\n",
    "            # If no significant features from earlier steps for the clin. end point then store null\n",
    "            model.matrices.ls[[end.point]] = NULL\n",
    "            pcox.fit.ls[[end.point]] = NULL\n",
    "            rcox.res.with.clin.ls[[end.point]] = NULL\n",
    "        }\n",
    "\n",
    "    } else {\n",
    "        # If no significant features from earlier steps for the clin. end point then store null\n",
    "        model.matrices.ls[[end.point]] = NULL\n",
    "        pcox.fit.ls[[end.point]] = NULL\n",
    "        rcox.res.with.clin.ls[[end.point]] = NULL\n",
    "    }\n",
    "}"
   ]
  },
  {
   "cell_type": "markdown",
   "id": "rubber-computer",
   "metadata": {},
   "source": [
    "## 5.4 Make predictions using the cross-validated model\n",
    "\n",
    "## 5.4.1 Training set "
   ]
  },
  {
   "cell_type": "code",
   "execution_count": 47,
   "id": "diagnostic-miniature",
   "metadata": {
    "execution": {
     "iopub.execute_input": "2023-01-26T11:17:40.383374Z",
     "iopub.status.busy": "2023-01-26T11:17:40.381389Z",
     "iopub.status.idle": "2023-01-26T11:17:40.401992Z",
     "shell.execute_reply": "2023-01-26T11:17:40.400027Z"
    }
   },
   "outputs": [],
   "source": [
    "# Store the result tables\n",
    "KM.train.by.risk.ls = list()\n",
    "C.index.train.ls = list()\n",
    "AUC.train.ls = list()"
   ]
  },
  {
   "cell_type": "code",
   "execution_count": 48,
   "id": "continued-production",
   "metadata": {
    "execution": {
     "iopub.execute_input": "2023-01-26T11:17:40.407285Z",
     "iopub.status.busy": "2023-01-26T11:17:40.405617Z",
     "iopub.status.idle": "2023-01-26T11:17:40.420196Z",
     "shell.execute_reply": "2023-01-26T11:17:40.418172Z"
    }
   },
   "outputs": [],
   "source": [
    "# Helper function for fixing variable names \n",
    "fixVarNames = function(x){\n",
    "    if (str_detect(x, \"Gender\")) {\n",
    "        return(\"Gender\")\n",
    "    } else if (str_detect(x, \"Tumor.stage\")){\n",
    "        return(\"Tumor.stage\")\n",
    "    } else if (str_detect(x,\".cn\")){\n",
    "        return(str_extract(x, \"\\\\w+.cn\"))\n",
    "    } else if (str_detect(x, \"Gleason.group\")){ \n",
    "        return(\"Gleason.group\")\n",
    "    } else {\n",
    "        return(x)\n",
    "    }\n",
    "}"
   ]
  },
  {
   "cell_type": "code",
   "execution_count": 49,
   "id": "comic-orlando",
   "metadata": {
    "execution": {
     "iopub.execute_input": "2023-01-26T11:17:40.428587Z",
     "iopub.status.busy": "2023-01-26T11:17:40.425583Z",
     "iopub.status.idle": "2023-01-26T11:17:40.447151Z",
     "shell.execute_reply": "2023-01-26T11:17:40.443845Z"
    }
   },
   "outputs": [],
   "source": [
    "# Calculate AUC\n",
    "calcAUC = function(pred.time, time, status, risk.score){\n",
    "    \n",
    "    # Calculate ROC characteristics\n",
    "    res.ROC = survivalROC(Stime = time,\n",
    "                          status = status,\n",
    "                          marker = risk.score,\n",
    "                          predict.time = pred.time,\n",
    "                          method  = \"KM\")\n",
    "    return(min(res.ROC$AUC,1))\n",
    "}"
   ]
  },
  {
   "cell_type": "code",
   "execution_count": 50,
   "id": "studied-baseball",
   "metadata": {
    "execution": {
     "iopub.execute_input": "2023-01-26T11:17:40.452185Z",
     "iopub.status.busy": "2023-01-26T11:17:40.450709Z",
     "iopub.status.idle": "2023-01-26T11:17:47.983670Z",
     "shell.execute_reply": "2023-01-26T11:17:47.981855Z"
    }
   },
   "outputs": [
    {
     "data": {
      "image/png": "[encoded data removed]",
      "text/plain": [
       "plot without title"
      ]
     },
     "metadata": {
      "image/png": {
       "height": 420,
       "width": 420
      }
     },
     "output_type": "display_data"
    },
    {
     "data": {
      "image/png": "[encoded data removed]",
      "text/plain": [
       "plot without title"
      ]
     },
     "metadata": {
      "image/png": {
       "height": 420,
       "width": 420
      }
     },
     "output_type": "display_data"
    },
    {
     "data": {
      "image/png": "[encoded data removed]",
      "text/plain": [
       "plot without title"
      ]
     },
     "metadata": {
      "image/png": {
       "height": 420,
       "width": 420
      }
     },
     "output_type": "display_data"
    }
   ],
   "source": [
    "# Set seed \n",
    "set.seed(42)\n",
    "\n",
    "# Iterate over end points \n",
    "for (end.point in c(\"OS\",\"DSS\",\"DFI\",\"PFI\")){\n",
    "    \n",
    "    if (!is.null(pcox.fit.ls[[end.point]])) {\n",
    "    \n",
    "        # Predictions for the training set\n",
    "        pred.train <- predict(pcox.fit.ls[[end.point]]$model, \n",
    "                      newx = model.matrices.ls[[end.point]]$x.train.mat, \n",
    "                      s = \"lambda.min\", \n",
    "                      type = \"response\")\n",
    "\n",
    "        # Fitted relative risk\n",
    "        rel.risk <- pred.train[,1] \n",
    "        \n",
    "        # Calculate the C-index (NEW ADDITION )\n",
    "        c.index.train = Cindex(pred = pred.train, y = model.matrices.ls[[end.point]]$y.train) \n",
    "        C.index.train.ls[[end.point]] = c.index.train \n",
    "\n",
    "        # Stratify validation data into two groups based on the fitted relative risk\n",
    "        y.data <- as.data.frame(as.matrix(model.matrices.ls[[end.point]]$y.train))\n",
    "        \n",
    "        \n",
    "        # TEST new function for calculating the C-index\n",
    "        cindex.train = concordance.index(rel.risk, \n",
    "                                         y.data$time, \n",
    "                                         y.data$status,\n",
    "                                         na.rm = TRUE)\n",
    "        \n",
    "        C.index.train.ls[[end.point]] = data.frame(\"C-index\" = round(cindex.train$c.index, 4),\n",
    "                                          \"C-index CI\" = paste0(\"(\", round(cindex.train$lower, 4), \" - \",  \n",
    "                                                                round(cindex.train$upper, 4), \")\"),\n",
    "                                        check.names = F)\n",
    "        \n",
    "\n",
    "        # Plot KM and extract the p-value  \n",
    "        KM.train.by.risk = plotKMbyRelativeRisk(data = y.data, \n",
    "                                        rel.risk = rel.risk)\n",
    "        \n",
    "        \n",
    "        # Calculate AUCs \n",
    "        auc.vect = round(map_dbl(c(365, 3 * 365, 5 * 365), .f = calcAUC, \n",
    "                   time = y.data$time, status = y.data$status , risk.score = rel.risk), 4)\n",
    "        names(auc.vect) = c(\"AUC (1y)\", \"AUC (3y)\", \"AUC (5y)\")\n",
    "        \n",
    "        AUC.train.ls[[end.point]] = as.data.frame(t(data.frame(auc.vect)))\n",
    "    \n",
    "        if (!is.null(KM.train.by.risk)) {\n",
    "        \n",
    "            # Store\n",
    "            KM.train.by.risk.ls[[end.point]] =  KM.train.by.risk$table\n",
    "    \n",
    "            # Store the KM plot\n",
    "            pdf(file.path(dir.res.pcox, end.point ,\"glmnet_K-M_plot_with_training_data.pdf\"), \n",
    "                width = 15, height = 12, onefile = F)\n",
    "            print(KM.train.by.risk$Plot)\n",
    "            dev.off()\n",
    "    \n",
    "            # Heatmap preparation \n",
    "    \n",
    "            # Variables to be selected \n",
    "            # Because Gender has been changed to a dummy variable its name has been changed\n",
    "            variables.selected = map_chr(rcox.res.with.clin.ls[[end.point]]$Feature, fixVarNames)\n",
    "    \n",
    "            # Get all input variables\n",
    "            heatmap.input.train = model.matrices.ls[[end.point]]$x.train %>% dplyr::select(all_of(variables.selected))\n",
    "    \n",
    "            # Heatmap of training data predictions\n",
    "            hmap.train <- prepareHeatmap(heatmap.input.train, y.data, pred.train, file.path(dir.res.pcox, end.point), \"glmnet_training\", row.height = 8)\n",
    "            print(hmap.train)\n",
    "            \n",
    "        } else {\n",
    "            KM.train.by.risk.ls[[end.point]] = NULL\n",
    "            C.index.train.ls[[end.point]] = NULL\n",
    "            AUC.train.ls[[end.point]] = NULL\n",
    "            \n",
    "        }\n",
    "    } else {\n",
    "        KM.train.by.risk.ls[[end.point]] = NULL\n",
    "        C.index.train.ls[[end.point]] = NULL\n",
    "        AUC.train.ls[[end.point]] = NULL\n",
    "    }\n",
    "}"
   ]
  },
  {
   "cell_type": "markdown",
   "id": "sticky-practice",
   "metadata": {},
   "source": [
    "## 5.4.2 Validation set"
   ]
  },
  {
   "cell_type": "code",
   "execution_count": 51,
   "id": "radical-russian",
   "metadata": {
    "execution": {
     "iopub.execute_input": "2023-01-26T11:17:47.988432Z",
     "iopub.status.busy": "2023-01-26T11:17:47.987145Z",
     "iopub.status.idle": "2023-01-26T11:17:48.001405Z",
     "shell.execute_reply": "2023-01-26T11:17:47.999914Z"
    }
   },
   "outputs": [],
   "source": [
    "# Store the result tables\n",
    "KM.valid.by.risk.ls = list()\n",
    "C.index.valid.ls = list()\n",
    "AUC.valid.ls = list()"
   ]
  },
  {
   "cell_type": "code",
   "execution_count": 52,
   "id": "absolute-bundle",
   "metadata": {
    "execution": {
     "iopub.execute_input": "2023-01-26T11:17:48.019939Z",
     "iopub.status.busy": "2023-01-26T11:17:48.018691Z",
     "iopub.status.idle": "2023-01-26T11:17:51.721401Z",
     "shell.execute_reply": "2023-01-26T11:17:51.719544Z"
    }
   },
   "outputs": [],
   "source": [
    "# Set seed\n",
    "set.seed(42)\n",
    "\n",
    "# Iterate over end points \n",
    "for (end.point in c(\"OS\",\"DSS\",\"DFI\",\"PFI\")){\n",
    "    \n",
    "    if (!is.null(pcox.fit.ls[[end.point]])) {\n",
    "    \n",
    "        # Predictions for the validation set\n",
    "        pred.valid <- predict(pcox.fit.ls[[end.point]]$model, \n",
    "                      newx = model.matrices.ls[[end.point]]$x.valid.mat, \n",
    "                      s = \"lambda.min\", \n",
    "                      type = \"response\")\n",
    "\n",
    "        # Fitted relative risk\n",
    "        rel.risk <- pred.valid[,1] \n",
    "\n",
    "        # Stratify validation data into two groups based on the fitted relative risk\n",
    "        y.data <- as.data.frame(as.matrix(model.matrices.ls[[end.point]]$y.valid))\n",
    "        \n",
    "        \n",
    "        # TEST new function for calculating the C-index\n",
    "        cindex.valid = concordance.index(rel.risk, \n",
    "                                         y.data$time, \n",
    "                                         y.data$status,\n",
    "                                         na.rm = TRUE)\n",
    "        \n",
    "        C.index.valid.ls[[end.point]] = data.frame(\"C-index\" = round(cindex.valid$c.index, 4),\n",
    "                                          \"C-index CI\" = paste0(\"(\", round(cindex.valid$lower, 4), \" - \",  \n",
    "                                                                round(cindex.valid$upper, 4), \")\"),\n",
    "                                        check.names = F)\n",
    "        \n",
    "        # Plot KM and extract the p-value  \n",
    "        KM.valid.by.risk = plotKMbyRelativeRisk(data = y.data, \n",
    "                                        rel.risk = rel.risk)\n",
    "        \n",
    "        # Calculate AUCs \n",
    "        auc.vect = round(map_dbl(c(365, 3 * 365, 5 * 365), .f = calcAUC, \n",
    "                   time = y.data$time, status = y.data$status , risk.score = rel.risk),4)\n",
    "        \n",
    "        names(auc.vect) = c(\"AUC (1y)\", \"AUC (3y)\", \"AUC (5y)\")\n",
    "        \n",
    "        AUC.valid.ls[[end.point]] = as.data.frame(t(data.frame(auc.vect)))\n",
    "    \n",
    "        if (!is.null(KM.train.by.risk)) {\n",
    "            \n",
    "            # Store\n",
    "            KM.valid.by.risk.ls[[end.point]] =  KM.valid.by.risk$table\n",
    "    \n",
    "            # Store the KM plot\n",
    "            pdf(file.path(dir.res.pcox, end.point ,\"glmnet_K-M_plot_with_validation_data.pdf\"), \n",
    "                width = 15, height = 12, onefile = F)\n",
    "            print(KM.valid.by.risk$Plot)\n",
    "            dev.off()\n",
    "    \n",
    "            # Heatmap preparation \n",
    "    \n",
    "            # Variables to be selected \n",
    "            variables.selected = map_chr(rcox.res.with.clin.ls[[end.point]]$Feature, fixVarNames)\n",
    "    \n",
    "            # Get all input variables\n",
    "            heatmap.input.valid = model.matrices.ls[[end.point]]$x.valid %>% dplyr::select(all_of(variables.selected))\n",
    "    \n",
    "            # Heatmap of training data predictions\n",
    "            hmap.valid <- prepareHeatmap(heatmap.input.valid, y.data, pred.valid, file.path(dir.res.pcox, end.point), \"glmnet_validation\", row.height = 8)\n",
    "            \n",
    "        } else {\n",
    "            KM.valid.by.risk.ls[[end.point]] = NULL\n",
    "            C.index.valid.ls[[end.point]] = NULL\n",
    "            AUC.valid.ls[[end.point]] = NULL\n",
    "        }\n",
    "    } else {\n",
    "        KM.valid.by.risk.ls[[end.point]] = NULL\n",
    "        C.index.valid.ls[[end.point]] = NULL\n",
    "        AUC.valid.ls[[end.point]] = NULL\n",
    "    }\n",
    "}"
   ]
  },
  {
   "cell_type": "code",
   "execution_count": 53,
   "id": "reasonable-pavilion",
   "metadata": {
    "execution": {
     "iopub.execute_input": "2023-01-26T11:17:51.726162Z",
     "iopub.status.busy": "2023-01-26T11:17:51.724799Z",
     "iopub.status.idle": "2023-01-26T11:17:51.747532Z",
     "shell.execute_reply": "2023-01-26T11:17:51.745925Z"
    }
   },
   "outputs": [],
   "source": [
    "# Collect the results into a single data frame\n",
    "\n",
    "# Log-rank test results \n",
    "KM.by.risk.with.clin.train = bind_rows(KM.train.by.risk.ls, .id = \"End point\")\n",
    "KM.by.risk.with.clin.valid = bind_rows(KM.valid.by.risk.ls, .id = \"End point\")\n",
    "\n",
    "# C-indices\n",
    "C.index.train.df = bind_rows(C.index.train.ls , .id = \"End point\")\n",
    "C.index.valid.df = bind_rows(C.index.valid.ls , .id = \"End point\")\n",
    "\n",
    "# AUCs \n",
    "auc.train.df = bind_rows(AUC.train.ls, .id  = \"End point\") \n",
    "auc.valid.df = bind_rows(AUC.valid.ls, .id  = \"End point\")"
   ]
  },
  {
   "cell_type": "code",
   "execution_count": 54,
   "id": "southeast-accent",
   "metadata": {
    "execution": {
     "iopub.execute_input": "2023-01-26T11:17:51.751868Z",
     "iopub.status.busy": "2023-01-26T11:17:51.750596Z",
     "iopub.status.idle": "2023-01-26T11:17:51.772617Z",
     "shell.execute_reply": "2023-01-26T11:17:51.771188Z"
    }
   },
   "outputs": [],
   "source": [
    "# Store final resilts\n",
    "write.csv(KM.by.risk.with.clin.train, file.path(dir.res.pcox, \"Final_evaluation_results_training.csv\"), row.names = F)\n",
    "write.csv(KM.by.risk.with.clin.valid, file.path(dir.res.pcox, \"Final_evaluation_results_validation.csv\"),row.names = F)\n",
    "\n",
    "write.csv(C.index.train.df, file.path(dir.res.pcox, \"Final_evaluation_C_index_training.csv\"), row.names = F)\n",
    "write.csv(C.index.valid.df, file.path(dir.res.pcox, \"Final_evaluation_C_index_validation.csv\"), row.names = F)\n",
    "\n",
    "write.csv(auc.train.df, file.path(dir.res.pcox, \"Final_evaluation_AUC_training.csv\"), row.names = F)\n",
    "write.csv(auc.valid.df, file.path(dir.res.pcox, \"Final_evaluation_AUC_validation.csv\"), row.names = F)"
   ]
  },
  {
   "cell_type": "markdown",
   "id": "fantastic-employer",
   "metadata": {},
   "source": [
    "# 6. For each clinical end point produce a reference model including only clinical variables "
   ]
  },
  {
   "cell_type": "markdown",
   "id": "unnecessary-tomorrow",
   "metadata": {},
   "source": [
    "Modified heatmap function "
   ]
  },
  {
   "cell_type": "code",
   "execution_count": 55,
   "id": "numerical-rebate",
   "metadata": {
    "execution": {
     "iopub.execute_input": "2023-01-26T11:17:51.777361Z",
     "iopub.status.busy": "2023-01-26T11:17:51.775978Z",
     "iopub.status.idle": "2023-01-26T11:17:51.787736Z",
     "shell.execute_reply": "2023-01-26T11:17:51.786308Z"
    }
   },
   "outputs": [],
   "source": [
    "prepareHeatmap_clin = function(feature_data, \n",
    "                          surv_data, \n",
    "                          predicted.risk, \n",
    "                          dir, \n",
    "                          name, \n",
    "                          row.height = 4){\n",
    "    \n",
    "\n",
    "    # Extract survival data\n",
    "    survivalData = surv_data\n",
    "  \n",
    "    # Recode the numberic data into factor\n",
    "    survivalData <- mutate(survivalData, Event = recodeEvent(status))\n",
    "\n",
    "    # Extract predicted risk \n",
    "    predRisk  = predicted.risk\n",
    "\n",
    "    # Based on the predicted risk divide the patients into groups \n",
    "    group = ifelse(predRisk  < median(predRisk), \"Low\", \"High\")\n",
    "  \n",
    "    # Color scale for the prediction\n",
    "    predCol = colorRamp2(c(min(predRisk),max(predRisk)), \n",
    "                        c(\"#00bfc4\",\"#f8766d\"))\n",
    "\n",
    "    # Colorscale for the risk groups\n",
    "    riskCol = structure(c(\"#00bfc4\",\"#f8766d\"), names = c(\"Low\", \"High\"))\n",
    "\n",
    "\n",
    "    # Colorscale for the time variable\n",
    "    timeCol = colorRamp2(seq(0, max(survivalData$time), length = 2), \n",
    "                        c(\"white\", \"green\"), space = \"RGB\")\n",
    "  \n",
    "    # Colorscale for the status \n",
    "    statusCol = structure(c(\"grey\",\"black\"), names = c(\"Censored\",\"Progressed\"))\n",
    "\n",
    "    # Initialise clinical variables and colorschemes \n",
    "    age.at.diag.years = NULL\n",
    "    gender = NULL\n",
    "    tumor.stage = NULL\n",
    "    gleason.score = NULL \n",
    "    \n",
    "    ageCol = NULL\n",
    "    genderCol = NULL\n",
    "    tumorStageCol = NULL \n",
    "    gleasonCol = NULL\n",
    "\n",
    "    # Add clinical variables if present \n",
    "    if (is.null(feature_data$Age) == F) {\n",
    "        age.at.diag.years = (feature_data$Age / 360) \n",
    "    }\n",
    "\n",
    "    gender = feature_data$Gender\n",
    "    tumor.stage = feature_data$Tumor.stage\n",
    "    gleason.score = feature_data$Gleason.group\n",
    " \n",
    "    # Age colorscheme\n",
    "    if (is.null(feature_data$Age) == F) {\n",
    "            ageCol = colorRamp2(c(min(age.at.diag.years),max(age.at.diag.years)), \n",
    "                        c(\"white\",\"midnightblue\"))\n",
    "    }\n",
    "\n",
    "    # Gender colorscheme\n",
    "    if (is.null(feature_data$Gender) == F){\n",
    "        genderCol = structure(c(\"orange\", \"brown\"), names = c(\"female\",\"male\"))\n",
    "    }\n",
    "\n",
    "    # Tumor stage colorscheme\n",
    "    if (is.null(feature_data$Tumor.stage) == F){\n",
    "        tumorStageCol = structure(c(\"grey\",\"steelblue1\", \"steelblue2\",  \"steelblue3\", \"steelblue\"),\n",
    "                                   names = c(\"NA\",\"Stage 1\", \"Stage 2\", \"Stage 3\", \"Stage 4\"))}\n",
    "\n",
    "    if (is.null(feature_data$Gleason.group) == F) {\n",
    "            gleasonCol = structure(c(\"seagreen3\",\"tomato2\"), names = c(\"Gleason group 1\",\"Gleason group 2\"))\n",
    "    }\n",
    "\n",
    "    # Prepare the heatmap components  \n",
    "\n",
    "    # Collect varibles into a final data frame \n",
    "    heatmap.data = data.frame(`Time (days)` = survivalData$time,\n",
    "                              Status = survivalData$Event, check.names = F)\n",
    "\n",
    "    if (is.null(age.at.diag.years) == F) {\n",
    "            heatmap.data$`Age at diagnosis` = age.at.diag.years\n",
    "    }\n",
    "    if (is.null(gender) == F) {\n",
    "            heatmap.data$`Gender` = gender\n",
    "    }\n",
    "    if (is.null(tumor.stage) == F) {\n",
    "            heatmap.data$`Tumor stage` = tumor.stage\n",
    "    } \n",
    "\n",
    "    if (is.null(gleason.score) == F) {\n",
    "            heatmap.data$`Gleason score` = gleason.score\n",
    "    } \n",
    "\n",
    "    # Color data for the heatmap\n",
    "    color.data = list(Status = statusCol,\n",
    "                      `Time (days)` = timeCol)\n",
    "\n",
    "    if (is.null(age.at.diag.years) == F) {\n",
    "        color.data$`Age at diagnosis` = ageCol\n",
    "    }\n",
    "    if (is.null(gender) == F) {\n",
    "        color.data$Gender = genderCol\n",
    "    }\n",
    "    if (is.null(tumor.stage) == F) {\n",
    "        color.data$`Tumor stage` = tumorStageCol\n",
    "    } \n",
    "    if (is.null(gleason.score) == F) {\n",
    "        color.data$`Gleason score` = gleasonCol\n",
    "    } \n",
    "\n",
    "    \n",
    "    predRisk.ord = predRisk[order(predRisk)]\n",
    "    \n",
    "    # Generate top annotation \n",
    "    ha.top.1 = HeatmapAnnotation(`Predicted risk` = anno_barplot(predRisk.ord, \n",
    "                                                                 border = F, \n",
    "                                                                 axis = F, \n",
    "                                                                 bar_width = 1,\n",
    "                                                  gp = gpar(fill = 4, lwd = 0)))\n",
    "\n",
    "    \n",
    "    heatmap.data = heatmap.data[order(predRisk),]\n",
    "    ha.top.2 = HeatmapAnnotation(df = heatmap.data, \n",
    "                           col = color.data)\n",
    "\n",
    "    # Concatenate \n",
    "    ha.top = c(ha.top.1, ha.top.2) \n",
    "    \n",
    "    group = group[order(predRisk)]\n",
    "\n",
    "    # Bottom annotation\n",
    "    ha.bottom = HeatmapAnnotation(`Risk group` = group,\n",
    "                          col = list(`Risk group` = riskCol))\n",
    "    \n",
    "    # Combine the heatmaps \n",
    "    combHeat = ha.top %v% ha.bottom\n",
    "            \n",
    "    pdf(file.path(dir, paste0(name, \"_heatmap.pdf\")))\n",
    "        draw(combHeat)\n",
    "        dev.off()\n",
    "    return(combHeat)\n",
    "    \n",
    "}"
   ]
  },
  {
   "cell_type": "code",
   "execution_count": 56,
   "id": "lesser-yukon",
   "metadata": {
    "execution": {
     "iopub.execute_input": "2023-01-26T11:17:51.792220Z",
     "iopub.status.busy": "2023-01-26T11:17:51.790799Z",
     "iopub.status.idle": "2023-01-26T11:17:51.803127Z",
     "shell.execute_reply": "2023-01-26T11:17:51.801631Z"
    }
   },
   "outputs": [],
   "source": [
    "dir.res.pcox = file.path(dir.res.root, \"Penalized_Cox_risk_prediction/customer_features/Only_clinical_features\")\n",
    "dir.create(dir.res.pcox, recursive = T)"
   ]
  },
  {
   "cell_type": "markdown",
   "id": "centered-angola",
   "metadata": {},
   "source": [
    "## 6.1 Splitting dataset into training and validation set"
   ]
  },
  {
   "cell_type": "code",
   "execution_count": 57,
   "id": "fossil-documentation",
   "metadata": {
    "execution": {
     "iopub.execute_input": "2023-01-26T11:17:51.807562Z",
     "iopub.status.busy": "2023-01-26T11:17:51.806265Z",
     "iopub.status.idle": "2023-01-26T11:17:51.817055Z",
     "shell.execute_reply": "2023-01-26T11:17:51.815582Z"
    }
   },
   "outputs": [],
   "source": [
    "# x : training_and_validation data \n",
    "# rm : Keep the listed variables\n",
    "dropFeatures = function(x, rm){\n",
    "    x$train = dplyr::select(x$train, -all_of(rm))\n",
    "    x$validation = dplyr::select(x$validation, -all_of(rm))\n",
    "    return(x)\n",
    "}"
   ]
  },
  {
   "cell_type": "code",
   "execution_count": 58,
   "id": "pressing-space",
   "metadata": {
    "execution": {
     "iopub.execute_input": "2023-01-26T11:17:51.821246Z",
     "iopub.status.busy": "2023-01-26T11:17:51.819941Z",
     "iopub.status.idle": "2023-01-26T11:17:51.830701Z",
     "shell.execute_reply": "2023-01-26T11:17:51.829226Z"
    }
   },
   "outputs": [],
   "source": [
    "# Here we store all the training and validation splits \n",
    "train_and_validation_ref_ls = list()"
   ]
  },
  {
   "cell_type": "code",
   "execution_count": 59,
   "id": "ordered-generation",
   "metadata": {
    "execution": {
     "iopub.execute_input": "2023-01-26T11:17:51.834947Z",
     "iopub.status.busy": "2023-01-26T11:17:51.833660Z",
     "iopub.status.idle": "2023-01-26T11:17:51.984221Z",
     "shell.execute_reply": "2023-01-26T11:17:51.982546Z"
    }
   },
   "outputs": [
    {
     "name": "stdout",
     "output_type": "stream",
     "text": [
      "[1] \"Taking only complete cases\"\n",
      "[1] \"Including 489 cases out of 500 cases\"\n",
      "[1] \"Taking only complete cases\"\n",
      "[1] \"Including 482 cases out of 500 cases\"\n",
      "[1] \"Taking only complete cases\"\n",
      "[1] \"Including 331 cases out of 500 cases\"\n",
      "[1] \"Taking only complete cases\"\n",
      "[1] \"Including 481 cases out of 500 cases\"\n"
     ]
    }
   ],
   "source": [
    "# Iterate over end points \n",
    "for (end.point in c(\"OS\",\"DSS\",\"DFI\",\"PFI\")){\n",
    "\n",
    "    # We will first combine the significant.features with the outcome variables\n",
    "    # Final list of features \n",
    "    feature.ls = c(paste0(end.point, c(\".clin\",\".time.clin\")), clin.var, significant.features.ls[[end.point]])\n",
    "    \n",
    "    # Now we split the dataset into training and validation cohorts exactly as before.\n",
    "    train_and_validation.only.clin = splitCases(data = tcga.dataset, \n",
    "                                  split = 0.75, \n",
    "                                  only.complete = T,\n",
    "                                  variables = feature.ls,\n",
    "                                  seed = 42)\n",
    "    \n",
    "    # Remove gene-based features \n",
    "    train_and_validation_ref_ls[[end.point]] = dropFeatures(train_and_validation.only.clin, significant.features.ls[[end.point]])\n",
    "}"
   ]
  },
  {
   "cell_type": "markdown",
   "id": "indonesian-consequence",
   "metadata": {},
   "source": [
    "For simplicity and to ensure that we will have a reference model we will apply conventional cox regression"
   ]
  },
  {
   "cell_type": "markdown",
   "id": "miniature-cleaners",
   "metadata": {},
   "source": [
    "## 6.2 Fit the model and check the proportionality assumptions"
   ]
  },
  {
   "cell_type": "code",
   "execution_count": 60,
   "id": "direct-marketplace",
   "metadata": {
    "execution": {
     "iopub.execute_input": "2023-01-26T11:17:51.989002Z",
     "iopub.status.busy": "2023-01-26T11:17:51.987636Z",
     "iopub.status.idle": "2023-01-26T11:17:51.999452Z",
     "shell.execute_reply": "2023-01-26T11:17:51.997939Z"
    }
   },
   "outputs": [],
   "source": [
    "# Store COX models\n",
    "pcox.ref.fit.ls = list()"
   ]
  },
  {
   "cell_type": "code",
   "execution_count": 61,
   "id": "innovative-edward",
   "metadata": {
    "execution": {
     "iopub.execute_input": "2023-01-26T11:17:52.003829Z",
     "iopub.status.busy": "2023-01-26T11:17:52.002497Z",
     "iopub.status.idle": "2023-01-26T11:17:52.013874Z",
     "shell.execute_reply": "2023-01-26T11:17:52.012388Z"
    }
   },
   "outputs": [],
   "source": [
    "# \n",
    "# Function fits a cox regression model\n",
    "# \n",
    "fitCoxModel = function(data, end.point, features){\n",
    "    \n",
    "    # Expand to variable name\n",
    "    end_point_time = paste0(end.point, \".time.clin\")\n",
    "    end_point_event = paste0(end.point, \".clin\")\n",
    "\n",
    "    # Generate a survival formula object \n",
    "    survExpression = paste0(\"Surv(\", end_point_time, \", \" , end_point_event, \")\")\n",
    "    f <- as.formula(paste(survExpression, paste(features, collapse = \" + \"), sep = \" ~ \"))\n",
    "    \n",
    "    model.fit = coxph(f, data = data)\n",
    "    return(model.fit)\n",
    "}"
   ]
  },
  {
   "cell_type": "code",
   "execution_count": 62,
   "id": "double-polymer",
   "metadata": {
    "execution": {
     "iopub.execute_input": "2023-01-26T11:17:52.018098Z",
     "iopub.status.busy": "2023-01-26T11:17:52.016809Z",
     "iopub.status.idle": "2023-01-26T11:17:52.087921Z",
     "shell.execute_reply": "2023-01-26T11:17:52.086387Z"
    }
   },
   "outputs": [
    {
     "name": "stdout",
     "output_type": "stream",
     "text": [
      "             OS.clin OS.time.clin   Age   Gleason.group\n",
      "TCGA-EJ-8470       0         1159 21209 Gleason group 2\n",
      "TCGA-J4-A67K       0         1004 24908 Gleason group 2\n",
      "TCGA-EJ-7115       0         2687 23986 Gleason group 2\n",
      "TCGA-ZG-A9L4       0         1108 22388 Gleason group 2\n",
      "TCGA-HC-7211       0         1221 22768 Gleason group 1\n",
      "TCGA-J4-A67Q       0          975 28447 Gleason group 1\n",
      "             DSS.clin DSS.time.clin   Age   Gleason.group\n",
      "TCGA-EJ-8470        0          1159 21209 Gleason group 2\n",
      "TCGA-EJ-8474        0           766 25561 Gleason group 2\n",
      "TCGA-G9-6384        0           765 19620 Gleason group 1\n",
      "TCGA-HC-7750        0           522 18580 Gleason group 1\n",
      "TCGA-KK-A6E8        0          1770 25026 Gleason group 2\n",
      "TCGA-HC-7209        0           440 22129 Gleason group 1\n"
     ]
    },
    {
     "name": "stderr",
     "output_type": "stream",
     "text": [
      "Warning message in coxph.fit(X, Y, istrat, offset, init, control, weights = weights, :\n",
      "“Loglik converged before variable  2 ; coefficient may be infinite. ”\n"
     ]
    },
    {
     "name": "stdout",
     "output_type": "stream",
     "text": [
      "             DFI.clin DFI.time.clin   Age   Gleason.group\n",
      "TCGA-G9-7525        0           994 23481 Gleason group 2\n",
      "TCGA-ZG-A9LS        0           516 23540 Gleason group 2\n",
      "TCGA-G9-6378        0          1155 19879 Gleason group 1\n",
      "TCGA-SU-A7E7        0           551 22185 Gleason group 2\n",
      "TCGA-J4-A67L        0           770 20034 Gleason group 1\n",
      "TCGA-KK-A6E2        0          5024 19974 Gleason group 1\n",
      "             PFI.clin PFI.time.clin   Age   Gleason.group\n",
      "TCGA-EJ-8470        0          1159 21209 Gleason group 2\n",
      "TCGA-EJ-8474        0           766 25561 Gleason group 2\n",
      "TCGA-G9-6384        0           765 19620 Gleason group 1\n",
      "TCGA-HC-7750        0           522 18580 Gleason group 1\n",
      "TCGA-KK-A8I8        0           967 25546 Gleason group 2\n",
      "TCGA-HC-7209        0           440 22129 Gleason group 1\n"
     ]
    }
   ],
   "source": [
    "# Fit the models\n",
    "for (end.point in c(\"OS\",\"DSS\",\"DFI\",\"PFI\")){\n",
    "    print(head(train_and_validation_ref_ls[[end.point]]$train))\n",
    "    if (nrow(train_and_validation_ref_ls[[end.point]]$train) > 1) {\n",
    "        pcox.ref.fit.ls[[end.point]] = fitCoxModel(train_and_validation_ref_ls[[end.point]]$train, end.point, clin.var)\n",
    "    } else {\n",
    "        pcox.ref.fit.ls[[end.point]] = NULL\n",
    "    }\n",
    "}"
   ]
  },
  {
   "cell_type": "markdown",
   "id": "known-reputation",
   "metadata": {},
   "source": [
    "## 6.3 Make predictions with the full model"
   ]
  },
  {
   "cell_type": "markdown",
   "id": "proud-annual",
   "metadata": {},
   "source": [
    "### 6.3.1 Training set "
   ]
  },
  {
   "cell_type": "code",
   "execution_count": 63,
   "id": "tribal-shannon",
   "metadata": {
    "execution": {
     "iopub.execute_input": "2023-01-26T11:17:52.092508Z",
     "iopub.status.busy": "2023-01-26T11:17:52.091184Z",
     "iopub.status.idle": "2023-01-26T11:17:52.105435Z",
     "shell.execute_reply": "2023-01-26T11:17:52.103907Z"
    }
   },
   "outputs": [],
   "source": [
    "# Store the result tables\n",
    "KM.train.ref.by.risk.ls = list()\n",
    "C.index.ref.train.ls = list()\n",
    "AUC.train.ref.ls = list()"
   ]
  },
  {
   "cell_type": "code",
   "execution_count": 64,
   "id": "considered-mileage",
   "metadata": {
    "execution": {
     "iopub.execute_input": "2023-01-26T11:17:52.109776Z",
     "iopub.status.busy": "2023-01-26T11:17:52.108477Z",
     "iopub.status.idle": "2023-01-26T11:17:58.193493Z",
     "shell.execute_reply": "2023-01-26T11:17:58.191641Z"
    }
   },
   "outputs": [],
   "source": [
    "# Iterate over end points \n",
    "#for (end.point in c(\"OS\",\"DSS\",\"DFI\",\"PFI\")){\n",
    "    \n",
    "for (end.point in c(\"DSS\",\"DFI\",\"PFI\")){\n",
    "    \n",
    "    if (is.null(pcox.ref.fit.ls[[end.point]]) != T) {\n",
    "    \n",
    "        # Apply model to predict the risk scores \n",
    "        pred.train = predict(object = pcox.ref.fit.ls[[end.point]], \n",
    "               newdata = train_and_validation_ref_ls[[end.point]]$train[,clin.var, drop = F], \n",
    "               type = \"risk\")\n",
    "        \n",
    "        # Fitted relative risk\n",
    "        rel.risk <- pred.train \n",
    "\n",
    "        # Stratify validation data into two groups based on the fitted relative risk\n",
    "        y.data <- train_and_validation_ref_ls[[end.point]]$train[paste0(end.point, c(\".clin\",\".time.clin\"))]\n",
    "        colnames(y.data) = c(\"status\",\"time\")\n",
    "    \n",
    "    \n",
    "        # TEST new function for calculating the C-index\n",
    "        cindex.ref.train = concordance.index(rel.risk, \n",
    "                                         y.data$time, \n",
    "                                         y.data$status,\n",
    "                                         na.rm = TRUE)\n",
    "        \n",
    "        C.index.ref.train.ls[[end.point]] = data.frame(\"C-index\" = round(cindex.ref.train$c.index, 4),\n",
    "                                   \"C-index CI\" = paste0(\"(\", round(cindex.ref.train$lower, 4), \" - \",  \n",
    "                                                         round(cindex.ref.train$upper, 4), \")\"), check.names = F)\n",
    "    \n",
    "        # Plot KM and extract the p-value  \n",
    "        KM.train.ref.by.risk = plotKMbyRelativeRisk(data = y.data, \n",
    "                                                    rel.risk = rel.risk)\n",
    "        \n",
    "        \n",
    "        if (!is.null(KM.train.by.risk)) {\n",
    "        \n",
    "            # Store\n",
    "            KM.train.ref.by.risk.ls[[end.point]] =  KM.train.ref.by.risk$table\n",
    "    \n",
    "            # Store the KM plot\n",
    "            dir.create(file.path(dir.res.pcox, end.point))\n",
    "            pdf(file.path(dir.res.pcox, end.point ,\"glmnet_K-M_plot_with_training_data.pdf\"), \n",
    "                width = 15, height = 12, onefile = F)\n",
    "            print(KM.train.by.risk$Plot)\n",
    "            dev.off()\n",
    "    \n",
    "            # Heatmap preparation \n",
    "    \n",
    "            # Get all input variables\n",
    "            heatmap.input.train = model.matrices.ls[[end.point]]$x.train %>% dplyr::select(all_of(clin.var))\n",
    "            \n",
    "    \n",
    "            # Heatmap of training data predictions\n",
    "            hmap.train <- prepareHeatmap_clin(heatmap.input.train, \n",
    "                                         y.data, \n",
    "                                         pred.train, \n",
    "                                         file.path(dir.res.pcox, end.point), \n",
    "                                         \"glmnet_training\", \n",
    "                                         row.height = 8)\n",
    "            \n",
    "            \n",
    "            # Calculate AUCs \n",
    "            auc.vect = round(map_dbl(c(365, 3 * 365, 5 * 365), .f = calcAUC, \n",
    "                   time = y.data$time, status = y.data$status , risk.score = rel.risk),4)\n",
    "        \n",
    "            names(auc.vect) = c(\"AUC (1y)\", \"AUC (3y)\", \"AUC (5y)\")\n",
    "        \n",
    "            AUC.train.ref.ls[[end.point]] = as.data.frame(t(data.frame(auc.vect))) \n",
    "            \n",
    "        } else {\n",
    "            KM.train.by.risk.ls[[end.point]] = NULL\n",
    "            C.index.train.ls[[end.point]] = NULL\n",
    "            AUC.train.ls[[end.point]] = NULL\n",
    "            \n",
    "        }\n",
    "        \n",
    "    } else {\n",
    "            KM.train.by.risk.ls[[end.point]] = NULL\n",
    "            C.index.train.ls[[end.point]] = NULL\n",
    "            AUC.train.ls[[end.point]] = NULL\n",
    "            \n",
    "        }\n",
    "}"
   ]
  },
  {
   "cell_type": "markdown",
   "id": "immediate-percentage",
   "metadata": {},
   "source": [
    "### 6.3.2 Validation set"
   ]
  },
  {
   "cell_type": "code",
   "execution_count": 65,
   "id": "dominican-small",
   "metadata": {
    "execution": {
     "iopub.execute_input": "2023-01-26T11:17:58.198248Z",
     "iopub.status.busy": "2023-01-26T11:17:58.196929Z",
     "iopub.status.idle": "2023-01-26T11:17:58.211964Z",
     "shell.execute_reply": "2023-01-26T11:17:58.210505Z"
    }
   },
   "outputs": [],
   "source": [
    "# Store the result tables\n",
    "KM.valid.ref.by.risk.ls = list()\n",
    "C.index.ref.valid.ls = list()\n",
    "AUC.valid.ref.ls = list()"
   ]
  },
  {
   "cell_type": "code",
   "execution_count": 66,
   "id": "absolute-treat",
   "metadata": {
    "execution": {
     "iopub.execute_input": "2023-01-26T11:17:58.216245Z",
     "iopub.status.busy": "2023-01-26T11:17:58.214981Z",
     "iopub.status.idle": "2023-01-26T11:18:01.720741Z",
     "shell.execute_reply": "2023-01-26T11:18:01.718512Z"
    }
   },
   "outputs": [
    {
     "name": "stderr",
     "output_type": "stream",
     "text": [
      "Warning message in dir.create(file.path(dir.res.pcox, end.point)):\n",
      "“'/workstation/project_results/landstrom_core/prognostic_model_development/models_by_cancer_type//PRAD/Penalized_Cox_risk_prediction/customer_features/Only_clinical_features/DSS' already exists”\n"
     ]
    },
    {
     "name": "stdout",
     "output_type": "stream",
     "text": [
      "[1] 121   2\n",
      "\n",
      "Gleason group 1 Gleason group 2 \n",
      "             47              74 \n"
     ]
    },
    {
     "name": "stderr",
     "output_type": "stream",
     "text": [
      "Warning message in dir.create(file.path(dir.res.pcox, end.point)):\n",
      "“'/workstation/project_results/landstrom_core/prognostic_model_development/models_by_cancer_type//PRAD/Penalized_Cox_risk_prediction/customer_features/Only_clinical_features/DFI' already exists”\n"
     ]
    },
    {
     "name": "stdout",
     "output_type": "stream",
     "text": [
      "[1] 83  2\n",
      "\n",
      "Gleason group 1 Gleason group 2 \n",
      "             40              43 \n"
     ]
    },
    {
     "name": "stderr",
     "output_type": "stream",
     "text": [
      "Warning message in dir.create(file.path(dir.res.pcox, end.point)):\n",
      "“'/workstation/project_results/landstrom_core/prognostic_model_development/models_by_cancer_type//PRAD/Penalized_Cox_risk_prediction/customer_features/Only_clinical_features/PFI' already exists”\n"
     ]
    },
    {
     "name": "stdout",
     "output_type": "stream",
     "text": [
      "[1] 121   2\n",
      "\n",
      "Gleason group 1 Gleason group 2 \n",
      "             46              75 \n"
     ]
    }
   ],
   "source": [
    "# Iterate over end points \n",
    "#for (end.point in c(\"OS\",\"DSS\",\"DFI\",\"PFI\")){\n",
    "for (end.point in c(\"DSS\",\"DFI\",\"PFI\")){   \n",
    "    \n",
    "    if (is.null(pcox.ref.fit.ls[[end.point]]) != T) {\n",
    "    \n",
    "        \n",
    "        # Apply model to predict the risk scores \n",
    "        pred.valid = predict(object = pcox.ref.fit.ls[[end.point]], \n",
    "               newdata = train_and_validation_ref_ls[[end.point]]$validation[,clin.var, drop = F], \n",
    "               type = \"risk\")\n",
    "        \n",
    "        rel.risk = pred.valid \n",
    "    \n",
    "        # Stratify validation data into two groups based on the fitted relative risk\n",
    "        y.data <- train_and_validation_ref_ls[[end.point]]$validation[paste0(end.point, c(\".clin\",\".time.clin\"))]\n",
    "        colnames(y.data) = c(\"status\",\"time\")\n",
    "    \n",
    "    \n",
    "        # TEST new function for calculating the C-index\n",
    "        cindex.ref.valid = concordance.index(rel.risk, \n",
    "                                         y.data$time, \n",
    "                                         y.data$status,\n",
    "                                         na.rm = TRUE)\n",
    "        \n",
    "        C.index.ref.valid.ls[[end.point]] = data.frame(\"C-index\" = round(cindex.ref.valid$c.index, 4),\n",
    "                                                   \"C-index CI\" = paste0(\"(\", round(cindex.ref.valid$lower, 4), \" - \",  \n",
    "                                                         round(cindex.ref.valid$upper, 4), \")\"), check.names = F)\n",
    "    \n",
    "        # Plot KM and extract the p-value  \n",
    "        KM.valid.ref.by.risk = plotKMbyRelativeRisk(data = y.data, \n",
    "                                                rel.risk = rel.risk)\n",
    "    \n",
    "        KM.valid.ref.by.risk.ls[[end.point]] =  KM.valid.ref.by.risk$table\n",
    "    \n",
    "      \n",
    "        if (!is.null(KM.valid.by.risk)) {\n",
    "        \n",
    "            # Store\n",
    "            KM.valid.ref.by.risk.ls[[end.point]] =  KM.valid.ref.by.risk$table\n",
    "            \n",
    "            # Store the KM plot\n",
    "            dir.create(file.path(dir.res.pcox, end.point))\n",
    "            pdf(file.path(dir.res.pcox, end.point ,\"glmnet_K-M_plot_with_validation_data.pdf\"), \n",
    "                width = 15, height = 12, onefile = F)\n",
    "            print(KM.valid.ref.by.risk$Plot)\n",
    "            dev.off()\n",
    "            \n",
    "            \n",
    "            # Heatmap preparation \n",
    "    \n",
    "            # Get all input variables\n",
    "            heatmap.input.valid = model.matrices.ls[[end.point]]$x.valid %>% dplyr::select(all_of(clin.var))\n",
    "            \n",
    "            print(dim(heatmap.input.valid))\n",
    "            print(table(heatmap.input.valid$Gleason.group))\n",
    "    \n",
    "            # Heatmap of training data predictions\n",
    "            hmap.train <- prepareHeatmap_clin(heatmap.input.valid, \n",
    "                                         y.data, \n",
    "                                         pred.valid, \n",
    "                                         file.path(dir.res.pcox, end.point), \n",
    "                                         \"glmnet_validation\", \n",
    "                                         row.height = 8)\n",
    "                  \n",
    "            # Calculate AUCs \n",
    "            auc.vect = round(map_dbl(c(365, 3 * 365, 5 * 365), .f = calcAUC, \n",
    "                   time = y.data$time, status = y.data$status , risk.score = rel.risk),4)\n",
    "        \n",
    "            names(auc.vect) = c(\"AUC (1y)\", \"AUC (3y)\", \"AUC (5y)\")\n",
    "        \n",
    "            AUC.valid.ref.ls[[end.point]] = as.data.frame(t(data.frame(auc.vect))) \n",
    "            \n",
    "        } else {\n",
    "            KM.valid.by.risk.ls[[end.point]] = NULL\n",
    "            C.index.valid.ls[[end.point]] = NULL\n",
    "            AUC.valid.ls[[end.point]] = NULL\n",
    "        }\n",
    "        \n",
    "    } else {\n",
    "        KM.valid.by.risk.ls[[end.point]] = NULL\n",
    "        C.index.valid.ls[[end.point]] = NULL\n",
    "        AUC.valid.ls[[end.point]] = NULL   \n",
    "    }\n",
    "}\n",
    "        \n"
   ]
  },
  {
   "cell_type": "code",
   "execution_count": 67,
   "id": "presidential-course",
   "metadata": {
    "execution": {
     "iopub.execute_input": "2023-01-26T11:18:01.726286Z",
     "iopub.status.busy": "2023-01-26T11:18:01.724503Z",
     "iopub.status.idle": "2023-01-26T11:18:01.748247Z",
     "shell.execute_reply": "2023-01-26T11:18:01.746703Z"
    }
   },
   "outputs": [],
   "source": [
    "# Collect the results into a single data frame\n",
    "\n",
    "# Log-rank test results \n",
    "KM.train.ref.by.risk.df = bind_rows(KM.train.ref.by.risk.ls, .id = \"End point\")\n",
    "KM.valid.ref.by.risk.df = bind_rows(KM.valid.ref.by.risk.ls, .id = \"End point\")\n",
    "\n",
    "# C-indices\n",
    "C.index.ref.train.df = bind_rows(C.index.ref.train.ls , .id = \"End point\")\n",
    "C.index.ref.valid.df = bind_rows(C.index.ref.valid.ls , .id = \"End point\")\n",
    "\n",
    "# AUCs \n",
    "auc.train.ref.df = bind_rows(AUC.train.ref.ls, .id  = \"End point\") \n",
    "auc.valid.ref.df = bind_rows(AUC.valid.ref.ls, .id  = \"End point\")"
   ]
  },
  {
   "cell_type": "code",
   "execution_count": 68,
   "id": "approximate-absorption",
   "metadata": {
    "execution": {
     "iopub.execute_input": "2023-01-26T11:18:01.752715Z",
     "iopub.status.busy": "2023-01-26T11:18:01.751372Z",
     "iopub.status.idle": "2023-01-26T11:18:01.775540Z",
     "shell.execute_reply": "2023-01-26T11:18:01.773673Z"
    }
   },
   "outputs": [],
   "source": [
    "# Store final resilts\n",
    "write.csv(KM.train.ref.by.risk.df, file.path(dir.res.pcox, \"Final_evaluation_results_training.csv\"), row.names = F)\n",
    "write.csv(KM.valid.ref.by.risk.df, file.path(dir.res.pcox, \"Final_evaluation_results_validation.csv\"),row.names = F)\n",
    "\n",
    "write.csv(C.index.ref.train.df, file.path(dir.res.pcox, \"Final_evaluation_C_index_training.csv\"), row.names = F)\n",
    "write.csv(C.index.ref.valid.df, file.path(dir.res.pcox, \"Final_evaluation_C_index_validation.csv\"), row.names = F)\n",
    "\n",
    "write.csv(auc.train.ref.df, file.path(dir.res.pcox, \"Final_evaluation_AUC_training.csv\"), row.names = F)\n",
    "write.csv(auc.valid.ref.df, file.path(dir.res.pcox, \"Final_evaluation_AUC_validation.csv\"), row.names = F)"
   ]
  },
  {
   "cell_type": "code",
   "execution_count": 69,
   "id": "unnecessary-timothy",
   "metadata": {
    "execution": {
     "iopub.execute_input": "2023-01-26T11:18:01.780471Z",
     "iopub.status.busy": "2023-01-26T11:18:01.778741Z",
     "iopub.status.idle": "2023-01-26T11:18:01.795739Z",
     "shell.execute_reply": "2023-01-26T11:18:01.794356Z"
    }
   },
   "outputs": [
    {
     "data": {
      "text/html": [
       "<table class=\"dataframe\">\n",
       "<caption>A data.frame: 3 × 3</caption>\n",
       "<thead>\n",
       "\t<tr><th scope=col>End point</th><th scope=col>C-index</th><th scope=col>C-index CI</th></tr>\n",
       "\t<tr><th scope=col>&lt;chr&gt;</th><th scope=col>&lt;dbl&gt;</th><th scope=col>&lt;chr&gt;</th></tr>\n",
       "</thead>\n",
       "<tbody>\n",
       "\t<tr><td>DSS</td><td>0.8571</td><td>(0.0519 - 0.9985)</td></tr>\n",
       "\t<tr><td>DFI</td><td>0.6209</td><td>(0.2863 - 0.8699)</td></tr>\n",
       "\t<tr><td>PFI</td><td>0.6253</td><td>(0.3855 - 0.8161)</td></tr>\n",
       "</tbody>\n",
       "</table>\n"
      ],
      "text/latex": [
       "A data.frame: 3 × 3\n",
       "\\begin{tabular}{lll}\n",
       " End point & C-index & C-index CI\\\\\n",
       " <chr> & <dbl> & <chr>\\\\\n",
       "\\hline\n",
       "\t DSS & 0.8571 & (0.0519 - 0.9985)\\\\\n",
       "\t DFI & 0.6209 & (0.2863 - 0.8699)\\\\\n",
       "\t PFI & 0.6253 & (0.3855 - 0.8161)\\\\\n",
       "\\end{tabular}\n"
      ],
      "text/markdown": [
       "\n",
       "A data.frame: 3 × 3\n",
       "\n",
       "| End point &lt;chr&gt; | C-index &lt;dbl&gt; | C-index CI &lt;chr&gt; |\n",
       "|---|---|---|\n",
       "| DSS | 0.8571 | (0.0519 - 0.9985) |\n",
       "| DFI | 0.6209 | (0.2863 - 0.8699) |\n",
       "| PFI | 0.6253 | (0.3855 - 0.8161) |\n",
       "\n"
      ],
      "text/plain": [
       "  End point C-index C-index CI       \n",
       "1 DSS       0.8571  (0.0519 - 0.9985)\n",
       "2 DFI       0.6209  (0.2863 - 0.8699)\n",
       "3 PFI       0.6253  (0.3855 - 0.8161)"
      ]
     },
     "metadata": {},
     "output_type": "display_data"
    }
   ],
   "source": [
    "C.index.ref.valid.df"
   ]
  },
  {
   "cell_type": "markdown",
   "id": "loving-remedy",
   "metadata": {},
   "source": [
    "# 7. Collect the relevant results and statistics"
   ]
  },
  {
   "cell_type": "markdown",
   "id": "accessory-salem",
   "metadata": {},
   "source": [
    "What statistics and results we want to collect :\n",
    "\n",
    "1. Number of samples in training and validation set (Feature selection step 1) = ntrain.step1, nvalid.step1\n",
    "2. Clinical end point statistics (Indicate final selected end point) = clinical.end.point.stats\n",
    "3. Summary statistics for features (Indicate selected features for first feature selection) = exp.summary.training, cn.summary.training\n",
    "4. Results after first feature selection step 1 = km.pvalue.table\n",
    "5. Number of samples in training and validation set without clinical features (Feature selection step 2) = ntrain_step2.no.clin, nvalid.step2.no.clin\n",
    "6. Results after second feature selection step without clinical features = rcox.res.no.clin\n",
    "7. Final evaluation results with KM without clinical features = KM.by.risk.no.clin \n",
    "8. Number of samples in training and validation set without clinical features (Feature selection step 2) = ntrain_step2.with.clin, nvalid.step2.with.clin\n",
    "9. Results after second feature selection step without clinical features = rcox.res.with.clin\n",
    "10. Final evaluation results with KM with clinical features = KM.by.risk.with.clin "
   ]
  },
  {
   "cell_type": "code",
   "execution_count": 70,
   "id": "vocational-startup",
   "metadata": {
    "execution": {
     "iopub.execute_input": "2023-01-26T11:18:01.800121Z",
     "iopub.status.busy": "2023-01-26T11:18:01.798893Z",
     "iopub.status.idle": "2023-01-26T11:18:01.809627Z",
     "shell.execute_reply": "2023-01-26T11:18:01.808226Z"
    }
   },
   "outputs": [],
   "source": [
    "# Collect into a list \n",
    "final.result.collection = list(\"FSS1_sample_summary\" = nsamples_step1_ls,\n",
    "                               \"Clinical_endpoint_stats\" = clinical.end.point.stats,\n",
    "                               \"Feature_summary_stats\" = summary.stats.ls,\n",
    "                               \"FSS1_results_summary\" = km.pvalue.table.ls,\n",
    "                               \"FSS2_sample_summary_no_clin\" = nsamples_step2_ls_no_clin,\n",
    "                               \"FSS2_regcox_res_no_clin\" = rcox.res.no.clin.ls,\n",
    "                               \"Final_res_KM_no_clin_train\" = KM.by.risk.no.clin.train,\n",
    "                               \"Final_res_KM_no_clin_valid\" = KM.by.risk.no.clin.valid,\n",
    "                               \"FSS2_sample_summary_with_clin\" = nsamples_step2_ls_with_clin,\n",
    "                               \"FSS2_regcox_res_with_clin\" = rcox.res.with.clin.ls,\n",
    "                               \"Final_res_KM_with_clin_train\" = KM.by.risk.with.clin.train,\n",
    "                               \"Final_res_KM_with_clin_valid\" = KM.by.risk.with.clin.valid,\n",
    "                               \"FSS2_sample_summary_only_clin\" = nsamples.step2,\n",
    "                               \"Final_res_KM_only_clin_train\" = KM.train.ref.by.risk.df,\n",
    "                               \"Final_res_KM_only_clin_valid\" = KM.valid.ref.by.risk.df)"
   ]
  },
  {
   "cell_type": "code",
   "execution_count": 71,
   "id": "indie-illness",
   "metadata": {
    "execution": {
     "iopub.execute_input": "2023-01-26T11:18:01.813668Z",
     "iopub.status.busy": "2023-01-26T11:18:01.812455Z",
     "iopub.status.idle": "2023-01-26T11:18:01.823311Z",
     "shell.execute_reply": "2023-01-26T11:18:01.821925Z"
    }
   },
   "outputs": [],
   "source": [
    "saveRDS(final.result.collection, file.path(dir.res.root, \"Final_results_collection.rds\"))"
   ]
  },
  {
   "cell_type": "markdown",
   "id": "daily-trade",
   "metadata": {},
   "source": [
    "# Session info"
   ]
  },
  {
   "cell_type": "code",
   "execution_count": 72,
   "id": "unlike-boating",
   "metadata": {
    "execution": {
     "iopub.execute_input": "2023-01-26T11:18:01.827439Z",
     "iopub.status.busy": "2023-01-26T11:18:01.826223Z",
     "iopub.status.idle": "2023-01-26T11:18:01.884519Z",
     "shell.execute_reply": "2023-01-26T11:18:01.883109Z"
    }
   },
   "outputs": [
    {
     "data": {
      "text/plain": [
       "R version 4.1.3 (2022-03-10)\n",
       "Platform: x86_64-redhat-linux-gnu (64-bit)\n",
       "Running under: AlmaLinux 8.5 (Arctic Sphynx)\n",
       "\n",
       "Matrix products: default\n",
       "BLAS/LAPACK: /usr/lib64/libopenblas-r0.3.12.so\n",
       "\n",
       "locale:\n",
       " [1] LC_CTYPE=C.UTF-8           LC_NUMERIC=C              \n",
       " [3] LC_TIME=en_GB.UTF-8        LC_COLLATE=en_GB.UTF-8    \n",
       " [5] LC_MONETARY=en_GB.UTF-8    LC_MESSAGES=en_GB.UTF-8   \n",
       " [7] LC_PAPER=en_GB.UTF-8       LC_NAME=C                 \n",
       " [9] LC_ADDRESS=C               LC_TELEPHONE=C            \n",
       "[11] LC_MEASUREMENT=en_GB.UTF-8 LC_IDENTIFICATION=C       \n",
       "\n",
       "attached base packages:\n",
       " [1] stats4    parallel  grid      stats     graphics  grDevices utils    \n",
       " [8] datasets  methods   base     \n",
       "\n",
       "other attached packages:\n",
       " [1] DESeq2_1.34.0               SummarizedExperiment_1.24.0\n",
       " [3] Biobase_2.54.0              MatrixGenerics_1.6.0       \n",
       " [5] matrixStats_0.62.0          GenomicRanges_1.46.1       \n",
       " [7] GenomeInfoDb_1.30.1         IRanges_2.28.0             \n",
       " [9] S4Vectors_0.32.4            BiocGenerics_0.40.0        \n",
       "[11] biomaRt_2.50.3              survivalROC_1.0.3          \n",
       "[13] survcomp_1.44.1             prodlim_2019.11.13         \n",
       "[15] broom_0.8.0                 ComplexHeatmap_2.10.0      \n",
       "[17] circlize_0.4.14             ggfortify_0.4.14           \n",
       "[19] WriteXLS_6.4.0              glmnet_4.1-4               \n",
       "[21] Matrix_1.5-3                survminer_0.4.9            \n",
       "[23] ggpubr_0.4.0                survival_3.3-1             \n",
       "[25] forcats_0.5.1               stringr_1.4.0              \n",
       "[27] dplyr_1.0.9                 purrr_0.3.4                \n",
       "[29] readr_2.1.2                 tidyr_1.2.0                \n",
       "[31] tibble_3.1.7                tidyverse_1.3.1            \n",
       "[33] ggplot2_3.3.5              \n",
       "\n",
       "loaded via a namespace (and not attached):\n",
       "  [1] readxl_1.4.0           uuid_1.1-0             backports_1.4.1       \n",
       "  [4] BiocFileCache_2.2.1    repr_1.1.4             splines_4.1.3         \n",
       "  [7] BiocParallel_1.28.3    listenv_0.8.0          digest_0.6.29         \n",
       " [10] SuppDists_1.1-9.7      foreach_1.5.2          htmltools_0.5.2       \n",
       " [13] magick_2.7.3           fansi_1.0.3            magrittr_2.0.3        \n",
       " [16] memoise_2.0.1          cluster_2.1.3          doParallel_1.0.17     \n",
       " [19] tzdb_0.3.0             annotate_1.72.0        globals_0.15.0        \n",
       " [22] Biostrings_2.62.0      modelr_0.1.8           prettyunits_1.1.1     \n",
       " [25] colorspace_2.0-3       rappdirs_0.3.3         blob_1.2.3            \n",
       " [28] rvest_1.0.2            haven_2.5.0            xfun_0.30             \n",
       " [31] crayon_1.5.1           RCurl_1.98-1.6         jsonlite_1.8.0        \n",
       " [34] genefilter_1.76.0      zoo_1.8-10             iterators_1.0.14      \n",
       " [37] glue_1.6.2             gtable_0.3.0           zlibbioc_1.40.0       \n",
       " [40] XVector_0.34.0         DelayedArray_0.20.0    GetoptLong_1.0.5      \n",
       " [43] car_3.0-12             future.apply_1.9.0     shape_1.4.6           \n",
       " [46] abind_1.4-5            scales_1.2.0           DBI_1.1.2             \n",
       " [49] rstatix_0.7.0          Rcpp_1.0.8.3           gridtext_0.1.4        \n",
       " [52] progress_1.2.2         xtable_1.8-4           clue_0.3-60           \n",
       " [55] bit_4.0.4              km.ci_0.5-6            lava_1.6.10           \n",
       " [58] httr_1.4.3             RColorBrewer_1.1-3     ellipsis_0.3.2        \n",
       " [61] farver_2.1.0           pkgconfig_2.0.3        XML_3.99-0.9          \n",
       " [64] dbplyr_2.1.1           locfit_1.5-9.5         utf8_1.2.2            \n",
       " [67] labeling_0.4.2         tidyselect_1.1.2       rlang_1.0.2           \n",
       " [70] AnnotationDbi_1.56.2   munsell_0.5.0          cellranger_1.1.0      \n",
       " [73] tools_4.1.3            cachem_1.0.6           cli_3.3.0             \n",
       " [76] generics_0.1.2         RSQLite_2.2.12         evaluate_0.15         \n",
       " [79] fastmap_1.1.0          bootstrap_2019.6       knitr_1.39            \n",
       " [82] bit64_4.0.5            fs_1.5.2               survMisc_0.5.6        \n",
       " [85] KEGGREST_1.34.0        future_1.26.1          xml2_1.3.3            \n",
       " [88] compiler_4.1.3         rstudioapi_0.13        filelock_1.0.2        \n",
       " [91] curl_4.3.2             png_0.1-7              ggsignif_0.6.3        \n",
       " [94] reprex_2.0.1           geneplotter_1.72.0     stringi_1.7.6         \n",
       " [97] lattice_0.20-45        IRdisplay_1.1          markdown_1.1          \n",
       "[100] KMsurv_0.1-5           vctrs_0.4.1            pillar_1.7.0          \n",
       "[103] lifecycle_1.0.1        GlobalOptions_0.1.2    data.table_1.14.2     \n",
       "[106] bitops_1.0-7           R6_2.5.1               KernSmooth_2.23-20    \n",
       "[109] gridExtra_2.3          parallelly_1.32.0      codetools_0.2-18      \n",
       "[112] assertthat_0.2.1       rjson_0.2.21           withr_2.5.0           \n",
       "[115] GenomeInfoDbData_1.2.7 ggtext_0.1.1           hms_1.1.1             \n",
       "[118] IRkernel_1.3           carData_3.0-5          Cairo_1.6-0           \n",
       "[121] pbdZMQ_0.3-7           getPass_0.2-2          lubridate_1.8.0       \n",
       "[124] base64enc_0.1-3        rmeta_3.0             "
      ]
     },
     "metadata": {},
     "output_type": "display_data"
    }
   ],
   "source": [
    "sessionInfo()"
   ]
  }
 ],
 "metadata": {
  "jupytext": {
   "cell_metadata_filter": "-all",
   "main_language": "R",
   "notebook_metadata_filter": "-all"
  },
  "kernelspec": {
   "display_name": "R 4.1.3",
   "language": "R",
   "name": "r4.1.3"
  },
  "language_info": {
   "codemirror_mode": "r",
   "file_extension": ".r",
   "mimetype": "text/x-r-source",
   "name": "R",
   "pygments_lexer": "r",
   "version": "4.1.3"
  }
 },
 "nbformat": 4,
 "nbformat_minor": 5
}
