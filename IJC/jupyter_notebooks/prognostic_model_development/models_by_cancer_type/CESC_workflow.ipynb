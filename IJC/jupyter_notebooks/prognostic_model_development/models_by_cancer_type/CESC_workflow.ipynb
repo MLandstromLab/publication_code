{
 "cells": [
  {
   "cell_type": "markdown",
   "id": "abroad-ideal",
   "metadata": {},
   "source": [
    "# CESC : Cox-regression with elastic net regularization\n",
    "\n",
    "# Introduction\n",
    "\n",
    "The purpose of this workflow is to introduce the KM based feature selection followed by regularised cox regression analysis using ENET. \n",
    "\n",
    "# Preparing workspace"
   ]
  },
  {
   "cell_type": "code",
   "execution_count": 1,
   "id": "functional-robin",
   "metadata": {
    "execution": {
     "iopub.execute_input": "2023-01-26T09:46:24.482045Z",
     "iopub.status.busy": "2023-01-26T09:46:24.480228Z",
     "iopub.status.idle": "2023-01-26T09:46:34.364843Z",
     "shell.execute_reply": "2023-01-26T09:46:34.363202Z"
    }
   },
   "outputs": [
    {
     "name": "stderr",
     "output_type": "stream",
     "text": [
      "── \u001b[1mAttaching packages\u001b[22m ─────────────────────────────────────────────────────────────────────────────────────────────────────────────────────────────────────────────────────────────────────────────────────────────────── tidyverse 1.3.1 ──\n",
      "\n",
      "\u001b[32m✔\u001b[39m \u001b[34mtibble \u001b[39m 3.1.7     \u001b[32m✔\u001b[39m \u001b[34mdplyr  \u001b[39m 1.0.9\n",
      "\u001b[32m✔\u001b[39m \u001b[34mtidyr  \u001b[39m 1.2.0     \u001b[32m✔\u001b[39m \u001b[34mstringr\u001b[39m 1.4.0\n",
      "\u001b[32m✔\u001b[39m \u001b[34mreadr  \u001b[39m 2.1.2     \u001b[32m✔\u001b[39m \u001b[34mforcats\u001b[39m 0.5.1\n",
      "\u001b[32m✔\u001b[39m \u001b[34mpurrr  \u001b[39m 0.3.4     \n",
      "\n",
      "── \u001b[1mConflicts\u001b[22m ────────────────────────────────────────────────────────────────────────────────────────────────────────────────────────────────────────────────────────────────────────────────────────────────────── tidyverse_conflicts() ──\n",
      "\u001b[31m✖\u001b[39m \u001b[34mdplyr\u001b[39m::\u001b[32mfilter()\u001b[39m masks \u001b[34mstats\u001b[39m::filter()\n",
      "\u001b[31m✖\u001b[39m \u001b[34mdplyr\u001b[39m::\u001b[32mlag()\u001b[39m    masks \u001b[34mstats\u001b[39m::lag()\n",
      "\n",
      "Loading required package: ggpubr\n",
      "\n",
      "\n",
      "Attaching package: ‘survminer’\n",
      "\n",
      "\n",
      "The following object is masked from ‘package:survival’:\n",
      "\n",
      "    myeloma\n",
      "\n",
      "\n",
      "Loading required package: Matrix\n",
      "\n",
      "\n",
      "Attaching package: ‘Matrix’\n",
      "\n",
      "\n",
      "The following objects are masked from ‘package:tidyr’:\n",
      "\n",
      "    expand, pack, unpack\n",
      "\n",
      "\n",
      "Loaded glmnet 4.1-4\n",
      "\n",
      "========================================\n",
      "circlize version 0.4.14\n",
      "CRAN page: https://cran.r-project.org/package=circlize\n",
      "Github page: https://github.com/jokergoo/circlize\n",
      "Documentation: https://jokergoo.github.io/circlize_book/book/\n",
      "\n",
      "If you use it in published research, please cite:\n",
      "Gu, Z. circlize implements and enhances circular visualization\n",
      "  in R. Bioinformatics 2014.\n",
      "\n",
      "This message can be suppressed by:\n",
      "  suppressPackageStartupMessages(library(circlize))\n",
      "========================================\n",
      "\n",
      "\n",
      "Loading required package: grid\n",
      "\n",
      "========================================\n",
      "ComplexHeatmap version 2.10.0\n",
      "Bioconductor page: http://bioconductor.org/packages/ComplexHeatmap/\n",
      "Github page: https://github.com/jokergoo/ComplexHeatmap\n",
      "Documentation: http://jokergoo.github.io/ComplexHeatmap-reference\n",
      "\n",
      "If you use it in published research, please cite:\n",
      "Gu, Z. Complex heatmaps reveal patterns and correlations in multidimensional \n",
      "  genomic data. Bioinformatics 2016.\n",
      "\n",
      "The new InteractiveComplexHeatmap package can directly export static \n",
      "complex heatmaps into an interactive Shiny app with zero effort. Have a try!\n",
      "\n",
      "This message can be suppressed by:\n",
      "  suppressPackageStartupMessages(library(ComplexHeatmap))\n",
      "========================================\n",
      "\n",
      "\n",
      "Loading required package: prodlim\n",
      "\n",
      "Loading required package: S4Vectors\n",
      "\n",
      "Loading required package: stats4\n",
      "\n",
      "Loading required package: BiocGenerics\n",
      "\n",
      "\n",
      "Attaching package: ‘BiocGenerics’\n",
      "\n",
      "\n",
      "The following objects are masked from ‘package:dplyr’:\n",
      "\n",
      "    combine, intersect, setdiff, union\n",
      "\n",
      "\n",
      "The following objects are masked from ‘package:stats’:\n",
      "\n",
      "    IQR, mad, sd, var, xtabs\n",
      "\n",
      "\n",
      "The following objects are masked from ‘package:base’:\n",
      "\n",
      "    anyDuplicated, append, as.data.frame, basename, cbind, colnames,\n",
      "    dirname, do.call, duplicated, eval, evalq, Filter, Find, get, grep,\n",
      "    grepl, intersect, is.unsorted, lapply, Map, mapply, match, mget,\n",
      "    order, paste, pmax, pmax.int, pmin, pmin.int, Position, rank,\n",
      "    rbind, Reduce, rownames, sapply, setdiff, sort, table, tapply,\n",
      "    union, unique, unsplit, which.max, which.min\n",
      "\n",
      "\n",
      "\n",
      "Attaching package: ‘S4Vectors’\n",
      "\n",
      "\n",
      "The following objects are masked from ‘package:Matrix’:\n",
      "\n",
      "    expand, unname\n",
      "\n",
      "\n",
      "The following objects are masked from ‘package:dplyr’:\n",
      "\n",
      "    first, rename\n",
      "\n",
      "\n",
      "The following object is masked from ‘package:tidyr’:\n",
      "\n",
      "    expand\n",
      "\n",
      "\n",
      "The following objects are masked from ‘package:base’:\n",
      "\n",
      "    expand.grid, I, unname\n",
      "\n",
      "\n",
      "Loading required package: IRanges\n",
      "\n",
      "\n",
      "Attaching package: ‘IRanges’\n",
      "\n",
      "\n",
      "The following objects are masked from ‘package:dplyr’:\n",
      "\n",
      "    collapse, desc, slice\n",
      "\n",
      "\n",
      "The following object is masked from ‘package:purrr’:\n",
      "\n",
      "    reduce\n",
      "\n",
      "\n",
      "Loading required package: GenomicRanges\n",
      "\n",
      "Loading required package: GenomeInfoDb\n",
      "\n",
      "Loading required package: SummarizedExperiment\n",
      "\n",
      "Loading required package: MatrixGenerics\n",
      "\n",
      "Loading required package: matrixStats\n",
      "\n",
      "\n",
      "Attaching package: ‘matrixStats’\n",
      "\n",
      "\n",
      "The following object is masked from ‘package:dplyr’:\n",
      "\n",
      "    count\n",
      "\n",
      "\n",
      "\n",
      "Attaching package: ‘MatrixGenerics’\n",
      "\n",
      "\n",
      "The following objects are masked from ‘package:matrixStats’:\n",
      "\n",
      "    colAlls, colAnyNAs, colAnys, colAvgsPerRowSet, colCollapse,\n",
      "    colCounts, colCummaxs, colCummins, colCumprods, colCumsums,\n",
      "    colDiffs, colIQRDiffs, colIQRs, colLogSumExps, colMadDiffs,\n",
      "    colMads, colMaxs, colMeans2, colMedians, colMins, colOrderStats,\n",
      "    colProds, colQuantiles, colRanges, colRanks, colSdDiffs, colSds,\n",
      "    colSums2, colTabulates, colVarDiffs, colVars, colWeightedMads,\n",
      "    colWeightedMeans, colWeightedMedians, colWeightedSds,\n",
      "    colWeightedVars, rowAlls, rowAnyNAs, rowAnys, rowAvgsPerColSet,\n",
      "    rowCollapse, rowCounts, rowCummaxs, rowCummins, rowCumprods,\n",
      "    rowCumsums, rowDiffs, rowIQRDiffs, rowIQRs, rowLogSumExps,\n",
      "    rowMadDiffs, rowMads, rowMaxs, rowMeans2, rowMedians, rowMins,\n",
      "    rowOrderStats, rowProds, rowQuantiles, rowRanges, rowRanks,\n",
      "    rowSdDiffs, rowSds, rowSums2, rowTabulates, rowVarDiffs, rowVars,\n",
      "    rowWeightedMads, rowWeightedMeans, rowWeightedMedians,\n",
      "    rowWeightedSds, rowWeightedVars\n",
      "\n",
      "\n",
      "Loading required package: Biobase\n",
      "\n",
      "Welcome to Bioconductor\n",
      "\n",
      "    Vignettes contain introductory material; view with\n",
      "    'browseVignettes()'. To cite Bioconductor, see\n",
      "    'citation(\"Biobase\")', and for packages 'citation(\"pkgname\")'.\n",
      "\n",
      "\n",
      "\n",
      "Attaching package: ‘Biobase’\n",
      "\n",
      "\n",
      "The following object is masked from ‘package:MatrixGenerics’:\n",
      "\n",
      "    rowMedians\n",
      "\n",
      "\n",
      "The following objects are masked from ‘package:matrixStats’:\n",
      "\n",
      "    anyMissing, rowMedians\n",
      "\n",
      "\n"
     ]
    }
   ],
   "source": [
    "setwd(\"/home/data/project_code/landstrom_core/prognostic_model_development/r/notebooks\")\n",
    "\n",
    "library(ggplot2)\n",
    "library(tidyverse)\n",
    "library(survival)\n",
    "library(survminer)\n",
    "library(glmnet)\n",
    "library(WriteXLS)\n",
    "library(ggfortify)\n",
    "library(circlize)\n",
    "library(ComplexHeatmap)\n",
    "library(parallel)\n",
    "library(broom)\n",
    "library(survcomp)\n",
    "library(survivalROC)\n",
    "source(\"../getTCGAData.R\")\n",
    "source(\"../preprocessTCGAData.R\")\n",
    "source(\"../KM_analysis.R\")\n",
    "source(\"../Heatmaps.R\")\n",
    "source(\"../enet.R\")"
   ]
  },
  {
   "cell_type": "markdown",
   "id": "israeli-truck",
   "metadata": {},
   "source": [
    "# Setting up paths and clinical variables"
   ]
  },
  {
   "cell_type": "code",
   "execution_count": 2,
   "id": "comprehensive-trace",
   "metadata": {
    "execution": {
     "iopub.execute_input": "2023-01-26T09:46:34.394521Z",
     "iopub.status.busy": "2023-01-26T09:46:34.368164Z",
     "iopub.status.idle": "2023-01-26T09:46:34.404060Z",
     "shell.execute_reply": "2023-01-26T09:46:34.402726Z"
    }
   },
   "outputs": [],
   "source": [
    "# Define the cancer type \n",
    "cancer.type = \"CESC\""
   ]
  },
  {
   "cell_type": "code",
   "execution_count": 3,
   "id": "possible-walker",
   "metadata": {
    "execution": {
     "iopub.execute_input": "2023-01-26T09:46:34.408058Z",
     "iopub.status.busy": "2023-01-26T09:46:34.406907Z",
     "iopub.status.idle": "2023-01-26T09:46:34.424936Z",
     "shell.execute_reply": "2023-01-26T09:46:34.423598Z"
    }
   },
   "outputs": [],
   "source": [
    "# Read in the table including the clinical features for each cancer type\n",
    "clin.feat.tb = read.table(\"/workstation/project_data/landstrom_core/clin_features_final.csv\", sep = \"\\t\", header = T)\n",
    "\n",
    "# Get Clinical variables\n",
    "clin.var = unlist(strsplit(clin.feat.tb$Features[clin.feat.tb$Ctype == cancer.type], split = \",\"))\n",
    "\n",
    "# Ensembl id mapping file \n",
    "ens.id.mapping = \"/home/organisms/Human/hg38/Homo_sapiens.GRCh38_March2022/ENSEMBLE_to_SYMBOL.csv\"\n",
    "\n",
    "# Output dir \n",
    "out.dir.data = file.path(\"/workstation/project_data/landstrom_core/rdata/manuscript_work/\", cancer.type)\n",
    "dir.create(out.dir.data, recursive = T)"
   ]
  },
  {
   "cell_type": "code",
   "execution_count": 4,
   "id": "agricultural-texture",
   "metadata": {
    "execution": {
     "iopub.execute_input": "2023-01-26T09:46:34.428786Z",
     "iopub.status.busy": "2023-01-26T09:46:34.427630Z",
     "iopub.status.idle": "2023-01-26T09:46:34.441188Z",
     "shell.execute_reply": "2023-01-26T09:46:34.439882Z"
    }
   },
   "outputs": [
    {
     "data": {
      "text/html": [
       "'Age'"
      ],
      "text/latex": [
       "'Age'"
      ],
      "text/markdown": [
       "'Age'"
      ],
      "text/plain": [
       "[1] \"Age\""
      ]
     },
     "metadata": {},
     "output_type": "display_data"
    }
   ],
   "source": [
    "clin.var"
   ]
  },
  {
   "cell_type": "markdown",
   "id": "amended-timeline",
   "metadata": {},
   "source": [
    "# 1. Read in data \n",
    "\n",
    "Read in data using dedicated functions. Only parameter is the cancer code (Abbreviation) which can be \n",
    "found [here](https://gdc.cancer.gov/resources-tcga-users/tcga-code-tables/tcga-study-abbreviations)"
   ]
  },
  {
   "cell_type": "markdown",
   "id": "private-vietnam",
   "metadata": {},
   "source": [
    "Read in copy-number data "
   ]
  },
  {
   "cell_type": "code",
   "execution_count": 5,
   "id": "hired-expansion",
   "metadata": {
    "execution": {
     "iopub.execute_input": "2023-01-26T09:46:34.445257Z",
     "iopub.status.busy": "2023-01-26T09:46:34.444111Z",
     "iopub.status.idle": "2023-01-26T09:46:39.487631Z",
     "shell.execute_reply": "2023-01-26T09:46:39.486101Z"
    }
   },
   "outputs": [],
   "source": [
    "tcga.cn = getTCGACopyNumberData(cancer.type)"
   ]
  },
  {
   "cell_type": "markdown",
   "id": "gentle-energy",
   "metadata": {},
   "source": [
    "Read in gene expression data   "
   ]
  },
  {
   "cell_type": "code",
   "execution_count": 6,
   "id": "vital-hearts",
   "metadata": {
    "execution": {
     "iopub.execute_input": "2023-01-26T09:46:39.492079Z",
     "iopub.status.busy": "2023-01-26T09:46:39.490908Z",
     "iopub.status.idle": "2023-01-26T09:46:52.106425Z",
     "shell.execute_reply": "2023-01-26T09:46:52.104833Z"
    }
   },
   "outputs": [],
   "source": [
    "tcga.expr = getTCGAExpressionData(cancer.type, annotation.file = ens.id.mapping)"
   ]
  },
  {
   "cell_type": "markdown",
   "id": "liable-stage",
   "metadata": {},
   "source": [
    "Read in clinical data "
   ]
  },
  {
   "cell_type": "code",
   "execution_count": 7,
   "id": "backed-mention",
   "metadata": {
    "execution": {
     "iopub.execute_input": "2023-01-26T09:46:52.110881Z",
     "iopub.status.busy": "2023-01-26T09:46:52.109700Z",
     "iopub.status.idle": "2023-01-26T09:46:52.335841Z",
     "shell.execute_reply": "2023-01-26T09:46:52.334327Z"
    }
   },
   "outputs": [],
   "source": [
    "# Get cancer specific clinical data \n",
    "tcga.clin = getClinData(cancer.type)\n",
    "\n",
    "# Get the end point related clinical data \n",
    "tcga.endpoints = getClinEndpointData(cancer.type) %>% dplyr::select(bcr_patient_barcode, OS, OS.time, DSS, DSS.time, DFI, DFI.time, PFI, PFI.time)\n",
    "\n",
    "# Merge end point data to clinical data \n",
    "tcga.clin = dplyr::left_join(tcga.clin, tcga.endpoints, by = \"bcr_patient_barcode\")\n",
    "\n",
    "write.csv(tcga.clin, file.path(out.dir.data, \"clinical_data.csv\"))"
   ]
  },
  {
   "cell_type": "markdown",
   "id": "innocent-ladder",
   "metadata": {},
   "source": [
    "# 2. Preprocessing of the data\n",
    "\n",
    "## 2.1 Copy number data\n",
    "\n",
    "Keep only primary tumor samples "
   ]
  },
  {
   "cell_type": "code",
   "execution_count": 8,
   "id": "inner-register",
   "metadata": {
    "execution": {
     "iopub.execute_input": "2023-01-26T09:46:52.340141Z",
     "iopub.status.busy": "2023-01-26T09:46:52.338964Z",
     "iopub.status.idle": "2023-01-26T09:46:52.397963Z",
     "shell.execute_reply": "2023-01-26T09:46:52.396623Z"
    }
   },
   "outputs": [],
   "source": [
    "tcga.cn = selectPrimaryT(tcga.cn)"
   ]
  },
  {
   "cell_type": "markdown",
   "id": "victorian-rendering",
   "metadata": {},
   "source": [
    "Drop out duplicate samples "
   ]
  },
  {
   "cell_type": "code",
   "execution_count": 9,
   "id": "weird-phoenix",
   "metadata": {
    "execution": {
     "iopub.execute_input": "2023-01-26T09:46:52.402001Z",
     "iopub.status.busy": "2023-01-26T09:46:52.400859Z",
     "iopub.status.idle": "2023-01-26T09:46:52.487373Z",
     "shell.execute_reply": "2023-01-26T09:46:52.486049Z"
    }
   },
   "outputs": [],
   "source": [
    "tcga.cn = dropDuplicateSamples(tcga.cn)"
   ]
  },
  {
   "cell_type": "markdown",
   "id": "sporting-tolerance",
   "metadata": {},
   "source": [
    "Prepare data matrix: "
   ]
  },
  {
   "cell_type": "code",
   "execution_count": 10,
   "id": "flush-thompson",
   "metadata": {
    "execution": {
     "iopub.execute_input": "2023-01-26T09:46:52.491353Z",
     "iopub.status.busy": "2023-01-26T09:46:52.490214Z",
     "iopub.status.idle": "2023-01-26T09:46:55.839120Z",
     "shell.execute_reply": "2023-01-26T09:46:55.837361Z"
    }
   },
   "outputs": [],
   "source": [
    "tcga.cn.datamat = prepareDataMatrix(tcga.cn)\n",
    "saveRDS(tcga.cn.datamat, file = file.path(out.dir.data, \"copy_number_status.rds\"))"
   ]
  },
  {
   "cell_type": "markdown",
   "id": "earlier-internet",
   "metadata": {},
   "source": [
    "## 2.2 Gene expression data \n",
    "\n",
    "Variance stabilizing transformation of the data was performed as suggested by the DESeq2 developers. "
   ]
  },
  {
   "cell_type": "code",
   "execution_count": 11,
   "id": "hawaiian-companion",
   "metadata": {
    "execution": {
     "iopub.execute_input": "2023-01-26T09:46:55.843582Z",
     "iopub.status.busy": "2023-01-26T09:46:55.842369Z",
     "iopub.status.idle": "2023-01-26T09:47:12.658601Z",
     "shell.execute_reply": "2023-01-26T09:47:12.657061Z"
    }
   },
   "outputs": [
    {
     "name": "stderr",
     "output_type": "stream",
     "text": [
      "converting counts to integer mode\n",
      "\n"
     ]
    }
   ],
   "source": [
    "# Store the raw data for future purposes \n",
    "tcga.expr$Raw = tcga.expr$Data\n",
    "\n",
    "# Perform variance stabilising transformation (VST)\n",
    "tcga.expr$Data = performVST(tcga.expr$Data)"
   ]
  },
  {
   "cell_type": "markdown",
   "id": "romance-realtor",
   "metadata": {},
   "source": [
    "Keep only the primary tumors "
   ]
  },
  {
   "cell_type": "code",
   "execution_count": 12,
   "id": "reflected-services",
   "metadata": {
    "execution": {
     "iopub.execute_input": "2023-01-26T09:47:12.662955Z",
     "iopub.status.busy": "2023-01-26T09:47:12.661783Z",
     "iopub.status.idle": "2023-01-26T09:47:12.962386Z",
     "shell.execute_reply": "2023-01-26T09:47:12.960746Z"
    }
   },
   "outputs": [],
   "source": [
    "tcga.expr = selectPrimaryT(tcga.expr)"
   ]
  },
  {
   "cell_type": "markdown",
   "id": "complicated-conducting",
   "metadata": {},
   "source": [
    "Drop duplicate samples "
   ]
  },
  {
   "cell_type": "code",
   "execution_count": 13,
   "id": "cardiovascular-market",
   "metadata": {
    "execution": {
     "iopub.execute_input": "2023-01-26T09:47:12.966776Z",
     "iopub.status.busy": "2023-01-26T09:47:12.965580Z",
     "iopub.status.idle": "2023-01-26T09:47:13.862584Z",
     "shell.execute_reply": "2023-01-26T09:47:13.860950Z"
    }
   },
   "outputs": [],
   "source": [
    "tcga.expr = dropDuplicateSamples(tcga.expr)"
   ]
  },
  {
   "cell_type": "markdown",
   "id": "atlantic-stockholm",
   "metadata": {},
   "source": [
    "Finally we prepare a data matrix"
   ]
  },
  {
   "cell_type": "code",
   "execution_count": 14,
   "id": "collectible-bathroom",
   "metadata": {
    "execution": {
     "iopub.execute_input": "2023-01-26T09:47:13.866958Z",
     "iopub.status.busy": "2023-01-26T09:47:13.865768Z",
     "iopub.status.idle": "2023-01-26T09:47:58.819639Z",
     "shell.execute_reply": "2023-01-26T09:47:58.817592Z"
    }
   },
   "outputs": [],
   "source": [
    "tcga.expr.raw.datamat = prepareDataMatrixRaw(tcga.expr)\n",
    "tcga.expr.datamat = prepareDataMatrix(tcga.expr)"
   ]
  },
  {
   "cell_type": "code",
   "execution_count": 15,
   "id": "sunrise-calculation",
   "metadata": {
    "execution": {
     "iopub.execute_input": "2023-01-26T09:47:58.826730Z",
     "iopub.status.busy": "2023-01-26T09:47:58.825367Z",
     "iopub.status.idle": "2023-01-26T09:48:08.121818Z",
     "shell.execute_reply": "2023-01-26T09:48:08.119989Z"
    },
    "lines_to_next_cell": 2
   },
   "outputs": [],
   "source": [
    "saveRDS(tcga.expr.raw.datamat, \n",
    "        file = file.path(out.dir.data, \"raw_expressions.rds\"))"
   ]
  },
  {
   "cell_type": "markdown",
   "id": "appreciated-civilian",
   "metadata": {},
   "source": [
    "## 2.3 Merging all data \n",
    "\n",
    "Merge all the different data types together. Takes the clinical data as \n",
    "a separate argument and the sequencing data as a list of data matrices.\n",
    "Suffixes are added based on user given vector which correspond to the \n",
    "order in which datamatrices are in the data list."
   ]
  },
  {
   "cell_type": "code",
   "execution_count": 16,
   "id": "artificial-gothic",
   "metadata": {
    "execution": {
     "iopub.execute_input": "2023-01-26T09:48:08.126816Z",
     "iopub.status.busy": "2023-01-26T09:48:08.125433Z",
     "iopub.status.idle": "2023-01-26T09:49:05.255053Z",
     "shell.execute_reply": "2023-01-26T09:49:05.253406Z"
    },
    "lines_to_next_cell": 2
   },
   "outputs": [],
   "source": [
    "tcga.dataset = mergeTCGAdata(clin.data = tcga.clin,\n",
    "                                  data = list(tcga.cn.datamat, \n",
    "                                              tcga.expr.datamat), \n",
    "                                  data.suffixes = c(\"cn\",\"exp\"))"
   ]
  },
  {
   "cell_type": "code",
   "execution_count": 17,
   "id": "optimum-omega",
   "metadata": {
    "execution": {
     "iopub.execute_input": "2023-01-26T09:49:05.262000Z",
     "iopub.status.busy": "2023-01-26T09:49:05.260824Z",
     "iopub.status.idle": "2023-01-26T09:49:10.670360Z",
     "shell.execute_reply": "2023-01-26T09:49:10.668745Z"
    }
   },
   "outputs": [],
   "source": [
    "saveRDS(tcga.dataset, file = file.path(out.dir.data, \"tcga.dataset.rds\"))"
   ]
  },
  {
   "cell_type": "markdown",
   "id": "laden-throat",
   "metadata": {},
   "source": [
    "# 3. KM based univariate feature selection\n",
    "\n",
    "We will now perform the univariate feature selection which is the first phase of \n",
    "the actual analysis. The idea is to prefilter some features which have no predictive \n",
    "power regarding survival. We will select one clinical end point which seems to carry \n",
    "most events to maximise the statistical power. "
   ]
  },
  {
   "cell_type": "markdown",
   "id": "partial-renewal",
   "metadata": {},
   "source": [
    "## 3.1 Loading data and selection of variables \n",
    "\n",
    "Load the dataset if needed"
   ]
  },
  {
   "cell_type": "code",
   "execution_count": 18,
   "id": "beautiful-marker",
   "metadata": {
    "execution": {
     "iopub.execute_input": "2023-01-26T09:49:10.674818Z",
     "iopub.status.busy": "2023-01-26T09:49:10.673644Z",
     "iopub.status.idle": "2023-01-26T09:49:12.434776Z",
     "shell.execute_reply": "2023-01-26T09:49:12.433336Z"
    }
   },
   "outputs": [],
   "source": [
    "# Read in the preprocessed dataset if continued \n",
    "tcga.dataset = readRDS(file.path(out.dir.data, \"tcga.dataset.rds\"))\n",
    "\n",
    "# Raw expression data \n",
    "tcga.expr.raw.datamat = readRDS(file.path(out.dir.data, \"raw_expressions.rds\"))"
   ]
  },
  {
   "cell_type": "markdown",
   "id": "collaborative-capitol",
   "metadata": {},
   "source": [
    "Define and create output directories "
   ]
  },
  {
   "cell_type": "code",
   "execution_count": 19,
   "id": "upset-remedy",
   "metadata": {
    "execution": {
     "iopub.execute_input": "2023-01-26T09:49:12.438948Z",
     "iopub.status.busy": "2023-01-26T09:49:12.437807Z",
     "iopub.status.idle": "2023-01-26T09:49:12.452803Z",
     "shell.execute_reply": "2023-01-26T09:49:12.451493Z"
    },
    "lines_to_next_cell": 2
   },
   "outputs": [],
   "source": [
    "# Define and create the root directory for results \n",
    "dir.res.root = file.path(\"/workstation/project_results/landstrom_core/prognostic_model_development/models_by_cancer_type/\", cancer.type)\n",
    "dir.create(dir.res.root, recursive = T)\n",
    "\n",
    "# Define and create the results for the KM analysis \n",
    "dir.res.km = file.path(dir.res.root, \"Kaplan_Meier_plots\")\n",
    "dir.create(dir.res.km)"
   ]
  },
  {
   "cell_type": "markdown",
   "id": "excessive-nudist",
   "metadata": {},
   "source": [
    "Read in the gene list of interest including the customer genes"
   ]
  },
  {
   "cell_type": "code",
   "execution_count": 20,
   "id": "happy-consumption",
   "metadata": {
    "execution": {
     "iopub.execute_input": "2023-01-26T09:49:12.456731Z",
     "iopub.status.busy": "2023-01-26T09:49:12.455607Z",
     "iopub.status.idle": "2023-01-26T09:49:12.467253Z",
     "shell.execute_reply": "2023-01-26T09:49:12.465957Z"
    }
   },
   "outputs": [],
   "source": [
    "# Gene list  \n",
    "gene.list.file = read.table(\"/workstation/project_data/landstrom_core/Customer_genes.tsv\", \n",
    "                            sep = \"\\t\", header = F)\n",
    "gene.list = gene.list.file$V1"
   ]
  },
  {
   "cell_type": "markdown",
   "id": "universal-result",
   "metadata": {},
   "source": [
    "Tabulate the number of events. Value 0 means sensored and value 1 an event."
   ]
  },
  {
   "cell_type": "code",
   "execution_count": 21,
   "id": "boring-fundamentals",
   "metadata": {
    "execution": {
     "iopub.execute_input": "2023-01-26T09:49:12.471204Z",
     "iopub.status.busy": "2023-01-26T09:49:12.470075Z",
     "iopub.status.idle": "2023-01-26T09:49:12.745622Z",
     "shell.execute_reply": "2023-01-26T09:49:12.744163Z"
    }
   },
   "outputs": [
    {
     "name": "stderr",
     "output_type": "stream",
     "text": [
      "\u001b[1m\u001b[22m`summarise()` has grouped output by 'name'. You can override using the `.groups` argument.\n"
     ]
    }
   ],
   "source": [
    "clinical.end.point.stats = tcga.dataset %>% \n",
    "                                   dplyr::select(c(\"OS.clin\",\"DSS.clin\",\"DFI.clin\",\"PFI.clin\")) %>%\n",
    "                                   pivot_longer(everything()) %>%\n",
    "                                   mutate(value = factor(value)) %>%\n",
    "                                   group_by(name, value) %>%\n",
    "                                   summarise(N = n()) %>% \n",
    "                                   pivot_wider(names_from =  value,\n",
    "                                               values_from = N)"
   ]
  },
  {
   "cell_type": "code",
   "execution_count": 22,
   "id": "weighted-liberal",
   "metadata": {
    "execution": {
     "iopub.execute_input": "2023-01-26T09:49:12.749688Z",
     "iopub.status.busy": "2023-01-26T09:49:12.748512Z",
     "iopub.status.idle": "2023-01-26T09:49:12.768218Z",
     "shell.execute_reply": "2023-01-26T09:49:12.766786Z"
    }
   },
   "outputs": [
    {
     "data": {
      "text/html": [
       "<table class=\"dataframe\">\n",
       "<caption>A grouped_df: 4 × 4</caption>\n",
       "<thead>\n",
       "\t<tr><th scope=col>name</th><th scope=col>0</th><th scope=col>1</th><th scope=col>NA</th></tr>\n",
       "\t<tr><th scope=col>&lt;chr&gt;</th><th scope=col>&lt;int&gt;</th><th scope=col>&lt;int&gt;</th><th scope=col>&lt;int&gt;</th></tr>\n",
       "</thead>\n",
       "<tbody>\n",
       "\t<tr><td>DFI.clin</td><td>150</td><td>26</td><td>131</td></tr>\n",
       "\t<tr><td>DSS.clin</td><td>249</td><td>54</td><td>  4</td></tr>\n",
       "\t<tr><td>OS.clin </td><td>236</td><td>71</td><td> NA</td></tr>\n",
       "\t<tr><td>PFI.clin</td><td>236</td><td>71</td><td> NA</td></tr>\n",
       "</tbody>\n",
       "</table>\n"
      ],
      "text/latex": [
       "A grouped\\_df: 4 × 4\n",
       "\\begin{tabular}{llll}\n",
       " name & 0 & 1 & NA\\\\\n",
       " <chr> & <int> & <int> & <int>\\\\\n",
       "\\hline\n",
       "\t DFI.clin & 150 & 26 & 131\\\\\n",
       "\t DSS.clin & 249 & 54 &   4\\\\\n",
       "\t OS.clin  & 236 & 71 &  NA\\\\\n",
       "\t PFI.clin & 236 & 71 &  NA\\\\\n",
       "\\end{tabular}\n"
      ],
      "text/markdown": [
       "\n",
       "A grouped_df: 4 × 4\n",
       "\n",
       "| name &lt;chr&gt; | 0 &lt;int&gt; | 1 &lt;int&gt; | NA &lt;int&gt; |\n",
       "|---|---|---|---|\n",
       "| DFI.clin | 150 | 26 | 131 |\n",
       "| DSS.clin | 249 | 54 |   4 |\n",
       "| OS.clin  | 236 | 71 |  NA |\n",
       "| PFI.clin | 236 | 71 |  NA |\n",
       "\n"
      ],
      "text/plain": [
       "  name     0   1  NA \n",
       "1 DFI.clin 150 26 131\n",
       "2 DSS.clin 249 54   4\n",
       "3 OS.clin  236 71  NA\n",
       "4 PFI.clin 236 71  NA"
      ]
     },
     "metadata": {},
     "output_type": "display_data"
    }
   ],
   "source": [
    "clinical.end.point.stats"
   ]
  },
  {
   "cell_type": "markdown",
   "id": "daily-psychology",
   "metadata": {},
   "source": [
    "## 3.2 Splitting dataset into training and validation set"
   ]
  },
  {
   "cell_type": "markdown",
   "id": "pressed-atlantic",
   "metadata": {},
   "source": [
    "Here we change the original workflow such that we run the analysis for all clinical end points."
   ]
  },
  {
   "cell_type": "code",
   "execution_count": 23,
   "id": "civilian-delay",
   "metadata": {
    "execution": {
     "iopub.execute_input": "2023-01-26T09:49:12.772487Z",
     "iopub.status.busy": "2023-01-26T09:49:12.771298Z",
     "iopub.status.idle": "2023-01-26T09:49:12.785231Z",
     "shell.execute_reply": "2023-01-26T09:49:12.783879Z"
    }
   },
   "outputs": [],
   "source": [
    "# Here we store all the training and validation splits \n",
    "train_and_validation_ls = list()\n",
    "\n",
    "# Variables selected \n",
    "variables_selected_ls = list()\n",
    "\n",
    "# Number of samples in training and validation cohorts \n",
    "nsamples_step1_ls = list()"
   ]
  },
  {
   "cell_type": "code",
   "execution_count": 24,
   "id": "looking-allergy",
   "metadata": {
    "execution": {
     "iopub.execute_input": "2023-01-26T09:49:12.789194Z",
     "iopub.status.busy": "2023-01-26T09:49:12.788030Z",
     "iopub.status.idle": "2023-01-26T09:49:12.967680Z",
     "shell.execute_reply": "2023-01-26T09:49:12.966194Z"
    },
    "lines_to_next_cell": 0
   },
   "outputs": [
    {
     "name": "stdout",
     "output_type": "stream",
     "text": [
      "[1] \"Taking only complete cases\"\n",
      "[1] \"Including 292 cases out of 307 cases\"\n",
      "[1] \"Taking only complete cases\"\n",
      "[1] \"Including 288 cases out of 307 cases\"\n",
      "[1] \"Taking only complete cases\"\n",
      "[1] \"Including 168 cases out of 307 cases\"\n",
      "[1] \"Taking only complete cases\"\n",
      "[1] \"Including 292 cases out of 307 cases\"\n"
     ]
    }
   ],
   "source": [
    "for (end.point in c(\"OS\",\"DSS\",\"DFI\",\"PFI\")){\n",
    "\n",
    "    # Selected variables \n",
    "    variables.selected = selectVariables(clinical.endpoint = end.point, \n",
    "                                     gene.list = gene.list, \n",
    "                                     data.suffixes = c(\"cn\",\"exp\"))\n",
    "    variables_selected_ls[[end.point]] = variables.selected\n",
    "    \n",
    "    #Data set is split randomly into training and validation sets. Only complete cases \n",
    "    # are selected.\n",
    "    train_and_validation = splitCases(data = tcga.dataset, \n",
    "                                  split = 0.75, \n",
    "                                  only.complete = T,\n",
    "                                  variables = variables.selected, \n",
    "                                  seed = 42)\n",
    "    \n",
    "    # Update list\n",
    "    train_and_validation_ls[[end.point]] = train_and_validation \n",
    "    \n",
    "    \n",
    "    # Store number of  \n",
    "    nsamples.step1 = c(nrow(train_and_validation$train), nrow(train_and_validation$validation))\n",
    "    names(nsamples.step1) = c(\"ntrain.step1\", \"nvalid.step1\")\n",
    "    nsamples_step1_ls[[end.point]] = nsamples.step1\n",
    "}"
   ]
  },
  {
   "cell_type": "markdown",
   "id": "bacterial-symbol",
   "metadata": {},
   "source": [
    "## 3.3 Filtering step "
   ]
  },
  {
   "cell_type": "markdown",
   "id": "faced-hybrid",
   "metadata": {},
   "source": [
    "### 3.3.1 Calculate relevant statistics for the training set. \n",
    "\n",
    "We will calculate the following statistics for expression features based on the raw expression data : \n",
    "1. The fraction of individuals expressing the feature  \n",
    "2. Median expression of the feature\n",
    "3. Variance of the feature\n",
    "\n",
    "We will calculate the following statistics for copy number features \n",
    "1. Fraction of individuals with amplification \n",
    "2. Fraction of individuals with deletion\n",
    "3. Fraction of individuals with missing CN status \n",
    "4. Max value out of the fraction of individuals with amplification and deletions "
   ]
  },
  {
   "cell_type": "code",
   "execution_count": 25,
   "id": "nuclear-reservation",
   "metadata": {
    "execution": {
     "iopub.execute_input": "2023-01-26T09:49:12.972153Z",
     "iopub.status.busy": "2023-01-26T09:49:12.970934Z",
     "iopub.status.idle": "2023-01-26T09:49:13.477797Z",
     "shell.execute_reply": "2023-01-26T09:49:13.476073Z"
    }
   },
   "outputs": [],
   "source": [
    "# Store summary statistics \n",
    "summary.stats.ls = list()\n",
    "\n",
    "# Iterate over end points \n",
    "for (end.point in c(\"OS\",\"DSS\",\"DFI\",\"PFI\")){\n",
    "    \n",
    "    exp.summary.training = prepSummaryExp(x = train_and_validation$train, \n",
    "                                      raw.data = tcga.expr.raw.datamat,\n",
    "                                      variables = variables.selected, type = \"exp\")\n",
    "\n",
    "    cn.summary.training = prepSummaryCN(train_and_validation$train, variables = variables.selected, type = \"cn\")\n",
    "    \n",
    "    summary.stats.ls[[end.point]] = list(\"exp.summary.training\" = exp.summary.training,\n",
    "                                         \"cn.summary.training\" = cn.summary.training)\n",
    "}\n"
   ]
  },
  {
   "cell_type": "markdown",
   "id": "advanced-yield",
   "metadata": {},
   "source": [
    "### 3.3.2 Filter based on the calculated statistics\n",
    "\n",
    "We will set the filtering thresholds as follows : \n",
    "\n",
    "Expression features : \n",
    "\n",
    "1. Median expression must be greater than 20\n",
    "2. Fraction of individuals expressing feature must be greater than > 0.25\n",
    "\n",
    "CN features \n",
    "\n",
    "1. Maximum Fraction of individuals carrying either deletion or amplification must be at least 0.15\n"
   ]
  },
  {
   "cell_type": "code",
   "execution_count": 26,
   "id": "institutional-visiting",
   "metadata": {
    "execution": {
     "iopub.execute_input": "2023-01-26T09:49:13.482368Z",
     "iopub.status.busy": "2023-01-26T09:49:13.481181Z",
     "iopub.status.idle": "2023-01-26T09:49:13.586819Z",
     "shell.execute_reply": "2023-01-26T09:49:13.585404Z"
    }
   },
   "outputs": [],
   "source": [
    "# Store filtered variables \n",
    "variables.selected.filtered.ls = list()\n",
    "\n",
    "# Iterate over end points \n",
    "for (end.point in c(\"OS\",\"DSS\",\"DFI\",\"PFI\")){\n",
    "\n",
    "    exp.features.keep = summary.stats.ls[[end.point]]$exp.summary.training %>% \n",
    "                          filter(`Median expression` > 20, \n",
    "                                 `Fraction of zero expression` < 0.75)\n",
    "\n",
    "    cn.features.keep = summary.stats.ls[[end.point]]$cn.summary.training %>% \n",
    "                          filter(`Maximum fraction of aberrations` > 0.15) \n",
    "\n",
    "    # Update the summary tables \n",
    "    summary.stats.ls[[end.point]]$exp.summary.training$Selected = ifelse(summary.stats.ls[[end.point]]$exp.summary.training$name %in% exp.features.keep$name, \"Yes\", \"No\")\n",
    "    summary.stats.ls[[end.point]]$cn.summary.training$Selected = ifelse(summary.stats.ls[[end.point]]$cn.summary.training$name %in% cn.features.keep$name, \"Yes\", \"No\")\n",
    "\n",
    "    # Collect the variables into vector \n",
    "    variables.selected.filtered.ls[[end.point]] = filterFeatures(variables_selected_ls[[end.point]], exp.features.keep$name, type = \"exp\")\n",
    "    variables.selected.filtered.ls[[end.point]]= filterFeatures(variables_selected_ls[[end.point]], cn.features.keep$name, type = \"cn\")\n",
    "    \n",
    "}"
   ]
  },
  {
   "cell_type": "markdown",
   "id": "partial-spank",
   "metadata": {},
   "source": [
    "Final list of features"
   ]
  },
  {
   "cell_type": "markdown",
   "id": "experienced-authorization",
   "metadata": {},
   "source": [
    "## 3.4 Prepare univariate KM plots and logrank tests"
   ]
  },
  {
   "cell_type": "code",
   "execution_count": 27,
   "id": "editorial-acrobat",
   "metadata": {
    "execution": {
     "iopub.execute_input": "2023-01-26T09:49:13.591236Z",
     "iopub.status.busy": "2023-01-26T09:49:13.590050Z",
     "iopub.status.idle": "2023-01-26T09:50:22.046315Z",
     "shell.execute_reply": "2023-01-26T09:50:22.044723Z"
    }
   },
   "outputs": [
    {
     "name": "stdout",
     "output_type": "stream",
     "text": [
      "[1] \"skip\"\n",
      "[1] \"skip\"\n",
      "[1] \"skip\"\n",
      "[1] \"skip\"\n"
     ]
    }
   ],
   "source": [
    "# Store the KM tables \n",
    "km.pvalue.table.ls = list()\n",
    "\n",
    "# Store the significant features \n",
    "significant.features.ls = list()\n",
    "\n",
    "# Iterate over end points \n",
    "for (end.point in c(\"OS\",\"DSS\",\"DFI\",\"PFI\")){\n",
    "\n",
    "    # Create dir for plots \n",
    "    dir.create(file.path(dir.res.km, end.point))\n",
    "    \n",
    "    if (nrow(train_and_validation_ls[[end.point]]$train) > 0){\n",
    "    \n",
    "        # Run univariate KM\n",
    "        km.pvalue.table = runUnivariateKM(input.data = train_and_validation_ls[[end.point]], \n",
    "                                  variables = variables.selected.filtered.ls[[end.point]],\n",
    "                                  clinical.endpoint = end.point,\n",
    "                                  out.dir = file.path(dir.res.km, end.point),\n",
    "                                  plots = T)\n",
    "    \n",
    "    \n",
    "        # Sort the results based on the training p-value and write the results to output\n",
    "        km.pvalue.table = km.pvalue.table %>% dplyr::arrange(pvalues.training)\n",
    "        km.pvalue.table$Selected = ifelse(km.pvalue.table$pvalues.training < 0.05, \"Yes\", \"No\") \n",
    "        write.csv(km.pvalue.table, file.path(dir.res.km, paste0(end.point, \"_LogRank_pvalues.csv\")))\n",
    "    \n",
    "        km.pvalue.table.ls[[end.point]] = km.pvalue.table\n",
    "    \n",
    "        # Extract the significant features \n",
    "        significant.features = getSignificantFeatures(km.pvalue.table, pvalue.thresh = 0.05)\n",
    "\n",
    "        # Store \n",
    "        significant.features.ls[[end.point]] = significant.features\n",
    "        \n",
    "    } else {\n",
    "        significant.features.ls[[end.point]] = NULL\n",
    "    }\n",
    "}"
   ]
  },
  {
   "cell_type": "markdown",
   "id": "center-steering",
   "metadata": {},
   "source": [
    "# 4 Penalised cox regression without clinical variables \n",
    "\n",
    "Define path to output "
   ]
  },
  {
   "cell_type": "code",
   "execution_count": 28,
   "id": "spread-train",
   "metadata": {
    "execution": {
     "iopub.execute_input": "2023-01-26T09:50:22.054580Z",
     "iopub.status.busy": "2023-01-26T09:50:22.053344Z",
     "iopub.status.idle": "2023-01-26T09:50:22.066454Z",
     "shell.execute_reply": "2023-01-26T09:50:22.065068Z"
    }
   },
   "outputs": [],
   "source": [
    "dir.res.pcox = file.path(dir.res.root, \"Penalized_Cox_risk_prediction/customer_features/Without_clinical_features\")\n",
    "dir.create(dir.res.pcox, recursive = T)"
   ]
  },
  {
   "cell_type": "code",
   "execution_count": 29,
   "id": "different-feedback",
   "metadata": {
    "execution": {
     "iopub.execute_input": "2023-01-26T09:50:22.070480Z",
     "iopub.status.busy": "2023-01-26T09:50:22.069296Z",
     "iopub.status.idle": "2023-01-26T09:50:22.079715Z",
     "shell.execute_reply": "2023-01-26T09:50:22.078375Z"
    }
   },
   "outputs": [],
   "source": [
    "# Helper function for fixing variable names \n",
    "fixVarNames = function(x){\n",
    "    if (str_detect(x, \"Gender\")) {\n",
    "        return(\"Gender\")\n",
    "    } else if (str_detect(x, \"Tumor.stage\")){\n",
    "        return(\"Tumor.stage\")\n",
    "    } else if (str_detect(x,\".cn\")){\n",
    "        return(str_extract(x, \"\\\\w+.cn\"))\n",
    "    } else if (str_detect(x, \"Gleason.group\")){ \n",
    "        return(\"Gleason.group\")\n",
    "    } else {\n",
    "        return(x)\n",
    "    }\n",
    "}"
   ]
  },
  {
   "cell_type": "markdown",
   "id": "forbidden-multiple",
   "metadata": {},
   "source": [
    "## 4.1 Splitting dataset into training and validation set"
   ]
  },
  {
   "cell_type": "code",
   "execution_count": 30,
   "id": "recent-motion",
   "metadata": {
    "execution": {
     "iopub.execute_input": "2023-01-26T09:50:22.084075Z",
     "iopub.status.busy": "2023-01-26T09:50:22.082768Z",
     "iopub.status.idle": "2023-01-26T09:50:22.095667Z",
     "shell.execute_reply": "2023-01-26T09:50:22.094231Z"
    }
   },
   "outputs": [],
   "source": [
    "# Here we store all the training and validation splits \n",
    "train_and_validation_ls = list()\n",
    "\n",
    "# Number of samples in training and validation cohorts \n",
    "nsamples_step2_ls_no_clin = list()"
   ]
  },
  {
   "cell_type": "code",
   "execution_count": 31,
   "id": "suspected-australia",
   "metadata": {
    "execution": {
     "iopub.execute_input": "2023-01-26T09:50:22.099892Z",
     "iopub.status.busy": "2023-01-26T09:50:22.098612Z",
     "iopub.status.idle": "2023-01-26T09:50:22.239732Z",
     "shell.execute_reply": "2023-01-26T09:50:22.238162Z"
    }
   },
   "outputs": [
    {
     "name": "stdout",
     "output_type": "stream",
     "text": [
      "[1] \"Taking only complete cases\"\n",
      "[1] \"Including 304 cases out of 307 cases\"\n",
      "[1] \"Taking only complete cases\"\n",
      "[1] \"Including 300 cases out of 307 cases\"\n",
      "[1] \"Taking only complete cases\"\n",
      "[1] \"Including 174 cases out of 307 cases\"\n",
      "[1] \"Taking only complete cases\"\n",
      "[1] \"Including 304 cases out of 307 cases\"\n"
     ]
    }
   ],
   "source": [
    "# Iterate over end points \n",
    "for (end.point in c(\"OS\",\"DSS\",\"DFI\",\"PFI\")){\n",
    "    \n",
    "    # We will first combine the significant.features with the outcome variables\n",
    "    # Final list of features \n",
    "    feature.ls = c(paste0(end.point, c(\".clin\",\".time.clin\")), significant.features.ls[[end.point]])\n",
    "    \n",
    "    if (is.null(significant.features.ls[[end.point]]) == F) {\n",
    "    \n",
    "        # Now we split the dataset into training and validation cohorts exactly as before.\n",
    "        train_and_validation = splitCases(data = tcga.dataset, \n",
    "                                  split = 0.75, \n",
    "                                  only.complete = T,\n",
    "                                  variables = feature.ls,\n",
    "                                  seed = 42)\n",
    "    \n",
    "        # Store \n",
    "        train_and_validation_ls[[end.point]] = train_and_validation\n",
    "    \n",
    "        # Store the number of samples       \n",
    "        nsamples.step2 = c(nrow(train_and_validation$train), nrow(train_and_validation$validation))\n",
    "    }    \n",
    "    else {\n",
    "    \n",
    "        # If there are now significant features store NULL\n",
    "        \n",
    "        # Store \n",
    "        train_and_validation_ls[[end.point]] = NULL\n",
    "        nsamples.step2 = c(NA, NA)\n",
    "    }\n",
    "        \n",
    "    names(nsamples.step2) = c(\"ntrain.step2\", \"nvalid.step2\")\n",
    "    nsamples_step2_ls_no_clin[[end.point]] = nsamples.step2\n",
    "}"
   ]
  },
  {
   "cell_type": "markdown",
   "id": "requested-buying",
   "metadata": {},
   "source": [
    "## 4.2 Find the optimal lambda \n",
    "\n",
    "Use 10-fold cross-validation (CV) for the Cox model for different values of lamda. C-index will be use to evaluate the models."
   ]
  },
  {
   "cell_type": "code",
   "execution_count": 32,
   "id": "surprised-chance",
   "metadata": {
    "execution": {
     "iopub.execute_input": "2023-01-26T09:50:22.244285Z",
     "iopub.status.busy": "2023-01-26T09:50:22.242990Z",
     "iopub.status.idle": "2023-01-26T09:50:22.258378Z",
     "shell.execute_reply": "2023-01-26T09:50:22.256956Z"
    }
   },
   "outputs": [],
   "source": [
    "# Store significant features \n",
    "rcox.res.no.clin.ls = list()\n",
    "\n",
    "# Store model matrices\n",
    "model.matrices.ls = list()\n",
    "\n",
    "# Store the fitted models for prediction \n",
    "pcox.fit.ls = list()"
   ]
  },
  {
   "cell_type": "code",
   "execution_count": 33,
   "id": "recent-detroit",
   "metadata": {
    "execution": {
     "iopub.execute_input": "2023-01-26T09:50:22.262635Z",
     "iopub.status.busy": "2023-01-26T09:50:22.261402Z",
     "iopub.status.idle": "2023-01-26T09:50:23.829637Z",
     "shell.execute_reply": "2023-01-26T09:50:23.827453Z"
    }
   },
   "outputs": [],
   "source": [
    "# Iterate over end points \n",
    "for (end.point in c(\"OS\",\"DSS\",\"DFI\",\"PFI\")){\n",
    "    \n",
    "    # Check the number of features\n",
    "    # Regulariation cannot be run if there is only one feature\n",
    "    num.feat = ncol(train_and_validation_ls[[end.point]]$train) - 2\n",
    "    \n",
    "    if (is.null(train_and_validation_ls[[end.point]]$train) == F){\n",
    "        if (num.feat > 1) {\n",
    "    \n",
    "            # Genereate model matrix \n",
    "            model.matrices = generateModelMatrices(train_and_validation_ls[[end.point]]$train, \n",
    "                             train_and_validation_ls[[end.point]]$validation, \n",
    "                             clinical.endpoint = end.point)\n",
    "        \n",
    "            model.matrices.ls[[end.point]] = model.matrices\n",
    "    \n",
    "            # Create output dir \n",
    "            dir.create(file.path(dir.res.pcox, end.point))\n",
    "    \n",
    "            # Find optimal lambda (hyperparameter for elastic net)\n",
    "            pcox.fit = findOptimalLambda(x = model.matrices$x.train.mat, \n",
    "                             y = model.matrices$y.train,\n",
    "                             out.dir = file.path(dir.res.pcox, end.point))\n",
    "        \n",
    "            pcox.fit.ls[[end.point]] = pcox.fit\n",
    "    \n",
    "            # Write the final features included in the model to a file \n",
    "            WriteXLS(pcox.fit$active.k.vals, \n",
    "             file.path(dir.res.pcox, end.point ,\"Active_covariates_in_lambda.min_model.xlsx\"), \n",
    "             BoldHeaderRow = T,\n",
    "             row.names = T)\n",
    "    \n",
    "            # Final significant features \n",
    "            rcox.res.no.clin = pcox.fit$active.k.vals %>% tibble::rownames_to_column(\"Feature\")\n",
    "            rcox.res.no.clin.ls[[end.point]] = rcox.res.no.clin  \n",
    "        } else {\n",
    "            # If no significant features from earlier steps for the clin. end point then store null\n",
    "            model.matrices.ls[[end.point]] = NULL\n",
    "            pcox.fit.ls[[end.point]] = NULL\n",
    "            rcox.res.no.clin.ls[[end.point]] = NULL\n",
    "        }\n",
    "\n",
    "    } else {\n",
    "        # If no significant features from earlier steps for the clin. end point then store null\n",
    "        model.matrices.ls[[end.point]] = NULL\n",
    "        pcox.fit.ls[[end.point]] = NULL\n",
    "        rcox.res.no.clin.ls[[end.point]] = NULL\n",
    "    }\n",
    "}"
   ]
  },
  {
   "cell_type": "markdown",
   "id": "controversial-tournament",
   "metadata": {},
   "source": [
    "## 4.3 Make predictions using the cross-validated model and heatmaps for visualisation\n",
    "\n",
    "## 4.3.1 Training set "
   ]
  },
  {
   "cell_type": "code",
   "execution_count": 34,
   "id": "guided-mayor",
   "metadata": {
    "execution": {
     "iopub.execute_input": "2023-01-26T09:50:23.834852Z",
     "iopub.status.busy": "2023-01-26T09:50:23.833375Z",
     "iopub.status.idle": "2023-01-26T09:50:23.846894Z",
     "shell.execute_reply": "2023-01-26T09:50:23.845310Z"
    }
   },
   "outputs": [],
   "source": [
    "# Store the result tables\n",
    "KM.train.by.risk.ls = list()"
   ]
  },
  {
   "cell_type": "code",
   "execution_count": 35,
   "id": "humanitarian-death",
   "metadata": {
    "execution": {
     "iopub.execute_input": "2023-01-26T09:50:23.851638Z",
     "iopub.status.busy": "2023-01-26T09:50:23.850168Z",
     "iopub.status.idle": "2023-01-26T09:50:25.889101Z",
     "shell.execute_reply": "2023-01-26T09:50:25.887265Z"
    }
   },
   "outputs": [],
   "source": [
    "# Iterate over end points \n",
    "for (end.point in c(\"OS\",\"DSS\",\"DFI\",\"PFI\")){\n",
    "    \n",
    "    if (!is.null(pcox.fit.ls[[end.point]])) {\n",
    "    \n",
    "        # Predictions for the training set\n",
    "        pred.train <- predict(pcox.fit.ls[[end.point]]$model, \n",
    "                      newx = model.matrices.ls[[end.point]]$x.train.mat, \n",
    "                      s = \"lambda.min\", \n",
    "                      type = \"response\")\n",
    "\n",
    "        # Fitted relative risk\n",
    "        rel.risk <- pred.train[,1] \n",
    "\n",
    "        # Stratify validation data into two groups based on the fitted relative risk\n",
    "        y.data <- as.data.frame(as.matrix(model.matrices.ls[[end.point]]$y.train))\n",
    "        \n",
    "        \n",
    "        # Plot KM and extract the p-value  \n",
    "        KM.train.by.risk = plotKMbyRelativeRisk(data = y.data, \n",
    "                                        rel.risk = rel.risk)\n",
    "        \n",
    "        if (!is.null(KM.train.by.risk)) {\n",
    "        \n",
    "            # Store\n",
    "            KM.train.by.risk.ls[[end.point]] =  KM.train.by.risk$table\n",
    "    \n",
    "            # Store the KM plot\n",
    "            pdf(file.path(dir.res.pcox, end.point ,\"glmnet_K-M_plot_with_training_data.pdf\"), \n",
    "                width = 15, height = 12, onefile = F)\n",
    "            print(KM.train.by.risk$Plot)\n",
    "            dev.off()\n",
    "    \n",
    "            # Heatmap preparation         \n",
    "    \n",
    "            # Variables to be selected \n",
    "            # Because Gender has been changed to a dummy variable its name has been changed\n",
    "            variables.selected = map_chr(rcox.res.no.clin.ls[[end.point]]$Feature, fixVarNames)\n",
    "    \n",
    "            # Get all input variables\n",
    "            heatmap.input.train = model.matrices.ls[[end.point]]$x.train %>% dplyr::select(all_of(variables.selected))\n",
    "    \n",
    "            # Heatmap of training data predictions\n",
    "            hmap.train <- prepareHeatmap(heatmap.input.train, y.data, pred.train, file.path(dir.res.pcox, end.point), \"glmnet_training\", row.height = 8) \n",
    "        \n",
    "        } else {\n",
    "            KM.train.by.risk.ls[[end.point]] = NULL\n",
    "        }\n",
    "        \n",
    "    } else {\n",
    "        KM.train.by.risk.ls[[end.point]] = NULL\n",
    "    }\n",
    "}"
   ]
  },
  {
   "cell_type": "markdown",
   "id": "mature-speaking",
   "metadata": {},
   "source": [
    "## 4.3.2 Validation set"
   ]
  },
  {
   "cell_type": "code",
   "execution_count": 36,
   "id": "educated-pharmaceutical",
   "metadata": {
    "execution": {
     "iopub.execute_input": "2023-01-26T09:50:25.894404Z",
     "iopub.status.busy": "2023-01-26T09:50:25.893016Z",
     "iopub.status.idle": "2023-01-26T09:50:25.905143Z",
     "shell.execute_reply": "2023-01-26T09:50:25.903533Z"
    }
   },
   "outputs": [],
   "source": [
    "# Store the result tables\n",
    "KM.valid.by.risk.ls = list()"
   ]
  },
  {
   "cell_type": "code",
   "execution_count": 37,
   "id": "three-clark",
   "metadata": {
    "execution": {
     "iopub.execute_input": "2023-01-26T09:50:25.909863Z",
     "iopub.status.busy": "2023-01-26T09:50:25.908409Z",
     "iopub.status.idle": "2023-01-26T09:50:29.555388Z",
     "shell.execute_reply": "2023-01-26T09:50:29.553666Z"
    }
   },
   "outputs": [],
   "source": [
    "# Iterate over end points \n",
    "for (end.point in c(\"OS\",\"DSS\",\"DFI\",\"PFI\")){\n",
    "    \n",
    "    if (!is.null(pcox.fit.ls[[end.point]])) {\n",
    "    \n",
    "        # Predictions for the training set\n",
    "        pred.valid <- predict(pcox.fit.ls[[end.point]]$model, \n",
    "                      newx = model.matrices.ls[[end.point]]$x.valid.mat, \n",
    "                      s = \"lambda.min\", \n",
    "                      type = \"response\")\n",
    "\n",
    "        # Fitted relative risk\n",
    "        rel.risk <- pred.valid[,1] \n",
    "\n",
    "        # Stratify validation data into two groups based on the fitted relative risk\n",
    "        y.data <- as.data.frame(as.matrix(model.matrices.ls[[end.point]]$y.valid))\n",
    "\n",
    "        # Plot KM and extract the p-value  \n",
    "        KM.valid.by.risk = plotKMbyRelativeRisk(data = y.data, \n",
    "                                        rel.risk = rel.risk)\n",
    "        \n",
    "        if (!is.null(KM.train.by.risk)) {\n",
    "        \n",
    "            # Store\n",
    "            KM.valid.by.risk.ls[[end.point]] =  KM.valid.by.risk$table\n",
    "    \n",
    "            # Store the KM plot\n",
    "            pdf(file.path(dir.res.pcox, end.point ,\"glmnet_K-M_plot_with_validation_data.pdf\"), \n",
    "            width = 15, height = 12, onefile = F)\n",
    "            print(KM.valid.by.risk$Plot)\n",
    "            dev.off()\n",
    "    \n",
    "            # Heatmap preparation \n",
    "    \n",
    "            # Variables to be selected \n",
    "            variables.selected = map_chr(rcox.res.no.clin.ls[[end.point]]$Feature, fixVarNames) \n",
    "    \n",
    "            # Get all input variables\n",
    "            heatmap.input.valid = model.matrices.ls[[end.point]]$x.valid %>% dplyr::select(all_of(variables.selected))\n",
    "    \n",
    "            # Heatmap of training data predictions\n",
    "            hmap.valid <- prepareHeatmap(heatmap.input.valid, y.data, pred.valid, file.path(dir.res.pcox, end.point), \"glmnet_validation\", row.height = 8)  \n",
    "        \n",
    "        } else {\n",
    "            KM.valid.by.risk.ls[[end.point]] = NULL\n",
    "        }\n",
    "        \n",
    "    } else {\n",
    "        KM.valid.by.risk.ls[[end.point]] = NULL\n",
    "    }\n",
    "}"
   ]
  },
  {
   "cell_type": "markdown",
   "id": "composite-poverty",
   "metadata": {},
   "source": [
    "Merge the two result tables into one "
   ]
  },
  {
   "cell_type": "code",
   "execution_count": 38,
   "id": "optional-winning",
   "metadata": {
    "execution": {
     "iopub.execute_input": "2023-01-26T09:50:29.559991Z",
     "iopub.status.busy": "2023-01-26T09:50:29.558787Z",
     "iopub.status.idle": "2023-01-26T09:50:29.571584Z",
     "shell.execute_reply": "2023-01-26T09:50:29.570219Z"
    }
   },
   "outputs": [],
   "source": [
    "KM.by.risk.no.clin.train = bind_rows(KM.train.by.risk.ls, .id = \"End point\")\n",
    "KM.by.risk.no.clin.valid = bind_rows(KM.valid.by.risk.ls, .id = \"End point\")"
   ]
  },
  {
   "cell_type": "code",
   "execution_count": 39,
   "id": "interpreted-bible",
   "metadata": {
    "execution": {
     "iopub.execute_input": "2023-01-26T09:50:29.575573Z",
     "iopub.status.busy": "2023-01-26T09:50:29.574384Z",
     "iopub.status.idle": "2023-01-26T09:50:29.587144Z",
     "shell.execute_reply": "2023-01-26T09:50:29.585805Z"
    }
   },
   "outputs": [],
   "source": [
    "# Store final resilts\n",
    "write.csv(KM.by.risk.no.clin.train, file.path(dir.res.pcox, \"Final_evaluation_results_training.csv\"), row.names = F)\n",
    "write.csv(KM.by.risk.no.clin.valid, file.path(dir.res.pcox, \"Final_evaluation_results_validation.csv\"),row.names = F)"
   ]
  },
  {
   "cell_type": "markdown",
   "id": "polyphonic-touch",
   "metadata": {},
   "source": [
    "# 5 Penalised cox regression with clinical variables\n",
    "\n",
    "In the case of CESC we will use Age and Gender.\n",
    "\n",
    "Define path to output "
   ]
  },
  {
   "cell_type": "code",
   "execution_count": 40,
   "id": "russian-familiar",
   "metadata": {
    "execution": {
     "iopub.execute_input": "2023-01-26T09:50:29.591204Z",
     "iopub.status.busy": "2023-01-26T09:50:29.590036Z",
     "iopub.status.idle": "2023-01-26T09:50:29.601317Z",
     "shell.execute_reply": "2023-01-26T09:50:29.599976Z"
    }
   },
   "outputs": [],
   "source": [
    "dir.res.pcox = file.path(dir.res.root, \"Penalized_Cox_risk_prediction/customer_features/With_clinical_features\")\n",
    "dir.create(dir.res.pcox, recursive = T)"
   ]
  },
  {
   "cell_type": "markdown",
   "id": "unnecessary-kitty",
   "metadata": {},
   "source": [
    "## 5.1 Preprocess clinical variables"
   ]
  },
  {
   "cell_type": "code",
   "execution_count": 41,
   "id": "sunrise-scene",
   "metadata": {
    "execution": {
     "iopub.execute_input": "2023-01-26T09:50:29.605408Z",
     "iopub.status.busy": "2023-01-26T09:50:29.604236Z",
     "iopub.status.idle": "2023-01-26T09:50:29.614638Z",
     "shell.execute_reply": "2023-01-26T09:50:29.613258Z"
    }
   },
   "outputs": [],
   "source": [
    "# Define function for adding the clinical variables \n",
    "addClinVar = function(data, clin.var) {\n",
    "    if (\"Age\" %in% clin.var) {\n",
    "        data$Age <- data$age_at_diagnosis.clin\n",
    "    } \n",
    "    if (\"Tumor.stage\" %in% clin.var){\n",
    "        data$Tumor.stage = factor(map_chr(data$ajcc_pathologic_stage.clin, reformatTumorStage))\n",
    "    }\n",
    "    if (\"Gender\" %in% clin.var){\n",
    "        data$Gender <- factor(data$gender.clin)    \n",
    "    } \n",
    "    if (\"Gleason.group\" %in% clin.var) {\n",
    "        \n",
    "        # Determine the Gleason group \n",
    "        data$Gleason.group = map2_chr(data$primary_gleason_grade.clin, \n",
    "                                           data$secondary_gleason_grade.clin, \n",
    "                                           determineGleasonGroup)\n",
    "\n",
    "        # Set up the factor levels \n",
    "        data$Gleason.group = factor(data$Gleason.group, \n",
    "                                    levels = c(\"Gleason group 1\", \"Gleason group 2\"))\n",
    "    }\n",
    "    return(data)\n",
    "}"
   ]
  },
  {
   "cell_type": "code",
   "execution_count": 42,
   "id": "political-recipe",
   "metadata": {
    "execution": {
     "iopub.execute_input": "2023-01-26T09:50:29.618549Z",
     "iopub.status.busy": "2023-01-26T09:50:29.617363Z",
     "iopub.status.idle": "2023-01-26T09:50:29.725610Z",
     "shell.execute_reply": "2023-01-26T09:50:29.724192Z"
    }
   },
   "outputs": [],
   "source": [
    "# Add clinical variables to dataset\n",
    "tcga.dataset = addClinVar(tcga.dataset, clin.var)"
   ]
  },
  {
   "cell_type": "markdown",
   "id": "complimentary-blood",
   "metadata": {},
   "source": [
    "## 5.2 Splitting dataset into training and validation set"
   ]
  },
  {
   "cell_type": "markdown",
   "id": "gross-immune",
   "metadata": {},
   "source": [
    "Generate the final feature ls "
   ]
  },
  {
   "cell_type": "code",
   "execution_count": 43,
   "id": "daily-kitchen",
   "metadata": {
    "execution": {
     "iopub.execute_input": "2023-01-26T09:50:29.729862Z",
     "iopub.status.busy": "2023-01-26T09:50:29.728669Z",
     "iopub.status.idle": "2023-01-26T09:50:29.740872Z",
     "shell.execute_reply": "2023-01-26T09:50:29.739520Z"
    }
   },
   "outputs": [],
   "source": [
    "# Here we store all the training and validation splits \n",
    "train_and_validation_ls = list()\n",
    "\n",
    "# Number of samples in training and validation cohorts \n",
    "nsamples_step2_ls_with_clin = list()"
   ]
  },
  {
   "cell_type": "code",
   "execution_count": 44,
   "id": "cellular-cover",
   "metadata": {
    "execution": {
     "iopub.execute_input": "2023-01-26T09:50:29.744836Z",
     "iopub.status.busy": "2023-01-26T09:50:29.743662Z",
     "iopub.status.idle": "2023-01-26T09:50:29.881675Z",
     "shell.execute_reply": "2023-01-26T09:50:29.880185Z"
    }
   },
   "outputs": [
    {
     "name": "stdout",
     "output_type": "stream",
     "text": [
      "[1] \"Taking only complete cases\"\n",
      "[1] \"Including 302 cases out of 307 cases\"\n",
      "[1] \"Taking only complete cases\"\n",
      "[1] \"Including 298 cases out of 307 cases\"\n",
      "[1] \"Taking only complete cases\"\n",
      "[1] \"Including 174 cases out of 307 cases\"\n",
      "[1] \"Taking only complete cases\"\n",
      "[1] \"Including 302 cases out of 307 cases\"\n"
     ]
    }
   ],
   "source": [
    "for (end.point in c(\"OS\",\"DSS\",\"DFI\",\"PFI\")){\n",
    "    \n",
    "    # We will first combine the significant.features with the outcome variables\n",
    "    # Final list of features \n",
    "    feature.ls = c(paste0(end.point, c(\".clin\",\".time.clin\")), clin.var, significant.features.ls[[end.point]])\n",
    "   \n",
    "    if (is.null(significant.features.ls[[end.point]]) == F) {\n",
    "    \n",
    "        # Now we split the dataset into training and validation cohorts exactly as before.\n",
    "        train_and_validation = splitCases(data = tcga.dataset, \n",
    "                                  split = 0.75, \n",
    "                                  only.complete = T,\n",
    "                                  variables = feature.ls,\n",
    "                                  seed = 42)\n",
    "    \n",
    "        # Store \n",
    "        train_and_validation_ls[[end.point]] = train_and_validation   \n",
    "        nsamples.step2 = c(nrow(train_and_validation$train), \n",
    "                           nrow(train_and_validation$validation))\n",
    "    }    \n",
    "    else {\n",
    "    \n",
    "        # If there are now significant features store NULL\n",
    "        \n",
    "        # Store \n",
    "        train_and_validation_ls[[end.point]] = NULL\n",
    "        nsamples.step2 = c(NA, NA)\n",
    "    }\n",
    "        \n",
    "    names(nsamples.step2) = c(\"ntrain.step2\", \"nvalid.step2\")\n",
    "    nsamples_step2_ls_with_clin[[end.point]] = nsamples.step2\n",
    "}"
   ]
  },
  {
   "cell_type": "markdown",
   "id": "inner-tenant",
   "metadata": {},
   "source": [
    "## 5.3 Find the optimal lambda \n",
    "\n",
    "Use 10-fold cross-validation (CV) for the Cox model for different values of lamda. C-index will be use to evaluate the models."
   ]
  },
  {
   "cell_type": "code",
   "execution_count": 45,
   "id": "grateful-maryland",
   "metadata": {
    "execution": {
     "iopub.execute_input": "2023-01-26T09:50:29.886070Z",
     "iopub.status.busy": "2023-01-26T09:50:29.884866Z",
     "iopub.status.idle": "2023-01-26T09:50:29.899461Z",
     "shell.execute_reply": "2023-01-26T09:50:29.898111Z"
    }
   },
   "outputs": [],
   "source": [
    "# Store significant features \n",
    "rcox.res.with.clin.ls = list()\n",
    "\n",
    "# Store model matrices\n",
    "model.matrices.ls = list()\n",
    "\n",
    "# Store the fitted models for prediction \n",
    "pcox.fit.ls = list()"
   ]
  },
  {
   "cell_type": "code",
   "execution_count": 46,
   "id": "vietnamese-recognition",
   "metadata": {
    "execution": {
     "iopub.execute_input": "2023-01-26T09:50:29.903531Z",
     "iopub.status.busy": "2023-01-26T09:50:29.902358Z",
     "iopub.status.idle": "2023-01-26T09:50:35.240600Z",
     "shell.execute_reply": "2023-01-26T09:50:35.238354Z"
    }
   },
   "outputs": [],
   "source": [
    "# Iterate over end points \n",
    "for (end.point in c(\"OS\",\"DSS\",\"DFI\",\"PFI\")){\n",
    "    \n",
    "    # Check the number of features\n",
    "    # Regulariation cannot be run if there is only one feature\n",
    "    num.feat = ncol(train_and_validation_ls[[end.point]]$train) - 2\n",
    "    \n",
    "    if (is.null(train_and_validation_ls[[end.point]]$train) == F){\n",
    "        if (num.feat > 1) {\n",
    "    \n",
    "            # Genereate model matrix \n",
    "            model.matrices = generateModelMatrices(train_and_validation_ls[[end.point]]$train, \n",
    "                             train_and_validation_ls[[end.point]]$validation, \n",
    "                             clinical.endpoint = end.point)\n",
    "        \n",
    "            model.matrices.ls[[end.point]] = model.matrices\n",
    "    \n",
    "            # Create output dir \n",
    "            dir.create(file.path(dir.res.pcox, end.point))\n",
    "    \n",
    "            # Find optimal lambda (hyperparameter for elastic net)\n",
    "            pcox.fit = findOptimalLambda(x = model.matrices$x.train.mat, \n",
    "                             y = model.matrices$y.train,\n",
    "                             out.dir = file.path(dir.res.pcox, end.point))\n",
    "        \n",
    "            pcox.fit.ls[[end.point]] = pcox.fit\n",
    "    \n",
    "            # Write the final features included in the model to a file \n",
    "            WriteXLS(pcox.fit$active.k.vals, \n",
    "             file.path(dir.res.pcox, end.point ,\"Active_covariates_in_lambda.min_model.xlsx\"), \n",
    "             BoldHeaderRow = T,\n",
    "             row.names = T)\n",
    "    \n",
    "            # Final significant features \n",
    "            rcox.res.with.clin = pcox.fit$active.k.vals %>% tibble::rownames_to_column(\"Feature\")\n",
    "            rcox.res.with.clin.ls[[end.point]] = rcox.res.with.clin  \n",
    "            \n",
    "        } else {\n",
    "            # If no significant features from earlier steps for the clin. end point then store null\n",
    "            model.matrices.ls[[end.point]] = NULL\n",
    "            pcox.fit.ls[[end.point]] = NULL\n",
    "            rcox.res.with.clin.ls[[end.point]] = NULL\n",
    "        }\n",
    "\n",
    "    } else {\n",
    "        # If no significant features from earlier steps for the clin. end point then store null\n",
    "        model.matrices.ls[[end.point]] = NULL\n",
    "        pcox.fit.ls[[end.point]] = NULL\n",
    "        rcox.res.with.clin.ls[[end.point]] = NULL\n",
    "    }\n",
    "}"
   ]
  },
  {
   "cell_type": "markdown",
   "id": "comic-antenna",
   "metadata": {},
   "source": [
    "## 5.4 Make predictions using the cross-validated model\n",
    "\n",
    "## 5.4.1 Training set "
   ]
  },
  {
   "cell_type": "code",
   "execution_count": 47,
   "id": "boolean-robinson",
   "metadata": {
    "execution": {
     "iopub.execute_input": "2023-01-26T09:50:35.246266Z",
     "iopub.status.busy": "2023-01-26T09:50:35.244624Z",
     "iopub.status.idle": "2023-01-26T09:50:35.262702Z",
     "shell.execute_reply": "2023-01-26T09:50:35.261061Z"
    }
   },
   "outputs": [],
   "source": [
    "# Store the result tables\n",
    "KM.train.by.risk.ls = list()\n",
    "C.index.train.ls = list()\n",
    "AUC.train.ls = list()"
   ]
  },
  {
   "cell_type": "code",
   "execution_count": 48,
   "id": "enhanced-reminder",
   "metadata": {
    "execution": {
     "iopub.execute_input": "2023-01-26T09:50:35.267335Z",
     "iopub.status.busy": "2023-01-26T09:50:35.265916Z",
     "iopub.status.idle": "2023-01-26T09:50:35.278415Z",
     "shell.execute_reply": "2023-01-26T09:50:35.276788Z"
    }
   },
   "outputs": [],
   "source": [
    "# Helper function for fixing variable names \n",
    "fixVarNames = function(x){\n",
    "    if (str_detect(x, \"Gender\")) {\n",
    "        return(\"Gender\")\n",
    "    } else if (str_detect(x, \"Tumor.stage\")){\n",
    "        return(\"Tumor.stage\")\n",
    "    } else if (str_detect(x,\".cn\")){\n",
    "        return(str_extract(x, \"\\\\w+.cn\"))\n",
    "    } else if (str_detect(x, \"Gleason.group\")){ \n",
    "        return(\"Gleason.group\")\n",
    "    } else {\n",
    "        return(x)\n",
    "    }\n",
    "}"
   ]
  },
  {
   "cell_type": "code",
   "execution_count": 49,
   "id": "metallic-afternoon",
   "metadata": {
    "execution": {
     "iopub.execute_input": "2023-01-26T09:50:35.283058Z",
     "iopub.status.busy": "2023-01-26T09:50:35.281625Z",
     "iopub.status.idle": "2023-01-26T09:50:35.294051Z",
     "shell.execute_reply": "2023-01-26T09:50:35.292448Z"
    }
   },
   "outputs": [],
   "source": [
    "# Calculate AUC\n",
    "calcAUC = function(pred.time, time, status, risk.score){\n",
    "    \n",
    "    # Calculate ROC characteristics\n",
    "    res.ROC = survivalROC(Stime = time,\n",
    "                          status = status,\n",
    "                          marker = risk.score,\n",
    "                          predict.time = pred.time,\n",
    "                          method  = \"KM\")\n",
    "    return(min(res.ROC$AUC,1))\n",
    "}"
   ]
  },
  {
   "cell_type": "code",
   "execution_count": 50,
   "id": "precious-police",
   "metadata": {
    "execution": {
     "iopub.execute_input": "2023-01-26T09:50:35.298713Z",
     "iopub.status.busy": "2023-01-26T09:50:35.297317Z",
     "iopub.status.idle": "2023-01-26T09:50:41.756249Z",
     "shell.execute_reply": "2023-01-26T09:50:41.754693Z"
    }
   },
   "outputs": [],
   "source": [
    "# Set seed \n",
    "set.seed(42)\n",
    "\n",
    "# Iterate over end points \n",
    "for (end.point in c(\"OS\",\"DSS\",\"DFI\",\"PFI\")){\n",
    "    \n",
    "    if (!is.null(pcox.fit.ls[[end.point]])) {\n",
    "    \n",
    "        # Predictions for the training set\n",
    "        pred.train <- predict(pcox.fit.ls[[end.point]]$model, \n",
    "                      newx = model.matrices.ls[[end.point]]$x.train.mat, \n",
    "                      s = \"lambda.min\", \n",
    "                      type = \"response\")\n",
    "\n",
    "        # Fitted relative risk\n",
    "        rel.risk <- pred.train[,1] \n",
    "        \n",
    "        # Calculate the C-index (NEW ADDITION )\n",
    "        c.index.train = Cindex(pred = pred.train, y = model.matrices.ls[[end.point]]$y.train) \n",
    "        C.index.train.ls[[end.point]] = c.index.train \n",
    "\n",
    "        # Stratify validation data into two groups based on the fitted relative risk\n",
    "        y.data <- as.data.frame(as.matrix(model.matrices.ls[[end.point]]$y.train))\n",
    "        \n",
    "        \n",
    "        # TEST new function for calculating the C-index\n",
    "        cindex.train = concordance.index(rel.risk, \n",
    "                                         y.data$time, \n",
    "                                         y.data$status,\n",
    "                                         na.rm = TRUE)\n",
    "        \n",
    "        C.index.train.ls[[end.point]] = data.frame(\"C-index\" = round(cindex.train$c.index, 4),\n",
    "                                          \"C-index CI\" = paste0(\"(\", round(cindex.train$lower, 4), \" - \",  \n",
    "                                                                round(cindex.train$upper, 4), \")\"),\n",
    "                                        check.names = F)\n",
    "        \n",
    "\n",
    "        # Plot KM and extract the p-value  \n",
    "        KM.train.by.risk = plotKMbyRelativeRisk(data = y.data, \n",
    "                                        rel.risk = rel.risk)\n",
    "        \n",
    "        \n",
    "        # Calculate AUCs \n",
    "        auc.vect = round(map_dbl(c(365, 3 * 365, 5 * 365), .f = calcAUC, \n",
    "                   time = y.data$time, status = y.data$status , risk.score = rel.risk), 4)\n",
    "        names(auc.vect) = c(\"AUC (1y)\", \"AUC (3y)\", \"AUC (5y)\")\n",
    "        \n",
    "        AUC.train.ls[[end.point]] = as.data.frame(t(data.frame(auc.vect)))\n",
    "    \n",
    "        if (!is.null(KM.train.by.risk)) {\n",
    "        \n",
    "            # Store\n",
    "            KM.train.by.risk.ls[[end.point]] =  KM.train.by.risk$table\n",
    "    \n",
    "            # Store the KM plot\n",
    "            pdf(file.path(dir.res.pcox, end.point ,\"glmnet_K-M_plot_with_training_data.pdf\"), \n",
    "                width = 15, height = 12, onefile = F)\n",
    "            print(KM.train.by.risk$Plot)\n",
    "            dev.off()\n",
    "    \n",
    "            # Heatmap preparation \n",
    "    \n",
    "            # Variables to be selected \n",
    "            # Because Gender has been changed to a dummy variable its name has been changed\n",
    "            variables.selected = map_chr(rcox.res.with.clin.ls[[end.point]]$Feature, fixVarNames)\n",
    "    \n",
    "            # Get all input variables\n",
    "            heatmap.input.train = model.matrices.ls[[end.point]]$x.train %>% dplyr::select(all_of(variables.selected))\n",
    "    \n",
    "            # Heatmap of training data predictions\n",
    "            hmap.train <- prepareHeatmap(heatmap.input.train, y.data, pred.train, file.path(dir.res.pcox, end.point), \"glmnet_training\", row.height = 8)\n",
    "            \n",
    "        } else {\n",
    "            KM.train.by.risk.ls[[end.point]] = NULL\n",
    "            C.index.train.ls[[end.point]] = NULL\n",
    "            AUC.train.ls[[end.point]] = NULL\n",
    "            \n",
    "        }\n",
    "    } else {\n",
    "        KM.train.by.risk.ls[[end.point]] = NULL\n",
    "        C.index.train.ls[[end.point]] = NULL\n",
    "        AUC.train.ls[[end.point]] = NULL\n",
    "    }\n",
    "}"
   ]
  },
  {
   "cell_type": "markdown",
   "id": "crazy-ratio",
   "metadata": {},
   "source": [
    "## 5.4.2 Validation set"
   ]
  },
  {
   "cell_type": "code",
   "execution_count": 51,
   "id": "greatest-grenada",
   "metadata": {
    "execution": {
     "iopub.execute_input": "2023-01-26T09:50:41.760671Z",
     "iopub.status.busy": "2023-01-26T09:50:41.759474Z",
     "iopub.status.idle": "2023-01-26T09:50:41.772921Z",
     "shell.execute_reply": "2023-01-26T09:50:41.771572Z"
    }
   },
   "outputs": [],
   "source": [
    "# Store the result tables\n",
    "KM.valid.by.risk.ls = list()\n",
    "C.index.valid.ls = list()\n",
    "AUC.valid.ls = list()"
   ]
  },
  {
   "cell_type": "code",
   "execution_count": 52,
   "id": "gross-cartridge",
   "metadata": {
    "execution": {
     "iopub.execute_input": "2023-01-26T09:50:41.777014Z",
     "iopub.status.busy": "2023-01-26T09:50:41.775822Z",
     "iopub.status.idle": "2023-01-26T09:50:45.560670Z",
     "shell.execute_reply": "2023-01-26T09:50:45.559131Z"
    }
   },
   "outputs": [],
   "source": [
    "# Set seed\n",
    "set.seed(42)\n",
    "\n",
    "# Iterate over end points \n",
    "for (end.point in c(\"OS\",\"DSS\",\"DFI\",\"PFI\")){\n",
    "    \n",
    "    if (!is.null(pcox.fit.ls[[end.point]])) {\n",
    "    \n",
    "        # Predictions for the validation set\n",
    "        pred.valid <- predict(pcox.fit.ls[[end.point]]$model, \n",
    "                      newx = model.matrices.ls[[end.point]]$x.valid.mat, \n",
    "                      s = \"lambda.min\", \n",
    "                      type = \"response\")\n",
    "\n",
    "        # Fitted relative risk\n",
    "        rel.risk <- pred.valid[,1] \n",
    "\n",
    "        # Stratify validation data into two groups based on the fitted relative risk\n",
    "        y.data <- as.data.frame(as.matrix(model.matrices.ls[[end.point]]$y.valid))\n",
    "        \n",
    "        \n",
    "        # TEST new function for calculating the C-index\n",
    "        cindex.valid = concordance.index(rel.risk, \n",
    "                                         y.data$time, \n",
    "                                         y.data$status,\n",
    "                                         na.rm = TRUE)\n",
    "        \n",
    "        C.index.valid.ls[[end.point]] = data.frame(\"C-index\" = round(cindex.valid$c.index, 4),\n",
    "                                          \"C-index CI\" = paste0(\"(\", round(cindex.valid$lower, 4), \" - \",  \n",
    "                                                                round(cindex.valid$upper, 4), \")\"),\n",
    "                                        check.names = F)\n",
    "        \n",
    "        # Plot KM and extract the p-value  \n",
    "        KM.valid.by.risk = plotKMbyRelativeRisk(data = y.data, \n",
    "                                        rel.risk = rel.risk)\n",
    "        \n",
    "        # Calculate AUCs \n",
    "        auc.vect = round(map_dbl(c(365, 3 * 365, 5 * 365), .f = calcAUC, \n",
    "                   time = y.data$time, status = y.data$status , risk.score = rel.risk),4)\n",
    "        \n",
    "        names(auc.vect) = c(\"AUC (1y)\", \"AUC (3y)\", \"AUC (5y)\")\n",
    "        \n",
    "        AUC.valid.ls[[end.point]] = as.data.frame(t(data.frame(auc.vect)))\n",
    "    \n",
    "        if (!is.null(KM.train.by.risk)) {\n",
    "            \n",
    "            # Store\n",
    "            KM.valid.by.risk.ls[[end.point]] =  KM.valid.by.risk$table\n",
    "    \n",
    "            # Store the KM plot\n",
    "            pdf(file.path(dir.res.pcox, end.point ,\"glmnet_K-M_plot_with_validation_data.pdf\"), \n",
    "                width = 15, height = 12, onefile = F)\n",
    "            print(KM.valid.by.risk$Plot)\n",
    "            dev.off()\n",
    "    \n",
    "            # Heatmap preparation \n",
    "    \n",
    "            # Variables to be selected \n",
    "            variables.selected = map_chr(rcox.res.with.clin.ls[[end.point]]$Feature, fixVarNames)\n",
    "    \n",
    "            # Get all input variables\n",
    "            heatmap.input.valid = model.matrices.ls[[end.point]]$x.valid %>% dplyr::select(all_of(variables.selected))\n",
    "    \n",
    "            # Heatmap of training data predictions\n",
    "            hmap.valid <- prepareHeatmap(heatmap.input.valid, y.data, pred.valid, file.path(dir.res.pcox, end.point), \"glmnet_validation\", row.height = 8)\n",
    "            \n",
    "        } else {\n",
    "            KM.valid.by.risk.ls[[end.point]] = NULL\n",
    "            C.index.valid.ls[[end.point]] = NULL\n",
    "            AUC.valid.ls[[end.point]] = NULL\n",
    "        }\n",
    "    } else {\n",
    "        KM.valid.by.risk.ls[[end.point]] = NULL\n",
    "        C.index.valid.ls[[end.point]] = NULL\n",
    "        AUC.valid.ls[[end.point]] = NULL\n",
    "    }\n",
    "}"
   ]
  },
  {
   "cell_type": "code",
   "execution_count": 53,
   "id": "indirect-defensive",
   "metadata": {
    "execution": {
     "iopub.execute_input": "2023-01-26T09:50:45.564893Z",
     "iopub.status.busy": "2023-01-26T09:50:45.563709Z",
     "iopub.status.idle": "2023-01-26T09:50:45.583962Z",
     "shell.execute_reply": "2023-01-26T09:50:45.582608Z"
    }
   },
   "outputs": [],
   "source": [
    "# Collect the results into a single data frame\n",
    "\n",
    "# Log-rank test results \n",
    "KM.by.risk.with.clin.train = bind_rows(KM.train.by.risk.ls, .id = \"End point\")\n",
    "KM.by.risk.with.clin.valid = bind_rows(KM.valid.by.risk.ls, .id = \"End point\")\n",
    "\n",
    "# C-indices\n",
    "C.index.train.df = bind_rows(C.index.train.ls , .id = \"End point\")\n",
    "C.index.valid.df = bind_rows(C.index.valid.ls , .id = \"End point\")\n",
    "\n",
    "# AUCs \n",
    "auc.train.df = bind_rows(AUC.train.ls, .id  = \"End point\") \n",
    "auc.valid.df = bind_rows(AUC.valid.ls, .id  = \"End point\")"
   ]
  },
  {
   "cell_type": "code",
   "execution_count": 54,
   "id": "bright-product",
   "metadata": {
    "execution": {
     "iopub.execute_input": "2023-01-26T09:50:45.587901Z",
     "iopub.status.busy": "2023-01-26T09:50:45.586743Z",
     "iopub.status.idle": "2023-01-26T09:50:45.606875Z",
     "shell.execute_reply": "2023-01-26T09:50:45.605537Z"
    }
   },
   "outputs": [],
   "source": [
    "# Store final resilts\n",
    "write.csv(KM.by.risk.with.clin.train, file.path(dir.res.pcox, \"Final_evaluation_results_training.csv\"), row.names = F)\n",
    "write.csv(KM.by.risk.with.clin.valid, file.path(dir.res.pcox, \"Final_evaluation_results_validation.csv\"),row.names = F)\n",
    "\n",
    "write.csv(C.index.train.df, file.path(dir.res.pcox, \"Final_evaluation_C_index_training.csv\"), row.names = F)\n",
    "write.csv(C.index.valid.df, file.path(dir.res.pcox, \"Final_evaluation_C_index_validation.csv\"), row.names = F)\n",
    "\n",
    "write.csv(auc.train.df, file.path(dir.res.pcox, \"Final_evaluation_AUC_training.csv\"), row.names = F)\n",
    "write.csv(auc.valid.df, file.path(dir.res.pcox, \"Final_evaluation_AUC_validation.csv\"), row.names = F)"
   ]
  },
  {
   "cell_type": "markdown",
   "id": "environmental-backup",
   "metadata": {},
   "source": [
    "# 6. For each clinical end point produce a reference model including only clinical variables "
   ]
  },
  {
   "cell_type": "code",
   "execution_count": 55,
   "id": "stupid-symbol",
   "metadata": {
    "execution": {
     "iopub.execute_input": "2023-01-26T09:50:45.610854Z",
     "iopub.status.busy": "2023-01-26T09:50:45.609709Z",
     "iopub.status.idle": "2023-01-26T09:50:45.620580Z",
     "shell.execute_reply": "2023-01-26T09:50:45.619271Z"
    }
   },
   "outputs": [],
   "source": [
    "dir.res.pcox = file.path(dir.res.root, \"Penalized_Cox_risk_prediction/customer_features/Only_clinical_features\")\n",
    "dir.create(dir.res.pcox, recursive = T)"
   ]
  },
  {
   "cell_type": "markdown",
   "id": "chronic-bumper",
   "metadata": {},
   "source": [
    "## 6.1 Splitting dataset into training and validation set"
   ]
  },
  {
   "cell_type": "code",
   "execution_count": 56,
   "id": "thorough-forward",
   "metadata": {
    "execution": {
     "iopub.execute_input": "2023-01-26T09:50:45.624546Z",
     "iopub.status.busy": "2023-01-26T09:50:45.623408Z",
     "iopub.status.idle": "2023-01-26T09:50:45.633243Z",
     "shell.execute_reply": "2023-01-26T09:50:45.631921Z"
    }
   },
   "outputs": [],
   "source": [
    "# x : training_and_validation data \n",
    "# rm : Keep the listed variables\n",
    "dropFeatures = function(x, rm){\n",
    "    x$train = dplyr::select(x$train, -all_of(rm))\n",
    "    x$validation = dplyr::select(x$validation, -all_of(rm))\n",
    "    return(x)\n",
    "}"
   ]
  },
  {
   "cell_type": "code",
   "execution_count": 57,
   "id": "governmental-table",
   "metadata": {
    "execution": {
     "iopub.execute_input": "2023-01-26T09:50:45.637105Z",
     "iopub.status.busy": "2023-01-26T09:50:45.635953Z",
     "iopub.status.idle": "2023-01-26T09:50:45.645661Z",
     "shell.execute_reply": "2023-01-26T09:50:45.644326Z"
    }
   },
   "outputs": [],
   "source": [
    "# Here we store all the training and validation splits \n",
    "train_and_validation_ref_ls = list()"
   ]
  },
  {
   "cell_type": "code",
   "execution_count": 58,
   "id": "reverse-mining",
   "metadata": {
    "execution": {
     "iopub.execute_input": "2023-01-26T09:50:45.668214Z",
     "iopub.status.busy": "2023-01-26T09:50:45.667030Z",
     "iopub.status.idle": "2023-01-26T09:50:45.807437Z",
     "shell.execute_reply": "2023-01-26T09:50:45.805984Z"
    }
   },
   "outputs": [
    {
     "name": "stdout",
     "output_type": "stream",
     "text": [
      "[1] \"Taking only complete cases\"\n",
      "[1] \"Including 302 cases out of 307 cases\"\n",
      "[1] \"Taking only complete cases\"\n",
      "[1] \"Including 298 cases out of 307 cases\"\n",
      "[1] \"Taking only complete cases\"\n",
      "[1] \"Including 174 cases out of 307 cases\"\n",
      "[1] \"Taking only complete cases\"\n",
      "[1] \"Including 302 cases out of 307 cases\"\n"
     ]
    }
   ],
   "source": [
    "# Iterate over end points \n",
    "for (end.point in c(\"OS\",\"DSS\",\"DFI\",\"PFI\")){\n",
    "\n",
    "    # We will first combine the significant.features with the outcome variables\n",
    "    # Final list of features \n",
    "    feature.ls = c(paste0(end.point, c(\".clin\",\".time.clin\")), clin.var, significant.features.ls[[end.point]])\n",
    "    \n",
    "    # Now we split the dataset into training and validation cohorts exactly as before.\n",
    "    train_and_validation.only.clin = splitCases(data = tcga.dataset, \n",
    "                                  split = 0.75, \n",
    "                                  only.complete = T,\n",
    "                                  variables = feature.ls,\n",
    "                                  seed = 42)\n",
    "    \n",
    "    # Remove gene-based features \n",
    "    train_and_validation_ref_ls[[end.point]] = dropFeatures(train_and_validation.only.clin, significant.features.ls[[end.point]])\n",
    "}"
   ]
  },
  {
   "cell_type": "markdown",
   "id": "competent-competition",
   "metadata": {},
   "source": [
    "For simplicity and to ensure that we will have a reference model we will apply conventional cox regression"
   ]
  },
  {
   "cell_type": "markdown",
   "id": "greek-paintball",
   "metadata": {},
   "source": [
    "## 6.2 Fit the model and check the proportionality assumptions"
   ]
  },
  {
   "cell_type": "code",
   "execution_count": 59,
   "id": "devoted-kentucky",
   "metadata": {
    "execution": {
     "iopub.execute_input": "2023-01-26T09:50:45.811833Z",
     "iopub.status.busy": "2023-01-26T09:50:45.810632Z",
     "iopub.status.idle": "2023-01-26T09:50:45.821130Z",
     "shell.execute_reply": "2023-01-26T09:50:45.819814Z"
    }
   },
   "outputs": [],
   "source": [
    "# Store COX models\n",
    "pcox.ref.fit.ls = list()"
   ]
  },
  {
   "cell_type": "code",
   "execution_count": 60,
   "id": "indian-cookbook",
   "metadata": {
    "execution": {
     "iopub.execute_input": "2023-01-26T09:50:45.825053Z",
     "iopub.status.busy": "2023-01-26T09:50:45.823909Z",
     "iopub.status.idle": "2023-01-26T09:50:45.834345Z",
     "shell.execute_reply": "2023-01-26T09:50:45.832920Z"
    }
   },
   "outputs": [],
   "source": [
    "# \n",
    "# Function fits a cox regression model\n",
    "# \n",
    "fitCoxModel = function(data, end.point, features){\n",
    "    \n",
    "    # Expand to variable name\n",
    "    end_point_time = paste0(end.point, \".time.clin\")\n",
    "    end_point_event = paste0(end.point, \".clin\")\n",
    "\n",
    "    # Generate a survival formula object \n",
    "    survExpression = paste0(\"Surv(\", end_point_time, \", \" , end_point_event, \")\")\n",
    "    f <- as.formula(paste(survExpression, paste(features, collapse = \" + \"), sep = \" ~ \"))\n",
    "    \n",
    "    model.fit = coxph(f, data = data)\n",
    "    return(model.fit)\n",
    "}"
   ]
  },
  {
   "cell_type": "code",
   "execution_count": 61,
   "id": "unavailable-shepherd",
   "metadata": {
    "execution": {
     "iopub.execute_input": "2023-01-26T09:50:45.838242Z",
     "iopub.status.busy": "2023-01-26T09:50:45.837089Z",
     "iopub.status.idle": "2023-01-26T09:50:45.925470Z",
     "shell.execute_reply": "2023-01-26T09:50:45.924078Z"
    }
   },
   "outputs": [
    {
     "name": "stdout",
     "output_type": "stream",
     "text": [
      "             OS.clin OS.time.clin   Age\n",
      "TCGA-C5-A3HE       0          548 16139\n",
      "TCGA-Q1-A73O       0          428 13601\n",
      "TCGA-R2-A69V       0          596 15479\n",
      "TCGA-DS-A1OC       0          376 17357\n",
      "TCGA-VS-A8QH       1         1210 27909\n",
      "TCGA-EK-A2R8       0           44 17692\n",
      "             DSS.clin DSS.time.clin   Age\n",
      "TCGA-C5-A3HE        0           548 16139\n",
      "TCGA-JX-A5QV        0           636 13667\n",
      "TCGA-R2-A69V        0           596 15479\n",
      "TCGA-EK-A2PL        0            13 13384\n",
      "TCGA-HM-A3JJ        1           659 14736\n",
      "TCGA-C5-A1M6        1           955 20090\n",
      "             DFI.clin DFI.time.clin   Age\n",
      "TCGA-VS-A9UI        0          1372 27838\n",
      "TCGA-DG-A2KL        0          1367 19539\n",
      "TCGA-VS-A94W        0          1243 14399\n",
      "TCGA-JX-A3Q0        0          6375 23313\n",
      "TCGA-EA-A3QD        0           397 21655\n",
      "TCGA-VS-A952        0          1778 24345\n",
      "             PFI.clin PFI.time.clin   Age\n",
      "TCGA-C5-A3HE        1           252 16139\n",
      "TCGA-Q1-A73O        0           428 13601\n",
      "TCGA-R2-A69V        0           596 15479\n",
      "TCGA-DS-A1OC        0           376 17357\n",
      "TCGA-VS-A8QH        1          1210 27909\n",
      "TCGA-EK-A2R8        0            44 17692\n"
     ]
    }
   ],
   "source": [
    "# Fit the models\n",
    "for (end.point in c(\"OS\",\"DSS\",\"DFI\",\"PFI\")){\n",
    "    print(head(train_and_validation_ref_ls[[end.point]]$train))\n",
    "    if (nrow(train_and_validation_ref_ls[[end.point]]$train) > 1) {\n",
    "        pcox.ref.fit.ls[[end.point]] = fitCoxModel(train_and_validation_ref_ls[[end.point]]$train, end.point, clin.var)\n",
    "    } else {\n",
    "        pcox.ref.fit.ls[[end.point]] = NULL\n",
    "    }\n",
    "}"
   ]
  },
  {
   "cell_type": "markdown",
   "id": "bizarre-cambodia",
   "metadata": {},
   "source": [
    "## 6.3 Make predictions with the full model"
   ]
  },
  {
   "cell_type": "markdown",
   "id": "excited-modem",
   "metadata": {},
   "source": [
    "### 6.3.1 Training set "
   ]
  },
  {
   "cell_type": "code",
   "execution_count": 62,
   "id": "tracked-russia",
   "metadata": {
    "execution": {
     "iopub.execute_input": "2023-01-26T09:50:45.929759Z",
     "iopub.status.busy": "2023-01-26T09:50:45.928585Z",
     "iopub.status.idle": "2023-01-26T09:50:45.941711Z",
     "shell.execute_reply": "2023-01-26T09:50:45.940322Z"
    }
   },
   "outputs": [],
   "source": [
    "# Store the result tables\n",
    "KM.train.ref.by.risk.ls = list()\n",
    "C.index.ref.train.ls = list()\n",
    "AUC.train.ref.ls = list()"
   ]
  },
  {
   "cell_type": "code",
   "execution_count": 63,
   "id": "changed-stevens",
   "metadata": {
    "execution": {
     "iopub.execute_input": "2023-01-26T09:50:45.945738Z",
     "iopub.status.busy": "2023-01-26T09:50:45.944549Z",
     "iopub.status.idle": "2023-01-26T09:50:47.642617Z",
     "shell.execute_reply": "2023-01-26T09:50:47.641053Z"
    }
   },
   "outputs": [],
   "source": [
    "# Iterate over end points \n",
    "for (end.point in c(\"OS\",\"DSS\",\"DFI\",\"PFI\")){\n",
    "    \n",
    "    if (is.null(pcox.ref.fit.ls[[end.point]]) != T) {\n",
    "    \n",
    "        # Apply model to predict the risk scores \n",
    "        rel.risk = predict(object = pcox.ref.fit.ls[[end.point]], \n",
    "               newdata = train_and_validation_ref_ls[[end.point]]$train[,clin.var, drop = F], \n",
    "               type = \"risk\")\n",
    "\n",
    "        # Stratify validation data into two groups based on the fitted relative risk\n",
    "        y.data <- train_and_validation_ref_ls[[end.point]]$train[paste0(end.point, c(\".clin\",\".time.clin\"))]\n",
    "        colnames(y.data) = c(\"status\",\"time\")\n",
    "    \n",
    "    \n",
    "        # TEST new function for calculating the C-index\n",
    "        cindex.ref.train = concordance.index(rel.risk, \n",
    "                                         y.data$time, \n",
    "                                         y.data$status,\n",
    "                                         na.rm = TRUE)\n",
    "        \n",
    "        C.index.ref.train.ls[[end.point]] = data.frame(\"C-index\" = round(cindex.ref.train$c.index, 4),\n",
    "                                   \"C-index CI\" = paste0(\"(\", round(cindex.ref.train$lower, 4), \" - \",  \n",
    "                                                         round(cindex.ref.train$upper, 4), \")\"), check.names = F)\n",
    "    \n",
    "        # Plot KM and extract the p-value  \n",
    "        KM.train.ref.by.risk = plotKMbyRelativeRisk(data = y.data, \n",
    "                                                                rel.risk = rel.risk)\n",
    "    \n",
    "        KM.train.ref.by.risk.ls[[end.point]] =  KM.train.ref.by.risk$table\n",
    "    \n",
    "        # Calculate AUCs \n",
    "        auc.vect = round(map_dbl(c(365, 3 * 365, 5 * 365), .f = calcAUC, \n",
    "                   time = y.data$time, status = y.data$status , risk.score = rel.risk),4)\n",
    "        \n",
    "        names(auc.vect) = c(\"AUC (1y)\", \"AUC (3y)\", \"AUC (5y)\")\n",
    "        \n",
    "        AUC.train.ref.ls[[end.point]] = as.data.frame(t(data.frame(auc.vect)))  \n",
    "    \n",
    "    } else {\n",
    "        \n",
    "        KM.train.ref.by.risk.ls[[end.point]] = NULL\n",
    "        C.index.ref.train.ls[[end.point]] = NULL\n",
    "        AUC.train.ref.ls[[end.point]] = NULL\n",
    "        \n",
    "    }    \n",
    "}"
   ]
  },
  {
   "cell_type": "markdown",
   "id": "designing-cinema",
   "metadata": {},
   "source": [
    "### 6.3.2 Validation set"
   ]
  },
  {
   "cell_type": "code",
   "execution_count": 64,
   "id": "express-wonder",
   "metadata": {
    "execution": {
     "iopub.execute_input": "2023-01-26T09:50:47.646965Z",
     "iopub.status.busy": "2023-01-26T09:50:47.645772Z",
     "iopub.status.idle": "2023-01-26T09:50:47.659259Z",
     "shell.execute_reply": "2023-01-26T09:50:47.657917Z"
    }
   },
   "outputs": [],
   "source": [
    "# Store the result tables\n",
    "KM.valid.ref.by.risk.ls = list()\n",
    "C.index.ref.valid.ls = list()\n",
    "AUC.valid.ref.ls = list()"
   ]
  },
  {
   "cell_type": "code",
   "execution_count": 65,
   "id": "welcome-vertex",
   "metadata": {
    "execution": {
     "iopub.execute_input": "2023-01-26T09:50:47.663201Z",
     "iopub.status.busy": "2023-01-26T09:50:47.662047Z",
     "iopub.status.idle": "2023-01-26T09:50:48.365835Z",
     "shell.execute_reply": "2023-01-26T09:50:48.364327Z"
    }
   },
   "outputs": [],
   "source": [
    "# Iterate over end points \n",
    "for (end.point in c(\"OS\",\"DSS\",\"DFI\",\"PFI\")){\n",
    "    \n",
    "    \n",
    "    if (is.null(pcox.ref.fit.ls[[end.point]]) != T) {\n",
    "    \n",
    "        # Apply model to predict the risk scores \n",
    "        rel.risk = predict(object = pcox.ref.fit.ls[[end.point]], \n",
    "               newdata = train_and_validation_ref_ls[[end.point]]$validation[,clin.var, drop = F], \n",
    "               type = \"risk\")\n",
    "    \n",
    "        # Stratify validation data into two groups based on the fitted relative risk\n",
    "        y.data <- train_and_validation_ref_ls[[end.point]]$validation[paste0(end.point, c(\".clin\",\".time.clin\"))]\n",
    "        colnames(y.data) = c(\"status\",\"time\")\n",
    "    \n",
    "    \n",
    "        # TEST new function for calculating the C-index\n",
    "        cindex.ref.valid = concordance.index(rel.risk, \n",
    "                                         y.data$time, \n",
    "                                         y.data$status,\n",
    "                                         na.rm = TRUE)\n",
    "        \n",
    "        C.index.ref.valid.ls[[end.point]] = data.frame(\"C-index\" = round(cindex.ref.valid$c.index, 4),\n",
    "                                                   \"C-index CI\" = paste0(\"(\", round(cindex.ref.valid$lower, 4), \" - \",  \n",
    "                                                         round(cindex.ref.valid$upper, 4), \")\"), check.names = F)\n",
    "    \n",
    "        # Plot KM and extract the p-value  \n",
    "        KM.valid.ref.by.risk = plotKMbyRelativeRisk(data = y.data, \n",
    "                                                rel.risk = rel.risk)\n",
    "    \n",
    "        KM.valid.ref.by.risk.ls[[end.point]] =  KM.valid.ref.by.risk$table\n",
    "    \n",
    "    \n",
    "        # Calculate AUCs \n",
    "        auc.vect = round(map_dbl(c(365, 3 * 365, 5 * 365), .f = calcAUC, \n",
    "                   time = y.data$time, status = y.data$status , risk.score = rel.risk),4)\n",
    "        \n",
    "        names(auc.vect) = c(\"AUC (1y)\", \"AUC (3y)\", \"AUC (5y)\")\n",
    "        \n",
    "        AUC.valid.ref.ls[[end.point]] = as.data.frame(t(data.frame(auc.vect)))\n",
    "        \n",
    "    } else {\n",
    "        \n",
    "        KM.valid.ref.by.risk.ls[[end.point]] = NULL\n",
    "        C.index.ref.valid.ls[[end.point]] = NULL\n",
    "        AUC.valid.ref.ls[[end.point]] = NULL\n",
    "    \n",
    "    }\n",
    "}"
   ]
  },
  {
   "cell_type": "code",
   "execution_count": 66,
   "id": "noticed-gravity",
   "metadata": {
    "execution": {
     "iopub.execute_input": "2023-01-26T09:50:48.370047Z",
     "iopub.status.busy": "2023-01-26T09:50:48.368871Z",
     "iopub.status.idle": "2023-01-26T09:50:48.388851Z",
     "shell.execute_reply": "2023-01-26T09:50:48.387507Z"
    }
   },
   "outputs": [],
   "source": [
    "# Collect the results into a single data frame\n",
    "\n",
    "# Log-rank test results \n",
    "KM.train.ref.by.risk.df = bind_rows(KM.train.ref.by.risk.ls, .id = \"End point\")\n",
    "KM.valid.ref.by.risk.df = bind_rows(KM.valid.ref.by.risk.ls, .id = \"End point\")\n",
    "\n",
    "# C-indices\n",
    "C.index.ref.train.df = bind_rows(C.index.ref.train.ls , .id = \"End point\")\n",
    "C.index.ref.valid.df = bind_rows(C.index.ref.valid.ls , .id = \"End point\")\n",
    "\n",
    "# AUCs \n",
    "auc.train.ref.df = bind_rows(AUC.train.ref.ls, .id  = \"End point\") \n",
    "auc.valid.ref.df = bind_rows(AUC.valid.ref.ls, .id  = \"End point\")"
   ]
  },
  {
   "cell_type": "code",
   "execution_count": 67,
   "id": "backed-composer",
   "metadata": {
    "execution": {
     "iopub.execute_input": "2023-01-26T09:50:48.392791Z",
     "iopub.status.busy": "2023-01-26T09:50:48.391641Z",
     "iopub.status.idle": "2023-01-26T09:50:48.411579Z",
     "shell.execute_reply": "2023-01-26T09:50:48.410267Z"
    }
   },
   "outputs": [],
   "source": [
    "# Store final resilts\n",
    "write.csv(KM.train.ref.by.risk.df, file.path(dir.res.pcox, \"Final_evaluation_results_training.csv\"), row.names = F)\n",
    "write.csv(KM.valid.ref.by.risk.df, file.path(dir.res.pcox, \"Final_evaluation_results_validation.csv\"),row.names = F)\n",
    "\n",
    "write.csv(C.index.ref.train.df, file.path(dir.res.pcox, \"Final_evaluation_C_index_training.csv\"), row.names = F)\n",
    "write.csv(C.index.ref.valid.df, file.path(dir.res.pcox, \"Final_evaluation_C_index_validation.csv\"), row.names = F)\n",
    "\n",
    "write.csv(auc.train.ref.df, file.path(dir.res.pcox, \"Final_evaluation_AUC_training.csv\"), row.names = F)\n",
    "write.csv(auc.valid.ref.df, file.path(dir.res.pcox, \"Final_evaluation_AUC_validation.csv\"), row.names = F)"
   ]
  },
  {
   "cell_type": "markdown",
   "id": "native-bronze",
   "metadata": {},
   "source": [
    "# 7. Collect the relevant results and statistics"
   ]
  },
  {
   "cell_type": "markdown",
   "id": "supposed-onion",
   "metadata": {},
   "source": [
    "What statistics and results we want to collect :\n",
    "\n",
    "1. Number of samples in training and validation set (Feature selection step 1) = ntrain.step1, nvalid.step1\n",
    "2. Clinical end point statistics (Indicate final selected end point) = clinical.end.point.stats\n",
    "3. Summary statistics for features (Indicate selected features for first feature selection) = exp.summary.training, cn.summary.training\n",
    "4. Results after first feature selection step 1 = km.pvalue.table\n",
    "5. Number of samples in training and validation set without clinical features (Feature selection step 2) = ntrain_step2.no.clin, nvalid.step2.no.clin\n",
    "6. Results after second feature selection step without clinical features = rcox.res.no.clin\n",
    "7. Final evaluation results with KM without clinical features = KM.by.risk.no.clin \n",
    "8. Number of samples in training and validation set without clinical features (Feature selection step 2) = ntrain_step2.with.clin, nvalid.step2.with.clin\n",
    "9. Results after second feature selection step without clinical features = rcox.res.with.clin\n",
    "10. Final evaluation results with KM with clinical features = KM.by.risk.with.clin "
   ]
  },
  {
   "cell_type": "code",
   "execution_count": 68,
   "id": "stunning-target",
   "metadata": {
    "execution": {
     "iopub.execute_input": "2023-01-26T09:50:48.415700Z",
     "iopub.status.busy": "2023-01-26T09:50:48.414570Z",
     "iopub.status.idle": "2023-01-26T09:50:48.424468Z",
     "shell.execute_reply": "2023-01-26T09:50:48.423157Z"
    }
   },
   "outputs": [],
   "source": [
    "# Collect into a list \n",
    "final.result.collection = list(\"FSS1_sample_summary\" = nsamples_step1_ls,\n",
    "                               \"Clinical_endpoint_stats\" = clinical.end.point.stats,\n",
    "                               \"Feature_summary_stats\" = summary.stats.ls,\n",
    "                               \"FSS1_results_summary\" = km.pvalue.table.ls,\n",
    "                               \"FSS2_sample_summary_no_clin\" = nsamples_step2_ls_no_clin,\n",
    "                               \"FSS2_regcox_res_no_clin\" = rcox.res.no.clin.ls,\n",
    "                               \"Final_res_KM_no_clin_train\" = KM.by.risk.no.clin.train,\n",
    "                               \"Final_res_KM_no_clin_valid\" = KM.by.risk.no.clin.valid,\n",
    "                               \"FSS2_sample_summary_with_clin\" = nsamples_step2_ls_with_clin,\n",
    "                               \"FSS2_regcox_res_with_clin\" = rcox.res.with.clin.ls,\n",
    "                               \"Final_res_KM_with_clin_train\" = KM.by.risk.with.clin.train,\n",
    "                               \"Final_res_KM_with_clin_valid\" = KM.by.risk.with.clin.valid,\n",
    "                               \"FSS2_sample_summary_only_clin\" = nsamples.step2,\n",
    "                               \"Final_res_KM_only_clin_train\" = KM.train.ref.by.risk.df,\n",
    "                               \"Final_res_KM_only_clin_valid\" = KM.valid.ref.by.risk.df)"
   ]
  },
  {
   "cell_type": "code",
   "execution_count": 69,
   "id": "framed-reporter",
   "metadata": {
    "execution": {
     "iopub.execute_input": "2023-01-26T09:50:48.504440Z",
     "iopub.status.busy": "2023-01-26T09:50:48.502691Z",
     "iopub.status.idle": "2023-01-26T09:50:48.515159Z",
     "shell.execute_reply": "2023-01-26T09:50:48.513832Z"
    }
   },
   "outputs": [],
   "source": [
    "saveRDS(final.result.collection, file.path(dir.res.root, \"Final_results_collection.rds\"))"
   ]
  },
  {
   "cell_type": "markdown",
   "id": "trying-component",
   "metadata": {},
   "source": [
    "# Session info"
   ]
  },
  {
   "cell_type": "code",
   "execution_count": 70,
   "id": "given-concrete",
   "metadata": {
    "execution": {
     "iopub.execute_input": "2023-01-26T09:50:48.519174Z",
     "iopub.status.busy": "2023-01-26T09:50:48.518028Z",
     "iopub.status.idle": "2023-01-26T09:50:48.570853Z",
     "shell.execute_reply": "2023-01-26T09:50:48.569493Z"
    }
   },
   "outputs": [
    {
     "data": {
      "text/plain": [
       "R version 4.1.3 (2022-03-10)\n",
       "Platform: x86_64-redhat-linux-gnu (64-bit)\n",
       "Running under: AlmaLinux 8.5 (Arctic Sphynx)\n",
       "\n",
       "Matrix products: default\n",
       "BLAS/LAPACK: /usr/lib64/libopenblas-r0.3.12.so\n",
       "\n",
       "locale:\n",
       " [1] LC_CTYPE=C.UTF-8           LC_NUMERIC=C              \n",
       " [3] LC_TIME=en_GB.UTF-8        LC_COLLATE=en_GB.UTF-8    \n",
       " [5] LC_MONETARY=en_GB.UTF-8    LC_MESSAGES=en_GB.UTF-8   \n",
       " [7] LC_PAPER=en_GB.UTF-8       LC_NAME=C                 \n",
       " [9] LC_ADDRESS=C               LC_TELEPHONE=C            \n",
       "[11] LC_MEASUREMENT=en_GB.UTF-8 LC_IDENTIFICATION=C       \n",
       "\n",
       "attached base packages:\n",
       " [1] stats4    parallel  grid      stats     graphics  grDevices utils    \n",
       " [8] datasets  methods   base     \n",
       "\n",
       "other attached packages:\n",
       " [1] DESeq2_1.34.0               SummarizedExperiment_1.24.0\n",
       " [3] Biobase_2.54.0              MatrixGenerics_1.6.0       \n",
       " [5] matrixStats_0.62.0          GenomicRanges_1.46.1       \n",
       " [7] GenomeInfoDb_1.30.1         IRanges_2.28.0             \n",
       " [9] S4Vectors_0.32.4            BiocGenerics_0.40.0        \n",
       "[11] biomaRt_2.50.3              survivalROC_1.0.3          \n",
       "[13] survcomp_1.44.1             prodlim_2019.11.13         \n",
       "[15] broom_0.8.0                 ComplexHeatmap_2.10.0      \n",
       "[17] circlize_0.4.14             ggfortify_0.4.14           \n",
       "[19] WriteXLS_6.4.0              glmnet_4.1-4               \n",
       "[21] Matrix_1.5-3                survminer_0.4.9            \n",
       "[23] ggpubr_0.4.0                survival_3.3-1             \n",
       "[25] forcats_0.5.1               stringr_1.4.0              \n",
       "[27] dplyr_1.0.9                 purrr_0.3.4                \n",
       "[29] readr_2.1.2                 tidyr_1.2.0                \n",
       "[31] tibble_3.1.7                tidyverse_1.3.1            \n",
       "[33] ggplot2_3.3.5              \n",
       "\n",
       "loaded via a namespace (and not attached):\n",
       "  [1] readxl_1.4.0           uuid_1.1-0             backports_1.4.1       \n",
       "  [4] BiocFileCache_2.2.1    repr_1.1.4             splines_4.1.3         \n",
       "  [7] BiocParallel_1.28.3    listenv_0.8.0          digest_0.6.29         \n",
       " [10] SuppDists_1.1-9.7      foreach_1.5.2          htmltools_0.5.2       \n",
       " [13] magick_2.7.3           fansi_1.0.3            magrittr_2.0.3        \n",
       " [16] memoise_2.0.1          cluster_2.1.3          doParallel_1.0.17     \n",
       " [19] tzdb_0.3.0             annotate_1.72.0        globals_0.15.0        \n",
       " [22] Biostrings_2.62.0      modelr_0.1.8           prettyunits_1.1.1     \n",
       " [25] colorspace_2.0-3       rappdirs_0.3.3         blob_1.2.3            \n",
       " [28] rvest_1.0.2            haven_2.5.0            xfun_0.30             \n",
       " [31] crayon_1.5.1           RCurl_1.98-1.6         jsonlite_1.8.0        \n",
       " [34] genefilter_1.76.0      zoo_1.8-10             iterators_1.0.14      \n",
       " [37] glue_1.6.2             gtable_0.3.0           zlibbioc_1.40.0       \n",
       " [40] XVector_0.34.0         DelayedArray_0.20.0    GetoptLong_1.0.5      \n",
       " [43] car_3.0-12             future.apply_1.9.0     shape_1.4.6           \n",
       " [46] abind_1.4-5            scales_1.2.0           DBI_1.1.2             \n",
       " [49] rstatix_0.7.0          Rcpp_1.0.8.3           gridtext_0.1.4        \n",
       " [52] progress_1.2.2         xtable_1.8-4           clue_0.3-60           \n",
       " [55] bit_4.0.4              km.ci_0.5-6            lava_1.6.10           \n",
       " [58] httr_1.4.3             RColorBrewer_1.1-3     ellipsis_0.3.2        \n",
       " [61] farver_2.1.0           pkgconfig_2.0.3        XML_3.99-0.9          \n",
       " [64] dbplyr_2.1.1           locfit_1.5-9.5         utf8_1.2.2            \n",
       " [67] labeling_0.4.2         tidyselect_1.1.2       rlang_1.0.2           \n",
       " [70] AnnotationDbi_1.56.2   munsell_0.5.0          cellranger_1.1.0      \n",
       " [73] tools_4.1.3            cachem_1.0.6           cli_3.3.0             \n",
       " [76] generics_0.1.2         RSQLite_2.2.12         evaluate_0.15         \n",
       " [79] fastmap_1.1.0          bootstrap_2019.6       knitr_1.39            \n",
       " [82] bit64_4.0.5            fs_1.5.2               survMisc_0.5.6        \n",
       " [85] KEGGREST_1.34.0        future_1.26.1          xml2_1.3.3            \n",
       " [88] compiler_4.1.3         rstudioapi_0.13        filelock_1.0.2        \n",
       " [91] curl_4.3.2             png_0.1-7              ggsignif_0.6.3        \n",
       " [94] reprex_2.0.1           geneplotter_1.72.0     stringi_1.7.6         \n",
       " [97] lattice_0.20-45        IRdisplay_1.1          markdown_1.1          \n",
       "[100] KMsurv_0.1-5           vctrs_0.4.1            pillar_1.7.0          \n",
       "[103] lifecycle_1.0.1        GlobalOptions_0.1.2    data.table_1.14.2     \n",
       "[106] bitops_1.0-7           R6_2.5.1               KernSmooth_2.23-20    \n",
       "[109] gridExtra_2.3          parallelly_1.32.0      codetools_0.2-18      \n",
       "[112] assertthat_0.2.1       rjson_0.2.21           withr_2.5.0           \n",
       "[115] GenomeInfoDbData_1.2.7 ggtext_0.1.1           hms_1.1.1             \n",
       "[118] IRkernel_1.3           carData_3.0-5          pbdZMQ_0.3-7          \n",
       "[121] getPass_0.2-2          lubridate_1.8.0        base64enc_0.1-3       \n",
       "[124] rmeta_3.0             "
      ]
     },
     "metadata": {},
     "output_type": "display_data"
    }
   ],
   "source": [
    "sessionInfo()"
   ]
  }
 ],
 "metadata": {
  "jupytext": {
   "cell_metadata_filter": "-all",
   "main_language": "R",
   "notebook_metadata_filter": "-all"
  },
  "kernelspec": {
   "display_name": "R 4.1.3",
   "language": "R",
   "name": "r4.1.3"
  },
  "language_info": {
   "codemirror_mode": "r",
   "file_extension": ".r",
   "mimetype": "text/x-r-source",
   "name": "R",
   "pygments_lexer": "r",
   "version": "4.1.3"
  }
 },
 "nbformat": 4,
 "nbformat_minor": 5
}
